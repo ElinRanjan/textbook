{
 "cells": [
  {
   "cell_type": "markdown",
   "id": "f256e873-3b44-4d1b-99f2-68b4ba206af0",
   "metadata": {},
   "source": [
    "# Hadamard Test\n",
    "\n",
    "## Overview\n",
    "\n",
    "- Type: Versatile quantum gadget and subroutine\n",
    "- Approachability: Easy\n",
    "- Prerequisites: Phase kickback\n",
    "- Postrequisites: Phase estimation\n",
    "\n",
    "The Hadamard test is a simple circuit for calculating the expectation value of a unitary operator. It takes advantage of phase kickback to encode the expectation value in the amplitudes of a single qubit auxiliary register. "
   ]
  },
  {
   "cell_type": "markdown",
   "id": "e5bbb2e7-67f1-47c3-b6b3-8d7f6b18264e",
   "metadata": {},
   "source": [
    "## Description\n",
    "\n",
    "### Pure state\n",
    "\n",
    "Let $ \\langle U \\rangle = \\langle \\psi \\vert U \\vert \\psi \\rangle$ be the expectation value of $U$ with respect to a pure state $\\vert \\psi \\rangle$. The algorithm proceeds by measuring the real and imaginary parts of $\\langle U \\rangle$ by inserting or removing a phase gate from the following circuit.\n",
    "\n",
    "**Place circuit here, include input state rho, controlled unitary CU, and single auxiliary qubit. Dashed box representing the phase gate**\n",
    "\n",
    "#### Real part\n",
    "\n",
    "After applying the circuit without a phase gate, prior to measurement, the resulting state is \n",
    "\n",
    "$$\n",
    "\\vert 0 \\rangle \\otimes \\frac{\\vert\\psi \\rangle + U \\vert \\psi \\rangle}{2} + \\vert 1 \\rangle \\otimes \\frac{\\vert\\psi\\rangle - U \\vert\\psi\\rangle}{2}.\n",
    "$$\n",
    "\n",
    "The probability $\\Pr(0)$ of measuring 'zero' in the first register is given by the Born rule.\n",
    "\n",
    "$$\n",
    "\\begin{aligned}\n",
    "\\Pr(0) &= \\frac14 (2 + \\langle U \\rangle + \\langle U^\\dagger \\rangle) \\\\\n",
    "&= \\frac{1 + \\mathrm{Re}\\langle U \\rangle}{2}\n",
    "\\end{aligned}\n",
    "$$\n",
    "\n",
    "Here $\\mathrm{Re}$ is the real part. Of course, $\\Pr(1) = 1- \\Pr(0)$. By measuring the circuit $N$ times, the probability $\\Pr(0)$, hence $\\mathrm{Re} \\langle U \\rangle$, can be measured to accuracy $O(1/\\sqrt{N})$. However, this is not the optimal approach. By using amplitude amplification instead of repeated measurements, a quadratic improvement can be obtained, boosting the accuracy to an optimal $O(1/N)$ known as the 'Heisenberg limit.' \n",
    "\n",
    "#### Imaginary part\n",
    "\n",
    "With the phase gate inserted, the final output prior to measurement acquires a factor of $i$ in front of the $U$.\n",
    "\n",
    "$$\n",
    "\\vert 0 \\rangle \\otimes \\frac{\\vert\\psi \\rangle + i U \\vert \\psi \\rangle}{2} + \\vert 1 \\rangle \\otimes \\frac{\\vert\\psi\\rangle - i U \\vert\\psi\\rangle}{2}.\n",
    "$$\n",
    "\n",
    "Now, the probability $\\Pr(0)$ of measuring 'zero' in the first register is given by\n",
    "\n",
    "$$\n",
    "\\begin{aligned}\n",
    "\\Pr(0) &= \\frac14 (2 + i\\langle U \\rangle -i \\langle U^\\dagger \\rangle) \\\\\n",
    "&= \\frac{1 - \\mathrm{Im}\\langle U \\rangle}{2}\n",
    "\\end{aligned}\n",
    "$$\n",
    "\n",
    "Thus, the imaginary part can be obtained in an entirely analogous manner: either through repeated measurements or amplitude amplification."
   ]
  },
  {
   "cell_type": "markdown",
   "id": "d78c29be-09be-448d-805c-3f706072300e",
   "metadata": {},
   "source": [
    "## Applications\n",
    "\n",
    "### Phase estimation\n",
    "\n",
    "Suppose the prepared state $\\vert \\psi \\rangle = \\vert u \\rangle$ is an eigenstate of $U$ with eigenvalue $e^{2\\pi i \\theta}$ for $\\theta \\in [0,1)$, so that $\\langle U \\rangle= e^{2\\pi i \\theta} = \\cos(2\\pi \\theta) + i \\sin(2\\pi \\theta)$. Prior to measurement, the Hadamard circuit without phase gate yields\n",
    "\n",
    "$$\n",
    "\\begin{aligned}\n",
    "\\left(\\frac{1 + e^{2\\pi i \\theta}}{2} \\vert 0 \\rangle + \\frac{1 - e^{2\\pi i \\theta}}{2} \\vert 1 \\rangle\\right) \\otimes \\vert u \\rangle.\n",
    "\\end{aligned}\n",
    "$$\n",
    "\n",
    "The amplitudes encode information about the phase $\\theta$, and any amplitude estimation technique can be used to learn $\\theta$. Below we consider the simple but suboptimal estimate via direct measurements. The probabilities are given by\n",
    "\n",
    "$$\n",
    "\\begin{aligned}\n",
    "    \\Pr(0) &= \\frac{1+\\mathrm{Re}\\langle U \\rangle}{2} = \\frac{1 + \\cos 2\\pi \\theta}{2} = \\cos^2(\\pi \\theta) \\\\\n",
    "    \\Pr(1) &= \\sin^2(\\pi\\theta).\n",
    "\\end{aligned}\n",
    "$$\n",
    "\n",
    "These probabilities determine $\\theta$ up to two possible values. The phase-gated Hadamard circuit resolves the ambiguity.\n",
    "\n",
    "$$\n",
    "\\begin{aligned}\n",
    "    \\Pr(0) &= \\frac{1-\\mathrm{Im}\\langle U \\rangle}{2} = \\frac{1 - \\sin 2\\pi \\theta}{2} = \\sin^2(\\pi \\vert\\theta- 1/4\\vert) \\\\\n",
    "    \\Pr(1) &= \\cos^2(\\pi \\vert\\theta- 1/4\\vert).\n",
    "\\end{aligned}\n",
    "$$\n",
    "\n",
    "### SWAP test for pure state fidelity\n",
    "\n"
   ]
  },
  {
   "cell_type": "markdown",
   "id": "29e9e2c7-a874-40bf-aa18-48fa49915436",
   "metadata": {},
   "source": [
    "## Mixed State Hadamard Test\n",
    "\n",
    "### Applications: Purity"
   ]
  },
  {
   "cell_type": "markdown",
   "id": "f9853498-92cc-4aec-9a16-4fc1e8030638",
   "metadata": {},
   "source": [
    "## Generalization: Block encoding\n",
    "\n",
    "When an operator $O$ is block-encoded in a unitary $U$ via $(\\langle B \\vert \\otimes I) U (\\vert B \\rangle \\otimes I) = O$, $\\langle O \\rangle = \\langle \\psi \\vert O \\vert \\psi \\rangle$ can be obtained provided $\\vert B \\rangle$ can be accurately and efficiently prepared."
   ]
  },
  {
   "cell_type": "code",
   "execution_count": null,
   "id": "72581a5d-90ea-49a0-80d7-1c06588c5acf",
   "metadata": {},
   "outputs": [],
   "source": []
  }
 ],
 "metadata": {
  "kernelspec": {
   "display_name": "Python 3 (ipykernel)",
   "language": "python",
   "name": "python3"
  },
  "language_info": {
   "codemirror_mode": {
    "name": "ipython",
    "version": 3
   },
   "file_extension": ".py",
   "mimetype": "text/x-python",
   "name": "python",
   "nbconvert_exporter": "python",
   "pygments_lexer": "ipython3",
   "version": "3.10.7"
  }
 },
 "nbformat": 4,
 "nbformat_minor": 5
}
