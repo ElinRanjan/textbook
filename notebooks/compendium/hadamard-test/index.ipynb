{
 "cells": [
  {
   "cell_type": "markdown",
   "id": "f256e873-3b44-4d1b-99f2-68b4ba206af0",
   "metadata": {},
   "source": [
    "# Hadamard Test\n",
    "\n",
    "## Overview\n",
    "\n",
    "- Type: Quantum gadget and subroutine\n",
    "- Approachability: Easy\n",
    "- Prerequisites: Phase kickback\n",
    "- Postrequisites: Phase estimation, Amplitude estimation\n",
    "\n",
    "The Hadamard test is a simple circuit for calculating the expectation value of a unitary operator. It takes advantage of phase kickback to encode the expectation value in the amplitudes of a single-qubit auxiliary register. "
   ]
  },
  {
   "cell_type": "markdown",
   "id": "e5bbb2e7-67f1-47c3-b6b3-8d7f6b18264e",
   "metadata": {},
   "source": [
    "## Description\n",
    "\n",
    "### Pure state\n",
    "\n",
    "Let $ \\langle U \\rangle = \\langle \\psi \\vert U \\vert \\psi \\rangle$ be the expectation value of $U$ with respect to a pure state $\\vert \\psi \\rangle$. The algorithm proceeds by measuring the real and imaginary parts of $\\langle U \\rangle$ by inserting or removing an $S$ gate from the following circuit.\n",
    "\n",
    "<center>\n",
    "<img src=Images/Hadamard_Basic.png>  \n",
    "</center>\n",
    "\n",
    "#### Real part\n",
    "\n",
    "After applying the circuit without a phase gate, prior to measurement, the resulting state is \n",
    "\n",
    "$$\n",
    "\\vert 0 \\rangle \\otimes \\frac{\\vert\\psi \\rangle + U \\vert \\psi \\rangle}{2} + \\vert 1 \\rangle \\otimes \\frac{\\vert\\psi\\rangle - U \\vert\\psi\\rangle}{2}.\n",
    "$$\n",
    "\n",
    "The probability $\\Pr(0)$ of measuring 'zero' in the first register is given by the Born rule.\n",
    "\n",
    "$$\n",
    "\\begin{aligned}\n",
    "\\Pr(0) &= \\frac14 (2 + \\langle U \\rangle + \\langle U^\\dagger \\rangle) \\\\\n",
    "&= \\frac{1 + \\mathrm{Re}\\langle U \\rangle}{2}\n",
    "\\end{aligned}\n",
    "$$\n",
    "\n",
    "Here $\\mathrm{Re}$ is the real part. Of course, $\\Pr(1) = 1- \\Pr(0)$. By measuring the circuit $N$ times, the probability $\\Pr(0)$, hence $\\mathrm{Re} \\langle U \\rangle$, can be measured to accuracy $O(1/\\sqrt{N})$. However, this is not the optimal approach. By using quantum amplitude estimation instead of repeated measurements, a quadratic improvement can be obtained, boosting the accuracy to an optimal $O(1/N)$ known as the 'Heisenberg limit.' \n",
    "\n",
    "#### Imaginary part\n",
    "\n",
    "With the $S$ gate inserted, the final output prior to measurement acquires a factor of $i$ in front of the $U$.\n",
    "\n",
    "$$\n",
    "\\vert 0 \\rangle \\otimes \\frac{\\vert\\psi \\rangle + i U \\vert \\psi \\rangle}{2} + \\vert 1 \\rangle \\otimes \\frac{\\vert\\psi\\rangle - i U \\vert\\psi\\rangle}{2}.\n",
    "$$\n",
    "\n",
    "Now, the probability $\\Pr(0)$ of measuring 'zero' in the first register is given by\n",
    "\n",
    "$$\n",
    "\\begin{aligned}\n",
    "\\Pr(0) &= \\frac14 (2 + i\\langle U \\rangle -i \\langle U^\\dagger \\rangle) \\\\\n",
    "&= \\frac{1 - \\mathrm{Im}\\langle U \\rangle}{2}\n",
    "\\end{aligned}\n",
    "$$\n",
    "\n",
    "Thus, the imaginary part can be obtained in an entirely analogous manner: either through repeated measurements or quantum amplitude estimation."
   ]
  },
  {
   "cell_type": "markdown",
   "id": "e6c3978c-8d2c-4589-acce-bf7794d89e30",
   "metadata": {},
   "source": [
    "## Qiskit implementation"
   ]
  },
  {
   "cell_type": "code",
   "execution_count": 27,
   "id": "46ac0d71-c374-4d68-ad45-9d0b5c3de9d3",
   "metadata": {
    "tags": []
   },
   "outputs": [
    {
     "data": {
      "image/png": "[encoded data removed]",
      "text/plain": [
       "<Figure size 554.753x367.889 with 1 Axes>"
      ]
     },
     "execution_count": 27,
     "metadata": {},
     "output_type": "execute_result"
    }
   ],
   "source": [
    "from qiskit import QuantumRegister, ClassicalRegister, QuantumCircuit\n",
    "from qiskit.circuit.library.standard_gates import SwapGate\n",
    "\n",
    "def Hadamard_circ(U, add_s_gate = False, measure = True):\n",
    "    \n",
    "    # Initialize registers and circuit\n",
    "    aux = QuantumRegister(1, 'aux')\n",
    "    main = QuantumRegister(U.num_qubits, 'q')\n",
    "    circuit = QuantumCircuit(aux, main)\n",
    "    \n",
    "    # construct controlled-U gate\n",
    "    cU = U.control(1)\n",
    "    \n",
    "    #Add gates to circuit\n",
    "    circuit.h(aux)\n",
    "    circuit.append(cU,aux[:] + main[:]) # <----- Weird hack to get the registers to work out.\n",
    "    if add_s_gate: circuit.s(aux)\n",
    "    circuit.h(aux)\n",
    "    \n",
    "    # Add measurement if option specified\n",
    "    if measure:\n",
    "        creg = ClassicalRegister(1, 'c')\n",
    "        circuit.add_register(creg)\n",
    "        circuit.measure(aux, creg)\n",
    "    \n",
    "    return circuit\n",
    "\n",
    "circuit = Hadamard_circ(SwapGate(), add_s_gate = True, measure = True)\n",
    "circuit.draw(output = 'mpl')"
   ]
  },
  {
   "cell_type": "markdown",
   "id": "d78c29be-09be-448d-805c-3f706072300e",
   "metadata": {},
   "source": [
    "## Applications\n",
    "\n",
    "### Phase estimation\n",
    "\n",
    "Suppose the prepared state $\\vert \\psi \\rangle = \\vert u \\rangle$ is an eigenstate of $U$ with eigenvalue $e^{2\\pi i \\theta}$ for $\\theta \\in [0,1)$, so that $\\langle U \\rangle= e^{2\\pi i \\theta} = \\cos(2\\pi \\theta) + i \\sin(2\\pi \\theta)$. Prior to measurement, the Hadamard circuit without phase gate yields\n",
    "\n",
    "$$\n",
    "\\begin{aligned}\n",
    "\\left(\\frac{1 + e^{2\\pi i \\theta}}{2} \\vert 0 \\rangle + \\frac{1 - e^{2\\pi i \\theta}}{2} \\vert 1 \\rangle\\right) \\otimes \\vert u \\rangle.\n",
    "\\end{aligned}\n",
    "$$\n",
    "\n",
    "The amplitudes encode information about the phase $\\theta$, and any amplitude estimation technique can be used to learn $\\theta$. Below we consider the simple but suboptimal estimate via direct measurements. The probabilities are given by\n",
    "\n",
    "$$\n",
    "\\begin{aligned}\n",
    "    \\Pr(0) &= \\frac{1+\\mathrm{Re}\\langle U \\rangle}{2} = \\frac{1 + \\cos 2\\pi \\theta}{2} = \\cos^2(\\pi \\theta) \\\\\n",
    "    \\Pr(1) &= \\sin^2(\\pi\\theta).\n",
    "\\end{aligned}\n",
    "$$\n",
    "\n",
    "These probabilities determine $\\theta$ up to two possible values. The phase-gated Hadamard circuit resolves the ambiguity.\n",
    "\n",
    "$$\n",
    "\\begin{aligned}\n",
    "    \\Pr(0) &= \\frac{1-\\mathrm{Im}\\langle U \\rangle}{2} = \\frac{1 - \\sin 2\\pi \\theta}{2} = \\sin^2(\\pi \\vert\\theta- 1/4\\vert) \\\\\n",
    "    \\Pr(1) &= \\cos^2(\\pi \\vert\\theta- 1/4\\vert).\n",
    "\\end{aligned}\n",
    "$$\n",
    "\n",
    "### SWAP test for pure state fidelity\n",
    "\n",
    "Let $U = \\mathrm{SWAP}$ and $\\vert \\psi\\rangle = \\vert \\phi\\rangle \\otimes \\vert \\chi\\rangle$. The Hadamard circuit takes the form \n",
    "\n",
    "<center>\n",
    "    <img src=Images/SWAP_pure.png>\n",
    "</center>\n",
    "\n",
    "No phase is needed since $\\langle \\mathrm{SWAP} \\rangle$ is real, due to the Hermiticity of $\\mathrm{SWAP}$. The expectation value is given by\n",
    "\n",
    "$$\n",
    "\\begin{aligned}\n",
    "\\langle\\phi\\vert \\langle\\chi\\vert \\,\\mathrm{SWAP}\\, \\vert\\phi\\rangle \\vert\\chi\\rangle &= \\langle\\phi\\vert\\chi\\rangle \\, \\langle\\chi\\vert\\phi\\rangle \\\\\n",
    "&= \\vert \\langle\\chi\\vert\\phi\\rangle\\vert^2 \\\\\n",
    "&\\equiv \\mathcal{F}(\\chi, \\phi)\n",
    "\\end{aligned}\n",
    "$$\n",
    "\n",
    "where $\\mathcal{F}$ is the fidelity. Thus, the $\\mathrm{SWAP}$ test computes the fidelity of two pure states. "
   ]
  },
  {
   "cell_type": "markdown",
   "id": "29e9e2c7-a874-40bf-aa18-48fa49915436",
   "metadata": {},
   "source": [
    "## Mixed State Hadamard Test\n",
    "\n",
    "In the general case of input state $\\rho$, possibly nonpure, the expressions for the output probabilities remain unchanged from those above, with the understanding that \n",
    "\n",
    "$$\n",
    "\\langle U \\rangle = \\mathrm{Tr}(\\rho U).\n",
    "$$\n",
    "\n",
    "However, the expression for the state prior to measurement is more complicated. \n",
    "\n",
    "### Applications: Measuring purity\n",
    "\n",
    "The SWAP test does not compute Fidelity for non pure states. However, it can compute the purity. Define the purity $w(\\rho) \\in [0,1]$ of a state $\\rho$ by \n",
    "\n",
    "$$\n",
    "w(\\rho) = \\mathrm{Tr}(\\rho^2).\n",
    "$$\n",
    "\n",
    "Then, using the fact that\n",
    "\n",
    "$$\n",
    "\\mathrm{Tr}(\\rho^2) = \\mathrm{Tr}(\\,\\mathrm{SWAP} \\,\\rho\\otimes\\rho)\n",
    "$$\n",
    "\n",
    "we can estimate $w(\\rho)$ with a $\\mathrm{SWAP}$ test with input state $\\rho \\otimes \\rho$. "
   ]
  },
  {
   "cell_type": "markdown",
   "id": "f9853498-92cc-4aec-9a16-4fc1e8030638",
   "metadata": {},
   "source": [
    "## Generalizations\n",
    "\n",
    "### Block encoding for non-unitary expectation values\n",
    "\n",
    "When an operator $O$ can be block-encoded in a unitary $U$ via $(\\langle B \\vert \\otimes I) U (\\vert B \\rangle \\otimes I) = O$, then we have\n",
    "\n",
    "$$\n",
    "\\mathrm{Tr}(O \\rho) = \\mathrm{Tr}(U \\;\\rho \\otimes \\vert B \\rangle\\langle B \\vert).\n",
    "$$\n",
    "\n",
    "Thus, $\\langle O \\rangle$ can be estimated by a Hadamard test with $U$, provided $\\vert B \\rangle$ can be accurately and efficiently prepared on an auxiliary register."
   ]
  },
  {
   "cell_type": "markdown",
   "id": "f2f81cd5-8f1c-4731-a5dd-3b31d4becf1a",
   "metadata": {},
   "source": [
    "## Comments\n",
    "\n",
    "- The Hadamard test is a gadget, or subroutine, rather than a full algorithm. No indication is given as to how the inputs are prepared, or how to implement the controlled unitary."
   ]
  },
  {
   "cell_type": "code",
   "execution_count": 1,
   "id": "5325988b-e024-4252-9d41-7278510fc742",
   "metadata": {
    "tags": []
   },
   "outputs": [
    {
     "ename": "ModuleNotFoundError",
     "evalue": "No module named 'ipywidgets'",
     "output_type": "error",
     "traceback": [
      "\u001b[0;31m---------------------------------------------------------------------------\u001b[0m",
      "\u001b[0;31mModuleNotFoundError\u001b[0m                       Traceback (most recent call last)",
      "Cell \u001b[0;32mIn [1], line 1\u001b[0m\n\u001b[0;32m----> 1\u001b[0m \u001b[38;5;28;01mimport\u001b[39;00m \u001b[38;5;21;01mqiskit\u001b[39;00m\u001b[38;5;21;01m.\u001b[39;00m\u001b[38;5;21;01mtools\u001b[39;00m\u001b[38;5;21;01m.\u001b[39;00m\u001b[38;5;21;01mjupyter\u001b[39;00m\n\u001b[1;32m      2\u001b[0m get_ipython()\u001b[38;5;241m.\u001b[39mrun_line_magic(\u001b[38;5;124m'\u001b[39m\u001b[38;5;124mqiskit_version_table\u001b[39m\u001b[38;5;124m'\u001b[39m, \u001b[38;5;124m'\u001b[39m\u001b[38;5;124m'\u001b[39m)\n",
      "File \u001b[0;32m/Library/Frameworks/Python.framework/Versions/3.10/lib/python3.10/site-packages/qiskit/tools/jupyter/__init__.py:105\u001b[0m\n\u001b[1;32m    103\u001b[0m \u001b[38;5;28;01mfrom\u001b[39;00m \u001b[38;5;21;01mqiskit\u001b[39;00m\u001b[38;5;21;01m.\u001b[39;00m\u001b[38;5;21;01mproviders\u001b[39;00m\u001b[38;5;21;01m.\u001b[39;00m\u001b[38;5;21;01mfake_provider\u001b[39;00m \u001b[38;5;28;01mimport\u001b[39;00m FakeBackend\n\u001b[1;32m    104\u001b[0m \u001b[38;5;28;01mfrom\u001b[39;00m \u001b[38;5;21;01mqiskit\u001b[39;00m\u001b[38;5;21;01m.\u001b[39;00m\u001b[38;5;21;01mutils\u001b[39;00m \u001b[38;5;28;01mimport\u001b[39;00m optionals \u001b[38;5;28;01mas\u001b[39;00m _optionals\n\u001b[0;32m--> 105\u001b[0m \u001b[38;5;28;01mfrom\u001b[39;00m \u001b[38;5;21;01m.\u001b[39;00m\u001b[38;5;21;01mjupyter_magics\u001b[39;00m \u001b[38;5;28;01mimport\u001b[39;00m ProgressBarMagic, StatusMagic\n\u001b[1;32m    106\u001b[0m \u001b[38;5;28;01mfrom\u001b[39;00m \u001b[38;5;21;01m.\u001b[39;00m\u001b[38;5;21;01mprogressbar\u001b[39;00m \u001b[38;5;28;01mimport\u001b[39;00m HTMLProgressBar\n\u001b[1;32m    107\u001b[0m \u001b[38;5;28;01mfrom\u001b[39;00m \u001b[38;5;21;01m.\u001b[39;00m\u001b[38;5;21;01mversion_table\u001b[39;00m \u001b[38;5;28;01mimport\u001b[39;00m VersionTable\n",
      "File \u001b[0;32m/Library/Frameworks/Python.framework/Versions/3.10/lib/python3.10/site-packages/qiskit/tools/jupyter/jupyter_magics.py:26\u001b[0m\n\u001b[1;32m     24\u001b[0m \u001b[38;5;28;01mfrom\u001b[39;00m \u001b[38;5;21;01mqiskit\u001b[39;00m\u001b[38;5;21;01m.\u001b[39;00m\u001b[38;5;21;01mtools\u001b[39;00m\u001b[38;5;21;01m.\u001b[39;00m\u001b[38;5;21;01mevents\u001b[39;00m\u001b[38;5;21;01m.\u001b[39;00m\u001b[38;5;21;01mprogressbar\u001b[39;00m \u001b[38;5;28;01mimport\u001b[39;00m TextProgressBar\n\u001b[1;32m     25\u001b[0m \u001b[38;5;28;01mfrom\u001b[39;00m \u001b[38;5;21;01m.\u001b[39;00m\u001b[38;5;21;01mprogressbar\u001b[39;00m \u001b[38;5;28;01mimport\u001b[39;00m HTMLProgressBar\n\u001b[0;32m---> 26\u001b[0m \u001b[38;5;28;01mfrom\u001b[39;00m \u001b[38;5;21;01m.\u001b[39;00m\u001b[38;5;21;01mlibrary\u001b[39;00m \u001b[38;5;28;01mimport\u001b[39;00m circuit_library_widget\n\u001b[1;32m     29\u001b[0m \u001b[38;5;28;01mdef\u001b[39;00m \u001b[38;5;21m_html_checker\u001b[39m(job_var, interval, status, header, _interval_set\u001b[38;5;241m=\u001b[39m\u001b[38;5;28;01mFalse\u001b[39;00m):\n\u001b[1;32m     30\u001b[0m     \u001b[38;5;124;03m\"\"\"Internal function that updates the status\u001b[39;00m\n\u001b[1;32m     31\u001b[0m \u001b[38;5;124;03m    of a HTML job monitor.\u001b[39;00m\n\u001b[1;32m     32\u001b[0m \n\u001b[0;32m   (...)\u001b[0m\n\u001b[1;32m     38\u001b[0m \u001b[38;5;124;03m        _interval_set (bool): Was interval set by user?\u001b[39;00m\n\u001b[1;32m     39\u001b[0m \u001b[38;5;124;03m    \"\"\"\u001b[39;00m\n",
      "File \u001b[0;32m/Library/Frameworks/Python.framework/Versions/3.10/lib/python3.10/site-packages/qiskit/tools/jupyter/library.py:17\u001b[0m\n\u001b[1;32m      1\u001b[0m \u001b[38;5;66;03m# This code is part of Qiskit.\u001b[39;00m\n\u001b[1;32m      2\u001b[0m \u001b[38;5;66;03m#\u001b[39;00m\n\u001b[1;32m      3\u001b[0m \u001b[38;5;66;03m# (C) Copyright IBM 2017, 2018.\u001b[39;00m\n\u001b[0;32m   (...)\u001b[0m\n\u001b[1;32m     12\u001b[0m \n\u001b[1;32m     13\u001b[0m \u001b[38;5;66;03m# pylint: disable=invalid-name,no-name-in-module,ungrouped-imports\u001b[39;00m\n\u001b[1;32m     15\u001b[0m \u001b[38;5;124;03m\"\"\"A circuit library widget module\"\"\"\u001b[39;00m\n\u001b[0;32m---> 17\u001b[0m \u001b[38;5;28;01mimport\u001b[39;00m \u001b[38;5;21;01mipywidgets\u001b[39;00m \u001b[38;5;28;01mas\u001b[39;00m \u001b[38;5;21;01mwid\u001b[39;00m\n\u001b[1;32m     18\u001b[0m \u001b[38;5;28;01mfrom\u001b[39;00m \u001b[38;5;21;01mIPython\u001b[39;00m\u001b[38;5;21;01m.\u001b[39;00m\u001b[38;5;21;01mdisplay\u001b[39;00m \u001b[38;5;28;01mimport\u001b[39;00m display\n\u001b[1;32m     19\u001b[0m \u001b[38;5;28;01mfrom\u001b[39;00m \u001b[38;5;21;01mqiskit\u001b[39;00m \u001b[38;5;28;01mimport\u001b[39;00m QuantumCircuit\n",
      "\u001b[0;31mModuleNotFoundError\u001b[0m: No module named 'ipywidgets'"
     ]
    }
   ],
   "source": [
    "import qiskit.tools.jupyter\n",
    "%qiskit_version_table"
   ]
  }
 ],
 "metadata": {
  "kernelspec": {
   "display_name": "Python 3 (ipykernel)",
   "language": "python",
   "name": "python3"
  },
  "language_info": {
   "codemirror_mode": {
    "name": "ipython",
    "version": 3
   },
   "file_extension": ".py",
   "mimetype": "text/x-python",
   "name": "python",
   "nbconvert_exporter": "python",
   "pygments_lexer": "ipython3",
   "version": "3.10.7"
  }
 },
 "nbformat": 4,
 "nbformat_minor": 5
}
