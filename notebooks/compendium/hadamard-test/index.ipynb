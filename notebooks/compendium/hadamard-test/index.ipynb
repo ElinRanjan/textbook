{
 "cells": [
  {
   "cell_type": "markdown",
   "id": "f256e873-3b44-4d1b-99f2-68b4ba206af0",
   "metadata": {},
   "source": [
    "# Hadamard test\n",
    "\n",
    "## Overview\n",
    "\n",
    "- **Type:** Gadget, subroutine\n",
    "- **Approachability:** Easy\n",
    "- **Prerequisites:** Phase kickback\n",
    "- **Related topics:** Phase estimation, Amplitude estimation\n",
    "\n",
    "The Hadamard test is a simple method of calculating the expectation value of a unitary operator. It uses phase kickback to encode the expectation value into the amplitudes of a single-qubit register. The Hadamard test is a gadget, or subroutine, rather than a full algorithm. It assumes you already know how to prepare the inputs and implement the controlled unitary."
   ]
  },
  {
   "cell_type": "markdown",
   "id": "e5bbb2e7-67f1-47c3-b6b3-8d7f6b18264e",
   "metadata": {},
   "source": [
    "## Description\n",
    "\n",
    "Let's consider a unitary operator, $U$, acting on a pure state, $\\vert \\psi \\rangle$. This action has expectation value $ \\langle U \\rangle = \\langle \\psi \\vert U \\vert \\psi \\rangle$. The Hadamard test measures the real and imaginary parts of $\\langle U \\rangle$ by inserting or removing an $S$ gate from the following circuit.\n",
    "\n",
    "![Diagram of the Hadamard test circuit.](images/Hadamard_Basic.png)\n",
    "\n",
    "### Real part\n",
    "\n",
    "After applying the circuit without the $S$ gate, the resulting state is \n",
    "\n",
    "$$\n",
    "\\vert 0 \\rangle \\otimes \\frac{\\vert\\psi \\rangle + U \\vert \\psi \\rangle}{2} + \\vert 1 \\rangle \\otimes \\frac{\\vert\\psi\\rangle - U \\vert\\psi\\rangle}{2}\n",
    "$$\n",
    "\n",
    "The probability $\\Pr(0)$ of measuring zero in the first register is given by the Born rule.\n",
    "\n",
    "$$\n",
    "\\begin{aligned}\n",
    "\\Pr(0) &= \\frac14 (2 + \\langle U \\rangle + \\langle U^\\dagger \\rangle) \\\\\n",
    "&= \\frac{1 + \\mathrm{Re}\\langle U \\rangle}{2}\n",
    "\\end{aligned}\n",
    "$$\n",
    "\n",
    "Here, $\\mathrm{Re}$ is the real part. We could simply repeat this experiment $N$ times to measure $\\Pr(0)$, and therefore $\\mathrm{Re} \\langle U \\rangle$, with accuracy $O(1/\\sqrt{N})$. However, a better approach uses amplitude estimation rather than repeated measurements, which improves accuracy to an optimal $O(1/N)$ (the _Heisenberg limit_).  \n",
    "\n",
    "### Imaginary part\n",
    "\n",
    "With the $S$ gate inserted, the final state acquires a factor of $i$ in front of the $U$.\n",
    "\n",
    "$$\n",
    "\\vert 0 \\rangle \\otimes \\frac{\\vert\\psi \\rangle + i U \\vert \\psi \\rangle}{2} + \\vert 1 \\rangle \\otimes \\frac{\\vert\\psi\\rangle - i U \\vert\\psi\\rangle}{2}\n",
    "$$\n",
    "\n",
    "Now, the probability $\\Pr(0)$ of measuring zero in the first register is given by\n",
    "\n",
    "$$\n",
    "\\begin{aligned}\n",
    "\\Pr(0) &= \\frac14 (2 + i\\langle U \\rangle -i \\langle U^\\dagger \\rangle) \\\\\n",
    "&= \\frac{1 - \\mathrm{Im}\\langle U \\rangle}{2}\n",
    "\\end{aligned}\n",
    "$$\n",
    "\n",
    "We can then use the same repeated measurements or amplitude estimation to estimate the imaginary part of the expectation value.\n",
    "\n",
    "### For mixed states\n",
    "\n",
    "If input state $\\rho$ might not be a pure state, the expressions for the output probabilities are the same as for pure states with the understanding that \n",
    "\n",
    "$$\n",
    "\\langle U \\rangle = \\mathrm{Tr}(\\rho U)\n",
    "$$\n",
    "\n",
    "However, the expressions for the states before measurement are more complicated. "
   ]
  },
  {
   "cell_type": "markdown",
   "id": "e6c3978c-8d2c-4589-acce-bf7794d89e30",
   "metadata": {},
   "source": [
    "## Qiskit implementation"
   ]
  },
  {
   "cell_type": "markdown",
   "id": "3fc1f1f2-e30e-4a77-923c-a64f12f1612b",
   "metadata": {},
   "source": [
    "The following code defines a function to produce Hadamard test circuits."
   ]
  },
  {
   "cell_type": "code",
   "execution_count": 1,
   "id": "46ac0d71-c374-4d68-ad45-9d0b5c3de9d3",
   "metadata": {
    "tags": []
   },
   "outputs": [
    {
     "data": {
      "image/svg+xml": [
       "<?xml version=\"1.0\" encoding=\"UTF-8\"?><!DOCTYPE svg  PUBLIC '-//W3C//DTD SVG 1.1//EN'  'http://www.w3.org/Graphics/SVG/1.1/DTD/svg11.dtd'><svg width=\"321.95pt\" height=\"218.36pt\" version=\"1.1\" viewBox=\"0 0 321.95 218.36\" xmlns=\"http://www.w3.org/2000/svg\" xmlns:xlink=\"http://www.w3.org/1999/xlink\"><defs><style type=\"text/css\">*{stroke-linejoin: round; stroke-linecap: butt}</style></defs><path d=\"m0 218.36h321.95v-218.36h-321.95z\" fill=\"#ffffff\"/><path d=\"m278.14 172.8h12.052l-6.026 8.6914z\" clip-path=\"url(#pa47016b6d6)\" fill=\"#778899\"/><path d=\"m73.714 44.283h236.41\" clip-path=\"url(#pa47016b6d6)\" fill=\"none\" stroke=\"#000000\" stroke-linecap=\"square\" stroke-width=\"2\"/><path d=\"m73.714 90.637h236.41\" clip-path=\"url(#pa47016b6d6)\" fill=\"none\" stroke=\"#000000\" stroke-linecap=\"square\" stroke-width=\"2\"/><path d=\"m73.714 136.99h236.41\" clip-path=\"url(#pa47016b6d6)\" fill=\"none\" stroke=\"#000000\" stroke-linecap=\"square\" stroke-width=\"2\"/><path d=\"m73.714 181.84h236.41\" clip-path=\"url(#pa47016b6d6)\" fill=\"none\" stroke=\"#778899\" stroke-linecap=\"square\" stroke-width=\"2\"/><path d=\"m73.714 184.85h236.41\" clip-path=\"url(#pa47016b6d6)\" fill=\"none\" stroke=\"#778899\" stroke-linecap=\"square\" stroke-width=\"2\"/><path d=\"m82.985 187.98 4.6354-9.2708\" clip-path=\"url(#pa47016b6d6)\" fill=\"none\" stroke=\"#778899\" stroke-linecap=\"square\"/><path d=\"m145.1 136.99v-92.708\" clip-path=\"url(#pa47016b6d6)\" fill=\"none\" stroke=\"#6929c4\" stroke-linecap=\"square\" stroke-width=\"2\"/><path d=\"m145.1 90.637v46.354\" clip-path=\"url(#pa47016b6d6)\" fill=\"none\" stroke=\"#6929c4\" stroke-linecap=\"square\" stroke-width=\"2\"/><path d=\"m285.67 44.283v128.52\" clip-path=\"url(#pa47016b6d6)\" fill=\"none\" stroke=\"#778899\" stroke-linecap=\"square\" stroke-width=\"2\"/><path d=\"m282.65 44.283v128.52\" clip-path=\"url(#pa47016b6d6)\" fill=\"none\" stroke=\"#778899\" stroke-linecap=\"square\" stroke-width=\"2\"/><path d=\"m139.07 96.663 12.052-12.052\" clip-path=\"url(#pa47016b6d6)\" fill=\"none\" stroke=\"#6929c4\" stroke-linecap=\"square\" stroke-width=\"2\"/><path d=\"m139.07 84.611 12.052 12.052\" clip-path=\"url(#pa47016b6d6)\" fill=\"none\" stroke=\"#6929c4\" stroke-linecap=\"square\" stroke-width=\"2\"/><path d=\"m139.07 143.02 12.052-12.052\" clip-path=\"url(#pa47016b6d6)\" fill=\"none\" stroke=\"#6929c4\" stroke-linecap=\"square\" stroke-width=\"2\"/><path d=\"m139.07 130.97 12.052 12.052\" clip-path=\"url(#pa47016b6d6)\" fill=\"none\" stroke=\"#6929c4\" stroke-linecap=\"square\" stroke-width=\"2\"/><path d=\"m83.68 59.348h30.13v-30.13h-30.13z\" clip-path=\"url(#pa47016b6d6)\" fill=\"#1192e8\" stroke=\"#1192e8\" stroke-width=\"1.5\"/><path d=\"m145.1 48.803c1.1986 0 2.3482-0.4762 3.1958-1.3237 0.84753-0.84753 1.3237-1.9972 1.3237-3.1958 0-1.1986-0.4762-2.3482-1.3237-3.1958-0.84753-0.84753-1.9972-1.3237-3.1958-1.3237s-2.3482 0.4762-3.1958 1.3237c-0.84753 0.84753-1.3237 1.9972-1.3237 3.1958 0 1.1986 0.4762 2.3482 1.3237 3.1958 0.84753 0.84753 1.9972 1.3237 3.1958 1.3237z\" clip-path=\"url(#pa47016b6d6)\" fill=\"#6929c4\" stroke=\"#6929c4\" stroke-width=\"1.5\"/><path d=\"m176.39 59.348h30.13v-30.13h-30.13z\" clip-path=\"url(#pa47016b6d6)\" fill=\"#1192e8\" stroke=\"#1192e8\" stroke-width=\"1.5\"/><path d=\"m222.74 59.348h30.13v-30.13h-30.13z\" clip-path=\"url(#pa47016b6d6)\" fill=\"#1192e8\" stroke=\"#1192e8\" stroke-width=\"1.5\"/><path d=\"m269.1 59.348h30.13v-30.13h-30.13z\" clip-path=\"url(#pa47016b6d6)\" fill=\"#121619\" stroke=\"#121619\" stroke-width=\"1.5\"/><path d=\"m294.71 48.803c0-2.7958-1.1118-5.4799-3.0887-7.4568-1.9769-1.9769-4.661-3.0887-7.4568-3.0887s-5.4799 1.1118-7.4568 3.0887-3.0887 4.661-3.0887 7.4568\" clip-path=\"url(#pa47016b6d6)\" fill=\"none\" stroke=\"#ffffff\" stroke-width=\"2\"/><path d=\"m284.16 48.803 10.546-10.546\" clip-path=\"url(#pa47016b6d6)\" fill=\"none\" stroke=\"#ffffff\" stroke-linecap=\"square\" stroke-width=\"2\"/><g clip-path=\"url(#pa47016b6d6)\"><g transform=\"translate(34.543 48.767) scale(.1625 -.1625)\"><defs><path id=\"DejaVuSans-Oblique-61\" transform=\"scale(.015625)\" d=\"m3438 1997-391-1997h-575l106 531q-253-312-577-467-323-155-720-155-447 0-733 273-285 274-285 702 0 613 489 969t1348 356h800l31 154q7 25 10 54 3 30 3 92 0 279-227 433-226 155-636 155-281 0-577-72-295-72-607-216l100 532q325 122 636 182 311 61 601 61 619 0 942-269 324-268 324-781 0-103-16-242-15-139-46-295zm-622-238h-575q-707 0-1046-189t-339-586q0-275 173-431 174-156 480-156 469 0 819 336t463 898l25 128z\"/><path id=\"DejaVuSans-Oblique-75\" transform=\"scale(.015625)\" d=\"m428 1388 410 2112h578l-410-2091q-31-153-45-262t-14-181q0-266 162-412 163-145 460-145 462 0 799 312 338 313 441 842l385 1937h575l-678-3500h-575l115 550q-243-306-579-474-336-167-714-167-460 0-716 252t-256 702q0 93 15 234 16 141 47 291z\"/><path id=\"DejaVuSans-Oblique-78\" transform=\"scale(.015625)\" d=\"m3841 3500-1607-1716 985-1784h-660l-740 1388-1288-1388h-697l1722 1844-915 1656h659l672-1266 1172 1266h697z\"/></defs><use xlink:href=\"#DejaVuSans-Oblique-61\"/><use transform=\"translate(61.279)\" xlink:href=\"#DejaVuSans-Oblique-75\"/><use transform=\"translate(124.66)\" xlink:href=\"#DejaVuSans-Oblique-78\"/></g></g><g clip-path=\"url(#pa47016b6d6)\"><g transform=\"translate(46.406 95.088) scale(.1625 -.1625)\"><defs><path id=\"DejaVuSans-Oblique-71\" transform=\"scale(.015625)\" d=\"m2669 525q-231-303-546-460-314-156-695-156-531 0-833 358-301 358-301 986 0 506 186 978t533 847q225 244 517 375t614 131q387 0 637-153t363-462l100 525h578l-934-4813h-579l360 1844zm-1778 813q0-463 193-705 194-242 560-242 544 0 928 520t384 1264q0 450-199 689-198 239-569 239-272 0-504-127-231-126-403-370-181-256-286-600-104-343-104-668z\"/><path id=\"DejaVuSans-30\" transform=\"scale(.015625)\" d=\"m2034 4250q-487 0-733-480-245-479-245-1442 0-959 245-1439 246-480 733-480 491 0 736 480 246 480 246 1439 0 963-246 1442-245 480-736 480zm0 500q785 0 1199-621 414-620 414-1801 0-1178-414-1799-414-620-1199-620-784 0-1198 620-414 621-414 1799 0 1181 414 1801 414 621 1198 621z\"/></defs><use xlink:href=\"#DejaVuSans-Oblique-71\"/><use transform=\"translate(63.477 -16.406) scale(.7)\" xlink:href=\"#DejaVuSans-30\"/></g></g><g clip-path=\"url(#pa47016b6d6)\"><g transform=\"translate(46.406 141.44) scale(.1625 -.1625)\"><defs><path id=\"DejaVuSans-31\" transform=\"scale(.015625)\" d=\"m794 531h1031v3560l-1122-225v575l1116 225h631v-4135h1031v-531h-2687v531z\"/></defs><use xlink:href=\"#DejaVuSans-Oblique-71\"/><use transform=\"translate(63.477 -16.406) scale(.7)\" xlink:href=\"#DejaVuSans-31\"/></g></g><g clip-path=\"url(#pa47016b6d6)\"><g transform=\"translate(78.349 176.55) scale(.104 -.104)\"><use xlink:href=\"#DejaVuSans-31\"/></g></g><g clip-path=\"url(#pa47016b6d6)\"><g transform=\"translate(55.508 187.83) scale(.1625 -.1625)\"><defs><path id=\"DejaVuSans-63\" transform=\"scale(.015625)\" d=\"m3122 3366v-538q-244 135-489 202t-495 67q-560 0-870-355-309-354-309-995t309-996q310-354 870-354 250 0 495 67t489 202v-532q-241-112-499-168-257-57-548-57-791 0-1257 497-465 497-465 1341 0 856 470 1346 471 491 1290 491 265 0 518-55 253-54 491-163z\"/></defs><use xlink:href=\"#DejaVuSans-63\"/></g></g><g clip-path=\"url(#pa47016b6d6)\"><g transform=\"translate(93.857 47.87) scale(.13 -.13)\" fill=\"#ffffff\"><defs><path id=\"DejaVuSans-48\" transform=\"scale(.015625)\" d=\"m628 4666h631v-1913h2294v1913h631v-4666h-631v2222h-2294v-2222h-631v4666z\"/></defs><use xlink:href=\"#DejaVuSans-48\"/></g></g><g clip-path=\"url(#pa47016b6d6)\"><g transform=\"translate(187.33 47.87) scale(.13 -.13)\" fill=\"#ffffff\"><defs><path id=\"DejaVuSans-53\" transform=\"scale(.015625)\" d=\"m3425 4513v-616q-359 172-678 256-319 85-616 85-515 0-795-200t-280-569q0-310 186-468 186-157 705-254l381-78q706-135 1042-474t336-907q0-679-455-1029-454-350-1332-350-331 0-705 75-373 75-773 222v650q384-215 753-325 369-109 725-109 540 0 834 212 294 213 294 607 0 343-211 537t-692 291l-385 75q-706 140-1022 440-315 300-315 835 0 619 436 975t1201 356q329 0 669-60 341-59 697-177z\"/></defs><use xlink:href=\"#DejaVuSans-53\"/></g></g><g clip-path=\"url(#pa47016b6d6)\"><g transform=\"translate(232.92 47.87) scale(.13 -.13)\" fill=\"#ffffff\"><use xlink:href=\"#DejaVuSans-48\"/></g></g><g clip-path=\"url(#pa47016b6d6)\"><g transform=\"translate(295.75 176.55) scale(.104 -.104)\"><use xlink:href=\"#DejaVuSans-30\"/></g></g><defs><clipPath id=\"pa47016b6d6\"><rect x=\"7.2\" y=\"7.2\" width=\"307.55\" height=\"203.96\"/></clipPath></defs></svg>"
      ],
      "text/plain": [
       "<Figure size 554.753x367.889 with 1 Axes>"
      ]
     },
     "execution_count": 1,
     "metadata": {},
     "output_type": "execute_result"
    }
   ],
   "source": [
    "from qiskit import QuantumRegister, ClassicalRegister, QuantumCircuit\n",
    "from qiskit.circuit.library.standard_gates import SwapGate\n",
    "\n",
    "def hadamard_circuit(U, add_s_gate=False, measure=True):\n",
    "    \"\"\"\n",
    "    Args:\n",
    "        U (Gate): Unitary gate to measure expectation value of\n",
    "        add_s_gate (bool): Whether to measure real (False) or imaginary\n",
    "            (True) parts of the expectation value\n",
    "        measure (bool): Whether to measure the auxiliary qubit\n",
    "    Returns:\n",
    "        QuantumCircuit that implements the Hadamard test\n",
    "    \"\"\"\n",
    "    # Initialize registers and circuit\n",
    "    aux = QuantumRegister(1, 'aux')\n",
    "    main = QuantumRegister(U.num_qubits, 'q')\n",
    "    circuit = QuantumCircuit(aux, main)\n",
    "    \n",
    "    # Construct controlled-U gate\n",
    "    cU = U.control(1)\n",
    "    \n",
    "    # Add gates to circuit\n",
    "    circuit.h(aux)\n",
    "    circuit.append(cU, aux[:] + main[:])\n",
    "    if add_s_gate:\n",
    "        circuit.s(aux)\n",
    "    circuit.h(aux)\n",
    "    \n",
    "    # Add measurement if option specified\n",
    "    if measure:\n",
    "        creg = ClassicalRegister(1, 'c')\n",
    "        circuit.add_register(creg)\n",
    "        circuit.measure(aux, creg)\n",
    "    \n",
    "    return circuit\n",
    "\n",
    "# Draw an example\n",
    "circuit = hadamard_circuit(SwapGate(), add_s_gate=True, measure=True)\n",
    "circuit.draw()"
   ]
  },
  {
   "cell_type": "markdown",
   "id": "a82dbdde-8158-42f3-be3d-d6e4d78f73a4",
   "metadata": {},
   "source": [
    "The following code uses the Hadamard test to estimate the expectation value of $\\langle 00 | \\text{SWAP} | 00 \\rangle$."
   ]
  },
  {
   "cell_type": "code",
   "execution_count": 2,
   "id": "dbff90a1-260d-4720-9e92-2d1bc08e490b",
   "metadata": {},
   "outputs": [
    {
     "name": "stdout",
     "output_type": "stream",
     "text": [
      "Real part of expectation value: 1.0\n",
      "Imaginary part of expectation value: 0.4\n"
     ]
    }
   ],
   "source": [
    "from qiskit.primitives import Sampler\n",
    "\n",
    "N = 10\n",
    "U = SwapGate()\n",
    "\n",
    "for part in (\"Real\", \"Imaginary\"):\n",
    "    # Build circuit\n",
    "    circuit = hadamard_circuit(\n",
    "        U,\n",
    "        add_s_gate=(False if part==\"Real\" else True),\n",
    "        measure=True\n",
    "    )\n",
    "\n",
    "    # Run circuit and get qasi-probability distribution\n",
    "    results = Sampler().run(\n",
    "        circuit,\n",
    "        shots=N\n",
    "    ).result().quasi_dists[0]\n",
    "\n",
    "    # Get qasi-probability of measuring 0 (default to 0 if not in distribution)\n",
    "    p0 = results.get(0, 0)\n",
    "\n",
    "    # Calculate estimate\n",
    "    estimate = ((2 * p0) - 1) * (1 if part==\"Real\" else -1)\n",
    "    print(f\"{part} part of expectation value: {estimate}\")"
   ]
  },
  {
   "attachments": {},
   "cell_type": "markdown",
   "id": "829ac37e-df1f-4222-9217-e14a1290e0a6",
   "metadata": {},
   "source": [
    "## Applications\n",
    "\n",
    "### Phase estimation\n",
    "\n",
    "If the prepared state $\\vert \\psi \\rangle$ is an eigenstate of $U$ with eigenvalue $e^{2\\pi i \\theta}$, then the expectation value will have the form $\\langle U \\rangle= e^{2\\pi i \\theta} = \\cos(2\\pi \\theta) + i \\sin(2\\pi \\theta)$.\n",
    "\n",
    "Before measuring, the Hadamard circuit without phase gate yields\n",
    "\n",
    "$$\n",
    "\\left(\\frac{1 + e^{2\\pi i \\theta}}{2} \\vert 0 \\rangle + \\frac{1 - e^{2\\pi i \\theta}}{2} \\vert 1 \\rangle\\right) \\otimes \\vert \\psi \\rangle\n",
    "$$\n",
    "\n",
    "And therefore the probability of measuring zero is related to the phase $\\theta$.\n",
    "\n",
    "$$\n",
    "\\Pr(0) = \\frac{1+\\mathrm{Re}\\langle U \\rangle}{2} = \\frac{1 + \\cos 2\\pi \\theta}{2} = \\cos^2(\\pi \\theta)\n",
    "$$\n",
    "\n",
    "Measuring this circuit determines $\\theta$ up to two possible values ($\\pm \\theta$). The phase-gated Hadamard circuit resolves the ambiguity.\n",
    "\n",
    "$$\n",
    "\\Pr(0) = \\frac{1-\\mathrm{Im}\\langle U \\rangle}{2} = \\frac{1 - \\sin 2\\pi \\theta}{2} = \\sin^2(\\pi \\vert\\theta- 1/4\\vert)\n",
    "$$\n",
    "\n",
    "### SWAP test for pure-state fidelity\n",
    "\n",
    "A specific case of the Hadamard test is the _SWAP test_, which calculates the fidelity of two states. Let $U = \\mathrm{SWAP}$ and $|\\psi\\rangle = |\\phi\\rangle \\otimes |\\chi\\rangle$. The Hadamard circuit takes the form \n",
    "\n",
    "![Circuit diagram of the SWAP test.](images/SWAP_pure.png)\n",
    "\n",
    "Since $\\mathrm{SWAP}$ is Hermitian, $\\langle \\mathrm{SWAP} \\rangle$ is real and no $S$ gate is needed. The expectation value is given by\n",
    "\n",
    "$$\n",
    "\\begin{aligned}\n",
    "\\langle\\phi\\vert \\langle\\chi\\vert \\,\\mathrm{SWAP}\\, \\vert\\phi\\rangle \\vert\\chi\\rangle &= \\langle\\phi\\vert\\chi\\rangle \\, \\langle\\chi\\vert\\phi\\rangle \\\\\n",
    "&= \\vert \\langle\\chi\\vert\\phi\\rangle\\vert^2\n",
    "\\end{aligned}\n",
    "$$\n",
    "\n",
    "where $\\vert \\langle\\chi\\vert\\phi\\rangle\\vert^2$ is the fidelity of $|\\phi\\rangle$ and $|\\chi\\rangle$.\n",
    "\n",
    "### Measuring purity\n",
    "\n",
    "The SWAP test does not compute fidelity for non pure states, but it can compute purity. We define the purity $w(\\rho) \\in [0,1]$ of a state $\\rho$ by \n",
    "\n",
    "$$\n",
    "w(\\rho) = \\mathrm{Tr}(\\rho^2).\n",
    "$$\n",
    "\n",
    "Then, using the fact that\n",
    "\n",
    "$$\n",
    "\\mathrm{Tr}(\\rho^2) = \\mathrm{Tr}(\\,\\mathrm{SWAP} \\,\\rho\\otimes\\rho)\n",
    "$$\n",
    "\n",
    "we can estimate $w(\\rho)$ with a $\\mathrm{SWAP}$ test with input state $\\rho \\otimes \\rho$. "
   ]
  },
  {
   "cell_type": "markdown",
   "id": "f9853498-92cc-4aec-9a16-4fc1e8030638",
   "metadata": {},
   "source": [
    "## Generalizations\n",
    "\n",
    "### Block encoding for non-unitary expectation values\n",
    "\n",
    "When an operator $O$ can be block-encoded in a unitary $U$ through $(\\langle B \\vert \\otimes I) U (\\vert B \\rangle \\otimes I) = O$, then we have\n",
    "\n",
    "$$\n",
    "\\mathrm{Tr}(O \\rho) = \\mathrm{Tr}(U \\;\\rho \\otimes \\vert B \\rangle\\langle B \\vert).\n",
    "$$\n",
    "\n",
    "Therefore $\\langle O \\rangle$ can be estimated by a Hadamard test with $U$, provided $\\vert B \\rangle$ can be accurately and efficiently prepared on an auxiliary register."
   ]
  },
  {
   "cell_type": "code",
   "execution_count": 3,
   "id": "5325988b-e024-4252-9d41-7278510fc742",
   "metadata": {
    "tags": []
   },
   "outputs": [
    {
     "data": {
      "text/html": [
       "<h3>Version Information</h3><table><tr><th>Qiskit Software</th><th>Version</th></tr><tr><td><code>qiskit-terra</code></td><td>0.23.2</td></tr><tr><td><code>qiskit-aer</code></td><td>0.11.2</td></tr><tr><td><code>qiskit-ibmq-provider</code></td><td>0.20.1</td></tr><tr><td><code>qiskit</code></td><td>0.41.1</td></tr><tr><td><code>qiskit-nature</code></td><td>0.6.0</td></tr><tr><td><code>qiskit-finance</code></td><td>0.3.2</td></tr><tr><td><code>qiskit-optimization</code></td><td>0.5.0</td></tr><tr><td><code>qiskit-machine-learning</code></td><td>0.4.0</td></tr><tr><th>System information</th></tr><tr><td>Python version</td><td>3.8.17</td></tr><tr><td>Python compiler</td><td>Clang 14.0.3 (clang-1403.0.22.14.1)</td></tr><tr><td>Python build</td><td>default, Jun 21 2023 04:50:34</td></tr><tr><td>OS</td><td>Darwin</td></tr><tr><td>CPUs</td><td>8</td></tr><tr><td>Memory (Gb)</td><td>32.0</td></tr><tr><td colspan='2'>Thu Aug 31 12:00:21 2023 BST</td></tr></table>"
      ],
      "text/plain": [
       "<IPython.core.display.HTML object>"
      ]
     },
     "metadata": {},
     "output_type": "display_data"
    }
   ],
   "source": [
    "import qiskit.tools.jupyter\n",
    "%qiskit_version_table"
   ]
  }
 ],
 "metadata": {
  "kernelspec": {
   "display_name": "Python 3",
   "language": "python",
   "name": "python3"
  },
  "language_info": {
   "codemirror_mode": {
    "name": "ipython",
    "version": 3
   },
   "file_extension": ".py",
   "mimetype": "text/x-python",
   "name": "python",
   "nbconvert_exporter": "python",
   "pygments_lexer": "ipython3",
   "version": "3.9"
  }
 },
 "nbformat": 4,
 "nbformat_minor": 5
}
