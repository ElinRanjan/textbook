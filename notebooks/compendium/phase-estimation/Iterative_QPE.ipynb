{
 "cells": [
  {
   "cell_type": "markdown",
   "id": "51ce17ef-eacf-456c-9ff6-721af5628b8a",
   "metadata": {
    "tags": []
   },
   "source": [
    "# The Iterative Phase Estimation Algorithm "
   ]
  },
  {
   "cell_type": "markdown",
   "id": "9b510670-0a3f-4ef3-82c7-f33759d85dd6",
   "metadata": {
    "tags": []
   },
   "source": [
    "## Overview \n",
    "\n",
    "- Type: Quantum subroutine for phase estimation\n",
    "- Estimated difficulty: Intermediate\n",
    "- Useful preliminaries: Phase Estimation compendium article\n",
    "- Applications: Hardware constrained Phase Estimation\n",
    "- Number of qubits: Size of $U$ and one auxiliary qubit. \n",
    "- Number of operations: $O(1/\\text{precision})$ calls to the controlled-$U$. \n",
    "- Maximum depth: $O(1/\\text{precision})$"
   ]
  },
  {
   "cell_type": "markdown",
   "id": "ecbf3310-9cc8-4ccb-b296-f1ef5b3124e9",
   "metadata": {
    "tags": []
   },
   "source": [
    "Given a unitary $U$ with eigenvalue $e^{2\\pi i \\theta}$, the task of phase estimation is to determine the phase $\\theta$ to precision $\\epsilon$ with probability $1-\\delta$. The Iterative Quantum Phase Estimation (IQPE) algorithm is a procedure which is equivalent to standard QPE, but uses multiple rounds of measurement. Although it is one of many iterative QPE algorithms, the one described in this article is often considered \"the\" iterative QPE algorithm, due to its popularity and it being derived from standard QPE through a simple transformation. However, this does not mean IQPE outperforms other iterative methods.\n",
    "\n",
    "The promise of IQPE, as opposed to standard QPE, is fewer auxiliary qubits and less demanding quantum operations. This is particularly attractive in the current era of limited quantum hardware (at time of writing, 2023).  \n",
    "\n",
    "By \"iterative,\" we mean that a similar set of quantum operations is applied over and over. IQPE is *adaptive* in the sense that subsequent iterations will depend on the measurement results of previous ones. The normal version of this procedure works even when the input state is a general superposition of eigenstates. A restricted but less-demanding \"incoherent\" version involves resetting the main register following each measurement. This reduces the maximum circuit depth, but only works when the main register is in an approximate eigenstate of $U$."
   ]
  },
  {
   "cell_type": "markdown",
   "id": "ee2f3607-38d2-43c2-bf72-7a9cf5433351",
   "metadata": {
    "tags": []
   },
   "source": [
    "## Description\n",
    "\n",
    "If you are already familiar with standard Quantum Phase Estimation, you may prefer to start with section \"Equivalence to standard QPE.\"\n",
    "\n",
    "The algorithm proceeds by learning one bit of $\\theta$ at a time, starting from the least significant bit. To obtain $m$ bits of precision we must do $m$ repetitions. Each repetition involves measuring an auxiliary qubit to obtain one bit in a binary expansion of $\\theta$. By the end of the procedure, we have, with high probability of success, an $m$ bit approximation $0.\\theta_1\\theta_2\\dots\\theta_m$ of $\\theta$.\n",
    "\n",
    "### The basic iteration\n",
    "\n",
    "**Ferris-IQPEA-circuit**\n",
    "\n",
    "The circuit above shows the $k$th iteration of the algorithm, where $k = 1, 2, \\dots m$. For simplicity, suppose the main register is in eigenstate $\\vert\\psi\\rangle = \\vert u\\rangle$, and also assume $\\theta$ is truly an $m$ bit string $0.\\theta_1\\theta_2\\dots\\theta_m$. Applying the first Hadamard and controlled-$U^{2^{m-k}}$ gives the state \n",
    "\n",
    "$$\n",
    "\\left(\\vert0\\rangle + e^{2\\pi i \\theta 2^{m-k}}\\vert1\\rangle\\right)\\otimes \\vert u\\rangle\n",
    "$$ \n",
    "\n",
    "up to normalization. The power $2^{m-k}$ serves to eliminate the first $m-k$ bits from $\\theta$ by pushing them in front of the decimal point, where they become irrelevant due to $2\\pi$ periodicity of the phase. \n",
    "\n",
    "$$\n",
    "\\begin{aligned}\n",
    "\\exp \\left(2\\pi i 0.\\theta_1\\dots\\theta_m 2^{m-k}\\right) &= \\exp \\left(2\\pi i \\theta_1\\dots\\theta_{m-k}.\\theta_{m-k+1}\\dots\\theta_m\\right) = \\exp \\left(2\\pi i 0.\\theta_{m-k+1}\\dots\\theta_m\\right)\n",
    "\\end{aligned}\n",
    "$$\n",
    "\n",
    "Next, we come to the classically controlled rotations. The rotation angles are chosen to eliminate all but the first bit $\\theta_{m-k+1}$ in the remaining bitstring. This stage is where the previously measured values $\\theta_{m-k+2}, \\dots, \\theta_m$ come into play. Following these controlled rotations, our auxiliary qubit is in state\n",
    "\n",
    "$$\n",
    "\\vert0\\rangle + e^{2\\pi i 0.\\theta_{m-k+1}}\\vert1\\rangle\n",
    "$$\n",
    "\n",
    "up to normalization. The final Hadamard puts us in the computational basis state\n",
    "\n",
    "$$\n",
    "\\vert\\theta_{m-k+1}\\rangle\n",
    "$$\n",
    "\n",
    "and the value of the bit $\\theta_{m-k+1} \\in \\{0,1\\}$ can be measured and stored for later iterations. The auxiliary qubit is then reset to $\\vert0\\rangle$, and in the incoherent version the main register would be reset to its initial value. The $(k+1)$th iteration commences, and so on until all bits $\\theta_m, \\theta_{m-1}, \\dots, \\theta_1$ are measured (in that order)."
   ]
  },
  {
   "cell_type": "markdown",
   "id": "7cdf9482-b3b8-4753-9e5b-45c11454db50",
   "metadata": {
    "tags": []
   },
   "source": [
    "## Details and commentary\n",
    "\n",
    "The algorithm behaves identically to standard QPE, because the circuits for the two procedures are formally equivalent. See the next section for further details. However, available quantum resources and imperfections in hardware may dictate the choice of one approach versus the other.\n",
    "\n",
    "Though the above analysis was done for eigenstate inputs $\\vert u\\rangle$ and $\\theta$ a binary string, the procedure works more generally. When the input state $\\vert\\psi\\rangle$ is a superposition of eigenstates, normal IQPE will return one of the eigenphases with probability approximately given by the Born rule. The incoherent version only works for approximate eigenstates. \n",
    "\n",
    "When $\\theta \\in [0,1)$ is arbitrary, the closest $m$ bit approximation $\\tilde{\\theta} = 0.\\theta_1\\dots\\theta_m$ is obtained with reasonably high probability. This probability can be boosted with several trials.\n",
    "\n",
    "Because measurements are intrinsic to this procedure, the resulting phase estimate is necessarily stored in a classical register, and therefore superpositions of phases cannot be accommodated. This precludes the use of IQPEA as an intermediate subroutine for later quantum calculations. As an important example, IQPEA could not be used as part of the HHL algorithm for linear systems, because the inversion $\\theta \\mapsto 1/\\theta$ needs to be performed on general superpositions $\\sum_i c_i \\vert\\theta_i\\rangle$ of phases obtained from a QPE protocol."
   ]
  },
  {
   "cell_type": "markdown",
   "id": "98596cd7-85af-430d-aa28-8a6db2c38157",
   "metadata": {
    "tags": []
   },
   "source": [
    "## Equivalence to standard QPE\n",
    "\n",
    "IQPE is formally equivalent to standard QPE. The key idea to understand this is to look closer at the inverse Quantum Fourier Transform at the end of the standard QPE circuit. \n",
    "\n",
    "**Put diagram here of iQFT with measurements gates**. \n",
    "\n",
    "The controlled phase gates in this diagram are quantum controls, but they don't have to be. We can create an equivalent circuit by pushing the measurements in front of the phase gate wherever possible, swapping the quantum control for a classical one.\n",
    "\n",
    "**switch-measure-control**\n",
    "\n",
    "Next, we can put each of the parallel auxiliary wires \"in series\" by repeated applying the following circuit equivalence. \n",
    "\n",
    "**parallel-to-iterative diagram**\n",
    "\n",
    "This relation reduces the number of qubits by one each time, and at the end we are left with a single auxiliary qubit. "
   ]
  },
  {
   "cell_type": "markdown",
   "id": "f11ea2ee-4c78-4302-807e-cc88bc196e4c",
   "metadata": {
    "tags": []
   },
   "source": [
    "### Qiskit implementation"
   ]
  },
  {
   "cell_type": "markdown",
   "id": "ae5d2d18-58d0-4318-b701-99b64f7fcb45",
   "metadata": {},
   "source": [
    "#### Relevant imports"
   ]
  },
  {
   "cell_type": "code",
   "execution_count": 2,
   "id": "2b4db990-fc35-4c61-be9f-89f28d047a40",
   "metadata": {},
   "outputs": [],
   "source": [
    "import numpy as np\n",
    "from qiskit import ClassicalRegister, QuantumRegister, QuantumCircuit\n",
    "from qiskit_aer.primitives import Sampler\n",
    "from qiskit.circuit.library.standard_gates import SwapGate, TGate # For demonstrations"
   ]
  },
  {
   "cell_type": "markdown",
   "id": "88481cc8-b54c-46ea-af2e-90685881fcfb",
   "metadata": {},
   "source": [
    "#### Define the circuit"
   ]
  },
  {
   "cell_type": "code",
   "execution_count": 3,
   "id": "32bb599a-b57c-4259-8b71-983293cbf3ff",
   "metadata": {
    "tags": []
   },
   "outputs": [],
   "source": [
    "import numpy as np\n",
    "from qiskit import QuantumRegister, ClassicalRegister, QuantumCircuit\n",
    "\n",
    "def iterative_QPE_circuit(U, precision = 2**-4, coherent = True):\n",
    "    \"\"\"\n",
    "    Args:\n",
    "        U (Gate): Unitary gate in phase estimation problem\n",
    "        precision (float): Desired precision of final phase estimate\n",
    "        coherent (bool): If true, retains state of main register following each measurement. \n",
    "        Otherwise, all registers are reset to initial values following each measurement. \n",
    "    Returns:\n",
    "        QuantumCircuit that implements Iterative QPE\n",
    "    \"\"\"\n",
    "    cU = U.control(1)\n",
    "    bits_precision = int(np.ceil(np.log2(1/precision)))\n",
    "    \n",
    "    # Construct registers and circuit\n",
    "    cr = ClassicalRegister(bits_precision, r'$\\varphi$')\n",
    "    aux = QuantumRegister(1, 'aux')\n",
    "    main = QuantumRegister(U.num_qubits, 'q')\n",
    "    QPE_circ = QuantumCircuit(aux, main, cr)\n",
    "\n",
    "    \n",
    "    for bit in range(bits_precision -1, -1,-1):\n",
    "        QPE_circ.h(0)\n",
    "        QPE_circ.append(U.repeat(2**bit).control(1), aux[:] + main[:])\n",
    "        \n",
    "        # Controlled phases loop\n",
    "        for b in range(bit +1, bits_precision):\n",
    "            k = (b - bit) + 1\n",
    "            QPE_circ.p(-(2*np.pi)/2**k,0).c_if(b,1)\n",
    "        \n",
    "        QPE_circ.h(0)\n",
    "        \n",
    "        # Measure, store result, reset\n",
    "        QPE_circ.measure(0, bit)\n",
    "        QPE_circ.reset(0)\n",
    "        \n",
    "        # Reset all qubits if not coherent\n",
    "        if not coherent: \n",
    "            QPE_circ.reset(main[:])\n",
    "            QPE_circ.barrier()\n",
    "            \n",
    "    return QPE_circ"
   ]
  },
  {
   "cell_type": "markdown",
   "id": "8918f3eb-2b15-4f72-843b-23b96c27b3c1",
   "metadata": {},
   "source": [
    "### Illustrate the circuit with SWAP"
   ]
  },
  {
   "cell_type": "code",
   "execution_count": 4,
   "id": "2fe2b4e3-4253-4d12-bbaa-18c78dff535a",
   "metadata": {
    "tags": []
   },
   "outputs": [
    {
     "data": {
      "image/png": "[encoded data removed]",
      "text/plain": [
       "<Figure size 2226.97x785.944 with 1 Axes>"
      ]
     },
     "execution_count": 4,
     "metadata": {},
     "output_type": "execute_result"
    }
   ],
   "source": [
    "from qiskit.circuit.library import SwapGate\n",
    "\n",
    "iterative_QPE_circuit(SwapGate()).draw(output = 'mpl')"
   ]
  },
  {
   "cell_type": "markdown",
   "id": "a8712c36-fbe8-45e5-83ce-1edfce77f91d",
   "metadata": {},
   "source": [
    "Now we test our circuit to estimate the phase of the $T$ gate corresponding to the $\\vert 1\\rangle$ eigenstate. The answer $\\theta$ we expect can be found by equating\n",
    "\n",
    "$$\n",
    "2\\pi\\theta = \\pi/4\n",
    "$$\n",
    "i.e. $\\theta = 1/8$. This is indeed the answer we get below, whether we do coherent or incoherent evolution (they are equivalent here since $\\vert1\\rangle$ is a perfect eigenstate). Since $\\theta$ is a binary fraction, we should always get an exact answer with a sufficient number of auxiliary qubits."
   ]
  },
  {
   "cell_type": "code",
   "execution_count": 5,
   "id": "a7454616-0ceb-4c01-9fab-7c1a01ca1b8c",
   "metadata": {
    "tags": []
   },
   "outputs": [
    {
     "name": "stdout",
     "output_type": "stream",
     "text": [
      "Estimate of phase: 0.125\n",
      "To precision: 0.01\n"
     ]
    }
   ],
   "source": [
    "precision = 10**-2\n",
    "\n",
    "# State preparation for |1> state\n",
    "prep = QuantumCircuit(1)\n",
    "prep.x(0)\n",
    "\n",
    "# Create circuit for IQPE with state preparation\n",
    "IQPE = iterative_QPE_circuit(TGate(), precision = precision, coherent = True)\n",
    "IQPE.compose(prep, qubits = range(1,IQPE.num_qubits),front = True, inplace = True)\n",
    "\n",
    "# Execute circuit\n",
    "job = Sampler().run(IQPE, shots = 1)\n",
    "result_dict = job.result().quasi_dists[0].binary_probabilities()\n",
    "measurement = list(job.result().quasi_dists[0].binary_probabilities())[0]\n",
    "\n",
    "# Our ordering convention here is opposite of Qiskit. Reverse string.\n",
    "measurement = measurement[::-1]\n",
    "\n",
    "# Convert binary string to a float\n",
    "phase = int(measurement,2)/2**len(measurement)\n",
    "\n",
    "print(\"Estimate of phase:\", phase)\n",
    "print(\"To precision:\", precision) "
   ]
  },
  {
   "cell_type": "markdown",
   "id": "40ff1c95-8f4f-47ed-a6a7-6ce2a12bef26",
   "metadata": {},
   "source": [
    "### References and resources"
   ]
  },
  {
   "cell_type": "markdown",
   "id": "6d87e7c7-8eea-49ba-90a6-978315a418cc",
   "metadata": {
    "tags": []
   },
   "source": [
    "- Ferris, [2023 Qiskit Global Summer School](https://www.youtube.com/watch?v=aLSM0_H8hUE)\n",
    "- IBM Learning Platform, [Iterative Phase Estimation](https://learning.quantum-computing.ibm.com/tutorial/iterative-phase-estimation)"
   ]
  }
 ],
 "metadata": {
  "kernelspec": {
   "display_name": "Python 3 (ipykernel)",
   "language": "python",
   "name": "python3"
  },
  "language_info": {
   "codemirror_mode": {
    "name": "ipython",
    "version": 3
   },
   "file_extension": ".py",
   "mimetype": "text/x-python",
   "name": "python",
   "nbconvert_exporter": "python",
   "pygments_lexer": "ipython3",
   "version": "3.10.7"
  }
 },
 "nbformat": 4,
 "nbformat_minor": 5
}
