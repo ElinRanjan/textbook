{
 "cells": [
  {
   "cell_type": "markdown",
   "id": "1550ed51-8b1a-4f0a-bbd3-a67693be0879",
   "metadata": {},
   "source": [
    "# Phase Estimation\n",
    "\n",
    "## Overview\n",
    "\n",
    "- Type: Quantum subroutine\n",
    "- Approachability: Medium\n",
    "- Related topics: Phase kickback, Shor's algorithm, Optical interometry, Quantum Fourier Transform\n",
    "\n",
    "## Problem statement\n",
    "\n",
    "For a unitary operation $U$, and associated eigenvector $\\vert u \\rangle$, there is a $\\theta \\in [0,1)$ such that\n",
    "\n",
    "$$\n",
    "U \\vert u \\rangle = e^{2\\pi i \\theta} \\vert u \\rangle.\n",
    "$$\n",
    "\n",
    "Given access to a unitary $U$, controlled versions thereof, and an eigenvector $\\vert u \\rangle$ prepared on a quantum register to fidelity $F$, determine $\\theta$ to accuracy $\\epsilon$. \n",
    "\n",
    "## List of Phase Estimation Algorithms (PEA)\n",
    "\n",
    "- Standard PEA\n",
    "- Kitaev PEA\n",
    "- Fast PEA (Svore, Hastings, Freedman)\n",
    "- Bayesian PEA "
   ]
  },
  {
   "cell_type": "markdown",
   "id": "eb059458-3808-452c-95de-9ca326f54af4",
   "metadata": {},
   "source": [
    "## High level description\n",
    "\n",
    "Phase estimation algorithms (PEAs) employ phase kickback and quantum interference to measure the desired phase $\\theta$ on an auxiliary quantum register. Various degrees of classical post processing are required following the interference measurements. PEAs can be broadly categorized as non-iterative or iterative. Standard phase estimation is the best known of the non-iterative algorithms and requires no classical processing. Iterative PEAs typically use only a single auxiliary qubit and require multiple rounds, sometimes adaptive, and might require significant classical computation.\n",
    "\n",
    "All but the simplest PEAs achieve a $O(1/\\epsilon)$ scaling in accuracy, which is provably optimal in the general setting."
   ]
  },
  {
   "cell_type": "markdown",
   "id": "938d5a15-e65c-4511-8092-9f2381dfb3ef",
   "metadata": {},
   "source": [
    "## Proto Phase Estimation Algorithm"
   ]
  },
  {
   "cell_type": "markdown",
   "id": "6874b178-6b4d-439f-b81f-e9dd227ccdaf",
   "metadata": {},
   "source": [
    "## Kitaev Phase Estimation Algorithm\n",
    "\n",
    "### Circuit diagram\n",
    "\n",
    "### Pseudocode\n",
    "\n"
   ]
  },
  {
   "cell_type": "markdown",
   "id": "4988c51d-9667-4cba-86d3-f34c2c76dfe7",
   "metadata": {},
   "source": [
    "## Standard Phase Estimation Algorithm\n",
    "\n",
    "### Overview\n",
    "\n",
    "Type: Non-iterative\n",
    "Spatial overhead: \n",
    "Runtime: \n",
    "Output: An $n$-bit approximation $\\tilde{\\theta}$ to $\\theta$ on a quantum register with probability ???\n",
    "\n",
    "### Circuit diagram\n",
    "\n",
    "### Pseudocode (Nielsen and Chuang pg. 235)\n",
    "\n"
   ]
  },
  {
   "cell_type": "markdown",
   "id": "e8fc62ff-fa90-4886-9a4f-4d1e39b4e9f2",
   "metadata": {},
   "source": [
    "### Qiskit Implementation"
   ]
  },
  {
   "cell_type": "code",
   "execution_count": null,
   "id": "b8cb56bd-a3d5-4582-bf43-c0dd94a285e7",
   "metadata": {},
   "outputs": [],
   "source": [
    "import numpy as np\n",
    "\n",
    "from qiskit import QuantumRegister, ClassicalRegister, QuantumCircuit\n",
    "from qiskit.circuit.library import QFT\n",
    "\n",
    "\n",
    "def create_qpe_circuit(theta, num_qubits):\n",
    "    \"\"\"Creates a QPE circuit given theta and num_qubits.\"\"\"\n",
    "\n",
    "    # Step 1: Create a circuit with two quantum registers and one classical register.\n",
    "    first = QuantumRegister(\n",
    "        size=num_qubits, name=\"first\"\n",
    "    )  # the first register for phase estimation\n",
    "    second = QuantumRegister(\n",
    "        size=1, name=\"second\"\n",
    "    )  # the second register for storing eigenvector |psi>\n",
    "    classical = ClassicalRegister(\n",
    "        size=num_qubits, name=\"readout\"\n",
    "    )  # classical register for readout\n",
    "    qpe_circuit = QuantumCircuit(first, second, classical)\n",
    "\n",
    "    # Step 2: Initialize the qubits.\n",
    "    # All qubits are initialized in |0> by default, no extra code is needed to initialize the first register.\n",
    "    qpe_circuit.x(\n",
    "        second\n",
    "    )  # Initialize the second register with state |psi>, which is |1> in this example.\n",
    "\n",
    "    # Step 3: Create superposition in the first register.\n",
    "    qpe_circuit.barrier()  # Add barriers to separate each step of the algorithm for better visualization.\n",
    "    qpe_circuit.h(first)\n",
    "\n",
    "    # Step 4: Apply a controlled-U^(2^j) black box.\n",
    "    qpe_circuit.barrier()\n",
    "    for j in range(num_qubits):\n",
    "        qpe_circuit.cp(\n",
    "            theta * 2 * np.pi * (2**j), j, num_qubits\n",
    "        )  # Theta doesn't contain the 2 pi factor.\n",
    "\n",
    "    # Step 5: Apply an inverse QFT to the first register.\n",
    "    qpe_circuit.barrier()\n",
    "    qpe_circuit.compose(QFT(num_qubits, inverse=True), inplace=True)\n",
    "\n",
    "    # Step 6: Measure the first register.\n",
    "    qpe_circuit.barrier()\n",
    "    qpe_circuit.measure(first, classical)\n",
    "\n",
    "    return qpe_circuit"
   ]
  },
  {
   "cell_type": "markdown",
   "id": "c7cc8fa5-4a2e-4c0b-b732-928545b52ac7",
   "metadata": {},
   "source": [
    "## Applications\n",
    "- Order finding, thereby integer factorization (Shor's algorithm)\n",
    "- Solving linear systems of equations (HHL algorithm)\n",
    "- Quantum simulation"
   ]
  },
  {
   "cell_type": "markdown",
   "id": "32fd15d4-f616-4467-a020-2e4d03a4979a",
   "metadata": {},
   "source": [
    "### See also\n",
    "\n",
    "- "
   ]
  }
 ],
 "metadata": {
  "kernelspec": {
   "display_name": "Python 3 (ipykernel)",
   "language": "python",
   "name": "python3"
  },
  "language_info": {
   "codemirror_mode": {
    "name": "ipython",
    "version": 3
   },
   "file_extension": ".py",
   "mimetype": "text/x-python",
   "name": "python",
   "nbconvert_exporter": "python",
   "pygments_lexer": "ipython3",
   "version": "3.10.7"
  }
 },
 "nbformat": 4,
 "nbformat_minor": 5
}
