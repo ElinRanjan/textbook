{
 "cells": [
  {
   "cell_type": "markdown",
   "id": "be1cae81-2aac-4a11-ba29-57518101ecd3",
   "metadata": {},
   "source": [
    "# Phase Estimation"
   ]
  },
  {
   "cell_type": "markdown",
   "id": "2bf8e352-7610-4424-9f64-160712bbbaea",
   "metadata": {},
   "source": [
    "## Overview\n",
    "\n",
    "- Type: Estimation task\n",
    "- Time complexity: $O(1/\\epsilon)$ for most algorithms, with estimation error $\\epsilon$. \n",
    "- Approachability: Medium\n",
    "- Related topics: Phase kickback, Shor's algorithm, Optical interferometry, Quantum Fourier Transform\n",
    "- Applications: Factoring, eigenvalue estimation, solving linear systems, amplitude estimation, quantum mechanics\n",
    "\n",
    "In the context of quantum computing, *phase estimation* refers to the problem of estimating of the eigenvalue of a unitary operator given an eigenvector. Algorithms which solve this problem are known as *phase estimation algorithms*. Often in practice, *phase estimation* is used to refer either to the problem or the algorithm interchangeably. "
   ]
  },
  {
   "cell_type": "markdown",
   "id": "1f23f621-5da5-4299-99da-ce9887a23a49",
   "metadata": {},
   "source": [
    "## Problem statement\n",
    "\n",
    "For a unitary operation $U$, and associated eigenvector $\\vert u \\rangle$, there is a $\\theta \\in [0,1)$ such that\n",
    "\n",
    "$$\n",
    "U \\vert u \\rangle = e^{2\\pi i \\theta} \\vert u \\rangle.\n",
    "$$\n",
    "\n",
    "Given oracular access to a unitary $U$, controlled versions thereof, and an eigenvector $\\vert u \\rangle$ prepared on a quantum register to fidelity $F$, determine $\\theta$ to accuracy $\\epsilon$. We refer to $\\theta$ as the *phase*. "
   ]
  },
  {
   "cell_type": "markdown",
   "id": "a65ee02e-392b-4843-80e7-4faa4e9f4609",
   "metadata": {},
   "source": [
    "## Algorithms\n",
    "\n",
    "There are many Quantum Phase Estimation Algorithms (QPEA). In this article we will focus on the following incomplete list.  \n",
    "\n",
    "- Standard QPEA\n",
    "- QPEA via Hadamard Test\n",
    "- Kitaev QPEA\n",
    "- Fast QPEA (Svore, Hastings, Freedman)\n",
    "- Bayesian QPEA "
   ]
  },
  {
   "cell_type": "markdown",
   "id": "eb059458-3808-452c-95de-9ca326f54af4",
   "metadata": {
    "jp-MarkdownHeadingCollapsed": true,
    "tags": []
   },
   "source": [
    "### High level description\n",
    "\n",
    "Phase estimation algorithms (PEAs) employ phase kickback and quantum interference to measure the desired phase $\\theta$ on an auxiliary quantum register. Various degrees of classical post processing are required following the interference measurements. PEAs can be broadly categorized as non-iterative or iterative. Standard phase estimation is the best known of the non-iterative algorithms and requires no classical processing. Iterative PEAs typically use only a single auxiliary qubit and require multiple rounds, sometimes adaptive, and might require significant classical computation.\n",
    "\n",
    "All but the simplest PEAs achieve a $O(1/\\epsilon)$ scaling in accuracy, which is provably optimal in the general setting."
   ]
  },
  {
   "cell_type": "markdown",
   "id": "64517b0b-5736-4f95-bfc0-ab7c0039c8ae",
   "metadata": {
    "tags": []
   },
   "source": [
    "## Standard Phase Estimation Algorithm (Nielsen and Chuang)"
   ]
  },
  {
   "cell_type": "markdown",
   "id": "9a77dd66-6054-4e24-a6b1-e08d018a84b9",
   "metadata": {},
   "source": [
    "### Overview\n",
    "\n",
    "As the name suggests, the most commonly referred to algorithm for phase estimation, often simply abbreviated to \"phase estimation.\" In contrast to \"iterative\" methods, this approach requires (with high probability) only one execution of the circuit below, but a number of auxiliary qubits proportional to the desired bits of precision. An $n$ bit approximation is of the phase is produced on an auxiliary register.\n",
    "\n",
    "### Characteristics\n",
    "\n",
    "Type: Single shot \\\n",
    "Qubit overhead: $O(\\log(1/\\epsilon) + \\log(1/\\delta))$. \\\n",
    "Runtime: $O(1/\\epsilon)$ calls to the controlled-$U$. \\\n",
    "Maximum depth: $O(1/\\epsilon)$\n",
    "Works with superposition input?: Yes\n",
    "\n",
    "\n",
    "### Circuit diagram\n",
    "\n",
    "### Pseudocode (Nielsen and Chuang pg. 235)"
   ]
  },
  {
   "cell_type": "markdown",
   "id": "e8fc62ff-fa90-4886-9a4f-4d1e39b4e9f2",
   "metadata": {
    "jp-MarkdownHeadingCollapsed": true,
    "tags": []
   },
   "source": [
    "### Qiskit Implementation"
   ]
  },
  {
   "cell_type": "code",
   "execution_count": null,
   "id": "b8cb56bd-a3d5-4582-bf43-c0dd94a285e7",
   "metadata": {},
   "outputs": [],
   "source": [
    "import numpy as np\n",
    "\n",
    "from qiskit import QuantumRegister, ClassicalRegister, QuantumCircuit\n",
    "from qiskit.circuit.library import QFT\n",
    "\n",
    "\n",
    "def create_qpe_circuit(theta, num_qubits):\n",
    "    \"\"\"Creates a QPE circuit given theta and num_qubits.\"\"\"\n",
    "\n",
    "    # Step 1: Create a circuit with two quantum registers and one classical register.\n",
    "    first = QuantumRegister(\n",
    "        size=num_qubits, name=\"first\"\n",
    "    )  # the first register for phase estimation\n",
    "    second = QuantumRegister(\n",
    "        size=1, name=\"second\"\n",
    "    )  # the second register for storing eigenvector |psi>\n",
    "    classical = ClassicalRegister(\n",
    "        size=num_qubits, name=\"readout\"\n",
    "    )  # classical register for readout\n",
    "    qpe_circuit = QuantumCircuit(first, second, classical)\n",
    "\n",
    "    # Step 2: Initialize the qubits.\n",
    "    # All qubits are initialized in |0> by default, no extra code is needed to initialize the first register.\n",
    "    qpe_circuit.x(\n",
    "        second\n",
    "    )  # Initialize the second register with state |psi>, which is |1> in this example.\n",
    "\n",
    "    # Step 3: Create superposition in the first register.\n",
    "    qpe_circuit.barrier()  # Add barriers to separate each step of the algorithm for better visualization.\n",
    "    qpe_circuit.h(first)\n",
    "\n",
    "    # Step 4: Apply a controlled-U^(2^j) black box.\n",
    "    qpe_circuit.barrier()\n",
    "    for j in range(num_qubits):\n",
    "        qpe_circuit.cp(\n",
    "            theta * 2 * np.pi * (2**j), j, num_qubits\n",
    "        )  # Theta doesn't contain the 2 pi factor.\n",
    "\n",
    "    # Step 5: Apply an inverse QFT to the first register.\n",
    "    qpe_circuit.barrier()\n",
    "    qpe_circuit.compose(QFT(num_qubits, inverse=True), inplace=True)\n",
    "\n",
    "    # Step 6: Measure the first register.\n",
    "    qpe_circuit.barrier()\n",
    "    qpe_circuit.measure(first, classical)\n",
    "\n",
    "    return qpe_circuit"
   ]
  },
  {
   "cell_type": "markdown",
   "id": "938d5a15-e65c-4511-8092-9f2381dfb3ef",
   "metadata": {
    "tags": []
   },
   "source": [
    "## Phase Estimation with the Hadamard test"
   ]
  },
  {
   "cell_type": "markdown",
   "id": "afb7bb09-630b-479d-a4f3-ccd7ccd386d7",
   "metadata": {},
   "source": [
    "#### Overview \n",
    "\n",
    "The Hadamard test serves as a phase estimation algorithm. See the Hadamard Test article for further information.\n",
    "\n",
    "#### Characteristics\n",
    "\n",
    "Type: Iterative \\\n",
    "Qubit overhead: $1$ ancilla \\\n",
    "Runtime: $O(1/\\epsilon^2)$ iterations. \\\n",
    "Eigenvector superpositions: Yes for coherent, No otherwise \\\n",
    "Maximum depth: $O(1)$ for incoherent, $O(1/\\epsilon^2)$ for coherent.\n",
    "\n",
    "#### Remarks\n",
    "\n",
    "Possibly the simplest QPEA, but with quadratically worse scaling than other approaches in the accuracy. Low overhead qubit costs make this approach more attractive than standard QPE for noisy hardware. Two versions of this exist: a \"coherent\" version, in which repeated measurements "
   ]
  },
  {
   "cell_type": "markdown",
   "id": "46e218a3-2204-4636-b582-4895902e68ae",
   "metadata": {
    "jp-MarkdownHeadingCollapsed": true,
    "tags": []
   },
   "source": [
    "### Qiskit Implementation"
   ]
  },
  {
   "cell_type": "markdown",
   "id": "c22c7ef2-7797-4678-87bf-3984b710b54f",
   "metadata": {},
   "source": [
    "#### Relevant imports"
   ]
  },
  {
   "cell_type": "code",
   "execution_count": 64,
   "id": "3786eb81-a570-4236-a130-15cf02160e6c",
   "metadata": {},
   "outputs": [],
   "source": [
    "import numpy as np\n",
    "from qiskit import ClassicalRegister, QuantumRegister, QuantumCircuit\n",
    "from qiskit_aer.primitives import Sampler\n",
    "from qiskit.circuit.library.standard_gates import SwapGate"
   ]
  },
  {
   "cell_type": "markdown",
   "id": "75a89ba5-b2fc-4256-a9df-dc657b4768a1",
   "metadata": {},
   "source": [
    "#### Basic Hadamard circuit\n",
    "\n",
    "The code below is borrowed from the Hadamard test compendium article. See that page for further details."
   ]
  },
  {
   "cell_type": "code",
   "execution_count": 3,
   "id": "9b3c94d7-3eec-4921-a4a9-ca7549689067",
   "metadata": {},
   "outputs": [],
   "source": [
    "def hadamard_circuit(U, add_s_gate=False, measure=True):\n",
    "    \"\"\"\n",
    "    Args:\n",
    "        U (Gate): Unitary gate to measure expectation value of\n",
    "        add_s_gate (bool): Whether to measure real (False) or imaginary\n",
    "            (True) parts of the expectation value\n",
    "        measure (bool): Whether to measure the auxiliary qubit\n",
    "    Returns:\n",
    "        QuantumCircuit that implements the Hadamard test\n",
    "    \"\"\"\n",
    "    # Initialize registers and circuit\n",
    "    aux = QuantumRegister(1, 'aux')\n",
    "    main = QuantumRegister(U.num_qubits, 'q')\n",
    "    circuit = QuantumCircuit(aux, main)\n",
    "    \n",
    "    # Construct controlled-U gate\n",
    "    cU = U.control(1)\n",
    "    \n",
    "    # Add gates to circuit\n",
    "    circuit.h(aux)\n",
    "    circuit.append(cU, aux[:] + main[:])\n",
    "    if add_s_gate:\n",
    "        circuit.s(aux)\n",
    "    circuit.h(aux)\n",
    "    \n",
    "    # Add measurement if option specified\n",
    "    if measure:\n",
    "        creg = ClassicalRegister(1, 'c')\n",
    "        circuit.add_register(creg)\n",
    "        circuit.measure(aux, creg)\n",
    "    \n",
    "    return circuit"
   ]
  },
  {
   "cell_type": "markdown",
   "id": "34982037-d83d-433a-aea7-fcb8b192e248",
   "metadata": {},
   "source": [
    "#### Coherent vs incoherent phase estimation\n",
    "\n",
    "Hadamard phase estimation involves repeated Hadamard circuit measurements. There are two approaches we can take:\n",
    "\n",
    "- Perform a Hadamard test on many copies of identical input states. We label this \"incoherent\" phase estimation. This approach only works when the state is approximately an eigenstate, but uses shallower circuits. \n",
    "- After each Hadamard test measurement, leave the state of the main register as is. This corresponds to \"coherent\" phase estimation. This approach allows for phase estimation with generic input states, with probability of a phase being measured given by the Born rule. However, this approach has larger circuit depths.\n",
    "\n",
    "The following function creates the required circuit for coherent phase estimation."
   ]
  },
  {
   "cell_type": "code",
   "execution_count": 4,
   "id": "605b6326-aed8-4002-b11b-67638ac20100",
   "metadata": {},
   "outputs": [],
   "source": [
    "# State of main register is not reset after each measurement. Allows for phase estimation over superpositions.\n",
    "def coherent_Hadamard_circuit(U, Ncycles):\n",
    "    \"\"\"\n",
    "    Args:\n",
    "        U (Gate): Unitary gate to measure\n",
    "        Ncycles: Number of measurements on ancilla qubit for phased and unphased Hadamard test. \n",
    "        coherent (bool): Whether to keep state of principal register (True) \n",
    "            or reset to original state(False) after each measurement.\n",
    "    Returns:\n",
    "        QuantumCircuit that implements a coherent version of the Hadamard test, whereby this we mean the state of the principal register is not reset following measurements.\n",
    "    \"\"\"\n",
    "    hadamard_circ = hadamard_circuit(U, add_s_gate = False, measure = True)\n",
    "    \n",
    "    \n",
    "    # Initialize circuit with first iteration as initial fencepost\n",
    "    circuit = hadamard_circuit(U, add_s_gate = False, measure = False)\n",
    "    creg = ClassicalRegister(2*Ncycles, 'c')\n",
    "    circuit.add_register(creg)\n",
    "    circuit.measure(0, creg[0])\n",
    "    circuit.reset(0)\n",
    "    \n",
    "    # Perform nonphased measurements\n",
    "    for k in range(1, Ncycles):\n",
    "        circuit = circuit.compose(hadamard_circ, qubits = None, clbits = k)\n",
    "        circuit.reset(0)\n",
    "        \n",
    "    hadamard_circ = hadamard_circuit(U, add_s_gate = True, measure = True)\n",
    "    \n",
    "    # Perform nonphased measurements\n",
    "    for k in range(0, Ncycles):\n",
    "        circuit = circuit.compose(hadamard_circ, qubits = None, clbits = k + Ncycles)\n",
    "        circuit.reset(0)\n",
    "    \n",
    "    return circuit"
   ]
  },
  {
   "cell_type": "markdown",
   "id": "825a7d4a-f83c-4bdc-9479-46a94411f8c9",
   "metadata": {},
   "source": [
    "We demonstrate this construction for $U = \\text{SWAP}$."
   ]
  },
  {
   "cell_type": "code",
   "execution_count": 5,
   "id": "3803ebd0-3871-4dbf-9243-d864230c86d4",
   "metadata": {
    "tags": []
   },
   "outputs": [
    {
     "data": {
      "image/png": "[encoded data removed]",
      "text/plain": [
       "<Figure size 1976.14x367.889 with 1 Axes>"
      ]
     },
     "execution_count": 5,
     "metadata": {},
     "output_type": "execute_result"
    }
   ],
   "source": [
    "circuit = coherent_Hadamard_circuit(SwapGate(), 2)\n",
    "circuit.draw(output = 'mpl')"
   ]
  },
  {
   "cell_type": "markdown",
   "id": "377cef8a-36db-43a7-9490-8ab7bf6b2bfe",
   "metadata": {},
   "source": [
    "Using `Ncycles = 2` is typically too short to get a good estimate, but we wanted to make the circuit easy to visualize. \n",
    "\n",
    "#### Hadamard phase estimation.\n",
    "\n",
    "Below is a function to perform Hadamard phase estimation, either coherent or incoherent. "
   ]
  },
  {
   "cell_type": "code",
   "execution_count": 90,
   "id": "0ed2dfb7-40c6-4d81-8c86-9beb4e0a79a5",
   "metadata": {},
   "outputs": [],
   "source": [
    "def Hadamard_phase_estimation(U, Uprep = None, precision = 2 * 10**-1, coherent = False):\n",
    "    \"\"\"\n",
    "    Args:\n",
    "        U (Gate): Unitary gate to measure expectation value of\n",
    "        backend (Backend): Desired Qiskit backend, such as a simulator or quantum device\n",
    "        precision (float): Desired precision of phase. \n",
    "            Achieving results well outside of precision has exponentially vanishing probability. \n",
    "        coherent (bool): Whether to keep state of principal register (True) \n",
    "            or reset to original state(False) after each measurement.\n",
    "    Returns:\n",
    "        An estimate for the phase with specified precision, to confidence ~70%.\n",
    "            Large deviations from precision are statistically unlikely.\n",
    "    \"\"\"\n",
    "    Ncycles = int(2//(precision**2))\n",
    "    \n",
    "    # Do single shot, coherent phase estimation if coherent = True\n",
    "    if coherent:\n",
    "        phase_estimation_circuit = coherent_Hadamard_circuit(U, Ncycles)\n",
    "        # Perform state prep, if any\n",
    "        if Uprep != None: phase_estimation_circuit.compose(Uprep, front = True)\n",
    "        # Run circuit\n",
    "        job = Sampler().run(circuit, shots = 1)\n",
    "        result_dict = job.result().quasi_dists[0]\n",
    "        measurements = bin(list(result_dict)[0])[2:]\n",
    "        \n",
    "        # Split results into phased and unphased measurements\n",
    "        phased_measurements = measurements[0:Ncycles]\n",
    "        unphased_measurements = measurements[Ncycles, 2*Ncycles]\n",
    "        \n",
    "        # Compute Hamming weight to get counts\n",
    "        phased_counts = np.sum(list(map(int,list(phased_measurements))))\n",
    "        unphased_counts = np.sum(list(map(int,list(unphased_measurements))))\n",
    "        \n",
    "        # Extract Pr(0)\n",
    "        unphased_p0 = 1 - unphased_counts/Ncycles\n",
    "        phased_p0 = 1 - phased_counts/Ncycles\n",
    "    else:  \n",
    "        # Otherwise, do incoherent phase estimation\n",
    "        unphased_circuit = hadamard_circuit(U, add_s_gate = False, measure = True)\n",
    "        phased_circuit = hadamard_circuit(U, add_s_gate = True, measure = True)\n",
    "        # Do state prep, if any\n",
    "        if Uprep != None:\n",
    "            unphased_circuit = unphased_circuit.compose(Uprep, range(1,unphased_circuit.num_qubits),front = True)\n",
    "            phased_circuit = phased_circuit.compose(Uprep, range(1,unphased_circuit.num_qubits), front = True)\n",
    "\n",
    "        # Run circuits\n",
    "        unphased_results = Sampler().run(unphased_circuit, shots = Ncycles).result().quasi_dists[0]\n",
    "        phased_results = Sampler().run(phased_circuit, shots = Ncycles).result().quasi_dists[0]\n",
    "\n",
    "        # Extract Pr(0)\n",
    "        unphased_p0 = unphased_results.get(0, 0)\n",
    "        phased_p0 = phased_results.get(0, 0)\n",
    "\n",
    "    \n",
    "    # Get cosine and sine of phase\n",
    "    costheta = 2*unphased_p0 - 1\n",
    "    sintheta = 1- 2*phased_p0\n",
    "    \n",
    "    #Extract phase as final result\n",
    "    theta = np.arctan2(sintheta, costheta)\n",
    "    # Make branch correction to [0, 2 pi)\n",
    "    if theta < 0: theta += 2*np.pi\n",
    "    # Return number between 0,1\n",
    "    theta = theta/(2*np.pi)\n",
    "    return theta"
   ]
  },
  {
   "cell_type": "markdown",
   "id": "05910e06-ef71-4755-982a-bd57cd344ca2",
   "metadata": {},
   "source": [
    "Example, SWAP gate"
   ]
  },
  {
   "cell_type": "code",
   "execution_count": 99,
   "id": "0e608484-c91d-4f11-9f60-533f37d0bb9a",
   "metadata": {
    "tags": []
   },
   "outputs": [],
   "source": [
    "# Prepare a symmetric eigenstate of SWAP. Phase should be zero or 2 pi.\n",
    "prep_circuit = QuantumCircuit(2)\n",
    "prep_circuit.h(0)\n",
    "prep_circuit.cx(0,1)\n",
    "prep_circuit.x(0)\n",
    "\n",
    "Uprep = prep_circuit.to_gate()\n",
    "\n",
    "phase = Hadamard_phase_estimation(SwapGate(), Uprep, precision = 2 * 10**-1, coherent = False)"
   ]
  },
  {
   "cell_type": "markdown",
   "id": "db01f79b-3a4c-4efb-b72d-e567cb56459a",
   "metadata": {},
   "source": [
    "### Kitaev Phase Estimation Algorithm"
   ]
  },
  {
   "cell_type": "markdown",
   "id": "cf050332-a657-4229-9d0b-ee1e19fd1fa6",
   "metadata": {},
   "source": [
    "#### Overview\n",
    "\n",
    "The Kitaev phase estimation algorithm (KPEA) is simply the Hadamard test repeated with certain multiples of the phase, followed by classical post processing on the resulting data. More specifically, instead of estimating \n",
    "\n",
    "#### Characteristics\n",
    "\n",
    "Type: Iterative \\\n",
    "Qubit overhead: $1$ ancilla \\\n",
    "Runtime: $O(1/\\epsilon)$ \\\n",
    "Eigenvector superpositions?: No\n",
    "\n",
    "#### Circuit diagram\n",
    "\n",
    "#### Pseudocode"
   ]
  },
  {
   "cell_type": "markdown",
   "id": "65df8882-a6f8-4149-8a60-7455e382b7fa",
   "metadata": {},
   "source": [
    "### Qiskit Implementation"
   ]
  },
  {
   "cell_type": "code",
   "execution_count": null,
   "id": "6d647893-e1df-40de-b6cc-48d20088b956",
   "metadata": {},
   "outputs": [],
   "source": [
    "import numpy as np\n"
   ]
  },
  {
   "cell_type": "markdown",
   "id": "c7cc8fa5-4a2e-4c0b-b732-928545b52ac7",
   "metadata": {},
   "source": [
    "## Applications\n",
    "- Order finding, thereby integer factorization (Shor's algorithm)\n",
    "- Solving linear systems of equations (HHL algorithm)\n",
    "- Quantum simulation"
   ]
  },
  {
   "cell_type": "markdown",
   "id": "32fd15d4-f616-4467-a020-2e4d03a4979a",
   "metadata": {},
   "source": [
    "### See also\n",
    "\n",
    "- "
   ]
  },
  {
   "cell_type": "code",
   "execution_count": 3,
   "id": "0a757131-9998-47e6-980f-5169b162aaf0",
   "metadata": {},
   "outputs": [
    {
     "data": {
      "text/plain": [
       "'0.11.0'"
      ]
     },
     "execution_count": 3,
     "metadata": {},
     "output_type": "execute_result"
    }
   ],
   "source": [
    "import qiskit_aer\n",
    "qiskit_aer.version.get_version_info()"
   ]
  },
  {
   "cell_type": "code",
   "execution_count": null,
   "id": "7802c52a-1fd8-4167-b53b-ed3fe5091e2a",
   "metadata": {},
   "outputs": [],
   "source": []
  }
 ],
 "metadata": {
  "kernelspec": {
   "display_name": "Python 3 (ipykernel)",
   "language": "python",
   "name": "python3"
  },
  "language_info": {
   "codemirror_mode": {
    "name": "ipython",
    "version": 3
   },
   "file_extension": ".py",
   "mimetype": "text/x-python",
   "name": "python",
   "nbconvert_exporter": "python",
   "pygments_lexer": "ipython3",
   "version": "3.10.7"
  }
 },
 "nbformat": 4,
 "nbformat_minor": 5
}
