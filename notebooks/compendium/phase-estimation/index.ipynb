{
 "cells": [
  {
   "cell_type": "markdown",
   "id": "be1cae81-2aac-4a11-ba29-57518101ecd3",
   "metadata": {},
   "source": [
    "# Phase Estimation"
   ]
  },
  {
   "cell_type": "markdown",
   "id": "2bf8e352-7610-4424-9f64-160712bbbaea",
   "metadata": {},
   "source": [
    "## Overview\n",
    "\n",
    "- Type: Estimation task\n",
    "- Time complexity: $O(1/\\epsilon)$ for most algorithms, with estimation error $\\epsilon$. \n",
    "- Approachability: Medium\n",
    "- Related topics: Phase kickback, Shor's algorithm, Optical interferometry, Quantum Fourier Transform\n",
    "- Applications: Factoring, eigenvalue estimation, solving linear systems, amplitude estimation, quantum mechanics\n",
    "\n",
    "In the context of quantum computing, *phase estimation* refers to the problem of estimating of the eigenvalue of a unitary operator given an eigenvector. Algorithms which solve this problem are known as *phase estimation algorithms*. Often in practice, *phase estimation* is used to refer either to the problem or the algorithm interchangeably. "
   ]
  },
  {
   "cell_type": "markdown",
   "id": "1f23f621-5da5-4299-99da-ce9887a23a49",
   "metadata": {},
   "source": [
    "## Problem statement\n",
    "\n",
    "For a unitary operation $U$, and associated eigenvector $\\vert u \\rangle$, there is a $\\theta \\in [0,1)$ such that\n",
    "\n",
    "$$\n",
    "U \\vert u \\rangle = e^{2\\pi i \\theta} \\vert u \\rangle.\n",
    "$$\n",
    "\n",
    "Given oracular access to a unitary $U$, controlled versions thereof, and an eigenvector $\\vert u \\rangle$ prepared on a quantum register to fidelity $F$, determine $\\theta$ to accuracy $\\epsilon$. We refer to $\\theta$ as the *phase*. "
   ]
  },
  {
   "cell_type": "markdown",
   "id": "a65ee02e-392b-4843-80e7-4faa4e9f4609",
   "metadata": {},
   "source": [
    "## Algorithms\n",
    "\n",
    "There are many Quantum Phase Estimation Algorithms (QPEA). In this article we will focus on the following incomplete list.  \n",
    "\n",
    "- Standard QPEA\n",
    "- QPEA via Hadamard Test\n",
    "- Kitaev QPEA\n",
    "- Fast QPEA (Svore, Hastings, Freedman)\n",
    "- Bayesian QPEA "
   ]
  },
  {
   "cell_type": "markdown",
   "id": "eb059458-3808-452c-95de-9ca326f54af4",
   "metadata": {},
   "source": [
    "### High level description\n",
    "\n",
    "Phase estimation algorithms (PEAs) employ phase kickback and quantum interference to measure the desired phase $\\theta$ on an auxiliary quantum register. Various degrees of classical post processing are required following the interference measurements. PEAs can be broadly categorized as non-iterative or iterative. Standard phase estimation is the best known of the non-iterative algorithms and requires no classical processing. Iterative PEAs typically use only a single auxiliary qubit and require multiple rounds, sometimes adaptive, and might require significant classical computation.\n",
    "\n",
    "All but the simplest PEAs achieve a $O(1/\\epsilon)$ scaling in accuracy, which is provably optimal in the general setting."
   ]
  },
  {
   "cell_type": "markdown",
   "id": "4988c51d-9667-4cba-86d3-f34c2c76dfe7",
   "metadata": {},
   "source": [
    "## Standard Phase Estimation Algorithm (Nielsen and Chuang)\n",
    "\n",
    "### Overview\n",
    "\n",
    "As the name suggests, the most commonly referred to algorithm for phase estimation, often simply abbreviated to \"phase estimation.\" In contrast to \"iterative\" methods, this approach requires (with high probability) only one execution of the circuit below, but a number of auxiliary qubits proportional to the desired bits of precision. An $n$ bit approximation is of the phase is produced on an auxiliary register.\n",
    "\n",
    "### Characteristics\n",
    "\n",
    "Type: Single shot \\\n",
    "Qubit overhead: $O(\\log(1/\\epsilon) + \\log(1/\\delta))$. \\\n",
    "Runtime: $O(1/\\epsilon)$ calls to the controlled-$U$. \\\n",
    "Works with superposition input?: Yes\n",
    "\n",
    "\n",
    "### Circuit diagram\n",
    "\n",
    "### Pseudocode (Nielsen and Chuang pg. 235)\n",
    "\n"
   ]
  },
  {
   "cell_type": "markdown",
   "id": "e8fc62ff-fa90-4886-9a4f-4d1e39b4e9f2",
   "metadata": {},
   "source": [
    "### Qiskit Implementation"
   ]
  },
  {
   "cell_type": "code",
   "execution_count": null,
   "id": "b8cb56bd-a3d5-4582-bf43-c0dd94a285e7",
   "metadata": {},
   "outputs": [],
   "source": [
    "import numpy as np\n",
    "\n",
    "from qiskit import QuantumRegister, ClassicalRegister, QuantumCircuit\n",
    "from qiskit.circuit.library import QFT\n",
    "\n",
    "\n",
    "def create_qpe_circuit(theta, num_qubits):\n",
    "    \"\"\"Creates a QPE circuit given theta and num_qubits.\"\"\"\n",
    "\n",
    "    # Step 1: Create a circuit with two quantum registers and one classical register.\n",
    "    first = QuantumRegister(\n",
    "        size=num_qubits, name=\"first\"\n",
    "    )  # the first register for phase estimation\n",
    "    second = QuantumRegister(\n",
    "        size=1, name=\"second\"\n",
    "    )  # the second register for storing eigenvector |psi>\n",
    "    classical = ClassicalRegister(\n",
    "        size=num_qubits, name=\"readout\"\n",
    "    )  # classical register for readout\n",
    "    qpe_circuit = QuantumCircuit(first, second, classical)\n",
    "\n",
    "    # Step 2: Initialize the qubits.\n",
    "    # All qubits are initialized in |0> by default, no extra code is needed to initialize the first register.\n",
    "    qpe_circuit.x(\n",
    "        second\n",
    "    )  # Initialize the second register with state |psi>, which is |1> in this example.\n",
    "\n",
    "    # Step 3: Create superposition in the first register.\n",
    "    qpe_circuit.barrier()  # Add barriers to separate each step of the algorithm for better visualization.\n",
    "    qpe_circuit.h(first)\n",
    "\n",
    "    # Step 4: Apply a controlled-U^(2^j) black box.\n",
    "    qpe_circuit.barrier()\n",
    "    for j in range(num_qubits):\n",
    "        qpe_circuit.cp(\n",
    "            theta * 2 * np.pi * (2**j), j, num_qubits\n",
    "        )  # Theta doesn't contain the 2 pi factor.\n",
    "\n",
    "    # Step 5: Apply an inverse QFT to the first register.\n",
    "    qpe_circuit.barrier()\n",
    "    qpe_circuit.compose(QFT(num_qubits, inverse=True), inplace=True)\n",
    "\n",
    "    # Step 6: Measure the first register.\n",
    "    qpe_circuit.barrier()\n",
    "    qpe_circuit.measure(first, classical)\n",
    "\n",
    "    return qpe_circuit"
   ]
  },
  {
   "cell_type": "markdown",
   "id": "938d5a15-e65c-4511-8092-9f2381dfb3ef",
   "metadata": {
    "tags": []
   },
   "source": [
    "### Phase Estimation with the Hadamard test"
   ]
  },
  {
   "cell_type": "markdown",
   "id": "afb7bb09-630b-479d-a4f3-ccd7ccd386d7",
   "metadata": {},
   "source": [
    "#### Overview \n",
    "\n",
    "The Hadamard test serves as a phase estimation algorithm. See the Hadamard Test article for further information.\n",
    "\n",
    "#### Characteristics\n",
    "\n",
    "Type: Iterative \\\n",
    "Qubit overhead: $1$ ancilla \\\n",
    "Runtime: $O(1/\\epsilon^2)$ iterations. \\\n",
    "Eigenvector superpositions?: No\n",
    "\n",
    "#### Remarks\n",
    "\n",
    "Possibly the simplest QPEA, but with quadratically worse scaling than other approaches in the accuracy. "
   ]
  },
  {
   "cell_type": "markdown",
   "id": "46e218a3-2204-4636-b582-4895902e68ae",
   "metadata": {},
   "source": [
    "### Qiskit Implementation\n",
    "\n",
    "The following Hadamard test function is taken from the Hadamard test page."
   ]
  },
  {
   "cell_type": "code",
   "execution_count": null,
   "id": "aff61e0a-ed44-4e95-8b93-1a46a80d8689",
   "metadata": {},
   "outputs": [],
   "source": [
    "from qiskit import QuantumRegister, ClassicalRegister, QuantumCircuit\n",
    "from qiskit.circuit.library.standard_gates import SwapGate\n",
    "\n",
    "def hadamard_circuit(U, add_s_gate=False, measure=True):\n",
    "    \"\"\"\n",
    "    Args:\n",
    "        U (Gate): Unitary gate to measure expectation value of\n",
    "        add_s_gate (bool): Whether to measure real (False) or imaginary\n",
    "            (True) parts of the expectation value\n",
    "        measure (bool): Whether to measure the auxiliary qubit\n",
    "    Returns:\n",
    "        QuantumCircuit that implements the Hadamard test\n",
    "    \"\"\"\n",
    "    # Initialize registers and circuit\n",
    "    aux = QuantumRegister(1, 'aux')\n",
    "    main = QuantumRegister(U.num_qubits, 'q')\n",
    "    circuit = QuantumCircuit(aux, main)\n",
    "    \n",
    "    # Construct controlled-U gate\n",
    "    cU = U.control(1)\n",
    "    \n",
    "    # Add gates to circuit\n",
    "    circuit.h(aux)\n",
    "    circuit.append(cU, aux[:] + main[:])\n",
    "    if add_s_gate:\n",
    "        circuit.s(aux)\n",
    "    circuit.h(aux)\n",
    "    \n",
    "    # Add measurement if option specified\n",
    "    if measure:\n",
    "        creg = ClassicalRegister(1, 'c')\n",
    "        circuit.add_register(creg)\n",
    "        circuit.measure(aux, creg)\n",
    "    \n",
    "    return circuit\n",
    "\n",
    "# Draw an example\n",
    "circuit = hadamard_circuit(SwapGate(), add_s_gate=True, measure=True)\n",
    "circuit.draw()"
   ]
  },
  {
   "cell_type": "code",
   "execution_count": null,
   "id": "d7a19845-22a1-400c-bc22-bd7be7fc7209",
   "metadata": {},
   "outputs": [],
   "source": [
    "from qiskit.primitives import Sampler\n",
    "\n",
    "def phase_estimation_primitive(U, precision = 10**-2):\n",
    "    \"\"\"\n",
    "    Args:\n",
    "        U (Gate): Unitary gate to measure expectation value of\n",
    "        add_s_gate (bool): Whether to measure real (False) or imaginary\n",
    "            (True) parts of the expectation value\n",
    "        measure (bool): Whether to measure the auxiliary qubit\n",
    "    Returns:\n",
    "        QuantumCircuit that implements the Hadamard test\n",
    "    \"\"\"\n",
    "Nshots = 1/precision**2\n",
    "U = SwapGate()\n",
    "\n",
    "for part in (\"Real\", \"Imaginary\"):\n",
    "    # Build circuit\n",
    "    circuit = hadamard_circuit(\n",
    "        U,\n",
    "        add_s_gate=(False if part==\"Real\" else True),\n",
    "        measure=True\n",
    "    )\n",
    "\n",
    "    # Run circuit and get qasi-probability distribution\n",
    "    results = Sampler().run(\n",
    "        circuit,\n",
    "        shots=N\n",
    "    ).result().quasi_dists[0]\n",
    "\n",
    "    # Get qasi-probability of measuring 0 (default to 0 if not in distribution)\n",
    "    p0 = results.get(0, 0)\n",
    "\n",
    "    # Calculate estimate\n",
    "    estimate = ((2 * p0) - 1) * (1 if part==\"Real\" else -1)\n",
    "    print(f\"{part} part of expectation value: {estimate:.3f}\")"
   ]
  },
  {
   "cell_type": "markdown",
   "id": "db01f79b-3a4c-4efb-b72d-e567cb56459a",
   "metadata": {},
   "source": [
    "### Kitaev Phase Estimation Algorithm"
   ]
  },
  {
   "cell_type": "markdown",
   "id": "cf050332-a657-4229-9d0b-ee1e19fd1fa6",
   "metadata": {},
   "source": [
    "#### Overview\n",
    "\n",
    "The Kitaev phase estimation algorithm (KPEA) is simply the Hadamard test repeated with certain multiples of the phase, followed by classical post processing on the resulting data. More specifically, instead of estimating \n",
    "\n",
    "#### Characteristics\n",
    "\n",
    "Type: Iterative \\\n",
    "Qubit overhead: $1$ ancilla \\\n",
    "Runtime: ??? \\\n",
    "Eigenvector superpositions?: No\n",
    "\n",
    "#### Circuit diagram\n",
    "\n",
    "#### Pseudocode"
   ]
  },
  {
   "cell_type": "markdown",
   "id": "65df8882-a6f8-4149-8a60-7455e382b7fa",
   "metadata": {},
   "source": [
    "### Qiskit Implementation"
   ]
  },
  {
   "cell_type": "code",
   "execution_count": null,
   "id": "6d647893-e1df-40de-b6cc-48d20088b956",
   "metadata": {},
   "outputs": [],
   "source": [
    "import numpy as np\n"
   ]
  },
  {
   "cell_type": "markdown",
   "id": "c7cc8fa5-4a2e-4c0b-b732-928545b52ac7",
   "metadata": {},
   "source": [
    "## Applications\n",
    "- Order finding, thereby integer factorization (Shor's algorithm)\n",
    "- Solving linear systems of equations (HHL algorithm)\n",
    "- Quantum simulation"
   ]
  },
  {
   "cell_type": "markdown",
   "id": "32fd15d4-f616-4467-a020-2e4d03a4979a",
   "metadata": {},
   "source": [
    "### See also\n",
    "\n",
    "- "
   ]
  },
  {
   "cell_type": "code",
   "execution_count": null,
   "id": "0a757131-9998-47e6-980f-5169b162aaf0",
   "metadata": {},
   "outputs": [],
   "source": [
    "import qiskit.tools.jupyter\n",
    "\n",
    "%qiskit_version_table"
   ]
  }
 ],
 "metadata": {
  "kernelspec": {
   "display_name": "Python 3 (ipykernel)",
   "language": "python",
   "name": "python3"
  },
  "language_info": {
   "codemirror_mode": {
    "name": "ipython",
    "version": 3
   },
   "file_extension": ".py",
   "mimetype": "text/x-python",
   "name": "python",
   "nbconvert_exporter": "python",
   "pygments_lexer": "ipython3",
   "version": "3.10.7"
  }
 },
 "nbformat": 4,
 "nbformat_minor": 5
}
