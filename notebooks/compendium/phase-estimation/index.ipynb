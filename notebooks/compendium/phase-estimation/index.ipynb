{
 "cells": [
  {
   "cell_type": "markdown",
   "id": "be1cae81-2aac-4a11-ba29-57518101ecd3",
   "metadata": {},
   "source": [
    "# Phase Estimation"
   ]
  },
  {
   "cell_type": "markdown",
   "id": "98e3d7b3-7acd-4127-a999-b67a02eda752",
   "metadata": {
    "tags": []
   },
   "source": [
    "## Overview"
   ]
  },
  {
   "cell_type": "markdown",
   "id": "26e21bf0-33ac-4e85-aab1-c3d09dd0dede",
   "metadata": {},
   "source": [
    "- Type: Estimation task, foundational subroutine\n",
    "- Estimated difficulty: Intermediate\n",
    "- Useful preliminaries: Phase kickback, Hadamard test, Quantum Fourier Transform\n",
    "- Applications: Public key crytography, eigenvalue estimation, solving linear systems, amplitude estimation, quantum sciences and engineering. \n",
    "\n",
    "In quantum computing, *phase estimation* refers to the task of estimating the eigenvalue of a unitary operator given an approximate eigenvector. Computational routines which accomplish this task are known as *phase estimation procedures*, or *algorithms*. Commonly, the term *phase estimation* refers interchangeably to either the problem or the procedure. "
   ]
  },
  {
   "cell_type": "markdown",
   "id": "6acfef9d-c2c9-452e-8b65-df8600b9d493",
   "metadata": {
    "jp-MarkdownHeadingCollapsed": true,
    "tags": []
   },
   "source": [
    "## Problem statement"
   ]
  },
  {
   "cell_type": "markdown",
   "id": "af158c44-2e88-47c4-a7ab-c6d2a8943aa3",
   "metadata": {
    "tags": []
   },
   "source": [
    "For a unitary operation $U$, and associated eigenvector $\\vert u \\rangle$, there is a unique $\\theta \\in [0,1)$ such that\n",
    "\n",
    "$$\n",
    "U \\vert u \\rangle = e^{2\\pi i \\theta} \\vert u \\rangle.\n",
    "$$\n",
    "\n",
    "Given black-box access to a unitary $U$, controlled versions thereof, and an eigenvector (a.k.a. eigenstate) $\\vert u \\rangle$ prepared on a quantum register to fidelity $F \\in (0, 1]$, determine $\\theta$ to within precision $\\epsilon$ with probability $1-\\delta$. We refer to $\\theta$ as the *phase*. \n",
    "\n",
    "### Comments\n",
    "\n",
    "When the initial state is not an approximate eigenvector $\\vert u\\rangle$ but rather a generic superposition $\\sum_i c_i \\vert u_i\\rangle$ of eigenstates, many phase estimation algorithms will still work, in the sense that they will return (with high probability) an estimate of the phase $\\theta_i$ of $\\vert u_i\\rangle$ with probability $\\vert c_i\\vert^2$. Thus, $F$ does not necessarily need to be close to one. In this article, we will call such algorithms \"coherent\". Those which only work on an approximate eigenstate (i.e., $F$ close to $1$) will be termed \"incoherent.\" Incoherent phase estimation algorithms, though less powerful, typically have lower circuit depths, and therefore may work better on noisy hardware. \n",
    "\n",
    "The error in the phase $\\theta \\in [0,1)$ is defined circularly, as expected for phase shifts in general periodic phenomena. For example, if $\\theta = 0.1$, an algorithm which estimates $\\theta$ as $0.9$ is actually accurate to $0.2$, not $0.8$. The circular distance $d(\\theta, \\phi)$ between phases $\\theta, \\phi \\in [0,1)$ is defined as their shortest distance on the circle of circumference one, and can be computed as\n",
    "$$\n",
    "d(\\theta, \\phi) = \\min(\\vert\\theta- \\phi\\vert,1- \\vert\\theta - \\phi\\vert).\n",
    "$$\n",
    "This distance $d$ is always upper bounded by $1/2$. Thus, if $\\tilde{\\theta}$ is our estimate of $\\theta$, achieving precision $\\epsilon$ means $d(\\tilde{\\theta}, \\theta) \\leq \\epsilon$. "
   ]
  },
  {
   "cell_type": "markdown",
   "id": "b8dee034-4546-415b-8217-d5fcaff0598e",
   "metadata": {
    "jp-MarkdownHeadingCollapsed": true,
    "tags": []
   },
   "source": [
    "## Algorithms for phase estimation\n",
    "\n",
    "We begin with a brief discussion of classical algorithms for phase estimation, then list the several *quantum* phase estimation algorithms which will be the focus of the rest of this article. Caution: the term \"algorithm\" here is slightly misplaced, since the phase estimation problem contains black boxes (such as $U$) that are not fully specified. (see Nielsen and Chuang)"
   ]
  },
  {
   "cell_type": "markdown",
   "id": "5f54ed11-7f58-4ab1-92cd-c506e9198117",
   "metadata": {},
   "source": [
    "### A brief summary of classical algorithms\n",
    "\n",
    "Assuming black box access to the entries of $U$ and $\\vert u\\rangle$ as floating point numbers, standard matrix multiplication $U \\vert u\\rangle$ may be used to compute the eigenvalue. In fact, only the first entry of the output needs to be computed. However, for an input vector of size $2^n$, we still require an exponential number of oracle calls and arithmetic operations. Thus, in the generic case, this procedure will take exponential time. Moreover, the entries will need to be known exponentially precisely in order to obtain an estimate of $\\theta$ to fixed precision.\n",
    "\n",
    "More generally, all eigenvalues of $U$ can be found through exact diagonalization. The [QR Algorithm](https://en.wikipedia.org/wiki/QR_algorithm) can be used to find the eigenvalues in time scaling polynomially with the dimension of the matrix. Unfortunately, the dimension of the unitary often scales exponentially with the problem size in interesting computational tasks, such as optimization problems or Hamiltonian simulation."
   ]
  },
  {
   "cell_type": "markdown",
   "id": "a65ee02e-392b-4843-80e7-4faa4e9f4609",
   "metadata": {},
   "source": [
    "### Quantum algorithms\n",
    "\n",
    "Quantum Phase Estimation Algorithms (QPEAs) employ phase kickback and quantum interference to measure the desired phase $\\theta$ on an auxiliary quantum register. They can be viewed as an approximate projective measurement along the eigenspaces of $U$. As such, it will typically yield result $\\theta_i$ with probability given by the Born rule. Moreover, output state on the main register will be an approximate projection onto the corresponding eigenspace.\n",
    "\n",
    "QPEAs can be described to varying degrees as *serial* or *iterative*, depending on whether the basic measurements are done in parallel (serial) or in sequence (iterative). Standard phase estimation is the best known of the serial QPEAs and requires minimal to no classical processing. Iterative QPEAs have comparatively fewer auxiliary qubits, perform multiple rounds of measurement, and require nontrivial classical computation. The serial-iterative designation is a continuous scale, and hybrid schemes involving intermediate levels of serial or iterative operations also exist. However, the algorithms we consider here will be firmly in one camp or another. \n",
    "\n",
    "Iterative QPEAs can be further classified as adaptive and nonadaptive. Adaptive means that classical processing must be done alongside, or in between, quantum measurements, and subsequent operations will depend on earlier measurement results. The promise of adaptive schemes is to choose subsequent measurement circuits that are more effective at learning new information about the phase. However, faciliating classical-quantum hybrid computations in real time can be demanding on memory-restricted hardware.  \n",
    "\n",
    "The remainder of this article will focus on the following incomplete list of QPEAs.  \n",
    "\n",
    "- Standard Quantum Phase Estimation \n",
    "- Iterative Quantum Phase Estimation\n",
    "- Hadamard Test Phase Estimation\n",
    "- Kitaev Phase Estimation\n",
    "- Fast Phase Estimation\n",
    "- Rejection Filtering Phase Estimation"
   ]
  },
  {
   "cell_type": "markdown",
   "id": "66afb8f6-b73b-4bcf-87d4-c04cd6e7dc9b",
   "metadata": {},
   "source": [
    "**Place Venn diagram here showing the various categories (adaptive, nonadaptive, iterative, serial, hybrid )**"
   ]
  },
  {
   "cell_type": "markdown",
   "id": "4806dd39-57c6-4236-8bcf-d2dbd5e8621d",
   "metadata": {
    "tags": []
   },
   "source": [
    "### Technical comments"
   ]
  },
  {
   "cell_type": "markdown",
   "id": "d3cd7d1b-4f69-43f3-8352-e4a324be43aa",
   "metadata": {
    "tags": []
   },
   "source": [
    "Assigning a true computational cost to phase estimation is challenging because the black box $U$ is not specified. It is reasonable to treat the number of calls to $U$ (the \"query complexity\") as the metric of cost, as this can often be the most expensive part of the computation. In this scheme, a controlled-$U^j$ for integer $j$ would have the same cost as $j$ calls to controlled-$U$. This turns out to be reasonable, because although powers of $U$ can be computed quickly for certain $U$ (e.g., through repeated squaring for $U$ being a reversible classical operation), in general you can't do better than repeated calls to $U$. We note that Shor's algorithm is a crucial example where powers of $U$ *can* be computed quickly, leading to the famous exponential speedup for factoring.\n",
    "\n",
    "All but the simplest QPEAs achieve a nearly $O(1/\\epsilon)$ scaling in the number of controlled-$U$ queries, which is a provably optimal scaling known as the *Heisenberg limit*. They also exhibit a logarithmic dependence on $\\delta$. \n",
    "\n",
    "Crucially, the quantum \"black box\" $U$ is represented by $n$ qubits rather than an exponentially large matrix. While not all $n$ qubit unitaries can be simulated efficiently, important subclasses of unitaries can be written as an efficient quantum circuit of gates acting on, at most, a fixed number of qubits.\n",
    "\n",
    "Phase estimation sheds no light on how to prepare the initial state of the main register. The difficulty of doing so is problem dependent. For example, state preparation is trivial in Shor's algorithm, while approximating eigenstates of a many-body system in physics may require problem-specific, physics-motivated approaches. "
   ]
  },
  {
   "cell_type": "markdown",
   "id": "64517b0b-5736-4f95-bfc0-ab7c0039c8ae",
   "metadata": {
    "tags": []
   },
   "source": [
    "## Standard Quantum Phase Estimation\n",
    "\n",
    "As the name suggests, standard QPE is possibly the most well known algorithm for phase estimation, often simply called \"phase estimation.\" Also known as \"QFT-based\" phase estimation due to the use of the inverse Quantum Fourier Transform. "
   ]
  },
  {
   "cell_type": "markdown",
   "id": "9a77dd66-6054-4e24-a6b1-e08d018a84b9",
   "metadata": {},
   "source": [
    "### Characteristics\n",
    "\n",
    "Iterative: No \\\n",
    "Adaptive: N/A \\\n",
    "Coherent: Yes \\\n",
    "Qubit overhead: $O(\\log(1/\\epsilon))$. \\\n",
    "Runtime: $O(\\epsilon^{-1}\\log 1/\\delta)$ calls to the controlled-$U$. \\\n",
    "Maximum depth: $O(\\epsilon^{-1})$\n",
    "\n",
    "### Circuit diagram\n",
    "\n",
    "**Surely we can pull from an existing source**\n",
    "\n",
    "### Description of procedure\n",
    "\n",
    "The main register is prepared in an eigenstate $\\vert u\\rangle$, and a register of auxiliary qubits is initialized to $\\vert 0\\rangle$. A column of Hadamards puts the auxiliary register in uniform superposition over the computational basis. For each of these bitstrings $\\vert b\\rangle$ in the superposition, the controlled-$U$ gates act together as a controlled $U^b$, putting the total state as \n",
    "\n",
    "$$\n",
    "\\sum_{b} \\vert b\\rangle U^b \\vert u\\rangle = \\left(\\sum_{b} e^{2\\pi i b \\theta} \\vert b\\rangle\\right)\\otimes \\vert u\\rangle.\n",
    "$$\n",
    "\n",
    "We can clearly see the effect of phase kickback. If $\\theta$ were exactly a binary fraction $0.\\theta_1\\theta_2\\dots\\theta_n$, we would see that the above state is the Quantum Fourier Transform of $\\theta 2^n$. Thus, taking the inverse Quantum Fourier Transform would yield exactly $\\vert\\theta_1\\dots\\theta_n\\rangle$ on the auxiliary register. When $\\theta$ is more general, a deeper analysis shows that performing the inverse Quantum Fourier Transform will, with high probability, return the closest binary approximation to $\\theta$.\n",
    "\n",
    "The argument above extends to superpositions of eigenstates $\\sum_i c_i \\vert u_i\\rangle$ by linearity, with only minor complications. In this case the phase $\\theta_i$ is estimated with probability approximately according to the Born rule. \n",
    "\n",
    "### Pseudocode (Nielsen and Chuang pg. 235)\n",
    "\n",
    "**Should we have along with Qiskit code?**\n",
    "\n",
    "### Details and commentary\n",
    "\n",
    "Standard QPE is a serial algorithm, since only one set of measurements at the end of the circuit is necessary to obtain, with high probability, an estimate of one of the eigenphases $\\theta$ of $U$. This is in contrast to iterative algorithms, which comprise the remainder of the algorithms considered. To achieve $n$ bits of precision, roughly $n$ auxiliary qubits should be used. More precisely, choosing\n",
    "\n",
    "$$\n",
    "t = n + \\left\\lceil\\log\\left(2 + \\frac{1}{2\\eta}\\right)\\right\\rceil\n",
    "$$\n",
    "\n",
    "auxiliary qubits ensure $n$ bits of accuracy are achieved with probability $1-\\eta$ (see Ch 5 Nielsen and Chuang for details). In practice, it is usually preferable to boost the overall success probability $1-\\delta$ via a majority vote of several trials with constant success probability $(1-\\eta)$, rather than reducing the \"direct\" failure probability $\\eta$."
   ]
  },
  {
   "cell_type": "markdown",
   "id": "e8fc62ff-fa90-4886-9a4f-4d1e39b4e9f2",
   "metadata": {
    "tags": []
   },
   "source": [
    "### Qiskit Implementation"
   ]
  },
  {
   "cell_type": "code",
   "execution_count": 253,
   "id": "b8cb56bd-a3d5-4582-bf43-c0dd94a285e7",
   "metadata": {},
   "outputs": [],
   "source": [
    "import numpy as np\n",
    "\n",
    "from qiskit import QuantumRegister, ClassicalRegister, QuantumCircuit\n",
    "from qiskit.circuit.library import QFT\n",
    "\n",
    "\n",
    "def standard_QPE_circuit(U, Uprep = None, precision = 2**-4):\n",
    "    \"\"\"\n",
    "    Args:\n",
    "        U (Gate): Unitary gate in phase estimation problem\n",
    "        Uprep (Instruction): State preparation starting from all |0> state (If None, no state prep added). \n",
    "        precision (float): Desired precision of final phase estimate\n",
    "    Returns:\n",
    "        QuantumCircuit that implements standard QPE\n",
    "    \"\"\"\n",
    "    \n",
    "    bits_precision = int(np.ceil(np.log2(1/precision)))# determine necessary number of auxiliary qubits\n",
    "    cU = U.control(1) # Define controlled U\n",
    "    \n",
    "    # Step 1: Initialize circuit.\n",
    "    aux = QuantumRegister(bits_precision, \"aux\")  # register where result is stored\n",
    "    main = QuantumRegister(U.num_qubits, \"q\")    # register for storing |u>\n",
    "    classical = ClassicalRegister(bits_precision, \"c\")  # register for readout of result\n",
    "    circuit = QuantumCircuit(aux, main, classical)\n",
    "    \n",
    "    # Step 2: Initialize state of main register (if needed)\n",
    "    if Uprep != None: \n",
    "        circuit.compose(Uprep, main[:Uprep.num_qubits], inplace = True)\n",
    "        circuit.barrier()\n",
    "\n",
    "    # Step 3: Create apply Fourier transform to auxiliary register\n",
    "    circuit.h(aux)\n",
    "\n",
    "    # Step 4: Apply a controlled-U^(2^j).\n",
    "    circuit.barrier()\n",
    "    for j in range(bits_precision):\n",
    "        circuit.append(cU.repeat(2**j), [aux[j]] + main[:]) # Theta doesn't contain the 2 pi factor.\n",
    "\n",
    "    # Step 5: Apply an inverse QFT to auxiliary register.\n",
    "    circuit.barrier()\n",
    "    circuit.compose(QFT(bits_precision, inverse=True), inplace=True)\n",
    "\n",
    "    # Step 6: Measure the first register.\n",
    "    circuit.barrier()\n",
    "    circuit.measure(aux, classical)\n",
    "\n",
    "    return circuit"
   ]
  },
  {
   "cell_type": "markdown",
   "id": "fc5abf4b-e441-4d92-b442-a6a3fdf53b31",
   "metadata": {},
   "source": [
    "Let's visualize the circuit for $U = \\mathrm{SWAP}$, with no state prep."
   ]
  },
  {
   "cell_type": "code",
   "execution_count": 256,
   "id": "542f0356-d05c-46b8-8411-eaf6f6fe846e",
   "metadata": {
    "tags": []
   },
   "outputs": [
    {
     "data": {
      "image/png": "[encoded data removed]",
      "text/plain": [
       "<Figure size 1660.13x618.722 with 1 Axes>"
      ]
     },
     "execution_count": 256,
     "metadata": {},
     "output_type": "execute_result"
    }
   ],
   "source": [
    "from qiskit.circuit.library import SwapGate\n",
    "\n",
    "standard_QPE_circuit(SwapGate()).draw(output = 'mpl')"
   ]
  },
  {
   "cell_type": "markdown",
   "id": "d80fa27e-a4a0-4159-9541-61123ddf2d16",
   "metadata": {},
   "source": [
    "Now we test our circuit to estimate the phase of the $T$ gate corresponding to the $\\vert 1\\rangle$ eigenstate. The answer $\\theta$ we expect can be found by equating\n",
    "\n",
    "$$\n",
    "2\\pi\\theta = \\pi/4\n",
    "$$\n",
    "i.e. $\\theta = 1/8$. This is indeed the answer we get below. Since $1/8$ is a binary fraction, our result has no error once there are at least 3 auxiliary qubits."
   ]
  },
  {
   "cell_type": "code",
   "execution_count": 259,
   "id": "6bc9c498-e710-4b4b-a0ce-39409eba0227",
   "metadata": {
    "tags": []
   },
   "outputs": [
    {
     "name": "stdout",
     "output_type": "stream",
     "text": [
      "Estimate of phase: 0.125\n",
      "To precision: 0.0625\n"
     ]
    }
   ],
   "source": [
    "from qiskit.circuit.library import TGate\n",
    "\n",
    "u = TGate()\n",
    "mainreg_size = u.num_qubits\n",
    "\n",
    "precision = 2**-4\n",
    "\n",
    "# Set initial state to one\n",
    "prep = QuantumCircuit(mainreg_size)\n",
    "prep.x(0)\n",
    "Uprep = prep.to_gate(label = r'$X$')\n",
    "\n",
    "# Create circuit for standard QPE\n",
    "SQPE = standard_QPE_circuit(u, Uprep, precision = precision)\n",
    "\n",
    "# Execute circuit\n",
    "job = Sampler().run(SQPE, shots = 1)\n",
    "result_dict = job.result().quasi_dists[0].binary_probabilities()\n",
    "measurement = list(job.result().quasi_dists[0].binary_probabilities())[0]\n",
    "\n",
    "# Convert binary string to a float\n",
    "phase = int(measurement,2)/2**len(measurement)\n",
    "\n",
    "print(\"Estimate of phase:\", phase)\n",
    "print(\"To precision:\", precision) "
   ]
  },
  {
   "cell_type": "markdown",
   "id": "3c6edc05-7823-4555-910b-31d2bfb76093",
   "metadata": {
    "tags": []
   },
   "source": [
    "## Iterative Quantum Phase Estimation\n",
    "\n",
    "Though one of many iterative phase estimation algorithms, this one is often considered \"the\" iterative QPEA, as it is obtained from standard QPE through a simple transformation. "
   ]
  },
  {
   "cell_type": "markdown",
   "id": "4f6f7a6b-494f-4e19-afc8-84461de44bb8",
   "metadata": {
    "tags": []
   },
   "source": [
    "### Characteristics\n",
    "\n",
    "Iterative: Yes \\\n",
    "Adaptive: Yes \\\n",
    "Coherent: Optional \\\n",
    "Qubit overhead: $O(1)$. \\\n",
    "Runtime: $O(1/\\epsilon)$ calls to the controlled-$U$. \\\n",
    "Maximum depth: $O(1/\\epsilon)$\n",
    "\n",
    "### Circuit Diagram\n",
    "\n",
    "### Description of procedure\n",
    "\n",
    "### Equivalence to Standard QPE\n",
    "\n",
    "The key idea is to look closer at the inverse Quantum Fourier Transform at the end of the standard QPE circuit. \n",
    "\n",
    "**Put diagram here of iQFT with measurements gates**. \n",
    "\n",
    "The controlled phase gates in this diagram are quantum controls, but they don't have to be. We can create an equivalent circuit by pushing the measurements in front of the phase gate, and swapping the quantum control for a classical one.\n",
    "\n",
    "**Put two diagrams, equal to each other, showing switching measurement and controls**\n",
    "\n",
    "This is the key to making standard QPE an iterative algorithm. By using the equivalence\n",
    "\n",
    "**Put circuit equality in which two qubits with quantum control is reduced to one w/ classical control and reset operation**\n",
    "\n",
    "we have turned two parallel operations into sequential operations. The upshot is that the number of unique qubits has been reduced by one. Having fewer qubits to accomplish the same task is valuable for near-term quantum computing.\n",
    "\n",
    "Because the phase gates are applied depending on previous measurements, this is an *adaptive* procedure. It produces equivalent results to standard QPE, and therefore inherets many of the same properties. However, the algorithm can, optionally, be run *incoherently* by resetting the entire system after each measurement. Like other incoherent schemes, this will only work on near-perfect eigenstates."
   ]
  },
  {
   "cell_type": "markdown",
   "id": "614e3d23-2941-403d-9036-f7e2ff0bea46",
   "metadata": {
    "tags": []
   },
   "source": [
    "### Qiskit Implementation"
   ]
  },
  {
   "cell_type": "markdown",
   "id": "340a25a1-77d1-4edb-b8a9-418229f7739b",
   "metadata": {},
   "source": [
    "#### Relevant imports"
   ]
  },
  {
   "cell_type": "code",
   "execution_count": null,
   "id": "51dc47c1-5913-454e-82e9-8a43cebd2335",
   "metadata": {},
   "outputs": [],
   "source": [
    "import numpy as np\n",
    "from qiskit import ClassicalRegister, QuantumRegister, QuantumCircuit\n",
    "from qiskit_aer.primitives import Sampler\n",
    "from qiskit.circuit.library.standard_gates import SwapGate, TGate"
   ]
  },
  {
   "cell_type": "markdown",
   "id": "797abd7b-bebb-40d5-a2ff-271766d132df",
   "metadata": {},
   "source": [
    "#### Define the circuit"
   ]
  },
  {
   "cell_type": "code",
   "execution_count": 95,
   "id": "afb98469-05f8-4910-b967-7428a0c0c889",
   "metadata": {
    "tags": []
   },
   "outputs": [],
   "source": [
    "import numpy as np\n",
    "from qiskit import QuantumRegister, ClassicalRegister, QuantumCircuit\n",
    "\n",
    "def iterative_QPE_circuit(U, precision = 2**-4, coherent = True):\n",
    "    \"\"\"\n",
    "    Args:\n",
    "        U (Gate): Unitary gate in phase estimation problem\n",
    "        precision (float): Desired precision of final phase estimate\n",
    "        coherent (bool): If true, retains state of main register following each measurement. \n",
    "        Otherwise, all registers are reset to initial values following each measurement. \n",
    "    Returns:\n",
    "        QuantumCircuit that implements Iterative QPE\n",
    "    \"\"\"\n",
    "    cU = U.control(1)\n",
    "    bits_precision = int(np.ceil(np.log2(1/precision)))\n",
    "    \n",
    "    # Construct registers and circuit\n",
    "    cr = ClassicalRegister(bits_precision, r'$\\varphi$')\n",
    "    aux = QuantumRegister(1, 'aux')\n",
    "    main = QuantumRegister(U.num_qubits, 'q')\n",
    "    QPE_circ = QuantumCircuit(aux, main, cr)\n",
    "\n",
    "    \n",
    "    for bit in range(bits_precision -1, -1,-1):\n",
    "        QPE_circ.h(0)\n",
    "        QPE_circ.append(cU.repeat(2**bit), aux[:] + main[:])\n",
    "        \n",
    "        # Controlled phases loop\n",
    "        for b in range(bit +1, bits_precision):\n",
    "            k = (b - bit) + 1\n",
    "            QPE_circ.p(-(2*np.pi)/2**k,0).c_if(b,1)\n",
    "        \n",
    "        QPE_circ.h(0)\n",
    "        \n",
    "        # Measure, store result, reset\n",
    "        QPE_circ.measure(0, bit)\n",
    "        QPE_circ.reset(0)\n",
    "        \n",
    "        # Reset all qubits if not coherent\n",
    "        if not coherent: \n",
    "            QPE_circ.reset(main[:])\n",
    "            QPE_circ.barrier()\n",
    "            \n",
    "    return QPE_circ"
   ]
  },
  {
   "cell_type": "markdown",
   "id": "2b23c106-6668-4a40-a6a0-2e1c5dd15878",
   "metadata": {},
   "source": [
    "### Illustrate the circuit with SWAP"
   ]
  },
  {
   "cell_type": "code",
   "execution_count": 160,
   "id": "f46993ea-7d4e-4687-b565-de9e376f4041",
   "metadata": {
    "tags": []
   },
   "outputs": [
    {
     "data": {
      "image/png": "[encoded data removed]",
      "text/plain": [
       "<Figure size 2226.97x785.944 with 1 Axes>"
      ]
     },
     "execution_count": 160,
     "metadata": {},
     "output_type": "execute_result"
    }
   ],
   "source": [
    "iterative_QPE_circuit(SwapGate()).draw(output = 'mpl')"
   ]
  },
  {
   "cell_type": "markdown",
   "id": "bbfee63d-ea68-4627-8f7b-85f045759fb1",
   "metadata": {},
   "source": [
    "Now we test our circuit to estimate the phase of the $T$ gate corresponding to the $\\vert 1\\rangle$ eigenstate. The answer $\\theta$ we expect can be found by equating\n",
    "\n",
    "$$\n",
    "2\\pi\\theta = \\pi/4\n",
    "$$\n",
    "i.e. $\\theta = 1/8$. This is indeed the answer we get below, whether we do coherent or incoherent evolution (they are equivalent here since $\\vert1\\rangle$ is a perfect eigenstate). Since $\\theta$ is a binary fraction, we should always get an exact answer with a sufficient number of auxiliary qubits."
   ]
  },
  {
   "cell_type": "code",
   "execution_count": 163,
   "id": "89645f95-aca2-48a1-a731-972b9f2ff042",
   "metadata": {
    "tags": []
   },
   "outputs": [
    {
     "name": "stdout",
     "output_type": "stream",
     "text": [
      "Estimate of phase: 0.125\n",
      "To precision: 0.01\n"
     ]
    }
   ],
   "source": [
    "precision = 10**-2\n",
    "\n",
    "# Set initial state to one\n",
    "prep = QuantumCircuit(1)\n",
    "prep.x(0)\n",
    "\n",
    "# Create circuit for IQPE\n",
    "IQPE = iterative_QPE_circuit(TGate(), precision = precision, coherent = True)\n",
    "IQPE.compose(prep, qubits = range(1,IQPE.num_qubits),front = True, inplace = True)\n",
    "\n",
    "# Execute circuit\n",
    "job = Sampler().run(IQPE, shots = 1)\n",
    "result_dict = job.result().quasi_dists[0].binary_probabilities()\n",
    "measurement = list(job.result().quasi_dists[0].binary_probabilities())[0]\n",
    "\n",
    "# Our ordering convention here is opposite of qiskit. Reverse string.\n",
    "measurement = measurement[::-1]\n",
    "\n",
    "# Convert binary string to a float\n",
    "phase = int(measurement,2)/2**len(measurement)\n",
    "\n",
    "print(\"Estimate of phase:\", phase)\n",
    "print(\"To precision:\", precision) "
   ]
  },
  {
   "cell_type": "markdown",
   "id": "938d5a15-e65c-4511-8092-9f2381dfb3ef",
   "metadata": {
    "tags": []
   },
   "source": [
    "## Hadamard Phase Estimation\n",
    "\n",
    "Possibly the simplest QPEA, the simple Hadamard test serves as a phase estimation algorithm. "
   ]
  },
  {
   "cell_type": "markdown",
   "id": "afb7bb09-630b-479d-a4f3-ccd7ccd386d7",
   "metadata": {},
   "source": [
    "### Characteristics\n",
    "\n",
    "Iterative: Yes \\\n",
    "Adaptive: No \\\n",
    "Coherent: Optional \\\n",
    "Qubit overhead: $1$ additional qubit \\\n",
    "Runtime: $O(1/\\epsilon^2)$ iterations. \\\n",
    "Maximum depth: $O(1)$ for incoherent, full runtime for coherent \\\n",
    "\n",
    "### Circuit diagram\n",
    "\n",
    "**Can be taken from Hadamard test almost without change**\n",
    "\n",
    "### Description of procedure\n",
    "\n",
    "Can be run coherently or incoherently. Incoherent is just Hadamard test (see that article). Only works for approximate eigenstates.\n",
    "\n",
    "Now consider coherent version, which is just repeating the Hadamard test circuit over and over without resetting main register.\n",
    "\n",
    "**Show math here. Trials are independent. **\n",
    "\n",
    "### Details and commentary\n",
    "A drawback to the simplicity is the quadratically worse scaling in $\\epsilon$ compared to other approaches. But there is only one auxiliary qubit. "
   ]
  },
  {
   "cell_type": "markdown",
   "id": "46e218a3-2204-4636-b582-4895902e68ae",
   "metadata": {
    "tags": []
   },
   "source": [
    "### Qiskit Implementation"
   ]
  },
  {
   "cell_type": "markdown",
   "id": "c22c7ef2-7797-4678-87bf-3984b710b54f",
   "metadata": {},
   "source": [
    "#### Relevant imports"
   ]
  },
  {
   "cell_type": "code",
   "execution_count": 4,
   "id": "3786eb81-a570-4236-a130-15cf02160e6c",
   "metadata": {},
   "outputs": [],
   "source": [
    "import numpy as np\n",
    "from qiskit import ClassicalRegister, QuantumRegister, QuantumCircuit\n",
    "from qiskit_aer.primitives import Sampler\n",
    "from qiskit.circuit.library.standard_gates import SwapGate, TGate"
   ]
  },
  {
   "cell_type": "markdown",
   "id": "75a89ba5-b2fc-4256-a9df-dc657b4768a1",
   "metadata": {},
   "source": [
    "#### Basic Hadamard circuit\n",
    "\n",
    "The code below is borrowed from the Hadamard test compendium article. See that page for further details."
   ]
  },
  {
   "cell_type": "code",
   "execution_count": 5,
   "id": "9b3c94d7-3eec-4921-a4a9-ca7549689067",
   "metadata": {},
   "outputs": [],
   "source": [
    "def hadamard_test(U, add_s_gate=False, measure=True):\n",
    "    \"\"\"\n",
    "    Args:\n",
    "        U (Gate): Unitary gate in phase estimation problem\n",
    "        add_s_gate (bool): Whether to at S gate to auxiliary register following controlled unitaries. \n",
    "            Equivalently, whether to perform C(U) (False) or C(i U) (True). \n",
    "        measure (bool): Whether to measure the auxiliary qubit (True) or not (False).\n",
    "    Returns:\n",
    "        QuantumCircuit that implements the Hadamard test\n",
    "    \"\"\"\n",
    "    # Initialize registers and circuit\n",
    "    aux = QuantumRegister(1, 'aux')\n",
    "    main = QuantumRegister(U.num_qubits, 'q')\n",
    "    circuit = QuantumCircuit(aux, main)\n",
    "    \n",
    "    # Construct controlled-U gate\n",
    "    cU = U.control(1)\n",
    "    \n",
    "    # Add gates to circuit\n",
    "    circuit.h(aux)\n",
    "    circuit.append(cU, aux[:] + main[:])\n",
    "    if add_s_gate:\n",
    "        circuit.s(aux)\n",
    "    circuit.h(aux)\n",
    "    \n",
    "    # Add measurement if option specified\n",
    "    if measure:\n",
    "        creg = ClassicalRegister(1, 'c')\n",
    "        circuit.add_register(creg)\n",
    "        circuit.measure(aux, creg)\n",
    "    \n",
    "    return circuit"
   ]
  },
  {
   "cell_type": "code",
   "execution_count": 6,
   "id": "8d833df4-6167-4b03-b39e-88c26ad6c81d",
   "metadata": {
    "tags": []
   },
   "outputs": [
    {
     "ename": "NameError",
     "evalue": "name 'j' is not defined",
     "output_type": "error",
     "traceback": [
      "\u001b[0;31m---------------------------------------------------------------------------\u001b[0m",
      "\u001b[0;31mNameError\u001b[0m                                 Traceback (most recent call last)",
      "Cell \u001b[0;32mIn [185], line 2\u001b[0m\n\u001b[1;32m      1\u001b[0m \u001b[38;5;28;01mfrom\u001b[39;00m \u001b[38;5;21;01mqiskit\u001b[39;00m\u001b[38;5;21;01m.\u001b[39;00m\u001b[38;5;21;01mcircuit\u001b[39;00m\u001b[38;5;21;01m.\u001b[39;00m\u001b[38;5;21;01mlibrary\u001b[39;00m\u001b[38;5;21;01m.\u001b[39;00m\u001b[38;5;21;01mstandard_gates\u001b[39;00m \u001b[38;5;28;01mimport\u001b[39;00m ZGate\n\u001b[0;32m----> 2\u001b[0m hadamard_circuit(ZGate(), add_s_gate \u001b[38;5;241m=\u001b[39m\u001b[38;5;28;01mTrue\u001b[39;00m, measure \u001b[38;5;241m=\u001b[39m \u001b[38;5;28;01mTrue\u001b[39;00m)\u001b[38;5;241m.\u001b[39mdraw(output\u001b[38;5;241m=\u001b[39m\u001b[38;5;124m'\u001b[39m\u001b[38;5;124mmpl\u001b[39m\u001b[38;5;124m'\u001b[39m)\n",
      "Cell \u001b[0;32mIn [184], line 21\u001b[0m, in \u001b[0;36mhadamard_circuit\u001b[0;34m(U, add_s_gate, measure)\u001b[0m\n\u001b[1;32m     19\u001b[0m \u001b[38;5;66;03m# Add gates to circuit\u001b[39;00m\n\u001b[1;32m     20\u001b[0m circuit\u001b[38;5;241m.\u001b[39mh(aux)\n\u001b[0;32m---> 21\u001b[0m circuit\u001b[38;5;241m.\u001b[39mappend(cU, [aux[\u001b[43mj\u001b[49m]] \u001b[38;5;241m+\u001b[39m main[:])\n\u001b[1;32m     22\u001b[0m \u001b[38;5;28;01mif\u001b[39;00m add_s_gate:\n\u001b[1;32m     23\u001b[0m     circuit\u001b[38;5;241m.\u001b[39ms(aux)\n",
      "\u001b[0;31mNameError\u001b[0m: name 'j' is not defined"
     ]
    }
   ],
   "source": [
    "from qiskit.circuit.library.standard_gates import ZGate\n",
    "hadamard_circuit(ZGate(), add_s_gate =True, measure = True).draw(output='mpl')"
   ]
  },
  {
   "cell_type": "markdown",
   "id": "34982037-d83d-433a-aea7-fcb8b192e248",
   "metadata": {},
   "source": [
    "#### Coherent vs incoherent phase estimation\n",
    "\n",
    "Hadamard phase estimation involves repeated Hadamard circuit measurements. There are two approaches we can take:\n",
    "\n",
    "- Perform a Hadamard test on many copies of identical input states. We label this \"incoherent\" phase estimation. This approach only works when the state is approximately an eigenstate, but uses shallower circuits. \n",
    "- After each Hadamard test measurement, leave the state of the main register as is. This corresponds to \"coherent\" phase estimation. This approach allows for phase estimation with generic input states, with probability of a phase being measured given by the Born rule. However, this approach has larger circuit depths.\n",
    "\n",
    "The following function creates the required circuit for coherent phase estimation."
   ]
  },
  {
   "cell_type": "code",
   "execution_count": 10,
   "id": "605b6326-aed8-4002-b11b-67638ac20100",
   "metadata": {},
   "outputs": [],
   "source": [
    "# State of main register is not reset after each measurement. Allows for phase estimation over superpositions.\n",
    "def coherent_Hadamard_circuit(U, Ncycles):\n",
    "    \"\"\"\n",
    "    Args:\n",
    "        U (Gate): Unitary gate to measure\n",
    "        Ncycles: Number of measurements (iterations) on auxiliary qubit for phased and unphased Hadamard test. \n",
    "    Returns:\n",
    "        QuantumCircuit that implements a coherent version of the Hadamard test, where the state of the main register is not reset following measurements.\n",
    "    \"\"\"\n",
    "    hadamard_circ = hadamard_circuit(U, add_s_gate = False, measure = True)\n",
    "    \n",
    "    \n",
    "    # Initialize circuit with first iteration as initial fencepost\n",
    "    circuit = hadamard_circuit(U, add_s_gate = False, measure = False)\n",
    "    creg = ClassicalRegister(2*Ncycles, 'c')\n",
    "    circuit.add_register(creg)\n",
    "    circuit.measure(0, creg[0])\n",
    "    circuit.reset(0)\n",
    "    \n",
    "    # Perform nonphased measurements\n",
    "    for k in range(1, Ncycles):\n",
    "        circuit = circuit.compose(hadamard_circ, qubits = None, clbits = k)\n",
    "        circuit.reset(0)\n",
    "        \n",
    "    hadamard_circ = hadamard_circuit(U, add_s_gate = True, measure = True)\n",
    "    \n",
    "    # Perform phased measurements\n",
    "    for k in range(0, Ncycles):\n",
    "        circuit = circuit.compose(hadamard_circ, qubits = None, clbits = k + Ncycles)\n",
    "        circuit.reset(0)\n",
    "    \n",
    "    return circuit"
   ]
  },
  {
   "cell_type": "markdown",
   "id": "825a7d4a-f83c-4bdc-9479-46a94411f8c9",
   "metadata": {},
   "source": [
    "We demonstrate this construction for $U = \\text{SWAP}$."
   ]
  },
  {
   "cell_type": "code",
   "execution_count": 12,
   "id": "3803ebd0-3871-4dbf-9243-d864230c86d4",
   "metadata": {
    "tags": []
   },
   "outputs": [
    {
     "data": {
      "image/png": "[encoded data removed]",
      "text/plain": [
       "<Figure size 1976.14x367.889 with 1 Axes>"
      ]
     },
     "execution_count": 12,
     "metadata": {},
     "output_type": "execute_result"
    }
   ],
   "source": [
    "circuit = coherent_Hadamard_circuit(SwapGate(), 2)\n",
    "circuit.draw(output = 'mpl')"
   ]
  },
  {
   "cell_type": "markdown",
   "id": "377cef8a-36db-43a7-9490-8ab7bf6b2bfe",
   "metadata": {},
   "source": [
    "Using `Ncycles = 2` is typically too short to get a good estimate, but we wanted to make the circuit easy to visualize. \n",
    "\n",
    "#### Hadamard phase estimation.\n",
    "\n",
    "Below is a function to perform Hadamard phase estimation, either coherent or incoherent. "
   ]
  },
  {
   "cell_type": "code",
   "execution_count": 11,
   "id": "0ed2dfb7-40c6-4d81-8c86-9beb4e0a79a5",
   "metadata": {},
   "outputs": [],
   "source": [
    "def Hadamard_phase_estimation(U, Uprep = None, precision = 2 * 10**-1, coherent = False, confidence_factor = 2):\n",
    "    \"\"\"\n",
    "    Args:\n",
    "        U (Gate): Unitary gate in phase estimation problem\n",
    "        Uprep (Instruction): State preparation on main register starting from all |0> state (If None, no state prep added). \n",
    "        precision (float): Desired precision of phase estimate. \n",
    "        coherent (bool): Whether to keep state of principal register (True) \n",
    "            or reset to original state (False) after each measurement.\n",
    "        confidence_factor (float): A parameter which scales the number of iterations proportionally. Should be set on the order of 1.\n",
    "            Larger values increase confidence of answer being within set precision.\n",
    "    Returns:\n",
    "        An estimate for the phase of some eigenstate, sampled according to the initial state, with specified precision, and confidence related to confidence_factor.\n",
    "    \"\"\"\n",
    "\n",
    "    Ncycles = int(confidence_factor//(precision**2))\n",
    "    \n",
    "    # Do single shot, coherent phase estimation if coherent = True\n",
    "    if coherent:\n",
    "        phase_estimation_circuit = coherent_Hadamard_circuit(U, Ncycles)\n",
    "        # Perform state prep, if any\n",
    "        if Uprep != None: phase_estimation_circuit.compose(Uprep, qubits = range(1,U.num_qubits + 1), front = True, inplace = True)\n",
    "        # Run circuit\n",
    "        job = Sampler().run(phase_estimation_circuit, shots = 1)\n",
    "        result_dict = job.result().quasi_dists[0].binary_probabilities()\n",
    "        measurements = list(job.result().quasi_dists[0].binary_probabilities())[0]\n",
    "        \n",
    "        # Split results into phased and unphased measurements\n",
    "        phased_measurements = measurements[0:Ncycles]\n",
    "        unphased_measurements = measurements[Ncycles:2*Ncycles]\n",
    "\n",
    "        \n",
    "        # Compute Hamming weight to get counts\n",
    "        phased_counts = np.sum(list(map(int,phased_measurements)))\n",
    "        unphased_counts = np.sum(list(map(int,unphased_measurements)))\n",
    "        \n",
    "        # Extract Pr(0)\n",
    "        unphased_p0 = 1 - unphased_counts/Ncycles\n",
    "        phased_p0 = 1 - phased_counts/Ncycles\n",
    "    else:  \n",
    "        # Otherwise, do incoherent phase estimation\n",
    "        unphased_circuit = hadamard_circuit(U, add_s_gate = False, measure = True)\n",
    "        phased_circuit = hadamard_circuit(U, add_s_gate = True, measure = True)\n",
    "        # Do state prep, if any\n",
    "        if Uprep != None:\n",
    "            unphased_circuit = unphased_circuit.compose(Uprep, range(1,unphased_circuit.num_qubits),front = True)\n",
    "            phased_circuit = phased_circuit.compose(Uprep, range(1,unphased_circuit.num_qubits), front = True)\n",
    "\n",
    "        # Run circuits\n",
    "        unphased_results = Sampler().run(unphased_circuit, shots = Ncycles).result().quasi_dists[0]\n",
    "        phased_results = Sampler().run(phased_circuit, shots = Ncycles).result().quasi_dists[0]\n",
    "\n",
    "        # Extract Pr(0)\n",
    "        unphased_p0 = unphased_results.get(0, 0)\n",
    "        phased_p0 = phased_results.get(0, 0)\n",
    "\n",
    "    \n",
    "    # Get cosine and sine of phase\n",
    "    costheta = 2*unphased_p0 - 1\n",
    "    sintheta = 1- 2*phased_p0\n",
    "    \n",
    "    #Extract phase as final result\n",
    "    theta = np.arctan2(sintheta, costheta)\n",
    "    # Make branch correction to [0, 2 pi)\n",
    "    if theta < 0: theta += 2*np.pi\n",
    "    # Return number between 0,1\n",
    "    theta = theta/(2*np.pi)\n",
    "    return theta"
   ]
  },
  {
   "cell_type": "markdown",
   "id": "05910e06-ef71-4755-982a-bd57cd344ca2",
   "metadata": {},
   "source": [
    "As an example, we do a coherent Hadamard phase estimation using the SWAP gate. our initial state $\\vert01\\rangle$ is an equal superposition of a symmetric (+1) and antisymmetric (-1) eigenstate of SWAP. Therefore, we will measure phases of $0$ or $.5$, each with 50% probability."
   ]
  },
  {
   "cell_type": "code",
   "execution_count": 106,
   "id": "df39df50-c262-4470-9da5-a07ccec67420",
   "metadata": {
    "tags": []
   },
   "outputs": [],
   "source": [
    "# Prepare a superposition of symmetric.\n",
    "prep_circuit = QuantumCircuit(2)\n",
    "prep_circuit.x([0,1])\n",
    "prep_circuit.h(0)\n",
    "prep_circuit.cx(0,1)\n",
    "\n",
    "Uprep = prep_circuit.to_gate()"
   ]
  },
  {
   "cell_type": "markdown",
   "id": "db01f79b-3a4c-4efb-b72d-e567cb56459a",
   "metadata": {
    "tags": []
   },
   "source": [
    "## Kitaev Phase Estimation Algorithm\n",
    "\n",
    "The Kitaev phase estimation algorithm (KPEA) is simply Hadamard phase estimation, but repeated several times with certain powers of $U$ and followed by classical post processing on the resulting data. Thus, the \"quantum\" part of the algorithm is essentially unchanged. For this reason, sometimes the previously described \"Hadamard Phase Estimation\" is termed Kitaev Phase Estimation. Here we use \"Kitaev\" to refer to the procedure described here, which includes some nontrivial classical post processing. "
   ]
  },
  {
   "cell_type": "markdown",
   "id": "cf050332-a657-4229-9d0b-ee1e19fd1fa6",
   "metadata": {},
   "source": [
    "### Characteristics\n",
    "\n",
    "Iterative:Yes \\\n",
    "Adaptive: No \\\n",
    "Coherent: Optional \\\n",
    "Qubit overhead: $1$ auxiliary qubit \\\n",
    "Runtime: $O(\\epsilon^{-1} \\log\\log(1/\\epsilon))$ \\\n",
    "Maximum depth: $O(\\epsilon^{-1})$\n",
    "\n",
    "### Diagram\n",
    "\n",
    "**Basically the same as Hadamard, could show multiple in parallel and then a laptop gif receiving the information.**\n",
    "\n",
    "### Description of procedure\n",
    "\n",
    "The basic idea of the Kitaev approach is as follows. We estimate $\\theta_j = 2^j \\theta$ for $j = 0,1, \\dots, m$, to precision at least $1/16$ using Hadamard phase estimation. The choice of $1/16$ is for technical reasons, but the point is that this accuracy is a constant, independent of our final desired precision in the estimate. Note that we can obtain $\\theta_j$ by running the Hadamard phase estimation procedure on unitary $U_j = U^{2_j}$.  \n",
    "\n",
    "Using the set of $\\theta_j$, we can \"stitch\" them together to achieve an accurate estimate of $\\theta$. **How? Write the classical procedure here.**\n",
    "\n",
    "### Details and commentary\n",
    "\n",
    "Remarkably, KPEA achieves higher accuracies than Hadamard phase estimation while still using only a single auxiliary qubit. This low spatial overhead makes KPEA a noteworthy alternative to standard phase estimation, especially when the number of available qubits is small. Moreover, the classical post processing is simple and efficient to perform. \n",
    "\n",
    "### Pseudocode"
   ]
  },
  {
   "cell_type": "markdown",
   "id": "65df8882-a6f8-4149-8a60-7455e382b7fa",
   "metadata": {
    "tags": []
   },
   "source": [
    "### Qiskit Implementation"
   ]
  },
  {
   "cell_type": "markdown",
   "id": "770ece87-64ec-4b19-819d-52aac1394451",
   "metadata": {},
   "source": [
    "#### Imports"
   ]
  },
  {
   "cell_type": "code",
   "execution_count": null,
   "id": "85dd3cf4-906d-4244-9a9c-ef4c1775b304",
   "metadata": {},
   "outputs": [],
   "source": [
    "import numpy as np\n",
    "from qiskit import ClassicalRegister, QuantumRegister, QuantumCircuit\n",
    "from qiskit_aer.primitives import Sampler\n",
    "from qiskit.circuit.library.standard_gates import SwapGate, TGate"
   ]
  },
  {
   "cell_type": "markdown",
   "id": "66f36343-ff88-4731-a3ca-c062cb57cc2b",
   "metadata": {},
   "source": [
    "First define a function `distance_mod1` for later convenience. This essentially computes the distance between two points on a circle of circumference $1$. "
   ]
  },
  {
   "cell_type": "code",
   "execution_count": 2,
   "id": "6a76e6fd-fb2c-4060-b7a3-fcb87de0fdde",
   "metadata": {
    "tags": []
   },
   "outputs": [],
   "source": [
    "def distance_mod1(x,y):\n",
    "    \"\"\"\n",
    "    Args:\n",
    "        x (float), y (float): Values in [0,1). If outside range, values are taken mod 1.\n",
    "\n",
    "    Returns:\n",
    "        The distance between x and y mod 1. That is, the distance between x and y on a circle with circumference 1.\n",
    "    \"\"\"\n",
    "    # Put x and y within proper bounds\n",
    "    x %= 1\n",
    "    y %= 1\n",
    "    return np.min([np.abs(x-y), 1-np.abs(x-y)])"
   ]
  },
  {
   "cell_type": "markdown",
   "id": "5c2d71a3-09b2-4dd6-923a-bd8c8baed378",
   "metadata": {},
   "source": [
    "Next, we define the protocol. "
   ]
  },
  {
   "cell_type": "code",
   "execution_count": 8,
   "id": "6a4a1bae-c868-47e2-a50d-3197e110fc52",
   "metadata": {},
   "outputs": [
    {
     "ename": "IndentationError",
     "evalue": "expected an indented block after function definition on line 1 (1299480374.py, line 2)",
     "output_type": "error",
     "traceback": [
      "\u001b[0;36m  Cell \u001b[0;32mIn [8], line 2\u001b[0;36m\u001b[0m\n\u001b[0;31m    \"\"\"\u001b[0m\n\u001b[0m    ^\u001b[0m\n\u001b[0;31mIndentationError\u001b[0m\u001b[0;31m:\u001b[0m expected an indented block after function definition on line 1\n"
     ]
    }
   ],
   "source": [
    "def Kitaev_phase_estimation(U, Uprep = None, precision = 10**-2, coherent = False, confidence_factor = 2):\n",
    "    \"\"\"\n",
    "    Args:\n",
    "        U (Gate): Unitary gate in phase estimation problem\n",
    "        Uprep (Instruction): State preparation on main register starting from all |0> state (If None, no state prep added). \n",
    "        precision (float): Desired precision of phase estimate. \n",
    "        coherent (bool): Whether to keep state of principal register (True) \n",
    "            or reset to original state (False) after each measurement.\n",
    "        confidence_factor (float): A parameter which scales the number of iterations proportionally. Should be set on the order of 1.\n",
    "            Larger values increase confidence of answer being within set precision.          \n",
    "    Returns:\n",
    "        An estimate for the phase of some eigenstate, sampled according to the initial state, \n",
    "        with specified precision and confidence related to confidence_factor.\n",
    "    \"\"\"\n",
    "    # Parameters of precision\n",
    "    nbits = int(np.ceil(np.log2(1/precision)))\n",
    "    nreps = nbits - 2\n",
    "    \n",
    "    # Perform Hadamard phase estimation on U**(2**j) to fixed precision\n",
    "    phases = np.zeros(nreps)\n",
    "    for j in range(nreps):\n",
    "        phases[j] = Hadamard_phase_estimation(U.repeat(2**j), Uprep, precision = 1/16, coherent = False)\n",
    "    \n",
    "    # Classical part to amplify precision\n",
    "    beta = [0]*nreps\n",
    "    for j in range(nreps):\n",
    "        # Round to nearest octant in [0,1)\n",
    "        beta[j] = (int(np.round(8*phases[j]))%8)/8\n",
    "    #Retrieve last 3 bits in binary form\n",
    "    last_bits = bin(int(beta[j]*8))[2:]\n",
    "    last_bits = beta[nreps - 1]= '0'*(3-len(last_bits)) + last_bits # pad with zeros to get bbb format \n",
    "    # Do alpha recursion for remaining bits\n",
    "    alpha = [0]*nbits\n",
    "    alpha[nreps + 1]= int(beta[nreps-1][2])\n",
    "    alpha[nreps] = int(beta[nreps-1][1])\n",
    "    alpha[nreps-1] = int(beta[nreps-1][0])\n",
    "    for j in range(nreps-2,-1,-1):\n",
    "        # fill in the values of alpha\n",
    "        alpha[j] = int(distance_mod1(beta[j], .5 + alpha[j+1]/4 + alpha[j+2]/8) <.25)\n",
    "    \n",
    "    print(alpha)\n",
    "    return np.sum(alpha * (2.0**(-np.arange(1, nbits+1))))"
   ]
  },
  {
   "cell_type": "code",
   "execution_count": 9,
   "id": "f40b5d62-f61d-4d12-b82c-d3f16a0a18ff",
   "metadata": {},
   "outputs": [
    {
     "ename": "NameError",
     "evalue": "name 'QuantumCircuit' is not defined",
     "output_type": "error",
     "traceback": [
      "\u001b[0;31m---------------------------------------------------------------------------\u001b[0m",
      "\u001b[0;31mNameError\u001b[0m                                 Traceback (most recent call last)",
      "Cell \u001b[0;32mIn [9], line 2\u001b[0m\n\u001b[1;32m      1\u001b[0m \u001b[38;5;66;03m# Prepare a superposition of symmetric.\u001b[39;00m\n\u001b[0;32m----> 2\u001b[0m prep_circuit \u001b[38;5;241m=\u001b[39m QuantumCircuit(\u001b[38;5;241m2\u001b[39m)\n\u001b[1;32m      3\u001b[0m prep_circuit\u001b[38;5;241m.\u001b[39mx([\u001b[38;5;241m0\u001b[39m,\u001b[38;5;241m1\u001b[39m])\n\u001b[1;32m      4\u001b[0m prep_circuit\u001b[38;5;241m.\u001b[39mh(\u001b[38;5;241m0\u001b[39m)\n",
      "\u001b[0;31mNameError\u001b[0m: name 'QuantumCircuit' is not defined"
     ]
    }
   ],
   "source": [
    "# Prepare a superposition of symmetric.\n",
    "prep_circuit = QuantumCircuit(2)\n",
    "prep_circuit.x([0,1])\n",
    "prep_circuit.h(0)\n",
    "prep_circuit.cx(0,1)\n",
    "\n",
    "Uprep = prep_circuit.to_gate()\n",
    "print(Kitaev_phase_estimation(SwapGate(), Uprep = prep_circuit))"
   ]
  },
  {
   "cell_type": "markdown",
   "id": "98b91f54-d3b8-47d6-bf3a-d91414f4fa7e",
   "metadata": {
    "tags": []
   },
   "source": [
    "## Fast Phase Estimation\n",
    "\n",
    "Fast Phase Estimation is an improvement upon Kitaev Phase Estimation."
   ]
  },
  {
   "cell_type": "markdown",
   "id": "b3f59c51-132f-411e-ad82-a4436d4bb678",
   "metadata": {
    "tags": []
   },
   "source": [
    "### Characteristics\n",
    "\n",
    "Iterative:Yes \\\n",
    "Adaptive: No \\\n",
    "Coherent: \n",
    "Qubit overhead: \n",
    "Runtime: \n",
    "Maximum depth: \n",
    "\n",
    "### Diagram\n",
    "\n",
    "### Description of procedure\n",
    "\n",
    "### Commentary"
   ]
  },
  {
   "cell_type": "markdown",
   "id": "3c70d7a3-c83f-420e-a39c-0718ca70cc4a",
   "metadata": {},
   "source": [
    "### Qiskit implementation"
   ]
  },
  {
   "cell_type": "markdown",
   "id": "ec9c19e8-b782-448d-96d6-039d00bf6755",
   "metadata": {},
   "source": [
    "#### Imports"
   ]
  },
  {
   "cell_type": "code",
   "execution_count": null,
   "id": "649b9d09-25fd-48d6-80bb-9dcafb25ac70",
   "metadata": {},
   "outputs": [],
   "source": [
    "import numpy as np\n",
    "from qiskit import ClassicalRegister, QuantumRegister, QuantumCircuit\n",
    "from qiskit_aer.primitives import Sampler\n",
    "from qiskit.circuit.library.standard_gates import SwapGate, TGate"
   ]
  },
  {
   "cell_type": "markdown",
   "id": "bfce2b77-a1ba-4445-94ed-c1cb32fdb185",
   "metadata": {
    "tags": []
   },
   "source": [
    "## Rejection Filtering Phase Estimation"
   ]
  },
  {
   "cell_type": "markdown",
   "id": "c82d158e-5160-450a-ae55-8c6563e2d88a",
   "metadata": {
    "tags": []
   },
   "source": [
    "### Characteristics\n",
    "\n",
    "Iterative:Yes \\\n",
    "Adaptive: Yes \\\n",
    "Coherent: Yes \\\n",
    "Qubit overhead: \n",
    "Runtime: \n",
    "Maximum depth: \n",
    "\n",
    "### Diagram\n",
    "\n",
    "### Description of procedure\n",
    "\n",
    "### Commentary"
   ]
  },
  {
   "cell_type": "markdown",
   "id": "0d2c991d-b350-4598-92d4-da1033965673",
   "metadata": {},
   "source": [
    "### Qiskit implementation"
   ]
  },
  {
   "cell_type": "markdown",
   "id": "5b210162-b2b1-47c1-b9dd-fc467b10b096",
   "metadata": {},
   "source": [
    "#### Imports"
   ]
  },
  {
   "cell_type": "code",
   "execution_count": null,
   "id": "e026eb93-451e-46a1-9149-06262260ea6b",
   "metadata": {},
   "outputs": [],
   "source": [
    "import numpy as np\n",
    "from qiskit import ClassicalRegister, QuantumRegister, QuantumCircuit\n",
    "from qiskit_aer.primitives import Sampler\n",
    "from qiskit.circuit.library.standard_gates import SwapGate, TGate"
   ]
  },
  {
   "cell_type": "markdown",
   "id": "4ad98f24-4ca1-498e-a3b5-719390df6734",
   "metadata": {},
   "source": [
    "## Applications"
   ]
  },
  {
   "cell_type": "markdown",
   "id": "5473d213-53e2-4cbd-b4ae-355dd7d7069b",
   "metadata": {},
   "source": [
    "### Cryptography\n",
    "\n",
    "Phase estimation is a subroutine of Shor's algorithm for the discrete logarithm. This can be used to break both RSA (through prime factorization) and elliptic curve cryptographic schemes. For example, Shor's order finding algorithm (a special case) performs phase estimation with a unitary $U$ acting on the computational basis as \n",
    "\n",
    "$$\n",
    "U\\vert y\\rangle = \\vert xy\\; (\\mathrm{mod} N)\\rangle\n",
    "$$\n",
    "where $N > 0$ and $x < N$ are integers relevant to the problem. The input state is $\\vert1\\rangle$, which is a uniform superposition of the eigenstates of $U$. Thus, any coherent phase estimation procedure can determine one of the phases of $U$. These phases contain information about the order of $x$ with respect to $N$. "
   ]
  },
  {
   "cell_type": "markdown",
   "id": "f5112bd6-1198-42ce-9a4b-d1607617b121",
   "metadata": {},
   "source": [
    "### Eigenvalues of Hermitian operators\n",
    "\n",
    "For any Hermitian operation $H$, the collection of unitary matrices $U(t) = e^{i H t}$ is unitary for any $t \\in \\mathbb{R}$. Thus, performing phase estimation on $U(t)$ gives an eigenvalue of $H t$ modulo $2\\pi$. By choosing $t$ such that $\\vert E t\\vert < \\pi/2$ for the eigenvalue(s) $E$ of interest, the eigenvalue can be determined unambiguously. "
   ]
  },
  {
   "cell_type": "markdown",
   "id": "e9f9ac09-35d0-4d71-85ae-106138f90908",
   "metadata": {},
   "source": [
    "### Physics and chemistry\n",
    "\n",
    "A special case of the preceding application, which deserves special attention. In any quantum mechanical system, an important Hermitian operator is the Hamiltonian $H$, whose eigenvalues may be interpreted as the allowed energies of the system. Moreover, the unitary $U(t) = e^{-i H t}$ is the operator which evolves the system in time. By performing phase estimation with $U(t)$ for suitable choices of $t$, and for a given initial state, the system energies may be estimated. "
   ]
  },
  {
   "cell_type": "markdown",
   "id": "e2fb054e-ac03-4eda-baf2-a1d628049aed",
   "metadata": {},
   "source": [
    "### Solving Linear Systems\n",
    "\n",
    "In the Harrow Hassidim Lloyd (HHL) algorithm for solving the linear systems $A x = b$ uses phase estimation as a subroutine. In particular, the relevant Hermitian operator is (in block diagonal form)\n",
    "\n",
    "$$\n",
    "C = \\begin{pmatrix} \n",
    "0 & A \\\\\n",
    "A^\\dagger & 0\n",
    "\\end{pmatrix}.\n",
    "$$"
   ]
  },
  {
   "cell_type": "markdown",
   "id": "07ce7326-4a5d-4979-868a-d2622b656069",
   "metadata": {
    "tags": []
   },
   "source": [
    "## References and Resources"
   ]
  },
  {
   "cell_type": "markdown",
   "id": "d7e9c302-34f3-4ec9-96d9-c92e23e8926e",
   "metadata": {},
   "source": [
    "### General\n",
    "- [Fundamentals of Quantum Algorithms, Phase Estimation and Factoring](https://learning.quantum-computing.ibm.com/course/fundamentals-of-quantum-algorithms/phase-estimation-and-factoring). A pedagogical introduction to phase estimation.\n",
    "- Nielsen and Chuang, [Quantum Computation and Quantum Information](https://www.cambridge.org/highereducation/books/quantum-computation-and-quantum-information/01E10196D0A682A6AEFFEA52D53BE9AE#overview) Chapter 5. A standard reference as well. Focuses on standard phase estimation\n",
    "- Svore, Hastings, Freedman, \"[Faster Phase Estimation](https://arxiv.org/abs/1304.0741).\" Research article containing a pedagogical review of many iterative algorithms. \n",
    "\n",
    "### Standard Phase Estimation\n",
    "- First two resources above.\n",
    "- 1 Minute Qiskit, [\"How can I estimate Pi using a quantum computer?\"](https://www.youtube.com/watch?v=PBXb2LyFg3o)\n",
    "\n",
    "\n",
    "### Iterative Phase Estimation (Standard)\n",
    "- Ferris, [2023 Qiskit Global Summer School](https://www.youtube.com/watch?v=aLSM0_H8hUE)\n",
    "- IBM Learning Platform, [Iterative Phase Estimation](https://learning.quantum-computing.ibm.com/tutorial/iterative-phase-estimation)\n",
    "\n",
    "### Hadamard Phase Estimation\n",
    "- Kitaev, Shen, Vyalvi, [\"Classical and Quantum Computation\"](https://bookstore.ams.org/gsm-47#:~:text=This%20book%20is%20an%20introduction,of%20complexity%20of%20an%20algorithm.) pages 126-127\n",
    "- Svore, Hastings, Freedman, [\"Faster Phase Estimation\"](https://arxiv.org/abs/1304.0741)\n",
    "- Nielsen and Chuang, pg 243-244, Problem 5.3 (Note that they call this \"Kitaev's algorithm\", contrary to our convention)\n",
    "\n",
    "### Kitaev Phase Estimation\n",
    "- Svore, Hastings, Freedman, [\"Faster Phase Estimation\"](https://arxiv.org/abs/1304.0741)\n",
    "- Kitaev, Shen, Vyalvi, [\"Classical and Quantum Computation\"](https://bookstore.ams.org/gsm-47#:~:text=This%20book%20is%20an%20introduction,of%20complexity%20of%20an%20algorithm.) pages 128-129\n",
    "\n",
    "### Fast Phase Estimation\n",
    "- Svore, Hastings, Freedman, [\"Faster Phase Estimation\"](https://arxiv.org/abs/1304.0741)\n",
    "\n",
    "### Rejection Filtering Phase Estimation\n",
    "- Wiebe, Granade, [\"Efficient Bayesian Phase Estimation\" (2016)](https://journals.aps.org/prl/abstract/10.1103/PhysRevLett.117.010503)"
   ]
  }
 ],
 "metadata": {
  "kernelspec": {
   "display_name": "Python 3 (ipykernel)",
   "language": "python",
   "name": "python3"
  },
  "language_info": {
   "codemirror_mode": {
    "name": "ipython",
    "version": 3
   },
   "file_extension": ".py",
   "mimetype": "text/x-python",
   "name": "python",
   "nbconvert_exporter": "python",
   "pygments_lexer": "ipython3",
   "version": "3.10.7"
  }
 },
 "nbformat": 4,
 "nbformat_minor": 5
}
