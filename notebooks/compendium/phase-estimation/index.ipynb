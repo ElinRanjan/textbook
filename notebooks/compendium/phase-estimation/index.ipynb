{
 "cells": [
  {
   "cell_type": "markdown",
   "id": "be1cae81-2aac-4a11-ba29-57518101ecd3",
   "metadata": {},
   "source": [
    "# Phase Estimation"
   ]
  },
  {
   "cell_type": "markdown",
   "id": "2bf8e352-7610-4424-9f64-160712bbbaea",
   "metadata": {},
   "source": [
    "## Overview\n",
    "\n",
    "- Type: Estimation task\n",
    "- Time complexity: $O(1/\\epsilon)$ for most algorithms, with estimation error $\\epsilon$. \n",
    "- Approachability: Medium\n",
    "- Related topics: Phase kickback, Shor's algorithm, Optical interferometry, Quantum Fourier Transform\n",
    "- Applications: Factoring, eigenvalue estimation, solving linear systems, amplitude estimation, quantum mechanics\n",
    "\n",
    "In the context of quantum computing, *phase estimation* refers to the problem of estimating of the eigenvalue of a unitary operator given an eigenvector. Algorithms which solve this problem are known as *phase estimation algorithms*. Often in practice, *phase estimation* is used to refer either to the problem or the algorithm interchangeably. "
   ]
  },
  {
   "cell_type": "markdown",
   "id": "1f23f621-5da5-4299-99da-ce9887a23a49",
   "metadata": {},
   "source": [
    "## Problem statement\n",
    "\n",
    "For a unitary operation $U$, and associated eigenvector $\\vert u \\rangle$, there is a $\\theta \\in [0,1)$ such that\n",
    "\n",
    "$$\n",
    "U \\vert u \\rangle = e^{2\\pi i \\theta} \\vert u \\rangle.\n",
    "$$\n",
    "\n",
    "Given oracular access to a unitary $U$, controlled versions thereof, and an eigenvector $\\vert u \\rangle$ prepared on a quantum register to fidelity $F$, determine $\\theta$ to accuracy $\\epsilon$. We refer to $\\theta$ as the *phase*. "
   ]
  },
  {
   "cell_type": "markdown",
   "id": "a65ee02e-392b-4843-80e7-4faa4e9f4609",
   "metadata": {},
   "source": [
    "## Algorithms\n",
    "\n",
    "There are many Quantum Phase Estimation Algorithms (QPEA). In this article we will focus on the following incomplete list.  \n",
    "\n",
    "- Standard QPEA\n",
    "- QPEA via Hadamard Test\n",
    "- Kitaev QPEA\n",
    "- Fast QPEA (Svore, Hastings, Freedman)\n",
    "- Bayesian QPEA "
   ]
  },
  {
   "cell_type": "markdown",
   "id": "eb059458-3808-452c-95de-9ca326f54af4",
   "metadata": {
    "jp-MarkdownHeadingCollapsed": true,
    "tags": []
   },
   "source": [
    "### High level description\n",
    "\n",
    "Phase estimation algorithms (PEAs) employ phase kickback and quantum interference to measure the desired phase $\\theta$ on an auxiliary quantum register. Various degrees of classical post processing are required following the interference measurements. PEAs can be broadly categorized as non-iterative or iterative. Standard phase estimation is the best known of the non-iterative algorithms and requires no classical processing. Iterative PEAs typically use only a single auxiliary qubit and require multiple rounds, sometimes adaptive, and might require significant classical computation.\n",
    "\n",
    "All but the simplest PEAs achieve a $O(1/\\epsilon)$ scaling in accuracy, which is provably optimal in the general setting."
   ]
  },
  {
   "cell_type": "markdown",
   "id": "64517b0b-5736-4f95-bfc0-ab7c0039c8ae",
   "metadata": {
    "tags": []
   },
   "source": [
    "## Standard Phase Estimation Algorithm (Nielsen and Chuang)"
   ]
  },
  {
   "cell_type": "markdown",
   "id": "9a77dd66-6054-4e24-a6b1-e08d018a84b9",
   "metadata": {},
   "source": [
    "### Overview\n",
    "\n",
    "As the name suggests, the most commonly referred to algorithm for phase estimation, often simply abbreviated to \"phase estimation.\" In contrast to \"iterative\" methods, this approach requires (with high probability) only one execution of the circuit below, but a number of auxiliary qubits proportional to the desired bits of precision. An $n$ bit approximation is of the phase is produced on an auxiliary register.\n",
    "\n",
    "### Characteristics\n",
    "\n",
    "Type: Single shot \\\n",
    "Qubit overhead: $O(\\log(1/\\epsilon) + \\log(1/\\delta))$. \\\n",
    "Runtime: $O(1/\\epsilon)$ calls to the controlled-$U$. \\\n",
    "Maximum depth: $O(1/\\epsilon)$\n",
    "Works with superposition input?: Yes\n",
    "\n",
    "\n",
    "### Circuit diagram\n",
    "\n",
    "### Pseudocode (Nielsen and Chuang pg. 235)"
   ]
  },
  {
   "cell_type": "markdown",
   "id": "e8fc62ff-fa90-4886-9a4f-4d1e39b4e9f2",
   "metadata": {
    "jp-MarkdownHeadingCollapsed": true,
    "tags": []
   },
   "source": [
    "### Qiskit Implementation"
   ]
  },
  {
   "cell_type": "code",
   "execution_count": null,
   "id": "b8cb56bd-a3d5-4582-bf43-c0dd94a285e7",
   "metadata": {},
   "outputs": [],
   "source": [
    "import numpy as np\n",
    "\n",
    "from qiskit import QuantumRegister, ClassicalRegister, QuantumCircuit\n",
    "from qiskit.circuit.library import QFT\n",
    "\n",
    "\n",
    "def create_qpe_circuit(theta, num_qubits):\n",
    "    \"\"\"Creates a QPE circuit given theta and num_qubits.\"\"\"\n",
    "\n",
    "    # Step 1: Create a circuit with two quantum registers and one classical register.\n",
    "    first = QuantumRegister(\n",
    "        size=num_qubits, name=\"first\"\n",
    "    )  # the first register for phase estimation\n",
    "    second = QuantumRegister(\n",
    "        size=1, name=\"second\"\n",
    "    )  # the second register for storing eigenvector |psi>\n",
    "    classical = ClassicalRegister(\n",
    "        size=num_qubits, name=\"readout\"\n",
    "    )  # classical register for readout\n",
    "    qpe_circuit = QuantumCircuit(first, second, classical)\n",
    "\n",
    "    # Step 2: Initialize the qubits.\n",
    "    # All qubits are initialized in |0> by default, no extra code is needed to initialize the first register.\n",
    "    qpe_circuit.x(\n",
    "        second\n",
    "    )  # Initialize the second register with state |psi>, which is |1> in this example.\n",
    "\n",
    "    # Step 3: Create superposition in the first register.\n",
    "    qpe_circuit.barrier()  # Add barriers to separate each step of the algorithm for better visualization.\n",
    "    qpe_circuit.h(first)\n",
    "\n",
    "    # Step 4: Apply a controlled-U^(2^j) black box.\n",
    "    qpe_circuit.barrier()\n",
    "    for j in range(num_qubits):\n",
    "        qpe_circuit.cp(\n",
    "            theta * 2 * np.pi * (2**j), j, num_qubits\n",
    "        )  # Theta doesn't contain the 2 pi factor.\n",
    "\n",
    "    # Step 5: Apply an inverse QFT to the first register.\n",
    "    qpe_circuit.barrier()\n",
    "    qpe_circuit.compose(QFT(num_qubits, inverse=True), inplace=True)\n",
    "\n",
    "    # Step 6: Measure the first register.\n",
    "    qpe_circuit.barrier()\n",
    "    qpe_circuit.measure(first, classical)\n",
    "\n",
    "    return qpe_circuit"
   ]
  },
  {
   "cell_type": "markdown",
   "id": "938d5a15-e65c-4511-8092-9f2381dfb3ef",
   "metadata": {
    "tags": []
   },
   "source": [
    "## Phase Estimation with the Hadamard test"
   ]
  },
  {
   "cell_type": "markdown",
   "id": "afb7bb09-630b-479d-a4f3-ccd7ccd386d7",
   "metadata": {},
   "source": [
    "#### Overview \n",
    "\n",
    "The Hadamard test serves as a phase estimation algorithm. See the Hadamard Test article for further information.\n",
    "\n",
    "#### Characteristics\n",
    "\n",
    "Type: Iterative \\\n",
    "Qubit overhead: $1$ ancilla \\\n",
    "Runtime: $O(1/\\epsilon^2)$ iterations. \\\n",
    "Eigenvector superpositions: Depends\n",
    "Maximum depth: Depends\n",
    "\n",
    "#### Remarks\n",
    "\n",
    "Possibly the simplest QPEA, but with quadratically worse scaling than other approaches in the accuracy. Low overhead qubit costs make this approach more attractive than standard QPE for noisy hardware. Two versions of this exist: a \"coherent\" version, in which repeated measurements "
   ]
  },
  {
   "cell_type": "markdown",
   "id": "46e218a3-2204-4636-b582-4895902e68ae",
   "metadata": {},
   "source": [
    "### Qiskit Implementation"
   ]
  },
  {
   "cell_type": "markdown",
   "id": "c22c7ef2-7797-4678-87bf-3984b710b54f",
   "metadata": {},
   "source": [
    "#### Relevant imports"
   ]
  },
  {
   "cell_type": "code",
   "execution_count": 5,
   "id": "3786eb81-a570-4236-a130-15cf02160e6c",
   "metadata": {},
   "outputs": [],
   "source": [
    "from qiskit import ClassicalRegister, QuantumRegister, QuantumCircuit\n",
    "from qiskit_aer.primitives import Sampler\n",
    "from qiskit.circuit.library.standard_gates import SwapGate"
   ]
  },
  {
   "cell_type": "markdown",
   "id": "75a89ba5-b2fc-4256-a9df-dc657b4768a1",
   "metadata": {},
   "source": [
    "#### Basic Hadamard circuit\n",
    "\n",
    "The code below is borrowed from the Hadamard test compendium article. See that page for further details."
   ]
  },
  {
   "cell_type": "code",
   "execution_count": 6,
   "id": "9b3c94d7-3eec-4921-a4a9-ca7549689067",
   "metadata": {},
   "outputs": [],
   "source": [
    "def hadamard_circuit(U, add_s_gate=False, measure=True):\n",
    "    \"\"\"\n",
    "    Args:\n",
    "        U (Gate): Unitary gate to measure expectation value of\n",
    "        add_s_gate (bool): Whether to measure real (False) or imaginary\n",
    "            (True) parts of the expectation value\n",
    "        measure (bool): Whether to measure the auxiliary qubit\n",
    "    Returns:\n",
    "        QuantumCircuit that implements the Hadamard test\n",
    "    \"\"\"\n",
    "    # Initialize registers and circuit\n",
    "    aux = QuantumRegister(1, 'aux')\n",
    "    main = QuantumRegister(U.num_qubits, 'q')\n",
    "    circuit = QuantumCircuit(aux, main)\n",
    "    \n",
    "    # Construct controlled-U gate\n",
    "    cU = U.control(1)\n",
    "    \n",
    "    # Add gates to circuit\n",
    "    circuit.h(aux)\n",
    "    circuit.append(cU, aux[:] + main[:])\n",
    "    if add_s_gate:\n",
    "        circuit.s(aux)\n",
    "    circuit.h(aux)\n",
    "    \n",
    "    # Add measurement if option specified\n",
    "    if measure:\n",
    "        creg = ClassicalRegister(1, 'c')\n",
    "        circuit.add_register(creg)\n",
    "        circuit.measure(aux, creg)\n",
    "    \n",
    "    return circuit"
   ]
  },
  {
   "cell_type": "markdown",
   "id": "34982037-d83d-433a-aea7-fcb8b192e248",
   "metadata": {},
   "source": [
    "#### Coherent vs incoherent phase estimation\n",
    "\n",
    "Hadamard phase estimation involves repeated Hadamard circuit measurements. There are two approaches we can take:\n",
    "\n",
    "- Perform a Hadamard test on many copies of identical input states. We label this \"incoherent\" phase estimation. This approach only works when the state is approximately an eigenstate, but uses shallower circuits. \n",
    "- After each Hadamard test measurement, leave the state of the main register as is. This corresponds to \"coherent\" phase estimation. This approach allows for phase estimation with generic input states, with probability of a phase being measured given by the Born rule. However, this approach has larger circuit depths.\n",
    "\n",
    "The following function creates the required circuit for coherent phase estimation."
   ]
  },
  {
   "cell_type": "code",
   "execution_count": 17,
   "id": "605b6326-aed8-4002-b11b-67638ac20100",
   "metadata": {},
   "outputs": [],
   "source": [
    "# State of main register is not reset after each measurement. Allows for phase estimation over superpositions.\n",
    "def coherent_Hadamard_circuit(U, Ncycles):\n",
    "    \"\"\"\n",
    "    Args:\n",
    "        U (Gate): Unitary gate to measure\n",
    "        Ncycles: Number of measurements on ancilla qubit for phased and unphased Hadamard test. \n",
    "        coherent (bool): Whether to keep state of principal register (True) \n",
    "            or reset to original state(False) after each measurement.\n",
    "    Returns:\n",
    "        QuantumCircuit that implements a coherent version of the Hadamard test, whereby this we mean the state of the principal register is not reset following measurements.\n",
    "    \"\"\"\n",
    "    hadamard_circ = hadamard_circuit(U, add_s_gate = False, measure = True)\n",
    "    \n",
    "    \n",
    "    # Initialize circuit with first iteration as initial fencepost\n",
    "    circuit = hadamard_circuit(U, add_s_gate = False, measure = False)\n",
    "    creg = ClassicalRegister(2*Ncycles, 'c')\n",
    "    circuit.add_register(creg)\n",
    "    circuit.measure(0, creg[0])\n",
    "    circuit.reset(0)\n",
    "    \n",
    "    # Perform nonphased measurements\n",
    "    for k in range(1, Ncycles):\n",
    "        circuit = circuit.compose(hadamard_circ, qubits = None, clbits = k)\n",
    "        circuit.reset(0)\n",
    "        \n",
    "    hadamard_circ = hadamard_circuit(U, add_s_gate = True, measure = True)\n",
    "    \n",
    "    # Perform nonphased measurements\n",
    "    for k in range(0, Ncycles):\n",
    "        circuit = circuit.compose(hadamard_circ, qubits = None, clbits = k + Ncycles)\n",
    "        circuit.reset(0)\n",
    "    \n",
    "    return circuit"
   ]
  },
  {
   "cell_type": "markdown",
   "id": "825a7d4a-f83c-4bdc-9479-46a94411f8c9",
   "metadata": {},
   "source": [
    "We demonstrate this construction for $U = \\text{SWAP}$."
   ]
  },
  {
   "cell_type": "code",
   "execution_count": 18,
   "id": "3803ebd0-3871-4dbf-9243-d864230c86d4",
   "metadata": {
    "tags": []
   },
   "outputs": [
    {
     "data": {
      "image/png": "[encoded data removed]",
      "text/plain": [
       "<Figure size 1641.7x367.889 with 1 Axes>"
      ]
     },
     "execution_count": 18,
     "metadata": {},
     "output_type": "execute_result"
    }
   ],
   "source": [
    "circuit = coherent_Hadamard_circuit(SwapGate(), 2)\n",
    "circuit.draw(output = 'mpl')"
   ]
  },
  {
   "cell_type": "markdown",
   "id": "377cef8a-36db-43a7-9490-8ab7bf6b2bfe",
   "metadata": {},
   "source": [
    "Using `Ncycles = 2` is typically too short to get a good estimate, but we wanted to make the circuit easy to visualize. \n",
    "\n",
    "#### Executing coherent phase estimation."
   ]
  },
  {
   "cell_type": "code",
   "execution_count": 19,
   "id": "c25b7911-595f-44f7-adf0-475904991cb4",
   "metadata": {
    "tags": []
   },
   "outputs": [
    {
     "ename": "QiskitError",
     "evalue": "'Some classical bits are not used for measurements. The number of classical bits 4, the used classical bits {3}.'",
     "output_type": "error",
     "traceback": [
      "\u001b[0;31m---------------------------------------------------------------------------\u001b[0m",
      "\u001b[0;31mQiskitError\u001b[0m                               Traceback (most recent call last)",
      "Cell \u001b[0;32mIn [19], line 5\u001b[0m\n\u001b[1;32m      1\u001b[0m \u001b[38;5;28;01mfrom\u001b[39;00m \u001b[38;5;21;01mqiskit_aer\u001b[39;00m\u001b[38;5;21;01m.\u001b[39;00m\u001b[38;5;21;01mprimitives\u001b[39;00m \u001b[38;5;28;01mimport\u001b[39;00m Sampler\n\u001b[1;32m      2\u001b[0m Sampler()\u001b[38;5;241m.\u001b[39mrun(\n\u001b[1;32m      3\u001b[0m     circuit,\n\u001b[1;32m      4\u001b[0m     shots \u001b[38;5;241m=\u001b[39m \u001b[38;5;28;01mNone\u001b[39;00m\n\u001b[0;32m----> 5\u001b[0m     )\u001b[38;5;241m.\u001b[39mresult()\n",
      "File \u001b[0;32m/Library/Frameworks/Python.framework/Versions/3.10/lib/python3.10/site-packages/qiskit/primitives/primitive_job.py:55\u001b[0m, in \u001b[0;36mPrimitiveJob.result\u001b[0;34m(self)\u001b[0m\n\u001b[1;32m     53\u001b[0m \u001b[38;5;124;03m\"\"\"Return the results of the job.\"\"\"\u001b[39;00m\n\u001b[1;32m     54\u001b[0m \u001b[38;5;28mself\u001b[39m\u001b[38;5;241m.\u001b[39m_check_submitted()\n\u001b[0;32m---> 55\u001b[0m \u001b[38;5;28;01mreturn\u001b[39;00m \u001b[38;5;28;43mself\u001b[39;49m\u001b[38;5;241;43m.\u001b[39;49m\u001b[43m_future\u001b[49m\u001b[38;5;241;43m.\u001b[39;49m\u001b[43mresult\u001b[49m\u001b[43m(\u001b[49m\u001b[43m)\u001b[49m\n",
      "File \u001b[0;32m/Library/Frameworks/Python.framework/Versions/3.10/lib/python3.10/concurrent/futures/_base.py:451\u001b[0m, in \u001b[0;36mFuture.result\u001b[0;34m(self, timeout)\u001b[0m\n\u001b[1;32m    449\u001b[0m     \u001b[38;5;28;01mraise\u001b[39;00m CancelledError()\n\u001b[1;32m    450\u001b[0m \u001b[38;5;28;01melif\u001b[39;00m \u001b[38;5;28mself\u001b[39m\u001b[38;5;241m.\u001b[39m_state \u001b[38;5;241m==\u001b[39m FINISHED:\n\u001b[0;32m--> 451\u001b[0m     \u001b[38;5;28;01mreturn\u001b[39;00m \u001b[38;5;28;43mself\u001b[39;49m\u001b[38;5;241;43m.\u001b[39;49m\u001b[43m__get_result\u001b[49m\u001b[43m(\u001b[49m\u001b[43m)\u001b[49m\n\u001b[1;32m    453\u001b[0m \u001b[38;5;28mself\u001b[39m\u001b[38;5;241m.\u001b[39m_condition\u001b[38;5;241m.\u001b[39mwait(timeout)\n\u001b[1;32m    455\u001b[0m \u001b[38;5;28;01mif\u001b[39;00m \u001b[38;5;28mself\u001b[39m\u001b[38;5;241m.\u001b[39m_state \u001b[38;5;129;01min\u001b[39;00m [CANCELLED, CANCELLED_AND_NOTIFIED]:\n",
      "File \u001b[0;32m/Library/Frameworks/Python.framework/Versions/3.10/lib/python3.10/concurrent/futures/_base.py:403\u001b[0m, in \u001b[0;36mFuture.__get_result\u001b[0;34m(self)\u001b[0m\n\u001b[1;32m    401\u001b[0m \u001b[38;5;28;01mif\u001b[39;00m \u001b[38;5;28mself\u001b[39m\u001b[38;5;241m.\u001b[39m_exception:\n\u001b[1;32m    402\u001b[0m     \u001b[38;5;28;01mtry\u001b[39;00m:\n\u001b[0;32m--> 403\u001b[0m         \u001b[38;5;28;01mraise\u001b[39;00m \u001b[38;5;28mself\u001b[39m\u001b[38;5;241m.\u001b[39m_exception\n\u001b[1;32m    404\u001b[0m     \u001b[38;5;28;01mfinally\u001b[39;00m:\n\u001b[1;32m    405\u001b[0m         \u001b[38;5;66;03m# Break a reference cycle with the exception in self._exception\u001b[39;00m\n\u001b[1;32m    406\u001b[0m         \u001b[38;5;28mself\u001b[39m \u001b[38;5;241m=\u001b[39m \u001b[38;5;28;01mNone\u001b[39;00m\n",
      "File \u001b[0;32m/Library/Frameworks/Python.framework/Versions/3.10/lib/python3.10/concurrent/futures/thread.py:58\u001b[0m, in \u001b[0;36m_WorkItem.run\u001b[0;34m(self)\u001b[0m\n\u001b[1;32m     55\u001b[0m     \u001b[38;5;28;01mreturn\u001b[39;00m\n\u001b[1;32m     57\u001b[0m \u001b[38;5;28;01mtry\u001b[39;00m:\n\u001b[0;32m---> 58\u001b[0m     result \u001b[38;5;241m=\u001b[39m \u001b[38;5;28;43mself\u001b[39;49m\u001b[38;5;241;43m.\u001b[39;49m\u001b[43mfn\u001b[49m\u001b[43m(\u001b[49m\u001b[38;5;241;43m*\u001b[39;49m\u001b[38;5;28;43mself\u001b[39;49m\u001b[38;5;241;43m.\u001b[39;49m\u001b[43margs\u001b[49m\u001b[43m,\u001b[49m\u001b[43m \u001b[49m\u001b[38;5;241;43m*\u001b[39;49m\u001b[38;5;241;43m*\u001b[39;49m\u001b[38;5;28;43mself\u001b[39;49m\u001b[38;5;241;43m.\u001b[39;49m\u001b[43mkwargs\u001b[49m\u001b[43m)\u001b[49m\n\u001b[1;32m     59\u001b[0m \u001b[38;5;28;01mexcept\u001b[39;00m \u001b[38;5;167;01mBaseException\u001b[39;00m \u001b[38;5;28;01mas\u001b[39;00m exc:\n\u001b[1;32m     60\u001b[0m     \u001b[38;5;28mself\u001b[39m\u001b[38;5;241m.\u001b[39mfuture\u001b[38;5;241m.\u001b[39mset_exception(exc)\n",
      "File \u001b[0;32m/Library/Frameworks/Python.framework/Versions/3.10/lib/python3.10/site-packages/qiskit_aer/primitives/sampler.py:89\u001b[0m, in \u001b[0;36mSampler._call\u001b[0;34m(self, circuits, parameter_values, **run_options)\u001b[0m\n\u001b[1;32m     86\u001b[0m     run_options\u001b[38;5;241m.\u001b[39msetdefault(\u001b[38;5;124m\"\u001b[39m\u001b[38;5;124mseed_simulator\u001b[39m\u001b[38;5;124m\"\u001b[39m, seed)\n\u001b[1;32m     88\u001b[0m is_shots_none \u001b[38;5;241m=\u001b[39m \u001b[38;5;124m\"\u001b[39m\u001b[38;5;124mshots\u001b[39m\u001b[38;5;124m\"\u001b[39m \u001b[38;5;129;01min\u001b[39;00m run_options \u001b[38;5;129;01mand\u001b[39;00m run_options[\u001b[38;5;124m\"\u001b[39m\u001b[38;5;124mshots\u001b[39m\u001b[38;5;124m\"\u001b[39m] \u001b[38;5;129;01mis\u001b[39;00m \u001b[38;5;28;01mNone\u001b[39;00m\n\u001b[0;32m---> 89\u001b[0m \u001b[38;5;28;43mself\u001b[39;49m\u001b[38;5;241;43m.\u001b[39;49m\u001b[43m_transpile\u001b[49m\u001b[43m(\u001b[49m\u001b[43mcircuits\u001b[49m\u001b[43m,\u001b[49m\u001b[43m \u001b[49m\u001b[43mis_shots_none\u001b[49m\u001b[43m)\u001b[49m\n\u001b[1;32m     91\u001b[0m experiments \u001b[38;5;241m=\u001b[39m []\n\u001b[1;32m     92\u001b[0m parameter_binds \u001b[38;5;241m=\u001b[39m []\n",
      "File \u001b[0;32m/Library/Frameworks/Python.framework/Versions/3.10/lib/python3.10/site-packages/qiskit_aer/primitives/sampler.py:183\u001b[0m, in \u001b[0;36mSampler._transpile\u001b[0;34m(self, circuit_indices, is_shots_none)\u001b[0m\n\u001b[1;32m    180\u001b[0m     circuits \u001b[38;5;241m=\u001b[39m (\u001b[38;5;28mself\u001b[39m\u001b[38;5;241m.\u001b[39m_preprocess_circuit(circ) \u001b[38;5;28;01mfor\u001b[39;00m circ \u001b[38;5;129;01min\u001b[39;00m circuits)\n\u001b[1;32m    181\u001b[0m \u001b[38;5;28;01mif\u001b[39;00m \u001b[38;5;129;01mnot\u001b[39;00m \u001b[38;5;28mself\u001b[39m\u001b[38;5;241m.\u001b[39m_skip_transpilation:\n\u001b[1;32m    182\u001b[0m     circuits \u001b[38;5;241m=\u001b[39m transpile(\n\u001b[0;32m--> 183\u001b[0m         \u001b[38;5;28;43mlist\u001b[39;49m\u001b[43m(\u001b[49m\u001b[43mcircuits\u001b[49m\u001b[43m)\u001b[49m,\n\u001b[1;32m    184\u001b[0m         \u001b[38;5;28mself\u001b[39m\u001b[38;5;241m.\u001b[39m_backend,\n\u001b[1;32m    185\u001b[0m         \u001b[38;5;241m*\u001b[39m\u001b[38;5;241m*\u001b[39m\u001b[38;5;28mself\u001b[39m\u001b[38;5;241m.\u001b[39m_transpile_options,\n\u001b[1;32m    186\u001b[0m     )\n\u001b[1;32m    187\u001b[0m \u001b[38;5;28;01mfor\u001b[39;00m i, circuit \u001b[38;5;129;01min\u001b[39;00m \u001b[38;5;28mzip\u001b[39m(to_handle, circuits):\n\u001b[1;32m    188\u001b[0m     \u001b[38;5;28mself\u001b[39m\u001b[38;5;241m.\u001b[39m_transpiled_circuits[(i, is_shots_none)] \u001b[38;5;241m=\u001b[39m circuit\n",
      "File \u001b[0;32m/Library/Frameworks/Python.framework/Versions/3.10/lib/python3.10/site-packages/qiskit_aer/primitives/sampler.py:180\u001b[0m, in \u001b[0;36m<genexpr>\u001b[0;34m(.0)\u001b[0m\n\u001b[1;32m    178\u001b[0m circuits \u001b[38;5;241m=\u001b[39m (\u001b[38;5;28mself\u001b[39m\u001b[38;5;241m.\u001b[39m_circuits[i] \u001b[38;5;28;01mfor\u001b[39;00m i \u001b[38;5;129;01min\u001b[39;00m to_handle)\n\u001b[1;32m    179\u001b[0m \u001b[38;5;28;01mif\u001b[39;00m is_shots_none:\n\u001b[0;32m--> 180\u001b[0m     circuits \u001b[38;5;241m=\u001b[39m (\u001b[38;5;28;43mself\u001b[39;49m\u001b[38;5;241;43m.\u001b[39;49m\u001b[43m_preprocess_circuit\u001b[49m\u001b[43m(\u001b[49m\u001b[43mcirc\u001b[49m\u001b[43m)\u001b[49m \u001b[38;5;28;01mfor\u001b[39;00m circ \u001b[38;5;129;01min\u001b[39;00m circuits)\n\u001b[1;32m    181\u001b[0m \u001b[38;5;28;01mif\u001b[39;00m \u001b[38;5;129;01mnot\u001b[39;00m \u001b[38;5;28mself\u001b[39m\u001b[38;5;241m.\u001b[39m_skip_transpilation:\n\u001b[1;32m    182\u001b[0m     circuits \u001b[38;5;241m=\u001b[39m transpile(\n\u001b[1;32m    183\u001b[0m         \u001b[38;5;28mlist\u001b[39m(circuits),\n\u001b[1;32m    184\u001b[0m         \u001b[38;5;28mself\u001b[39m\u001b[38;5;241m.\u001b[39m_backend,\n\u001b[1;32m    185\u001b[0m         \u001b[38;5;241m*\u001b[39m\u001b[38;5;241m*\u001b[39m\u001b[38;5;28mself\u001b[39m\u001b[38;5;241m.\u001b[39m_transpile_options,\n\u001b[1;32m    186\u001b[0m     )\n",
      "File \u001b[0;32m/Library/Frameworks/Python.framework/Versions/3.10/lib/python3.10/site-packages/qiskit_aer/primitives/sampler.py:162\u001b[0m, in \u001b[0;36mSampler._preprocess_circuit\u001b[0;34m(circuit)\u001b[0m\n\u001b[1;32m    160\u001b[0m q_c_mapping \u001b[38;5;241m=\u001b[39m final_measurement_mapping(circuit)\n\u001b[1;32m    161\u001b[0m \u001b[38;5;28;01mif\u001b[39;00m \u001b[38;5;28mset\u001b[39m(\u001b[38;5;28mrange\u001b[39m(circuit\u001b[38;5;241m.\u001b[39mnum_clbits)) \u001b[38;5;241m!=\u001b[39m \u001b[38;5;28mset\u001b[39m(q_c_mapping\u001b[38;5;241m.\u001b[39mvalues()):\n\u001b[0;32m--> 162\u001b[0m     \u001b[38;5;28;01mraise\u001b[39;00m QiskitError(\n\u001b[1;32m    163\u001b[0m         \u001b[38;5;124m\"\u001b[39m\u001b[38;5;124mSome classical bits are not used for measurements. \u001b[39m\u001b[38;5;124m\"\u001b[39m\n\u001b[1;32m    164\u001b[0m         \u001b[38;5;124mf\u001b[39m\u001b[38;5;124m\"\u001b[39m\u001b[38;5;124mThe number of classical bits \u001b[39m\u001b[38;5;132;01m{\u001b[39;00mcircuit\u001b[38;5;241m.\u001b[39mnum_clbits\u001b[38;5;132;01m}\u001b[39;00m\u001b[38;5;124m, \u001b[39m\u001b[38;5;124m\"\u001b[39m\n\u001b[1;32m    165\u001b[0m         \u001b[38;5;124mf\u001b[39m\u001b[38;5;124m\"\u001b[39m\u001b[38;5;124mthe used classical bits \u001b[39m\u001b[38;5;132;01m{\u001b[39;00m\u001b[38;5;28mset\u001b[39m(q_c_mapping\u001b[38;5;241m.\u001b[39mvalues())\u001b[38;5;132;01m}\u001b[39;00m\u001b[38;5;124m.\u001b[39m\u001b[38;5;124m\"\u001b[39m\n\u001b[1;32m    166\u001b[0m     )\n\u001b[1;32m    167\u001b[0m c_q_mapping \u001b[38;5;241m=\u001b[39m \u001b[38;5;28msorted\u001b[39m((c, q) \u001b[38;5;28;01mfor\u001b[39;00m q, c \u001b[38;5;129;01min\u001b[39;00m q_c_mapping\u001b[38;5;241m.\u001b[39mitems())\n\u001b[1;32m    168\u001b[0m qargs \u001b[38;5;241m=\u001b[39m [q \u001b[38;5;28;01mfor\u001b[39;00m _, q \u001b[38;5;129;01min\u001b[39;00m c_q_mapping]\n",
      "\u001b[0;31mQiskitError\u001b[0m: 'Some classical bits are not used for measurements. The number of classical bits 4, the used classical bits {3}.'"
     ]
    }
   ],
   "source": [
    "from qiskit_aer.primitives import Sampler\n",
    "Sampler().run(\n",
    "    circuit,\n",
    "    shots = None\n",
    "    ).result()"
   ]
  },
  {
   "cell_type": "raw",
   "id": "2fd964b9-cda3-4ab6-97d3-c4cdce65c73b",
   "metadata": {
    "tags": []
   },
   "source": [
    "set()"
   ]
  },
  {
   "cell_type": "code",
   "execution_count": 55,
   "id": "0ed2dfb7-40c6-4d81-8c86-9beb4e0a79a5",
   "metadata": {},
   "outputs": [],
   "source": [
    "def Hadamard_phase_estimation(U, backend, precision = 2 * 10**-1, coherent = True):\n",
    "    \"\"\"\n",
    "    Args:\n",
    "        U (Gate): Unitary gate to measure expectation value of\n",
    "        backend (Backend): Desired Qiskit backend, such as a simulator or quantum device\n",
    "        precision (float): Desired precision of phase. \n",
    "            Achieving results well outside of precision has exponentially vanishing probability. \n",
    "        coherent (bool): Whether to keep state of principal register (True) \n",
    "            or reset to original state(False) after each measurement.\n",
    "    Returns:\n",
    "        An estimate for the phase with specified precision, to confidence ~70%.\n",
    "            Large deviations from precision are statistically unlikely.\n",
    "    \"\"\"\n",
    "    Ncycles = 1/(precision**2)\n",
    "    if coherent:\n",
    "        phase_estimation_circuit = coherent_Hadamard_circuit(U, Ncycles)\n",
    "            # Run circuit and get qasi-probability distribution\n",
    "        backend = \n",
    "        phase_estimation_circuit,\n",
    "        shots=1\n",
    "        "
   ]
  },
  {
   "cell_type": "code",
   "execution_count": null,
   "id": "1e7ca1fe-74b5-4b66-857b-1ec9c389ddaa",
   "metadata": {},
   "outputs": [],
   "source": [
    "for part in (\"Real\", \"Imaginary\"):\n",
    "    # Build circuit\n",
    "    circuit = hadamard_circuit(\n",
    "        U,\n",
    "        add_s_gate=(False if part==\"Real\" else True),\n",
    "        measure=True\n",
    "    )\n",
    "\n",
    "    # Run circuit and get qasi-probability distribution\n",
    "    results = Sampler().run(\n",
    "        circuit,\n",
    "        shots=1\n",
    "    ).result().quasi_dists[0]\n",
    "\n",
    "    # Get qasi-probability of measuring 0 (default to 0 if not in distribution)\n",
    "    p0 = results.get(0, 0)\n",
    "\n",
    "    # Calculate estimate\n",
    "    estimate = ((2 * p0) - 1) * (1 if part==\"Real\" else -1)\n",
    "    print(f\"{part} part of expectation value: {estimate:.3f}\")"
   ]
  },
  {
   "cell_type": "code",
   "execution_count": 55,
   "id": "c9a57378-74a7-448b-ad56-4bfcaa793565",
   "metadata": {},
   "outputs": [
    {
     "ename": "SyntaxError",
     "evalue": "'(' was never closed (3912623544.py, line 13)",
     "output_type": "error",
     "traceback": [
      "\u001b[0;36m  Cell \u001b[0;32mIn [55], line 13\u001b[0;36m\u001b[0m\n\u001b[0;31m    Ncycles = 1/precision**2 (\u001b[0m\n\u001b[0m                             ^\u001b[0m\n\u001b[0;31mSyntaxError\u001b[0m\u001b[0;31m:\u001b[0m '(' was never closed\n"
     ]
    }
   ],
   "source": [
    "def hadamard_test(U, add_s_gate=False, measure=True):\n",
    "    \"\"\"\n",
    "    Args:\n",
    "        U (Gate): Unitary gate to measure expectation value of\n",
    "        add_s_gate (bool): Whether to measure real (False) or imaginary\n",
    "            (True) parts of the expectation value\n",
    "        measure (bool): Whether to measure the auxiliary qubit\n",
    "    Returns:\n",
    "        QuantumCircuit that implements the Hadamard test\n",
    "    \"\"\"\n",
    "    # Initialize registers and circuit\n",
    "    aux = QuantumRegister(1, 'aux')\n",
    "    main = QuantumRegister(U.num_qubits, 'q')\n",
    "    circuit = QuantumCircuit(aux, main)\n",
    "    \n",
    "    # Construct controlled-U gate\n",
    "    cU = U.control(1)\n",
    "    \n",
    "    # Add gates to circuit\n",
    "    circuit.h(aux)\n",
    "    circuit.append(cU, aux[:] + main[:])\n",
    "    if add_s_gate:\n",
    "        circuit.s(aux)\n",
    "    circuit.h(aux)\n",
    "    \n",
    "    # Add measurement if option specified\n",
    "    if measure:\n",
    "        creg = ClassicalRegister(1, 'c')\n",
    "        circuit.add_register(creg)\n",
    "        circuit.measure(aux, creg)\n",
    "    \n",
    "    return circuit\n",
    "\n",
    "# Draw an example\n",
    "circuit = hadamard_circuit(SwapGate(), add_s_gate=True, measure=True)\n",
    "circuit.draw()"
   ]
  },
  {
   "cell_type": "code",
   "execution_count": 31,
   "id": "5c77952d-fc22-4f99-b14c-a70fdaeed1e5",
   "metadata": {
    "tags": []
   },
   "outputs": [
    {
     "ename": "NameError",
     "evalue": "name 'aux' is not defined",
     "output_type": "error",
     "traceback": [
      "\u001b[0;31m---------------------------------------------------------------------------\u001b[0m",
      "\u001b[0;31mNameError\u001b[0m                                 Traceback (most recent call last)",
      "Cell \u001b[0;32mIn [31], line 4\u001b[0m\n\u001b[1;32m      2\u001b[0m creg \u001b[38;5;241m=\u001b[39m ClassicalRegister(\u001b[38;5;241m2\u001b[39m\u001b[38;5;241m*\u001b[39m\u001b[38;5;241m10\u001b[39m, \u001b[38;5;124m'\u001b[39m\u001b[38;5;124mc\u001b[39m\u001b[38;5;124m'\u001b[39m)\n\u001b[1;32m      3\u001b[0m circuit\u001b[38;5;241m.\u001b[39madd_register(creg)\n\u001b[0;32m----> 4\u001b[0m circuit\u001b[38;5;241m.\u001b[39mmeasure(aux[\u001b[38;5;241m0\u001b[39m], creg[\u001b[38;5;241m0\u001b[39m])\n\u001b[1;32m      5\u001b[0m circuit\u001b[38;5;241m.\u001b[39mdraw()\n",
      "\u001b[0;31mNameError\u001b[0m: name 'aux' is not defined"
     ]
    }
   ],
   "source": [
    "circuit = hadamard_circuit(SwapGate(), add_s_gate = False, measure = False)\n",
    "creg = ClassicalRegister(2*10, 'c')\n",
    "circuit.add_register(creg)\n",
    "circuit.measure(aux[0], creg[0])\n",
    "circuit.draw()"
   ]
  },
  {
   "cell_type": "code",
   "execution_count": null,
   "id": "d7a19845-22a1-400c-bc22-bd7be7fc7209",
   "metadata": {},
   "outputs": [],
   "source": [
    "from qiskit.primitives import Sampler\n",
    "\n",
    "def phase_estimation_primitive(U, precision = 10**-2, coherent = True):\n",
    "    \"\"\"\n",
    "    Args:\n",
    "        U (Gate): Unitary gate to measure expectation value of\n",
    "        add_s_gate (bool): Whether to measure real (False) or imaginary\n",
    "            (True) parts of the expectation value\n",
    "        measure (bool): Whether to measure the auxiliary qubit\n",
    "    Returns:\n",
    "        QuantumCircuit that implements the Hadamard test\n",
    "    \"\"\"\n",
    "    \n",
    "Nshots = 1/precision**2\n",
    "U = SwapGate()\n",
    "\n",
    "for part in (\"Real\", \"Imaginary\"):\n",
    "    # Build circuit\n",
    "    circuit = hadamard_circuit(\n",
    "        U,\n",
    "        add_s_gate=(False if part==\"Real\" else True),\n",
    "        measure=True\n",
    "    )\n",
    "\n",
    "    # Run circuit and get qasi-probability distribution\n",
    "    results = Sampler().run(\n",
    "        circuit,\n",
    "        shots=N\n",
    "    ).result().quasi_dists[0]\n",
    "\n",
    "    # Get qasi-probability of measuring 0 (default to 0 if not in distribution)\n",
    "    p0 = results.get(0, 0)\n",
    "\n",
    "    # Calculate estimate\n",
    "    estimate = ((2 * p0) - 1) * (1 if part==\"Real\" else -1)\n",
    "    print(f\"{part} part of expectation value: {estimate:.3f}\")"
   ]
  },
  {
   "cell_type": "markdown",
   "id": "db01f79b-3a4c-4efb-b72d-e567cb56459a",
   "metadata": {},
   "source": [
    "### Kitaev Phase Estimation Algorithm"
   ]
  },
  {
   "cell_type": "markdown",
   "id": "cf050332-a657-4229-9d0b-ee1e19fd1fa6",
   "metadata": {},
   "source": [
    "#### Overview\n",
    "\n",
    "The Kitaev phase estimation algorithm (KPEA) is simply the Hadamard test repeated with certain multiples of the phase, followed by classical post processing on the resulting data. More specifically, instead of estimating \n",
    "\n",
    "#### Characteristics\n",
    "\n",
    "Type: Iterative \\\n",
    "Qubit overhead: $1$ ancilla \\\n",
    "Runtime: ??? \\\n",
    "Eigenvector superpositions?: No\n",
    "\n",
    "#### Circuit diagram\n",
    "\n",
    "#### Pseudocode"
   ]
  },
  {
   "cell_type": "markdown",
   "id": "65df8882-a6f8-4149-8a60-7455e382b7fa",
   "metadata": {},
   "source": [
    "### Qiskit Implementation"
   ]
  },
  {
   "cell_type": "code",
   "execution_count": null,
   "id": "6d647893-e1df-40de-b6cc-48d20088b956",
   "metadata": {},
   "outputs": [],
   "source": [
    "import numpy as np\n"
   ]
  },
  {
   "cell_type": "markdown",
   "id": "c7cc8fa5-4a2e-4c0b-b732-928545b52ac7",
   "metadata": {},
   "source": [
    "## Applications\n",
    "- Order finding, thereby integer factorization (Shor's algorithm)\n",
    "- Solving linear systems of equations (HHL algorithm)\n",
    "- Quantum simulation"
   ]
  },
  {
   "cell_type": "markdown",
   "id": "32fd15d4-f616-4467-a020-2e4d03a4979a",
   "metadata": {},
   "source": [
    "### See also\n",
    "\n",
    "- "
   ]
  },
  {
   "cell_type": "code",
   "execution_count": 3,
   "id": "0a757131-9998-47e6-980f-5169b162aaf0",
   "metadata": {},
   "outputs": [
    {
     "data": {
      "text/plain": [
       "'0.11.0'"
      ]
     },
     "execution_count": 3,
     "metadata": {},
     "output_type": "execute_result"
    }
   ],
   "source": [
    "import qiskit_aer\n",
    "qiskit_aer.version.get_version_info()"
   ]
  },
  {
   "cell_type": "code",
   "execution_count": null,
   "id": "7802c52a-1fd8-4167-b53b-ed3fe5091e2a",
   "metadata": {},
   "outputs": [],
   "source": []
  }
 ],
 "metadata": {
  "kernelspec": {
   "display_name": "Python 3 (ipykernel)",
   "language": "python",
   "name": "python3"
  },
  "language_info": {
   "codemirror_mode": {
    "name": "ipython",
    "version": 3
   },
   "file_extension": ".py",
   "mimetype": "text/x-python",
   "name": "python",
   "nbconvert_exporter": "python",
   "pygments_lexer": "ipython3",
   "version": "3.10.7"
  }
 },
 "nbformat": 4,
 "nbformat_minor": 5
}
