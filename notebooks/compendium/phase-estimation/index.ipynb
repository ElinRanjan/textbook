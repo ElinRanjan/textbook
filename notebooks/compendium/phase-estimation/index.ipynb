{
 "cells": [
  {
   "cell_type": "markdown",
   "id": "be1cae81-2aac-4a11-ba29-57518101ecd3",
   "metadata": {},
   "source": [
    "# Phase Estimation"
   ]
  },
  {
   "cell_type": "markdown",
   "id": "2bf8e352-7610-4424-9f64-160712bbbaea",
   "metadata": {},
   "source": [
    "## Overview\n",
    "\n",
    "- Type: Estimation task, subroutine\n",
    "- Time complexity: $O(1/\\epsilon)$ (Heisenberg limited), or $O(1/\\epsilon^2)$ (shot-noise limited) in the general setting. \n",
    "- Qubit complexity: $O(1)$ (iterative) or $O(\\log 1/\\epsilon)$ (non-iterative)\n",
    "- Approachability: Medium\n",
    "- Related topics: Phase kickback, Shor's algorithm, Optical interferometry, Quantum Fourier Transform\n",
    "- Applications: Factoring, eigenvalue estimation, solving linear systems, amplitude estimation, physics and chemistry, discrete logarithm. \n",
    "\n",
    "In quantum computing, *phase estimation* refers to the task of estimating of the eigenvalue of a unitary operator, given an eigenvector. Computational routines which accomplish this task are known as *phase estimation procedures*, or *algorithms*. In practice, the term *phase estimation* refers interchangeably to either the problem or the procedure. "
   ]
  },
  {
   "cell_type": "markdown",
   "id": "1f23f621-5da5-4299-99da-ce9887a23a49",
   "metadata": {},
   "source": [
    "## Problem statement\n",
    "\n",
    "For a unitary operation $U$, and associated eigenvector $\\vert u \\rangle$, there is a $\\theta \\in [0,1)$ such that\n",
    "\n",
    "$$\n",
    "U \\vert u \\rangle = e^{2\\pi i \\theta} \\vert u \\rangle.\n",
    "$$\n",
    "\n",
    "Given oracular access to a unitary $U$, controlled versions thereof, and an eigenvector $\\vert u \\rangle$ prepared on a quantum register to fidelity $F$, determine $\\theta$ to precision $\\epsilon$. We refer to $\\theta$ as the *phase*. \n",
    "\n",
    "### Extensions and relaxations\n",
    "\n",
    "When the initial state is not an eigenstate $\\vert u\\rangle$ but rather a superposition $\\sum_i c_i \\vert u_i\\rangle$ thereof, many phase estimation algorithms will still work, in the sense that they will return (with high probability) an estimate of the phase $\\theta_i$ of $\\vert u_i\\rangle$ with probability $\\vert c_i\\vert^2$. We will call such algorithms \"coherent\". Those which only work on an approximate eigenstate will be termed \"incoherent.\" Incoherent phase estimation algorithms, though less powerful, typically have the advantage of lower circuit depths. "
   ]
  },
  {
   "cell_type": "markdown",
   "id": "b8dee034-4546-415b-8217-d5fcaff0598e",
   "metadata": {},
   "source": [
    "## Phase estimation algorithms\n",
    "\n",
    "We briefly discuss classical algorithms for phase estimation, then list several major quantum phase estimation algorithms which will be the focus of the rest of this article. Note that the term \"algorithm\" here is slightly misplaced, since the phase estimation problem contains black boxes that are not fully specified. (Nielsen and Chuang)"
   ]
  },
  {
   "cell_type": "markdown",
   "id": "5f54ed11-7f58-4ab1-92cd-c506e9198117",
   "metadata": {},
   "source": [
    "### Classical algorithms\n",
    "\n",
    "Assuming oracular access to the entries of $U$ and $\\vert u\\rangle$, standard matrix multiplication $U \\vert u\\rangle$ may be used to compute the eigenvalue. In fact, only the first entry of the output needs to be computed. However, for an input vector of size $2^n$, we still require an exponential number of oracle calls and arithmetic operations. Thus, in the generic case, this procedure will take exponential time. Moreover, the entries will need to be known exponentially precisely in order to obtain an estimate of $\\theta$ to fixed precision."
   ]
  },
  {
   "cell_type": "markdown",
   "id": "a65ee02e-392b-4843-80e7-4faa4e9f4609",
   "metadata": {},
   "source": [
    "### Quantum algorithms\n",
    "\n",
    "There are many Quantum Phase Estimation Algorithms (QPEAs), all of which share similar features (recall that a quantum algorithm is an algorithm using quantum resources in *at least one part* of the computation).  In this article we will focus on the following incomplete list.  \n",
    "\n",
    "- Standard Quantum Phase Estimation \n",
    "- QPE via Hadamard Test, a.k.a. Hadamard Phase Estimation\n",
    "- Kitaev Phase Estimation\n",
    "- Fast Phase Estimation (Svore, Hastings, Freedman)\n",
    "- Bayesian Phase Estimation\n",
    "\n",
    "All but the simplest PEAs achieve a $O(1/\\epsilon)$ scaling in precision $\\epsilon$, which is provably optimal in the general setting. For special cases in which powers of $U$ are efficiently computable (e.g., through repeated squaring of a reversible classical operation), this scaling can be improved further. Shor's period finding algorithm is an important case.\n",
    "\n",
    "Crucially, $U$ is represented by $n$ qubits rather than an exponentially large number of bits. While not all $n$ qubit unitaries can be simulated efficiently important subclasses of unitaries can be written as an efficient quantum circuit of gates acting on, at most, a fixed number of qubits."
   ]
  },
  {
   "cell_type": "markdown",
   "id": "eb059458-3808-452c-95de-9ca326f54af4",
   "metadata": {
    "tags": []
   },
   "source": [
    "## High level description and remarks\n",
    "\n",
    "Quantum phase estimation algorithms (QPEAs) employ phase kickback and quantum interference to measure the desired phase $\\theta$ on an auxiliary quantum register. QPEAs can be broadly categorized as non-iterative or iterative. Standard phase estimation is the best known of the non-iterative algorithms and requires minimal to no classical processing. Iterative QPEAs typically use fewer auxiliary qubits, multiple rounds of measurement, and nontrivial classical computation. Iterative QPEAs can be further subdivided into adaptive and nonadaptive schemes, depending on whether or not classical processing is done concurrently with the measurements, and whether subsequent iterations are affected by prior outcomes. \n",
    "\n",
    "All but the simplest PEAs achieve a $O(1/\\epsilon)$ scaling in accuracy, which is provably optimal in the general setting. For special cases in which powers of $U$ are efficiently computable (e.g., through repeated squaring of a reversible classical operation), the scaling with accuracy can be improved further. Shor's period finding algorithm is a notable case.\n",
    "\n",
    "Phase estimation can be viewed as a projective measurement along the eigenspaces of $U$. As such, it will yield result $\\theta_i$ with probability given by the Born rule. The output state on the main register will be a projection onto the corresponding eigenspace.\n",
    "\n",
    "The algorithms give no indication on how to prepare a initial state having high fidelity with the eigenspace(s) of interest. The difficulty of doing so is problem dependent. For example, state preparation is trivial in Shor's algorithm, while approximating eigenstates of a many-body system in physics may require problem-specific, physics-motivated approaches. "
   ]
  },
  {
   "cell_type": "markdown",
   "id": "66afb8f6-b73b-4bcf-87d4-c04cd6e7dc9b",
   "metadata": {},
   "source": [
    "**Place Venn diagram here showing the various categories (adaptive, nonadaptive, iterative, one shot, hybrid)**"
   ]
  },
  {
   "cell_type": "markdown",
   "id": "64517b0b-5736-4f95-bfc0-ab7c0039c8ae",
   "metadata": {
    "tags": []
   },
   "source": [
    "## Standard Quantum Phase Estimation Algorithm (Nielsen and Chuang)"
   ]
  },
  {
   "cell_type": "markdown",
   "id": "9a77dd66-6054-4e24-a6b1-e08d018a84b9",
   "metadata": {},
   "source": [
    "### References \n",
    "- Nielsen and Chuang\n",
    "- Many other standard references\n",
    "\n",
    "### Characteristics\n",
    "\n",
    "Iterative: No \\\n",
    "Adaptive: N/A \\\n",
    "Coherent: Yes \\\n",
    "Qubit overhead: $O(\\log(1/\\epsilon) + \\log(1/\\delta))$. \\\n",
    "Runtime: $O(1/\\epsilon)$ calls to the controlled-$U$. \\\n",
    "Maximum depth: $O(1/\\epsilon)$ \\\n",
    "\n",
    "### Overview\n",
    "\n",
    "As the name suggests, the most well known algorithm for phase estimation, often simply abbreviated to \"phase estimation.\" In contrast to iterative methods, this approach requires (with high probability of success) only one execution of the circuit below, but a number of auxiliary qubits proportional to the desired bits of precision. An $n$ bit approximation of the phase is produced on an auxiliary register.\n",
    "\n",
    "### Circuit diagram\n",
    "\n",
    "**Surely we can pull from an existing source**\n",
    "\n",
    "### Pseudocode (Nielsen and Chuang pg. 235)\n",
    "\n",
    "Should we have along with Qiskit code?"
   ]
  },
  {
   "cell_type": "markdown",
   "id": "e8fc62ff-fa90-4886-9a4f-4d1e39b4e9f2",
   "metadata": {
    "tags": []
   },
   "source": [
    "### Qiskit Implementation"
   ]
  },
  {
   "cell_type": "code",
   "execution_count": null,
   "id": "b8cb56bd-a3d5-4582-bf43-c0dd94a285e7",
   "metadata": {},
   "outputs": [],
   "source": [
    "import numpy as np\n",
    "\n",
    "from qiskit import QuantumRegister, ClassicalRegister, QuantumCircuit\n",
    "from qiskit.circuit.library import QFT\n",
    "\n",
    "\n",
    "def create_qpe_circuit(theta, num_qubits):\n",
    "    \"\"\"Creates a QPE circuit given theta and num_qubits.\"\"\"\n",
    "\n",
    "    # Step 1: Create a circuit with two quantum registers and one classical register.\n",
    "    first = QuantumRegister(\n",
    "        size=num_qubits, name=\"first\"\n",
    "    )  # the first register for phase estimation\n",
    "    second = QuantumRegister(\n",
    "        size=1, name=\"second\"\n",
    "    )  # the second register for storing eigenvector |psi>\n",
    "    classical = ClassicalRegister(\n",
    "        size=num_qubits, name=\"readout\"\n",
    "    )  # classical register for readout\n",
    "    qpe_circuit = QuantumCircuit(first, second, classical)\n",
    "\n",
    "    # Step 2: Initialize the qubits.\n",
    "    # All qubits are initialized in |0> by default, no extra code is needed to initialize the first register.\n",
    "    qpe_circuit.x(\n",
    "        second\n",
    "    )  # Initialize the second register with state |psi>, which is |1> in this example.\n",
    "\n",
    "    # Step 3: Create superposition in the first register.\n",
    "    qpe_circuit.barrier()  # Add barriers to separate each step of the algorithm for better visualization.\n",
    "    qpe_circuit.h(first)\n",
    "\n",
    "    # Step 4: Apply a controlled-U^(2^j) black box.\n",
    "    qpe_circuit.barrier()\n",
    "    for j in range(num_qubits):\n",
    "        qpe_circuit.cp(\n",
    "            theta * 2 * np.pi * (2**j), j, num_qubits\n",
    "        )  # Theta doesn't contain the 2 pi factor.\n",
    "\n",
    "    # Step 5: Apply an inverse QFT to the first register.\n",
    "    qpe_circuit.barrier()\n",
    "    qpe_circuit.compose(QFT(num_qubits, inverse=True), inplace=True)\n",
    "\n",
    "    # Step 6: Measure the first register.\n",
    "    qpe_circuit.barrier()\n",
    "    qpe_circuit.measure(first, classical)\n",
    "\n",
    "    return qpe_circuit"
   ]
  },
  {
   "cell_type": "markdown",
   "id": "938d5a15-e65c-4511-8092-9f2381dfb3ef",
   "metadata": {
    "tags": []
   },
   "source": [
    "## Phase Estimation with the Hadamard test"
   ]
  },
  {
   "cell_type": "markdown",
   "id": "afb7bb09-630b-479d-a4f3-ccd7ccd386d7",
   "metadata": {},
   "source": [
    "#### Overview \n",
    "\n",
    "The Hadamard test serves as a phase estimation algorithm. See the Hadamard Test article for further information.\n",
    "\n",
    "#### Characteristics\n",
    "\n",
    "Iterative: Yes \\\n",
    "Adaptive: No \\\n",
    "Coherent: Optional \\\n",
    "Qubit overhead: $1$ additional qubit \\\n",
    "Runtime: $O(1/\\epsilon^2)$ iterations. \\\n",
    "Maximum depth: $O(1)$ for incoherent, full runtime for coherent \\\n",
    "\n",
    "#### Remarks\n",
    "\n",
    "Possibly the simplest QPEA, but with quadratically worse scaling than other approaches in the accuracy. Low overhead qubit costs make this approach more attractive than standard QPE for noisy hardware. Two versions of this exist: a \"coherent\" version, in which repeated measurements "
   ]
  },
  {
   "cell_type": "markdown",
   "id": "46e218a3-2204-4636-b582-4895902e68ae",
   "metadata": {
    "tags": []
   },
   "source": [
    "### Qiskit Implementation"
   ]
  },
  {
   "cell_type": "markdown",
   "id": "c22c7ef2-7797-4678-87bf-3984b710b54f",
   "metadata": {},
   "source": [
    "#### Relevant imports"
   ]
  },
  {
   "cell_type": "code",
   "execution_count": 4,
   "id": "3786eb81-a570-4236-a130-15cf02160e6c",
   "metadata": {},
   "outputs": [],
   "source": [
    "import numpy as np\n",
    "from qiskit import ClassicalRegister, QuantumRegister, QuantumCircuit\n",
    "from qiskit_aer.primitives import Sampler\n",
    "from qiskit.circuit.library.standard_gates import SwapGate"
   ]
  },
  {
   "cell_type": "markdown",
   "id": "75a89ba5-b2fc-4256-a9df-dc657b4768a1",
   "metadata": {},
   "source": [
    "#### Basic Hadamard circuit\n",
    "\n",
    "The code below is borrowed from the Hadamard test compendium article. See that page for further details."
   ]
  },
  {
   "cell_type": "code",
   "execution_count": 9,
   "id": "9b3c94d7-3eec-4921-a4a9-ca7549689067",
   "metadata": {},
   "outputs": [],
   "source": [
    "def hadamard_circuit(U, add_s_gate=False, measure=True):\n",
    "    \"\"\"\n",
    "    Args:\n",
    "        U (Gate): Unitary gate to measure expectation value of\n",
    "        add_s_gate (bool): Whether to measure real (False) or imaginary\n",
    "            (True) parts of the expectation value\n",
    "        measure (bool): Whether to measure the auxiliary qubit\n",
    "    Returns:\n",
    "        QuantumCircuit that implements the Hadamard test\n",
    "    \"\"\"\n",
    "    # Initialize registers and circuit\n",
    "    aux = QuantumRegister(1, 'aux')\n",
    "    main = QuantumRegister(U.num_qubits, 'q')\n",
    "    circuit = QuantumCircuit(aux, main)\n",
    "    \n",
    "    # Construct controlled-U gate\n",
    "    cU = U.control(1)\n",
    "    \n",
    "    # Add gates to circuit\n",
    "    circuit.h(aux)\n",
    "    circuit.append(cU, aux[:] + main[:])\n",
    "    if add_s_gate:\n",
    "        circuit.s(aux)\n",
    "    circuit.h(aux)\n",
    "    \n",
    "    # Add measurement if option specified\n",
    "    if measure:\n",
    "        creg = ClassicalRegister(1, 'c')\n",
    "        circuit.add_register(creg)\n",
    "        circuit.measure(aux, creg)\n",
    "    \n",
    "    return circuit"
   ]
  },
  {
   "cell_type": "code",
   "execution_count": 3,
   "id": "8d833df4-6167-4b03-b39e-88c26ad6c81d",
   "metadata": {
    "tags": []
   },
   "outputs": [
    {
     "data": {
      "image/png": "[encoded data removed]",
      "text/plain": [
       "<Figure size 554.753x284.278 with 1 Axes>"
      ]
     },
     "execution_count": 3,
     "metadata": {},
     "output_type": "execute_result"
    }
   ],
   "source": [
    "from qiskit.circuit.library.standard_gates import ZGate\n",
    "hadamard_circuit(ZGate(), add_s_gate =True, measure = True).draw(output='mpl')"
   ]
  },
  {
   "cell_type": "markdown",
   "id": "34982037-d83d-433a-aea7-fcb8b192e248",
   "metadata": {},
   "source": [
    "#### Coherent vs incoherent phase estimation\n",
    "\n",
    "Hadamard phase estimation involves repeated Hadamard circuit measurements. There are two approaches we can take:\n",
    "\n",
    "- Perform a Hadamard test on many copies of identical input states. We label this \"incoherent\" phase estimation. This approach only works when the state is approximately an eigenstate, but uses shallower circuits. \n",
    "- After each Hadamard test measurement, leave the state of the main register as is. This corresponds to \"coherent\" phase estimation. This approach allows for phase estimation with generic input states, with probability of a phase being measured given by the Born rule. However, this approach has larger circuit depths.\n",
    "\n",
    "The following function creates the required circuit for coherent phase estimation."
   ]
  },
  {
   "cell_type": "code",
   "execution_count": 10,
   "id": "605b6326-aed8-4002-b11b-67638ac20100",
   "metadata": {},
   "outputs": [],
   "source": [
    "# State of main register is not reset after each measurement. Allows for phase estimation over superpositions.\n",
    "def coherent_Hadamard_circuit(U, Ncycles):\n",
    "    \"\"\"\n",
    "    Args:\n",
    "        U (Gate): Unitary gate to measure\n",
    "        Ncycles: Number of measurements on ancilla qubit for phased and unphased Hadamard test. \n",
    "        coherent (bool): Whether to keep state of principal register (True) \n",
    "            or reset to original state(False) after each measurement.\n",
    "    Returns:\n",
    "        QuantumCircuit that implements a coherent version of the Hadamard test, whereby this we mean the state of the principal register is not reset following measurements.\n",
    "    \"\"\"\n",
    "    hadamard_circ = hadamard_circuit(U, add_s_gate = False, measure = True)\n",
    "    \n",
    "    \n",
    "    # Initialize circuit with first iteration as initial fencepost\n",
    "    circuit = hadamard_circuit(U, add_s_gate = False, measure = False)\n",
    "    creg = ClassicalRegister(2*Ncycles, 'c')\n",
    "    circuit.add_register(creg)\n",
    "    circuit.measure(0, creg[0])\n",
    "    circuit.reset(0)\n",
    "    \n",
    "    # Perform nonphased measurements\n",
    "    for k in range(1, Ncycles):\n",
    "        circuit = circuit.compose(hadamard_circ, qubits = None, clbits = k)\n",
    "        circuit.reset(0)\n",
    "        \n",
    "    hadamard_circ = hadamard_circuit(U, add_s_gate = True, measure = True)\n",
    "    \n",
    "    # Perform phased measurements\n",
    "    for k in range(0, Ncycles):\n",
    "        circuit = circuit.compose(hadamard_circ, qubits = None, clbits = k + Ncycles)\n",
    "        circuit.reset(0)\n",
    "    \n",
    "    return circuit"
   ]
  },
  {
   "cell_type": "markdown",
   "id": "825a7d4a-f83c-4bdc-9479-46a94411f8c9",
   "metadata": {},
   "source": [
    "We demonstrate this construction for $U = \\text{SWAP}$."
   ]
  },
  {
   "cell_type": "code",
   "execution_count": 12,
   "id": "3803ebd0-3871-4dbf-9243-d864230c86d4",
   "metadata": {
    "tags": []
   },
   "outputs": [
    {
     "data": {
      "image/png": "[encoded data removed]",
      "text/plain": [
       "<Figure size 1976.14x367.889 with 1 Axes>"
      ]
     },
     "execution_count": 12,
     "metadata": {},
     "output_type": "execute_result"
    }
   ],
   "source": [
    "circuit = coherent_Hadamard_circuit(SwapGate(), 2)\n",
    "circuit.draw(output = 'mpl')"
   ]
  },
  {
   "cell_type": "markdown",
   "id": "377cef8a-36db-43a7-9490-8ab7bf6b2bfe",
   "metadata": {},
   "source": [
    "Using `Ncycles = 2` is typically too short to get a good estimate, but we wanted to make the circuit easy to visualize. \n",
    "\n",
    "#### Hadamard phase estimation.\n",
    "\n",
    "Below is a function to perform Hadamard phase estimation, either coherent or incoherent. "
   ]
  },
  {
   "cell_type": "code",
   "execution_count": 11,
   "id": "0ed2dfb7-40c6-4d81-8c86-9beb4e0a79a5",
   "metadata": {},
   "outputs": [],
   "source": [
    "def Hadamard_phase_estimation(U, Uprep = None, precision = 2 * 10**-1, coherent = False, confidence_factor = 2):\n",
    "    \"\"\"\n",
    "    Args:\n",
    "        U (Gate): Unitary gate for generating phase\n",
    "        Uprep (Instruction): Prepares state on main register. Should have large overlap with desired eigenvalues.\n",
    "        precision (float): Desired precision of phase. \n",
    "            Achieving results well outside of precision has exponentially vanishing probability. \n",
    "        coherent (bool): Whether to keep state of principal register (True) \n",
    "            or reset to original state(False) after each measurement.\n",
    "    Returns:\n",
    "        An estimate for the phase with specified precision, to confidence ~70%.\n",
    "            Large deviations from precision are statistically unlikely.\n",
    "    \"\"\"\n",
    "    Ncycles = int(confidence_factor//(precision**2))\n",
    "    \n",
    "    # Do single shot, coherent phase estimation if coherent = True\n",
    "    if coherent:\n",
    "        phase_estimation_circuit = coherent_Hadamard_circuit(U, Ncycles)\n",
    "        # Perform state prep, if any\n",
    "        if Uprep != None: phase_estimation_circuit.compose(Uprep, qubits = range(1,U.num_qubits + 1), front = True, inplace = True)\n",
    "        # Run circuit\n",
    "        job = Sampler().run(phase_estimation_circuit, shots = 1)\n",
    "        result_dict = job.result().quasi_dists[0].binary_probabilities()\n",
    "        measurements = list(job.result().quasi_dists[0].binary_probabilities())[0]\n",
    "        \n",
    "        # Split results into phased and unphased measurements\n",
    "        phased_measurements = measurements[0:Ncycles]\n",
    "        unphased_measurements = measurements[Ncycles:2*Ncycles]\n",
    "\n",
    "        \n",
    "        # Compute Hamming weight to get counts\n",
    "        phased_counts = np.sum(list(map(int,phased_measurements)))\n",
    "        unphased_counts = np.sum(list(map(int,unphased_measurements)))\n",
    "        \n",
    "        # Extract Pr(0)\n",
    "        unphased_p0 = 1 - unphased_counts/Ncycles\n",
    "        phased_p0 = 1 - phased_counts/Ncycles\n",
    "    else:  \n",
    "        # Otherwise, do incoherent phase estimation\n",
    "        unphased_circuit = hadamard_circuit(U, add_s_gate = False, measure = True)\n",
    "        phased_circuit = hadamard_circuit(U, add_s_gate = True, measure = True)\n",
    "        # Do state prep, if any\n",
    "        if Uprep != None:\n",
    "            unphased_circuit = unphased_circuit.compose(Uprep, range(1,unphased_circuit.num_qubits),front = True)\n",
    "            phased_circuit = phased_circuit.compose(Uprep, range(1,unphased_circuit.num_qubits), front = True)\n",
    "\n",
    "        # Run circuits\n",
    "        unphased_results = Sampler().run(unphased_circuit, shots = Ncycles).result().quasi_dists[0]\n",
    "        phased_results = Sampler().run(phased_circuit, shots = Ncycles).result().quasi_dists[0]\n",
    "\n",
    "        # Extract Pr(0)\n",
    "        unphased_p0 = unphased_results.get(0, 0)\n",
    "        phased_p0 = phased_results.get(0, 0)\n",
    "\n",
    "    \n",
    "    # Get cosine and sine of phase\n",
    "    costheta = 2*unphased_p0 - 1\n",
    "    sintheta = 1- 2*phased_p0\n",
    "    \n",
    "    #Extract phase as final result\n",
    "    theta = np.arctan2(sintheta, costheta)\n",
    "    # Make branch correction to [0, 2 pi)\n",
    "    if theta < 0: theta += 2*np.pi\n",
    "    # Return number between 0,1\n",
    "    theta = theta/(2*np.pi)\n",
    "    return theta"
   ]
  },
  {
   "cell_type": "markdown",
   "id": "05910e06-ef71-4755-982a-bd57cd344ca2",
   "metadata": {},
   "source": [
    "As an example, we do a coherent Hadamard phase estimation using the SWAP gate. our initial state $\\vert01\\rangle$ is an equal superposition of a symmetric (+1) and antisymmetric (-1) eigenstate of SWAP. Therefore, we will measure phases of $0$ or $.5$, each with 50% probability."
   ]
  },
  {
   "cell_type": "code",
   "execution_count": 106,
   "id": "df39df50-c262-4470-9da5-a07ccec67420",
   "metadata": {
    "tags": []
   },
   "outputs": [],
   "source": [
    "# Prepare a superposition of symmetric.\n",
    "prep_circuit = QuantumCircuit(2)\n",
    "prep_circuit.x([0,1])\n",
    "prep_circuit.h(0)\n",
    "prep_circuit.cx(0,1)\n",
    "\n",
    "Uprep = prep_circuit.to_gate()"
   ]
  },
  {
   "cell_type": "markdown",
   "id": "db01f79b-3a4c-4efb-b72d-e567cb56459a",
   "metadata": {},
   "source": [
    "## Kitaev Phase Estimation Algorithm"
   ]
  },
  {
   "cell_type": "markdown",
   "id": "cf050332-a657-4229-9d0b-ee1e19fd1fa6",
   "metadata": {},
   "source": [
    "### References\n",
    "- Svore, Hastings, Freedman, \"[Faster Phase Estimation](https://arxiv.org/abs/1304.0741),\"\n",
    "- Kitaev, Shen, Vyalvi, \"[Classical and Quantum Computation](https://bookstore.ams.org/gsm-47#:~:text=This%20book%20is%20an%20introduction,of%20complexity%20of%20an%20algorithm.)\" page 125-130\n",
    "\n",
    "### Characteristics\n",
    "\n",
    "Iterative:Yes \\\n",
    "Adaptive: No \\\n",
    "Coherent: Optional \\\n",
    "Qubit overhead: $1$ auxiliary qubit \\\n",
    "Runtime: $O(1/\\epsilon)$ \\\n",
    "Maximum depth: $O(1/\\epsilon)$\n",
    "\n",
    "### Overview\n",
    "\n",
    "The Kitaev phase estimation algorithm (KPEA) is simply the Hadamard test repeated with certain multiples of the phase, followed by classical post processing on the resulting data. Thus, the \"quantum\" part of the algorithm is essentially unchanged. For this reason, sometimes the previously described \"Hadamard Phase Estimation\" is described as Kitaev Phase Estimation (as is done in Nielsen and Chuang, problem 5.3). Here we use \"Kitaev\" to refer to the procedure described here. \n",
    "\n",
    "Remarkably, KPEA achieves higher accuracies than Hadamard phase estimation while still using only a single auxiliary qubit. This low spatial overhead makes KPEA a noteworthy alternative to standard phase estimation, especially when the number of available qubits is small. Moreover, the classical post processing is simple and efficient to perform. \n",
    "\n",
    "The basic idea of the KPEA is as follows. We estimate $\\theta_j = 2^j \\theta$ for $j = 0,1, \\dots, m$, to precision $1/16$. The choice of $1/16$ is for technical reasons, but the point is that this accuracy is a constant, independent of our final desired precision in esti. Note that we can obtain $\\theta_j$ by running the Hadamard phase estimation procedure on unitary $U_j = U^{2_j}$.  \n",
    "\n",
    "### Circuit diagram\n",
    "**Basically the same as Hadamard, could show multiple in parallel and then a laptop gif receiving the information.**\n",
    "\n",
    "### Pseudocode"
   ]
  },
  {
   "cell_type": "markdown",
   "id": "65df8882-a6f8-4149-8a60-7455e382b7fa",
   "metadata": {},
   "source": [
    "### Qiskit Implementation"
   ]
  },
  {
   "cell_type": "markdown",
   "id": "66f36343-ff88-4731-a3ca-c062cb57cc2b",
   "metadata": {},
   "source": [
    "First define a function `distance_mod1` for later convenience. This essentially computes the distance between two points on a circle of circumference $1$. "
   ]
  },
  {
   "cell_type": "code",
   "execution_count": 107,
   "id": "6a76e6fd-fb2c-4060-b7a3-fcb87de0fdde",
   "metadata": {
    "tags": []
   },
   "outputs": [],
   "source": [
    "# inputs $x, y$ are assumed floats in range [0,1]\n",
    "def distance_mod1(x,y):\n",
    "    return np.min([np.abs(x-y), 1-np.abs(x-y)])"
   ]
  },
  {
   "cell_type": "markdown",
   "id": "5c2d71a3-09b2-4dd6-923a-bd8c8baed378",
   "metadata": {},
   "source": [
    "Next, we define the protocol. "
   ]
  },
  {
   "cell_type": "code",
   "execution_count": 131,
   "id": "6a4a1bae-c868-47e2-a50d-3197e110fc52",
   "metadata": {},
   "outputs": [],
   "source": [
    "def Kitaev_phase_estimation(U, Uprep = None, precision = 10**-2, coherent = False):\n",
    "    # Parameters of precision\n",
    "    nbits = int(np.ceil(np.log2(1/precision)))\n",
    "    nreps = nbits - 2\n",
    "    \n",
    "    # Perform Hadamard phase estimation on U**(2**j) to fixed precision\n",
    "    phases = np.zeros(nreps)\n",
    "    for j in range(nreps):\n",
    "        phases[j] = Hadamard_phase_estimation(U.repeat(2**j), Uprep, precision = 1/16, coherent = False)\n",
    "    \n",
    "    # Classical part to amplify precision\n",
    "    beta = [0]*nreps\n",
    "    for j in range(nreps):\n",
    "        # Round to nearest octant in [0,1)\n",
    "        beta[j] = (int(np.round(8*phases[j]))%8)/8\n",
    "    #Retrieve last 3 bits in binary form\n",
    "    last_bits = bin(int(beta[j]*8))[2:]\n",
    "    last_bits = beta[nreps - 1]= '0'*(3-len(last_bits)) + last_bits # pad with zeros to get bbb format \n",
    "    # Do alpha recursion for remaining bits\n",
    "    alpha = [0]*nbits\n",
    "    alpha[nreps + 1]= int(beta[nreps-1][2])\n",
    "    alpha[nreps] = int(beta[nreps-1][1])\n",
    "    alpha[nreps-1] = int(beta[nreps-1][0])\n",
    "    for j in range(nreps-2,-1,-1):\n",
    "        # fill in the values of alpha\n",
    "        alpha[j] = int(distance_mod1(beta[j], .5 + alpha[j+1]/4 + alpha[j+2]/8) <.25)\n",
    "    \n",
    "    print(alpha)\n",
    "    return np.sum(alpha * (2.0**(-np.arange(1, nbits+1))))"
   ]
  },
  {
   "cell_type": "code",
   "execution_count": 130,
   "id": "f40b5d62-f61d-4d12-b82c-d3f16a0a18ff",
   "metadata": {},
   "outputs": [
    {
     "name": "stdout",
     "output_type": "stream",
     "text": [
      "nreps: 5\n",
      "0.5043508088527306\n",
      "0.9944070125128028\n",
      "0.9919248495046797\n",
      "0.0\n",
      "0.9968919001928689\n",
      "0.5\n",
      "0.0\n",
      "0.0\n",
      "0.0\n",
      "0.0\n",
      "1\n",
      "0.5\n",
      "[1, 0, 0, 0, 0, 0, 0]\n",
      "0.5\n"
     ]
    }
   ],
   "source": [
    "print(Kitaev_phase_estimation(SwapGate(), Uprep = prep_circuit))"
   ]
  },
  {
   "cell_type": "markdown",
   "id": "b0eb3227-08c9-4e03-ad95-749368ced592",
   "metadata": {},
   "source": [
    "## Fast Phase Estimation"
   ]
  },
  {
   "cell_type": "markdown",
   "id": "1f515325-acee-44af-91ba-b8b0c9f34a97",
   "metadata": {},
   "source": [
    "## Adaptive Phase Estimation"
   ]
  },
  {
   "cell_type": "markdown",
   "id": "4ad98f24-4ca1-498e-a3b5-719390df6734",
   "metadata": {},
   "source": [
    "## Applications"
   ]
  },
  {
   "cell_type": "markdown",
   "id": "5473d213-53e2-4cbd-b4ae-355dd7d7069b",
   "metadata": {},
   "source": [
    "### Shor's order finding algorithm\n",
    "\n",
    "Phase estimation is used in Shor's algorithm for order finding (which, by number theoretic techiques, can be related to factoring). The unitary $U$ acts on the computational basis as \n",
    "\n",
    "$$\n",
    "U\\vert y\\rangle = \\vert xy\\; (\\mathrm{mod} N)\\rangle\n",
    "$$\n",
    "where $N > 0$ and $x < N$ are integers relevant to the problem. The input state is $\\vert1\\rangle$, which is a uniform superposition of the eigenstates of $U$. Thus, any coherent phase estimation procedure can determine one of the phases of $U$. These phases contain information about the order of $x$ with respect to $N$. "
   ]
  },
  {
   "cell_type": "markdown",
   "id": "f5112bd6-1198-42ce-9a4b-d1607617b121",
   "metadata": {},
   "source": [
    "### Eigenvalues of Hermitian operators\n",
    "\n",
    "For any Hermitian operation $H$, the collection of unitary matrices $U(t) = e^{i H t}$ is unitary for any $t \\in \\mathbb{R}$. Thus, performing phase estimation on $U(t)$ gives an eigenvalue of $H t$ modulo $2\\pi$. By choosing $t$ such that $\\vert E t\\vert < \\pi/2$ for the eigenvalue(s) $E$ of interest, the eigenvalue can be determined unambiguously. "
   ]
  },
  {
   "cell_type": "markdown",
   "id": "e9f9ac09-35d0-4d71-85ae-106138f90908",
   "metadata": {},
   "source": [
    "### Physics and chemistry\n",
    "\n",
    "A special case of the preceding application, which deserves special attention. In any quantum mechanical system, an important Hermitian operator is the Hamiltonian $H$, whose eigenvalues may be interpreted as the allowed energies of the system. Moreover, the unitary $U(t) = e^{-i H t}$ is the operator which evolves the system in time. By performing phase estimation with $U(t)$ for suitable choices of $t$, and for a given initial state, the system energies may be estimated. "
   ]
  },
  {
   "cell_type": "markdown",
   "id": "e2fb054e-ac03-4eda-baf2-a1d628049aed",
   "metadata": {},
   "source": [
    "### Solving Linear Systems\n",
    "\n",
    "In the Harrow Hassidim Lloyd (HHL) algorithm for solving the linear systems $A x = b$ uses phase estimation as a subroutine. In particular, the relevant Hermitian operator is (in block diagonal form)\n",
    "\n",
    "$$\n",
    "C = \\begin{pmatrix} \n",
    "0 & A \\\\\n",
    "A^\\dagger & 0\n",
    "\\end{pmatrix}.\n",
    "$$"
   ]
  },
  {
   "cell_type": "markdown",
   "id": "3db81bda-21a5-4874-8218-aea6bbbbdfc5",
   "metadata": {},
   "source": [
    "## Final remarks"
   ]
  },
  {
   "cell_type": "markdown",
   "id": "561e13ac-4d7d-4c0a-90f2-1d5fa9c54f7e",
   "metadata": {},
   "source": []
  },
  {
   "cell_type": "markdown",
   "id": "32fd15d4-f616-4467-a020-2e4d03a4979a",
   "metadata": {},
   "source": [
    "## See also\n",
    "\n",
    "- "
   ]
  }
 ],
 "metadata": {
  "kernelspec": {
   "display_name": "Python 3 (ipykernel)",
   "language": "python",
   "name": "python3"
  },
  "language_info": {
   "codemirror_mode": {
    "name": "ipython",
    "version": 3
   },
   "file_extension": ".py",
   "mimetype": "text/x-python",
   "name": "python",
   "nbconvert_exporter": "python",
   "pygments_lexer": "ipython3",
   "version": "3.10.7"
  }
 },
 "nbformat": 4,
 "nbformat_minor": 5
}
