{
 "cells": [
  {
   "cell_type": "markdown",
   "id": "5b1edb2e-fd89-4079-812c-79fa80d82924",
   "metadata": {
    "tags": []
   },
   "source": [
    "# Hadamard Phase Estimation"
   ]
  },
  {
   "cell_type": "markdown",
   "id": "acd3227f-d705-4add-9e0a-02f1eabeeebb",
   "metadata": {
    "tags": []
   },
   "source": [
    "## Overview\n",
    "\n",
    "- Type: Quantum subroutine for phase estimation.\n",
    "- Estimated difficulty: Intermediate\n",
    "- Preliminaries: Hadamard Test **(strongly recommended)**.\n",
    "- Number of qubits: Size of $U$ and one auxiliary qubit.\n",
    "- Number of operations: $O(1/\\text{precision}^2)$ calls to the controlled-$U$.\n",
    "- Maximum depth: $O(1/\\text{precision}^2)$ for normal version, $O(1)$ using Hadamard test (see below).\n",
    "\n",
    "Given a unitary $U$ with eigenvalue $e^{2\\pi i \\theta}$, the task of phase estimation is to determine the phase $\\theta$ to precision $\\epsilon$ with probability $1-\\delta$. The simplest quantum algorithm for this tasks is *Hadamard phase estimation*. In this scheme, a Hadamard test circuit is used to encode the phase $\\theta$ as an amplitude on an auxiliary qubit, which in turn relates to the probability $p$ of measuring $0$. By repeated measurements, this probability can be estimated, and the corresponding phase $\\theta$ can be computed classically.\n",
    "\n",
    "Hadamard phase estimation is not exactly the Hadamard test, but the two are closely related and can be considered identical in the case when the input state is an eigenstate. See \"Relation to the Hadamard Test\" for more details.\n",
    "\n",
    "Hadamard Phase Estimation is iterative, meaning the same type of operation is repeated multiple times, and nonadaptive, meaning prior measurements do not affect subsequent choice of operations. Though simpler than other approaches, Hadamard phase estimation is also less accurate, scaling quadratically worse in $1/\\epsilon$ than other common approaches. Kitaev phase estimation extends this protocol to remedy this deficiency with clever classical post processing. See the article on Kitaev phase estimation for further details."
   ]
  },
  {
   "cell_type": "markdown",
   "id": "2d3d1704-e204-42e5-b44c-7d8594d71029",
   "metadata": {
    "tags": []
   },
   "source": [
    "## Description\n",
    "\n",
    "**Put Hadamard test circuit here, but show measurement. Then emphasize that the main (bottom) register is inputted into the next iteration**\n",
    "\n",
    "If you are familiar with the Hadamard test, you may like to skip to \"Relation to Hadamard test,\" then return here as needed.\n",
    "\n",
    "The basic circuit iteration is shown above. After each iteration, the auxiliary qubit is reset to $\\vert0\\rangle$ and the main register is maintained to the next iteration. Half of the iterations have the $S$ gate.\n",
    "\n",
    "The iterations with no $S$ gate provide information about the real part of $e^{2\\pi i \\theta}$, while including $S$ provides information about the imaginary part. Together, these can be used to determine $\\theta$ unambiguously.\n",
    "\n",
    "### Eigenstate inputs\n",
    "\n",
    "The principle of the method is best understood by considering eigenstate inputs. Let the input $\\vert u\\rangle$ be an eigenstate of $U$ with phase $\\theta \\in [0,1)$. As discussed in the Hadamard test article, the measurement probabilities without the $S$ gate are given by\n",
    "\n",
    "$$\n",
    "\\Pr(0\\mid \\text{no}\\;S) = \\frac{1 + \\cos 2\\pi\\theta}{2} \\qquad \\Pr(1\\mid \\text{no}\\;S) = \\frac{1 - \\cos 2\\pi\\theta}{2}\n",
    "$$\n",
    "\n",
    "while, with the $S$ gate inserted, the probabilities are given by\n",
    "\n",
    "$$\n",
    "\\Pr(0\\mid S) = \\frac{1 - \\sin 2\\pi\\theta}{2} \\qquad \\Pr(1\\mid S) = \\frac{1 + \\sin 2\\pi\\theta}{2}.\n",
    "$$\n",
    "\n",
    "By repeated measurement, we can estimate these probabilities, then derive estimates for $(\\cos 2\\pi \\theta, \\sin 2\\pi\\theta)$. This is a point on the unit circle which uniquely defines $\\theta$. Both the $S$ and non-$S$ iterations are needed, because $\\cos(2\\pi\\theta)$ and $\\sin(2\\pi\\theta)$ are both needed to determine $\\theta$ uniquely. \n",
    "\n",
    "\n",
    "### General inputs\n",
    "\n",
    "What about the general case, where the input state $\\vert\\psi\\rangle$ is a superposition\n",
    "\n",
    "$$\n",
    "\\vert\\psi\\rangle = \\sum_i c_i \\vert u_i\\rangle\n",
    "$$\n",
    "\n",
    "of eigenstates with phases $\\theta_i$? As with other phase estimation algorithms, we should expect that, roughly speaking, one of the phases $\\theta_i$ should be obtained with probability $\\vert c_i\\vert^2$, in line with the Born rule. This is mostly correct. It is slightly more accurate, but still incomplete, to say that any phases within $\\pm\\epsilon$ of the estimate will contribute to the total probability, since these are not distinguishable by the estimate. There is also some small failure probability. See \"Analysis\" for further details, though be advised there will be no proofs or qualifications of the claims made above. "
   ]
  },
  {
   "cell_type": "markdown",
   "id": "73d62cd1-d939-45f0-8c41-b76347b1cb59",
   "metadata": {},
   "source": [
    "### Pseudocode\n",
    "\n",
    "Inputs: \n",
    "1. A black box controlled-$U$\n",
    "1. Input state $\\vert\\psi\\rangle$ to main register\n",
    "1. Precision $\\epsilon$.\n",
    "\n",
    "Procedure:\n",
    "1. Set $m = O(1/\\epsilon^2)$\n",
    "1. Perform Hadamard phase estimation circuit of $2m$ iterations to obtain bitstrings $b_R, b_I \\in \\{0,1\\}^m$. Here $b_R$ is the bitstring of measurements without the $S$ gate.\n",
    "1. Find the zero counts $n_R$, $n_I$ for each bitstring, then obtain probability estimates $p_R = n_R/m$.\n",
    "1. Compute estimates $c$ and $s$ for $\\cos2\\pi\\theta$ and $\\sin2\\pi\\theta$ as\n",
    "$$\n",
    "c = 2 p_R - 1,\\qquad s = 1 - 2 p_I.\n",
    "$$\n",
    "1. Use these to obtain an estimate $\\tilde{\\theta}$ of $\\theta$ to accuracy $O(\\epsilon)$. \n",
    "\n",
    "Outputs: \n",
    "1. An estimate $\\tilde{\\theta_i}$ of an eigenphase $\\theta_i$ of $U$, sampled approximately according to the Born rule, with all eigenstates with phases $\\tilde{\\theta_i} \\pm \\epsilon$ treated as indistinguishable. \n",
    "1. A approximate projection of the initial state onto eigenstates whose phase are within $\\tilde{\\theta_i}\\pm\\epsilon$."
   ]
  },
  {
   "cell_type": "markdown",
   "id": "37376c03-1453-40ea-93d4-9cee8ca19b4e",
   "metadata": {},
   "source": [
    "## Relation to the Hadamard test\n",
    "\n",
    "The Hadamard test and Hadamard phase estimation are nearly identical procedures, and easy to confuse. The only difference is whether the state of the main register is reset after each measurement of the auxiliary qubit. This distinction is irrelevant for eigenstate inputs, since such states are unaffected by the Hadamard test circuit. In this case, performing the reset can be beneficial by reducing maximum circuit depth. However, for input states that are superpositions of eigenstates (the general case), only Hadamard phase estimation will reliably estimate one of the phases in the superposition. This is because the Hadamard test estimates the expectation value $\\langle U\\rangle$ with respect to the input state, which on its own cannot provide information about the eigenphases."
   ]
  },
  {
   "cell_type": "markdown",
   "id": "a59b309c-90e0-4a1b-a89f-48324fa9d6d3",
   "metadata": {
    "tags": []
   },
   "source": [
    "## Qiskit Implementation"
   ]
  },
  {
   "cell_type": "markdown",
   "id": "c727b04a-d934-4888-bcf9-153fd4f10792",
   "metadata": {},
   "source": [
    "#### Relevant imports"
   ]
  },
  {
   "cell_type": "code",
   "execution_count": 4,
   "id": "f9251e27-d521-4da3-ae68-557e0aa85426",
   "metadata": {},
   "outputs": [],
   "source": [
    "import numpy as np\n",
    "from qiskit import ClassicalRegister, QuantumRegister, QuantumCircuit\n",
    "from qiskit_aer.primitives import Sampler\n",
    "from qiskit.circuit.library.standard_gates import SwapGate, TGate"
   ]
  },
  {
   "cell_type": "markdown",
   "id": "4e18e7a8-2342-4c07-86a8-8a3a3befaeff",
   "metadata": {},
   "source": [
    "#### Hadamard test circuit\n",
    "\n",
    "The code below is borrowed from the Hadamard test compendium article. See that page for further details. This circuit fragment will be repeated over and over in Hadamard phase estimation, as described above."
   ]
  },
  {
   "cell_type": "code",
   "execution_count": 5,
   "id": "fc9efc69-302d-44ed-8da1-91144069d9c1",
   "metadata": {},
   "outputs": [],
   "source": [
    "def hadamard_circuit(U, add_s_gate=False, measure=True):\n",
    "    \"\"\"\n",
    "    Args:\n",
    "        U (Gate): Unitary gate in phase estimation problem\n",
    "        add_s_gate (bool): Whether to at S gate to auxiliary register following controlled unitaries. \n",
    "            Equivalently, whether to perform C(U) (False) or C(i U) (True). \n",
    "        measure (bool): Whether to measure the auxiliary qubit (True) or not (False).\n",
    "    Returns:\n",
    "        QuantumCircuit that implements the Hadamard test\n",
    "    \"\"\"\n",
    "    # Initialize registers and circuit\n",
    "    aux = QuantumRegister(1, 'aux')\n",
    "    main = QuantumRegister(U.num_qubits, 'q')\n",
    "    circuit = QuantumCircuit(aux, main)\n",
    "    \n",
    "    # Construct controlled-U gate\n",
    "    cU = U.control(1)\n",
    "    \n",
    "    # Add gates to circuit\n",
    "    circuit.h(aux)\n",
    "    circuit.append(cU, aux[:] + main[:])\n",
    "    if add_s_gate:\n",
    "        circuit.s(aux)\n",
    "    circuit.h(aux)\n",
    "    \n",
    "    # Add measurement if option specified\n",
    "    if measure:\n",
    "        creg = ClassicalRegister(1, 'c')\n",
    "        circuit.add_register(creg)\n",
    "        circuit.measure(aux, creg)\n",
    "    \n",
    "    return circuit"
   ]
  },
  {
   "cell_type": "markdown",
   "id": "50e235f4-e2b0-4a58-8894-a1e9ffc08ab6",
   "metadata": {},
   "source": [
    "#### Example: $U = Z$"
   ]
  },
  {
   "cell_type": "code",
   "execution_count": 6,
   "id": "b2242c3a-573d-457c-b06f-fdd77cbd4df8",
   "metadata": {
    "tags": []
   },
   "outputs": [
    {
     "data": {
      "image/png": "[encoded data removed]",
      "text/plain": [
       "<Figure size 554.753x284.278 with 1 Axes>"
      ]
     },
     "execution_count": 6,
     "metadata": {},
     "output_type": "execute_result"
    }
   ],
   "source": [
    "from qiskit.circuit.library.standard_gates import ZGate\n",
    "hadamard_circuit(ZGate(), add_s_gate =True, measure = True).draw(output='mpl')"
   ]
  },
  {
   "cell_type": "markdown",
   "id": "bc6768ec-f0f9-4709-9a57-27746de18222",
   "metadata": {},
   "source": [
    "#### Contruct Hadamard phase estimation circuit\n",
    "\n",
    "\n",
    "The following function creates the required circuit for Hadamard phase estimation, as discussed above."
   ]
  },
  {
   "cell_type": "code",
   "execution_count": 9,
   "id": "d5038281-165c-44b8-8823-8e40675e4b50",
   "metadata": {},
   "outputs": [],
   "source": [
    "# State of main register is not reset after each measurement. Allows for phase estimation over superpositions.\n",
    "def coherent_Hadamard_circuit(U, Ncycles):\n",
    "    \"\"\"\n",
    "    Args:\n",
    "        U (Gate): Unitary gate for phase estimation protocol\n",
    "        Ncycles: Number of measurements on auxiliary qubit. Equivalently, number of iterations of Hadamard test circuits. \n",
    "    Returns:\n",
    "        QuantumCircuit that implements the normal version of Hadamard phase esitmation, where the state of the main register is not reset following measurements.\n",
    "    \"\"\"\n",
    "    hadamard_circ = hadamard_circuit(U, add_s_gate = False, measure = True)\n",
    "    \n",
    "    \n",
    "    # Initialize circuit with first iteration as initial fencepost\n",
    "    circuit = hadamard_circuit(U, add_s_gate = False, measure = False)\n",
    "    creg = ClassicalRegister(2*Ncycles, 'c')\n",
    "    circuit.add_register(creg)\n",
    "    circuit.measure(0, creg[0])\n",
    "    circuit.reset(0)\n",
    "    \n",
    "    # Perform nonphased measurements\n",
    "    for k in range(1, Ncycles):\n",
    "        circuit = circuit.compose(hadamard_circ, qubits = None, clbits = k)\n",
    "        circuit.reset(0)\n",
    "        \n",
    "    hadamard_circ = hadamard_circuit(U, add_s_gate = True, measure = True)\n",
    "    \n",
    "    # Perform phased measurements\n",
    "    for k in range(0, Ncycles):\n",
    "        circuit = circuit.compose(hadamard_circ, qubits = None, clbits = k + Ncycles)\n",
    "        circuit.reset(0)\n",
    "    \n",
    "    return circuit"
   ]
  },
  {
   "cell_type": "markdown",
   "id": "e82cbd6f-6cfd-40c7-8dc7-2aa368f230e6",
   "metadata": {},
   "source": [
    "We demonstrate this construction for $U = \\text{SWAP}$."
   ]
  },
  {
   "cell_type": "code",
   "execution_count": 10,
   "id": "60c28f36-b728-434d-bc13-991238cab9cb",
   "metadata": {
    "tags": []
   },
   "outputs": [
    {
     "data": {
      "image/png": "[encoded data removed]",
      "text/plain": [
       "<Figure size 1976.14x367.889 with 1 Axes>"
      ]
     },
     "execution_count": 10,
     "metadata": {},
     "output_type": "execute_result"
    }
   ],
   "source": [
    "circuit = coherent_Hadamard_circuit(SwapGate(), 2)\n",
    "circuit.draw(output = 'mpl')"
   ]
  },
  {
   "cell_type": "markdown",
   "id": "034ca9ac-28f4-41fe-8472-82c7eb908ada",
   "metadata": {},
   "source": [
    "Using `Ncycles = 2` is typically too short to get a good estimate, but we wanted to make the circuit easy to visualize. "
   ]
  },
  {
   "cell_type": "markdown",
   "id": "78970985-04df-46fa-b9b6-0a4724f4d29d",
   "metadata": {},
   "source": [
    "#### Hadamard phase estimation.\n",
    "\n",
    "Below is a function to perform Hadamard phase estimation, either *coherent* (normal) or *incoherent* (full state reset) Hadamard phase estimation. We emphasize that the circuit for *incoherent* Hadamard phase estimation is simply the Hadamard test."
   ]
  },
  {
   "cell_type": "code",
   "execution_count": 11,
   "id": "0c3608fb-f5f5-430f-8c42-4a6034d7e3a3",
   "metadata": {},
   "outputs": [],
   "source": [
    "def Hadamard_phase_estimation(U, Uprep = None, precision = 2 * 10**-1, coherent = False, confidence_factor = 2):\n",
    "    \"\"\"\n",
    "    Args:\n",
    "        U (Gate): Unitary gate in phase estimation problem\n",
    "        Uprep (Instruction): State preparation on main register starting from all |0> state (If None, no state prep added). \n",
    "        precision (float): Desired precision of phase estimate. \n",
    "        coherent (bool): Whether to keep state of principal register (True) \n",
    "            or reset to original state (False) after each measurement.\n",
    "        confidence_factor (float): A parameter which scales the number of iterations proportionally. Should be set on the order of 1.\n",
    "            Larger values increase confidence of answer being within set precision.\n",
    "    Returns:\n",
    "        An estimate for the phase of some eigenstate, sampled according to the initial state, with specified precision, and confidence related to confidence_factor.\n",
    "    \"\"\"\n",
    "\n",
    "    Ncycles = int(confidence_factor//(precision**2))\n",
    "    \n",
    "    # Do single shot, coherent phase estimation if coherent = True\n",
    "    if coherent:\n",
    "        phase_estimation_circuit = coherent_Hadamard_circuit(U, Ncycles)\n",
    "        # Perform state prep, if any\n",
    "        if Uprep != None: phase_estimation_circuit.compose(Uprep, qubits = range(1,U.num_qubits + 1), front = True, inplace = True)\n",
    "        # Run circuit\n",
    "        job = Sampler().run(phase_estimation_circuit, shots = 1)\n",
    "        result_dict = job.result().quasi_dists[0].binary_probabilities()\n",
    "        measurements = list(job.result().quasi_dists[0].binary_probabilities())[0]\n",
    "        \n",
    "        # Split results into phased and unphased measurements\n",
    "        phased_measurements = measurements[0:Ncycles]\n",
    "        unphased_measurements = measurements[Ncycles:2*Ncycles]\n",
    "\n",
    "        \n",
    "        # Compute Hamming weight to get counts\n",
    "        phased_counts = np.sum(list(map(int,phased_measurements)))\n",
    "        unphased_counts = np.sum(list(map(int,unphased_measurements)))\n",
    "        \n",
    "        # Extract Pr(0)\n",
    "        unphased_p0 = 1 - unphased_counts/Ncycles\n",
    "        phased_p0 = 1 - phased_counts/Ncycles\n",
    "    else:  \n",
    "        # Otherwise, do incoherent phase estimation\n",
    "        unphased_circuit = hadamard_circuit(U, add_s_gate = False, measure = True)\n",
    "        phased_circuit = hadamard_circuit(U, add_s_gate = True, measure = True)\n",
    "        # Do state prep, if any\n",
    "        if Uprep != None:\n",
    "            unphased_circuit = unphased_circuit.compose(Uprep, range(1,unphased_circuit.num_qubits),front = True)\n",
    "            phased_circuit = phased_circuit.compose(Uprep, range(1,unphased_circuit.num_qubits), front = True)\n",
    "\n",
    "        # Run circuits\n",
    "        unphased_results = Sampler().run(unphased_circuit, shots = Ncycles).result().quasi_dists[0]\n",
    "        phased_results = Sampler().run(phased_circuit, shots = Ncycles).result().quasi_dists[0]\n",
    "\n",
    "        # Extract Pr(0)\n",
    "        unphased_p0 = unphased_results.get(0, 0)\n",
    "        phased_p0 = phased_results.get(0, 0)\n",
    "\n",
    "    # Fully classical processing here on...\n",
    "    \n",
    "    # Get cosine and sine of phase\n",
    "    costheta = 2*unphased_p0 - 1\n",
    "    sintheta = 1- 2*phased_p0\n",
    "    #Extract phase as final result\n",
    "    theta = np.arctan2(sintheta, costheta)\n",
    "    # Make branch correction to [0, 2 pi)\n",
    "    if theta < 0: theta += 2*np.pi\n",
    "    # Return number between 0,1\n",
    "    theta = theta/(2*np.pi)\n",
    "    return theta"
   ]
  },
  {
   "cell_type": "markdown",
   "id": "3525fc44-a506-4a95-a196-88ddc2c73cff",
   "metadata": {},
   "source": [
    "As an example, we do a coherent Hadamard phase estimation using the SWAP gate. our initial state $\\vert01\\rangle$ is an equal superposition of a symmetric (+1) and antisymmetric (-1) eigenstate of SWAP. Therefore, we will measure phases of $0$ or $.5$, each with 50% probability."
   ]
  },
  {
   "cell_type": "code",
   "execution_count": 24,
   "id": "f493e659-b380-4716-a0b1-cdf28c8bff29",
   "metadata": {
    "tags": []
   },
   "outputs": [
    {
     "data": {
      "text/plain": [
       "0.016733314117554483"
      ]
     },
     "execution_count": 24,
     "metadata": {},
     "output_type": "execute_result"
    }
   ],
   "source": [
    "# Prepare a superposition of symmetric.\n",
    "prep_circuit = QuantumCircuit(2)\n",
    "prep_circuit.x(0)\n",
    "\n",
    "phase = Hadamard_phase_estimation(SwapGate(), Uprep = prep_circuit, precision = 10 **-1, coherent = True, confidence_factor = 2)\n",
    "phase"
   ]
  },
  {
   "cell_type": "markdown",
   "id": "23ad15d4-4b31-4e51-8340-b75ccd4766fc",
   "metadata": {
    "tags": []
   },
   "source": [
    "## Analysis \n",
    "\n",
    "### Measurements are identically distributed\n",
    "\n",
    "It may seem strange that we treat each measurement as equivalent in the protocol, without respect to ordering, given that the state of the main register can change following each iteration. Surprisingly, each of the measurements is an *identical* binary random variable. In other words, the measurements behave as identical coin flips, where the probability of heads ($0$) is not necessarily $1/2$ but some unknown $p$. By running the circuit with $m$ measurements, we can sample this binary variable and estimate $p$ from the $0$ counts. \n",
    "\n",
    "The fact that the different measurements are identically distributed is simply because the measurements commute, as can be seen here.\n",
    "\n",
    "**images/identical-measurements.jpg**\n",
    "\n",
    "Because, $\\vert\\phi \\rangle = \\vert\\chi\\rangle$, the order can be changed without changing the circuit. Thus, the statistics for $M_1$ and $M_2$ must be exactly the same. \n",
    "\n",
    "### Interpreting the sample probability\n",
    "\n",
    "Heuristically, it is useful to interpret our measuring $p$ as \"uncovering the true value\" $p_{\\theta_i}$. The odds of getting this will be $\\vert c_i\\vert^2$ for input state $\\sum_i c_i \\vert u_i\\rangle$. This *only holds* because we've carried through the input state to the next iteration.\n",
    "\n",
    "The probability that $p$ does not correspond to one of the $p_i$ is very small as the number of trials $m$ increases, for the same reason that getting $80%$ heads for 1000 tosses of a fair coin is nearly impossible. The *Chernoff bound* says that the probability of the estimate being greater than $\\epsilon$ away from the true probability decreases as $e^{-\\epsilon^2 m}$. Thus, with $m \\in O(1/\\epsilon^2)$ we can achieve reasonable confidence that we have estimated one of the $p_{\\theta_i}$. \n",
    "\n",
    "Once we have our estimate $p \\approx p_{\\theta_i}$, we proceed along similar lines to the eigenstate input case and use the equations above to estimate $\\cos 2\\pi\\theta_i$. This gives us information about $\\theta_i$.\n",
    "\n",
    "### Number of operations\n",
    "\n",
    "The estimate of the phase is obtained from sampling a binary probability distribution. It is a well known fact from probability and statistics that the sample mean, which gives our estimate for the probability, has an error (variance) which scales as \n",
    "\n",
    "$$\n",
    "\\epsilon \\in O\\left(m^{-1/2}\\right)\n",
    "$$\n",
    "\n",
    "where $m$ is the number of samples. Thus, for a given $\\epsilon$, $m \\in O(1/\\epsilon^2)$ samples are needed to achieve the desired precision. This is the source of the number of operations quoted in the Overview section."
   ]
  },
  {
   "cell_type": "markdown",
   "id": "2bed0b98-8886-4303-9e5f-29146720fdaa",
   "metadata": {},
   "source": [
    "## References and resources"
   ]
  },
  {
   "cell_type": "markdown",
   "id": "a35a5694-8ed3-4a84-84fe-76a70c8752e5",
   "metadata": {},
   "source": [
    "- Kitaev, Shen, Vyalvi, [\"Classical and Quantum Computation\"](https://bookstore.ams.org/gsm-47#:~:text=This%20book%20is%20an%20introduction,of%20complexity%20of%20an%20algorithm.) pages 126-127\n",
    "- Svore, Hastings, Freedman, [\"Faster Phase Estimation\"](https://arxiv.org/abs/1304.0741) (2013)\n",
    "- Nielsen and Chuang, pg 243-244, Problem 5.3 (Note that they call this \"Kitaev's algorithm,\" illustrating the nonstandard naming conventions.)"
   ]
  }
 ],
 "metadata": {
  "kernelspec": {
   "display_name": "Python 3 (ipykernel)",
   "language": "python",
   "name": "python3"
  },
  "language_info": {
   "codemirror_mode": {
    "name": "ipython",
    "version": 3
   },
   "file_extension": ".py",
   "mimetype": "text/x-python",
   "name": "python",
   "nbconvert_exporter": "python",
   "pygments_lexer": "ipython3",
   "version": "3.10.7"
  }
 },
 "nbformat": 4,
 "nbformat_minor": 5
}
