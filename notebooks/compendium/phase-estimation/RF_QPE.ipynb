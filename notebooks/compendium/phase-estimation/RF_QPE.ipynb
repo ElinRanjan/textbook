{
 "cells": [
  {
   "cell_type": "markdown",
   "id": "392ab4c5-8378-425b-b9b9-89205a1ac214",
   "metadata": {
    "tags": []
   },
   "source": [
    "## Rejection Filtering Phase Estimation"
   ]
  },
  {
   "cell_type": "markdown",
   "id": "cdea39be-ddb6-4c9e-a69c-16caa58f7f67",
   "metadata": {
    "tags": []
   },
   "source": [
    "### Characteristics\n",
    "\n",
    "Iterative:Yes \\\n",
    "Adaptive: Yes \\\n",
    "Coherent: Yes \\\n",
    "Qubit overhead: \n",
    "Runtime: \n",
    "Maximum depth: \n",
    "\n",
    "### Diagram\n",
    "\n",
    "### Description of procedure\n",
    "\n",
    "### Commentary"
   ]
  },
  {
   "cell_type": "markdown",
   "id": "741fedf9-2d81-4ce1-ab78-77815a600691",
   "metadata": {},
   "source": [
    "### Qiskit implementation"
   ]
  },
  {
   "cell_type": "markdown",
   "id": "cd1f504e-87d1-4a09-9ae5-c7773946f983",
   "metadata": {},
   "source": [
    "#### Imports"
   ]
  },
  {
   "cell_type": "code",
   "execution_count": null,
   "id": "92e79048-a023-4512-b232-b32913e2ee02",
   "metadata": {},
   "outputs": [],
   "source": [
    "import numpy as np\n",
    "from qiskit import ClassicalRegister, QuantumRegister, QuantumCircuit\n",
    "from qiskit_aer.primitives import Sampler\n",
    "from qiskit.circuit.library.standard_gates import SwapGate, TGate"
   ]
  },
  {
   "cell_type": "markdown",
   "id": "bcb6aab8-9fd2-4043-9ad2-f53fb2fe2808",
   "metadata": {},
   "source": [
    "### References and resources"
   ]
  },
  {
   "cell_type": "markdown",
   "id": "d26da0e7-6be7-446d-a3b3-9e714ff254ba",
   "metadata": {},
   "source": [
    "- Wiebe, Granade, [\"Efficient Bayesian Phase Estimation\" (2016)](https://journals.aps.org/prl/abstract/10.1103/PhysRevLett.117.010503)"
   ]
  },
  {
   "cell_type": "code",
   "execution_count": null,
   "id": "c4cd3423-66bf-4b68-8f32-7302193863a1",
   "metadata": {},
   "outputs": [],
   "source": []
  }
 ],
 "metadata": {
  "kernelspec": {
   "display_name": "Python 3 (ipykernel)",
   "language": "python",
   "name": "python3"
  },
  "language_info": {
   "codemirror_mode": {
    "name": "ipython",
    "version": 3
   },
   "file_extension": ".py",
   "mimetype": "text/x-python",
   "name": "python",
   "nbconvert_exporter": "python",
   "pygments_lexer": "ipython3",
   "version": "3.10.7"
  }
 },
 "nbformat": 4,
 "nbformat_minor": 5
}
