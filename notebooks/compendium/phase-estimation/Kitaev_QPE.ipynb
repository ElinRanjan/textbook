{
 "cells": [
  {
   "cell_type": "markdown",
   "id": "38ab7ca0-8f6a-4615-b140-ab022a252d62",
   "metadata": {
    "tags": []
   },
   "source": [
    "# Kitaev Phase Estimation Algorithm"
   ]
  },
  {
   "cell_type": "markdown",
   "id": "236fccf3-fcbd-4bd6-90d9-fda64c723918",
   "metadata": {
    "tags": []
   },
   "source": [
    "## Overview\n",
    "\n",
    "- Type: Quantum subroutine for phase estimation.\n",
    "- Estimated difficulty: Difficult\n",
    "- Preliminaries: Hadamard phase estimation **(strongly recommended)**.\n",
    "- Number of qubits: Size of $U$ and one auxiliary qubit.\n",
    "- Number of operations: $O(1/\\text{precision})$ calls to the controlled-$U$, plus $O(\\log 1/\\text{precision})$ classical processing.\n",
    "- Maximum depth: $O(1/\\text{precision})$\n",
    "\n",
    "Given a unitary $U$ with eigenvalue $e^{2\\pi i \\theta}$, the task of phase estimation is to determine the phase $\\theta$ to precision $\\epsilon$ with probability $1-\\delta$. The Kitaev phase estimation algorithm is a procedure for solving this problem built on Hadamard phase estimation. In fact, it is Hadamard phase estimation, but repeated several times with certain powers of $U$ and followed by classical post processing on the resulting data. Thus, the \"quantum\" part of the algorithm is essentially unchanged. For this reason, sometimes the previously described \"Hadamard Phase Estimation\" is termed Kitaev phase estimation.\n",
    "\n",
    "Kitaev phase estimation is iterative, meaning the same type of operation is repeated multiple times, and nonadaptive, meaning prior measurements do not affect subsequent choice of operations. The procedure provides a quadratic improvement over Hadamard phase estimation in terms of accuracy."
   ]
  },
  {
   "cell_type": "markdown",
   "id": "96df0e9c-d1b2-4343-85a0-58dfe7db7abb",
   "metadata": {},
   "source": [
    "## Description\n",
    "\n",
    "**Basically the same as Hadamard, could show multiple in parallel and then a laptop gif receiving the information.**\n",
    "\n",
    "### Quantum part\n",
    "The basic idea of the Kitaev approach is as follows. We estimate $2^j \\theta$ for $j = 0,1, \\dots, m$, to precision at least $1/16$ by running Hadamard phase estimation on $U_j = U^{2^j}$. It is important that all of these estimates are taken in sequence, without resetting the initial state, or else each estimate may correspond to a different phase present in the initial superposition state. The choice of $1/16$ is for technical reasons, but the point is that this accuracy is a constant, independent of our final desired precision in the estimate. \n",
    "\n",
    "### Classical part\n",
    "\n",
    "After the previous section, we have estimates $\\rho_1,\\rho_2, \\dots, \\rho_m$ of $\\theta 2^{j-1}$. Thinking of $\\theta$ as having a binary expansion $0.\\theta_1\\theta_2\\dots\\theta_m$, each $\\rho_j$ is given by $0.\\theta_j\\theta_{j+1}\\dots$, and therefore contains information about the bits in the expansion. Moreover, $\\rho_j$ is going to be most heavily influenced by the $j$th bit of $\\theta$. \n",
    "\n",
    "The classical part of the algorithm, given below in pseudocode, is a concrete procedure for extracting the bits $\\theta_j$ using the real valued $\\rho_j$. It proceeds from those $\\rho_j$ corresponding to less significant bits, i.e., $j$ larger, and infers from these values the more significant bits. At the end of the protocol, the bit in the binary expansion of $\\theta$ are inferred with reasonably high confidence.  \n",
    "\n",
    "### Pseudocode (Adapted from Svore, Hastings, Freedman)\n",
    "Input: \n",
    "1. black box controlled-$U$ acting on \"main register\", controlled on one auxiliary qubit. \n",
    "1. Input state $\\vert\\psi\\rangle$ on the main register.\n",
    "1. Specified precision $\\epsilon$.\n",
    "\n",
    "Output:\n",
    "1. An $O(\\epsilon)$ estimate $0.\\alpha_1\\alpha_2\\dots\\alpha_{m+2}$ of $\\theta$ as a bitstring. \n",
    "1. An approximate projection of the input state onto the $\\theta$ eigenspace of $U$\n",
    "\n",
    "Procedure:\n",
    "1. Set $m \\in O(\\log_2 (1/\\epsilon)$.\n",
    "1. Use Hadamard phase estimation to obtain estimates $\\rho_j$ of $\\theta_j = 2^{j-1} \\theta$ for $j = 0, \\dots m$ to precision $1/16$.\n",
    "1. Set $\\beta$ to be $\\rho_m$ rounded to the nearest eighth. In binary, $\\beta = 0.\\alpha_m \\alpha_{m+1}\\alpha_{m+2}$ where $\\alpha_j$ are bits.\n",
    "1. for j = m - 1 to 1:\n",
    "    1. Set $\\alpha_j = 0$ if $\\vert 0.0\\alpha_{j+1}\\alpha_{j+2} - \\rho_j\\vert_{\\text{mod}\\;1} < 1/4$\n",
    "    1. Set $\\alpha_j = 1$ otherwise\n",
    "1. return $0.\\alpha_1\\alpha_2\\dots\\alpha_{m+2}$\n"
   ]
  },
  {
   "cell_type": "markdown",
   "id": "fa6d6b94-fe27-4809-b670-5c41af29bf43",
   "metadata": {
    "tags": []
   },
   "source": [
    "### Qiskit Implementation"
   ]
  },
  {
   "cell_type": "markdown",
   "id": "dd9a050f-df0e-4246-8054-82d7771b8e79",
   "metadata": {},
   "source": [
    "#### Imports"
   ]
  },
  {
   "cell_type": "code",
   "execution_count": 1,
   "id": "d27e5ab6-d759-41dd-a007-fc107a8bd8e7",
   "metadata": {},
   "outputs": [],
   "source": [
    "import numpy as np\n",
    "from qiskit import ClassicalRegister, QuantumRegister, QuantumCircuit\n",
    "from qiskit_aer.primitives import Sampler\n",
    "from qiskit.circuit.library.standard_gates import SwapGate, TGate # For demonstration"
   ]
  },
  {
   "cell_type": "markdown",
   "id": "7bea0510-80f9-4c5f-b1ab-4d9922d876cb",
   "metadata": {},
   "source": [
    "First define a function `distance_mod1` for later convenience. This essentially computes the distance between two points on a circle of circumference $1$. "
   ]
  },
  {
   "cell_type": "code",
   "execution_count": 2,
   "id": "456a4441-c7ae-4c88-88c0-88cd53b2a71e",
   "metadata": {
    "tags": []
   },
   "outputs": [],
   "source": [
    "def distance_mod1(x,y):\n",
    "    \"\"\"\n",
    "    Args:\n",
    "        x (float), y (float): Values in [0,1). If outside range, values are taken mod 1.\n",
    "    Returns:\n",
    "        The distance between x and y mod 1. That is, the distance between x and y on a circle with circumference 1.\n",
    "    \"\"\"\n",
    "    # Put x and y within proper bounds\n",
    "    x %= 1\n",
    "    y %= 1\n",
    "    return np.min([np.abs(x-y), 1-np.abs(x-y)])"
   ]
  },
  {
   "cell_type": "markdown",
   "id": "aa040494-f5e7-4a82-bef0-9543bd6a838c",
   "metadata": {
    "tags": []
   },
   "source": [
    "#### Hadamard QPE dependencies\n",
    "\n",
    "Because Kitaev QPE builds on the Hadamard QPE, we will need to borrow the functions which execute that."
   ]
  },
  {
   "cell_type": "code",
   "execution_count": 3,
   "id": "d9b615a6-6380-4857-8609-6c975198ffc2",
   "metadata": {
    "tags": []
   },
   "outputs": [],
   "source": [
    "def hadamard_circuit(U, add_s_gate=False, measure=True):\n",
    "    \"\"\"\n",
    "    Args:\n",
    "        U (Gate): Unitary gate in phase estimation problem\n",
    "        add_s_gate (bool): Whether to at S gate to auxiliary register following controlled unitaries. \n",
    "            Equivalently, whether to perform C(U) (False) or C(i U) (True). \n",
    "        measure (bool): Whether to measure the auxiliary qubit (True) or not (False).\n",
    "    Returns:\n",
    "        QuantumCircuit that implements the Hadamard test\n",
    "    \"\"\"\n",
    "    # Initialize registers and circuit\n",
    "    aux = QuantumRegister(1, 'aux')\n",
    "    main = QuantumRegister(U.num_qubits, 'q')\n",
    "    circuit = QuantumCircuit(aux, main)\n",
    "    \n",
    "    # Construct controlled-U gate\n",
    "    cU = U.control(1)\n",
    "    \n",
    "    # Add gates to circuit\n",
    "    circuit.h(aux)\n",
    "    circuit.append(cU, aux[:] + main[:])\n",
    "    if add_s_gate:\n",
    "        circuit.s(aux)\n",
    "    circuit.h(aux)\n",
    "    \n",
    "    # Add measurement if option specified\n",
    "    if measure:\n",
    "        creg = ClassicalRegister(1, 'c')\n",
    "        circuit.add_register(creg)\n",
    "        circuit.measure(aux, creg)\n",
    "    \n",
    "    return circuit\n",
    "\n",
    "# State of main register is not reset after each measurement. Allows for phase estimation over superpositions.\n",
    "def coherent_Hadamard_circuit(U, Ncycles):\n",
    "    \"\"\"\n",
    "    Args:\n",
    "        U (Gate): Unitary gate to measure\n",
    "        Ncycles: Number of measurements (iterations) on auxiliary qubit for phased and unphased Hadamard test. \n",
    "    Returns:\n",
    "        QuantumCircuit that implements a coherent version of the Hadamard test, where the state of the main register is not reset following measurements.\n",
    "    \"\"\"\n",
    "    hadamard_circ = hadamard_circuit(U, add_s_gate = False, measure = True)\n",
    "    \n",
    "    \n",
    "    # Initialize circuit with first iteration as initial fencepost\n",
    "    circuit = hadamard_circuit(U, add_s_gate = False, measure = False)\n",
    "    creg = ClassicalRegister(2*Ncycles, 'c')\n",
    "    circuit.add_register(creg)\n",
    "    circuit.measure(0, creg[0])\n",
    "    circuit.reset(0)\n",
    "    \n",
    "    # Perform nonphased measurements\n",
    "    for k in range(1, Ncycles):\n",
    "        circuit = circuit.compose(hadamard_circ, qubits = None, clbits = k)\n",
    "        circuit.reset(0)\n",
    "        \n",
    "    hadamard_circ = hadamard_circuit(U, add_s_gate = True, measure = True)\n",
    "    \n",
    "    # Perform phased measurements\n",
    "    for k in range(0, Ncycles):\n",
    "        circuit = circuit.compose(hadamard_circ, qubits = None, clbits = k + Ncycles)\n",
    "        circuit.reset(0)\n",
    "    \n",
    "    return circuit\n",
    "\n",
    "def Hadamard_phase_estimation(U, Uprep = None, precision = 2 * 10**-1, coherent = False, confidence_factor = 2):\n",
    "    \"\"\"\n",
    "    Args:\n",
    "        U (Gate): Unitary gate in phase estimation problem\n",
    "        Uprep (Instruction): State preparation on main register starting from all |0> state (If None, no state prep added). \n",
    "        precision (float): Desired precision of phase estimate. \n",
    "        coherent (bool): Whether to keep state of principal register (True) \n",
    "            or reset to original state (False) after each measurement.\n",
    "        confidence_factor (float): A parameter which scales the number of iterations proportionally. Should be set on the order of 1.\n",
    "            Larger values increase confidence of answer being within set precision.\n",
    "    Returns:\n",
    "        An estimate for the phase of some eigenstate, sampled according to the initial state, with specified precision, and confidence related to confidence_factor.\n",
    "    \"\"\"\n",
    "\n",
    "    Ncycles = int(confidence_factor//(precision**2))\n",
    "    \n",
    "    # Do single shot, coherent phase estimation if coherent = True\n",
    "    if coherent:\n",
    "        phase_estimation_circuit = coherent_Hadamard_circuit(U, Ncycles)\n",
    "        # Perform state prep, if any\n",
    "        if Uprep != None: phase_estimation_circuit.compose(Uprep, qubits = range(1,U.num_qubits + 1), front = True, inplace = True)\n",
    "        # Run circuit\n",
    "        job = Sampler().run(phase_estimation_circuit, shots = 1)\n",
    "        result_dict = job.result().quasi_dists[0].binary_probabilities()\n",
    "        measurements = list(job.result().quasi_dists[0].binary_probabilities())[0]\n",
    "        \n",
    "        # Split results into phased and unphased measurements\n",
    "        phased_measurements = measurements[0:Ncycles]\n",
    "        unphased_measurements = measurements[Ncycles:2*Ncycles]\n",
    "\n",
    "        \n",
    "        # Compute Hamming weight to get counts\n",
    "        phased_counts = np.sum(list(map(int,phased_measurements)))\n",
    "        unphased_counts = np.sum(list(map(int,unphased_measurements)))\n",
    "        \n",
    "        # Extract Pr(0)\n",
    "        unphased_p0 = 1 - unphased_counts/Ncycles\n",
    "        phased_p0 = 1 - phased_counts/Ncycles\n",
    "    else:  \n",
    "        # Otherwise, do incoherent phase estimation\n",
    "        unphased_circuit = hadamard_circuit(U, add_s_gate = False, measure = True)\n",
    "        phased_circuit = hadamard_circuit(U, add_s_gate = True, measure = True)\n",
    "        # Do state prep, if any\n",
    "        if Uprep != None:\n",
    "            unphased_circuit = unphased_circuit.compose(Uprep, range(1,unphased_circuit.num_qubits),front = True)\n",
    "            phased_circuit = phased_circuit.compose(Uprep, range(1,unphased_circuit.num_qubits), front = True)\n",
    "\n",
    "        # Run circuits\n",
    "        unphased_results = Sampler().run(unphased_circuit, shots = Ncycles).result().quasi_dists[0]\n",
    "        phased_results = Sampler().run(phased_circuit, shots = Ncycles).result().quasi_dists[0]\n",
    "\n",
    "        # Extract Pr(0)\n",
    "        unphased_p0 = unphased_results.get(0, 0)\n",
    "        phased_p0 = phased_results.get(0, 0)\n",
    "\n",
    "    \n",
    "    # Get cosine and sine of phase\n",
    "    costheta = 2*unphased_p0 - 1\n",
    "    sintheta = 1- 2*phased_p0\n",
    "    \n",
    "    #Extract phase as final result\n",
    "    theta = np.arctan2(sintheta, costheta)\n",
    "    # Make branch correction to [0, 2 pi)\n",
    "    if theta < 0: theta += 2*np.pi\n",
    "    # Return number between 0,1\n",
    "    theta = theta/(2*np.pi)\n",
    "    return theta"
   ]
  },
  {
   "cell_type": "markdown",
   "id": "ed5395e0-aa42-4d24-8907-ff4c09d922a2",
   "metadata": {},
   "source": [
    "#### Kitaev classical post processing\n",
    "\n",
    "Next, we define the function performing the full Kitaev protocol. "
   ]
  },
  {
   "cell_type": "code",
   "execution_count": 31,
   "id": "81a97bec-06ed-4df9-95f0-b578f26a44a5",
   "metadata": {},
   "outputs": [],
   "source": [
    "def Kitaev_phase_estimation(U, Uprep = None, precision = 10**-2, coherent = False, confidence_factor = 2):\n",
    "    \"\"\"\n",
    "    Args:\n",
    "        U (Gate): Unitary gate in phase estimation problem\n",
    "        Uprep (Instruction): State preparation on main register starting from all |0> state (If None, no state prep added). \n",
    "        precision (float): Desired precision of phase estimate. \n",
    "        coherent (bool): Whether to keep state of principal register (True) \n",
    "            or reset to original state (False) after each measurement.\n",
    "        confidence_factor (float): A parameter which scales the number of iterations proportionally. Should be set on the order of 1.\n",
    "            Larger values increase confidence of answer being within set precision.          \n",
    "    Returns:\n",
    "        An estimate for the phase of some eigenstate, sampled according to the initial state, \n",
    "        with specified precision and confidence related to confidence_factor.\n",
    "    \"\"\"\n",
    "    # Parameters of precision\n",
    "    nbits = int(np.ceil(np.log2(1/precision)))\n",
    "    nreps = nbits - 2 \n",
    "    # Perform Hadamard phase estimation on U**(2**j) to fixed precision\n",
    "    phases = np.zeros(nreps)\n",
    "    for j in range(nreps):\n",
    "        phases[j] = Hadamard_phase_estimation(U.repeat(2**j), Uprep, precision = 1/16, coherent = False)\n",
    "    \n",
    "    # Classical part to amplify precision\n",
    "    # Round last to nearest octant in [0,1)\n",
    "    beta = (int(np.round(8*phases[nreps - 1]))%8)/8\n",
    "    #Retrieve last 3 bits in binary form\n",
    "    last_bits = bin(int(beta*8))[2:]\n",
    "    last_bits = '0'*(3-len(last_bits)) + last_bits # pad with zeros to get bbb format \n",
    "    # Do alpha recursion for remaining bits\n",
    "    alpha = [0]*nbits\n",
    "    alpha[nreps + 1]= int(last_bits[2])\n",
    "    alpha[nreps] = int(last_bits[1])\n",
    "    alpha[nreps-1] = int(last_bits[0])\n",
    "    for j in range(nreps-2,-1,-1):\n",
    "        # fill in the values of alpha\n",
    "        alpha[j] = int(distance_mod1(phases[j], .5 + alpha[j+1]/4 + alpha[j+2]/8) <.25)\n",
    "    \n",
    "    return np.sum(alpha * (2.0**(-np.arange(1, nbits+1))))"
   ]
  },
  {
   "cell_type": "markdown",
   "id": "ab6d94f3-c53b-454d-815a-7662a000d224",
   "metadata": {},
   "source": [
    "As an illustration, let's take $U = \\mathrm{SWAP}$ and take as initial state $\\vert10\\rangle$. It turns out that $\\vert10\\rangle$ is an equal superposition of a symmetric (+1) and antisymmetric (-1) eigenstate of $\\mathrm{SWAP}$. Hence, Kitaev QPE, like any decent QPE algorithm, should return $\\theta = 1/2$ or $\\theta = 0$, each with probability $1/2$. This can be seen by running the cell below multiple times."
   ]
  },
  {
   "cell_type": "code",
   "execution_count": 32,
   "id": "9fe318e8-f5a4-4268-9685-933385a62ec8",
   "metadata": {},
   "outputs": [
    {
     "name": "stdout",
     "output_type": "stream",
     "text": [
      "Kitaev QPE result: theta = 0.5\n"
     ]
    }
   ],
   "source": [
    "# State preparation\n",
    "prep_circuit = QuantumCircuit(2)\n",
    "prep_circuit.x(1)\n",
    "\n",
    "print('Kitaev QPE result: theta =', Kitaev_phase_estimation(SwapGate(), Uprep = prep_circuit, precision = 2**-8))"
   ]
  },
  {
   "cell_type": "markdown",
   "id": "3bdb272f-ba22-48c1-ac1f-86ce5b709f17",
   "metadata": {},
   "source": [
    "## References and resources"
   ]
  },
  {
   "cell_type": "markdown",
   "id": "3fca5745-d1da-4db8-a526-646882243bed",
   "metadata": {},
   "source": [
    "- Svore, Hastings, Freedman, [\"Faster Phase Estimation\"](https://arxiv.org/abs/1304.0741) (2013)\n",
    "- Kitaev, Shen, Vyalvi, [\"Classical and Quantum Computation\"](https://bookstore.ams.org/gsm-47#:~:text=This%20book%20is%20an%20introduction,of%20complexity%20of%20an%20algorithm.) pages 128-129"
   ]
  }
 ],
 "metadata": {
  "kernelspec": {
   "display_name": "Python 3 (ipykernel)",
   "language": "python",
   "name": "python3"
  },
  "language_info": {
   "codemirror_mode": {
    "name": "ipython",
    "version": 3
   },
   "file_extension": ".py",
   "mimetype": "text/x-python",
   "name": "python",
   "nbconvert_exporter": "python",
   "pygments_lexer": "ipython3",
   "version": "3.10.7"
  }
 },
 "nbformat": 4,
 "nbformat_minor": 5
}
