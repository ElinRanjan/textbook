{
 "cells": [
  {
   "cell_type": "markdown",
   "id": "ed71a495-fdc4-4200-8fae-3ab4f85df1cc",
   "metadata": {
    "tags": []
   },
   "source": [
    "## Fast Phase Estimation\n",
    "\n",
    "Fast Phase Estimation is an improvement upon Kitaev Phase Estimation."
   ]
  },
  {
   "cell_type": "markdown",
   "id": "c9137374-b36e-458f-bebc-960605d6be5b",
   "metadata": {
    "tags": []
   },
   "source": [
    "### Characteristics\n",
    "\n",
    "Iterative:Yes \\\n",
    "Adaptive: No \\\n",
    "Coherent: \n",
    "Qubit overhead: \n",
    "Runtime: \n",
    "Maximum depth: \n",
    "\n",
    "### Diagram\n",
    "\n",
    "### Description of procedure\n",
    "\n",
    "### Commentary"
   ]
  },
  {
   "cell_type": "markdown",
   "id": "580f5914-b2d4-4431-a23e-6d9c23de18cd",
   "metadata": {},
   "source": [
    "### Qiskit implementation"
   ]
  },
  {
   "cell_type": "markdown",
   "id": "c1ee9793-b911-4aba-8636-2862a4141cf8",
   "metadata": {},
   "source": [
    "#### Imports"
   ]
  },
  {
   "cell_type": "code",
   "execution_count": null,
   "id": "ea2e13b4-6b65-4109-b0db-230662cef181",
   "metadata": {},
   "outputs": [],
   "source": [
    "import numpy as np\n",
    "from qiskit import ClassicalRegister, QuantumRegister, QuantumCircuit\n",
    "from qiskit_aer.primitives import Sampler\n",
    "from qiskit.circuit.library.standard_gates import SwapGate, TGate"
   ]
  },
  {
   "cell_type": "markdown",
   "id": "8fbd4e1a-f1af-4143-aedd-214cea9bbd6d",
   "metadata": {},
   "source": [
    "### References and resources"
   ]
  },
  {
   "cell_type": "markdown",
   "id": "31e66c84-c8d6-47ef-a75d-1936dcdfadcd",
   "metadata": {},
   "source": [
    "- Svore, Hastings, Freedman, [\"Faster Phase Estimation\"](https://arxiv.org/abs/1304.0741) (2013)"
   ]
  },
  {
   "cell_type": "code",
   "execution_count": null,
   "id": "a271302f-5c37-48e6-b298-cb6be16c2b80",
   "metadata": {},
   "outputs": [],
   "source": []
  }
 ],
 "metadata": {
  "kernelspec": {
   "display_name": "Python 3 (ipykernel)",
   "language": "python",
   "name": "python3"
  },
  "language_info": {
   "codemirror_mode": {
    "name": "ipython",
    "version": 3
   },
   "file_extension": ".py",
   "mimetype": "text/x-python",
   "name": "python",
   "nbconvert_exporter": "python",
   "pygments_lexer": "ipython3",
   "version": "3.10.7"
  }
 },
 "nbformat": 4,
 "nbformat_minor": 5
}
