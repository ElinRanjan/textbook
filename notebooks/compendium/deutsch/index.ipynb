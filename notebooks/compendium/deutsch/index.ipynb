{
 "cells": [
  {
   "cell_type": "markdown",
   "id": "bdffac87",
   "metadata": {},
   "source": [
    "# Deutsch's algorithm\n",
    "\n",
    "## Overview\n",
    "\n",
    "- Type: Toy algorithm\n",
    "- Approachability: Easy\n",
    "- Related topics: Phase kickback, Deutsch-Jozsa algorithm, Bernstein–Vazirani algorithm\n",
    "\n",
    "Deutsch's algorithm is one of the earliest quantum algorithms. It solves a toy problem, which is useless except to prove that quantum computers are sometimes better than classical computers. The ideas behind Deutsch's algorithm were later built on to create more impressive examples of quantum algorithms.\n",
    "\n",
    "\n",
    "## Problem statement\n",
    "\n",
    "Deutsch's problem is a black-box problem: Given a function, $f$, you must discover something about $f$ only by \"querying\" the function (that is, giving it some inputs and looking at the outputs).\n",
    "\n",
    "In Deutsch's toy problem, $f$ is a deterministic function. It accepts a single bit, and returns a single bit as output.\n",
    "\n",
    "$$ f: \\{0, 1\\} \\rightarrow \\{0, 1\\} $$\n",
    "\n",
    "The function $f$ must be either _balanced_ (the output of $f$ changes depending on the state of the input bit), or _constant_ (the ouput of $f$ is the same, regardless of the state of the input bit).\n",
    "\n",
    "The problem asks us to discover whether $f$ is constant or balanced using as few queries as possible.\n",
    "\n",
    "\n",
    "### Circuit form\n",
    "\n",
    "We can draw $f$ as a two-bit, reversible circuit. The top bit ($a$) holds the input, and the circuit writes the output to the bottom bit ($b$). Specifically, the circuit will flip $b$ if $f(a) = 1$ and do nothing if $f(a) = 0$.\n",
    "\n",
    "![](images/problem.svg)\n",
    "\n",
    "\n",
    "## Algorithm\n",
    "\n",
    "### Classical\n",
    "\n",
    "If $a$ and $b$ are classical bits, we must query $f$ twice to work out if the output changes depending on the input. Once where $a = 0$ and once where $a = 1$. If the outputs are the same, $f$ is constant, if they differ then $f$ is balanced.\n",
    "\n",
    "### Quantum\n",
    "\n",
    "If $a$ and $b$ can be qubits, we can use the following algorithm.\n",
    "\n",
    " 1. First, set $a = |{+}\\rangle$ and $b = |{-}\\rangle$.\n",
    " 2. Run $f$ on these qubits\n",
    " 3. Apply a H-gate to $a$\n",
    " 4. Measure $a$\n",
    "     - If we measure `0`, then $f$ if constant\n",
    "     - If we measure `1`, then $f$ is balanced\n",
    "\n",
    "This only needs one query.\n",
    "\n",
    "![](images/algorithm.svg)\n",
    "\n",
    "To see why this works, check out [phase kickback]().\n",
    "\n",
    "## Qiskit implementation"
   ]
  },
  {
   "cell_type": "markdown",
   "id": "eb986ffd",
   "metadata": {},
   "source": [
    "There are four possible Deutsch functions, two constant and two balanced.\n",
    "\n",
    "![](images/all-functions.svg)\n",
    "\n",
    "The following code cell defines a Python function that can produce each of these circuits."
   ]
  },
  {
   "cell_type": "code",
   "execution_count": 1,
   "id": "ad835518",
   "metadata": {},
   "outputs": [],
   "source": [
    "from qiskit import QuantumCircuit\n",
    "\n",
    "def deutsch_function(case: int):\n",
    "    \"\"\"\n",
    "    Generate a valid Deutsch function as a `QuantumCircuit`.\n",
    "    \"\"\"\n",
    "    if case not in range(0, 4):\n",
    "        raise ValueError(\"`case` must be integer >=0 and < 4.\")\n",
    "    f = QuantumCircuit(2)\n",
    "    if case > 1:\n",
    "        f.cx(0, 1)\n",
    "    if case % 2 == 1:\n",
    "        f.x(1)\n",
    "    return f"
   ]
  },
  {
   "cell_type": "markdown",
   "id": "1c8c3a8a",
   "metadata": {},
   "source": [
    "The following cell defines a function that carries out Deutsch's algorithm."
   ]
  },
  {
   "cell_type": "code",
   "execution_count": 2,
   "id": "5c45c58c",
   "metadata": {},
   "outputs": [],
   "source": [
    "from qiskit_aer import AerSimulator\n",
    "\n",
    "def deutsch_algorithm(function: QuantumCircuit):\n",
    "    \"\"\"\n",
    "    Determine if a Deutsch function is constant or balanced.\n",
    "    \"\"\"\n",
    "    # Set up qubits\n",
    "    qc = QuantumCircuit(2, 1)\n",
    "    qc.x(1)\n",
    "    qc.h([0, 1])\n",
    "    \n",
    "    # Query f\n",
    "    qc = qc.compose(function)\n",
    "    \n",
    "    # Apply H-gate to qubit A\n",
    "    qc.h(0)\n",
    "    \n",
    "    # Measure, simulate, and interpret output\n",
    "    qc.measure(0, 0)\n",
    "    measurements = AerSimulator().run(qc,shots=1,memory=True).result().get_memory()\n",
    "    if measurements[0] == '0':\n",
    "        return \"constant\"\n",
    "    return \"balanced\""
   ]
  },
  {
   "cell_type": "markdown",
   "id": "4fd88a4b",
   "metadata": {},
   "source": [
    "The following cell demonstrates Deutsch's algorithm on a balanced function. Try changing the number to see it solve a different function."
   ]
  },
  {
   "cell_type": "code",
   "execution_count": 3,
   "id": "c78bcc85",
   "metadata": {},
   "outputs": [
    {
     "data": {
      "image/svg+xml": [
       "<?xml version=\"1.0\" encoding=\"UTF-8\"?><!DOCTYPE svg  PUBLIC '-//W3C//DTD SVG 1.1//EN'  'http://www.w3.org/Graphics/SVG/1.1/DTD/svg11.dtd'><svg width=\"173.68pt\" height=\"125.65pt\" version=\"1.1\" viewBox=\"0 0 173.68 125.65\" xmlns=\"http://www.w3.org/2000/svg\" xmlns:xlink=\"http://www.w3.org/1999/xlink\"><defs><style type=\"text/css\">*{stroke-linejoin: round; stroke-linecap: butt}</style></defs><path d=\"m-0 125.65h173.68v-125.65h-173.68z\" fill=\"#ffffff\"/><path d=\"m64.497 44.283h97.343\" clip-path=\"url(#p33ae587884)\" fill=\"none\" stroke=\"#000000\" stroke-linecap=\"square\" stroke-width=\"2\"/><path d=\"m64.497 90.637h97.343\" clip-path=\"url(#p33ae587884)\" fill=\"none\" stroke=\"#000000\" stroke-linecap=\"square\" stroke-width=\"2\"/><path d=\"m89.528 90.637v-46.354\" clip-path=\"url(#p33ae587884)\" fill=\"none\" stroke=\"#1192e8\" stroke-linecap=\"square\" stroke-width=\"2\"/><path d=\"m89.528 48.803c1.1986 0 2.3482-0.4762 3.1958-1.3237s1.3237-1.9972 1.3237-3.1958c0-1.1986-0.4762-2.3482-1.3237-3.1958s-1.9972-1.3237-3.1958-1.3237c-1.1986 0-2.3482 0.4762-3.1958 1.3237-0.84753 0.84753-1.3237 1.9972-1.3237 3.1958 0 1.1986 0.4762 2.3482 1.3237 3.1958 0.84753 0.84753 1.9972 1.3237 3.1958 1.3237z\" clip-path=\"url(#p33ae587884)\" fill=\"#1192e8\" stroke=\"#1192e8\" stroke-width=\"1.5\"/><path d=\"m89.528 101.18c2.7967 0 5.4792-1.1111 7.4568-3.0887 1.9776-1.9776 3.0887-4.6601 3.0887-7.4568 0-2.7967-1.1111-5.4792-3.0887-7.4568-1.9776-1.9776-4.6601-3.0887-7.4568-3.0887-2.7967 0-5.4792 1.1111-7.4568 3.0887-1.9776 1.9776-3.0887 4.6601-3.0887 7.4568 0 2.7967 1.1111 5.4792 3.0887 7.4568 1.9776 1.9776 4.6601 3.0887 7.4568 3.0887z\" clip-path=\"url(#p33ae587884)\" fill=\"#1192e8\" stroke=\"#1192e8\" stroke-width=\"2\"/><path d=\"m120.82 105.7h30.13v-30.13h-30.13z\" clip-path=\"url(#p33ae587884)\" fill=\"#005d5d\" stroke=\"#005d5d\" stroke-width=\"1.5\"/><g clip-path=\"url(#p33ae587884)\"><g transform=\"translate(37.189 48.734) scale(.1625 -.1625)\"><defs><path id=\"DejaVuSans-Oblique-71\" transform=\"scale(.015625)\" d=\"m2669 525q-231-303-546-460-314-156-695-156-531 0-833 358-301 358-301 986 0 506 186 978t533 847q225 244 517 375t614 131q387 0 637-153t363-462l100 525h578l-934-4813h-579l360 1844zm-1778 813q0-463 193-705 194-242 560-242 544 0 928 520t384 1264q0 450-199 689-198 239-569 239-272 0-504-127-231-126-403-370-181-256-286-600-104-343-104-668z\"/><path id=\"DejaVuSans-30\" transform=\"scale(.015625)\" d=\"m2034 4250q-487 0-733-480-245-479-245-1442 0-959 245-1439 246-480 733-480 491 0 736 480 246 480 246 1439 0 963-246 1442-245 480-736 480zm0 500q785 0 1199-621 414-620 414-1801 0-1178-414-1799-414-620-1199-620-784 0-1198 620-414 621-414 1799 0 1181 414 1801 414 621 1198 621z\"/></defs><use xlink:href=\"#DejaVuSans-Oblique-71\"/><use transform=\"translate(63.477 -16.406) scale(.7)\" xlink:href=\"#DejaVuSans-30\"/></g></g><g clip-path=\"url(#p33ae587884)\"><g transform=\"translate(37.189 95.088) scale(.1625 -.1625)\"><defs><path id=\"DejaVuSans-31\" transform=\"scale(.015625)\" d=\"m794 531h1031v3560l-1122-225v575l1116 225h631v-4135h1031v-531h-2687v531z\"/></defs><use xlink:href=\"#DejaVuSans-Oblique-71\"/><use transform=\"translate(63.477 -16.406) scale(.7)\" xlink:href=\"#DejaVuSans-31\"/></g></g><path d=\"m89.528 96.663v-12.052\" clip-path=\"url(#p33ae587884)\" fill=\"none\" stroke=\"#ffffff\" stroke-linecap=\"square\" stroke-width=\"2\"/><path d=\"m83.502 90.637h12.052\" clip-path=\"url(#p33ae587884)\" fill=\"none\" stroke=\"#ffffff\" stroke-linecap=\"square\" stroke-width=\"2\"/><g clip-path=\"url(#p33ae587884)\"><g transform=\"translate(131.43 94.224) scale(.13 -.13)\" fill=\"#ffffff\"><defs><path id=\"DejaVuSans-58\" transform=\"scale(.015625)\" d=\"m403 4666h678l1160-1735 1165 1735h678l-1500-2241 1600-2425h-678l-1312 1984-1322-1984h-681l1665 2491-1453 2175z\"/></defs><use xlink:href=\"#DejaVuSans-58\"/></g></g><defs><clipPath id=\"p33ae587884\"><rect x=\"7.2\" y=\"7.2\" width=\"159.28\" height=\"111.25\"/></clipPath></defs></svg>"
      ],
      "text/plain": [
       "<Figure size 287.294x200.667 with 1 Axes>"
      ]
     },
     "metadata": {},
     "output_type": "display_data"
    },
    {
     "data": {
      "text/plain": [
       "'balanced'"
      ]
     },
     "execution_count": 3,
     "metadata": {},
     "output_type": "execute_result"
    }
   ],
   "source": [
    "f = deutsch_function(3)\n",
    "display(f.draw())\n",
    "deutsch_algorithm(f)"
   ]
  },
  {
   "cell_type": "markdown",
   "id": "1831231d",
   "metadata": {},
   "source": [
    "## See also\n",
    "\n",
    "- Original paper\n",
    "- DJ-algorithm\n",
    "- BV-algorithm"
   ]
  }
 ],
 "metadata": {
  "kernelspec": {
   "display_name": "Python 3",
   "language": "python",
   "name": "python3"
  },
  "language_info": {
   "codemirror_mode": {
    "name": "ipython",
    "version": 3
   },
   "file_extension": ".py",
   "mimetype": "text/x-python",
   "name": "python",
   "nbconvert_exporter": "python",
   "pygments_lexer": "ipython3",
   "version": "3.9"
  }
 },
 "nbformat": 4,
 "nbformat_minor": 5
}
