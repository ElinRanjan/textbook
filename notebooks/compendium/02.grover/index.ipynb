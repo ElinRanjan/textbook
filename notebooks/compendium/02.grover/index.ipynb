{
 "cells": [
  {
   "cell_type": "markdown",
   "id": "f684d213",
   "metadata": {},
   "source": [
    "# Grover's algorithm"
   ]
  },
  {
   "cell_type": "markdown",
   "id": "b121f96d",
   "metadata": {},
   "source": [
    "## Overview\n",
    "\n",
    "- **Type:** Query algorithm\n",
    "- **Time complexity:** $O(\\sqrt{N})$ queries, where $N$ is the size of the search space\n",
    "- **Advantage:** Quadratic speed-up over classical algorithms\n",
    "- **Approachability:** Medium\n",
    "- **Related topics:** Amplitude amplification\n",
    "\n",
    "Grover's algorithm is a quantum query algorithm for searching an unstructured (or unordered) search space.\n",
    "It has a provable quadratic speedup over classical algorithms.\n",
    "As it ignores any problem structure, Grover's algorithm is widely applicable but often less efficient than problem-specific algorithms.\n",
    "\n",
    "The method used by Grover's algorithm was generalized into _amplitude amplification_, which appears in several other quantum algorithms, particularly query problems.\n",
    "\n",
    "This page should be understandable to anyone comfortable with basic quantum computing concepts."
   ]
  },
  {
   "cell_type": "markdown",
   "id": "c3dc1998",
   "metadata": {},
   "source": [
    "## Problem statement\n",
    "\n",
    "Grover's algorithm solves the classical _unstructured search_ problem.\n",
    "\n",
    "> **Unstructured search:** The input is a function of the form $f:\\{0,1\\}^n \\rightarrow \\{0,1\\}.$\n",
    "> The goal is to find a binary string $x$ for which $f(x) = 1$, or report that there is no such string.\n",
    "\n",
    "The function $f$ is sometimes called the _oracle_ function. To implement Grover's algorithm as a quantum circuit, the function $f$ must be converted to a quantum circuit $Z_f$ such that\n",
    "\n",
    "$$\n",
    "Z_f |x\\rangle = \\bigg\\{\\begin{aligned}\\phantom{-}|x\\rangle \\quad \\text{if} \\; f(x)=0 \\\\\n",
    "   -|x\\rangle \\quad \\text{if} \\; f(x)=1 \\\\\\end{aligned}\n",
    "$$\n",
    "\n",
    "We'll also refer to $Z_f$ as the _oracle_, or sometimes a _phase oracle_, as it changes amplitude phase. See the [phase oracles page](#) for examples of converting problems to this form."
   ]
  },
  {
   "cell_type": "markdown",
   "id": "37fef9c1",
   "metadata": {},
   "source": [
    "## Algorithm\n",
    "\n",
    "### High-level description\n",
    "\n",
    "Grover's algorithm uses an $n$-qubit quantum register $\\mathsf{X}$.\n",
    "\n",
    "1. *Initialization*. Prepare the qubits in an equal superposition of all possible states. We'll call this quantum state $|s\\rangle$, and you can create it from the all-zeros state by applying a Hadamard gate to each qubit in $\\mathsf{X}$.\n",
    "\n",
    "   $$|s\\rangle = H^{\\otimes n}|00\\cdots0\\rangle$$\n",
    "\n",
    "2. *Iterate*. Repeat the following steps $t$ times (where $t$ is chosen as discussed in [analysis](#)):\n",
    "\n",
    "   2.1 Apply the $Z_f$ operation to the register $\\mathsf{X}$.\n",
    "   \n",
    "   $$\n",
    "   Z_f |x\\rangle = \\bigg\\{\\begin{aligned}\\phantom{-}|x\\rangle \\quad \\text{if} \\; f(x)=0 \\\\\n",
    "   -|x\\rangle \\quad \\text{if} \\; f(x)=1 \\\\\\end{aligned}\n",
    "   $$\n",
    "   \n",
    "   2.2 Apply the diffuser $D_s$ to the qubits. The diffuser is a reflection around $|s\\rangle$:\n",
    "\n",
    "   $$ D_s = 2|s\\rangle\\langle s| - \\mathbb{1} $$\n",
    "\n",
    "3. Measure the qubits in the standard basis. \n",
    "\n",
    "The result of the measurements can be interpreted as a guess for a string $x$ for which $f(x)=1.$\n",
    "The oracle can be used one final time after $x$ is measured to check the solution — outputting $x$ if $f(x) = 1$ and outputting \"no solution found\" if $f(x) = 0.$\n",
    "\n",
    "Note that we query the oracle in step 2.1, so the total number of queries is equal to the number of iterations of step 2 (plus one if we use the oracle to check the answer)."
   ]
  },
  {
   "cell_type": "markdown",
   "id": "e8b40bf0",
   "metadata": {},
   "source": [
    "## Qiskit implementation"
   ]
  },
  {
   "cell_type": "markdown",
   "id": "6f57be47",
   "metadata": {},
   "source": [
    "### Phase oracle\n",
    "\n",
    "Grover's algorithm takes a _phase oracle_ as input, which is a quantum operation of the following form\n",
    "\n",
    "$$\n",
    "Z_f |x\\rangle = \\bigg\\{\\begin{aligned}\\phantom{-}|x\\rangle \\quad \\text{if} \\; f(x)=0 \\\\\n",
    "   -|x\\rangle \\quad \\text{if} \\; f(x)=1 \\\\\\end{aligned}\n",
    "$$\n",
    "\n",
    "The following code cell creates a unitary for $Z_f$ based on some predetermined \"good states\", which are the states for which $Z_f|x\\rangle = -|x\\rangle$. See the [phase oracles page](#) for examples of converting real problems to phase oracle circuits.\n",
    "\n",
    "(TODO: find a complicated circuit for $Z_f$ to show that it's not always easy to see \"good states\" beforehand)"
   ]
  },
  {
   "cell_type": "code",
   "execution_count": 1,
   "id": "ba62c2b8",
   "metadata": {
    "scrolled": false
   },
   "outputs": [
    {
     "name": "stdout",
     "output_type": "stream",
     "text": [
      "Oracle matrix:\n",
      "[[ 1  0  0  0  0  0  0  0  0  0  0  0  0  0  0  0]\n",
      " [ 0  1  0  0  0  0  0  0  0  0  0  0  0  0  0  0]\n",
      " [ 0  0 -1  0  0  0  0  0  0  0  0  0  0  0  0  0]\n",
      " [ 0  0  0  1  0  0  0  0  0  0  0  0  0  0  0  0]\n",
      " [ 0  0  0  0  1  0  0  0  0  0  0  0  0  0  0  0]\n",
      " [ 0  0  0  0  0  1  0  0  0  0  0  0  0  0  0  0]\n",
      " [ 0  0  0  0  0  0  1  0  0  0  0  0  0  0  0  0]\n",
      " [ 0  0  0  0  0  0  0  1  0  0  0  0  0  0  0  0]\n",
      " [ 0  0  0  0  0  0  0  0  1  0  0  0  0  0  0  0]\n",
      " [ 0  0  0  0  0  0  0  0  0  1  0  0  0  0  0  0]\n",
      " [ 0  0  0  0  0  0  0  0  0  0  1  0  0  0  0  0]\n",
      " [ 0  0  0  0  0  0  0  0  0  0  0  1  0  0  0  0]\n",
      " [ 0  0  0  0  0  0  0  0  0  0  0  0  1  0  0  0]\n",
      " [ 0  0  0  0  0  0  0  0  0  0  0  0  0  1  0  0]\n",
      " [ 0  0  0  0  0  0  0  0  0  0  0  0  0  0  1  0]\n",
      " [ 0  0  0  0  0  0  0  0  0  0  0  0  0  0  0  1]]\n"
     ]
    }
   ],
   "source": [
    "NUM_QUBITS = 4\n",
    "good_states = [\"0010\"]\n",
    "\n",
    "# Create an identity matrix (a unitary that does nothing)\n",
    "from numpy import identity\n",
    "\n",
    "oracle = identity(2**NUM_QUBITS, dtype=int)\n",
    "\n",
    "# Alter matrix to mark \"good\" states\n",
    "for state in good_states:\n",
    "    INDEX = int(state, 2)  # Convert bit string to int\n",
    "    oracle[INDEX][INDEX] = -1\n",
    "\n",
    "print(f\"Oracle matrix:\\n{oracle}\")"
   ]
  },
  {
   "cell_type": "markdown",
   "id": "04dd926c",
   "metadata": {},
   "source": [
    "### Diffuser\n",
    "\n",
    "Next, we'll create a diffuser circuit. The diffuser is a reflection around $|s\\rangle$, which means it must invert the sign of all states perpendicular to $|s\\rangle$.\n",
    "\n",
    "We can create a diffuser from a multi-controlled-Z (MCZ) gate. The MCZ gate is a reflection around the all-ones state ($|1\\rangle$), up to a global phase.\n",
    "\n",
    "$$ \\operatorname{MCZ} = \\mathbb{1} - 2|1\\rangle\\langle 1|$$\n",
    "\n",
    "Since $H^{\\otimes n}X^{\\otimes n}|1\\rangle = |s\\rangle$, we can map the CZ gate to a diffuser by wrapping it in H gates and X gates.\n",
    "\n",
    "$$\n",
    "\\begin{aligned}\n",
    "H^{\\otimes n}X^{\\otimes n}(MCZ)X^{\\otimes n}H^{\\otimes n}\n",
    "&= H^{\\otimes n}X^{\\otimes n}(\\mathbb{1} - 2|1\\rangle\\langle 1|) X^{\\otimes n}H^{\\otimes n} \\\\\n",
    "&= \\mathbb{1} - 2|s\\rangle\\langle s| \\\\\n",
    "&= -U_s\n",
    "\\end{aligned}\n",
    "$$\n",
    "\n",
    "The following code cell creates a diffuser from a MCZ gate."
   ]
  },
  {
   "cell_type": "code",
   "execution_count": 2,
   "id": "637d0b31",
   "metadata": {
    "scrolled": true
   },
   "outputs": [
    {
     "data": {
      "image/svg+xml": [
       "<?xml version=\"1.0\" encoding=\"UTF-8\"?><!DOCTYPE svg  PUBLIC '-//W3C//DTD SVG 1.1//EN'  'http://www.w3.org/Graphics/SVG/1.1/DTD/svg11.dtd'><svg width=\"312.85pt\" height=\"172pt\" version=\"1.1\" viewBox=\"0 0 312.85 172\" xmlns=\"http://www.w3.org/2000/svg\" xmlns:xlink=\"http://www.w3.org/1999/xlink\"><defs><style type=\"text/css\">*{stroke-linejoin: round; stroke-linecap: butt}</style></defs><path d=\"m0 172h312.85v-172h-312.85z\" fill=\"#ffffff\"/><path d=\"m64.609 44.283h236.41\" clip-path=\"url(#pf46fdb59be)\" fill=\"none\" stroke=\"#000000\" stroke-linecap=\"square\" stroke-width=\"2\"/><path d=\"m64.609 90.637h236.41\" clip-path=\"url(#pf46fdb59be)\" fill=\"none\" stroke=\"#000000\" stroke-linecap=\"square\" stroke-width=\"2\"/><path d=\"m64.609 136.99h236.41\" clip-path=\"url(#pf46fdb59be)\" fill=\"none\" stroke=\"#000000\" stroke-linecap=\"square\" stroke-width=\"2\"/><path d=\"m182.35 136.99v-92.708\" clip-path=\"url(#pf46fdb59be)\" fill=\"none\" stroke=\"#6929c4\" stroke-linecap=\"square\" stroke-width=\"2\"/><path d=\"m182.35 136.99v-92.708\" clip-path=\"url(#pf46fdb59be)\" fill=\"none\" stroke=\"#6929c4\" stroke-linecap=\"square\" stroke-width=\"2\"/><path d=\"m74.575 59.348h30.13v-30.13h-30.13z\" clip-path=\"url(#pf46fdb59be)\" fill=\"#1192e8\" stroke=\"#1192e8\" stroke-width=\"1.5\"/><path d=\"m74.575 105.7h30.13v-30.13h-30.13z\" clip-path=\"url(#pf46fdb59be)\" fill=\"#1192e8\" stroke=\"#1192e8\" stroke-width=\"1.5\"/><path d=\"m74.575 152.06h30.13v-30.13h-30.13z\" clip-path=\"url(#pf46fdb59be)\" fill=\"#1192e8\" stroke=\"#1192e8\" stroke-width=\"1.5\"/><path d=\"m120.93 59.348h30.13v-30.13h-30.13z\" clip-path=\"url(#pf46fdb59be)\" fill=\"#005d5d\" stroke=\"#005d5d\" stroke-width=\"1.5\"/><path d=\"m120.93 105.7h30.13v-30.13h-30.13z\" clip-path=\"url(#pf46fdb59be)\" fill=\"#005d5d\" stroke=\"#005d5d\" stroke-width=\"1.5\"/><path d=\"m120.93 152.06h30.13v-30.13h-30.13z\" clip-path=\"url(#pf46fdb59be)\" fill=\"#005d5d\" stroke=\"#005d5d\" stroke-width=\"1.5\"/><path d=\"m182.35 48.803c1.1986 0 2.3482-0.4762 3.1958-1.3237 0.84753-0.84753 1.3237-1.9972 1.3237-3.1958 0-1.1986-0.4762-2.3482-1.3237-3.1958-0.84753-0.84753-1.9972-1.3237-3.1958-1.3237s-2.3482 0.4762-3.1958 1.3237c-0.84753 0.84753-1.3237 1.9972-1.3237 3.1958 0 1.1986 0.4762 2.3482 1.3237 3.1958 0.84753 0.84753 1.9972 1.3237 3.1958 1.3237z\" clip-path=\"url(#pf46fdb59be)\" fill=\"#6929c4\" stroke=\"#6929c4\" stroke-width=\"1.5\"/><path d=\"m182.35 95.157c1.1986 0 2.3482-0.4762 3.1958-1.3237 0.84753-0.84753 1.3237-1.9972 1.3237-3.1958s-0.4762-2.3482-1.3237-3.1958c-0.84753-0.84753-1.9972-1.3237-3.1958-1.3237s-2.3482 0.4762-3.1958 1.3237c-0.84753 0.84753-1.3237 1.9972-1.3237 3.1958s0.4762 2.3482 1.3237 3.1958c0.84753 0.84753 1.9972 1.3237 3.1958 1.3237z\" clip-path=\"url(#pf46fdb59be)\" fill=\"#6929c4\" stroke=\"#6929c4\" stroke-width=\"1.5\"/><path d=\"m182.35 141.51c1.1986 0 2.3482-0.4762 3.1958-1.3237 0.84753-0.84753 1.3237-1.9972 1.3237-3.1958 0-1.1986-0.4762-2.3482-1.3237-3.1958-0.84753-0.84753-1.9972-1.3237-3.1958-1.3237s-2.3482 0.4762-3.1958 1.3237c-0.84753 0.84753-1.3237 1.9972-1.3237 3.1958 0 1.1986 0.4762 2.3482 1.3237 3.1958 0.84753 0.84753 1.9972 1.3237 3.1958 1.3237z\" clip-path=\"url(#pf46fdb59be)\" fill=\"#6929c4\" stroke=\"#6929c4\" stroke-width=\"1.5\"/><path d=\"m213.64 59.348h30.13v-30.13h-30.13z\" clip-path=\"url(#pf46fdb59be)\" fill=\"#005d5d\" stroke=\"#005d5d\" stroke-width=\"1.5\"/><path d=\"m213.64 105.7h30.13v-30.13h-30.13z\" clip-path=\"url(#pf46fdb59be)\" fill=\"#005d5d\" stroke=\"#005d5d\" stroke-width=\"1.5\"/><path d=\"m213.64 152.06h30.13v-30.13h-30.13z\" clip-path=\"url(#pf46fdb59be)\" fill=\"#005d5d\" stroke=\"#005d5d\" stroke-width=\"1.5\"/><path d=\"m259.99 59.348h30.13v-30.13h-30.13z\" clip-path=\"url(#pf46fdb59be)\" fill=\"#1192e8\" stroke=\"#1192e8\" stroke-width=\"1.5\"/><path d=\"m259.99 105.7h30.13v-30.13h-30.13z\" clip-path=\"url(#pf46fdb59be)\" fill=\"#1192e8\" stroke=\"#1192e8\" stroke-width=\"1.5\"/><path d=\"m259.99 152.06h30.13v-30.13h-30.13z\" clip-path=\"url(#pf46fdb59be)\" fill=\"#1192e8\" stroke=\"#1192e8\" stroke-width=\"1.5\"/><g clip-path=\"url(#pf46fdb59be)\"><g transform=\"translate(37.301 48.734) scale(.1625 -.1625)\"><defs><path id=\"DejaVuSans-Oblique-71\" transform=\"scale(.015625)\" d=\"m2669 525q-231-303-546-460-314-156-695-156-531 0-833 358-301 358-301 986 0 506 186 978t533 847q225 244 517 375t614 131q387 0 637-153t363-462l100 525h578l-934-4813h-579l360 1844zm-1778 813q0-463 193-705 194-242 560-242 544 0 928 520t384 1264q0 450-199 689-198 239-569 239-272 0-504-127-231-126-403-370-181-256-286-600-104-343-104-668z\"/><path id=\"DejaVuSans-30\" transform=\"scale(.015625)\" d=\"m2034 4250q-487 0-733-480-245-479-245-1442 0-959 245-1439 246-480 733-480 491 0 736 480 246 480 246 1439 0 963-246 1442-245 480-736 480zm0 500q785 0 1199-621 414-620 414-1801 0-1178-414-1799-414-620-1199-620-784 0-1198 620-414 621-414 1799 0 1181 414 1801 414 621 1198 621z\"/></defs><use xlink:href=\"#DejaVuSans-Oblique-71\"/><use transform=\"translate(63.477 -16.406) scale(.7)\" xlink:href=\"#DejaVuSans-30\"/></g></g><g clip-path=\"url(#pf46fdb59be)\"><g transform=\"translate(37.301 95.088) scale(.1625 -.1625)\"><defs><path id=\"DejaVuSans-31\" transform=\"scale(.015625)\" d=\"m794 531h1031v3560l-1122-225v575l1116 225h631v-4135h1031v-531h-2687v531z\"/></defs><use xlink:href=\"#DejaVuSans-Oblique-71\"/><use transform=\"translate(63.477 -16.406) scale(.7)\" xlink:href=\"#DejaVuSans-31\"/></g></g><g clip-path=\"url(#pf46fdb59be)\"><g transform=\"translate(37.301 141.44) scale(.1625 -.1625)\"><defs><path id=\"DejaVuSans-32\" transform=\"scale(.015625)\" d=\"m1228 531h2203v-531h-2962v531q359 372 979 998 621 627 780 809 303 340 423 576 121 236 121 464 0 372-261 606-261 235-680 235-297 0-627-103-329-103-704-313v638q381 153 712 231 332 78 607 78 725 0 1156-363 431-362 431-968 0-288-108-546-107-257-392-607-78-91-497-524-418-433-1181-1211z\"/></defs><use xlink:href=\"#DejaVuSans-Oblique-71\"/><use transform=\"translate(63.477 -16.406) scale(.7)\" xlink:href=\"#DejaVuSans-32\"/></g></g><g clip-path=\"url(#pf46fdb59be)\"><g transform=\"translate(84.752 47.87) scale(.13 -.13)\" fill=\"#ffffff\"><defs><path id=\"DejaVuSans-48\" transform=\"scale(.015625)\" d=\"m628 4666h631v-1913h2294v1913h631v-4666h-631v2222h-2294v-2222h-631v4666z\"/></defs><use xlink:href=\"#DejaVuSans-48\"/></g></g><g clip-path=\"url(#pf46fdb59be)\"><g transform=\"translate(84.752 94.224) scale(.13 -.13)\" fill=\"#ffffff\"><use xlink:href=\"#DejaVuSans-48\"/></g></g><g clip-path=\"url(#pf46fdb59be)\"><g transform=\"translate(84.752 140.58) scale(.13 -.13)\" fill=\"#ffffff\"><use xlink:href=\"#DejaVuSans-48\"/></g></g><g clip-path=\"url(#pf46fdb59be)\"><g transform=\"translate(131.54 47.87) scale(.13 -.13)\" fill=\"#ffffff\"><defs><path id=\"DejaVuSans-58\" transform=\"scale(.015625)\" d=\"m403 4666h678l1160-1735 1165 1735h678l-1500-2241 1600-2425h-678l-1312 1984-1322-1984h-681l1665 2491-1453 2175z\"/></defs><use xlink:href=\"#DejaVuSans-58\"/></g></g><g clip-path=\"url(#pf46fdb59be)\"><g transform=\"translate(131.54 94.224) scale(.13 -.13)\" fill=\"#ffffff\"><use xlink:href=\"#DejaVuSans-58\"/></g></g><g clip-path=\"url(#pf46fdb59be)\"><g transform=\"translate(131.54 140.58) scale(.13 -.13)\" fill=\"#ffffff\"><use xlink:href=\"#DejaVuSans-58\"/></g></g><g clip-path=\"url(#pf46fdb59be)\"><g transform=\"translate(187.91 112.94) scale(.08 -.08)\"><defs><path id=\"DejaVuSans-50\" transform=\"scale(.015625)\" d=\"m1259 4147v-1753h794q441 0 681 228 241 228 241 650 0 419-241 647-240 228-681 228h-794zm-631 519h1425q785 0 1186-355 402-355 402-1039 0-691-402-1044-401-353-1186-353h-794v-1875h-631v4666z\"/><path id=\"DejaVuSans-28\" transform=\"scale(.015625)\" d=\"m1984 4856q-418-718-622-1422-203-703-203-1425 0-721 205-1429t620-1424h-500q-468 735-701 1444t-233 1409q0 697 231 1403 232 707 703 1444h500z\"/><path id=\"DejaVuSans-Oblique-3c0\" transform=\"scale(.015625)\" d=\"m584 3500h3354l-113-575h-441l-418-2150q-44-225 15-325 57-97 228-97 47 0 116 10 72 6 94 9l-81-416q-116-40-235-59-122-19-237-19-375 0-478 203-104 207 3 757l406 2087h-1291l-568-2925h-588l569 2925h-447l112 575z\"/><path id=\"DejaVuSans-29\" transform=\"scale(.015625)\" d=\"m513 4856h500q468-737 701-1444 233-706 233-1403 0-700-233-1409t-701-1444h-500q415 716 620 1424t205 1429q0 722-205 1425-205 704-620 1422z\"/></defs><use transform=\"translate(0 .125)\" xlink:href=\"#DejaVuSans-50\"/><use transform=\"translate(60.303 .125)\" xlink:href=\"#DejaVuSans-20\"/><use transform=\"translate(92.09 .125)\" xlink:href=\"#DejaVuSans-28\"/><use transform=\"translate(131.1 .125)\" xlink:href=\"#DejaVuSans-Oblique-3c0\"/><use transform=\"translate(191.31 .125)\" xlink:href=\"#DejaVuSans-29\"/></g></g><g clip-path=\"url(#pf46fdb59be)\"><g transform=\"translate(224.25 47.87) scale(.13 -.13)\" fill=\"#ffffff\"><use xlink:href=\"#DejaVuSans-58\"/></g></g><g clip-path=\"url(#pf46fdb59be)\"><g transform=\"translate(224.25 94.224) scale(.13 -.13)\" fill=\"#ffffff\"><use xlink:href=\"#DejaVuSans-58\"/></g></g><g clip-path=\"url(#pf46fdb59be)\"><g transform=\"translate(224.25 140.58) scale(.13 -.13)\" fill=\"#ffffff\"><use xlink:href=\"#DejaVuSans-58\"/></g></g><g clip-path=\"url(#pf46fdb59be)\"><g transform=\"translate(270.17 47.87) scale(.13 -.13)\" fill=\"#ffffff\"><use xlink:href=\"#DejaVuSans-48\"/></g></g><g clip-path=\"url(#pf46fdb59be)\"><g transform=\"translate(270.17 94.224) scale(.13 -.13)\" fill=\"#ffffff\"><use xlink:href=\"#DejaVuSans-48\"/></g></g><g clip-path=\"url(#pf46fdb59be)\"><g transform=\"translate(270.17 140.58) scale(.13 -.13)\" fill=\"#ffffff\"><use xlink:href=\"#DejaVuSans-48\"/></g></g><defs><clipPath id=\"pf46fdb59be\"><rect x=\"7.2\" y=\"7.2\" width=\"298.45\" height=\"157.6\"/></clipPath></defs></svg>"
      ],
      "text/plain": [
       "<Figure size 538.33x284.278 with 1 Axes>"
      ]
     },
     "execution_count": 2,
     "metadata": {},
     "output_type": "execute_result"
    }
   ],
   "source": [
    "from qiskit import QuantumCircuit\n",
    "from numpy import pi\n",
    "\n",
    "\n",
    "def get_diffuser(num_qubits):\n",
    "    \"\"\"Creates a diffuser circuit for Grover's algorithm.\n",
    "    Args:\n",
    "        num_qubits (int): the number of qubits the diffuser should act on\n",
    "    Returns:\n",
    "        QuantumCircuit that implements the diffuser operation\n",
    "    \"\"\"\n",
    "    qc = QuantumCircuit(num_qubits, name=\"Diffuser\")\n",
    "    qc.h(range(num_qubits))\n",
    "    qc.x(range(num_qubits))\n",
    "    qc.mcp(  # multi-controlled-phase gate\n",
    "        pi,  # rotation angle (equivalent to Z-gate)\n",
    "        list(range(num_qubits - 1)),  # control qubits\n",
    "        [num_qubits - 1],  # target qubit\n",
    "    )\n",
    "    qc.x(range(num_qubits))\n",
    "    qc.h(range(num_qubits))\n",
    "    return qc\n",
    "\n",
    "\n",
    "get_diffuser(3).draw()"
   ]
  },
  {
   "cell_type": "markdown",
   "id": "8dff5476",
   "metadata": {},
   "source": [
    "### Full algorithm\n",
    "\n",
    "The following code defines a circuit for Grover's algorithm using the oracle and diffuser defined earlier."
   ]
  },
  {
   "cell_type": "code",
   "execution_count": 3,
   "id": "8cba1571",
   "metadata": {
    "scrolled": false
   },
   "outputs": [
    {
     "data": {
      "image/svg+xml": [
       "<?xml version=\"1.0\" encoding=\"UTF-8\"?><!DOCTYPE svg  PUBLIC '-//W3C//DTD SVG 1.1//EN'  'http://www.w3.org/Graphics/SVG/1.1/DTD/svg11.dtd'><svg width=\"683.68pt\" height=\"218.36pt\" version=\"1.1\" viewBox=\"0 0 683.68 218.36\" xmlns=\"http://www.w3.org/2000/svg\" xmlns:xlink=\"http://www.w3.org/1999/xlink\"><defs><style type=\"text/css\">*{stroke-linejoin: round; stroke-linecap: butt}</style></defs><path d=\"m0 218.36h683.68v-218.36h-683.68z\" fill=\"#ffffff\"/><path d=\"m64.609 44.283h607.24\" clip-path=\"url(#p685b3866b9)\" fill=\"none\" stroke=\"#000000\" stroke-linecap=\"square\" stroke-width=\"2\"/><path d=\"m64.609 90.637h607.24\" clip-path=\"url(#p685b3866b9)\" fill=\"none\" stroke=\"#000000\" stroke-linecap=\"square\" stroke-width=\"2\"/><path d=\"m64.609 136.99h607.24\" clip-path=\"url(#p685b3866b9)\" fill=\"none\" stroke=\"#000000\" stroke-linecap=\"square\" stroke-width=\"2\"/><path d=\"m64.609 183.35h607.24\" clip-path=\"url(#p685b3866b9)\" fill=\"none\" stroke=\"#000000\" stroke-linecap=\"square\" stroke-width=\"2\"/><path d=\"m74.575 59.348h30.13v-30.13h-30.13z\" clip-path=\"url(#p685b3866b9)\" fill=\"#1192e8\" stroke=\"#1192e8\" stroke-width=\"1.5\"/><path d=\"m74.575 105.7h30.13v-30.13h-30.13z\" clip-path=\"url(#p685b3866b9)\" fill=\"#1192e8\" stroke=\"#1192e8\" stroke-width=\"1.5\"/><path d=\"m74.575 152.06h30.13v-30.13h-30.13z\" clip-path=\"url(#p685b3866b9)\" fill=\"#1192e8\" stroke=\"#1192e8\" stroke-width=\"1.5\"/><path d=\"m74.575 198.41h30.13v-30.13h-30.13z\" clip-path=\"url(#p685b3866b9)\" fill=\"#1192e8\" stroke=\"#1192e8\" stroke-width=\"1.5\"/><path d=\"m131.56 198.41h55.217v-169.19h-55.217z\" clip-path=\"url(#p685b3866b9)\" fill=\"#6929c4\" stroke=\"#6929c4\" stroke-width=\"1.5\"/><path d=\"m219.64 198.41h64.488v-169.19h-64.488z\" clip-path=\"url(#p685b3866b9)\" fill=\"#6929c4\" stroke=\"#6929c4\" stroke-width=\"1.5\"/><path d=\"m316.98 198.41h55.217v-169.19h-55.217z\" clip-path=\"url(#p685b3866b9)\" fill=\"#6929c4\" stroke=\"#6929c4\" stroke-width=\"1.5\"/><path d=\"m405.05 198.41h64.488v-169.19h-64.488z\" clip-path=\"url(#p685b3866b9)\" fill=\"#6929c4\" stroke=\"#6929c4\" stroke-width=\"1.5\"/><path d=\"m502.39 198.41h55.217v-169.19h-55.217z\" clip-path=\"url(#p685b3866b9)\" fill=\"#6929c4\" stroke=\"#6929c4\" stroke-width=\"1.5\"/><path d=\"m590.47 198.41h64.488v-169.19h-64.488z\" clip-path=\"url(#p685b3866b9)\" fill=\"#6929c4\" stroke=\"#6929c4\" stroke-width=\"1.5\"/><g clip-path=\"url(#p685b3866b9)\"><g transform=\"translate(37.301 48.734) scale(.1625 -.1625)\"><defs><path id=\"DejaVuSans-Oblique-71\" transform=\"scale(.015625)\" d=\"m2669 525q-231-303-546-460-314-156-695-156-531 0-833 358-301 358-301 986 0 506 186 978t533 847q225 244 517 375t614 131q387 0 637-153t363-462l100 525h578l-934-4813h-579l360 1844zm-1778 813q0-463 193-705 194-242 560-242 544 0 928 520t384 1264q0 450-199 689-198 239-569 239-272 0-504-127-231-126-403-370-181-256-286-600-104-343-104-668z\"/><path id=\"DejaVuSans-30\" transform=\"scale(.015625)\" d=\"m2034 4250q-487 0-733-480-245-479-245-1442 0-959 245-1439 246-480 733-480 491 0 736 480 246 480 246 1439 0 963-246 1442-245 480-736 480zm0 500q785 0 1199-621 414-620 414-1801 0-1178-414-1799-414-620-1199-620-784 0-1198 620-414 621-414 1799 0 1181 414 1801 414 621 1198 621z\"/></defs><use xlink:href=\"#DejaVuSans-Oblique-71\"/><use transform=\"translate(63.477 -16.406) scale(.7)\" xlink:href=\"#DejaVuSans-30\"/></g></g><g clip-path=\"url(#p685b3866b9)\"><g transform=\"translate(37.301 95.088) scale(.1625 -.1625)\"><defs><path id=\"DejaVuSans-31\" transform=\"scale(.015625)\" d=\"m794 531h1031v3560l-1122-225v575l1116 225h631v-4135h1031v-531h-2687v531z\"/></defs><use xlink:href=\"#DejaVuSans-Oblique-71\"/><use transform=\"translate(63.477 -16.406) scale(.7)\" xlink:href=\"#DejaVuSans-31\"/></g></g><g clip-path=\"url(#p685b3866b9)\"><g transform=\"translate(37.301 141.44) scale(.1625 -.1625)\"><defs><path id=\"DejaVuSans-32\" transform=\"scale(.015625)\" d=\"m1228 531h2203v-531h-2962v531q359 372 979 998 621 627 780 809 303 340 423 576 121 236 121 464 0 372-261 606-261 235-680 235-297 0-627-103-329-103-704-313v638q381 153 712 231 332 78 607 78 725 0 1156-363 431-362 431-968 0-288-108-546-107-257-392-607-78-91-497-524-418-433-1181-1211z\"/></defs><use xlink:href=\"#DejaVuSans-Oblique-71\"/><use transform=\"translate(63.477 -16.406) scale(.7)\" xlink:href=\"#DejaVuSans-32\"/></g></g><g clip-path=\"url(#p685b3866b9)\"><g transform=\"translate(37.301 187.8) scale(.1625 -.1625)\"><defs><path id=\"DejaVuSans-33\" transform=\"scale(.015625)\" d=\"m2597 2516q453-97 707-404 255-306 255-756 0-690-475-1069-475-378-1350-378-293 0-604 58t-642 174v609q262-153 574-231 313-78 654-78 593 0 904 234t311 681q0 413-289 645-289 233-804 233h-544v519h569q465 0 712 186t247 536q0 359-255 551-254 193-729 193-260 0-557-57-297-56-653-174v562q360 100 674 150t592 50q719 0 1137-327 419-326 419-882 0-388-222-655t-631-370z\"/></defs><use xlink:href=\"#DejaVuSans-Oblique-71\"/><use transform=\"translate(63.477 -16.406) scale(.7)\" xlink:href=\"#DejaVuSans-33\"/></g></g><g clip-path=\"url(#p685b3866b9)\"><g transform=\"translate(84.752 47.87) scale(.13 -.13)\" fill=\"#ffffff\"><defs><path id=\"DejaVuSans-48\" transform=\"scale(.015625)\" d=\"m628 4666h631v-1913h2294v1913h631v-4666h-631v2222h-2294v-2222h-631v4666z\"/></defs><use xlink:href=\"#DejaVuSans-48\"/></g></g><g clip-path=\"url(#p685b3866b9)\"><g transform=\"translate(84.752 94.224) scale(.13 -.13)\" fill=\"#ffffff\"><use xlink:href=\"#DejaVuSans-48\"/></g></g><g clip-path=\"url(#p685b3866b9)\"><g transform=\"translate(84.752 140.58) scale(.13 -.13)\" fill=\"#ffffff\"><use xlink:href=\"#DejaVuSans-48\"/></g></g><g clip-path=\"url(#p685b3866b9)\"><g transform=\"translate(84.752 186.93) scale(.13 -.13)\" fill=\"#ffffff\"><use xlink:href=\"#DejaVuSans-48\"/></g></g><g clip-path=\"url(#p685b3866b9)\"><g transform=\"translate(134.81 47.87) scale(.13 -.13)\" fill=\"#ffffff\"><use xlink:href=\"#DejaVuSans-30\"/></g></g><g clip-path=\"url(#p685b3866b9)\"><g transform=\"translate(134.81 94.224) scale(.13 -.13)\" fill=\"#ffffff\"><use xlink:href=\"#DejaVuSans-31\"/></g></g><g clip-path=\"url(#p685b3866b9)\"><g transform=\"translate(134.81 140.58) scale(.13 -.13)\" fill=\"#ffffff\"><use xlink:href=\"#DejaVuSans-32\"/></g></g><g clip-path=\"url(#p685b3866b9)\"><g transform=\"translate(134.81 186.93) scale(.13 -.13)\" fill=\"#ffffff\"><use xlink:href=\"#DejaVuSans-33\"/></g></g><g clip-path=\"url(#p685b3866b9)\"><g transform=\"translate(143.12 117.4) scale(.13 -.13)\" fill=\"#ffffff\"><defs><path id=\"DejaVuSans-4f\" transform=\"scale(.015625)\" d=\"m2522 4238q-688 0-1093-513-404-512-404-1397 0-881 404-1394 405-512 1093-512 687 0 1089 512 402 513 402 1394 0 885-402 1397-402 513-1089 513zm0 512q981 0 1568-658 588-658 588-1764 0-1103-588-1761-587-658-1568-658-984 0-1574 656-589 657-589 1763t589 1764q590 658 1574 658z\"/><path id=\"DejaVuSans-72\" transform=\"scale(.015625)\" d=\"m2631 2963q-97 56-211 82-114 27-251 27-488 0-749-317t-261-911v-1844h-578v3500h578v-544q182 319 472 473 291 155 707 155 59 0 131-8 72-7 159-23l3-590z\"/><path id=\"DejaVuSans-61\" transform=\"scale(.015625)\" d=\"m2194 1759q-697 0-966-159t-269-544q0-306 202-486 202-179 548-179 479 0 768 339t289 901v128h-572zm1147 238v-1997h-575v531q-197-318-491-470t-719-152q-537 0-855 302-317 302-317 808 0 590 395 890 396 300 1180 300h807v57q0 397-261 614t-733 217q-300 0-585-72-284-72-546-216v532q315 122 612 182 297 61 578 61 760 0 1135-394 375-393 375-1193z\"/><path id=\"DejaVuSans-63\" transform=\"scale(.015625)\" d=\"m3122 3366v-538q-244 135-489 202t-495 67q-560 0-870-355-309-354-309-995t309-996q310-354 870-354 250 0 495 67t489 202v-532q-241-112-499-168-257-57-548-57-791 0-1257 497-465 497-465 1341 0 856 470 1346 471 491 1290 491 265 0 518-55 253-54 491-163z\"/><path id=\"DejaVuSans-6c\" transform=\"scale(.015625)\" d=\"m603 4863h575v-4863h-575v4863z\"/><path id=\"DejaVuSans-65\" transform=\"scale(.015625)\" d=\"m3597 1894v-281h-2644q38-594 358-905t892-311q331 0 642 81t618 244v-544q-310-131-635-200t-659-69q-838 0-1327 487-489 488-489 1320 0 859 464 1363 464 505 1252 505 706 0 1117-455 411-454 411-1235zm-575 169q-6 471-264 752-258 282-683 282-481 0-770-272t-333-766l2050 4z\"/></defs><use xlink:href=\"#DejaVuSans-4f\"/><use x=\"78.710938\" xlink:href=\"#DejaVuSans-72\"/><use x=\"119.824219\" xlink:href=\"#DejaVuSans-61\"/><use x=\"181.103516\" xlink:href=\"#DejaVuSans-63\"/><use x=\"236.083984\" xlink:href=\"#DejaVuSans-6c\"/><use x=\"263.867188\" xlink:href=\"#DejaVuSans-65\"/></g></g><g clip-path=\"url(#p685b3866b9)\"><g transform=\"translate(222.88 47.87) scale(.13 -.13)\" fill=\"#ffffff\"><use xlink:href=\"#DejaVuSans-30\"/></g></g><g clip-path=\"url(#p685b3866b9)\"><g transform=\"translate(222.88 94.224) scale(.13 -.13)\" fill=\"#ffffff\"><use xlink:href=\"#DejaVuSans-31\"/></g></g><g clip-path=\"url(#p685b3866b9)\"><g transform=\"translate(222.88 140.58) scale(.13 -.13)\" fill=\"#ffffff\"><use xlink:href=\"#DejaVuSans-32\"/></g></g><g clip-path=\"url(#p685b3866b9)\"><g transform=\"translate(222.88 186.93) scale(.13 -.13)\" fill=\"#ffffff\"><use xlink:href=\"#DejaVuSans-33\"/></g></g><g clip-path=\"url(#p685b3866b9)\"><g transform=\"translate(231.41 117.4) scale(.13 -.13)\" fill=\"#ffffff\"><defs><path id=\"DejaVuSans-44\" transform=\"scale(.015625)\" d=\"m1259 4147v-3628h763q966 0 1414 437 448 438 448 1382 0 937-448 1373t-1414 436h-763zm-631 519h1297q1356 0 1990-564 635-564 635-1764 0-1207-638-1773-637-565-1987-565h-1297v4666z\"/><path id=\"DejaVuSans-69\" transform=\"scale(.015625)\" d=\"m603 3500h575v-3500h-575v3500zm0 1363h575v-729h-575v729z\"/><path id=\"DejaVuSans-66\" transform=\"scale(.015625)\" d=\"m2375 4863v-479h-550q-309 0-430-125-120-125-120-450v-309h947v-447h-947v-3053h-578v3053h-550v447h550v244q0 584 272 851 272 268 862 268h544z\"/><path id=\"DejaVuSans-75\" transform=\"scale(.015625)\" d=\"m544 1381v2119h575v-2097q0-497 193-746 194-248 582-248 465 0 735 297 271 297 271 810v1984h575v-3500h-575v538q-209-319-486-474-276-155-642-155-603 0-916 375-312 375-312 1097zm1447 2203z\"/><path id=\"DejaVuSans-73\" transform=\"scale(.015625)\" d=\"m2834 3397v-544q-243 125-506 187-262 63-544 63-428 0-642-131t-214-394q0-200 153-314t616-217l197-44q612-131 870-370t258-667q0-488-386-773-386-284-1061-284-281 0-586 55t-642 164v594q319-166 628-249 309-82 613-82 406 0 624 139 219 139 219 392 0 234-158 359-157 125-692 241l-200 47q-534 112-772 345-237 233-237 639 0 494 350 762 350 269 994 269 318 0 599-47 282-46 519-140z\"/></defs><use xlink:href=\"#DejaVuSans-44\"/><use x=\"77.001953\" xlink:href=\"#DejaVuSans-69\"/><use x=\"104.785156\" xlink:href=\"#DejaVuSans-66\"/><use x=\"139.990234\" xlink:href=\"#DejaVuSans-66\"/><use x=\"175.195312\" xlink:href=\"#DejaVuSans-75\"/><use x=\"238.574219\" xlink:href=\"#DejaVuSans-73\"/><use x=\"290.673828\" xlink:href=\"#DejaVuSans-65\"/><use x=\"352.197266\" xlink:href=\"#DejaVuSans-72\"/></g></g><g clip-path=\"url(#p685b3866b9)\"><g transform=\"translate(320.22 47.87) scale(.13 -.13)\" fill=\"#ffffff\"><use xlink:href=\"#DejaVuSans-30\"/></g></g><g clip-path=\"url(#p685b3866b9)\"><g transform=\"translate(320.22 94.224) scale(.13 -.13)\" fill=\"#ffffff\"><use xlink:href=\"#DejaVuSans-31\"/></g></g><g clip-path=\"url(#p685b3866b9)\"><g transform=\"translate(320.22 140.58) scale(.13 -.13)\" fill=\"#ffffff\"><use xlink:href=\"#DejaVuSans-32\"/></g></g><g clip-path=\"url(#p685b3866b9)\"><g transform=\"translate(320.22 186.93) scale(.13 -.13)\" fill=\"#ffffff\"><use xlink:href=\"#DejaVuSans-33\"/></g></g><g clip-path=\"url(#p685b3866b9)\"><g transform=\"translate(328.53 117.4) scale(.13 -.13)\" fill=\"#ffffff\"><use xlink:href=\"#DejaVuSans-4f\"/><use x=\"78.710938\" xlink:href=\"#DejaVuSans-72\"/><use x=\"119.824219\" xlink:href=\"#DejaVuSans-61\"/><use x=\"181.103516\" xlink:href=\"#DejaVuSans-63\"/><use x=\"236.083984\" xlink:href=\"#DejaVuSans-6c\"/><use x=\"263.867188\" xlink:href=\"#DejaVuSans-65\"/></g></g><g clip-path=\"url(#p685b3866b9)\"><g transform=\"translate(408.3 47.87) scale(.13 -.13)\" fill=\"#ffffff\"><use xlink:href=\"#DejaVuSans-30\"/></g></g><g clip-path=\"url(#p685b3866b9)\"><g transform=\"translate(408.3 94.224) scale(.13 -.13)\" fill=\"#ffffff\"><use xlink:href=\"#DejaVuSans-31\"/></g></g><g clip-path=\"url(#p685b3866b9)\"><g transform=\"translate(408.3 140.58) scale(.13 -.13)\" fill=\"#ffffff\"><use xlink:href=\"#DejaVuSans-32\"/></g></g><g clip-path=\"url(#p685b3866b9)\"><g transform=\"translate(408.3 186.93) scale(.13 -.13)\" fill=\"#ffffff\"><use xlink:href=\"#DejaVuSans-33\"/></g></g><g clip-path=\"url(#p685b3866b9)\"><g transform=\"translate(416.83 117.4) scale(.13 -.13)\" fill=\"#ffffff\"><use xlink:href=\"#DejaVuSans-44\"/><use x=\"77.001953\" xlink:href=\"#DejaVuSans-69\"/><use x=\"104.785156\" xlink:href=\"#DejaVuSans-66\"/><use x=\"139.990234\" xlink:href=\"#DejaVuSans-66\"/><use x=\"175.195312\" xlink:href=\"#DejaVuSans-75\"/><use x=\"238.574219\" xlink:href=\"#DejaVuSans-73\"/><use x=\"290.673828\" xlink:href=\"#DejaVuSans-65\"/><use x=\"352.197266\" xlink:href=\"#DejaVuSans-72\"/></g></g><g clip-path=\"url(#p685b3866b9)\"><g transform=\"translate(505.64 47.87) scale(.13 -.13)\" fill=\"#ffffff\"><use xlink:href=\"#DejaVuSans-30\"/></g></g><g clip-path=\"url(#p685b3866b9)\"><g transform=\"translate(505.64 94.224) scale(.13 -.13)\" fill=\"#ffffff\"><use xlink:href=\"#DejaVuSans-31\"/></g></g><g clip-path=\"url(#p685b3866b9)\"><g transform=\"translate(505.64 140.58) scale(.13 -.13)\" fill=\"#ffffff\"><use xlink:href=\"#DejaVuSans-32\"/></g></g><g clip-path=\"url(#p685b3866b9)\"><g transform=\"translate(505.64 186.93) scale(.13 -.13)\" fill=\"#ffffff\"><use xlink:href=\"#DejaVuSans-33\"/></g></g><g clip-path=\"url(#p685b3866b9)\"><g transform=\"translate(513.95 117.4) scale(.13 -.13)\" fill=\"#ffffff\"><use xlink:href=\"#DejaVuSans-4f\"/><use x=\"78.710938\" xlink:href=\"#DejaVuSans-72\"/><use x=\"119.824219\" xlink:href=\"#DejaVuSans-61\"/><use x=\"181.103516\" xlink:href=\"#DejaVuSans-63\"/><use x=\"236.083984\" xlink:href=\"#DejaVuSans-6c\"/><use x=\"263.867188\" xlink:href=\"#DejaVuSans-65\"/></g></g><g clip-path=\"url(#p685b3866b9)\"><g transform=\"translate(593.71 47.87) scale(.13 -.13)\" fill=\"#ffffff\"><use xlink:href=\"#DejaVuSans-30\"/></g></g><g clip-path=\"url(#p685b3866b9)\"><g transform=\"translate(593.71 94.224) scale(.13 -.13)\" fill=\"#ffffff\"><use xlink:href=\"#DejaVuSans-31\"/></g></g><g clip-path=\"url(#p685b3866b9)\"><g transform=\"translate(593.71 140.58) scale(.13 -.13)\" fill=\"#ffffff\"><use xlink:href=\"#DejaVuSans-32\"/></g></g><g clip-path=\"url(#p685b3866b9)\"><g transform=\"translate(593.71 186.93) scale(.13 -.13)\" fill=\"#ffffff\"><use xlink:href=\"#DejaVuSans-33\"/></g></g><g clip-path=\"url(#p685b3866b9)\"><g transform=\"translate(602.25 117.4) scale(.13 -.13)\" fill=\"#ffffff\"><use xlink:href=\"#DejaVuSans-44\"/><use x=\"77.001953\" xlink:href=\"#DejaVuSans-69\"/><use x=\"104.785156\" xlink:href=\"#DejaVuSans-66\"/><use x=\"139.990234\" xlink:href=\"#DejaVuSans-66\"/><use x=\"175.195312\" xlink:href=\"#DejaVuSans-75\"/><use x=\"238.574219\" xlink:href=\"#DejaVuSans-73\"/><use x=\"290.673828\" xlink:href=\"#DejaVuSans-65\"/><use x=\"352.197266\" xlink:href=\"#DejaVuSans-72\"/></g></g><defs><clipPath id=\"p685b3866b9\"><rect x=\"7.2\" y=\"7.2\" width=\"669.28\" height=\"203.96\"/></clipPath></defs></svg>"
      ],
      "text/plain": [
       "<Figure size 1207.22x367.889 with 1 Axes>"
      ]
     },
     "execution_count": 3,
     "metadata": {},
     "output_type": "execute_result"
    }
   ],
   "source": [
    "from qiskit import QuantumCircuit\n",
    "\n",
    "NUM_ITERATIONS = 3\n",
    "\n",
    "qc = QuantumCircuit(NUM_QUBITS)\n",
    "qc.h(range(NUM_QUBITS))\n",
    "for i in range(NUM_ITERATIONS):\n",
    "    qc.unitary(oracle, range(NUM_QUBITS), label=\"Oracle\")\n",
    "    qc.append(get_diffuser(NUM_QUBITS), range(NUM_QUBITS))\n",
    "\n",
    "qc.draw()"
   ]
  },
  {
   "cell_type": "markdown",
   "id": "c8ac70c5",
   "metadata": {},
   "source": [
    "The next code cell uses Qiskit's `Statevector` class to simulate the results of running this circuit 1024 times."
   ]
  },
  {
   "cell_type": "code",
   "execution_count": 6,
   "id": "324bb0e8",
   "metadata": {
    "scrolled": false
   },
   "outputs": [
    {
     "data": {
      "image/svg+xml": [
       "<?xml version=\"1.0\" encoding=\"UTF-8\"?><!DOCTYPE svg  PUBLIC '-//W3C//DTD SVG 1.1//EN'  'http://www.w3.org/Graphics/SVG/1.1/DTD/svg11.dtd'><svg width=\"465.18pt\" height=\"336.72pt\" version=\"1.1\" viewBox=\"0 0 465.18 336.72\" xmlns=\"http://www.w3.org/2000/svg\" xmlns:xlink=\"http://www.w3.org/1999/xlink\"><defs><style type=\"text/css\">*{stroke-linejoin: round; stroke-linecap: butt}</style></defs><path d=\"m0 336.72h465.18v-336.72h-465.18z\" fill=\"#ffffff\"/><path d=\"m67.379 284.4h390.6v-277.2h-390.6z\" fill=\"#ffffff\"/><defs><path id=\"ma792ebfe59\" d=\"m0 0v3.5\" stroke=\"#343a3f\" stroke-width=\".8\"/></defs><use x=\"90.861193\" y=\"284.4\" fill=\"#343a3f\" stroke=\"#343a3f\" stroke-width=\".8\" xlink:href=\"#ma792ebfe59\"/><g transform=\"translate(88.398 328.52) rotate(-70) scale(.14 -.14)\" fill=\"#343a3f\"><defs><path id=\"DejaVuSans-30\" transform=\"scale(.015625)\" d=\"m2034 4250q-487 0-733-480-245-479-245-1442 0-959 245-1439 246-480 733-480 491 0 736 480 246 480 246 1439 0 963-246 1442-245 480-736 480zm0 500q785 0 1199-621 414-620 414-1801 0-1178-414-1799-414-620-1199-620-784 0-1198 620-414 621-414 1799 0 1181 414 1801 414 621 1198 621z\"/></defs><use xlink:href=\"#DejaVuSans-30\"/><use x=\"63.623047\" xlink:href=\"#DejaVuSans-30\"/><use x=\"127.246094\" xlink:href=\"#DejaVuSans-30\"/><use x=\"190.869141\" xlink:href=\"#DejaVuSans-30\"/></g><use x=\"113.770284\" y=\"284.4\" fill=\"#343a3f\" stroke=\"#343a3f\" stroke-width=\".8\" xlink:href=\"#ma792ebfe59\"/><g transform=\"translate(111.31 328.52) rotate(-70) scale(.14 -.14)\" fill=\"#343a3f\"><defs><path id=\"DejaVuSans-31\" transform=\"scale(.015625)\" d=\"m794 531h1031v3560l-1122-225v575l1116 225h631v-4135h1031v-531h-2687v531z\"/></defs><use xlink:href=\"#DejaVuSans-30\"/><use x=\"63.623047\" xlink:href=\"#DejaVuSans-30\"/><use x=\"127.246094\" xlink:href=\"#DejaVuSans-30\"/><use x=\"190.869141\" xlink:href=\"#DejaVuSans-31\"/></g><use x=\"136.679375\" y=\"284.4\" fill=\"#343a3f\" stroke=\"#343a3f\" stroke-width=\".8\" xlink:href=\"#ma792ebfe59\"/><g transform=\"translate(134.22 328.52) rotate(-70) scale(.14 -.14)\" fill=\"#343a3f\"><use xlink:href=\"#DejaVuSans-30\"/><use x=\"63.623047\" xlink:href=\"#DejaVuSans-30\"/><use x=\"127.246094\" xlink:href=\"#DejaVuSans-31\"/><use x=\"190.869141\" xlink:href=\"#DejaVuSans-30\"/></g><use x=\"159.588466\" y=\"284.4\" fill=\"#343a3f\" stroke=\"#343a3f\" stroke-width=\".8\" xlink:href=\"#ma792ebfe59\"/><g transform=\"translate(157.13 328.52) rotate(-70) scale(.14 -.14)\" fill=\"#343a3f\"><use xlink:href=\"#DejaVuSans-30\"/><use x=\"63.623047\" xlink:href=\"#DejaVuSans-30\"/><use x=\"127.246094\" xlink:href=\"#DejaVuSans-31\"/><use x=\"190.869141\" xlink:href=\"#DejaVuSans-31\"/></g><use x=\"182.497557\" y=\"284.4\" fill=\"#343a3f\" stroke=\"#343a3f\" stroke-width=\".8\" xlink:href=\"#ma792ebfe59\"/><g transform=\"translate(180.03 328.52) rotate(-70) scale(.14 -.14)\" fill=\"#343a3f\"><use xlink:href=\"#DejaVuSans-30\"/><use x=\"63.623047\" xlink:href=\"#DejaVuSans-31\"/><use x=\"127.246094\" xlink:href=\"#DejaVuSans-30\"/><use x=\"190.869141\" xlink:href=\"#DejaVuSans-30\"/></g><use x=\"205.406648\" y=\"284.4\" fill=\"#343a3f\" stroke=\"#343a3f\" stroke-width=\".8\" xlink:href=\"#ma792ebfe59\"/><g transform=\"translate(202.94 328.52) rotate(-70) scale(.14 -.14)\" fill=\"#343a3f\"><use xlink:href=\"#DejaVuSans-30\"/><use x=\"63.623047\" xlink:href=\"#DejaVuSans-31\"/><use x=\"127.246094\" xlink:href=\"#DejaVuSans-30\"/><use x=\"190.869141\" xlink:href=\"#DejaVuSans-31\"/></g><use x=\"228.315739\" y=\"284.4\" fill=\"#343a3f\" stroke=\"#343a3f\" stroke-width=\".8\" xlink:href=\"#ma792ebfe59\"/><g transform=\"translate(225.85 328.52) rotate(-70) scale(.14 -.14)\" fill=\"#343a3f\"><use xlink:href=\"#DejaVuSans-30\"/><use x=\"63.623047\" xlink:href=\"#DejaVuSans-31\"/><use x=\"127.246094\" xlink:href=\"#DejaVuSans-31\"/><use x=\"190.869141\" xlink:href=\"#DejaVuSans-30\"/></g><use x=\"251.22483\" y=\"284.4\" fill=\"#343a3f\" stroke=\"#343a3f\" stroke-width=\".8\" xlink:href=\"#ma792ebfe59\"/><g transform=\"translate(248.76 328.52) rotate(-70) scale(.14 -.14)\" fill=\"#343a3f\"><use xlink:href=\"#DejaVuSans-30\"/><use x=\"63.623047\" xlink:href=\"#DejaVuSans-31\"/><use x=\"127.246094\" xlink:href=\"#DejaVuSans-31\"/><use x=\"190.869141\" xlink:href=\"#DejaVuSans-31\"/></g><use x=\"274.13392\" y=\"284.4\" fill=\"#343a3f\" stroke=\"#343a3f\" stroke-width=\".8\" xlink:href=\"#ma792ebfe59\"/><g transform=\"translate(271.67 328.52) rotate(-70) scale(.14 -.14)\" fill=\"#343a3f\"><use xlink:href=\"#DejaVuSans-31\"/><use x=\"63.623047\" xlink:href=\"#DejaVuSans-30\"/><use x=\"127.246094\" xlink:href=\"#DejaVuSans-30\"/><use x=\"190.869141\" xlink:href=\"#DejaVuSans-30\"/></g><use x=\"297.043011\" y=\"284.4\" fill=\"#343a3f\" stroke=\"#343a3f\" stroke-width=\".8\" xlink:href=\"#ma792ebfe59\"/><g transform=\"translate(294.58 328.52) rotate(-70) scale(.14 -.14)\" fill=\"#343a3f\"><use xlink:href=\"#DejaVuSans-31\"/><use x=\"63.623047\" xlink:href=\"#DejaVuSans-30\"/><use x=\"127.246094\" xlink:href=\"#DejaVuSans-30\"/><use x=\"190.869141\" xlink:href=\"#DejaVuSans-31\"/></g><use x=\"319.952102\" y=\"284.4\" fill=\"#343a3f\" stroke=\"#343a3f\" stroke-width=\".8\" xlink:href=\"#ma792ebfe59\"/><g transform=\"translate(317.49 328.52) rotate(-70) scale(.14 -.14)\" fill=\"#343a3f\"><use xlink:href=\"#DejaVuSans-31\"/><use x=\"63.623047\" xlink:href=\"#DejaVuSans-30\"/><use x=\"127.246094\" xlink:href=\"#DejaVuSans-31\"/><use x=\"190.869141\" xlink:href=\"#DejaVuSans-30\"/></g><use x=\"342.861193\" y=\"284.4\" fill=\"#343a3f\" stroke=\"#343a3f\" stroke-width=\".8\" xlink:href=\"#ma792ebfe59\"/><g transform=\"translate(340.4 328.52) rotate(-70) scale(.14 -.14)\" fill=\"#343a3f\"><use xlink:href=\"#DejaVuSans-31\"/><use x=\"63.623047\" xlink:href=\"#DejaVuSans-30\"/><use x=\"127.246094\" xlink:href=\"#DejaVuSans-31\"/><use x=\"190.869141\" xlink:href=\"#DejaVuSans-31\"/></g><use x=\"365.770284\" y=\"284.4\" fill=\"#343a3f\" stroke=\"#343a3f\" stroke-width=\".8\" xlink:href=\"#ma792ebfe59\"/><g transform=\"translate(363.31 328.52) rotate(-70) scale(.14 -.14)\" fill=\"#343a3f\"><use xlink:href=\"#DejaVuSans-31\"/><use x=\"63.623047\" xlink:href=\"#DejaVuSans-31\"/><use x=\"127.246094\" xlink:href=\"#DejaVuSans-30\"/><use x=\"190.869141\" xlink:href=\"#DejaVuSans-30\"/></g><use x=\"388.679375\" y=\"284.4\" fill=\"#343a3f\" stroke=\"#343a3f\" stroke-width=\".8\" xlink:href=\"#ma792ebfe59\"/><g transform=\"translate(386.22 328.52) rotate(-70) scale(.14 -.14)\" fill=\"#343a3f\"><use xlink:href=\"#DejaVuSans-31\"/><use x=\"63.623047\" xlink:href=\"#DejaVuSans-31\"/><use x=\"127.246094\" xlink:href=\"#DejaVuSans-30\"/><use x=\"190.869141\" xlink:href=\"#DejaVuSans-31\"/></g><use x=\"411.588466\" y=\"284.4\" fill=\"#343a3f\" stroke=\"#343a3f\" stroke-width=\".8\" xlink:href=\"#ma792ebfe59\"/><g transform=\"translate(409.13 328.52) rotate(-70) scale(.14 -.14)\" fill=\"#343a3f\"><use xlink:href=\"#DejaVuSans-31\"/><use x=\"63.623047\" xlink:href=\"#DejaVuSans-31\"/><use x=\"127.246094\" xlink:href=\"#DejaVuSans-31\"/><use x=\"190.869141\" xlink:href=\"#DejaVuSans-30\"/></g><use x=\"434.497557\" y=\"284.4\" fill=\"#343a3f\" stroke=\"#343a3f\" stroke-width=\".8\" xlink:href=\"#ma792ebfe59\"/><g transform=\"translate(432.03 328.52) rotate(-70) scale(.14 -.14)\" fill=\"#343a3f\"><use xlink:href=\"#DejaVuSans-31\"/><use x=\"63.623047\" xlink:href=\"#DejaVuSans-31\"/><use x=\"127.246094\" xlink:href=\"#DejaVuSans-31\"/><use x=\"190.869141\" xlink:href=\"#DejaVuSans-31\"/></g><path d=\"m67.379 284.4h390.6\" clip-path=\"url(#pa9493a756c)\" fill=\"none\" stroke=\"#dde1e6\" stroke-dasharray=\"2.96,1.28\" stroke-width=\".8\"/><defs><path id=\"mcaeefce22f\" d=\"m0 0h-3.5\" stroke=\"#343a3f\" stroke-width=\".8\"/></defs><use x=\"67.379375\" y=\"284.4\" fill=\"#343a3f\" stroke=\"#343a3f\" stroke-width=\".8\" xlink:href=\"#mcaeefce22f\"/><g transform=\"translate(51.472 289.72) scale(.14 -.14)\" fill=\"#343a3f\"><use xlink:href=\"#DejaVuSans-30\"/></g><path d=\"m67.379 219.65h390.6\" clip-path=\"url(#pa9493a756c)\" fill=\"none\" stroke=\"#dde1e6\" stroke-dasharray=\"2.96,1.28\" stroke-width=\".8\"/><use x=\"67.379375\" y=\"219.651799\" fill=\"#343a3f\" stroke=\"#343a3f\" stroke-width=\".8\" xlink:href=\"#mcaeefce22f\"/><g transform=\"translate(33.657 224.97) scale(.14 -.14)\" fill=\"#343a3f\"><defs><path id=\"DejaVuSans-32\" transform=\"scale(.015625)\" d=\"m1228 531h2203v-531h-2962v531q359 372 979 998 621 627 780 809 303 340 423 576 121 236 121 464 0 372-261 606-261 235-680 235-297 0-627-103-329-103-704-313v638q381 153 712 231 332 78 607 78 725 0 1156-363 431-362 431-968 0-288-108-546-107-257-392-607-78-91-497-524-418-433-1181-1211z\"/><path id=\"DejaVuSans-35\" transform=\"scale(.015625)\" d=\"m691 4666h2478v-532h-1900v-1143q137 47 274 70 138 23 276 23 781 0 1237-428 457-428 457-1159 0-753-469-1171-469-417-1322-417-294 0-599 50-304 50-629 150v635q281-153 581-228t634-75q541 0 856 284 316 284 316 772 0 487-316 771-315 285-856 285-253 0-505-56-251-56-513-175v2344z\"/></defs><use xlink:href=\"#DejaVuSans-32\"/><use x=\"63.623047\" xlink:href=\"#DejaVuSans-35\"/><use x=\"127.246094\" xlink:href=\"#DejaVuSans-30\"/></g><path d=\"m67.379 154.9h390.6\" clip-path=\"url(#pa9493a756c)\" fill=\"none\" stroke=\"#dde1e6\" stroke-dasharray=\"2.96,1.28\" stroke-width=\".8\"/><use x=\"67.379375\" y=\"154.903597\" fill=\"#343a3f\" stroke=\"#343a3f\" stroke-width=\".8\" xlink:href=\"#mcaeefce22f\"/><g transform=\"translate(33.657 160.22) scale(.14 -.14)\" fill=\"#343a3f\"><use xlink:href=\"#DejaVuSans-35\"/><use x=\"63.623047\" xlink:href=\"#DejaVuSans-30\"/><use x=\"127.246094\" xlink:href=\"#DejaVuSans-30\"/></g><path d=\"m67.379 90.155h390.6\" clip-path=\"url(#pa9493a756c)\" fill=\"none\" stroke=\"#dde1e6\" stroke-dasharray=\"2.96,1.28\" stroke-width=\".8\"/><use x=\"67.379375\" y=\"90.155396\" fill=\"#343a3f\" stroke=\"#343a3f\" stroke-width=\".8\" xlink:href=\"#mcaeefce22f\"/><g transform=\"translate(33.657 95.474) scale(.14 -.14)\" fill=\"#343a3f\"><defs><path id=\"DejaVuSans-37\" transform=\"scale(.015625)\" d=\"m525 4666h3e3v-269l-1694-4397h-659l1594 4134h-2241v532z\"/></defs><use xlink:href=\"#DejaVuSans-37\"/><use x=\"63.623047\" xlink:href=\"#DejaVuSans-35\"/><use x=\"127.246094\" xlink:href=\"#DejaVuSans-30\"/></g><path d=\"m67.379 25.407h390.6\" clip-path=\"url(#pa9493a756c)\" fill=\"none\" stroke=\"#dde1e6\" stroke-dasharray=\"2.96,1.28\" stroke-width=\".8\"/><use x=\"67.379375\" y=\"25.407194\" fill=\"#343a3f\" stroke=\"#343a3f\" stroke-width=\".8\" xlink:href=\"#mcaeefce22f\"/><g transform=\"translate(24.749 30.726) scale(.14 -.14)\" fill=\"#343a3f\"><use xlink:href=\"#DejaVuSans-31\"/><use x=\"63.623047\" xlink:href=\"#DejaVuSans-30\"/><use x=\"127.246094\" xlink:href=\"#DejaVuSans-30\"/><use x=\"190.869141\" xlink:href=\"#DejaVuSans-30\"/></g><g transform=\"translate(17.838 166.59) rotate(-90) scale(.14 -.14)\" fill=\"#343a3f\"><defs><path id=\"DejaVuSans-43\" transform=\"scale(.015625)\" d=\"m4122 4306v-665q-319 297-680 443-361 147-767 147-800 0-1225-489t-425-1414q0-922 425-1411t1225-489q406 0 767 147t680 444v-660q-331-225-702-338-370-112-782-112-1060 0-1670 648-609 649-609 1771 0 1125 609 1773 610 649 1670 649 418 0 788-111 371-111 696-333z\"/><path id=\"DejaVuSans-6f\" transform=\"scale(.015625)\" d=\"m1959 3097q-462 0-731-361t-269-989 267-989q268-361 733-361 460 0 728 362 269 363 269 988 0 622-269 986-268 364-728 364zm0 487q750 0 1178-488 429-487 429-1349 0-859-429-1349-428-489-1178-489-753 0-1180 489-426 490-426 1349 0 862 426 1349 427 488 1180 488z\"/><path id=\"DejaVuSans-75\" transform=\"scale(.015625)\" d=\"m544 1381v2119h575v-2097q0-497 193-746 194-248 582-248 465 0 735 297 271 297 271 810v1984h575v-3500h-575v538q-209-319-486-474-276-155-642-155-603 0-916 375-312 375-312 1097zm1447 2203z\"/><path id=\"DejaVuSans-6e\" transform=\"scale(.015625)\" d=\"m3513 2113v-2113h-575v2094q0 497-194 743-194 247-581 247-466 0-735-297-269-296-269-809v-1978h-578v3500h578v-544q207 316 486 472 280 156 646 156 603 0 912-373 310-373 310-1098z\"/><path id=\"DejaVuSans-74\" transform=\"scale(.015625)\" d=\"m1172 4494v-994h1184v-447h-1184v-1900q0-428 117-550t477-122h590v-481h-590q-666 0-919 248-253 249-253 905v1900h-422v447h422v994h578z\"/></defs><use xlink:href=\"#DejaVuSans-43\"/><use x=\"69.824219\" xlink:href=\"#DejaVuSans-6f\"/><use x=\"131.005859\" xlink:href=\"#DejaVuSans-75\"/><use x=\"194.384766\" xlink:href=\"#DejaVuSans-6e\"/><use x=\"257.763672\" xlink:href=\"#DejaVuSans-74\"/></g><path d=\"m85.134 284.4h11.455v-0.51799h-11.455z\" clip-path=\"url(#pa9493a756c)\" fill=\"#648fff\"/><path d=\"m108.04 284.4h11.455v-1.295h-11.455z\" clip-path=\"url(#pa9493a756c)\" fill=\"#648fff\"/><path d=\"m130.95 284.4h11.455v-252h-11.455z\" clip-path=\"url(#pa9493a756c)\" fill=\"#648fff\"/><path d=\"m153.86 284.4h11.455v-0.51799h-11.455z\" clip-path=\"url(#pa9493a756c)\" fill=\"#648fff\"/><path d=\"m176.77 284.4h11.455v-0.51799h-11.455z\" clip-path=\"url(#pa9493a756c)\" fill=\"#648fff\"/><path d=\"m199.68 284.4h11.455v-0.51799h-11.455z\" clip-path=\"url(#pa9493a756c)\" fill=\"#648fff\"/><path d=\"m222.59 284.4h11.455v-0.51799h-11.455z\" clip-path=\"url(#pa9493a756c)\" fill=\"#648fff\"/><path d=\"m245.5 284.4h11.455v-1.554h-11.455z\" clip-path=\"url(#pa9493a756c)\" fill=\"#648fff\"/><path d=\"m268.41 284.4h11.455v-1.036h-11.455z\" clip-path=\"url(#pa9493a756c)\" fill=\"#648fff\"/><path d=\"m291.32 284.4h11.455v-0.51799h-11.455z\" clip-path=\"url(#pa9493a756c)\" fill=\"#648fff\"/><path d=\"m314.22 284.4h11.455v-1.295h-11.455z\" clip-path=\"url(#pa9493a756c)\" fill=\"#648fff\"/><path d=\"m337.13 284.4h11.455v-1.295h-11.455z\" clip-path=\"url(#pa9493a756c)\" fill=\"#648fff\"/><path d=\"m360.04 284.4h11.455v-1.036h-11.455z\" clip-path=\"url(#pa9493a756c)\" fill=\"#648fff\"/><path d=\"m382.95 284.4h11.455v-1.036h-11.455z\" clip-path=\"url(#pa9493a756c)\" fill=\"#648fff\"/><path d=\"m405.86 284.4h11.455v-0.77698h-11.455z\" clip-path=\"url(#pa9493a756c)\" fill=\"#648fff\"/><path d=\"m428.77 284.4h11.455v-0.77698h-11.455z\" clip-path=\"url(#pa9493a756c)\" fill=\"#648fff\"/><path d=\"m67.379 284.4v-277.2\" fill=\"none\" stroke=\"#343a3f\" stroke-linecap=\"square\" stroke-width=\".8\"/><path d=\"m67.379 284.4h390.6\" fill=\"none\" stroke=\"#343a3f\" stroke-linecap=\"square\" stroke-width=\".8\"/><g transform=\"translate(87.68 281.78) scale(.1 -.1)\" fill=\"#343a3f\"><use xlink:href=\"#DejaVuSans-32\"/></g><g transform=\"translate(110.59 280.96) scale(.1 -.1)\" fill=\"#343a3f\"><use xlink:href=\"#DejaVuSans-35\"/></g><g transform=\"translate(127.14 17.72) scale(.1 -.1)\" fill=\"#343a3f\"><defs><path id=\"DejaVuSans-39\" transform=\"scale(.015625)\" d=\"m703 97v575q238-113 481-172 244-59 479-59 625 0 954 420 330 420 377 1277-181-269-460-413-278-144-615-144-700 0-1108 423-408 424-408 1159 0 718 425 1152 425 435 1131 435 810 0 1236-621 427-620 427-1801 0-1103-524-1761-523-658-1407-658-238 0-482 47-243 47-506 141zm1256 1978q425 0 673 290 249 291 249 798 0 503-249 795-248 292-673 292t-673-292-248-795q0-507 248-798 248-290 673-290z\"/><path id=\"DejaVuSans-33\" transform=\"scale(.015625)\" d=\"m2597 2516q453-97 707-404 255-306 255-756 0-690-475-1069-475-378-1350-378-293 0-604 58t-642 174v609q262-153 574-231 313-78 654-78 593 0 904 234t311 681q0 413-289 645-289 233-804 233h-544v519h569q465 0 712 186t247 536q0 359-255 551-254 193-729 193-260 0-557-57-297-56-653-174v562q360 100 674 150t592 50q719 0 1137-327 419-326 419-882 0-388-222-655t-631-370z\"/></defs><use xlink:href=\"#DejaVuSans-39\"/><use x=\"63.623047\" xlink:href=\"#DejaVuSans-37\"/><use x=\"127.246094\" xlink:href=\"#DejaVuSans-33\"/></g><g transform=\"translate(156.41 281.78) scale(.1 -.1)\" fill=\"#343a3f\"><use xlink:href=\"#DejaVuSans-32\"/></g><g transform=\"translate(179.32 281.78) scale(.1 -.1)\" fill=\"#343a3f\"><use xlink:href=\"#DejaVuSans-32\"/></g><g transform=\"translate(202.23 281.78) scale(.1 -.1)\" fill=\"#343a3f\"><use xlink:href=\"#DejaVuSans-32\"/></g><g transform=\"translate(225.13 281.78) scale(.1 -.1)\" fill=\"#343a3f\"><use xlink:href=\"#DejaVuSans-32\"/></g><g transform=\"translate(248.04 280.69) scale(.1 -.1)\" fill=\"#343a3f\"><defs><path id=\"DejaVuSans-36\" transform=\"scale(.015625)\" d=\"m2113 2584q-425 0-674-291-248-290-248-796 0-503 248-796 249-292 674-292t673 292q248 293 248 796 0 506-248 796-248 291-673 291zm1253 1979v-575q-238 112-480 171-242 60-480 60-625 0-955-422-329-422-376-1275 184 272 462 417 279 145 613 145 703 0 1111-427 408-426 408-1160 0-719-425-1154-425-434-1131-434-810 0-1238 620-428 621-428 1799 0 1106 525 1764t1409 658q238 0 480-47t505-140z\"/></defs><use xlink:href=\"#DejaVuSans-36\"/></g><g transform=\"translate(270.95 281.23) scale(.1 -.1)\" fill=\"#343a3f\"><defs><path id=\"DejaVuSans-34\" transform=\"scale(.015625)\" d=\"m2419 4116-1594-2491h1594v2491zm-166 550h794v-3041h666v-525h-666v-1100h-628v1100h-2106v609l1940 2957z\"/></defs><use xlink:href=\"#DejaVuSans-34\"/></g><g transform=\"translate(293.86 281.78) scale(.1 -.1)\" fill=\"#343a3f\"><use xlink:href=\"#DejaVuSans-32\"/></g><g transform=\"translate(316.77 280.96) scale(.1 -.1)\" fill=\"#343a3f\"><use xlink:href=\"#DejaVuSans-35\"/></g><g transform=\"translate(339.68 280.96) scale(.1 -.1)\" fill=\"#343a3f\"><use xlink:href=\"#DejaVuSans-35\"/></g><g transform=\"translate(362.59 281.23) scale(.1 -.1)\" fill=\"#343a3f\"><use xlink:href=\"#DejaVuSans-34\"/></g><g transform=\"translate(385.5 281.23) scale(.1 -.1)\" fill=\"#343a3f\"><use xlink:href=\"#DejaVuSans-34\"/></g><g transform=\"translate(408.41 281.5) scale(.1 -.1)\" fill=\"#343a3f\"><use xlink:href=\"#DejaVuSans-33\"/></g><g transform=\"translate(431.32 281.5) scale(.1 -.1)\" fill=\"#343a3f\"><use xlink:href=\"#DejaVuSans-33\"/></g><defs><clipPath id=\"pa9493a756c\"><rect x=\"67.379\" y=\"7.2\" width=\"390.6\" height=\"277.2\"/></clipPath></defs></svg>"
      ],
      "text/plain": [
       "<Figure size 700x500 with 1 Axes>"
      ]
     },
     "execution_count": 6,
     "metadata": {},
     "output_type": "execute_result"
    }
   ],
   "source": [
    "from qiskit.quantum_info import Statevector\n",
    "from qiskit.visualization import plot_histogram\n",
    "\n",
    "ket_0 = Statevector.from_label(\"0\" * NUM_QUBITS)\n",
    "ket_psi = ket_0.evolve(qc)\n",
    "plot_histogram(ket_psi.sample_counts(1024))"
   ]
  },
  {
   "cell_type": "markdown",
   "id": "b1f65e6a",
   "metadata": {},
   "source": [
    "## Analysis\n",
    "\n",
    "For this analysis, we will assume there is only one string $x$ for which $f(x) = 1$. You can adapt this analysis to account for many strings by dividing the search space $N$ by the number of strings for which $f(x) = 1$.\n",
    "\n",
    "### Classical solution\n",
    "\n",
    "For completely unstructured problems (in which we have no information about which states are likely to be good), the best algorithm is _random guessing_. This algorithm selects bit strings at random and queries $f$ to see whether that bit string outputs 1. This algorithm requires $N/2$ queries on average.\n",
    "\n",
    "### Grover's algorithm performance\n",
    "\n",
    "Grover's algorithm requires ~$O(\\sqrt{N})$ queries.\n",
    "\n",
    "(Include this [geometric proof](https://learn.qiskit.org/course/introduction/grovers-search-algorithm#grovers-19-0) when carousel widget is available).\n",
    "\n",
    "### Using structure\n",
    "\n",
    "Most real-world problems are not fully unstructured. That is, we know something about the oracle that helps us make better guesses. (TODO: expand)."
   ]
  },
  {
   "cell_type": "markdown",
   "id": "27a92d4b",
   "metadata": {},
   "source": [
    "## Links\n",
    "\n",
    "Grover's algorithm was first published in the following paper.\n",
    "\n",
    "- Lov K. Grover. 1996. _\"A fast quantum mechanical algorithm for database search.\"_ <https://arxiv.org/abs/quant-ph/9605043>\n",
    "\n",
    "### Further learning\n",
    "\n",
    "Check out these links to learn about Grover's algorithm in more detail.\n",
    "\n",
    "- (TODO: link other explanations)\n",
    "\n",
    "\n",
    "### Later developments\n",
    "\n",
    "Read later research that builds on Grover's algorithm.\n",
    "\n",
    "- amplitude amplification\n",
    "- quantum counting\n",
    "\n",
    "- N. J. Cerf, L. K. Grover, C. P. Williams. 1998. _\"Nested quantum search and NP-complete problems\"_ <https://arxiv.org/abs/quant-ph/9806078>\n",
    "\n",
    "  This paper extends the methods of Grover's algorithm to use some problem structure."
   ]
  },
  {
   "cell_type": "code",
   "execution_count": 5,
   "id": "c9cc46ca",
   "metadata": {},
   "outputs": [
    {
     "data": {
      "text/html": [
       "<h3>Version Information</h3><table><tr><th>Qiskit Software</th><th>Version</th></tr><tr><td><code>qiskit-terra</code></td><td>0.23.3</td></tr><tr><td><code>qiskit-aer</code></td><td>0.12.0</td></tr><tr><td><code>qiskit-ibmq-provider</code></td><td>0.20.2</td></tr><tr><td><code>qiskit</code></td><td>0.42.1</td></tr><tr><td><code>qiskit-nature</code></td><td>0.6.0</td></tr><tr><td><code>qiskit-finance</code></td><td>0.3.4</td></tr><tr><td><code>qiskit-optimization</code></td><td>0.5.0</td></tr><tr><td><code>qiskit-machine-learning</code></td><td>0.6.0</td></tr><tr><th>System information</th></tr><tr><td>Python version</td><td>3.10.10</td></tr><tr><td>Python compiler</td><td>Clang 14.0.0 (clang-1400.0.29.202)</td></tr><tr><td>Python build</td><td>main, Feb 16 2023 02:58:25</td></tr><tr><td>OS</td><td>Darwin</td></tr><tr><td>CPUs</td><td>8</td></tr><tr><td>Memory (Gb)</td><td>32.0</td></tr><tr><td colspan='2'>Thu May 04 13:47:53 2023 BST</td></tr></table>"
      ],
      "text/plain": [
       "<IPython.core.display.HTML object>"
      ]
     },
     "metadata": {},
     "output_type": "display_data"
    }
   ],
   "source": [
    "import qiskit.tools.jupyter\n",
    "\n",
    "%qiskit_version_table"
   ]
  }
 ],
 "metadata": {
  "kernelspec": {
   "display_name": "Python 3",
   "language": "python",
   "name": "python3"
  },
  "language_info": {
   "codemirror_mode": {
    "name": "ipython",
    "version": 3
   },
   "file_extension": ".py",
   "mimetype": "text/x-python",
   "name": "python",
   "nbconvert_exporter": "python",
   "pygments_lexer": "ipython3",
   "version": "3.9"
  }
 },
 "nbformat": 4,
 "nbformat_minor": 5
}
