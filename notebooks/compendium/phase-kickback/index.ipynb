{
 "cells": [
  {
   "cell_type": "markdown",
   "id": "5a8bb3a9-8bef-41f4-8cf0-1423c604a4fa",
   "metadata": {},
   "source": [
    "# Phase kickback\n",
    "\n",
    "\n",
    "## Overview\n",
    "\n",
    "The concept of a \"controlled\" gate is less straightforward in quantum, as compared to classical, computing. In classical computing, a controlled gate acts on a so-called *target register* in a way that depends on the state of a separate *control register*.\n",
    "\n",
    "**(Include graphic here of most general control scheme, quantikz?)**\n",
    "\n",
    "In this setting, the controlled register is not changed by the gate, only the target register. The role of the control register merely to dictate which operation is applied.\n",
    "\n",
    "In quantum computing, this is no longer the case. One can still define controlled gates, such as the familiar CX (or CNOT) gate. However, for general quantum states in superposition, the control register *will* be affected by the action of the gate. In fact, as we'll see below, the role of controlled and target registers can be completely reversed!\n",
    "\n",
    "## Phase Detachment\n",
    "\n",
    "Any unitary operation, such as a quantum gate, can be thought of as applying relative phase shifts to a chosen basis. For example, the $X$ gate applies a relative phase of $\\pi$ between the $\\vert +\\rangle$ and $\\vert -\\rangle$ states.\n",
    "\n",
    "$$\n",
    " X \\vert + \\rangle = \\vert + \\rangle \\qquad X \\vert - \\rangle = e^{i \\pi } \\vert - \\rangle\n",
    "$$\n",
    "\n",
    "Notice that only the relative phase matters here: multiplying $X$ by a complex phase $e^{i\\varphi}$ does not change the effect on the quantum state. Hence the slogan \"global phases are irrelevant.\"  \n",
    "\n",
    "Sometimes, a unitary $U$ may apply a phase to system with two or more subsystems. It may appear, from the mathematics, that the unitary is accomplishing this by applying a phase to one of the two subsystems. However, this is somewhat misleading, as there is no notion of phases associated with a subsystem. Phases can be moved around at will, and are not associated with this qubit or that. Mathematically, for a joint system composed of states $\\vert \\psi \\rangle$ and $\\vert \\phi \\rangle$, \n",
    "\n",
    "$$\n",
    "\\vert \\psi \\rangle \\otimes (e^{i\\theta} \\vert \\phi \\rangle) = (e^{i\\theta} \\vert \\psi \\rangle) \\otimes \\vert \\phi \\rangle = e^{i\\theta} (\\vert \\psi\\rangle \\otimes \\vert \\phi \\rangle).\n",
    "$$\n",
    "\n",
    "We see that a phase \"applied to subsystem 2\" can equally be seen as applied to subsystem 1, or to the collective joint state. All points of view lead to the same effect. While it's not a standard term, we might call this property \"phase detachment.\" "
   ]
  },
  {
   "cell_type": "markdown",
   "id": "30d57103-dcb7-4b65-ba85-4585e215d0ef",
   "metadata": {},
   "source": [
    "## Phase Kickback\n",
    "\n",
    "Phase kickback is a quantum-mechanical effect based on the phase detachment described above, in which a controlled operation affects the relative phase of the controlling qubit. It is a core component of many quantum algorithms and subroutines, including Deutsch's algorithm, phase estimation algorithms, Shor's algorithm, and the HHL algorithm for solving linear systems of equations. It's also a simple demonstration of quantum decoherence and the quantum observer effect. \n",
    "\n",
    "To describe the effect, take a unitary gate, $U$, acting on a register in one of its eigenstates, $|u\\rangle$.\n",
    "\n",
    "$$ U |u\\rangle = e^{2\\pi i \\theta}|u\\rangle$$\n",
    "<center>\n",
    "<img src=images/general-kickback-1.svg>\n",
    "</center>\n",
    "\n",
    "If we control this operation on the state of another qubit, when this control qubit is $|0\\rangle$, nothing will happen.\n",
    "\n",
    "$$ CU |0\\rangle|u\\rangle = |0\\rangle|u\\rangle$$\n",
    "\n",
    "![](images/general-kickback-2.svg)\n",
    "\n",
    "If the control qubit is $|1\\rangle$, we introduce a global phase of $e^{2\\pi i \\theta}$.\n",
    "\n",
    "$$\n",
    "\\begin{aligned}\n",
    "CU |1\\rangle|u\\rangle &= |1\\rangle\\otimes U|u\\rangle \\\\\n",
    "                      &= |1\\rangle\\otimes e^{2\\pi i \\theta}|u\\rangle \\\\\n",
    "                      &= e^{2\\pi i \\theta} |1\\rangle |u\\rangle\n",
    "\\end{aligned}\n",
    "$$\n",
    "\n",
    "![](images/general-kickback-3.svg)\n",
    "\n",
    "If the control qubit is in a superposition of $|0\\rangle$ and $|1\\rangle$, then we see the phase kickback effect.\n",
    "\n",
    "$$\n",
    "\\begin{aligned}\n",
    "CU (\\alpha|0\\rangle + \\beta|1\\rangle)|u\\rangle &= \\alpha CU|0\\rangle|u\\rangle + \\beta CU |1\\rangle|u\\rangle \\\\\n",
    "    &= \\alpha|0\\rangle|u\\rangle + \\beta e^{2\\pi i \\theta} |1\\rangle |u\\rangle \\\\\n",
    "    &= (\\alpha|0\\rangle + \\beta e^{2\\pi i \\theta} |1\\rangle) |u\\rangle\n",
    "\\end{aligned}\n",
    "$$\n",
    "\n",
    "![](images/general-kickback-4.svg)\n",
    "\n",
    "Observe that the target register, in eigenstate $\\vert u \\rangle$, is completely unchanged, whereas an $R_z$ rotation has been applied to the control register. \n",
    "    \n",
    "## Examples\n",
    "\n",
    "### Controlled-Z gate\n",
    "\n",
    "Consider a $CZ_{12}$ gate, controlled on the first qubit and acting on the second qubit. The only computational basis state which is changed by $CZ$ is $\\vert 11\\rangle$, which acquires a phase of $-1$. However, this would also be true if the second qubit was the controlled and the first was acted on. Hence, \n",
    "\n",
    "$$\n",
    "CZ_{12} = CZ_{21}\n",
    "$$\n",
    "\n",
    "or, as a circuit diagram,\n",
    "\n",
    "**Put a quantum circuit here: how do I match style?**\n",
    "\n",
    "### Controlled-X gate\n",
    "\n",
    "In this example, the unitary operation is an $X$ gate, and the target register is a qubit in the state $|{-}\\rangle$.\n",
    "\n",
    "Using the fact that $X|{-}\\rangle = -|{-}\\rangle$, we can work out the state of the control and target qubits after applying the controlled-X gate.\n",
    "\n",
    "$$\n",
    "\\begin{aligned}\n",
    "CX |{+}\\rangle|{-}\\rangle &= \\tfrac{1}{\\sqrt{2}} CU|0\\rangle|{-}\\rangle + \\tfrac{1}{\\sqrt{2}} CU |1\\rangle|{-}\\rangle \\\\\n",
    "    &= \\tfrac{1}{\\sqrt{2}}|0\\rangle|{-}\\rangle - \\tfrac{1}{\\sqrt{2}}|1\\rangle |{-}\\rangle \\\\\n",
    "    &= \\tfrac{1}{\\sqrt{2}}(|0\\rangle - |1\\rangle) |{-}\\rangle \\\\\n",
    "    &= |{-}\\rangle |{-}\\rangle\n",
    "\\end{aligned}\n",
    "$$\n",
    "\n",
    "![](images/cx-example-1.svg)\n",
    "\n",
    "Note that the control of the CX-gate is acting like a $Z$ gate. \n",
    "\n",
    "Using the relationships $H|0\\rangle = |{+}\\rangle$, $H|1\\rangle = |{-}\\rangle$ (and the reverse), we can come to the following identity.\n",
    "\n",
    "![](images/cx-identity.svg)"
   ]
  },
  {
   "cell_type": "markdown",
   "id": "d7dfa7c0-099a-4d56-918c-3d59dd8fa15f",
   "metadata": {},
   "source": [
    "## Multiqubit control registers\n",
    "\n",
    "In applications such as Shor's algorithm, a generalization to multi-qubit control registers is needed. Suppose $\\vert u \\rangle$ is a shared eigenstate of a collection of unitary gates $U_j$, with eigenvalues $e^{i \\theta_j}$ not necessarily equal for different $j$. Define a controlled operation \n",
    "\n",
    "$$\n",
    "CU = \\sum_j \\vert j \\rangle \\langle j \\vert \\otimes U_j \n",
    "$$\n",
    "\n",
    "for a control register with basis states $\\vert j\\rangle$. Similar to before, consider a state $\\sum_j \\alpha_j \\vert j \\rangle$ on the controlled register. We have \n",
    "\n",
    "$$\n",
    "\\begin{aligned}\n",
    "    CU \\sum_j \\alpha_j \\vert j \\rangle  \\otimes \\vert u \\rangle &= \\sum_j \\alpha_j \\vert j \\rangle  \\otimes U_j \\vert u \\rangle \\\\\n",
    "    &= \\sum_j \\alpha_j \\vert j \\rangle e^{i\\theta_j} \\vert u \\rangle \\\\\n",
    "    &= \\left(\\sum_j \\alpha_j e^{i\\theta_j} \\vert j \\rangle\\right) \\otimes \\vert u \\rangle.\n",
    "\\end{aligned}\n",
    "$$\n",
    "\n",
    "Again, we have relative phases being applied to the computational basis states of the control register, which leads to measurable effects in a quantum algorithm.\n",
    "\n",
    "As a quantum circuit, general phase kickback can be expressed as follows\n",
    "\n",
    "**Quantum circuit of U being diagonalized, then flipping the C(D) operation where D is the diagonal part.**"
   ]
  },
  {
   "cell_type": "markdown",
   "id": "760e30b4-b29b-4bb8-bc27-72c8fa8be4fe",
   "metadata": {},
   "source": [
    "## Advanced considerations\n",
    "\n",
    "- In the case that the target is not in an eigenstate, but a linear combination of eigenstates, the target and control registers will become entangled. "
   ]
  },
  {
   "cell_type": "markdown",
   "id": "06b62340",
   "metadata": {},
   "source": [
    "## See also\n",
    "\n",
    "- Deutsch's algorithm\n",
    "- Phase estimation\n",
    "- Shor's algorithm\n",
    "- HHL algorithm"
   ]
  },
  {
   "cell_type": "markdown",
   "id": "96ef55eb-8590-48ec-94b6-5f07718486d4",
   "metadata": {},
   "source": [
    "## Discussion and further reading\n",
    "\n",
    "[Unit 2, Lesson 7 of Understanding Quantum Information and Computation: Phase Estimation and Factoring.](https://learning.quantum-computing.ibm.com/course/fundamentals-of-quantum-algorithms/phase-estimation-and-factoring) Produced by IBM Quantum."
   ]
  },
  {
   "cell_type": "code",
   "execution_count": 1,
   "id": "52a68421-f029-4073-a14d-ca396b9f0259",
   "metadata": {
    "tags": []
   },
   "outputs": [
    {
     "ename": "ModuleNotFoundError",
     "evalue": "No module named 'ipywidgets'",
     "output_type": "error",
     "traceback": [
      "\u001b[0;31m---------------------------------------------------------------------------\u001b[0m",
      "\u001b[0;31mModuleNotFoundError\u001b[0m                       Traceback (most recent call last)",
      "Cell \u001b[0;32mIn [1], line 1\u001b[0m\n\u001b[0;32m----> 1\u001b[0m \u001b[38;5;28;01mimport\u001b[39;00m \u001b[38;5;21;01mqiskit\u001b[39;00m\u001b[38;5;21;01m.\u001b[39;00m\u001b[38;5;21;01mtools\u001b[39;00m\u001b[38;5;21;01m.\u001b[39;00m\u001b[38;5;21;01mjupyter\u001b[39;00m\n\u001b[1;32m      2\u001b[0m get_ipython()\u001b[38;5;241m.\u001b[39mrun_line_magic(\u001b[38;5;124m'\u001b[39m\u001b[38;5;124mqiskit_version_table\u001b[39m\u001b[38;5;124m'\u001b[39m, \u001b[38;5;124m'\u001b[39m\u001b[38;5;124m'\u001b[39m)\n",
      "File \u001b[0;32m/Library/Frameworks/Python.framework/Versions/3.10/lib/python3.10/site-packages/qiskit/tools/jupyter/__init__.py:105\u001b[0m\n\u001b[1;32m    103\u001b[0m \u001b[38;5;28;01mfrom\u001b[39;00m \u001b[38;5;21;01mqiskit\u001b[39;00m\u001b[38;5;21;01m.\u001b[39;00m\u001b[38;5;21;01mproviders\u001b[39;00m\u001b[38;5;21;01m.\u001b[39;00m\u001b[38;5;21;01mfake_provider\u001b[39;00m \u001b[38;5;28;01mimport\u001b[39;00m FakeBackend\n\u001b[1;32m    104\u001b[0m \u001b[38;5;28;01mfrom\u001b[39;00m \u001b[38;5;21;01mqiskit\u001b[39;00m\u001b[38;5;21;01m.\u001b[39;00m\u001b[38;5;21;01mutils\u001b[39;00m \u001b[38;5;28;01mimport\u001b[39;00m optionals \u001b[38;5;28;01mas\u001b[39;00m _optionals\n\u001b[0;32m--> 105\u001b[0m \u001b[38;5;28;01mfrom\u001b[39;00m \u001b[38;5;21;01m.\u001b[39;00m\u001b[38;5;21;01mjupyter_magics\u001b[39;00m \u001b[38;5;28;01mimport\u001b[39;00m ProgressBarMagic, StatusMagic\n\u001b[1;32m    106\u001b[0m \u001b[38;5;28;01mfrom\u001b[39;00m \u001b[38;5;21;01m.\u001b[39;00m\u001b[38;5;21;01mprogressbar\u001b[39;00m \u001b[38;5;28;01mimport\u001b[39;00m HTMLProgressBar\n\u001b[1;32m    107\u001b[0m \u001b[38;5;28;01mfrom\u001b[39;00m \u001b[38;5;21;01m.\u001b[39;00m\u001b[38;5;21;01mversion_table\u001b[39;00m \u001b[38;5;28;01mimport\u001b[39;00m VersionTable\n",
      "File \u001b[0;32m/Library/Frameworks/Python.framework/Versions/3.10/lib/python3.10/site-packages/qiskit/tools/jupyter/jupyter_magics.py:26\u001b[0m\n\u001b[1;32m     24\u001b[0m \u001b[38;5;28;01mfrom\u001b[39;00m \u001b[38;5;21;01mqiskit\u001b[39;00m\u001b[38;5;21;01m.\u001b[39;00m\u001b[38;5;21;01mtools\u001b[39;00m\u001b[38;5;21;01m.\u001b[39;00m\u001b[38;5;21;01mevents\u001b[39;00m\u001b[38;5;21;01m.\u001b[39;00m\u001b[38;5;21;01mprogressbar\u001b[39;00m \u001b[38;5;28;01mimport\u001b[39;00m TextProgressBar\n\u001b[1;32m     25\u001b[0m \u001b[38;5;28;01mfrom\u001b[39;00m \u001b[38;5;21;01m.\u001b[39;00m\u001b[38;5;21;01mprogressbar\u001b[39;00m \u001b[38;5;28;01mimport\u001b[39;00m HTMLProgressBar\n\u001b[0;32m---> 26\u001b[0m \u001b[38;5;28;01mfrom\u001b[39;00m \u001b[38;5;21;01m.\u001b[39;00m\u001b[38;5;21;01mlibrary\u001b[39;00m \u001b[38;5;28;01mimport\u001b[39;00m circuit_library_widget\n\u001b[1;32m     29\u001b[0m \u001b[38;5;28;01mdef\u001b[39;00m \u001b[38;5;21m_html_checker\u001b[39m(job_var, interval, status, header, _interval_set\u001b[38;5;241m=\u001b[39m\u001b[38;5;28;01mFalse\u001b[39;00m):\n\u001b[1;32m     30\u001b[0m     \u001b[38;5;124;03m\"\"\"Internal function that updates the status\u001b[39;00m\n\u001b[1;32m     31\u001b[0m \u001b[38;5;124;03m    of a HTML job monitor.\u001b[39;00m\n\u001b[1;32m     32\u001b[0m \n\u001b[0;32m   (...)\u001b[0m\n\u001b[1;32m     38\u001b[0m \u001b[38;5;124;03m        _interval_set (bool): Was interval set by user?\u001b[39;00m\n\u001b[1;32m     39\u001b[0m \u001b[38;5;124;03m    \"\"\"\u001b[39;00m\n",
      "File \u001b[0;32m/Library/Frameworks/Python.framework/Versions/3.10/lib/python3.10/site-packages/qiskit/tools/jupyter/library.py:17\u001b[0m\n\u001b[1;32m      1\u001b[0m \u001b[38;5;66;03m# This code is part of Qiskit.\u001b[39;00m\n\u001b[1;32m      2\u001b[0m \u001b[38;5;66;03m#\u001b[39;00m\n\u001b[1;32m      3\u001b[0m \u001b[38;5;66;03m# (C) Copyright IBM 2017, 2018.\u001b[39;00m\n\u001b[0;32m   (...)\u001b[0m\n\u001b[1;32m     12\u001b[0m \n\u001b[1;32m     13\u001b[0m \u001b[38;5;66;03m# pylint: disable=invalid-name,no-name-in-module,ungrouped-imports\u001b[39;00m\n\u001b[1;32m     15\u001b[0m \u001b[38;5;124;03m\"\"\"A circuit library widget module\"\"\"\u001b[39;00m\n\u001b[0;32m---> 17\u001b[0m \u001b[38;5;28;01mimport\u001b[39;00m \u001b[38;5;21;01mipywidgets\u001b[39;00m \u001b[38;5;28;01mas\u001b[39;00m \u001b[38;5;21;01mwid\u001b[39;00m\n\u001b[1;32m     18\u001b[0m \u001b[38;5;28;01mfrom\u001b[39;00m \u001b[38;5;21;01mIPython\u001b[39;00m\u001b[38;5;21;01m.\u001b[39;00m\u001b[38;5;21;01mdisplay\u001b[39;00m \u001b[38;5;28;01mimport\u001b[39;00m display\n\u001b[1;32m     19\u001b[0m \u001b[38;5;28;01mfrom\u001b[39;00m \u001b[38;5;21;01mqiskit\u001b[39;00m \u001b[38;5;28;01mimport\u001b[39;00m QuantumCircuit\n",
      "\u001b[0;31mModuleNotFoundError\u001b[0m: No module named 'ipywidgets'"
     ]
    }
   ],
   "source": [
    "import qiskit.tools.jupyter\n",
    "%qiskit_version_table"
   ]
  },
  {
   "cell_type": "code",
   "execution_count": null,
   "id": "fe584957-fecc-4ca6-b76e-0a2ad15cdfee",
   "metadata": {},
   "outputs": [],
   "source": []
  }
 ],
 "metadata": {
  "kernelspec": {
   "display_name": "Python 3 (ipykernel)",
   "language": "python",
   "name": "python3"
  },
  "language_info": {
   "codemirror_mode": {
    "name": "ipython",
    "version": 3
   },
   "file_extension": ".py",
   "mimetype": "text/x-python",
   "name": "python",
   "nbconvert_exporter": "python",
   "pygments_lexer": "ipython3",
   "version": "3.10.7"
  }
 },
 "nbformat": 4,
 "nbformat_minor": 5
}
