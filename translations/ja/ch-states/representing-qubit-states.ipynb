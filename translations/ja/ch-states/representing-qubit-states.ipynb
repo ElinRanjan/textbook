{
 "cells": [
  {
   "cell_type": "markdown",
   "metadata": {
    "tags": [
     "remove_cell"
    ]
   },
   "source": [
    "# 量子ビット状態を表現する"
   ]
  },
  {
   "cell_type": "markdown",
   "metadata": {},
   "source": [
    "このコースをさらに進めるには、量子ビットの状態を書き留める方法が必要です。第2章の終わりまでに、ベクトルと行列のみを使用して、任意の量子ビットのセットと任意の量子演算の状態を書き留めることができることがわかります。 **続行する前に**、複素数に慣れる必要があります。線形代数の知識は役立ちますが、複素数の重要な概念が点在していることに注意してください。さらに詳しい説明や復習が必要な場合は、ここで数学の前提条件を確認できます。[こちら](../ch-prerequisites/linear_algebra.html)\n",
    "\n",
    "## 目次\n",
    "\n",
    "1. [古典ビット vs 量子ビット](#cvsq)    \n",
    "    1.1 [状態ベクトル](#statevectors)      \n",
    "    1.2 [量子ビット表記](#notation)    \n",
    "    1.3 [Qiskitを使って量子ビットを探索する](#exploring-qubits)    \n",
    "2. [測定のルール](#rules-measurement)    \n",
    "    2.1 [非常に重要なルール](#important-rule)    \n",
    "    2.2 [測定のルールの意味](#implications)\n",
    "3. [ブロッホ球](#bloch-sphere)    \n",
    "    3.1 [制限された量子ビット状態の説明](#bloch-sphere-1)     \n",
    "    3.2 [量子ビットの状態を視覚的に表現する](#bloch-sphere-2)     \n"
   ]
  },
  {
   "cell_type": "markdown",
   "metadata": {},
   "source": [
    "## 1. 古典ビット vs 量子ビット <a id=\"cvsq\"></a>\n",
    "\n",
    "### 1.1 状態ベクトル<a id=\"statevectors\"></a>\n",
    "\n",
    "量子物理学では、_状態ベクトル_ を使用してシステムの状態を記述します。これは、一般的に数値のみを使用する古典的な物理学とは異なります。たとえば、道路に沿った車の位置を記述したい場合、これは古典的なシステムであるため、数$x$を使用できます。\n",
    "\n",
    "![tracking a car with scalars](images/car_track_1.jpg)\n",
    "\n",
    "$$ x=4 $$\n",
    "\n",
    "代わりに、_状態ベクトル_ と呼ばれるベクトルで数値のコレクションを使用することもできます。状態ベクトルの各要素には、特定の場所で自動車を見つける確率が含まれています。\n",
    "\n",
    "![tracking a car with vectors](images/car_track_2.jpg)\n",
    "\n",
    "$$\n",
    "|x\\rangle = \\begin{bmatrix} 0\\\\ \\vdots \\\\ 0 \\\\ 1 \\\\ 0 \\\\ \\vdots \\\\ 0 \\end{bmatrix} \n",
    "            \\begin{matrix} \\\\  \\\\  \\\\ \\leftarrow \\\\  \\\\  \\\\  \\\\ \\end{matrix}\n",
    "             \\begin{matrix} \\\\  \\\\ \\text{車が} \\\\ \\text{位置4にある} \\\\ \\text{確率} \\\\  \\\\  \\\\ \\end{matrix}   \n",
    "$$\n",
    "\n",
    "このことは位置に限定されず、車が持つ可能性のあるすべての速度と、車が持つ可能性のあるすべての色の状態ベクトルを保持することもできます。ただ（上記の自動車の例のような）古典的なシステムでは、実際に1つの数値しか必要としないときに巨大なベクトルを維持する必要があるため、これは愚かなことです。しかし、この章で見るように、状態ベクトルは、量子コンピュータを含む量子システムを追跡するための非常に良い方法です。\n",
    "\n",
    "### 1.2 量子ビット表記 <a id=\"notation\"></a>\n",
    "\n",
    "\n",
    "古典的なビット（`c`）の状態を書き留めたいとしましょう。数字の` 0`と `1`を使います。\n",
    "\n",
    "    c = 0\n",
    "\n",
    "古典的なビットは常に明確な状態を持っているので、この表記は問題ありません。ただし、量子ビットには、さまざまな状態が測定される可能性があります。 量子ビットが測定される各状態には、 _振幅_ （複素数）があり、この複素数をみていく必要があります。量子ビットは2つのエネルギーレベルを持つシステムであるため、測定する* と、次の2つの状態のいずれかが検出されます。\n",
    "\n",
    "$$ |0\\rangle \\quad \\&  \\quad |1\\rangle $$\n",
    "\n",
    "<div style=\"font-size: .75em\"> *これはある種類の測定にのみ当てはまりますが、今は心配する必要はありません。これについては、この後のセクションで説明します。</div>\n",
    "\n",
    "つまり、2つの複素数をみていく必要があります。 ベクトルはこれを表現する素晴らしい方法です。\n",
    "\n",
    "$$ |q_0\\rangle = \\begin{bmatrix} \\tfrac{1}{\\sqrt{2}} \\\\ \\tfrac{i}{\\sqrt{2}} \\end{bmatrix} $$\n",
    "\n",
    "ここでは、ベクトル($|q_0\\rangle$)の要素を使用して、状態$|0\\rangle$および$|1\\rangle$の複素振幅の「リスト」を格納します。この場合、$|0\\rangle$の振幅は$\\tfrac{1}{\\sqrt{2}}$で、$|1\\rangle$の振幅は$\\tfrac{i}{\\sqrt{2}}$です。$|$ と $\\rangle$ の記号で囲んで列ベクトルを表すことに注意してください。状態の振幅は、その状態で量子ビットを測定する確率に関連しています。量子ビットの状態が$|0\\rangle$である場合、$|0\\rangle$の振幅は1で、$|1\\rangle$の振幅は0です。したがって、次のように記述できます。\n",
    "\n",
    "$$ |0\\rangle = \\begin{bmatrix} 1 \\\\ 0 \\end{bmatrix} $$\n",
    "\n",
    "そして同様に\n",
    "\n",
    "$$ |1\\rangle = \\begin{bmatrix} 0 \\\\ 1 \\end{bmatrix} $$\n",
    "\n",
    "$|0\\rangle$と$|1\\rangle$は正規直交基底を形成し、$|0\\rangle$と$|1\\rangle$の組み合わせで任意の2次元ベクトルを表すことができることに注意してください。このことを知っておくと、量子ビットの状態を別の形で書くことができます。\n",
    "\n",
    "$$ |q_0\\rangle = \\tfrac{1}{\\sqrt{2}}|0\\rangle + \\tfrac{i}{\\sqrt{2}}|1\\rangle $$\n",
    "\n",
    "\n",
    "<p>\n",
    " <details>\n",
    "  <summary>備忘：行列の加算とスカラーによる乗算（ここをクリックして展開してください）</summary>\n",
    "  <p>2つのベクトルを加算するには、それらの要素を一緒に加算します。\n",
    "    $$|a\\rangle = \\begin{bmatrix}a_0 \\\\ a_1 \\\\ \\vdots \\\\ a_n \\end{bmatrix}, \\quad\n",
    "    |b\\rangle = \\begin{bmatrix}b_0 \\\\ b_1 \\\\ \\vdots \\\\ b_n \\end{bmatrix}$$\n",
    "    $$|a\\rangle + |b\\rangle = \\begin{bmatrix}a_0 + b_0 \\\\ a_1 + b_1 \\\\ \\vdots \\\\ a_n + b_n \\end{bmatrix} $$\n",
    "    </p>\n",
    "  <p>そして、ベクトルにスカラーを掛けるには、各要素にスカラーを掛けます。\n",
    "    $$x|a\\rangle = \\begin{bmatrix}x \\times a_0 \\\\ x \\times  a_1 \\\\ \\vdots \\\\ x \\times  a_n \\end{bmatrix}$$\n",
    "    </p>\n",
    "  <p>これらの2つのルールは、ベクトル$|q_0\\rangle$を書き換えるために使用されます。（上記を参照）\n",
    "      $$\n",
    "      \\begin{aligned} \n",
    "      |q_0\\rangle & = \\tfrac{1}{\\sqrt{2}}|0\\rangle + \\tfrac{i}{\\sqrt{2}}|1\\rangle \\\\\n",
    "                  & = \\tfrac{1}{\\sqrt{2}}\\begin{bmatrix}1\\\\0\\end{bmatrix} + \\tfrac{i}{\\sqrt{2}}\\begin{bmatrix}0\\\\1\\end{bmatrix}\\\\\n",
    "                  & = \\begin{bmatrix}\\tfrac{1}{\\sqrt{2}}\\\\0\\end{bmatrix} + \\begin{bmatrix}0\\\\\\tfrac{i}{\\sqrt{2}}\\end{bmatrix}\\\\\n",
    "                  & = \\begin{bmatrix}\\tfrac{1}{\\sqrt{2}} \\\\ \\tfrac{i}{\\sqrt{2}} \\end{bmatrix}\\\\\n",
    "      \\end{aligned}\n",
    "      $$\n",
    " </details>\n",
    "</p>\n",
    "<p>\n",
    " <details>\n",
    "  <summary>備忘：正規直交基底（ここをクリックして展開してください）</summary>\n",
    "  <p>前に、2つのベクトル$|0\\rangle$と$|1\\rangle$は直交であると述べました。つまり、これらは両方とも<i>直交</i>で<i>正規化</i>されています。 直交とは、ベクトルが直角であることを意味します。\n",
    "  </p><p><img src=\"images/basis.svg\"></p>\n",
    "  <p>正規化とは、その大きさ（矢印の長さ）が1に等しいことを意味します。2つのベクトル$|0\\rangle$と$|1\\rangle$は<i>線形独立</i>です。つまり、$|0\\rangle$を$|1\\rangle$で表すことはできず、逆も同様です。ただし、ベクトル$|0\\rangle$と$|1\\rangle$の両方、およびスカラーによる加算と乗算の規則を使用すると、2次元空間で可能なすべてのベクトルを記述できます。\n",
    "    </p><p><img src=\"images/basis2.svg\"></p>\n",
    "  <p>ベクトル$|0\\rangle$と$|1\\rangle$は線形独立であり、ベクトルの加算とスカラー倍算を使用して2次元空間で任意のベクトルを記述するのに使用できるため、ベクトル$|0\\rangle$と$|1\\rangle$は<i>基底</i>を形成します。 この場合、それらは直交であり、正規化されているため、これを<i>正規直交基底</i>と呼びます。</p>\n",
    " </details>\n",
    "</p>\n",
    "\n",
    "このベクトル$|q_0\\rangle$は、量子ビットの _状態ベクトル_ と呼ばれます。これは、この量子ビットについておそらく知ることができるすべてのことを示しています。$|0\\rangle$と$|1\\rangle$の振幅がゼロではないため、量子ビットは$|0\\rangle$と$|1\\rangle$の状態の _重ね合わせ_ にあると言われます。\n",
    "\n",
    "### 1.3 Qiskitを使って量子ビットを探索する<a id=\"exploring-qubits\"></a>\n",
    "\n",
    "まず、必要なすべてのツールをインポートする必要があります。"
   ]
  },
  {
   "cell_type": "code",
   "execution_count": 1,
   "metadata": {},
   "outputs": [],
   "source": [
    "from qiskit import QuantumCircuit, execute, Aer\n",
    "from qiskit.visualization import plot_histogram, plot_bloch_vector\n",
    "from math import sqrt, pi"
   ]
  },
  {
   "cell_type": "markdown",
   "metadata": {},
   "source": [
    "さらに、画像出力を改善するために設定を変更します。（IPython環境で実行していない場合は、この行を無視してください。）"
   ]
  },
  {
   "cell_type": "code",
   "execution_count": 2,
   "metadata": {},
   "outputs": [],
   "source": [
    "%config InlineBackend.figure_format = 'svg' # 画像を美しく見せます。"
   ]
  },
  {
   "cell_type": "markdown",
   "metadata": {},
   "source": [
    "Qiskitでは、`QuantumCircuit`オブジェクトを使用して回路を格納します。これは基本的に、回路内の量子ゲートとそれらが適用される量子ビットのリストです。"
   ]
  },
  {
   "cell_type": "code",
   "execution_count": 3,
   "metadata": {},
   "outputs": [],
   "source": [
    "qc = QuantumCircuit(1) # 1量子ビットで量子回路を作成します。"
   ]
  },
  {
   "cell_type": "markdown",
   "metadata": {},
   "source": [
    "私たちの量子回路では、量子ビットは常に$|0\\rangle$の状態で始まります。`initialize()`メソッドを使用して、これを任意の状態に変換できます。`initialize()`にリストの形式で必要なベクトルを与え、この状態でどの量子ビットを初期化したいかを伝えます。"
   ]
  },
  {
   "cell_type": "code",
   "execution_count": 4,
   "metadata": {},
   "outputs": [
    {
     "data": {
      "text/html": [
       "<pre style=\"word-wrap: normal;white-space: pre;background: #fff0;line-height: 1.1;font-family: &quot;Courier New&quot;,Courier,monospace\">     ┌─────────────────┐\n",
       "q_0: ┤ Initialize(0,1) ├\n",
       "     └─────────────────┘</pre>"
      ],
      "text/plain": [
       "     ┌─────────────────┐\n",
       "q_0: ┤ Initialize(0,1) ├\n",
       "     └─────────────────┘"
      ]
     },
     "execution_count": 4,
     "metadata": {},
     "output_type": "execute_result"
    }
   ],
   "source": [
    "initial_state = [0,1]   # 初期状態を|1>と定義します。\n",
    "qc.initialize(initial_state, 0) # 初期化操作を0番目の量子ビットに適用します。\n",
    "qc.draw()              # 回路を見てみましょう。"
   ]
  },
  {
   "cell_type": "markdown",
   "metadata": {},
   "source": [
    "次に、Qiskitのシミュレーターの1つを使用して、量子ビットの結果の状態を表示できます。 最初に、statevectorシミュレーターを使用しますが、さまざまなシミュレーターとその使用法については後で説明します。"
   ]
  },
  {
   "cell_type": "code",
   "execution_count": 5,
   "metadata": {},
   "outputs": [],
   "source": [
    "backend = Aer.get_backend('statevector_simulator') # Qiskitに回路のシミュレーション方法を伝えます。"
   ]
  },
  {
   "cell_type": "markdown",
   "metadata": {},
   "source": [
    "回路から結果を取得するには、`execute`を使用して回路を実行し、circuitとbackendを引数として指定します。 次に、`.result()`を使用して、この結果を取得します。"
   ]
  },
  {
   "cell_type": "code",
   "execution_count": 6,
   "metadata": {},
   "outputs": [],
   "source": [
    "result = execute(qc,backend).result() # シミュレーションを行い、結果を返します。"
   ]
  },
  {
   "cell_type": "markdown",
   "metadata": {},
   "source": [
    "`result`から、`.get_statevector()`を使用して最終的な状態ベクトルを取得できます。"
   ]
  },
  {
   "cell_type": "code",
   "execution_count": 7,
   "metadata": {},
   "outputs": [
    {
     "name": "stdout",
     "output_type": "stream",
     "text": [
      "[0.+0.j 1.+0.j]\n"
     ]
    }
   ],
   "source": [
    "out_state = result.get_statevector()\n",
    "print(out_state) # 出力状態ベクトルを表示します。"
   ]
  },
  {
   "cell_type": "markdown",
   "metadata": {},
   "source": [
    "**注意** Pythonは`j`を使用して複素数の$i$を表します。2つの複素数の要素を持つベクトルが表示されます。`0.+0.j` = 0と `1.+0.j` = 1です。\n",
    "\n",
    "実際の量子コンピューターと同じように量子ビットを測定して、結果を見てみましょう。"
   ]
  },
  {
   "cell_type": "code",
   "execution_count": 8,
   "metadata": {},
   "outputs": [
    {
     "data": {
      "text/html": [
       "<pre style=\"word-wrap: normal;white-space: pre;background: #fff0;line-height: 1.1;font-family: &quot;Courier New&quot;,Courier,monospace\">        ┌─────────────────┐ ░ ┌─┐\n",
       "   q_0: ┤ Initialize(0,1) ├─░─┤M├\n",
       "        └─────────────────┘ ░ └╥┘\n",
       "meas_0: ═══════════════════════╩═\n",
       "                                 </pre>"
      ],
      "text/plain": [
       "        ┌─────────────────┐ ░ ┌─┐\n",
       "   q_0: ┤ Initialize(0,1) ├─░─┤M├\n",
       "        └─────────────────┘ ░ └╥┘\n",
       "meas_0: ═══════════════════════╩═\n",
       "                                 "
      ]
     },
     "execution_count": 8,
     "metadata": {},
     "output_type": "execute_result"
    }
   ],
   "source": [
    "qc.measure_all()\n",
    "qc.draw()"
   ]
  },
  {
   "cell_type": "markdown",
   "metadata": {},
   "source": [
    "今回は、statevectorの代わりに、`.get_counts()`を使用して `0`と`1`の結果のカウントを取得します。"
   ]
  },
  {
   "cell_type": "code",
   "execution_count": 9,
   "metadata": {},
   "outputs": [
    {
     "data": {
      "image/svg+xml": [
       "<?xml version=\"1.0\" encoding=\"UTF-8\"?><!DOCTYPE svg  PUBLIC '-//W3C//DTD SVG 1.1//EN'  'http://www.w3.org/Graphics/SVG/1.1/DTD/svg11.dtd'><svg width=\"460.72pt\" height=\"306.2pt\" version=\"1.1\" viewBox=\"0 0 460.72 306.2\" xmlns=\"http://www.w3.org/2000/svg\" xmlns:xlink=\"http://www.w3.org/1999/xlink\"><defs><style type=\"text/css\">*{stroke-linecap:butt;stroke-linejoin:round;}</style></defs><path d=\"m0 306.2h460.72v-306.2h-460.72z\" fill=\"none\"/><path d=\"m62.921 279h390.6v-271.8h-390.6z\" fill=\"#ffffff\"/><defs><path id=\"m134f5a0f93\" d=\"m0 0v3.5\" stroke=\"#000000\" stroke-width=\".8\"/></defs><use x=\"258.22125\" y=\"279\" stroke=\"#000000\" stroke-width=\".8\" xlink:href=\"#m134f5a0f93\"/><defs><path id=\"DejaVuSans-49\" d=\"m12.406 8.2969h16.109v55.625l-17.531-3.5156v8.9844l17.438 3.5156h9.8594v-64.609h16.109v-8.2969h-41.984z\"/></defs><g transform=\"translate(260.33 298.01) rotate(-70) scale(.14 -.14)\"><use xlink:href=\"#DejaVuSans-49\"/></g><path d=\"m62.921 279h390.6\" clip-path=\"url(#p4d5d618bb1)\" fill=\"none\" stroke=\"#b0b0b0\" stroke-dasharray=\"2.96,1.28\" stroke-width=\".8\"/><defs><path id=\"m73d8448a7b\" d=\"m0 0h-3.5\" stroke=\"#000000\" stroke-width=\".8\"/></defs><use x=\"62.92125\" y=\"279\" stroke=\"#000000\" stroke-width=\".8\" xlink:href=\"#m73d8448a7b\"/><defs><path id=\"DejaVuSans-48\" d=\"m31.781 66.406q-7.6094 0-11.453-7.5-3.8281-7.4844-3.8281-22.531 0-14.984 3.8281-22.484 3.8438-7.5 11.453-7.5 7.6719 0 11.5 7.5 3.8438 7.5 3.8438 22.484 0 15.047-3.8438 22.531-3.8281 7.5-11.5 7.5zm0 7.8125q12.266 0 18.734-9.7031 6.4688-9.6875 6.4688-28.141 0-18.406-6.4688-28.109-6.4688-9.6875-18.734-9.6875-12.25 0-18.719 9.6875-6.4688 9.7031-6.4688 28.109 0 18.453 6.4688 28.141 6.4688 9.7031 18.719 9.7031z\"/><path id=\"DejaVuSans-46\" d=\"m10.688 12.406h10.312v-12.406h-10.312z\"/></defs><g transform=\"translate(24.749 284.32) scale(.14 -.14)\"><use xlink:href=\"#DejaVuSans-48\"/><use x=\"63.623047\" xlink:href=\"#DejaVuSans-46\"/><use x=\"95.410156\" xlink:href=\"#DejaVuSans-48\"/><use x=\"159.033203\" xlink:href=\"#DejaVuSans-48\"/></g><path d=\"m62.921 222.38h390.6\" clip-path=\"url(#p4d5d618bb1)\" fill=\"none\" stroke=\"#b0b0b0\" stroke-dasharray=\"2.96,1.28\" stroke-width=\".8\"/><use x=\"62.92125\" y=\"222.375\" stroke=\"#000000\" stroke-width=\".8\" xlink:href=\"#m73d8448a7b\"/><defs><path id=\"DejaVuSans-50\" d=\"m19.188 8.2969h34.422v-8.2969h-46.281v8.2969q5.6094 5.8125 15.297 15.594 9.7031 9.7969 12.188 12.641 4.7344 5.3125 6.6094 9 1.8906 3.6875 1.8906 7.25 0 5.8125-4.0781 9.4688-4.0781 3.6719-10.625 3.6719-4.6406 0-9.7969-1.6094-5.1406-1.6094-11-4.8906v9.9688q5.9531 2.3906 11.125 3.6094 5.1875 1.2188 9.4844 1.2188 11.328 0 18.062-5.6719 6.7344-5.6562 6.7344-15.125 0-4.5-1.6875-8.5312-1.6719-4.0156-6.125-9.4844-1.2188-1.4219-7.7656-8.1875-6.5312-6.7656-18.453-18.922z\"/><path id=\"DejaVuSans-53\" d=\"m10.797 72.906h38.719v-8.3125h-29.688v-17.859q2.1406 0.73438 4.2812 1.0938 2.1562 0.35938 4.3125 0.35938 12.203 0 19.328-6.6875 7.1406-6.6875 7.1406-18.109 0-11.766-7.3281-18.297-7.3281-6.5156-20.656-6.5156-4.5938 0-9.3594 0.78125-4.75 0.78125-9.8281 2.3438v9.9219q4.3906-2.3906 9.0781-3.5625t9.9062-1.1719q8.4531 0 13.375 4.4375 4.9375 4.4375 4.9375 12.062 0 7.6094-4.9375 12.047-4.9219 4.4531-13.375 4.4531-3.9531 0-7.8906-0.875-3.9219-0.875-8.0156-2.7344z\"/></defs><g transform=\"translate(24.749 227.69) scale(.14 -.14)\"><use xlink:href=\"#DejaVuSans-48\"/><use x=\"63.623047\" xlink:href=\"#DejaVuSans-46\"/><use x=\"95.410156\" xlink:href=\"#DejaVuSans-50\"/><use x=\"159.033203\" xlink:href=\"#DejaVuSans-53\"/></g><path d=\"m62.921 165.75h390.6\" clip-path=\"url(#p4d5d618bb1)\" fill=\"none\" stroke=\"#b0b0b0\" stroke-dasharray=\"2.96,1.28\" stroke-width=\".8\"/><use x=\"62.92125\" y=\"165.75\" stroke=\"#000000\" stroke-width=\".8\" xlink:href=\"#m73d8448a7b\"/><g transform=\"translate(24.749 171.07) scale(.14 -.14)\"><use xlink:href=\"#DejaVuSans-48\"/><use x=\"63.623047\" xlink:href=\"#DejaVuSans-46\"/><use x=\"95.410156\" xlink:href=\"#DejaVuSans-53\"/><use x=\"159.033203\" xlink:href=\"#DejaVuSans-48\"/></g><path d=\"m62.921 109.12h390.6\" clip-path=\"url(#p4d5d618bb1)\" fill=\"none\" stroke=\"#b0b0b0\" stroke-dasharray=\"2.96,1.28\" stroke-width=\".8\"/><use x=\"62.92125\" y=\"109.125\" stroke=\"#000000\" stroke-width=\".8\" xlink:href=\"#m73d8448a7b\"/><defs><path id=\"DejaVuSans-55\" d=\"m8.2031 72.906h46.875v-4.2031l-26.469-68.703h-10.297l24.906 64.594h-35.016z\"/></defs><g transform=\"translate(24.749 114.44) scale(.14 -.14)\"><use xlink:href=\"#DejaVuSans-48\"/><use x=\"63.623047\" xlink:href=\"#DejaVuSans-46\"/><use x=\"95.410156\" xlink:href=\"#DejaVuSans-55\"/><use x=\"159.033203\" xlink:href=\"#DejaVuSans-53\"/></g><path d=\"m62.921 52.5h390.6\" clip-path=\"url(#p4d5d618bb1)\" fill=\"none\" stroke=\"#b0b0b0\" stroke-dasharray=\"2.96,1.28\" stroke-width=\".8\"/><use x=\"62.92125\" y=\"52.5\" stroke=\"#000000\" stroke-width=\".8\" xlink:href=\"#m73d8448a7b\"/><g transform=\"translate(24.749 57.819) scale(.14 -.14)\"><use xlink:href=\"#DejaVuSans-49\"/><use x=\"63.623047\" xlink:href=\"#DejaVuSans-46\"/><use x=\"95.410156\" xlink:href=\"#DejaVuSans-48\"/><use x=\"159.033203\" xlink:href=\"#DejaVuSans-48\"/></g><defs><path id=\"DejaVuSans-80\" d=\"m19.672 64.797v-27.391h12.406q6.8906 0 10.641 3.5625 3.7656 3.5625 3.7656 10.156 0 6.5469-3.7656 10.109-3.75 3.5625-10.641 3.5625zm-9.8594 8.1094h22.266q12.266 0 18.531-5.5469 6.2812-5.5469 6.2812-16.234 0-10.797-6.2812-16.312-6.2656-5.5156-18.531-5.5156h-12.406v-29.297h-9.8594z\"/><path id=\"DejaVuSans-114\" d=\"m41.109 46.297q-1.5156 0.875-3.2969 1.2812-1.7812 0.42188-3.9219 0.42188-7.625 0-11.703-4.9531t-4.0781-14.234v-28.812h-9.0312v54.688h9.0312v-8.5q2.8438 4.9844 7.375 7.3906 4.5469 2.4219 11.047 2.4219 0.92188 0 2.0469-0.125 1.125-0.10938 2.4844-0.35938z\"/><path id=\"DejaVuSans-111\" d=\"m30.609 48.391q-7.2188 0-11.422-5.6406t-4.2031-15.453 4.1719-15.453q4.1875-5.6406 11.453-5.6406 7.1875 0 11.375 5.6562 4.2031 5.6719 4.2031 15.438 0 9.7188-4.2031 15.406-4.1875 5.6875-11.375 5.6875zm0 7.6094q11.719 0 18.406-7.625 6.7031-7.6094 6.7031-21.078 0-13.422-6.7031-21.078-6.6875-7.6406-18.406-7.6406-11.766 0-18.438 7.6406-6.6562 7.6562-6.6562 21.078 0 13.469 6.6562 21.078 6.6719 7.625 18.438 7.625z\"/><path id=\"DejaVuSans-98\" d=\"m48.688 27.297q0 9.9062-4.0781 15.547t-11.203 5.6406q-7.1406 0-11.219-5.6406t-4.0781-15.547 4.0781-15.547 11.219-5.6406q7.125 0 11.203 5.6406t4.0781 15.547zm-30.578 19.094q2.8438 4.875 7.1562 7.2344 4.3281 2.375 10.328 2.375 9.9688 0 16.188-7.9062 6.2344-7.9062 6.2344-20.797t-6.2344-20.812q-6.2188-7.9062-16.188-7.9062-6 0-10.328 2.375-4.3125 2.375-7.1562 7.25v-8.2031h-9.0312v75.984h9.0312z\"/><path id=\"DejaVuSans-97\" d=\"m34.281 27.484q-10.891 0-15.094-2.4844t-4.2031-8.5q0-4.7812 3.1562-7.5938 3.1562-2.7969 8.5625-2.7969 7.4844 0 12 5.2969t4.5156 14.078v2zm17.922 3.7188v-31.203h-8.9844v8.2969q-3.0781-4.9688-7.6719-7.3438t-11.234-2.375q-8.3906 0-13.359 4.7188-4.9531 4.7188-4.9531 12.625 0 9.2188 6.1719 13.906 6.1875 4.6875 18.438 4.6875h12.609v0.89062q0 6.2031-4.0781 9.5938t-11.453 3.3906q-4.6875 0-9.1406-1.125-4.4375-1.125-8.5312-3.375v8.3125q4.9219 1.9062 9.5625 2.8438 4.6406 0.95312 9.0312 0.95312 11.875 0 17.734-6.1562 5.8594-6.1406 5.8594-18.641z\"/><path id=\"DejaVuSans-105\" d=\"m9.4219 54.688h8.9844v-54.688h-8.9844zm0 21.297h8.9844v-11.391h-8.9844z\"/><path id=\"DejaVuSans-108\" d=\"m9.4219 75.984h8.9844v-75.984h-8.9844z\"/><path id=\"DejaVuSans-116\" d=\"m18.312 70.219v-15.531h18.5v-6.9844h-18.5v-29.688q0-6.6875 1.8281-8.5938t7.4531-1.9062h9.2188v-7.5156h-9.2188q-10.406 0-14.359 3.875-3.9531 3.8906-3.9531 14.141v29.688h-6.5938v6.9844h6.5938v15.531z\"/><path id=\"DejaVuSans-101\" d=\"m56.203 29.594v-4.3906h-41.312q0.59375-9.2812 5.5938-14.141t13.938-4.8594q5.1719 0 10.031 1.2656t9.6562 3.8125v-8.5q-4.8438-2.0469-9.9219-3.125t-10.297-1.0781q-13.094 0-20.734 7.6094-7.6406 7.625-7.6406 20.625 0 13.422 7.25 21.297 7.25 7.8906 19.562 7.8906 11.031 0 17.453-7.1094 6.4219-7.0938 6.4219-19.297zm-8.9844 2.6406q-0.09375 7.3594-4.125 11.75-4.0312 4.4062-10.672 4.4062-7.5156 0-12.031-4.25t-5.2031-11.969z\"/><path id=\"DejaVuSans-115\" d=\"m44.281 53.078v-8.5q-3.7969 1.9531-7.9062 2.9219-4.0938 0.98438-8.5 0.98438-6.6875 0-10.031-2.0469t-3.3438-6.1562q0-3.125 2.3906-4.9062t9.625-3.3906l3.0781-0.6875q9.5625-2.0469 13.594-5.7812t4.0312-10.422q0-7.625-6.0312-12.078-6.0312-4.4375-16.578-4.4375-4.3906 0-9.1562 0.85938t-10.031 2.5625v9.2812q4.9844-2.5938 9.8125-3.8906 4.8281-1.2812 9.5781-1.2812 6.3438 0 9.75 2.1719 3.4219 2.1719 3.4219 6.125 0 3.6562-2.4688 5.6094-2.4531 1.9531-10.812 3.7656l-3.125 0.73438q-8.3438 1.75-12.062 5.3906-3.7031 3.6406-3.7031 9.9844 0 7.7188 5.4688 11.906 5.4688 4.2031 15.531 4.2031 4.9688 0 9.3594-0.73438 4.4062-0.71875 8.1094-2.1875z\"/></defs><g transform=\"translate(17.838 185.86) rotate(-90) scale(.14 -.14)\"><use xlink:href=\"#DejaVuSans-80\"/><use x=\"58.552734\" xlink:href=\"#DejaVuSans-114\"/><use x=\"97.416016\" xlink:href=\"#DejaVuSans-111\"/><use x=\"158.597656\" xlink:href=\"#DejaVuSans-98\"/><use x=\"222.074219\" xlink:href=\"#DejaVuSans-97\"/><use x=\"283.353516\" xlink:href=\"#DejaVuSans-98\"/><use x=\"346.830078\" xlink:href=\"#DejaVuSans-105\"/><use x=\"374.613281\" xlink:href=\"#DejaVuSans-108\"/><use x=\"402.396484\" xlink:href=\"#DejaVuSans-105\"/><use x=\"430.179688\" xlink:href=\"#DejaVuSans-116\"/><use x=\"469.388672\" xlink:href=\"#DejaVuSans-105\"/><use x=\"497.171875\" xlink:href=\"#DejaVuSans-101\"/><use x=\"558.695312\" xlink:href=\"#DejaVuSans-115\"/></g><path d=\"m80.676 279h355.09v-226.5h-355.09z\" clip-path=\"url(#p4d5d618bb1)\" fill=\"#648fff\"/><path d=\"m62.921 279v-271.8\" fill=\"none\" stroke=\"#000000\" stroke-linecap=\"square\" stroke-width=\".8\"/><path d=\"m453.52 279v-271.8\" fill=\"none\" stroke=\"#000000\" stroke-linecap=\"square\" stroke-width=\".8\"/><path d=\"m62.921 279h390.6\" fill=\"none\" stroke=\"#000000\" stroke-linecap=\"square\" stroke-width=\".8\"/><path d=\"m62.921 7.2h390.6\" fill=\"none\" stroke=\"#000000\" stroke-linecap=\"square\" stroke-width=\".8\"/><g transform=\"translate(243.91 39.095) scale(.1 -.1)\"><use xlink:href=\"#DejaVuSans-49\"/><use x=\"63.623047\" xlink:href=\"#DejaVuSans-46\"/><use x=\"95.410156\" xlink:href=\"#DejaVuSans-48\"/><use x=\"159.033203\" xlink:href=\"#DejaVuSans-48\"/><use x=\"222.65625\" xlink:href=\"#DejaVuSans-48\"/></g><defs><clipPath id=\"p4d5d618bb1\"><rect x=\"62.921\" y=\"7.2\" width=\"390.6\" height=\"271.8\"/></clipPath></defs></svg>"
      ],
      "text/plain": [
       "<Figure size 504x360 with 1 Axes>"
      ]
     },
     "execution_count": 9,
     "metadata": {},
     "output_type": "execute_result"
    }
   ],
   "source": [
    "result = execute(qc,backend).result()\n",
    "counts = result.get_counts()\n",
    "plot_histogram(counts)"
   ]
  },
  {
   "cell_type": "markdown",
   "metadata": {},
   "source": [
    "（当然のことながら）$|1\\rangle$を測定する可能性が100％あることがわかります。 では、代わりに量子ビットを重ね合わせて、何が起こるか見てみましょう。 このセクションの前半の状態$|q_0\\rangle$を使用します。\n",
    "\n",
    "$$ |q_0\\rangle = \\tfrac{1}{\\sqrt{2}}|0\\rangle + \\tfrac{i}{\\sqrt{2}}|1\\rangle $$\n",
    "\n",
    "これらの振幅をpythonリストに追加する必要があります。 複素振幅を追加するには、 `complex`を使用して、実数部と虚数部を引数として指定します。"
   ]
  },
  {
   "cell_type": "code",
   "execution_count": 10,
   "metadata": {},
   "outputs": [],
   "source": [
    "initial_state = [1/sqrt(2), complex(0,1/sqrt(2))] # 状態|q>を定義します。"
   ]
  },
  {
   "cell_type": "markdown",
   "metadata": {},
   "source": [
    "次に、以前と同じように量子ビットを初期化するための手順を繰り返します。"
   ]
  },
  {
   "cell_type": "code",
   "execution_count": 11,
   "metadata": {},
   "outputs": [
    {
     "name": "stdout",
     "output_type": "stream",
     "text": [
      "[0.70710678+0.j         0.        +0.70710678j]\n"
     ]
    }
   ],
   "source": [
    "qc = QuantumCircuit(1) # qcを再定義する必要があります。\n",
    "qc.initialize(initial_state, 0) # `initial_state`状態の0番目の量子ビットを初期化します。\n",
    "state = execute(qc,backend).result().get_statevector() # 回路を実行します。\n",
    "print(state)           # 結果を表示します。"
   ]
  },
  {
   "cell_type": "code",
   "execution_count": 12,
   "metadata": {},
   "outputs": [
    {
     "data": {
      "image/svg+xml": [
       "<?xml version=\"1.0\" encoding=\"UTF-8\"?><!DOCTYPE svg  PUBLIC '-//W3C//DTD SVG 1.1//EN'  'http://www.w3.org/Graphics/SVG/1.1/DTD/svg11.dtd'><svg width=\"460.72pt\" height=\"311.52pt\" version=\"1.1\" viewBox=\"0 0 460.72 311.52\" xmlns=\"http://www.w3.org/2000/svg\" xmlns:xlink=\"http://www.w3.org/1999/xlink\"><defs><style type=\"text/css\">*{stroke-linecap:butt;stroke-linejoin:round;}</style></defs><path d=\"m0 311.52h460.72v-311.52h-460.72z\" fill=\"none\"/><path d=\"m62.921 284.32h390.6v-271.8h-390.6z\" fill=\"#ffffff\"/><defs><path id=\"m62847e59df\" d=\"m0 0v3.5\" stroke=\"#000000\" stroke-width=\".8\"/></defs><use x=\"139.857614\" y=\"284.318906\" stroke=\"#000000\" stroke-width=\".8\" xlink:href=\"#m62847e59df\"/><defs><path id=\"DejaVuSans-48\" d=\"m31.781 66.406q-7.6094 0-11.453-7.5-3.8281-7.4844-3.8281-22.531 0-14.984 3.8281-22.484 3.8438-7.5 11.453-7.5 7.6719 0 11.5 7.5 3.8438 7.5 3.8438 22.484 0 15.047-3.8438 22.531-3.8281 7.5-11.5 7.5zm0 7.8125q12.266 0 18.734-9.7031 6.4688-9.6875 6.4688-28.141 0-18.406-6.4688-28.109-6.4688-9.6875-18.734-9.6875-12.25 0-18.719 9.6875-6.4688 9.7031-6.4688 28.109 0 18.453 6.4688 28.141 6.4688 9.7031 18.719 9.7031z\"/></defs><g transform=\"translate(141.96 303.33) rotate(-70) scale(.14 -.14)\"><use xlink:href=\"#DejaVuSans-48\"/></g><use x=\"376.584886\" y=\"284.318906\" stroke=\"#000000\" stroke-width=\".8\" xlink:href=\"#m62847e59df\"/><defs><path id=\"DejaVuSans-49\" d=\"m12.406 8.2969h16.109v55.625l-17.531-3.5156v8.9844l17.438 3.5156h9.8594v-64.609h16.109v-8.2969h-41.984z\"/></defs><g transform=\"translate(378.69 303.33) rotate(-70) scale(.14 -.14)\"><use xlink:href=\"#DejaVuSans-49\"/></g><path d=\"m62.921 284.32h390.6\" clip-path=\"url(#pf4df0363f5)\" fill=\"none\" stroke=\"#b0b0b0\" stroke-dasharray=\"2.96,1.28\" stroke-width=\".8\"/><defs><path id=\"md1796136c2\" d=\"m0 0h-3.5\" stroke=\"#000000\" stroke-width=\".8\"/></defs><use x=\"62.92125\" y=\"284.318906\" stroke=\"#000000\" stroke-width=\".8\" xlink:href=\"#md1796136c2\"/><defs><path id=\"DejaVuSans-46\" d=\"m10.688 12.406h10.312v-12.406h-10.312z\"/></defs><g transform=\"translate(24.749 289.64) scale(.14 -.14)\"><use xlink:href=\"#DejaVuSans-48\"/><use x=\"63.623047\" xlink:href=\"#DejaVuSans-46\"/><use x=\"95.410156\" xlink:href=\"#DejaVuSans-48\"/><use x=\"159.033203\" xlink:href=\"#DejaVuSans-48\"/></g><path d=\"m62.921 216.37h390.6\" clip-path=\"url(#pf4df0363f5)\" fill=\"none\" stroke=\"#b0b0b0\" stroke-dasharray=\"2.96,1.28\" stroke-width=\".8\"/><use x=\"62.92125\" y=\"216.368906\" stroke=\"#000000\" stroke-width=\".8\" xlink:href=\"#md1796136c2\"/><defs><path id=\"DejaVuSans-53\" d=\"m10.797 72.906h38.719v-8.3125h-29.688v-17.859q2.1406 0.73438 4.2812 1.0938 2.1562 0.35938 4.3125 0.35938 12.203 0 19.328-6.6875 7.1406-6.6875 7.1406-18.109 0-11.766-7.3281-18.297-7.3281-6.5156-20.656-6.5156-4.5938 0-9.3594 0.78125-4.75 0.78125-9.8281 2.3438v9.9219q4.3906-2.3906 9.0781-3.5625t9.9062-1.1719q8.4531 0 13.375 4.4375 4.9375 4.4375 4.9375 12.062 0 7.6094-4.9375 12.047-4.9219 4.4531-13.375 4.4531-3.9531 0-7.8906-0.875-3.9219-0.875-8.0156-2.7344z\"/></defs><g transform=\"translate(24.749 221.69) scale(.14 -.14)\"><use xlink:href=\"#DejaVuSans-48\"/><use x=\"63.623047\" xlink:href=\"#DejaVuSans-46\"/><use x=\"95.410156\" xlink:href=\"#DejaVuSans-49\"/><use x=\"159.033203\" xlink:href=\"#DejaVuSans-53\"/></g><path d=\"m62.921 148.42h390.6\" clip-path=\"url(#pf4df0363f5)\" fill=\"none\" stroke=\"#b0b0b0\" stroke-dasharray=\"2.96,1.28\" stroke-width=\".8\"/><use x=\"62.92125\" y=\"148.418906\" stroke=\"#000000\" stroke-width=\".8\" xlink:href=\"#md1796136c2\"/><defs><path id=\"DejaVuSans-51\" d=\"m40.578 39.312q7.0781-1.5156 11.047-6.3125 3.9844-4.7812 3.9844-11.812 0-10.781-7.4219-16.703-7.4219-5.9062-21.094-5.9062-4.5781 0-9.4375 0.90625t-10.031 2.7188v9.5156q4.0938-2.3906 8.9688-3.6094 4.8906-1.2188 10.219-1.2188 9.2656 0 14.125 3.6562t4.8594 10.641q0 6.4531-4.5156 10.078-4.5156 3.6406-12.562 3.6406h-8.5v8.1094h8.8906q7.2656 0 11.125 2.9062t3.8594 8.375q0 5.6094-3.9844 8.6094-3.9688 3.0156-11.391 3.0156-4.0625 0-8.7031-0.89062-4.6406-0.875-10.203-2.7188v8.7812q5.625 1.5625 10.531 2.3438t9.25 0.78125q11.234 0 17.766-5.1094 6.5469-5.0938 6.5469-13.781 0-6.0625-3.4688-10.234t-9.8594-5.7812z\"/></defs><g transform=\"translate(24.749 153.74) scale(.14 -.14)\"><use xlink:href=\"#DejaVuSans-48\"/><use x=\"63.623047\" xlink:href=\"#DejaVuSans-46\"/><use x=\"95.410156\" xlink:href=\"#DejaVuSans-51\"/><use x=\"159.033203\" xlink:href=\"#DejaVuSans-48\"/></g><path d=\"m62.921 80.469h390.6\" clip-path=\"url(#pf4df0363f5)\" fill=\"none\" stroke=\"#b0b0b0\" stroke-dasharray=\"2.96,1.28\" stroke-width=\".8\"/><use x=\"62.92125\" y=\"80.468906\" stroke=\"#000000\" stroke-width=\".8\" xlink:href=\"#md1796136c2\"/><defs><path id=\"DejaVuSans-52\" d=\"m37.797 64.312-24.906-38.922h24.906zm-2.5938 8.5938h12.406v-47.516h10.406v-8.2031h-10.406v-17.188h-9.8125v17.188h-32.906v9.5156z\"/></defs><g transform=\"translate(24.749 85.788) scale(.14 -.14)\"><use xlink:href=\"#DejaVuSans-48\"/><use x=\"63.623047\" xlink:href=\"#DejaVuSans-46\"/><use x=\"95.410156\" xlink:href=\"#DejaVuSans-52\"/><use x=\"159.033203\" xlink:href=\"#DejaVuSans-53\"/></g><path d=\"m62.921 12.519h390.6\" clip-path=\"url(#pf4df0363f5)\" fill=\"none\" stroke=\"#b0b0b0\" stroke-dasharray=\"2.96,1.28\" stroke-width=\".8\"/><use x=\"62.92125\" y=\"12.518906\" stroke=\"#000000\" stroke-width=\".8\" xlink:href=\"#md1796136c2\"/><defs><path id=\"DejaVuSans-54\" d=\"m33.016 40.375q-6.6406 0-10.531-4.5469-3.875-4.5312-3.875-12.438 0-7.8594 3.875-12.438 3.8906-4.5625 10.531-4.5625t10.516 4.5625q3.875 4.5781 3.875 12.438 0 7.9062-3.875 12.438-3.875 4.5469-10.516 4.5469zm19.578 30.922v-8.9844q-3.7188 1.75-7.5 2.6719-3.7812 0.9375-7.5 0.9375-9.7656 0-14.922-6.5938-5.1406-6.5938-5.875-19.922 2.875 4.25 7.2188 6.5156 4.3594 2.2656 9.5781 2.2656 10.984 0 17.359-6.6719 6.375-6.6562 6.375-18.125 0-11.234-6.6406-18.031-6.6406-6.7812-17.672-6.7812-12.656 0-19.344 9.6875-6.6875 9.7031-6.6875 28.109 0 17.281 8.2031 27.562t22.016 10.281q3.7188 0 7.5-0.73438t7.8906-2.1875z\"/></defs><g transform=\"translate(24.749 17.838) scale(.14 -.14)\"><use xlink:href=\"#DejaVuSans-48\"/><use x=\"63.623047\" xlink:href=\"#DejaVuSans-46\"/><use x=\"95.410156\" xlink:href=\"#DejaVuSans-54\"/><use x=\"159.033203\" xlink:href=\"#DejaVuSans-48\"/></g><defs><path id=\"DejaVuSans-80\" d=\"m19.672 64.797v-27.391h12.406q6.8906 0 10.641 3.5625 3.7656 3.5625 3.7656 10.156 0 6.5469-3.7656 10.109-3.75 3.5625-10.641 3.5625zm-9.8594 8.1094h22.266q12.266 0 18.531-5.5469 6.2812-5.5469 6.2812-16.234 0-10.797-6.2812-16.312-6.2656-5.5156-18.531-5.5156h-12.406v-29.297h-9.8594z\"/><path id=\"DejaVuSans-114\" d=\"m41.109 46.297q-1.5156 0.875-3.2969 1.2812-1.7812 0.42188-3.9219 0.42188-7.625 0-11.703-4.9531t-4.0781-14.234v-28.812h-9.0312v54.688h9.0312v-8.5q2.8438 4.9844 7.375 7.3906 4.5469 2.4219 11.047 2.4219 0.92188 0 2.0469-0.125 1.125-0.10938 2.4844-0.35938z\"/><path id=\"DejaVuSans-111\" d=\"m30.609 48.391q-7.2188 0-11.422-5.6406t-4.2031-15.453 4.1719-15.453q4.1875-5.6406 11.453-5.6406 7.1875 0 11.375 5.6562 4.2031 5.6719 4.2031 15.438 0 9.7188-4.2031 15.406-4.1875 5.6875-11.375 5.6875zm0 7.6094q11.719 0 18.406-7.625 6.7031-7.6094 6.7031-21.078 0-13.422-6.7031-21.078-6.6875-7.6406-18.406-7.6406-11.766 0-18.438 7.6406-6.6562 7.6562-6.6562 21.078 0 13.469 6.6562 21.078 6.6719 7.625 18.438 7.625z\"/><path id=\"DejaVuSans-98\" d=\"m48.688 27.297q0 9.9062-4.0781 15.547t-11.203 5.6406q-7.1406 0-11.219-5.6406t-4.0781-15.547 4.0781-15.547 11.219-5.6406q7.125 0 11.203 5.6406t4.0781 15.547zm-30.578 19.094q2.8438 4.875 7.1562 7.2344 4.3281 2.375 10.328 2.375 9.9688 0 16.188-7.9062 6.2344-7.9062 6.2344-20.797t-6.2344-20.812q-6.2188-7.9062-16.188-7.9062-6 0-10.328 2.375-4.3125 2.375-7.1562 7.25v-8.2031h-9.0312v75.984h9.0312z\"/><path id=\"DejaVuSans-97\" d=\"m34.281 27.484q-10.891 0-15.094-2.4844t-4.2031-8.5q0-4.7812 3.1562-7.5938 3.1562-2.7969 8.5625-2.7969 7.4844 0 12 5.2969t4.5156 14.078v2zm17.922 3.7188v-31.203h-8.9844v8.2969q-3.0781-4.9688-7.6719-7.3438t-11.234-2.375q-8.3906 0-13.359 4.7188-4.9531 4.7188-4.9531 12.625 0 9.2188 6.1719 13.906 6.1875 4.6875 18.438 4.6875h12.609v0.89062q0 6.2031-4.0781 9.5938t-11.453 3.3906q-4.6875 0-9.1406-1.125-4.4375-1.125-8.5312-3.375v8.3125q4.9219 1.9062 9.5625 2.8438 4.6406 0.95312 9.0312 0.95312 11.875 0 17.734-6.1562 5.8594-6.1406 5.8594-18.641z\"/><path id=\"DejaVuSans-105\" d=\"m9.4219 54.688h8.9844v-54.688h-8.9844zm0 21.297h8.9844v-11.391h-8.9844z\"/><path id=\"DejaVuSans-108\" d=\"m9.4219 75.984h8.9844v-75.984h-8.9844z\"/><path id=\"DejaVuSans-116\" d=\"m18.312 70.219v-15.531h18.5v-6.9844h-18.5v-29.688q0-6.6875 1.8281-8.5938t7.4531-1.9062h9.2188v-7.5156h-9.2188q-10.406 0-14.359 3.875-3.9531 3.8906-3.9531 14.141v29.688h-6.5938v6.9844h6.5938v15.531z\"/><path id=\"DejaVuSans-101\" d=\"m56.203 29.594v-4.3906h-41.312q0.59375-9.2812 5.5938-14.141t13.938-4.8594q5.1719 0 10.031 1.2656t9.6562 3.8125v-8.5q-4.8438-2.0469-9.9219-3.125t-10.297-1.0781q-13.094 0-20.734 7.6094-7.6406 7.625-7.6406 20.625 0 13.422 7.25 21.297 7.25 7.8906 19.562 7.8906 11.031 0 17.453-7.1094 6.4219-7.0938 6.4219-19.297zm-8.9844 2.6406q-0.09375 7.3594-4.125 11.75-4.0312 4.4062-10.672 4.4062-7.5156 0-12.031-4.25t-5.2031-11.969z\"/><path id=\"DejaVuSans-115\" d=\"m44.281 53.078v-8.5q-3.7969 1.9531-7.9062 2.9219-4.0938 0.98438-8.5 0.98438-6.6875 0-10.031-2.0469t-3.3438-6.1562q0-3.125 2.3906-4.9062t9.625-3.3906l3.0781-0.6875q9.5625-2.0469 13.594-5.7812t4.0312-10.422q0-7.625-6.0312-12.078-6.0312-4.4375-16.578-4.4375-4.3906 0-9.1562 0.85938t-10.031 2.5625v9.2812q4.9844-2.5938 9.8125-3.8906 4.8281-1.2812 9.5781-1.2812 6.3438 0 9.75 2.1719 3.4219 2.1719 3.4219 6.125 0 3.6562-2.4688 5.6094-2.4531 1.9531-10.812 3.7656l-3.125 0.73438q-8.3438 1.75-12.062 5.3906-3.7031 3.6406-3.7031 9.9844 0 7.7188 5.4688 11.906 5.4688 4.2031 15.531 4.2031 4.9688 0 9.3594-0.73438 4.4062-0.71875 8.1094-2.1875z\"/></defs><g transform=\"translate(17.838 191.17) rotate(-90) scale(.14 -.14)\"><use xlink:href=\"#DejaVuSans-80\"/><use x=\"58.552734\" xlink:href=\"#DejaVuSans-114\"/><use x=\"97.416016\" xlink:href=\"#DejaVuSans-111\"/><use x=\"158.597656\" xlink:href=\"#DejaVuSans-98\"/><use x=\"222.074219\" xlink:href=\"#DejaVuSans-97\"/><use x=\"283.353516\" xlink:href=\"#DejaVuSans-98\"/><use x=\"346.830078\" xlink:href=\"#DejaVuSans-105\"/><use x=\"374.613281\" xlink:href=\"#DejaVuSans-108\"/><use x=\"402.396484\" xlink:href=\"#DejaVuSans-105\"/><use x=\"430.179688\" xlink:href=\"#DejaVuSans-116\"/><use x=\"469.388672\" xlink:href=\"#DejaVuSans-105\"/><use x=\"497.171875\" xlink:href=\"#DejaVuSans-101\"/><use x=\"558.695312\" xlink:href=\"#DejaVuSans-115\"/></g><path d=\"m80.676 284.32h118.36v-226.5h-118.36z\" clip-path=\"url(#pf4df0363f5)\" fill=\"#648fff\"/><path d=\"m317.4 284.32h118.36v-226.5h-118.36z\" clip-path=\"url(#pf4df0363f5)\" fill=\"#648fff\"/><path d=\"m62.921 284.32v-271.8\" fill=\"none\" stroke=\"#000000\" stroke-linecap=\"square\" stroke-width=\".8\"/><path d=\"m453.52 284.32v-271.8\" fill=\"none\" stroke=\"#000000\" stroke-linecap=\"square\" stroke-width=\".8\"/><path d=\"m62.921 284.32h390.6\" fill=\"none\" stroke=\"#000000\" stroke-linecap=\"square\" stroke-width=\".8\"/><path d=\"m62.921 12.519h390.6\" fill=\"none\" stroke=\"#000000\" stroke-linecap=\"square\" stroke-width=\".8\"/><g transform=\"translate(125.54 44.414) scale(.1 -.1)\"><use xlink:href=\"#DejaVuSans-48\"/><use x=\"63.623047\" xlink:href=\"#DejaVuSans-46\"/><use x=\"95.410156\" xlink:href=\"#DejaVuSans-53\"/><use x=\"159.033203\" xlink:href=\"#DejaVuSans-48\"/><use x=\"222.65625\" xlink:href=\"#DejaVuSans-48\"/></g><g transform=\"translate(362.27 44.414) scale(.1 -.1)\"><use xlink:href=\"#DejaVuSans-48\"/><use x=\"63.623047\" xlink:href=\"#DejaVuSans-46\"/><use x=\"95.410156\" xlink:href=\"#DejaVuSans-53\"/><use x=\"159.033203\" xlink:href=\"#DejaVuSans-48\"/><use x=\"222.65625\" xlink:href=\"#DejaVuSans-48\"/></g><defs><clipPath id=\"pf4df0363f5\"><rect x=\"62.921\" y=\"12.519\" width=\"390.6\" height=\"271.8\"/></clipPath></defs></svg>"
      ],
      "text/plain": [
       "<Figure size 504x360 with 1 Axes>"
      ]
     },
     "execution_count": 12,
     "metadata": {},
     "output_type": "execute_result"
    }
   ],
   "source": [
    "results = execute(qc,backend).result().get_counts()\n",
    "plot_histogram(results)"
   ]
  },
  {
   "cell_type": "markdown",
   "metadata": {},
   "source": [
    "$|0\\rangle$または$|1\\rangle$を測定する確率が等しいことがわかります。 これを説明するには、測定について話す必要があります。\n",
    "\n",
    "## 2. 測定のルール <a id=\"rules-measurement\"></a>\n",
    "### 2.1 非常に重要なルール <a id=\"important-rule\"></a>\n",
    "\n",
    "測定には簡単なルールがあります。 状態$|\\psi \\rangle$を状態$|x\\rangle$で測定する確率を見つけるには、\n",
    "\n",
    "$$p(|x\\rangle) = | \\langle x | \\psi \\rangle|^2$$\n",
    "\n",
    "記号$\\langle$および$|$は、$\\langle x |$が行ベクトルであることを示します。 量子力学では、列ベクトルを _ケット_ 、行ベクトルを _ブラ_ と呼びます。これらを合わせて _ブラケット_ 表記を構成します。 すべてのケット$|a\\rangle$には対応するブラ$\\langle a|$があり、共役転置を使用してそれらの間で変換します。\n",
    "\n",
    "\n",
    "<details>\n",
    "  <summary>備忘: 内積（ここをクリックして展開してください。）</summary>\n",
    "    <p>ベクトルを乗算する方法はいくつかあります。ここでは、<i>内積</i>を使用します。 内積は、すでにおなじみの<i>ドット積</i>を一般化したものです。 このガイドでは、ブラ（行ベクトル）とケット（列ベクトル）の間の内積を使用しており、このルールに従います。\n",
    "        \n",
    "$$\\langle a| = \\begin{bmatrix}a_0^*, & a_1^*, & \\dots & a_n^* \\end{bmatrix}, \\quad\n",
    "    |b\\rangle = \\begin{bmatrix}b_0 \\\\ b_1 \\\\ \\vdots \\\\ b_n \\end{bmatrix}$$\n",
    "    $$\\langle a|b\\rangle = a_0^* b_0 + a_1^* b_1 \\dots a_n^* b_n$$\n",
    "    </p>\n",
    "  <p>2つのベクトルの内積は常にスカラーを与えることがわかります。 覚えておくと便利なことは、2つの直交ベクトルの内積は0であることです。たとえば、直交ベクトル$|0\\rangle$と$|1\\rangle$がある場合、\n",
    "    $$\\langle1|0\\rangle = \\begin{bmatrix} 0 , & 1\\end{bmatrix}\\begin{bmatrix}1 \\\\ 0\\end{bmatrix} = 0$$\n",
    "    </p>\n",
    "  <p>さらに、ベクトル$|0\\rangle$および$|1\\rangle$も正規化されていることを覚えておいてください。（大きさが1に等しい）\n",
    "\n",
    "$$\n",
    "      \\begin{aligned} \n",
    "      \\langle0|0\\rangle & = \\begin{bmatrix} 1 , & 0\\end{bmatrix}\\begin{bmatrix}1 \\\\ 0\\end{bmatrix} = 1 \\\\\n",
    "      \\langle1|1\\rangle & = \\begin{bmatrix} 0 , & 1\\end{bmatrix}\\begin{bmatrix}0 \\\\ 1\\end{bmatrix} = 1\n",
    "      \\end{aligned}\n",
    "$$\n",
    "   </p>\n",
    "</details>\n",
    "\n",
    "上記の方程式では、$|x\\rangle$は任意の量子ビット状態にすることができます。 $|x\\rangle$を測定する確率を見つけるには、$|x\\rangle$と測定している状態（この場合は$|\\psi\\rangle$）の内積を取り、その大きさを二乗します。 これは少し複雑に見えるかもしれませんが、すぐに慣れます。\n",
    "\n",
    "状態$|q_0\\rangle$を見ると、$|0\\rangle$を測定する確率は確かに$0.5$であることがわかります。\n",
    "\n",
    "$$\n",
    "\\begin{aligned}\n",
    "|q_0\\rangle & = \\tfrac{1}{\\sqrt{2}}|0\\rangle + \\tfrac{i}{\\sqrt{2}}|1\\rangle \\\\\n",
    "\\langle 0| q_0 \\rangle  & = \\tfrac{1}{\\sqrt{2}}\\langle 0|0\\rangle + \\tfrac{i}{\\sqrt{2}}\\langle 0|1\\rangle \\\\\n",
    "& = \\tfrac{1}{\\sqrt{2}}\\cdot 1 +  \\tfrac{i}{\\sqrt{2}} \\cdot 0\\\\\n",
    "& = \\tfrac{1}{\\sqrt{2}}\\\\\n",
    "|\\langle 0| q_0 \\rangle|^2 & = \\tfrac{1}{2}\n",
    "\\end{aligned}\n",
    "$$\n",
    "\n",
    "演習として$|1\\rangle$を測定する確率を確認してみてください。\n",
    "\n",
    "### 2.2 測定のルールの意味 <a id=\"implications\"></a>\n",
    "### #1 正規化\n",
    "\n",
    "測定のルールは3つのことを意味します。1つ目は、状態ベクトルを1に正規化する必要があることです。\n",
    "\n",
    "確率を合計して1にしたい場合（合計する必要があります！）、状態ベクトルの大きさを1にする必要があります。\n",
    "\n",
    "$$ \\langle\\psi|\\psi\\rangle = 1 \\\\ $$\n",
    "\n",
    "したがって\n",
    "\n",
    "$$ |\\psi\\rangle = \\alpha|0\\rangle + \\beta|1\\rangle $$\n",
    "\n",
    "このとき\n",
    "\n",
    "$$ \\sqrt{|\\alpha|^2 + |\\beta|^2} = 1 $$\n",
    "\n",
    "これは、この章を通して見た$\\sqrt{2}$の要因を説明しています。 実際、正規化されていないベクトルを `initialize()`に与えようとすると、エラーが発生します。\n"
   ]
  },
  {
   "cell_type": "code",
   "execution_count": 13,
   "metadata": {
    "tags": [
     "raises-exception"
    ]
   },
   "outputs": [
    {
     "ename": "QiskitError",
     "evalue": "'Sum of amplitudes-squared does not equal one.'",
     "output_type": "error",
     "traceback": [
      "\u001b[1;31m---------------------------------------------------------------------------\u001b[0m",
      "\u001b[1;31mQiskitError\u001b[0m                               Traceback (most recent call last)",
      "\u001b[1;32m<ipython-input-13-ddc73828b990>\u001b[0m in \u001b[0;36m<module>\u001b[1;34m\u001b[0m\n\u001b[0;32m      1\u001b[0m \u001b[0mvector\u001b[0m \u001b[1;33m=\u001b[0m \u001b[1;33m[\u001b[0m\u001b[1;36m1\u001b[0m\u001b[1;33m,\u001b[0m\u001b[1;36m1\u001b[0m\u001b[1;33m]\u001b[0m\u001b[1;33m\u001b[0m\u001b[1;33m\u001b[0m\u001b[0m\n\u001b[1;32m----> 2\u001b[1;33m \u001b[0mqc\u001b[0m\u001b[1;33m.\u001b[0m\u001b[0minitialize\u001b[0m\u001b[1;33m(\u001b[0m\u001b[0mvector\u001b[0m\u001b[1;33m,\u001b[0m \u001b[1;36m0\u001b[0m\u001b[1;33m)\u001b[0m\u001b[1;33m\u001b[0m\u001b[1;33m\u001b[0m\u001b[0m\n\u001b[0m",
      "\u001b[1;32m~\\Anaconda3\\envs\\qiskit_Ver18\\lib\\site-packages\\qiskit\\extensions\\quantum_initializer\\initializer.py\u001b[0m in \u001b[0;36minitialize\u001b[1;34m(self, params, qubits)\u001b[0m\n\u001b[0;32m    252\u001b[0m     \u001b[1;32mif\u001b[0m \u001b[1;32mnot\u001b[0m \u001b[0misinstance\u001b[0m\u001b[1;33m(\u001b[0m\u001b[0mqubits\u001b[0m\u001b[1;33m,\u001b[0m \u001b[0mlist\u001b[0m\u001b[1;33m)\u001b[0m\u001b[1;33m:\u001b[0m\u001b[1;33m\u001b[0m\u001b[1;33m\u001b[0m\u001b[0m\n\u001b[0;32m    253\u001b[0m         \u001b[0mqubits\u001b[0m \u001b[1;33m=\u001b[0m \u001b[1;33m[\u001b[0m\u001b[0mqubits\u001b[0m\u001b[1;33m]\u001b[0m\u001b[1;33m\u001b[0m\u001b[1;33m\u001b[0m\u001b[0m\n\u001b[1;32m--> 254\u001b[1;33m     \u001b[1;32mreturn\u001b[0m \u001b[0mself\u001b[0m\u001b[1;33m.\u001b[0m\u001b[0mappend\u001b[0m\u001b[1;33m(\u001b[0m\u001b[0mInitialize\u001b[0m\u001b[1;33m(\u001b[0m\u001b[0mparams\u001b[0m\u001b[1;33m)\u001b[0m\u001b[1;33m,\u001b[0m \u001b[0mqubits\u001b[0m\u001b[1;33m)\u001b[0m\u001b[1;33m\u001b[0m\u001b[1;33m\u001b[0m\u001b[0m\n\u001b[0m\u001b[0;32m    255\u001b[0m \u001b[1;33m\u001b[0m\u001b[0m\n\u001b[0;32m    256\u001b[0m \u001b[1;33m\u001b[0m\u001b[0m\n",
      "\u001b[1;32m~\\Anaconda3\\envs\\qiskit_Ver18\\lib\\site-packages\\qiskit\\extensions\\quantum_initializer\\initializer.py\u001b[0m in \u001b[0;36m__init__\u001b[1;34m(self, params)\u001b[0m\n\u001b[0;32m     56\u001b[0m         if not math.isclose(sum(np.absolute(params) ** 2), 1.0,\n\u001b[0;32m     57\u001b[0m                             abs_tol=_EPS):\n\u001b[1;32m---> 58\u001b[1;33m             \u001b[1;32mraise\u001b[0m \u001b[0mQiskitError\u001b[0m\u001b[1;33m(\u001b[0m\u001b[1;34m\"Sum of amplitudes-squared does not equal one.\"\u001b[0m\u001b[1;33m)\u001b[0m\u001b[1;33m\u001b[0m\u001b[1;33m\u001b[0m\u001b[0m\n\u001b[0m\u001b[0;32m     59\u001b[0m \u001b[1;33m\u001b[0m\u001b[0m\n\u001b[0;32m     60\u001b[0m         \u001b[0mnum_qubits\u001b[0m \u001b[1;33m=\u001b[0m \u001b[0mint\u001b[0m\u001b[1;33m(\u001b[0m\u001b[0mnum_qubits\u001b[0m\u001b[1;33m)\u001b[0m\u001b[1;33m\u001b[0m\u001b[1;33m\u001b[0m\u001b[0m\n",
      "\u001b[1;31mQiskitError\u001b[0m: 'Sum of amplitudes-squared does not equal one.'"
     ]
    }
   ],
   "source": [
    "vector = [1,1]\n",
    "qc.initialize(vector, 0)"
   ]
  },
  {
   "cell_type": "markdown",
   "metadata": {},
   "source": [
    "#### 練習問題\n",
    "1. $|0\\rangle$を測定する確率が$1/3$になる状態ベクトルを作成してください。\n",
    "2. 同じ測定確率を与える別の状態ベクトルを作成してください。\n",
    "3. これら2つの状態の$|1\\rangle$を測定する確率が$2/3$であることを確認します。"
   ]
  },
  {
   "cell_type": "markdown",
   "metadata": {},
   "source": [
    "以下のウィジェットで答えを確認できます（ベクトルで「pi」と「sqrt」を使用できます）。"
   ]
  },
  {
   "cell_type": "code",
   "execution_count": 14,
   "metadata": {
    "scrolled": true
   },
   "outputs": [
    {
     "data": {
      "application/vnd.jupyter.widget-view+json": {
       "model_id": "28d76a5164074f16aad49c4c0aceae2c",
       "version_major": 2,
       "version_minor": 0
      },
      "text/plain": [
       "VBox(children=(Label(value='State Vector:'), HBox(children=(Text(value='[1, 0]', placeholder='Type something')…"
      ]
     },
     "metadata": {},
     "output_type": "display_data"
    },
    {
     "data": {
      "application/vnd.jupyter.widget-view+json": {
       "model_id": "d5bb2088529b4646aba181ac145e1f1f",
       "version_major": 2,
       "version_minor": 0
      },
      "text/plain": [
       "HTML(value='<pre></pre>')"
      ]
     },
     "metadata": {},
     "output_type": "display_data"
    }
   ],
   "source": [
    "# このセルのコードを実行してウィジェットとやり取りします。\n",
    "from qiskit_textbook.widgets import state_vector_exercise\n",
    "state_vector_exercise(target=1/3)"
   ]
  },
  {
   "cell_type": "markdown",
   "metadata": {},
   "source": [
    "### #2 グローバルフェーズ\n",
    "\n",
    "2番目は、量子ビットの全体の位相（グローバルフェーズ）は重要ではなく、$|0\\rangle$と$|1\\rangle$（相対位相）の間の位相の違いのみが重要です。 これは、測定確率を計算するとグローバルフェーズが消えるためです。 たとえば、2つの状態は、\n",
    "\n",
    "$$|a\\rangle = \\tfrac{1}{\\sqrt{2}}\\begin{bmatrix}1 \\\\ i\\end{bmatrix} \\quad \\& \\quad |b\\rangle = \\tfrac{1}{\\sqrt{2}}\\begin{bmatrix}i \\\\ -1\\end{bmatrix}$$\n",
    "\n",
    "一方に$i$を掛けてもう片方を取得できるため、これらは同等です。\n",
    "\n",
    "$$ \n",
    "\\begin{aligned} \n",
    "i\\times\\tfrac{1}{\\sqrt{2}}\\begin{bmatrix}1 \\\\ i\\end{bmatrix} & = \\tfrac{1}{\\sqrt{2}}\\begin{bmatrix}i \\\\ -1\\end{bmatrix}\\\\\n",
    "\\\\\n",
    "i|a\\rangle & = |b\\rangle\n",
    "\\end{aligned}\n",
    "$$\n",
    "\n",
    "そして、測定確率を計算します。\n",
    "\n",
    "$$ |\\langle x|a\\rangle|^2 = |\\langle x|i|a\\rangle|^2 = |\\langle x|b\\rangle|^2 $$\n",
    "\n",
    "### #3 オブザーバー効果\n",
    "\n",
    "振幅には、特定の状態の量子ビットを見つける確率に関する情報が含まれていますが、量子ビットを測定すると、量子ビットの状態が確実にわかります。 たとえば、ある状態の量子ビットを測定し、\n",
    "\n",
    "$$ |q\\rangle = \\alpha|0\\rangle + \\beta|1\\rangle$$\n",
    "\n",
    "状態$|0\\rangle$だと判明します。もう一度測定すると、状態$|0\\rangle$で量子ビットを見つける確率は100％です。 これは、量子ビットの状態の _変化_ を測定する行為を意味します。\n",
    "\n",
    "$$ |q\\rangle = \\begin{bmatrix} \\alpha \\\\ \\beta \\end{bmatrix} \\xrightarrow{\\text{Measure }|0\\rangle} |q\\rangle = |0\\rangle = \\begin{bmatrix} 1 \\\\ 0 \\end{bmatrix}$$\n",
    "\n",
    "実際、測定は量子ビットの状態を変更するだけでなく、量子ビットの重ね合わせを _破壊_ し、2つの明確な状態のいずれかに置き換えます。 その結果、ほとんどの場合、測定は回路の最後に配置されます。 この破壊的な測定は、量子ビットの状態を _崩壊する_ と呼ぶこともあります。\n",
    "\n",
    "Qiskitのstatevectorシミュレーターを使用してこれを実証できます。 重ね合わせで量子ビットを初期化しましょう。"
   ]
  },
  {
   "cell_type": "code",
   "execution_count": 15,
   "metadata": {},
   "outputs": [
    {
     "data": {
      "text/html": [
       "<pre style=\"word-wrap: normal;white-space: pre;background: #fff0;line-height: 1.1;font-family: &quot;Courier New&quot;,Courier,monospace\">     ┌──────────────────────────────┐\n",
       "q_0: ┤ Initialize(0.70711j,0.70711) ├\n",
       "     └──────────────────────────────┘</pre>"
      ],
      "text/plain": [
       "     ┌──────────────────────────────┐\n",
       "q_0: ┤ Initialize(0.70711j,0.70711) ├\n",
       "     └──────────────────────────────┘"
      ]
     },
     "execution_count": 15,
     "metadata": {},
     "output_type": "execute_result"
    }
   ],
   "source": [
    "qc = QuantumCircuit(1) # qcを再定義します。\n",
    "initial_state = [0.+1.j/sqrt(2),1/sqrt(2)+0.j]\n",
    "qc.initialize(initial_state, [0])\n",
    "qc.draw()"
   ]
  },
  {
   "cell_type": "markdown",
   "metadata": {},
   "source": [
    "これにより、量子ビットが次の状態で初期化されます。\n",
    "\n",
    "$$ |q\\rangle = \\tfrac{i}{\\sqrt{2}}|0\\rangle + \\tfrac{1}{\\sqrt{2}}|1\\rangle $$\n",
    "\n",
    "これはシミュレーターを使用して確認できます。"
   ]
  },
  {
   "cell_type": "code",
   "execution_count": 16,
   "metadata": {},
   "outputs": [
    {
     "name": "stdout",
     "output_type": "stream",
     "text": [
      "Qubit State = [0.        +0.70710678j 0.70710678+0.j        ]\n"
     ]
    }
   ],
   "source": [
    "state = execute(qc,backend).result().get_statevector()\n",
    "print(\"Qubit State = \" + str(state))"
   ]
  },
  {
   "cell_type": "markdown",
   "metadata": {},
   "source": [
    "ここで、量子ビットが期待した状態である`[0. + 0.70710678j 0.70710678 + 0.j]`の状態で初期化されていることがわかります。\n",
    "\n",
    "では、この量子ビットを測定してみましょう。"
   ]
  },
  {
   "cell_type": "code",
   "execution_count": 17,
   "metadata": {},
   "outputs": [
    {
     "data": {
      "text/html": [
       "<pre style=\"word-wrap: normal;white-space: pre;background: #fff0;line-height: 1.1;font-family: &quot;Courier New&quot;,Courier,monospace\">        ┌──────────────────────────────┐ ░ ┌─┐\n",
       "   q_0: ┤ Initialize(0.70711j,0.70711) ├─░─┤M├\n",
       "        └──────────────────────────────┘ ░ └╥┘\n",
       "meas_0: ════════════════════════════════════╩═\n",
       "                                              </pre>"
      ],
      "text/plain": [
       "        ┌──────────────────────────────┐ ░ ┌─┐\n",
       "   q_0: ┤ Initialize(0.70711j,0.70711) ├─░─┤M├\n",
       "        └──────────────────────────────┘ ░ └╥┘\n",
       "meas_0: ════════════════════════════════════╩═\n",
       "                                              "
      ]
     },
     "execution_count": 17,
     "metadata": {},
     "output_type": "execute_result"
    }
   ],
   "source": [
    "qc.measure_all()\n",
    "qc.draw()"
   ]
  },
  {
   "cell_type": "markdown",
   "metadata": {},
   "source": [
    "この回路全体をシミュレートすると、振幅の1つが _常に_ 0であることがわかります。"
   ]
  },
  {
   "cell_type": "code",
   "execution_count": 18,
   "metadata": {},
   "outputs": [
    {
     "name": "stdout",
     "output_type": "stream",
     "text": [
      "State of Measured Qubit = [0.+0.j 1.+0.j]\n"
     ]
    }
   ],
   "source": [
    "state = execute(qc,backend).result().get_statevector()\n",
    "print(\"State of Measured Qubit = \" + str(state))"
   ]
  },
  {
   "cell_type": "markdown",
   "metadata": {},
   "source": [
    "このセルを数回再実行して、量子ビットを再初期化して再度測定できます。どちらの結果も同様にでる可能性がありますが、量子ビットの状態が$|0\\rangle$と$|1\\rangle$の重ね合わせになることはありません。興味深いことに、$|0\\rangle$状態のグローバルフェーズは存続しますが、これはグローバルフェーズであるため、実際の量子コンピューターでは測定できません。\n",
    "\n",
    "### 量子シミュレーターに関する注意\n",
    "\n",
    "量子ビットの状態を書き留めるには、2つの複素数を追跡する必要があることがわかりますが、実際の量子コンピューターを使用する場合、各量子ビットについて、「はい」または「いいえ」（ `0`または`1`）の回答しか受け取りません。 10量子ビット量子コンピューターの出力は次のようになります。\n",
    "\n",
    "`0110111110`\n",
    "\n",
    "わずか10桁で、重ね合わせや複雑な振幅はありません。 実際の量子コンピューターを使用する場合、計算の途中で量子ビットの状態を見ると、状態を破壊してしまうため、見ることができません。 この動作は学習に理想的ではないため、Qiskitはさまざまな量子シミュレーターを提供します。`qasm_simulator`は、実際の量子コンピューターと対話しているように動作し、 `.get_statevector()`を使用できません。 別の方法として、（この章で使用してきた）`statevector_simulator`では、これまでに説明したように、測定前の量子状態をみることができます。"
   ]
  },
  {
   "cell_type": "markdown",
   "metadata": {},
   "source": [
    "## 3. ブロッホ球 <a id=\"bloch-sphere\"></a>\n",
    "### 3.1 制限された量子ビット状態の説明 <a id=\"bloch-sphere-1\"></a>\n",
    "\n",
    "この章の前半で、量子ビット（$|q\\rangle$）の一般的な状態は次のとおりであることを確認しました。\n",
    "\n",
    "$$\n",
    "|q\\rangle = \\alpha|0\\rangle + \\beta|1\\rangle\n",
    "$$\n",
    "\n",
    "$$\n",
    "\\alpha, \\beta \\in \\mathbb{C}\n",
    "$$\n",
    "\n",
    "（2行目は、$\\alpha$と$\\beta$が複素数であることを示しています）。 セクション2の最初の2つの意味は、これらの状態のいくつかを区別できないことを示しています。 これは、量子ビットの説明をより具体的にできることを意味します。\n",
    "\n",
    "まず、グローバルな位相を測定できないため、状態$|0\\rangle$と$|1\\rangle$の間の位相の差しか測定できません。 $\\alpha$と$\\beta$を複素数にする代わりに、それらを実数に制限し、それらの間の相対的な位相を示す項を追加することができます。\n",
    "\n",
    "$$\n",
    "|q\\rangle = \\alpha|0\\rangle + e^{i\\phi}\\beta|1\\rangle\n",
    "$$\n",
    "\n",
    "$$\n",
    "\\alpha, \\beta, \\phi \\in \\mathbb{R}\n",
    "$$\n",
    "\n",
    "最後に、量子ビット状態は正規化する必要があるため、\n",
    "\n",
    "$$\n",
    "\\sqrt{\\alpha^2 + \\beta^2} = 1\n",
    "$$\n",
    "\n",
    "三角関数の性質を使用できます。\n",
    "\n",
    "$$\n",
    "\\sqrt{\\sin^2{x} + \\cos^2{x}} = 1\n",
    "$$\n",
    "\n",
    "実際の$\\alpha$と$\\beta$を1つの変数$\\theta$で説明すると、\n",
    "\n",
    "$$\n",
    "\\alpha = \\cos{\\tfrac{\\theta}{2}}, \\quad \\beta=\\sin{\\tfrac{\\theta}{2}}\n",
    "$$\n",
    "\n",
    "これから、2つの変数$\\phi$と$\\theta$を使用して、量子ビットの状態を説明できます。\n",
    "\n",
    "$$\n",
    "|q\\rangle = \\cos{\\tfrac{\\theta}{2}}|0\\rangle + e^{i\\phi}\\sin{\\tfrac{\\theta}{2}}|1\\rangle\n",
    "$$\n",
    "\n",
    "$$\n",
    "\\theta, \\phi \\in \\mathbb{R}\n",
    "$$\n",
    "\n",
    "### 3.2 量子ビットの状態を視覚的に表現する <a id=\"bloch-sphere-2\"></a>\n",
    "\n",
    "一般的な量子ビット状態をプロットします。\n",
    "\n",
    "$$\n",
    "|q\\rangle = \\cos{\\tfrac{\\theta}{2}}|0\\rangle + e^{i\\phi}\\sin{\\tfrac{\\theta}{2}}|1\\rangle\n",
    "$$\n",
    "\n",
    "$\\theta$と$\\phi$を球面座標として解釈すると（$r=1$、量子ビット状態の大きさは$1$であるため）、_ブロッホ球_ として知られる球の表面に任意の量子ビット状態をプロットできます。 \n",
    "\n",
    "以下では、状態$|{+}\\rangle$の量子ビットをプロットしました。 この場合、$\\theta = \\pi/2$および$\\phi = 0$です。\n",
    "\n",
    "（Qiskitにはブロッホ球をプロットする関数 `plot_bloch_vector()`がありますが、これを書いている時点では、デカルト座標しかとっていません。自動的に変換を行う関数が含まれています。）"
   ]
  },
  {
   "cell_type": "code",
   "execution_count": 19,
   "metadata": {},
   "outputs": [
    {
     "data": {
      "image/svg+xml": [
       "<?xml version=\"1.0\" encoding=\"UTF-8\"?><!DOCTYPE svg  PUBLIC '-//W3C//DTD SVG 1.1//EN'  'http://www.w3.org/Graphics/SVG/1.1/DTD/svg11.dtd'><svg width=\"374.4pt\" height=\"374.4pt\" version=\"1.1\" viewBox=\"0 0 374.4 374.4\" xmlns=\"http://www.w3.org/2000/svg\" xmlns:xlink=\"http://www.w3.org/1999/xlink\"><defs><style type=\"text/css\">*{stroke-linecap:butt;stroke-linejoin:round;}</style></defs><path d=\"m0 374.4h374.4v-374.4h-374.4z\" fill=\"none\"/><path d=\"m7.2 367.2h360v-360h-360z\" fill=\"#ffffff\"/><g stroke=\"#dc267f\" stroke-linecap=\"round\" stroke-width=\"5\"><path d=\"m190.55 183.65q-35.204 30.487-66.181 57.315\" clip-path=\"url(#pf4477786ed)\" fill=\"none\"/><path d=\"m133.04 238.75-8.666 2.2135 3.4288-8.2609 5.2372 6.0474z\" clip-path=\"url(#pf4477786ed)\" fill=\"#dc267f\"/></g><path d=\"m75.302 148.63 240.98 69.565\" clip-path=\"url(#pf4477786ed)\" fill=\"none\" stroke=\"#808080\" stroke-linecap=\"square\"/><path d=\"m118.63 245.93 139.4-120.72\" clip-path=\"url(#pf4477786ed)\" fill=\"none\" stroke=\"#808080\" stroke-linecap=\"square\"/><path d=\"m192.06 298.56v-241.06\" clip-path=\"url(#pf4477786ed)\" fill=\"none\" stroke=\"#808080\" stroke-linecap=\"square\"/><path d=\"m316.28 218.19 7.3132-8.6175 4.9152-8.9605 2.4843-9.1349 0.067391-9.1452-2.2929-8.9987-4.5589-8.7053-6.6982-8.2768-8.6833-7.7258-10.492-7.0659-12.105-6.3107-13.509-5.4741-14.693-4.5695-15.648-3.61-16.369-2.6083-16.852-1.5768-17.094-0.52757-17.094 0.52757-16.852 1.5768-16.369 2.6083-15.648 3.61-14.693 4.5695-13.509 5.4741-12.105 6.3107-10.492 7.0659\" clip-path=\"url(#pf4477786ed)\" fill=\"none\" stroke=\"#808080\" stroke-linecap=\"square\"/><path d=\"m258.03 125.21-0.24496-14.774-1.3262-13.751-2.406-12.503-3.4699-11.04-4.502-9.3728-5.4854-7.5167-6.4023-5.4919-7.2339-3.3237-7.9614-1.0428-8.5659 1.3147-9.0297 3.7071-9.3366 6.0881-9.473 8.4076-9.4286 10.613-9.1974 12.65-8.7785 14.467-8.1762 16.016-7.4006 17.253-6.4676 18.144-5.3979 18.665-4.217 18.801-2.9535 18.55-1.6384 17.922-0.30344 16.938\" clip-path=\"url(#pf4477786ed)\" fill=\"none\" stroke=\"#808080\" stroke-linecap=\"square\"/><path d=\"m75.302 148.63-8.6833 7.7258-6.6982 8.2768-4.5589 8.7053-2.2929 8.9987 0.067391 9.1452 2.4843 9.1349 4.9152 8.9605 7.3132 8.6175 9.628 8.1052 11.807 7.4271 13.798 6.5916 15.55 5.6119 17.016 4.5059 18.155 3.2962 18.933 2.0095 19.328 0.67518 19.328-0.67518 18.933-2.0095 18.155-3.2962 17.016-4.5059 15.55-5.6119 13.798-6.5916 11.807-7.4271 9.628-8.1052\" clip-path=\"url(#pf4477786ed)\" fill=\"none\" stroke=\"#808080\" stroke-linecap=\"square\"/><path d=\"m118.63 245.93 1.02 15.629 2.3021 14.032 3.5162 12.194 4.6385 10.161 5.6497 7.9848 6.5344 5.7143 7.2815 3.3977 7.8839 1.0797 8.3381-1.1991 8.6437-3.4024 8.8031-5.4991 8.8207-7.4623 8.7023-9.2699 8.4553-10.904 8.0876-12.349 7.6077-13.594 7.0244-14.629 6.3468-15.447 5.584-16.043 4.7452-16.412 3.8399-16.55 2.8778-16.457 1.8689-16.129 0.82422-15.568\" clip-path=\"url(#pf4477786ed)\" fill=\"none\" stroke=\"#808080\" stroke-linecap=\"square\"/><g fill-opacity=\".2\"><path d=\"m192.06 182.34v16.943 16.71l-12.005 0.40521-11.824 1.2104-2.8655-16.542-2.4328-16.809 14.457-1.4366z\" clip-path=\"url(#pf4477786ed)\" fill=\"#887575\"/><path d=\"m221.19 184.25-2.4328 16.809-2.8655 16.542-11.824-1.2104-12.005-0.40521v-16.71-16.943l14.671 0.48079z\" clip-path=\"url(#pf4477786ed)\" fill=\"#776767\"/><path d=\"m224.63 150.76-1.4734 16.647-1.9672 16.844-14.457-1.4366-14.671-0.48079v-16.943-16.71l16.401 0.5214z\" clip-path=\"url(#pf4477786ed)\" fill=\"#7a6a6a\"/><path d=\"m192.06 148.68v16.71 16.943l-14.671 0.48079-14.457 1.4366-1.9672-16.844-1.4734-16.647 16.167-1.5582z\" clip-path=\"url(#pf4477786ed)\" fill=\"#8d7a7a\"/><path d=\"m248.62 189.91-4.7452 16.412-5.584 16.043-10.93-2.763-11.465-1.9998 2.8655-16.542 2.4328-16.809 14.031 2.375z\" clip-path=\"url(#pf4477786ed)\" fill=\"#685a5a\"/><path d=\"m162.94 184.25 2.4328 16.809 2.8655 16.542-11.465 1.9998-10.93 2.763-5.584-16.043-4.7452-16.412 13.395-3.2844z\" clip-path=\"url(#pf4477786ed)\" fill=\"#998585\"/><path d=\"m255.34 156.9-2.8778 16.457-3.8399 16.55-13.395-3.2844-14.031-2.375 1.9672-16.844 1.4734-16.647 15.7 2.5772z\" clip-path=\"url(#pf4477786ed)\" fill=\"#695b5b\"/><path d=\"m159.5 150.76 1.4734 16.647 1.9672 16.844-14.031 2.375-13.395 3.2844-3.8399-16.55-2.8778-16.457 15.003-3.566z\" clip-path=\"url(#pf4477786ed)\" fill=\"#a28c8c\"/><path d=\"m215.89 217.6-3.2604 16.044-3.6127 15.318-8.4114-0.88485-8.545-0.29635v-15.551-16.246l12.005 0.40521z\" clip-path=\"url(#pf4477786ed)\" fill=\"#766767\"/><path d=\"m192.06 215.99v16.246 15.551l-8.545 0.29635-8.4114 0.88485-3.6127-15.318-3.2604-16.044 11.824-1.2104z\" clip-path=\"url(#pf4477786ed)\" fill=\"#837272\"/><path d=\"m226.01 118.99-0.42172 15.555-0.95649 16.217-16.167-1.5582-16.401-0.5214v-16.246-15.551l17.094 0.52757z\" clip-path=\"url(#pf4477786ed)\" fill=\"#7f6e6e\"/><path d=\"m192.06 116.89v15.551 16.246l-16.401 0.5214-16.167 1.5582-0.95649-16.217-0.42172-15.555 16.852-1.5768z\" clip-path=\"url(#pf4477786ed)\" fill=\"#948080\"/><path d=\"m238.29 222.37-6.3468 15.447-7.0244 14.629-7.7509-2.0159-8.1457-1.4608 3.6127-15.318 3.2604-16.044 11.465 1.9998z\" clip-path=\"url(#pf4477786ed)\" fill=\"#6b5d5d\"/><path d=\"m168.24 217.6 3.2604 16.044 3.6127 15.318-8.1457 1.4608-7.7509 2.0159-7.0244-14.629-6.3468-15.447 10.93-2.763z\" clip-path=\"url(#pf4477786ed)\" fill=\"#907d7d\"/><path d=\"m258.03 125.21-0.82422 15.568-1.8689 16.129-15.003-3.566-15.7-2.5772 0.95649-16.217 0.42172-15.555 16.369 2.6083z\" clip-path=\"url(#pf4477786ed)\" fill=\"#6d5e5e\"/><path d=\"m158.12 118.99 0.42172 15.555 0.95649 16.217-15.7 2.5772-15.003 3.566-1.869-16.129-0.82422-15.568 15.648-3.61z\" clip-path=\"url(#pf4477786ed)\" fill=\"#aa9393\"/><path d=\"m135.51 189.91 4.7452 16.412 5.584 16.043-10.224 3.4893-9.3533 4.1684-8.0077-15.229-6.8148-15.762 11.516-4.9682z\" clip-path=\"url(#pf4477786ed)\" fill=\"#aa9393\"/><path d=\"m272.69 199.03-6.8148 15.762-8.0077 15.229-9.3533-4.1684-10.224-3.4893 5.584-16.043 4.7452-16.412 12.554 4.1528z\" clip-path=\"url(#pf4477786ed)\" fill=\"#5d5050\"/><path d=\"m282.35 166.82-4.1419 16.143-5.5214 16.068-11.516-4.9682-12.554-4.1528 3.8399-16.55 2.8778-16.457 14.079 4.5124z\" clip-path=\"url(#pf4477786ed)\" fill=\"#5b4f4f\"/><path d=\"m128.79 156.9 2.8778 16.457 3.8399 16.55-12.554 4.1528-11.516 4.9682-5.5214-16.068-4.1419-16.143 12.936-5.4037z\" clip-path=\"url(#pf4477786ed)\" fill=\"#b59d9d\"/><path d=\"m145.84 222.37 6.3468 15.447 7.0244 14.629-7.2314 2.5419-6.5936 3.0308-10.037-13.514-9.0861-14.477 9.3533-4.1684z\" clip-path=\"url(#pf4477786ed)\" fill=\"#9e8989\"/><path d=\"m257.87 230.02-9.0861 14.477-10.037 13.514-6.5936-3.0308-7.2314-2.5419 7.0244-14.629 6.3468-15.447 10.224 3.4893z\" clip-path=\"url(#pf4477786ed)\" fill=\"#635656\"/><path d=\"m209.02 248.97-3.9178 14.366-4.1707 13.195-4.3974-0.47365-4.4705-0.15871v-13.482-14.628l8.545 0.29635z\" clip-path=\"url(#pf4477786ed)\" fill=\"#786868\"/><path d=\"m192.06 247.78v14.628 13.482l-4.4705 0.15871-4.3974 0.47365-4.1707-13.195-3.9178-14.366 8.4114-0.88485z\" clip-path=\"url(#pf4477786ed)\" fill=\"#7f6e6e\"/><path d=\"m225.21 90.775 0.67862 13.55 0.12533 14.665-16.852-1.5768-17.094-0.52757v-14.628-13.482l16.69 0.50141z\" clip-path=\"url(#pf4477786ed)\" fill=\"#877575\"/><path d=\"m192.06 88.775v13.482 14.628l-17.094 0.52757-16.852 1.5768 0.12533-14.665 0.67862-13.55 16.453-1.4986z\" clip-path=\"url(#pf4477786ed)\" fill=\"#9c8787\"/><path d=\"m224.92 252.44-7.6077 13.594-8.0876 12.349-4.0373-1.0766-4.2524-0.78121 4.1707-13.195 3.9178-14.366 8.1457 1.4608z\" clip-path=\"url(#pf4477786ed)\" fill=\"#716262\"/><path d=\"m175.11 248.97 3.9178 14.366 4.1707 13.195-4.2524 0.78121-4.0373 1.0766-8.0876-12.349-7.6077-13.594 7.7509-2.0159z\" clip-path=\"url(#pf4477786ed)\" fill=\"#877575\"/><path d=\"m286.23 135.25-1.1875 15.586-2.6918 15.983-12.936-5.4037-14.079-4.5124 1.8689-16.129 0.82422-15.568 14.693 4.5695z\" clip-path=\"url(#pf4477786ed)\" fill=\"#5e5252\"/><path d=\"m126.1 125.21 0.82422 15.568 1.869 16.129-14.079 4.5124-12.936 5.4037-2.6918-15.983-1.1875-15.586 13.509-5.4741z\" clip-path=\"url(#pf4477786ed)\" fill=\"#bfa6a6\"/><path d=\"m238.74 258.02-10.848 12.347-11.506 10.99-3.4106-1.612-3.7554-1.355 8.0876-12.349 7.6077-13.594 7.2314 2.5419z\" clip-path=\"url(#pf4477786ed)\" fill=\"#6d5e5e\"/><path d=\"m159.21 252.44 7.6077 13.594 8.0876 12.349-3.7554 1.355-3.4106 1.612-11.506-10.99-10.848-12.347 6.5936-3.0308z\" clip-path=\"url(#pf4477786ed)\" fill=\"#907d7d\"/><path d=\"m256.46 96.684 1.3262 13.751 0.24496 14.774-15.648-3.61-16.369-2.6083-0.12533-14.665-0.67862-13.55 15.979 2.4786z\" clip-path=\"url(#pf4477786ed)\" fill=\"#756565\"/><path d=\"m158.92 90.775-0.67862 13.55-0.12533 14.665-16.369 2.6083-15.648 3.61 0.24496-14.774 1.3262-13.751 15.272-3.43z\" clip-path=\"url(#pf4477786ed)\" fill=\"#b29a9a\"/><path d=\"m291.86 211.14-8.517 14.881-9.9883 14.132-7.1579-5.3427-8.3278-4.7896 8.0077-15.229 6.8148-15.762 10.287 5.7185z\" clip-path=\"url(#pf4477786ed)\" fill=\"#554949\"/><path d=\"m111.44 199.03 6.8148 15.762 8.0077 15.229-8.3278 4.7896-7.1579 5.3427-9.9883-14.132-8.517-14.881 8.8811-6.3913z\" clip-path=\"url(#pf4477786ed)\" fill=\"#baa1a1\"/><path d=\"m273.35 240.16-11.308 13.176-12.46 12.024-4.9955-3.8663-5.8451-3.4747 10.037-13.514 9.0861-14.477 8.3278 4.7896z\" clip-path=\"url(#pf4477786ed)\" fill=\"#5d5151\"/><path d=\"m126.26 230.02 9.0861 14.477 10.037 13.514-5.8451 3.4747-4.9955 3.8663-12.46-12.024-11.308-13.176 7.1579-5.3427z\" clip-path=\"url(#pf4477786ed)\" fill=\"#aa9393\"/><path d=\"m303.96 180.02-5.1915 15.715-6.9117 15.412-8.8811-6.3913-10.287-5.7185 5.5214-16.068 4.1419-16.143 11.582 6.2267z\" clip-path=\"url(#pf4477786ed)\" fill=\"#514747\"/><path d=\"m101.78 166.82 4.1419 16.143 5.5214 16.068-10.287 5.7185-8.8811 6.3913-6.9117-15.412-5.1915-15.715 10.027-6.9682z\" clip-path=\"url(#pf4477786ed)\" fill=\"#c7adad\"/><path d=\"m249.58 265.36-13.43 10.691-14.204 9.193-2.5534-2.045-3.0079-1.8433 11.506-10.99 10.848-12.347 5.8451 3.4747z\" clip-path=\"url(#pf4477786ed)\" fill=\"#6a5c5c\"/><path d=\"m145.39 258.02 10.848 12.347 11.506 10.99-3.0079 1.8433-2.5534 2.045-14.204-9.193-13.43-10.691 4.9955-3.8663z\" clip-path=\"url(#pf4477786ed)\" fill=\"#988484\"/><path d=\"m127.67 96.684-1.3262 13.751-0.24496 14.774-14.693 4.5695-13.509 5.4741 0.35297-14.95 1.9105-14.078 13.175-5.1991z\" clip-path=\"url(#pf4477786ed)\" fill=\"#c7acac\"/><path d=\"m283.97 106.22 1.9105 14.078 0.35297 14.95-13.509-5.4741-14.693-4.5695-0.24496-14.774-1.3262-13.751 14.335 4.3409z\" clip-path=\"url(#pf4477786ed)\" fill=\"#665858\"/><path d=\"m200.93 276.53-4.3667 11.81-4.5012 10.221v-10.545-12.118l4.4705 0.15871z\" clip-path=\"url(#pf4477786ed)\" fill=\"#736464\"/><path d=\"m192.06 275.89v12.118 10.545l-4.5012-10.221-4.3667-11.81 4.3974-0.47365z\" clip-path=\"url(#pf4477786ed)\" fill=\"#746464\"/><path d=\"m183.2 276.53 4.3667 11.81 4.5012 10.221-8.7023-9.2699-8.4553-10.904 4.0373-1.0766z\" clip-path=\"url(#pf4477786ed)\" fill=\"#766666\"/><path d=\"m209.22 278.38-8.4553 10.904-8.7023 9.2699 4.5012-10.221 4.3667-11.81 4.2524 0.78121z\" clip-path=\"url(#pf4477786ed)\" fill=\"#746464\"/><path d=\"m283.65 252.18-12.852 11.604-14.12 10.236-3.0397-4.4645-4.056-4.1983 12.46-12.024 11.308-13.176 5.8574 5.8176z\" clip-path=\"url(#pf4477786ed)\" fill=\"#5b4f4f\"/><path d=\"m222.2 67.89 1.7771 10.67 1.2316 12.215-16.453-1.4986-16.69-0.50141v-12.118-10.545l15.177 0.44592z\" clip-path=\"url(#pf4477786ed)\" fill=\"#917d7d\"/><path d=\"m192.06 66.112v10.545 12.118l-16.69 0.50141-16.453 1.4986 1.2316-12.215 1.7771-10.67 14.957-1.3325z\" clip-path=\"url(#pf4477786ed)\" fill=\"#a48e8e\"/><path d=\"m256.68 274.02-15.17 8.7161-15.988 7.0646-1.5173-2.3458-2.054-2.2136 14.204-9.193 13.43-10.691 4.056 4.1983z\" clip-path=\"url(#pf4477786ed)\" fill=\"#6a5c5c\"/><path d=\"m216.39 281.35-12.001 9.4532-12.322 7.7534 8.7023-9.2699 8.4553-10.904 3.7554 1.355z\" clip-path=\"url(#pf4477786ed)\" fill=\"#766666\"/><path d=\"m174.91 278.38 8.4553 10.904 8.7023 9.2699-12.322-7.7534-12.001-9.4532 3.4106-1.612z\" clip-path=\"url(#pf4477786ed)\" fill=\"#796969\"/><path d=\"m97.899 135.25 1.1875 15.586 2.6918 15.983-11.582 6.2267-10.027 6.9682-3.3769-15.781-1.4906-15.606 10.492-7.0659z\" clip-path=\"url(#pf4477786ed)\" fill=\"#d2b6b6\"/><path d=\"m308.83 148.63-1.4906 15.606-3.3769 15.781-10.027-6.9682-11.582-6.2267 2.6918-15.983 1.1875-15.586 12.105 6.3107z\" clip-path=\"url(#pf4477786ed)\" fill=\"#544949\"/><path d=\"m304.76 225.57-9.7285 13.806-11.383 12.8-4.4422-6.2049-5.8574-5.8176 9.9883-14.132 8.517-14.881 7.3109 6.9745z\" clip-path=\"url(#pf4477786ed)\" fill=\"#514646\"/><path d=\"m221.95 285.24-14.769 7.5467-15.116 5.7715 12.322-7.7534 12.001-9.4532 3.0079 1.8433z\" clip-path=\"url(#pf4477786ed)\" fill=\"#7a6969\"/><path d=\"m167.74 281.35 12.001 9.4532 12.322 7.7534-15.116-5.7715-14.769-7.5467 2.5534-2.045z\" clip-path=\"url(#pf4477786ed)\" fill=\"#7e6d6d\"/><path d=\"m250.58 73.141 3.4699 11.04 2.406 12.503-15.272-3.43-15.979-2.4786-1.2316-12.215-1.7771-10.67 14.519 2.2032z\" clip-path=\"url(#pf4477786ed)\" fill=\"#7f6e6e\"/><path d=\"m161.93 67.89-1.7771 10.67-1.2316 12.215-15.979 2.4786-15.272 3.43 2.406-12.503 3.4699-11.04 13.865-3.0472z\" clip-path=\"url(#pf4477786ed)\" fill=\"#b8a0a0\"/><path d=\"m225.52 289.8-16.565 5.3034-16.891 3.4554 15.116-5.7715 14.769-7.5467 2.054 2.2136z\" clip-path=\"url(#pf4477786ed)\" fill=\"#7e6e6e\"/><path d=\"m226.84 294.73-17.253 2.8678-17.522 0.9603 16.891-3.4554 16.565-5.3034 0.95193 2.4391z\" clip-path=\"url(#pf4477786ed)\" fill=\"#847272\"/><path d=\"m259.48 283.45-15.921 6.5394-16.717 4.7362-0.36701-2.4916-0.95193-2.4391 15.988-7.0646 15.17-8.7161 1.9613 4.6589z\" clip-path=\"url(#pf4477786ed)\" fill=\"#6c5e5e\"/><path d=\"m318.62 195.78-5.9505 15.184-7.9102 14.606-5.5945-7.456-7.3109-6.9745 6.9117-15.412 5.1915-15.715 8.2858 7.6147z\" clip-path=\"url(#pf4477786ed)\" fill=\"#4d4343\"/><path d=\"m225.79 299.7-16.766 0.40272-16.959-1.5449 17.522-0.9603 17.253-2.8678-0.22772 2.5016z\" clip-path=\"url(#pf4477786ed)\" fill=\"#897777\"/><path d=\"m287.93 265.36-13.58 9.8471-14.871 8.2516-0.83744-4.7769-1.9613-4.6589 14.12-10.236 12.852-11.604 2.9313 6.4955z\" clip-path=\"url(#pf4477786ed)\" fill=\"#5c5050\"/><path d=\"m305.99 118.92 2.3976 14.519 0.44309 15.186-10.492-7.0659-12.105-6.3107-0.35297-14.95-1.9105-14.078 11.799 5.9921z\" clip-path=\"url(#pf4477786ed)\" fill=\"#5c4f4f\"/><path d=\"m100.16 106.22-1.9105 14.078-0.35297 14.95-12.105 6.3107-10.492 7.0659 0.44309-15.186 2.3976-14.519 10.22-6.7071z\" clip-path=\"url(#pf4477786ed)\" fill=\"#dabdbd\"/><path d=\"m222.42 304.37-15.117-1.9214-15.234-3.8886 16.959 1.5449 16.766-0.40272-1.4058 2.3929z\" clip-path=\"url(#pf4477786ed)\" fill=\"#8f7c7c\"/><path d=\"m275.51 81.606 4.9919 11.644 3.4643 12.974-13.175-5.1991-14.335-4.3409-2.406-12.503-3.4699-11.04 13 3.8538z\" clip-path=\"url(#pf4477786ed)\" fill=\"#726262\"/><path d=\"m133.55 73.141-3.4699 11.04-2.406 12.503-14.335 4.3409-13.175 5.1991 3.4643-12.974 4.9919-11.644 11.93-4.6119z\" clip-path=\"url(#pf4477786ed)\" fill=\"#ccb1b1\"/><path d=\"m257.69 293.04-15.591 4.3017-16.309 2.3609 0.82213-2.4687 0.22772-2.5016 16.717-4.7362 15.921-6.5394-0.31397 4.8144z\" clip-path=\"url(#pf4477786ed)\" fill=\"#706161\"/><path d=\"m310.33 241.47-10.336 12.589-12.062 11.301-1.3465-6.6815-2.9313-6.4955 11.383-12.8 9.7285-13.806 3.7531 7.8243z\" clip-path=\"url(#pf4477786ed)\" fill=\"#524747\"/><path d=\"m324.21 164.63-1.7114 15.625-3.8748 15.527-6.377-8.1528-8.2858-7.6147 3.3769-15.781 1.4906-15.606 8.6833 7.7258z\" clip-path=\"url(#pf4477786ed)\" fill=\"#4f4444\"/><path d=\"m217.08 51.966 2.8137 6.9986 2.3073 8.926-14.957-1.3325-15.177-0.44592v-8.7755-6.824l12.601 0.36449z\" clip-path=\"url(#pf4477786ed)\" fill=\"#9b8686\"/><path d=\"m192.06 50.512v6.824 8.7755l-15.177 0.44592-14.957 1.3325 2.3073-8.926 2.8137-6.9986 12.412-1.0888z\" clip-path=\"url(#pf4477786ed)\" fill=\"#ac9595\"/><path d=\"m251.34 302.1-14.16 2.1597-14.76 0.10415 1.9684-2.2749 1.4058-2.3929 16.309-2.3609 15.591-4.3017-2.6207 4.6397z\" clip-path=\"url(#pf4477786ed)\" fill=\"#766666\"/><path d=\"m285.7 278.83-13.391 8.0148-14.615 6.1962 1.4735-4.7691 0.31397-4.8144 14.871-8.2516 13.58-9.8471-0.2879 6.7563z\" clip-path=\"url(#pf4477786ed)\" fill=\"#615454\"/><path d=\"m240.59 56.251 5.4854 7.5167 4.502 9.3728-13.865-3.0472-14.519-2.2032-2.3073-8.926-2.8137-6.9986 12.038 1.7992z\" clip-path=\"url(#pf4477786ed)\" fill=\"#8c7a7a\"/><path d=\"m167.05 51.966-2.8137 6.9986-2.3073 8.926-14.519 2.2032-13.865 3.0472 4.502-9.3728 5.4854-7.5167 11.479-2.4863z\" clip-path=\"url(#pf4477786ed)\" fill=\"#bda4a4\"/><path d=\"m325.1 213.2-6.346 14.574-8.4219 13.687-1.8117-8.069-3.7531-7.8243 7.9102-14.606 5.9505-15.184 4.3227 8.5693z\" clip-path=\"url(#pf4477786ed)\" fill=\"#4e4343\"/><path d=\"m108.62 81.606-4.9919 11.644-3.4643 12.974-11.799 5.9921-10.22 6.7071 4.3444-13.609 6.2531-12.461 9.2139-5.9371z\" clip-path=\"url(#pf4477786ed)\" fill=\"#dec0c0\"/><path d=\"m295.39 92.853 6.2531 12.461 4.3444 13.609-10.22-6.7071-11.799-5.9921-3.4643-12.974-4.9919-11.644 10.664 5.3101z\" clip-path=\"url(#pf4477786ed)\" fill=\"#685a5a\"/><path d=\"m320.95 134.11 2.7521 15.056 0.5088 15.47-6.6982-8.2768-8.6833-7.7258-0.44309-15.186-2.3976-14.519 8.4509 7.3311z\" clip-path=\"url(#pf4477786ed)\" fill=\"#574b4b\"/><path d=\"m143.54 56.251-5.4854 7.5167-4.502 9.3728-13 3.8538-11.93 4.6119 6.4693-10.101 7.8713-8.3598 9.8337-3.7533z\" clip-path=\"url(#pf4477786ed)\" fill=\"#ceb3b3\"/><path d=\"m261.17 63.145 7.8713 8.3598 6.4693 10.101-11.93-4.6119-13-3.8538-4.502-9.3728-5.4854-7.5167 10.742 3.1408z\" clip-path=\"url(#pf4477786ed)\" fill=\"#817070\"/><path d=\"m307.88 257.8-10.249 11.302-11.93 9.7268 1.9447-6.7149 0.2879-6.7563 12.062-11.301 10.336-12.589-0.20069 8.1806z\" clip-path=\"url(#pf4477786ed)\" fill=\"#574c4c\"/><path d=\"m276.9 291.65-12.241 6.2359-13.319 4.2147 3.7344-4.4267 2.6207-4.6397 14.615-6.1962 13.391-8.0148-3.5946 6.554z\" clip-path=\"url(#pf4477786ed)\" fill=\"#685a5a\"/><path d=\"m331.06 182.34-1.8286 15.639-4.1373 15.231-2.1495-8.8521-4.3227-8.5693 3.8748-15.527 1.7114-15.625 4.5589 8.7053z\" clip-path=\"url(#pf4477786ed)\" fill=\"#504545\"/><path d=\"m210.07 44.378 3.719 2.6797 3.2875 4.9081-12.412-1.0888-12.601-0.36449v-4.7111-2.4621l9.0737 0.26057z\" clip-path=\"url(#pf4477786ed)\" fill=\"#a69090\"/><path d=\"m192.06 43.339v2.4621 4.7111l-12.601 0.36449-12.412 1.0888 3.2875-4.9081 3.719-2.6797 8.9327-0.77808z\" clip-path=\"url(#pf4477786ed)\" fill=\"#b29a9a\"/><path d=\"m308.8 106.27 7.1622 13.455 4.9826 14.383-6.5103-7.8511-8.4509-7.3311-4.3444-13.609-6.2531-12.461 7.5934 6.4814z\" clip-path=\"url(#pf4477786ed)\" fill=\"#645656\"/><path d=\"m122.96 63.145-7.8713 8.3598-6.4693 10.101-10.664 5.3101-9.2139 5.9371 8.0916-11.084 9.8266-9.4949 7.5385-4.8146z\" clip-path=\"url(#pf4477786ed)\" fill=\"#dec0c0\"/><path d=\"m277.47 72.274 9.8266 9.4949 8.0916 11.084-9.2139-5.9371-10.664-5.3101-6.4693-10.101-7.8713-8.3598 8.762 4.3143z\" clip-path=\"url(#pf4477786ed)\" fill=\"#796969\"/><path d=\"m322.56 231.17-6.3174 13.921-8.3694 12.709 2.2514-8.1517 0.20069-8.1806 8.4219-13.687 6.346-14.574-0.11094 8.99z\" clip-path=\"url(#pf4477786ed)\" fill=\"#544949\"/><path d=\"m226.96 47.435 7.2339 3.3237 6.4023 5.4919-11.479-2.4863-12.038-1.7992-3.2875-4.9081-3.719-2.6797 8.6521 1.2847z\" clip-path=\"url(#pf4477786ed)\" fill=\"#9b8686\"/><path d=\"m174.06 44.378-3.719 2.6797-3.2875 4.9081-12.038 1.7992-11.479 2.4863 6.4023-5.4919 7.2339-3.3237 8.2351-1.7732z\" clip-path=\"url(#pf4477786ed)\" fill=\"#c0a6a6\"/><path d=\"m327.58 150.89 2.9398 15.66 0.54372 15.786-2.2929-8.9987-4.5589-8.7053-0.5088-15.47-2.7521-15.056 4.4205 8.2545z\" clip-path=\"url(#pf4477786ed)\" fill=\"#574c4c\"/><path d=\"m297.25 273.43-9.4192 10.036-10.937 8.1886 5.2066-6.2728 3.5946-6.554 11.93-9.7268 10.249-11.302-4.3042 7.9769z\" clip-path=\"url(#pf4477786ed)\" fill=\"#615454\"/><path d=\"m241.66 52.339 10.343 4.3663 9.1714 6.4398-9.8337-3.7533-10.742-3.1408-6.4023-5.4919-7.2339-3.3237 7.6863 2.2364z\" clip-path=\"url(#pf4477786ed)\" fill=\"#927f7f\"/><path d=\"m157.17 47.435-7.2339 3.3237-6.4023 5.4919-10.742 3.1408-9.8337 3.7533 9.1714-6.4398 10.343-4.3663 7.0119-2.6673z\" clip-path=\"url(#pf4477786ed)\" fill=\"#cdb1b1\"/><path d=\"m288.34 83.116 11.21 10.871 9.2513 12.28-5.8205-6.932-7.5934-6.4814-8.0916-11.084-9.8266-9.4949 6.1771 5.2451z\" clip-path=\"url(#pf4477786ed)\" fill=\"#756666\"/><path d=\"m328.51 200.62-1.8238 15.646-4.1237 14.908 2.4223-8.9737 0.11094-8.99 4.1373-15.231 1.8286-15.639-0.067391 9.1452z\" clip-path=\"url(#pf4477786ed)\" fill=\"#564a4a\"/><path d=\"m142.47 52.339-10.343 4.3663-9.1714 6.4398-8.762 4.3143-7.5385 4.8146 11.424-7.7115 12.85-5.7594 5.3206-3.405z\" clip-path=\"url(#pf4477786ed)\" fill=\"#d9bcbc\"/><path d=\"m253.2 58.803 12.85 5.7594 11.424 7.7115-7.5385-4.8146-8.762-4.3143-9.1714-6.4398-10.343-4.3663 6.2201 3.059z\" clip-path=\"url(#pf4477786ed)\" fill=\"#8c7a7a\"/><path d=\"m314.63 121.05 7.6323 14.578 5.3175 15.258-2.2087-8.5293-4.4205-8.2545-4.9826-14.383-7.1622-13.455 3.9167 7.2778z\" clip-path=\"url(#pf4477786ed)\" fill=\"#645757\"/><path d=\"m310.79 248.42-5.8278 13.269-7.708 11.742 6.3198-7.6537 4.3042-7.9769 8.3694-12.709 6.3174-13.921-4.7439 8.7963z\" clip-path=\"url(#pf4477786ed)\" fill=\"#5f5252\"/><path d=\"m201.56 46.095 4.4162-2.0617 4.0985 0.34428-8.9327-0.77808-9.0737-0.26057v-0.10778 2.3151l4.7848 0.13771z\" clip-path=\"url(#pf4477786ed)\" fill=\"#af9797\"/><path d=\"m192.06 45.546v-2.3151 0.10778l-9.0737 0.26057-8.9327 0.77808 4.0985-0.34428 4.4162 2.0617 4.7069-0.41101z\" clip-path=\"url(#pf4477786ed)\" fill=\"#b69e9e\"/><path d=\"m210.43 47.707 8.5659-1.3147 7.9614 1.0428-8.2351-1.7732-8.6521-1.2847-4.0985-0.34428-4.4162 2.0617 4.5521 0.67795z\" clip-path=\"url(#pf4477786ed)\" fill=\"#a89292\"/><path d=\"m182.57 46.095-4.4162-2.0617-4.0985 0.34428-8.6521 1.2847-8.2351 1.7732 7.9614-1.0428 8.5659 1.3147 4.3226-0.93436z\" clip-path=\"url(#pf4477786ed)\" fill=\"#bea5a5\"/><path d=\"m325.04 168.21 2.9315 16.296 0.54238 16.114 2.4843-9.1349 0.067391-9.1452-0.54372-15.786-2.9398-15.66-0.093328 8.6646z\" clip-path=\"url(#pf4477786ed)\" fill=\"#5e5151\"/><path d=\"m260.77 66.437 14.575 7.4323 12.997 9.2466-4.6941-5.5971-6.1771-5.2451-11.424-7.7115-12.85-5.7594 4.3252 3.699z\" clip-path=\"url(#pf4477786ed)\" fill=\"#8a7878\"/><path d=\"m173.7 47.707-8.5659-1.3147-7.9614 1.0428-7.6863 2.2364-7.0119 2.6673 11.358-2.1699 12.192 0.11383 3.6535-1.3995z\" clip-path=\"url(#pf4477786ed)\" fill=\"#c7acac\"/><path d=\"m218.11 50.283 12.192-0.11383 11.358 2.1699-7.0119-2.6673-7.6863-2.2364-7.9614-1.0428-8.5659 1.3147 4.0217 1.1762z\" clip-path=\"url(#pf4477786ed)\" fill=\"#a48e8e\"/><path d=\"m292.9 95.013 11.892 12.415 9.839 13.626-1.9076-7.5091-3.9167-7.2778-9.2513-12.28-11.21-10.871 3.1092 5.8624z\" clip-path=\"url(#pf4477786ed)\" fill=\"#766666\"/><path d=\"m224.07 53.66 15.058 1.4745 14.071 3.6686-5.3206-3.405-6.2201-3.059-11.358-2.1699-12.192 0.11383 3.2235 1.6007z\" clip-path=\"url(#pf4477786ed)\" fill=\"#a18c8c\"/><path d=\"m166.02 50.283-12.192-0.11383-11.358 2.1699-6.2201 3.059-5.3206 3.405 14.071-3.6686 15.058-1.4745 2.7379-1.7762z\" clip-path=\"url(#pf4477786ed)\" fill=\"#cfb3b3\"/><path d=\"m316.28 218.19-1.6856 15.645-3.8085 14.581 7.0311-8.4539 4.7439-8.7963 4.1237-14.908 1.8238-15.646-4.9152 8.9605z\" clip-path=\"url(#pf4477786ed)\" fill=\"#615454\"/><path d=\"m312.15 136.26 7.5916 15.761 5.2972 16.18 2.4486-8.6514 0.093328-8.6646-5.3175-15.258-7.6323-14.578-0.1772 7.6168z\" clip-path=\"url(#pf4477786ed)\" fill=\"#6a5c5c\"/><path d=\"m263.78 74.761 15.367 9.2903 13.749 10.961-1.4448-6.0338-3.1092-5.8624-12.997-9.2466-14.575-7.4323 2.1027 4.1087z\" clip-path=\"url(#pf4477786ed)\" fill=\"#8b7979\"/><path d=\"m227.9 57.622 16.961 3.3581 15.907 5.4577-3.2474-3.9353-4.3252-3.699-14.071-3.6686-15.058-1.4745 2.2039 1.9231z\" clip-path=\"url(#pf4477786ed)\" fill=\"#a18c8c\"/><path d=\"m192.06 57.503 4.829-6.9115 4.6626-4.4961-4.7069-0.41101-4.7848-0.13771v4.7643 7.192z\" clip-path=\"url(#pf4477786ed)\" fill=\"#ac9595\"/><path d=\"m192.06 57.503v-7.192-4.7643l-4.7848 0.13771-4.7069 0.41101 4.6626 4.4961 4.829 6.9115z\" clip-path=\"url(#pf4477786ed)\" fill=\"#ad9696\"/><path d=\"m313.07 184.84 2.7086 16.918 0.50134 16.432 7.3132-8.6175 4.9152-8.9605-0.54238-16.114-2.9315-16.296-4.8156 8.4828z\" clip-path=\"url(#pf4477786ed)\" fill=\"#695b5b\"/><path d=\"m192.06 57.503 9.3366-6.0881 9.0297-3.7071-4.3226-0.93436-4.5521-0.67795-4.6626 4.4961-4.829 6.9115z\" clip-path=\"url(#pf4477786ed)\" fill=\"#ad9696\"/><path d=\"m192.06 57.503-4.829-6.9115-4.6626-4.4961-4.5521 0.67795-4.3226 0.93436 9.0297 3.7071 9.3366 6.0881z\" clip-path=\"url(#pf4477786ed)\" fill=\"#af9898\"/><path d=\"m290.61 107.19 11.775 14.033 9.7666 15.043 2.3038-7.5936 0.1772-7.6168-9.839-13.626-11.892-12.415-0.27364 6.1049z\" clip-path=\"url(#pf4477786ed)\" fill=\"#7b6b6b\"/><path d=\"m192.06 57.503 13.221-4.7756 12.82-2.444-3.6535-1.3995-4.0217-1.1762-9.0297 3.7071-9.3366 6.0881z\" clip-path=\"url(#pf4477786ed)\" fill=\"#b09898\"/><path d=\"m192.06 57.503-9.3366-6.0881-9.0297-3.7071-4.0217 1.1762-3.6535 1.3995 12.82 2.444 13.221 4.7756z\" clip-path=\"url(#pf4477786ed)\" fill=\"#b39b9b\"/><path d=\"m229.33 61.908 17.746 5.421 16.71 7.4316-0.90852-4.2147-2.1027-4.1087-15.907-5.4577-16.961-3.3581 1.0249 2.1202z\" clip-path=\"url(#pf4477786ed)\" fill=\"#a38d8d\"/><path d=\"m192.06 57.503-13.221-4.7756-12.82-2.444-3.2235 1.6007-2.7379 1.7762 15.782 0.78292 16.221 3.0597z\" clip-path=\"url(#pf4477786ed)\" fill=\"#b79f9f\"/><path d=\"m192.06 57.503 16.221-3.0597 15.782-0.78292-2.7379-1.7762-3.2235-1.6007-12.82 2.444-13.221 4.7756z\" clip-path=\"url(#pf4477786ed)\" fill=\"#b39b9b\"/><path d=\"m192.06 57.503 18.128-1.0541 17.708 1.1731-1.6299-2.0385-2.2039-1.9231-15.782 0.78292-16.221 3.0597z\" clip-path=\"url(#pf4477786ed)\" fill=\"#b89f9f\"/><path d=\"m261.91 83.223 15.118 11.216 13.572 12.749 2.0176-6.0709 0.27364-6.1049-13.749-10.961-15.367-9.2903-0.31609 4.25z\" clip-path=\"url(#pf4477786ed)\" fill=\"#907d7d\"/><path d=\"m192.06 57.503 18.809 1.1072 18.452 3.2984-0.39855-2.1664-1.0249-2.1202-17.708-1.1731-18.128 1.0541z\" clip-path=\"url(#pf4477786ed)\" fill=\"#bda4a4\"/><path d=\"m301.18 150.84 6.9978 16.923 4.8899 17.085 7.1488-8.1549 4.8156-8.4828-5.2972-16.18-7.5916-15.761-4.4346 7.4345z\" clip-path=\"url(#pf4477786ed)\" fill=\"#756666\"/><path d=\"m228.21 66.232 17.325 7.5279 16.379 9.4632 1.5506-4.2121 0.31609-4.25-16.71-7.4316-17.746-5.421-0.23864 2.1758z\" clip-path=\"url(#pf4477786ed)\" fill=\"#a79191\"/><path d=\"m192.06 57.503 18.207 3.2778 17.939 5.4512 0.87584-2.1478 0.23864-2.1758-18.452-3.2984-18.809-1.1072z\" clip-path=\"url(#pf4477786ed)\" fill=\"#c3a9a9\"/><path d=\"m192.06 57.503 16.357 5.3091 16.181 7.4826 2.1057-1.9802 1.5019-2.0824-17.939-5.4512-18.207-3.2778z\" clip-path=\"url(#pf4477786ed)\" fill=\"#c9aeae\"/><path d=\"m281.39 118.79 10.807 15.611 8.9851 16.429 6.5288-7.1367 4.4346-7.4345-9.7666-15.043-11.775-14.033-3.7564 5.9288z\" clip-path=\"url(#pf4477786ed)\" fill=\"#857373\"/><path d=\"m224.6 70.294 15.689 9.5318 14.888 11.41 3.9611-3.9134 2.7731-4.0998-16.379-9.4632-17.325-7.5279-1.5019 2.0824z\" clip-path=\"url(#pf4477786ed)\" fill=\"#ad9696\"/><path d=\"m255.18 91.236 13.791 13.074 12.421 14.485 5.457-5.6776 3.7564-5.9288-13.572-12.749-15.118-11.216-2.7731 4.0998z\" clip-path=\"url(#pf4477786ed)\" fill=\"#988383\"/></g><defs><path id=\"DejaVuSans-Oblique-120\" d=\"m60.016 54.688-25.109-26.812 15.391-27.875h-10.312l-11.562 21.688-20.125-21.688h-10.891l26.906 28.812-14.297 25.875h10.297l10.5-19.781 18.312 19.781z\"/></defs><g transform=\"translate(96.938 265.04) scale(.2 -.2)\"><use transform=\"translate(0 .3125)\" xlink:href=\"#DejaVuSans-Oblique-120\"/></g><defs><path id=\"DejaVuSans-Oblique-121\" d=\"m24.812-5.0781q-6.25-10.5-10.188-13.109t-10.031-2.6094h-7.0781l1.5 7.5156h5.1875q3.75 0 6.3906 2.0469t5.9062 8.0156l2.7812 5.2188-12.109 52.688h9.5312l9.0781-41.891 25.094 41.891h9.4219z\"/></defs><g transform=\"translate(336.08 231.12) scale(.2 -.2)\"><use transform=\"translate(0 .3125)\" xlink:href=\"#DejaVuSans-Oblique-121\"/></g><defs><path id=\"DejaVuSans-124\" d=\"m21 76.422v-100h-8.2969v100z\"/><path id=\"DejaVuSans-48\" d=\"m31.781 66.406q-7.6094 0-11.453-7.5-3.8281-7.4844-3.8281-22.531 0-14.984 3.8281-22.484 3.8438-7.5 11.453-7.5 7.6719 0 11.5 7.5 3.8438 7.5 3.8438 22.484 0 15.047-3.8438 22.531-3.8281 7.5-11.5 7.5zm0 7.8125q12.266 0 18.734-9.7031 6.4688-9.6875 6.4688-28.141 0-18.406-6.4688-28.109-6.4688-9.6875-18.734-9.6875-12.25 0-18.719 9.6875-6.4688 9.7031-6.4688 28.109 0 18.453 6.4688 28.141 6.4688 9.7031 18.719 9.7031z\"/><path id=\"DejaVuSans-10217\" d=\"m30.078 31.344-13.766-44.531h-8.2969l13.766 44.531-13.766 44.531h8.2969z\"/></defs><g transform=\"translate(178.36 36.718) scale(.2 -.2)\"><use transform=\"translate(0 .57812)\" xlink:href=\"#DejaVuSans-124\"/><use transform=\"translate(33.691 .57812)\" xlink:href=\"#DejaVuSans-48\"/><use transform=\"translate(97.314 .57812)\" xlink:href=\"#DejaVuSans-10217\"/></g><defs><path id=\"DejaVuSans-49\" d=\"m12.406 8.2969h16.109v55.625l-17.531-3.5156v8.9844l17.438 3.5156h9.8594v-64.609h16.109v-8.2969h-41.984z\"/></defs><g transform=\"translate(178.36 326.15) scale(.2 -.2)\"><use transform=\"translate(0 .57812)\" xlink:href=\"#DejaVuSans-124\"/><use transform=\"translate(33.691 .57812)\" xlink:href=\"#DejaVuSans-49\"/><use transform=\"translate(97.314 .57812)\" xlink:href=\"#DejaVuSans-10217\"/></g><g fill=\"none\" stroke=\"#808080\" stroke-opacity=\".2\" stroke-width=\"1.5\"><path d=\"m192.06 57.503 16.357 5.3091 16.181 7.4826 15.689 9.5318 14.888 11.41 13.791 13.074 12.421 14.485 10.807 15.611 8.9851 16.429 6.9978 16.923 4.8899 17.085 2.7086 16.918 0.50134 16.432-1.6856 15.645-3.8085 14.581-5.8278 13.269-7.708 11.742-9.4192 10.036-10.937 8.1886-12.241 6.2359-13.319 4.2147-14.16 2.1597-14.76 0.10415-15.117-1.9214-15.234-3.8886\" clip-path=\"url(#pf4477786ed)\"/><path d=\"m192.06 57.503 18.627 0.016026 18.234 2.2231 17.501 4.3752 16.445 6.4291 15.096 8.345 13.483 10.088 11.646 11.627 9.6228 12.939 7.4571 14.004 5.1915 14.811 2.8689 15.352 0.53048 15.625-1.7842 15.633-4.0383 15.383-6.1979 14.887-8.2323 14.158-10.114 13.211-11.819 12.066-13.326 10.742-14.616 9.2611-15.676 7.6447-16.492 5.9163-17.054 4.0998-17.355 2.2199\" clip-path=\"url(#pf4477786ed)\"/><path d=\"m192.06 57.503 13.221-4.7756 12.82-2.444 12.192-0.11383 11.358 2.1699 10.343 4.3663 9.1714 6.4398 7.8713 8.3598 6.4693 10.101 4.9919 11.644 3.4643 12.974 1.9105 14.078 0.35297 14.95-1.1875 15.586-2.6918 15.983-4.1419 16.143-5.5214 16.068-6.8148 15.762-8.0077 15.229-9.0861 14.477-10.037 13.514-10.848 12.347-11.506 10.99-12.001 9.4532-12.322 7.7534\" clip-path=\"url(#pf4477786ed)\"/><path d=\"m192.06 57.503 2.4348-7.1216 2.35-4.697 2.2249-2.2516 2.0641 0.16707 1.8723 2.5166 1.6545 4.7605 1.4157 6.8678 1.1606 8.8132 0.89376 10.577 0.61933 12.143 0.34123 13.499 0.063019 14.637-0.21205 15.552-0.48098 16.238-0.74098 16.694-0.98945 16.918-1.2239 16.909-1.4419 16.668-1.641 16.195-1.819 15.492-1.9732 14.563-2.1013 13.41-2.2009 12.041-2.2696 10.464\" clip-path=\"url(#pf4477786ed)\"/><path d=\"m192.06 57.503-9.3366-6.0881-9.0297-3.7071-8.5659-1.3147-7.9614 1.0428-7.2339 3.3237-6.4023 5.4919-5.4854 7.5167-4.502 9.3728-3.4699 11.04-2.406 12.503-1.3262 13.751-0.24496 14.774 0.82422 15.568 1.869 16.129 2.8778 16.457 3.8399 16.55 4.7452 16.412 5.584 16.043 6.3468 15.447 7.0244 14.629 7.6077 13.594 8.0876 12.349 8.4553 10.904 8.7023 9.2699\" clip-path=\"url(#pf4477786ed)\"/><path d=\"m192.06 57.503-16.221-3.0597-15.782-0.78292-15.058 1.4745-14.071 3.6686-12.85 5.7594-11.424 7.7115-9.8266 9.4949-8.0916 11.084-6.2531 12.461-4.3444 13.609-2.3976 14.519-0.44309 15.186 1.4906 15.606 3.3769 15.781 5.1915 15.715 6.9117 15.412 8.517 14.881 9.9883 14.132 11.308 13.176 12.46 12.024 13.43 10.691 14.204 9.193 14.769 7.5467 15.116 5.7715\" clip-path=\"url(#pf4477786ed)\"/><path d=\"m192.06 57.503\" clip-path=\"url(#pf4477786ed)\"/><path d=\"m268.97 104.31 4.759-4.8249 3.3026-5.0461 1.809-5.1752 0.30604-5.2125-1.1796-5.16-2.6231-5.0214-4.0019-4.8013-5.2959-4.5058-6.4873-4.1415-7.5607-3.7156-8.5031-3.2359-9.3038-2.7103-9.9543-2.1472-10.448-1.5547-10.779-0.94118-10.946-0.31513-10.946 0.31513-10.779 0.94118-10.448 1.5547-9.9543 2.1472-9.3038 2.7103-8.5031 3.2359-7.5607 3.7156-6.4873 4.1415\" clip-path=\"url(#pf4477786ed)\"/><path d=\"m313.07 184.84 7.1488-8.1549 4.8156-8.4828 2.4486-8.6514 0.093328-8.6646-2.2087-8.5293-4.4205-8.2545-6.5103-7.8511-8.4509-7.3311-10.22-6.7071-11.799-5.9921-13.175-5.1991-14.335-4.3409-15.272-3.43-15.979-2.4786-16.453-1.4986-16.69-0.50141-16.69 0.50141-16.453 1.4986-15.979 2.4786-15.272 3.43-14.335 4.3409-13.175 5.1991-11.799 5.9921-10.22 6.7071\" clip-path=\"url(#pf4477786ed)\"/><path d=\"m304.96 261.69 6.7276-8.1314 4.5577-8.4667 2.352-8.6439 0.15265-8.666-2.0013-8.5394-4.0752-8.2726-6.0386-7.8759-7.8653-7.3609-9.5335-6.74-11.025-6.0261-12.326-5.2321-13.425-4.3709-14.314-3.4554-14.985-2.4978-15.435-1.5105-15.66-0.50547-15.66 0.50547-15.435 1.5105-14.985 2.4978-14.314 3.4554-13.425 4.3709-12.326 5.2321-11.025 6.0261-9.5335 6.74\" clip-path=\"url(#pf4477786ed)\"/><path d=\"m251.34 302.1 3.7344-4.4267 2.6207-4.6397 1.4735-4.7691 0.31397-4.8144-0.83744-4.7769-1.9613-4.6589-3.0397-4.4645-4.056-4.1983-4.9955-3.8663-5.8451-3.4747-6.5936-3.0308-7.2314-2.5419-7.7509-2.0159-8.1457-1.4608-8.4114-0.88485-8.545-0.29635-8.545 0.29635-8.4114 0.88485-8.1457 1.4608-7.7509 2.0159-7.2314 2.5419-6.5936 3.0308-5.8451 3.4747-4.9955 3.8663\" clip-path=\"url(#pf4477786ed)\"/><path d=\"m192.06 298.56\" clip-path=\"url(#pf4477786ed)\"/></g><g fill=\"none\" stroke=\"#808080\" stroke-opacity=\".2\" stroke-width=\"1.5\"><path d=\"m192.06 57.503-16.221-3.0597-15.782-0.78292-15.058 1.4745-14.071 3.6686-12.85 5.7594-11.424 7.7115-9.8266 9.4949-8.0916 11.084-6.2531 12.461-4.3444 13.609-2.3976 14.519-0.44309 15.186 1.4906 15.606 3.3769 15.781 5.1915 15.715 6.9117 15.412 8.517 14.881 9.9883 14.132 11.308 13.176 12.46 12.024 13.43 10.691 14.204 9.193 14.769 7.5467 15.116 5.7715\" clip-path=\"url(#pf4477786ed)\"/><path d=\"m192.06 57.503-18.668 2.2007-18.353 4.3806-17.689 6.478-16.689 8.4489-15.377 10.253-13.781 11.854-11.938 13.221-9.8895 14.332-7.6793 15.167-5.3543 15.717-2.9616 15.977-0.54786 15.95 1.8424 15.643 4.167 15.071 6.3877 14.25 8.4699 13.202 10.383 11.949 12.102 10.517 13.604 8.9327 14.873 7.2241 15.894 5.4187 16.658 3.5442 17.157 1.6284 17.39-0.30186\" clip-path=\"url(#pf4477786ed)\"/><path d=\"m192.06 57.503-13.379 7.0599-13.281 9.2466-12.921 11.285-12.301 13.124-11.43 14.72-10.323 16.031-9.0041 17.024-7.5024 17.674-5.8532 17.968-4.0953 17.9-2.2703 17.477-0.42037 16.715 1.4131 15.638 3.1911 14.278 4.8778 12.674 6.4422 10.865 7.8579 8.8955 9.1039 6.8099 10.164 4.6511 11.029 2.4602 11.691 0.27555 12.149-1.8677 12.403-3.9382 12.459-5.9082\" clip-path=\"url(#pf4477786ed)\"/><path d=\"m192.06 57.503-2.4756 9.4737-2.4692 11.698-2.4137 13.74-2.3084 15.544-2.1541 17.059-1.9532 18.241-1.7096 19.053-1.4287 19.47-1.1174 19.478-0.7832 19.079-0.43468 18.284-0.080525 17.118 0.27065 15.619 0.61066 13.829 0.93208 11.8 1.2285 9.5863 1.4945 7.2433 1.7262 4.8257 1.9206 2.385 2.0759-0.031293 2.1915-2.3809 2.2676-4.6271 2.3049-6.7392 2.3049-8.6916\" clip-path=\"url(#pf4477786ed)\"/><path d=\"m192.06 57.503 9.473 8.4076 9.4286 10.613 9.1974 12.65 8.7785 14.467 8.1762 16.016 7.4006 17.253 6.4676 18.144 5.3979 18.665 4.217 18.801 2.9535 18.55 1.6384 17.922 0.30344 16.938-1.02 15.629-2.3021 14.032-3.5162 12.194-4.6385 10.161-5.6497 7.9848-6.5344 5.7143-7.2815 3.3977-7.8839 1.0797-8.3381-1.1991-8.6437-3.4024-8.8031-5.4991-8.8207-7.4623\" clip-path=\"url(#pf4477786ed)\"/><path d=\"m192.06 57.503 16.357 5.3091 16.181 7.4826 15.689 9.5318 14.888 11.41 13.791 13.074 12.421 14.485 10.807 15.611 8.9851 16.429 6.9978 16.923 4.8899 17.085 2.7086 16.918 0.50134 16.432-1.6856 15.645-3.8085 14.581-5.8278 13.269-7.708 11.742-9.4192 10.036-10.937 8.1886-12.241 6.2359-13.319 4.2147-14.16 2.1597-14.76 0.10415-15.117-1.9214-15.234-3.8886\" clip-path=\"url(#pf4477786ed)\"/><path d=\"m192.06 57.503\" clip-path=\"url(#pf4477786ed)\"/><path d=\"m118.08 64.563-5.2959 4.5058-4.0019 4.8013-2.6231 5.0214-1.1796 5.16 0.30604 5.2125 1.809 5.1752 3.3026 5.0461 4.759 4.8249 6.1494 4.5132 7.4449 4.1147 8.6175 3.6351 9.6408 3.0825 10.491 2.4668 11.147 1.8 11.594 1.0955 11.821 0.36775 11.821-0.36775 11.594-1.0955 11.147-1.8 10.491-2.4668 9.6408-3.0825 8.6175-3.6351 7.4449-4.1147 6.1494-4.5132\" clip-path=\"url(#pf4477786ed)\"/><path d=\"m78.143 118.92-8.4509 7.3311-6.5103 7.8511-4.4205 8.2545-2.2087 8.5293 0.093328 8.6646 2.4486 8.6514 4.8156 8.4828 7.1488 8.1549 9.3994 7.6672 11.517 7.0234 13.45 6.2313 15.15 5.3037 16.572 4.2575 17.676 3.114 18.43 1.8981 18.813 0.63773 18.813-0.63773 18.43-1.8981 17.676-3.114 16.572-4.2575 15.15-5.3037 13.45-6.2313 11.517-7.0234 9.3994-7.6672\" clip-path=\"url(#pf4477786ed)\"/><path d=\"m85.361 195.73-7.8653 7.3609-6.0386 7.8759-4.0752 8.2726-2.0013 8.5394 0.15265 8.666 2.352 8.6439 4.5577 8.4667 6.7276 8.1314 8.8168 7.6379 10.779 6.9904 12.567 6.1972 14.138 5.271 15.45 4.2288 16.467 3.0917 17.162 1.884 17.515 0.63288 17.515-0.63288 17.162-1.884 16.467-3.0917 15.45-4.2288 14.138-5.271 12.567-6.1972 10.779-6.9904 8.8168-7.6379\" clip-path=\"url(#pf4477786ed)\"/><path d=\"m134.55 265.36-4.056 4.1983-3.0397 4.4645-1.9613 4.6589-0.83744 4.7769 0.31397 4.8144 1.4735 4.7691 2.6207 4.6397 3.7344 4.4267 4.7932 4.1322 5.7759 3.7602 6.6623 3.3163 7.4334 2.808 8.0723 2.2445 8.5648 1.6362 8.8996 0.99516 9.0689 0.33397 9.0689-0.33397 8.8996-0.99516 8.5648-1.6362 8.0723-2.2445 7.4334-2.808 6.6623-3.3163 5.7759-3.7602 4.7932-4.1322\" clip-path=\"url(#pf4477786ed)\"/><path d=\"m192.06 298.56\" clip-path=\"url(#pf4477786ed)\"/></g><g fill-opacity=\".2\"><path d=\"m110.78 240.16 11.308 13.176 12.46 12.024-4.056 4.1983-3.0397 4.4645-14.12-10.236-12.852-11.604 4.4422-6.2049z\" clip-path=\"url(#pf4477786ed)\" fill=\"#b49c9c\"/><path d=\"m134.55 265.36 13.43 10.691 14.204 9.193-2.054 2.2136-1.5173 2.3458-15.988-7.0646-15.17-8.7161 3.0397-4.4645z\" clip-path=\"url(#pf4477786ed)\" fill=\"#9f8a8a\"/><path d=\"m92.273 211.14 8.517 14.881 9.9883 14.132-5.8574 5.8176-4.4422 6.2049-11.383-12.8-9.7285-13.806 5.5945-7.456z\" clip-path=\"url(#pf4477786ed)\" fill=\"#c7acac\"/><path d=\"m162.18 285.24 14.769 7.5467 15.116 5.7715-16.891-3.4554-16.565-5.3034 1.5173-2.3458z\" clip-path=\"url(#pf4477786ed)\" fill=\"#837171\"/><path d=\"m158.61 289.8 16.565 5.3034 16.891 3.4554-17.522-0.9603-17.253-2.8678 0.36701-2.4916z\" clip-path=\"url(#pf4477786ed)\" fill=\"#897676\"/><path d=\"m127.45 274.02 15.17 8.7161 15.988 7.0646-0.95193 2.4391-0.36701 2.4916-16.717-4.7362-15.921-6.5394 0.83744-4.7769z\" clip-path=\"url(#pf4477786ed)\" fill=\"#a58f8f\"/><path d=\"m80.17 180.02 5.1915 15.715 6.9117 15.412-7.3109 6.9745-5.5945 7.456-7.9102-14.606-5.9505-15.184 6.377-8.1528z\" clip-path=\"url(#pf4477786ed)\" fill=\"#d6baba\"/><path d=\"m157.29 294.73 17.253 2.8678 17.522 0.9603-16.959 1.5449-16.766-0.40272-0.82213-2.4687z\" clip-path=\"url(#pf4477786ed)\" fill=\"#8e7b7b\"/><path d=\"m100.48 252.18 12.852 11.604 14.12 10.236-1.9613 4.6589-0.83744 4.7769-14.871-8.2516-13.58-9.8471 1.3465-6.6815z\" clip-path=\"url(#pf4477786ed)\" fill=\"#bca3a3\"/><path d=\"m158.34 299.7 16.766 0.40272 16.959-1.5449-15.234 3.8886-15.117 1.9214-1.9684-2.2749z\" clip-path=\"url(#pf4477786ed)\" fill=\"#948080\"/><path d=\"m161.71 304.37 15.117-1.9214 15.234-3.8886-12.459 5.9082-12.403 3.9382-2.9896-1.92z\" clip-path=\"url(#pf4477786ed)\" fill=\"#988484\"/><path d=\"m216.93 308.4-12.403-3.9382-12.459-5.9082 15.234 3.8886 15.117 1.9214-2.4996 2.1165z\" clip-path=\"url(#pf4477786ed)\" fill=\"#948181\"/><path d=\"m124.65 283.45 15.921 6.5394 16.717 4.7362 0.22772 2.5016 0.82213 2.4687-16.309-2.3609-15.591-4.3017-1.4735-4.7691z\" clip-path=\"url(#pf4477786ed)\" fill=\"#a99292\"/><path d=\"m167.2 308.4 12.403-3.9382 12.459-5.9082-8.8207 7.4623-8.8031 5.4991-3.8091-1.4264z\" clip-path=\"url(#pf4477786ed)\" fill=\"#9c8787\"/><path d=\"m209.69 311.52-8.8031-5.4991-8.8207-7.4623 12.459 5.9082 12.403 3.9382-3.4289 1.6886z\" clip-path=\"url(#pf4477786ed)\" fill=\"#998585\"/><path d=\"m79.367 225.57 9.7285 13.806 11.383 12.8-2.9313 6.4955-1.3465 6.6815-12.062-11.301-10.336-12.589 1.8117-8.069z\" clip-path=\"url(#pf4477786ed)\" fill=\"#d0b4b4\"/><path d=\"m174.44 311.52 8.8031-5.4991 8.8207-7.4623-4.5695 8.4413-4.5676 6.4863-4.3639-0.82827z\" clip-path=\"url(#pf4477786ed)\" fill=\"#9e8989\"/><path d=\"m201.2 313.49-4.5676-6.4863-4.5695-8.4413 8.8207 7.4623 8.8031 5.4991-4.1229 1.1379z\" clip-path=\"url(#pf4477786ed)\" fill=\"#9c8888\"/><path d=\"m75.302 148.63 1.4906 15.606 3.3769 15.781-8.2858 7.6147-6.377 8.1528-3.8748-15.527-1.7114-15.625 6.6982-8.2768z\" clip-path=\"url(#pf4477786ed)\" fill=\"#e2c4c4\"/><path d=\"m182.93 313.49 4.5676-6.4863 4.5695-8.4413v8.7755 6.824l-4.6098-0.1688z\" clip-path=\"url(#pf4477786ed)\" fill=\"#9f8a8a\"/><path d=\"m192.06 314.16v-6.824-8.7755l4.5695 8.4413 4.5676 6.4863-4.5273 0.50323z\" clip-path=\"url(#pf4477786ed)\" fill=\"#9e8989\"/><path d=\"m126.44 293.04 15.591 4.3017 16.309 2.3609 1.4058 2.3929 1.9684 2.2749-14.76-0.10415-14.16-2.1597-3.7344-4.4267z\" clip-path=\"url(#pf4477786ed)\" fill=\"#aa9494\"/><path d=\"m96.201 265.36 13.58 9.8471 14.871 8.2516 0.31397 4.8144 1.4735 4.7691-14.615-6.1962-13.391-8.0148-1.9447-6.7149z\" clip-path=\"url(#pf4477786ed)\" fill=\"#c0a7a7\"/><path d=\"m65.507 195.78 5.9505 15.184 7.9102 14.606-3.7531 7.8243-1.8117 8.069-8.4219-13.687-6.346-14.574 2.1495-8.8521z\" clip-path=\"url(#pf4477786ed)\" fill=\"#e1c3c3\"/><path d=\"m132.79 302.1 14.16 2.1597 14.76 0.10415 2.4996 2.1165 2.9896 1.92-12.149 1.8677-11.691-0.27555-5.7759-3.7602z\" clip-path=\"url(#pf4477786ed)\" fill=\"#aa9393\"/><path d=\"m240.77 310-11.691 0.27555-12.149-1.8677 2.9896-1.92 2.4996-2.1165 14.76-0.10415 14.16-2.1597-4.7932 4.1322z\" clip-path=\"url(#pf4477786ed)\" fill=\"#7d6c6c\"/><path d=\"m78.143 118.92-2.3976 14.519-0.44309 15.186-8.6833 7.7258-6.6982 8.2768 0.5088-15.47 2.7521-15.056 6.5103-7.8511z\" clip-path=\"url(#pf4477786ed)\" fill=\"#eacbcb\"/><path d=\"m73.803 241.47 10.336 12.589 12.062 11.301 0.2879 6.7563 1.9447 6.7149-11.93-9.7268-10.249-11.302-2.2514-8.1517z\" clip-path=\"url(#pf4477786ed)\" fill=\"#d5b9b9\"/><path d=\"m143.36 310 11.691 0.27555 12.149-1.8677 3.4289 1.6886 3.8091 1.4264-8.6437 3.4024-8.3381 1.1991-7.4334-2.808z\" clip-path=\"url(#pf4477786ed)\" fill=\"#a89191\"/><path d=\"m226.67 316.12-8.3381-1.1991-8.6437-3.4024 3.8091-1.4264 3.4289-1.6886 12.149 1.8677 11.691-0.27555-6.6623 3.3163z\" clip-path=\"url(#pf4477786ed)\" fill=\"#857373\"/><path d=\"m98.433 278.83 13.391 8.0148 14.615 6.1962 2.6207 4.6397 3.7344 4.4267-13.319-4.2147-12.241-6.2359-5.2066-6.2728z\" clip-path=\"url(#pf4477786ed)\" fill=\"#c1a8a8\"/><path d=\"m59.921 164.63 1.7114 15.625 3.8748 15.527-4.3227 8.5693-2.1495 8.8521-4.1373-15.231-1.8286-15.639 2.2929-8.9987z\" clip-path=\"url(#pf4477786ed)\" fill=\"#eecece\"/><path d=\"m157.46 316.12 8.3381-1.1991 8.6437-3.4024 4.1229 1.1379 4.3639 0.82827-4.4918 4.377-4.3396 2.1391-8.5648-1.6362z\" clip-path=\"url(#pf4477786ed)\" fill=\"#a38d8d\"/><path d=\"m210.03 320-4.3396-2.1391-4.4918-4.377 4.3639-0.82827 4.1229-1.1379 8.6437 3.4024 8.3381 1.1991-8.0723 2.2445z\" clip-path=\"url(#pf4477786ed)\" fill=\"#8d7a7a\"/><path d=\"m174.1 320 4.3396-2.1391 4.4918-4.377 4.5273 0.50323 4.6098 0.1688v4.7111 2.4621l-9.0689-0.33397z\" clip-path=\"url(#pf4477786ed)\" fill=\"#9d8888\"/><path d=\"m192.06 321.33v-2.4621-4.7111l4.6098-0.1688 4.5273-0.50323 4.4918 4.377 4.3396 2.1391-8.8996 0.99516z\" clip-path=\"url(#pf4477786ed)\" fill=\"#968282\"/><path d=\"m88.74 92.853-6.2531 12.461-4.3444 13.609-8.4509 7.3311-6.5103 7.8511 4.9826-14.383 7.1622-13.455 5.8205-6.932z\" clip-path=\"url(#pf4477786ed)\" fill=\"#edcdcd\"/><path d=\"m59.035 213.2 6.346 14.574 8.4219 13.687 0.20069 8.1806 2.2514 8.1517-8.3694-12.709-6.3174-13.921-2.4223-8.9737z\" clip-path=\"url(#pf4477786ed)\" fill=\"#e7c8c8\"/><path d=\"m107.23 291.65 12.241 6.2359 13.319 4.2147 4.7932 4.1322 5.7759 3.7602-11.029-2.4602-10.164-4.6511-8.1873-5.3589z\" clip-path=\"url(#pf4477786ed)\" fill=\"#bfa6a6\"/><path d=\"m261.96 302.89-10.164 4.6511-11.029 2.4602 5.7759-3.7602 4.7932-4.1322 13.319-4.2147 12.241-6.2359-6.7483 5.8729z\" clip-path=\"url(#pf4477786ed)\" fill=\"#736363\"/><path d=\"m63.182 134.11-2.7521 15.056-0.5088 15.47-4.5589 8.7053-2.2929 8.9987 0.54371-15.786 2.9398-15.66 2.2087-8.5293z\" clip-path=\"url(#pf4477786ed)\" fill=\"#f6d5d5\"/><path d=\"m76.255 257.8 10.249 11.302 11.93 9.7268 3.5946 6.554 5.2066 6.2728-10.937-8.1886-9.4192-10.036-6.3198-7.6537z\" clip-path=\"url(#pf4477786ed)\" fill=\"#d6baba\"/><path d=\"m122.17 302.89 10.164 4.6511 11.029 2.4602 6.6623 3.3163 7.4334 2.808-7.8839-1.0797-7.2815-3.3977-10.632-4.0203z\" clip-path=\"url(#pf4477786ed)\" fill=\"#b9a1a1\"/><path d=\"m241.84 311.64-7.2815 3.3977-7.8839 1.0797 7.4334-2.808 6.6623-3.3163 11.029-2.4602 10.164-4.6511-9.4919 4.7379z\" clip-path=\"url(#pf4477786ed)\" fill=\"#7f6e6e\"/><path d=\"m106.66 72.274-9.8266 9.4949-8.0916 11.084-7.5934 6.4814-5.8205 6.932 9.2513-12.28 11.21-10.871 4.6941-5.5971z\" clip-path=\"url(#pf4477786ed)\" fill=\"#ebcbcb\"/><path d=\"m53.069 182.34 1.8286 15.639 4.1373 15.231 0.11094 8.99 2.4223 8.9737-4.1237-14.908-1.8238-15.646-2.4843-9.1349z\" clip-path=\"url(#pf4477786ed)\" fill=\"#f4d4d4\"/><path d=\"m142.29 311.64 7.2815 3.3977 7.8839 1.0797 8.0723 2.2445 8.5648 1.6362-4.1091-0.19632-3.8003-2.5928-12.313-2.3499z\" clip-path=\"url(#pf4477786ed)\" fill=\"#b19999\"/><path d=\"m217.94 317.21-3.8003 2.5928-4.1091 0.19632 8.5648-1.6362 8.0723-2.2445 7.8839-1.0797 7.2815-3.3977-11.58 3.2191z\" clip-path=\"url(#pf4477786ed)\" fill=\"#8c7979\"/><path d=\"m75.326 106.27-7.1622 13.455-4.9826 14.383-4.4205 8.2545-2.2087 8.5293 5.3175-15.258 7.6323-14.578 1.9076-7.5091z\" clip-path=\"url(#pf4477786ed)\" fill=\"#f8d7d7\"/><path d=\"m86.879 273.43 9.4192 10.036 10.937 8.1886 6.7483 5.8729 8.1873 5.3589-9.1039-6.8099-7.8579-8.8955-10.073-6.5684z\" clip-path=\"url(#pf4477786ed)\" fill=\"#d3b7b7\"/><path d=\"m278.92 287.18-7.8579 8.8955-9.1039 6.8099 8.1873-5.3589 6.7483-5.8729 10.937-8.1886 9.4192-10.036-8.2568 7.1828z\" clip-path=\"url(#pf4477786ed)\" fill=\"#6e5f5f\"/><path d=\"m61.568 231.17 6.3174 13.921 8.3694 12.709 4.3042 7.9769 6.3198 7.6537-7.708-11.742-5.8278-13.269-7.0311-8.4539z\" clip-path=\"url(#pf4477786ed)\" fill=\"#e8c9c9\"/><path d=\"m166.19 317.21 3.8003 2.5928 4.1091 0.19632 8.8996 0.99516 9.0689 0.33397v0.10778-2.3151l-13.065-0.48031z\" clip-path=\"url(#pf4477786ed)\" fill=\"#a69090\"/><path d=\"m192.06 319.12v2.3151-0.10778l9.0689-0.33397 8.8996-0.99516 4.1091-0.19632 3.8003-2.5928-12.812 1.4305z\" clip-path=\"url(#pf4477786ed)\" fill=\"#998585\"/><path d=\"m56.552 150.89-2.9398 15.66-0.54371 15.786 0.067391 9.1452 2.4843 9.1349 0.54238-16.114 2.9315-16.296-2.4486-8.6514z\" clip-path=\"url(#pf4477786ed)\" fill=\"#fcdada\"/><path d=\"m130.93 58.803-12.85 5.7594-11.424 7.7115-6.1771 5.2451-4.6941 5.5971 12.997-9.2466 14.575-7.4323 3.2474-3.9353z\" clip-path=\"url(#pf4477786ed)\" fill=\"#e3c5c5\"/><path d=\"m95.787 83.116-11.21 10.871-9.2513 12.28-3.9167 7.2778-1.9076 7.5091 9.839-13.626 11.892-12.415 1.4448-6.0338z\" clip-path=\"url(#pf4477786ed)\" fill=\"#f4d4d4\"/><path d=\"m105.21 287.18 7.8579 8.8955 9.1039 6.8099 9.4919 4.7379 10.632 4.0203-6.5344-5.7143-5.6497-7.9848-13.176-4.9459z\" clip-path=\"url(#pf4477786ed)\" fill=\"#cbb0b0\"/><path d=\"m254.02 297.94-5.6497 7.9848-6.5344 5.7143 10.632-4.0203 9.4919-4.7379 9.1039-6.8099 7.8579-8.8955-11.726 5.8187z\" clip-path=\"url(#pf4477786ed)\" fill=\"#7d6d6d\"/><path d=\"m55.62 200.62 1.8238 15.646 4.1237 14.908 4.7439 8.7963 7.0311 8.4539-3.8085-14.581-1.6856-15.645-7.3132-8.6175z\" clip-path=\"url(#pf4477786ed)\" fill=\"#f5d4d4\"/><path d=\"m73.343 248.42 5.8278 13.269 7.708 11.742 8.2568 7.1828 10.073 6.5684-6.4422-10.865-4.8778-12.674-11.309-7.2771z\" clip-path=\"url(#pf4477786ed)\" fill=\"#e3c5c5\"/><path d=\"m290.24 263.64-4.8778 12.674-6.4422 10.865 10.073-6.5684 8.2568-7.1828 7.708-11.742 5.8278-13.269-9.236 7.9462z\" clip-path=\"url(#pf4477786ed)\" fill=\"#6d5f5f\"/><path d=\"m69.502 121.05-7.6323 14.578-5.3175 15.258 0.093328 8.6646 2.4486 8.6514 5.2972-16.18 7.5916-15.761-2.3038-7.5936z\" clip-path=\"url(#pf4477786ed)\" fill=\"#fedcdc\"/><path d=\"m224.31 304.81-2.9555 7.3958-3.4146 5.0082 12.313-2.3499 11.58-3.2191 6.5344-5.7143 5.6497-7.9848-14.385 3.9658z\" clip-path=\"url(#pf4477786ed)\" fill=\"#8e7b7b\"/><path d=\"m130.11 297.94 5.6497 7.9848 6.5344 5.7143 11.58 3.2191 12.313 2.3499-3.4146-5.0082-2.9555-7.3958-15.322-2.8982z\" clip-path=\"url(#pf4477786ed)\" fill=\"#bfa6a6\"/><path d=\"m123.36 66.437-14.575 7.4323-12.997 9.2466-3.1092 5.8624-1.4448 6.0338 13.749-10.961 15.367-9.2903 0.90852-4.2147z\" clip-path=\"url(#pf4477786ed)\" fill=\"#ebcbcb\"/><path d=\"m160.06 53.66-15.058 1.4745-14.071 3.6686-4.3252 3.699-3.2474 3.9353 15.907-5.4577 16.961-3.3581 1.6299-2.0385z\" clip-path=\"url(#pf4477786ed)\" fill=\"#d6b9b9\"/><path d=\"m159.82 304.81 2.9555 7.3958 3.4146 5.0082 12.812 1.4305 13.065 0.48031v-4.7643-7.192l-16.286-0.59303z\" clip-path=\"url(#pf4477786ed)\" fill=\"#b09999\"/><path d=\"m192.06 307.17v7.192 4.7643l13.065-0.48031 12.812-1.4305 3.4146-5.0082 2.9555-7.3958-15.962 1.7656z\" clip-path=\"url(#pf4477786ed)\" fill=\"#a08b8b\"/><path d=\"m59.094 168.21-2.9315 16.296-0.54238 16.114 4.9152 8.9605 7.3132 8.6175 0.50134-16.432 2.7086-16.918-7.1488-8.1549z\" clip-path=\"url(#pf4477786ed)\" fill=\"#fddbdb\"/><path d=\"m91.233 95.013-11.892 12.415-9.839 13.626 0.1772 7.6168 2.3038 7.5936 9.7666-15.043 11.775-14.033-2.0176-6.0709z\" clip-path=\"url(#pf4477786ed)\" fill=\"#fad8d8\"/><path d=\"m156.23 57.622-16.961 3.3581-15.907 5.4577-2.1027 4.1087-0.90852 4.2147 16.71-7.4316 17.746-5.421 0.39855-2.1664z\" clip-path=\"url(#pf4477786ed)\" fill=\"#dcbebe\"/><path d=\"m93.888 263.64 4.8778 12.674 6.4422 10.865 11.726 5.8187 13.176 4.9459-4.6385-10.161-3.5162-12.194-14.865-5.493z\" clip-path=\"url(#pf4477786ed)\" fill=\"#dabdbd\"/><path d=\"m262.17 275.59-3.5162 12.194-4.6385 10.161 13.176-4.9459 11.726-5.8187 6.4422-10.865 4.8778-12.674-13.202 6.4551z\" clip-path=\"url(#pf4477786ed)\" fill=\"#7f6e6e\"/><path d=\"m192.06 57.503-16.221-3.0597-15.782-0.78292-2.2039 1.9231-1.6299 2.0385 17.708-1.1731 18.128 1.0541z\" clip-path=\"url(#pf4477786ed)\" fill=\"#bca3a3\"/><path d=\"m67.849 218.19 1.6856 15.645 3.8085 14.581 9.236 7.9462 11.309 7.2771-3.1911-14.278-1.4131-15.638-11.807-7.4271z\" clip-path=\"url(#pf4477786ed)\" fill=\"#f0d0d0\"/><path d=\"m294.85 233.73-1.4131 15.638-3.1911 14.278 11.309-7.2771 9.236-7.9462 3.8085-14.581 1.6856-15.645-9.628 8.1052z\" clip-path=\"url(#pf4477786ed)\" fill=\"#716262\"/><path d=\"m120.35 74.761-15.367 9.2903-13.749 10.961 0.27364 6.1049 2.0176 6.0709 13.572-12.749 15.118-11.216-1.5506-4.2121z\" clip-path=\"url(#pf4477786ed)\" fill=\"#efcfcf\"/><path d=\"m192.06 57.503-18.128-1.0541-17.708 1.1731-1.0249 2.1202-0.39855 2.1664 18.452-3.2984 18.809-1.1072z\" clip-path=\"url(#pf4477786ed)\" fill=\"#c2a8a8\"/><path d=\"m71.983 136.26-7.5916 15.761-5.2972 16.18 4.8156 8.4828 7.1488 8.1549 4.8899-17.085 6.9978-16.923-6.5288-7.1367z\" clip-path=\"url(#pf4477786ed)\" fill=\"#ffdddd\"/><path d=\"m154.8 61.908-17.746 5.421-16.71 7.4316 0.31609 4.25 1.5506 4.2121 16.379-9.4632 17.325-7.5279-0.87584-2.1478z\" clip-path=\"url(#pf4477786ed)\" fill=\"#e0c2c2\"/><path d=\"m192.06 57.503-18.809 1.1072-18.452 3.2984 0.23864 2.1758 0.87584 2.1478 17.939-5.4512 18.207-3.2778z\" clip-path=\"url(#pf4477786ed)\" fill=\"#c8adad\"/><path d=\"m192.06 57.503-18.207 3.2778-17.939 5.4512 1.5019 2.0824 2.1057 1.9802 16.181-7.4826 16.357-5.3091z\" clip-path=\"url(#pf4477786ed)\" fill=\"#cdb2b2\"/><path d=\"m121.96 275.59 3.5162 12.194 4.6385 10.161 14.385 3.9658 15.322 2.8982-2.4288-9.7047-1.8424-11.881-17.335-3.2242z\" clip-path=\"url(#pf4477786ed)\" fill=\"#ccb1b1\"/><path d=\"m228.58 283.22-1.8424 11.881-2.4288 9.7047 15.322-2.8982 14.385-3.9658 4.6385-10.161 3.5162-12.194-16.256 4.4087z\" clip-path=\"url(#pf4477786ed)\" fill=\"#938080\"/><path d=\"m192.06 57.503-16.357 5.3091-16.181 7.4826 2.6761 1.8428 3.2024 1.6721 13.281-9.2466 13.379-7.0599z\" clip-path=\"url(#pf4477786ed)\" fill=\"#d2b6b6\"/><path d=\"m192.06 57.503 13.379 7.0599 13.281 9.2466 3.2024-1.6721 2.6761-1.8428-16.181-7.4826-16.357-5.3091z\" clip-path=\"url(#pf4477786ed)\" fill=\"#ceb2b2\"/><path d=\"m93.525 107.19-11.775 14.033-9.7666 15.043 4.4346 7.4345 6.5288 7.1367 8.9851-16.429 10.807-15.611-5.457-5.6776z\" clip-path=\"url(#pf4477786ed)\" fill=\"#fad9d9\"/><path d=\"m192.06 57.503-13.379 7.0599-13.281 9.2466 3.6746 1.4709 4.0834 1.2427 9.4286-10.613 9.473-8.4076z\" clip-path=\"url(#pf4477786ed)\" fill=\"#d5b9b9\"/><path d=\"m192.06 57.503 9.473 8.4076 9.4286 10.613 4.0834-1.2427 3.6746-1.4709-13.281-9.2466-13.379-7.0599z\" clip-path=\"url(#pf4477786ed)\" fill=\"#d2b6b6\"/><path d=\"m71.059 184.84-2.7086 16.918-0.50134 16.432 9.628 8.1052 11.807 7.4271 0.42037-16.715 2.2703-17.477-11.517-7.0234z\" clip-path=\"url(#pf4477786ed)\" fill=\"#f8d7d7\"/><path d=\"m292.16 199.53 2.2703 17.477 0.42036 16.715 11.807-7.4271 9.628-8.1052-0.50134-16.432-2.7086-16.918-9.3994 7.6672z\" clip-path=\"url(#pf4477786ed)\" fill=\"#796969\"/><path d=\"m155.92 66.232-17.325 7.5279-16.379 9.4632 2.7731 4.0998 3.9611 3.9134 14.888-11.41 15.689-9.5318-2.1057-1.9802z\" clip-path=\"url(#pf4477786ed)\" fill=\"#e1c3c3\"/><path d=\"m122.22 83.223-15.118 11.216-13.572 12.749 3.7564 5.9288 5.457 5.6776 12.421-14.485 13.791-13.074-3.9611-3.9134z\" clip-path=\"url(#pf4477786ed)\" fill=\"#f1d0d0\"/><path d=\"m155.55 283.22 1.8424 11.881 2.4288 9.7047 15.962 1.7656 16.286 0.59303v-9.5465-11.773l-18.447-0.66023z\" clip-path=\"url(#pf4477786ed)\" fill=\"#bba2a2\"/><path d=\"m192.06 285.85v11.773 9.5465l16.286-0.59303 15.962-1.7656 2.4288-9.7047 1.8424-11.881-18.072 1.9652z\" clip-path=\"url(#pf4477786ed)\" fill=\"#a89191\"/><path d=\"m192.06 57.503 4.9077 9.2566 4.8929 11.477 4.6801-0.7218 4.4208-0.99151-9.4286-10.613-9.473-8.4076z\" clip-path=\"url(#pf4477786ed)\" fill=\"#d6b9b9\"/><path d=\"m192.06 57.503-9.473 8.4076-9.4286 10.613 4.4208 0.99151 4.6801 0.7218 4.8929-11.477 4.9077-9.2566z\" clip-path=\"url(#pf4477786ed)\" fill=\"#d8bbbb\"/><path d=\"m192.06 57.503-4.9077 9.2566-4.8929 11.477 4.8559 0.43858 4.9447 0.14712v-11.773-9.5465z\" clip-path=\"url(#pf4477786ed)\" fill=\"#d9bcbc\"/><path d=\"m192.06 57.503v9.5465 11.773l4.9447-0.14712 4.8559-0.43858-4.8929-11.477-4.9077-9.2566z\" clip-path=\"url(#pf4477786ed)\" fill=\"#d8bbbb\"/><path d=\"m89.284 233.73 1.4131 15.638 3.1911 14.278 13.202 6.4551 14.865 5.493-2.3021-14.032-1.02-15.629-15.55-5.6119z\" clip-path=\"url(#pf4477786ed)\" fill=\"#e6c7c7\"/><path d=\"m265.5 245.93-1.02 15.629-2.3021 14.032 14.865-5.493 13.202-6.4551 3.1911-14.278 1.4131-15.638-13.798 6.5916z\" clip-path=\"url(#pf4477786ed)\" fill=\"#857373\"/><path d=\"m159.53 70.294-15.689 9.5318-14.888 11.41 5.0916 3.6548 6.1418 3.3271 12.301-13.124 12.921-11.285-3.2024-1.6721z\" clip-path=\"url(#pf4477786ed)\" fill=\"#e1c3c3\"/><path d=\"m218.72 73.809 12.921 11.285 12.301 13.124 6.1418-3.3271 5.0916-3.6548-14.888-11.41-15.689-9.5318-2.6761 1.8428z\" clip-path=\"url(#pf4477786ed)\" fill=\"#b49c9c\"/><path d=\"m82.946 150.84-6.9978 16.923-4.8899 17.085 9.3994 7.6672 11.517 7.0234 4.0953-17.9 5.8532-17.968-10.434-6.1301z\" clip-path=\"url(#pf4477786ed)\" fill=\"#fad9d9\"/><path d=\"m282.21 163.67 5.8532 17.968 4.0953 17.9 11.517-7.0234 9.3994-7.6672-4.8899-17.085-6.9978-16.923-8.5432 6.7007z\" clip-path=\"url(#pf4477786ed)\" fill=\"#847373\"/><path d=\"m243.95 98.218 11.43 14.72 10.323 16.031 8.6065-4.8553 7.0852-5.3185-12.421-14.485-13.791-13.074-5.0916 3.6548z\" clip-path=\"url(#pf4477786ed)\" fill=\"#a28c8c\"/><path d=\"m128.95 91.236-13.791 13.074-12.421 14.485 7.0852 5.3185 8.6065 4.8553 10.323-16.031 11.43-14.72-6.1418-3.3271z\" clip-path=\"url(#pf4477786ed)\" fill=\"#eecece\"/><path d=\"m102.74 118.79-10.807 15.611-8.9851 16.429 8.5432 6.7007 10.434 6.1301 7.5024-17.674 9.0041-17.024-8.6065-4.8553z\" clip-path=\"url(#pf4477786ed)\" fill=\"#f7d6d6\"/><path d=\"m265.7 128.97 9.0041 17.024 7.5024 17.674 10.434-6.1301 8.5432-6.7007-8.9851-16.429-10.807-15.611-7.0852 5.3185z\" clip-path=\"url(#pf4477786ed)\" fill=\"#927e7e\"/><path d=\"m118.63 245.93 1.02 15.629 2.3021 14.032 16.256 4.4087 17.335 3.2242-1.2069-13.871-0.53488-15.621-18.155-3.2962z\" clip-path=\"url(#pf4477786ed)\" fill=\"#d7baba\"/><path d=\"m230.33 253.73-0.53488 15.621-1.2069 13.871 17.335-3.2242 16.256-4.4087 2.3021-14.032 1.02-15.629-17.016 4.5059z\" clip-path=\"url(#pf4477786ed)\" fill=\"#9a8585\"/><path d=\"m165.41 73.809-12.921 11.285-12.301 13.124 7.0897 2.9354 7.9148 2.4863 8.7785-14.467 9.1974-12.65-4.0834-1.2427z\" clip-path=\"url(#pf4477786ed)\" fill=\"#dfc1c1\"/><path d=\"m210.97 76.523 9.1974 12.65 8.7785 14.467 7.9148-2.4863 7.0897-2.9354-12.301-13.124-12.921-11.285-3.6746 1.4709z\" clip-path=\"url(#pf4477786ed)\" fill=\"#bca3a3\"/><path d=\"m91.975 199.53-2.2703 17.477-0.42037 16.715 13.798 6.5916 15.55 5.6119 0.30344-16.938 1.6384-17.922-15.15-5.3037z\" clip-path=\"url(#pf4477786ed)\" fill=\"#edcece\"/><path d=\"m263.55 211.07 1.6384 17.922 0.30344 16.938 15.55-5.6119 13.798-6.5916-0.42036-16.715-2.2703-17.477-13.45 6.2313z\" clip-path=\"url(#pf4477786ed)\" fill=\"#8c7a7a\"/><path d=\"m173.16 76.523-9.1974 12.65-8.7785 14.467 8.599 1.9878 9.1265 1.4494 4.5704-15.324 4.7809-13.517-4.6801-0.7218z\" clip-path=\"url(#pf4477786ed)\" fill=\"#dabdbd\"/><path d=\"m201.87 78.236 4.7809 13.517 4.5704 15.324 9.1265-1.4494 8.599-1.9878-8.7785-14.467-9.1974-12.65-4.4208 0.99151z\" clip-path=\"url(#pf4477786ed)\" fill=\"#c4aaaa\"/><path d=\"m192.06 256.42v15.618 13.815l18.447-0.66023 18.072-1.9652 1.2069-13.871 0.53488-15.621-18.933 2.0095z\" clip-path=\"url(#pf4477786ed)\" fill=\"#b09898\"/><path d=\"m153.8 253.73 0.53488 15.621 1.2069 13.871 18.072 1.9652 18.447 0.66023v-13.815-15.618l-19.328-0.67518z\" clip-path=\"url(#pf4477786ed)\" fill=\"#c4aaaa\"/><path d=\"m192.06 78.822v13.815 15.618l9.6667-0.29591 9.4852-0.88167-4.5704-15.324-4.7809-13.517-4.8559 0.43858z\" clip-path=\"url(#pf4477786ed)\" fill=\"#ccb1b1\"/><path d=\"m182.26 78.236-4.7809 13.517-4.5704 15.324 9.4852 0.88167 9.6667 0.29591v-15.618-13.815l-4.9447-0.14712z\" clip-path=\"url(#pf4477786ed)\" fill=\"#d4b8b8\"/><path d=\"m140.18 98.218-11.43 14.72-10.323 16.031 9.9869 4.2945 11.194 3.6455 7.4006-17.253 8.1762-16.016-7.9148-2.4863z\" clip-path=\"url(#pf4477786ed)\" fill=\"#e9caca\"/><path d=\"m228.94 103.64 8.1762 16.016 7.4006 17.253 11.194-3.6455 9.9869-4.2945-10.323-16.031-11.43-14.72-7.0897 2.9354z\" clip-path=\"url(#pf4477786ed)\" fill=\"#ae9797\"/><path d=\"m101.92 163.67-5.8532 17.968-4.0953 17.9 13.45 6.2313 15.15 5.3037 2.9535-18.55 4.217-18.801-13.667-4.6192z\" clip-path=\"url(#pf4477786ed)\" fill=\"#f1d0d0\"/><path d=\"m256.38 173.72 4.217 18.801 2.9535 18.55 15.15-5.3037 13.45-6.2313-4.0953-17.9-5.8532-17.968-12.155 5.4326z\" clip-path=\"url(#pf4477786ed)\" fill=\"#968282\"/><path d=\"m118.43 128.97-9.0041 17.024-7.5024 17.674 12.155 5.4326 13.667 4.6192 5.3979-18.665 6.4676-18.144-11.194-3.6455z\" clip-path=\"url(#pf4477786ed)\" fill=\"#efcfcf\"/><path d=\"m244.52 136.91 6.4676 18.144 5.3979 18.665 13.667-4.6192 12.155-5.4326-7.5024-17.674-9.0041-17.024-9.9869 4.2945z\" clip-path=\"url(#pf4477786ed)\" fill=\"#a18c8c\"/><path d=\"m120.57 211.07-1.6384 17.922-0.30344 16.938 17.016 4.5059 18.155 3.2962 0.15914-17.082 0.85909-18.209-17.676-3.114z\" clip-path=\"url(#pf4477786ed)\" fill=\"#dfc1c1\"/><path d=\"m229.31 218.44 0.85908 18.209 0.15914 17.082 18.155-3.2962 17.016-4.5059-0.30344-16.938-1.6384-17.922-16.572 4.2575z\" clip-path=\"url(#pf4477786ed)\" fill=\"#a18c8c\"/><path d=\"m155.19 103.64-8.1762 16.016-7.4006 17.253 12.199 2.9199 12.976 2.132 3.8643-18.038 4.2633-16.845-9.1265-1.4494z\" clip-path=\"url(#pf4477786ed)\" fill=\"#e0c2c2\"/><path d=\"m211.22 107.08 4.2633 16.845 3.8643 18.038 12.976-2.132 12.199-2.9199-7.4006-17.253-8.1762-16.016-8.599 1.9878z\" clip-path=\"url(#pf4477786ed)\" fill=\"#bba2a2\"/><path d=\"m192.06 220.98v18.309 17.131l19.328-0.67518 18.933-2.0095-0.15914-17.082-0.85908-18.209-18.43 1.8981z\" clip-path=\"url(#pf4477786ed)\" fill=\"#b79f9f\"/><path d=\"m154.82 218.44-0.85909 18.209-0.15914 17.082 18.933 2.0095 19.328 0.67518v-17.131-18.309l-18.813-0.63773z\" clip-path=\"url(#pf4477786ed)\" fill=\"#ccb1b1\"/><path d=\"m172.91 107.08-4.2633 16.845-3.8643 18.038 13.506 1.2981 13.774 0.43587v-18.309-17.131l-9.6667-0.29591z\" clip-path=\"url(#pf4477786ed)\" fill=\"#d5b9b9\"/><path d=\"m192.06 108.25v17.131 18.309l13.774-0.43587 13.506-1.2981-3.8643-18.038-4.2633-16.845-9.4852 0.88167z\" clip-path=\"url(#pf4477786ed)\" fill=\"#c8aeae\"/><path d=\"m127.75 173.72-4.217 18.801-2.9535 18.55 16.572 4.2575 17.676 3.114 1.548-18.97 2.2089-19.339-15.906-2.7081z\" clip-path=\"url(#pf4477786ed)\" fill=\"#e3c5c5\"/><path d=\"m225.55 180.13 2.2089 19.339 1.548 18.97 17.676-3.114 16.572-4.2575-2.9535-18.55-4.217-18.801-14.928 3.7049z\" clip-path=\"url(#pf4477786ed)\" fill=\"#aa9393\"/><path d=\"m139.61 136.91-6.4676 18.144-5.3979 18.665 14.928 3.7049 15.906 2.7081 2.825-19.304 3.3813-18.866-12.976-2.132z\" clip-path=\"url(#pf4477786ed)\" fill=\"#e3c5c5\"/><path d=\"m219.34 141.96 3.3813 18.866 2.825 19.304 15.906-2.7081 14.928-3.7049-5.3979-18.665-6.4676-18.144-12.199 2.9199z\" clip-path=\"url(#pf4477786ed)\" fill=\"#b39b9b\"/><path d=\"m158.58 180.13-2.2089 19.339-1.548 18.97 18.43 1.8981 18.813 0.63773v-19.115-19.525l-16.912-0.55424z\" clip-path=\"url(#pf4477786ed)\" fill=\"#d2b6b6\"/><path d=\"m192.06 182.34v19.525 19.115l18.813-0.63773 18.43-1.8981-1.548-18.97-2.2089-19.339-16.574 1.65z\" clip-path=\"url(#pf4477786ed)\" fill=\"#bea5a5\"/><path d=\"m164.79 141.96-3.3813 18.866-2.825 19.304 16.574 1.65 16.912 0.55424v-19.525-19.115l-13.774-0.43587z\" clip-path=\"url(#pf4477786ed)\" fill=\"#d5b8b8\"/><path d=\"m192.06 143.69v19.115 19.525l16.912-0.55424 16.574-1.65-2.825-19.304-3.3813-18.866-13.506 1.2981z\" clip-path=\"url(#pf4477786ed)\" fill=\"#c4aaaa\"/></g><defs><clipPath id=\"pf4477786ed\"><rect x=\"7.2\" y=\"7.2\" width=\"360\" height=\"360\"/></clipPath></defs></svg>"
      ],
      "text/plain": [
       "<Figure size 360x360 with 1 Axes>"
      ]
     },
     "execution_count": 19,
     "metadata": {},
     "output_type": "execute_result"
    }
   ],
   "source": [
    "from qiskit_textbook.widgets import plot_bloch_vector_spherical\n",
    "coords = [pi/2,0,1] # [Theta, Phi, Radius]\n",
    "plot_bloch_vector_spherical(coords) # 球面座標を持つブロッホベクトル"
   ]
  },
  {
   "cell_type": "markdown",
   "metadata": {},
   "source": [
    "#### 注意!\n",
    "量子ビットの状態について初めて学習するとき、量子ビットの _状態ベクトル_ と _ブロッホベクトル_ を混同しやすいです。 状態ベクトルは [1.1](＃notation) で解かれたベクトルであり、量子ビットが存在できる2つの状態の振幅を保持します。ブロッホベクトルは、2次元の複素数の状態ベクトルを実際の3次元空間にマッピングする視覚化ツールです。"
   ]
  },
  {
   "cell_type": "markdown",
   "metadata": {},
   "source": [
    "#### 練習問題\n",
    "\n",
    "`plot_bloch_sphere_spherical()`を使って以下の状態の量子ビットをプロットしてください。\n",
    "1. $|0\\rangle$\n",
    "2. $|1\\rangle$\n",
    "3. $\\tfrac{1}{\\sqrt{2}}(|0\\rangle + |1\\rangle)$\n",
    "4. $\\tfrac{1}{\\sqrt{2}}(|0\\rangle - i|1\\rangle)$\n",
    "5. $\\tfrac{1}{\\sqrt{2}}\\begin{bmatrix}i\\\\1\\end{bmatrix}$"
   ]
  },
  {
   "cell_type": "markdown",
   "metadata": {},
   "source": [
    "`plot_bloch_vector()`で使用するために、球座標からデカルト座標に変換するウィジェットも以下に含めました。"
   ]
  },
  {
   "cell_type": "code",
   "execution_count": 20,
   "metadata": {
    "scrolled": true
   },
   "outputs": [
    {
     "data": {
      "application/vnd.jupyter.widget-view+json": {
       "model_id": "27de9ed023d6465d9a2b33d52a6ba63d",
       "version_major": 2,
       "version_minor": 0
      },
      "text/plain": [
       "VBox(children=(Label(value='Define a qubit state using $\\\\theta$ and $\\\\phi$:'), Text(value='', placeholder='T…"
      ]
     },
     "metadata": {},
     "output_type": "display_data"
    },
    {
     "data": {
      "application/vnd.jupyter.widget-view+json": {
       "model_id": "9cc58cbedeb741a8a3078bdad9edcf97",
       "version_major": 2,
       "version_minor": 0
      },
      "text/plain": [
       "HTML(value='<pre></pre>')"
      ]
     },
     "metadata": {},
     "output_type": "display_data"
    },
    {
     "data": {
      "application/vnd.jupyter.widget-view+json": {
       "model_id": "624a34e38a204b008f893012b37470a2",
       "version_major": 2,
       "version_minor": 0
      },
      "text/plain": [
       "Image(value=b'\\x89PNG\\r\\n\\x1a\\n\\x00\\x00\\x00\\rIHDR\\x00\\x00\\x01h\\x00\\x00\\x01h\\x08\\x06\\x00\\x00\\x00z\\xe5a\\xd5\\x00\\…"
      ]
     },
     "metadata": {},
     "output_type": "display_data"
    }
   ],
   "source": [
    "from qiskit_textbook.widgets import bloch_calc\n",
    "bloch_calc()"
   ]
  },
  {
   "cell_type": "code",
   "execution_count": 21,
   "metadata": {},
   "outputs": [
    {
     "data": {
      "text/plain": [
       "{'qiskit-terra': '0.13.0',\n",
       " 'qiskit-aer': '0.5.1',\n",
       " 'qiskit-ignis': '0.3.0',\n",
       " 'qiskit-ibmq-provider': '0.6.1',\n",
       " 'qiskit-aqua': '0.6.6',\n",
       " 'qiskit': '0.18.3'}"
      ]
     },
     "execution_count": 21,
     "metadata": {},
     "output_type": "execute_result"
    }
   ],
   "source": [
    "import qiskit\n",
    "qiskit.__qiskit_version__"
   ]
  }
 ],
 "metadata": {
  "kernelspec": {
   "display_name": "Python 3",
   "language": "python",
   "name": "python3"
  },
  "language_info": {
   "codemirror_mode": {
    "name": "ipython",
    "version": 3
   },
   "file_extension": ".py",
   "mimetype": "text/x-python",
   "name": "python",
   "nbconvert_exporter": "python",
   "pygments_lexer": "ipython3",
   "version": "3.8.5"
  },
  "widgets": {
   "application/vnd.jupyter.widget-state+json": {
    "state": {
     "0e3a9250b3134696b859f0cc876d05fd": {
      "model_module": "@jupyter-widgets/base",
      "model_module_version": "1.2.0",
      "model_name": "LayoutModel",
      "state": {
       "_model_module": "@jupyter-widgets/base",
       "_model_module_version": "1.2.0",
       "_model_name": "LayoutModel",
       "_view_count": null,
       "_view_module": "@jupyter-widgets/base",
       "_view_module_version": "1.2.0",
       "_view_name": "LayoutView",
       "align_content": null,
       "align_items": null,
       "align_self": null,
       "border": null,
       "bottom": null,
       "display": null,
       "flex": null,
       "flex_flow": null,
       "grid_area": null,
       "grid_auto_columns": null,
       "grid_auto_flow": null,
       "grid_auto_rows": null,
       "grid_column": null,
       "grid_gap": null,
       "grid_row": null,
       "grid_template_areas": null,
       "grid_template_columns": null,
       "grid_template_rows": null,
       "height": null,
       "justify_content": null,
       "justify_items": null,
       "left": null,
       "margin": null,
       "max_height": null,
       "max_width": null,
       "min_height": null,
       "min_width": null,
       "object_fit": null,
       "object_position": null,
       "order": null,
       "overflow": null,
       "overflow_x": null,
       "overflow_y": null,
       "padding": null,
       "right": null,
       "top": null,
       "visibility": null,
       "width": null
      }
     },
     "0ec195bc84a54518a85886e31e7178f6": {
      "model_module": "@jupyter-widgets/controls",
      "model_module_version": "1.5.0",
      "model_name": "DescriptionStyleModel",
      "state": {
       "_model_module": "@jupyter-widgets/controls",
       "_model_module_version": "1.5.0",
       "_model_name": "DescriptionStyleModel",
       "_view_count": null,
       "_view_module": "@jupyter-widgets/base",
       "_view_module_version": "1.2.0",
       "_view_name": "StyleView",
       "description_width": ""
      }
     },
     "18a5fa494c7e47f4a626804eab4d5d60": {
      "model_module": "@jupyter-widgets/base",
      "model_module_version": "1.2.0",
      "model_name": "LayoutModel",
      "state": {
       "_model_module": "@jupyter-widgets/base",
       "_model_module_version": "1.2.0",
       "_model_name": "LayoutModel",
       "_view_count": null,
       "_view_module": "@jupyter-widgets/base",
       "_view_module_version": "1.2.0",
       "_view_name": "LayoutView",
       "align_content": null,
       "align_items": null,
       "align_self": null,
       "border": null,
       "bottom": null,
       "display": null,
       "flex": null,
       "flex_flow": null,
       "grid_area": null,
       "grid_auto_columns": null,
       "grid_auto_flow": null,
       "grid_auto_rows": null,
       "grid_column": null,
       "grid_gap": null,
       "grid_row": null,
       "grid_template_areas": null,
       "grid_template_columns": null,
       "grid_template_rows": null,
       "height": null,
       "justify_content": null,
       "justify_items": null,
       "left": null,
       "margin": null,
       "max_height": null,
       "max_width": null,
       "min_height": null,
       "min_width": null,
       "object_fit": null,
       "object_position": null,
       "order": null,
       "overflow": null,
       "overflow_x": null,
       "overflow_y": null,
       "padding": null,
       "right": null,
       "top": null,
       "visibility": null,
       "width": null
      }
     },
     "1b44a3802c4e4100a38621e8b3feb703": {
      "model_module": "@jupyter-widgets/controls",
      "model_module_version": "1.5.0",
      "model_name": "DescriptionStyleModel",
      "state": {
       "_model_module": "@jupyter-widgets/controls",
       "_model_module_version": "1.5.0",
       "_model_name": "DescriptionStyleModel",
       "_view_count": null,
       "_view_module": "@jupyter-widgets/base",
       "_view_module_version": "1.2.0",
       "_view_name": "StyleView",
       "description_width": ""
      }
     },
     "1ed8efc7b1bc4ba4813bad7b9efc278d": {
      "model_module": "@jupyter-widgets/base",
      "model_module_version": "1.2.0",
      "model_name": "LayoutModel",
      "state": {
       "_model_module": "@jupyter-widgets/base",
       "_model_module_version": "1.2.0",
       "_model_name": "LayoutModel",
       "_view_count": null,
       "_view_module": "@jupyter-widgets/base",
       "_view_module_version": "1.2.0",
       "_view_name": "LayoutView",
       "align_content": null,
       "align_items": null,
       "align_self": null,
       "border": null,
       "bottom": null,
       "display": null,
       "flex": null,
       "flex_flow": null,
       "grid_area": null,
       "grid_auto_columns": null,
       "grid_auto_flow": null,
       "grid_auto_rows": null,
       "grid_column": null,
       "grid_gap": null,
       "grid_row": null,
       "grid_template_areas": null,
       "grid_template_columns": null,
       "grid_template_rows": null,
       "height": null,
       "justify_content": null,
       "justify_items": null,
       "left": null,
       "margin": null,
       "max_height": null,
       "max_width": null,
       "min_height": null,
       "min_width": null,
       "object_fit": null,
       "object_position": null,
       "order": null,
       "overflow": null,
       "overflow_x": null,
       "overflow_y": null,
       "padding": null,
       "right": null,
       "top": null,
       "visibility": null,
       "width": "4em"
      }
     },
     "235d55acb4b64f9393d5ed1b9b92b973": {
      "model_module": "@jupyter-widgets/controls",
      "model_module_version": "1.5.0",
      "model_name": "LabelModel",
      "state": {
       "_dom_classes": [],
       "_model_module": "@jupyter-widgets/controls",
       "_model_module_version": "1.5.0",
       "_model_name": "LabelModel",
       "_view_count": null,
       "_view_module": "@jupyter-widgets/controls",
       "_view_module_version": "1.5.0",
       "_view_name": "LabelView",
       "description": "",
       "description_tooltip": null,
       "layout": "IPY_MODEL_6dd7bcfe4c314b6ebe5136d1eb4bf210",
       "placeholder": "​",
       "style": "IPY_MODEL_0ec195bc84a54518a85886e31e7178f6",
       "value": "State Vector:"
      }
     },
     "25d7f7674b4d4515ba34b966ce5168cf": {
      "model_module": "@jupyter-widgets/base",
      "model_module_version": "1.2.0",
      "model_name": "LayoutModel",
      "state": {
       "_model_module": "@jupyter-widgets/base",
       "_model_module_version": "1.2.0",
       "_model_name": "LayoutModel",
       "_view_count": null,
       "_view_module": "@jupyter-widgets/base",
       "_view_module_version": "1.2.0",
       "_view_name": "LayoutView",
       "align_content": null,
       "align_items": null,
       "align_self": null,
       "border": null,
       "bottom": null,
       "display": null,
       "flex": null,
       "flex_flow": null,
       "grid_area": null,
       "grid_auto_columns": null,
       "grid_auto_flow": null,
       "grid_auto_rows": null,
       "grid_column": null,
       "grid_gap": null,
       "grid_row": null,
       "grid_template_areas": null,
       "grid_template_columns": null,
       "grid_template_rows": null,
       "height": null,
       "justify_content": null,
       "justify_items": null,
       "left": null,
       "margin": null,
       "max_height": null,
       "max_width": null,
       "min_height": null,
       "min_width": null,
       "object_fit": null,
       "object_position": null,
       "order": null,
       "overflow": null,
       "overflow_x": null,
       "overflow_y": null,
       "padding": null,
       "right": null,
       "top": null,
       "visibility": null,
       "width": null
      }
     },
     "2c0fbbec17e24abbbe57a955b414453c": {
      "model_module": "@jupyter-widgets/controls",
      "model_module_version": "1.5.0",
      "model_name": "HTMLModel",
      "state": {
       "_dom_classes": [],
       "_model_module": "@jupyter-widgets/controls",
       "_model_module_version": "1.5.0",
       "_model_name": "HTMLModel",
       "_view_count": null,
       "_view_module": "@jupyter-widgets/controls",
       "_view_module_version": "1.5.0",
       "_view_name": "HTMLView",
       "description": "",
       "description_tooltip": null,
       "layout": "IPY_MODEL_9aa70658809c44c48e1c519adefd6e86",
       "placeholder": "​",
       "style": "IPY_MODEL_1b44a3802c4e4100a38621e8b3feb703",
       "value": "<pre></pre>"
      }
     },
     "3191b70d554e4e8aa6a9b97916ad30ab": {
      "model_module": "@jupyter-widgets/base",
      "model_module_version": "1.2.0",
      "model_name": "LayoutModel",
      "state": {
       "_model_module": "@jupyter-widgets/base",
       "_model_module_version": "1.2.0",
       "_model_name": "LayoutModel",
       "_view_count": null,
       "_view_module": "@jupyter-widgets/base",
       "_view_module_version": "1.2.0",
       "_view_name": "LayoutView",
       "align_content": null,
       "align_items": null,
       "align_self": null,
       "border": null,
       "bottom": null,
       "display": null,
       "flex": null,
       "flex_flow": null,
       "grid_area": null,
       "grid_auto_columns": null,
       "grid_auto_flow": null,
       "grid_auto_rows": null,
       "grid_column": null,
       "grid_gap": null,
       "grid_row": null,
       "grid_template_areas": null,
       "grid_template_columns": null,
       "grid_template_rows": null,
       "height": null,
       "justify_content": null,
       "justify_items": null,
       "left": null,
       "margin": null,
       "max_height": null,
       "max_width": null,
       "min_height": null,
       "min_width": null,
       "object_fit": null,
       "object_position": null,
       "order": null,
       "overflow": null,
       "overflow_x": null,
       "overflow_y": null,
       "padding": null,
       "right": null,
       "top": null,
       "visibility": null,
       "width": "5em"
      }
     },
     "3f16f9013bb14ec7a7f9ac90e0e9e046": {
      "model_module": "@jupyter-widgets/base",
      "model_module_version": "1.2.0",
      "model_name": "LayoutModel",
      "state": {
       "_model_module": "@jupyter-widgets/base",
       "_model_module_version": "1.2.0",
       "_model_name": "LayoutModel",
       "_view_count": null,
       "_view_module": "@jupyter-widgets/base",
       "_view_module_version": "1.2.0",
       "_view_name": "LayoutView",
       "align_content": null,
       "align_items": null,
       "align_self": null,
       "border": null,
       "bottom": null,
       "display": null,
       "flex": null,
       "flex_flow": null,
       "grid_area": null,
       "grid_auto_columns": null,
       "grid_auto_flow": null,
       "grid_auto_rows": null,
       "grid_column": null,
       "grid_gap": null,
       "grid_row": null,
       "grid_template_areas": null,
       "grid_template_columns": null,
       "grid_template_rows": null,
       "height": null,
       "justify_content": null,
       "justify_items": null,
       "left": null,
       "margin": null,
       "max_height": null,
       "max_width": null,
       "min_height": null,
       "min_width": null,
       "object_fit": null,
       "object_position": null,
       "order": null,
       "overflow": null,
       "overflow_x": null,
       "overflow_y": null,
       "padding": null,
       "right": null,
       "top": null,
       "visibility": null,
       "width": null
      }
     },
     "4859058a9b264a158f5ccb2672502968": {
      "model_module": "@jupyter-widgets/controls",
      "model_module_version": "1.5.0",
      "model_name": "VBoxModel",
      "state": {
       "_dom_classes": [],
       "_model_module": "@jupyter-widgets/controls",
       "_model_module_version": "1.5.0",
       "_model_name": "VBoxModel",
       "_view_count": null,
       "_view_module": "@jupyter-widgets/controls",
       "_view_module_version": "1.5.0",
       "_view_name": "VBoxView",
       "box_style": "",
       "children": [
        "IPY_MODEL_235d55acb4b64f9393d5ed1b9b92b973",
        "IPY_MODEL_51d56eb1f2b7400ca8a077dd9abb74fe"
       ],
       "layout": "IPY_MODEL_aa98b1360c18435aaaeacd35a64d651b"
      }
     },
     "487dd0b56c35463ea6f673b344a07406": {
      "model_module": "@jupyter-widgets/controls",
      "model_module_version": "1.5.0",
      "model_name": "LabelModel",
      "state": {
       "_dom_classes": [],
       "_model_module": "@jupyter-widgets/controls",
       "_model_module_version": "1.5.0",
       "_model_name": "LabelModel",
       "_view_count": null,
       "_view_module": "@jupyter-widgets/controls",
       "_view_module_version": "1.5.0",
       "_view_name": "LabelView",
       "description": "",
       "description_tooltip": null,
       "layout": "IPY_MODEL_8b5da1fa459c48d1a89a0a4acdc5f8dc",
       "placeholder": "​",
       "style": "IPY_MODEL_f05cb3fe8b754d66b697feca50af0cac",
       "value": "Define a qubit state using $\\theta$ and $\\phi$:"
      }
     },
     "5017adfdba004a4f8c140edfffda1e2b": {
      "model_module": "@jupyter-widgets/base",
      "model_module_version": "1.2.0",
      "model_name": "LayoutModel",
      "state": {
       "_model_module": "@jupyter-widgets/base",
       "_model_module_version": "1.2.0",
       "_model_name": "LayoutModel",
       "_view_count": null,
       "_view_module": "@jupyter-widgets/base",
       "_view_module_version": "1.2.0",
       "_view_name": "LayoutView",
       "align_content": null,
       "align_items": null,
       "align_self": null,
       "border": null,
       "bottom": null,
       "display": null,
       "flex": null,
       "flex_flow": null,
       "grid_area": null,
       "grid_auto_columns": null,
       "grid_auto_flow": null,
       "grid_auto_rows": null,
       "grid_column": null,
       "grid_gap": null,
       "grid_row": null,
       "grid_template_areas": null,
       "grid_template_columns": null,
       "grid_template_rows": null,
       "height": null,
       "justify_content": null,
       "justify_items": null,
       "left": null,
       "margin": null,
       "max_height": null,
       "max_width": null,
       "min_height": null,
       "min_width": null,
       "object_fit": null,
       "object_position": null,
       "order": null,
       "overflow": null,
       "overflow_x": null,
       "overflow_y": null,
       "padding": null,
       "right": null,
       "top": null,
       "visibility": null,
       "width": null
      }
     },
     "51d56eb1f2b7400ca8a077dd9abb74fe": {
      "model_module": "@jupyter-widgets/controls",
      "model_module_version": "1.5.0",
      "model_name": "HBoxModel",
      "state": {
       "_dom_classes": [],
       "_model_module": "@jupyter-widgets/controls",
       "_model_module_version": "1.5.0",
       "_model_name": "HBoxModel",
       "_view_count": null,
       "_view_module": "@jupyter-widgets/controls",
       "_view_module_version": "1.5.0",
       "_view_name": "HBoxView",
       "box_style": "",
       "children": [
        "IPY_MODEL_6e84e0b61f85421185b012312d997556",
        "IPY_MODEL_83077d4ebabb4a59acd9a951b1ce8822"
       ],
       "layout": "IPY_MODEL_3f16f9013bb14ec7a7f9ac90e0e9e046"
      }
     },
     "69d46725a9e34490a72d75461a2b1116": {
      "model_module": "@jupyter-widgets/controls",
      "model_module_version": "1.5.0",
      "model_name": "DescriptionStyleModel",
      "state": {
       "_model_module": "@jupyter-widgets/controls",
       "_model_module_version": "1.5.0",
       "_model_name": "DescriptionStyleModel",
       "_view_count": null,
       "_view_module": "@jupyter-widgets/base",
       "_view_module_version": "1.2.0",
       "_view_name": "StyleView",
       "description_width": ""
      }
     },
     "6dd7bcfe4c314b6ebe5136d1eb4bf210": {
      "model_module": "@jupyter-widgets/base",
      "model_module_version": "1.2.0",
      "model_name": "LayoutModel",
      "state": {
       "_model_module": "@jupyter-widgets/base",
       "_model_module_version": "1.2.0",
       "_model_name": "LayoutModel",
       "_view_count": null,
       "_view_module": "@jupyter-widgets/base",
       "_view_module_version": "1.2.0",
       "_view_name": "LayoutView",
       "align_content": null,
       "align_items": null,
       "align_self": null,
       "border": null,
       "bottom": null,
       "display": null,
       "flex": null,
       "flex_flow": null,
       "grid_area": null,
       "grid_auto_columns": null,
       "grid_auto_flow": null,
       "grid_auto_rows": null,
       "grid_column": null,
       "grid_gap": null,
       "grid_row": null,
       "grid_template_areas": null,
       "grid_template_columns": null,
       "grid_template_rows": null,
       "height": null,
       "justify_content": null,
       "justify_items": null,
       "left": null,
       "margin": null,
       "max_height": null,
       "max_width": null,
       "min_height": null,
       "min_width": null,
       "object_fit": null,
       "object_position": null,
       "order": null,
       "overflow": null,
       "overflow_x": null,
       "overflow_y": null,
       "padding": null,
       "right": null,
       "top": null,
       "visibility": null,
       "width": null
      }
     },
     "6e84e0b61f85421185b012312d997556": {
      "model_module": "@jupyter-widgets/controls",
      "model_module_version": "1.5.0",
      "model_name": "TextModel",
      "state": {
       "_dom_classes": [],
       "_model_module": "@jupyter-widgets/controls",
       "_model_module_version": "1.5.0",
       "_model_name": "TextModel",
       "_view_count": null,
       "_view_module": "@jupyter-widgets/controls",
       "_view_module_version": "1.5.0",
       "_view_name": "TextView",
       "continuous_update": true,
       "description": "",
       "description_tooltip": null,
       "disabled": false,
       "layout": "IPY_MODEL_9c7f09dd65d24fc69e0156d3d90fcc42",
       "placeholder": "Type something",
       "style": "IPY_MODEL_77946d3dfad2419d86f0e82f0c12b817",
       "value": "[1, 0]"
      }
     },
     "74fa278ca3324f7b95a3042ca6e984d3": {
      "buffers": [
       {
        "data": "iVBORw0KGgoAAAANSUhEUgAAAWgAAAFoCAYAAAB65WHVAAAABHNCSVQICAgIfAhkiAAAAAlwSFlzAAALEgAACxIB0t1+/AAAADh0RVh0U29mdHdhcmUAbWF0cGxvdGxpYiB2ZXJzaW9uMy4xLjMsIGh0dHA6Ly9tYXRwbG90bGliLm9yZy+AADFEAAAgAElEQVR4nOy9SY8k13ku/JyYhxxr7upmN3sguzloMiWKEq99LRkSvBCuNnflhWEYXtkXgrX2BWwvDHjjhQ3YWy38ByzD+ATLn2Tqk2hTliwOIntis7vJ7qruGnOIeTzf4pwTFZmVmZVZVc2e4gEKVZWZEXEiMuI573mH5yWUUooKFSpUqPDIQXrYA6hQoUKFCqNREXSFChUqPKKoCLpChQoVHlFUBF2hQoUKjygqgq5QoUKFRxQVQVeoUKHCI4qKoCtUqFDhEUVF0BUqVKjwiKIi6AoVKlR4RFERdIUKFSo8oqgIukKFChUeUVQEXaFChQqPKCqCrlChQoVHFBVBV6hQocIjioqgKzyW+Iu/+AsQQnD79u0j7eenP/0pCCH4+7//++MZWIUKx4iKoCs8cbh79y7+8A//EKurq9B1Hc8++yz+9E//FJ1OZ99nX3/9dSwuLuL73//+QxhphQqTURF0hScKH330EV555RV873vfw6uvvorvfve7OHfuHP72b/8WX/nKV7CzszPweUmS8K1vfQtvvPEGer3eQxp1hQqjURF0hScKf/zHf4zNzU383d/9Hf7pn/4Jf/3Xf40f//jH+O53v4tr167hz/7sz/Zt8+1vfxtJkuAHP/jBQxhxhQrjURF0hScGN2/exA9/+EM8++yz+JM/+ZOB9/7yL/8Stm3jH//xH+F53sB73/jGN2CaZuXmqPDIoSLoCk8MfvzjHwMAvvnNb0KSBm/ter2O119/Hb7v46233hp4z7IsfOMb38APfvADJEnyqY23QoWDUBF0hScG165dAwA8//zzI99/7rnnAADXr1/f9963v/1t9Ho9vPHGGw9sfBUqzIqKoCs8MRBBvmazOfJ98Xq329333re+9S1IklS5OSo8UqgIusJTA0opAIAQsu+9paUlvPbaa/jnf/7nT3tYFSqMRUXQFZ4YCAt5XLpcv98f+Nyo9xuNxoMZXIUKh0BF0BWeGFy8eBHAaB8zAHz44YcARvuob968iffffx/f/va3H9wAK1SYERVBV3hi8LWvfQ0A8MMf/hB5ng+85zgO3nzzTZimiddee23ftsL3XBF0hUcJFUFXeGJw/vx5fPOb38Tt27f3aWv8+Z//OTzPw+///u/Dtu19237/+9/HiRMn8KUvfenTGm6FCgdCedgDqFDhOPEP//AP+OpXv4rvfOc7+NGPfoQXXngBP//5z/Hv//7veP755/FXf/VX+7bZ3d3Fz372M/zRH/3RyABihQoPC5UFXeGJwvnz5/HLX/4Sf/AHf4Cf//zn+Ju/+Rt89NFH+M53voP//M//xPz8/L5t/uVf/gVZllXujQqPHCoLusITh2eeeQbf+973pv7897//fdRqNXz9619/gKOqUGF2VBZ0hacaYRjiX//1X/G7v/u70HX9YQ+nQoUBVARd4anGu+++iwsXLuD3fu/3HvZQKlTYh8rFUeGpxpe//GW88847D3sYFSqMREXQFR5L/PZv/zYAoNVqPdyBVKjwAEGoECioUOEpQxiGSNMUkiRB13XIsvywh1ShwgAqC7rCI488y5CmKfIsQ55lyNIUeZ4jyzIgz0EpZUJIlBYVhOL/LM8BSgFCWI4zIZAIgR+G8H0f4K+pioKFhQWoqgpJUSDLMmRFgawo+7SlK1T4tFBZ0BUeOvI8RxrHyNIUWZIgSRKkcczIOMsYwWJPjW7SLVuQdelzWZYVBSiEEARhCD8IoGsabMtClmXoOw5UTUOjVgMlBDTPIUpWiCxDkiQoigJFVaHqOlRNg6rrUFS1IvAKDwyVBV3hgYNyyzZJEoRBgDgIkMYxKKUglIJgTwI05xZxlmXI8xw531a8nuc5MkpBxWulYwgiByGF1Vy2qkEIsjSF4/vQFHbrx2kKAiBKU/RdF34QwDQMSIRAkiQQ/lviFjiRJGaNi5MjBIqiIE5TeL4P07KwuLyMVrtdVSVWODIqgq5wrKCUIggCJEmCKIoQ+T7CIECWJMh4OylBwCknWWElUwAEgCTLkCUJiiwzkgVAgYIkJU6UMidLgBE8YX/sEb7YtuT2cFwXlq6jUa/vTQqUQlVVUOFKyXOkfBJAyVpP8xy+78P3fbiehzAI4LkugiCAoiio1evI0xS+7yPNc1i2jUaziUarhfnFRczPz+Ps2bPQNO1T+CYqPAmoXBwVjgV5nsN1XXS2txFxQhZWLUXJLSEsWzDXQ1ZSncuzDDnfhhACWZJgGAZMw4CijLclaGmfI9/nx0jTFN1+H5ZpwjLNvffBJoYgDOH5PlrNJpscACRZhvX1ddy6eRM7nQ4sy0LNsmDwfZj873KAUZIkgFKEYYg4DBFGEXzfh+d52O508PLnPoevvP56pT1d4UBUBF3hSIiCAN3tbXS7XURBAEopVE0DIQR5lhWfkySJBd7KP/w14YbIuf84yzKkWYYgDJGkKUApNE2DqetQVXXfGATBjruRBUH3HQdpmqLVbBZ+Y7EtwCaZ3W4XlmmCALh56xY+vn0bdq2G8+fOYXV1FRIfL4A9VwulzF/OVwNiVZBxt4yALMuI4xiffPwx1tbW8MyZM/jil7+MU888A7WyqiuMQEXQFWZGHIbo7+xge3sbruMgKaWqKTwDQlUUKIoClf8/KpBGS4Q87jbMsgxhFCGIIlBKIUkSTF2HrmkD+5x0E9M8H2s9D3wOwK3bt3Hnk0/Q6/dx+plncO7cubGWLqUUcZYhi2MkScKs/6H38zwviDtNU6T8XJMkwcbGBjY3NzHXbuPSCy/gwnPPoTU/D60qOa/AURF0hamQJgmc3V04vR663S4c1wUA6IaBumVB59atWkpLG7i1Si4IQcri73Jq3HBgrWwdR1GEgOcugxDomgar7F4QGRzlffD9u76PKI7RLlnPAkmS4OatW7h96xaIJGHlxAlcfP55GCWizPMcKSdZYeHnWcYmBjHuUvZH+aES74lRZXmOLE2RpimCKML9+/exsbEBu1bD8xcuoDU3h8XlZSwtL0PT9SrY+BSjIugKY5EkCZxOB/1uF6HvswBgFCFNU5iGgfl2G9oIl8M4iIyMIg2OZ2GUMzEIAFoO7o0g7TRNEUYRoigCBWBb1gCZDhN9mqbo9HpQVRX1Wm3AD76xsYFfvf025ufmcOHCBTSbTXS6XRiaBllRkKYpEp5vDe5bliUJMk+5k3mwcmCSAPZ1dBkHSikj6iDAr959F77v4/z581AUBZIso1avswDjwgJqtVoVYHzKUBF0hQEkSQLHceDs7iLwvIKQVFVFlCQFOddte6Jll6YpkjQd9MMSAolSEEliKWySVPiHJ2HAx1y6XbMsg+O6SLIMiiyjbtsjqwGDMITjuqjVatA5wcVxjF+/9x62trfxG7/xG1haXETMM092Oh0osgzLsiDJMhRZZjnQ3Hc+yl0jJp6ytUwpLdwe09jAFMDlDz7AJ598gi+88gpUVS0mREII6o0G5hcXsbi0hFqtVlnWTwEqgq6APM8RBAF6nQ78Xg9pHEPVNOiaBo0XYnT7fcRJAl1VoWtasdxPuF81TVNWaCIyMzhJiVzlIk+Z5yYXtx3PNRbpcxIhkGS5yEOWCIHGx6Fxv3PhxuDHCaMIru8DlMIyTejcLSDoq8fH3m61QAjB+vo63n77bZw6dQoXL15ElmWIRV62JCFOEiiKgvlJucyiOpFbzCBkn9VMCCkCiABbGRCgSAcERhP37du38f777+NLr76KhYUFpHx8nu8jjCKomobW3BxWTpxAu90eGTit8GSgIuinFJRSxHEM13XR391FEoaQABiGUbgL/CCA47rY2tlBkiTQNa0gA0E0hBOqyMworExOsuzDhAUERd4z/zvlGRrif8pLs2meIwdAS2l3whJVFAW6YRSTh6HrkCQJaZbB8zwWsCxb05Rie3cXmqpCURS8+8476Pb7ePmll2DbNnJu9Wp8QlIUBUEYIggCzLXbe+cwBYaDhOVrPZzRURA8vz7F33w8m5ubeOu//gsvv/QSnn322WKzLMvg+T4c10UOwK7VsHziBBa4C6TCk4WKoJ8yCH+n0+shcF1kSQJdUaDpOrI8h+d5CIIAYRQhz3OEYQhd19Gs1aDpeuFvlXmWhiLLI63MrGQ5jkK5JHsSRAWicD+kSYIojgvCy8HS1zRVZZYzz5CQhIuCEPQcB91OB1euXMHKygqeffbZYhtN16Gr6sA5RHEMx3XRrNdnsk4H8r33nzDL4DhwJ3u6IY7r4j/efBOnnnkGL7/44kAAlFJajNMPAhimifb8PJaWl9FutyfmjVd4fFAR9FOCNE3hui6cXg+R60LmD3qapoXFKIhBU1WYhoEkSaAqClrtNqvamxI5D3zty8jg1iEFK0oZRewiSCisSREwxNBtmnCiTqIIUZIg4pWKlBCkaYooipAB8D0P99bXAUpx6dIltFqtYiVQPqfyWPI8L1LyiuAjf1/iBTQS/xnIowaz+ovxD4Fykp4FURThJ2+8gRdefBHPnD7NLGwerBRknmUZHM9Dv9+HoqpoLSzgmWeeQavVqnRCHnNU0+wTjjRN4TgOK1Hu9xG6LnJe5SaW06qioNlswuRVe6qqwnVdhJKEeq02NTmLQF6W5yMLQcokOIk4yjoX5b+BvRQ9MZEoigKdu0IEacf83Da2t3Hn44+RAbhw/jwoIUjiGAr3Y5cnDOFLFuONooj50ycQKhki60K7g7t3ZEkqJhjhylCAmUha13W8+uqr+Nmbb6LdasGybaZfUtqvLMtoNxpo1uvwggC7GxsIfR8LS0tYXFxErVariPoxRWVBP6FIkgQu14nwHAe93V3EYVj4iC3ThGmaMA1jX+pWGEVwXbcosx6FcqCrjIz7mSdh7PvcIsx5nrDwTWd5Dpplxf9lshZ+cLm0pI+jCDs7O7h2/TrOnjuHD65exRc/9znk2AvcmaaJmm3DNox95EXBAosA0Go0BtwS4vwEeQshp7KPufxISZJUaIsUVjcvuCkHMg+qhvzwww9x584d/Nb//J/7/OLF+Ll1neU5ur0eckrRaLfRarfRaDQqon4MUVnQTxjSNEW/3y+0H5xOB1kcQ1MULM7Po16vs1SzMfoVGQ+2KbIMg5PzODIeRrno5KDPla3prJQFknJiLkMmBESWoZWt1XKmhyQh5SJFWZ5ja3sbt27exKuvvgrLMHDt2rUijU4EFIMgwO7ODnYIganrsG0blmky3y2lUBSF+bKHCK28mhgm02yIuAWZ53mOOEmKlEKR2VFUXPKVgCDsgSIX/v9zFy5ga2sLVz74AC+9/PLAccvXXOKrl7lWC2EYwut2kec5oiiC53mwbbsi6scIFUE/IaCUsoyMfh+9Xg+B54GmKTRZRmNhAfV6ffChHEG4lFL0HQegFHatNlMGw7gxDVfRCRJPORknaVpYnIRLd2qyXBSBSGL7oUpE8b+YUOIkAQjB2t27WLt7F1/77d9m2h5gBN9oNOB5HqIkgW1ZmG+3WQl5EMDzfezu7mKbUhiGAds0x14rYbUD+1PkFF60kstykXpX9hUX555lRTeXMIqAKAKAfYQtldwYlBC88sor+H9/9CMsLC1haWlppJ87pxTgLiBD1yErCjzHYSmJ/HoFQYBms1lMwBUeXVQE/QQgjmNsbW1he3sbvudBlyRYmoZGqwXDNCcTbSndyw8C0DxHbQa/895u9vKBSTmFDKxMPBGEXNKskAiBJrJBePeScXnHBTFysqZ5jiAMEXFy0w0DV69cQb/fx9e+/nXouo5utzuga2HXapCCAAEXdbItC5ZlYX5ujlmbQQDf89DpdhHHceErbjUae1kRwr3Cr93waAmwF8QTny+dk3AxFdYyD6iK6zOJsA1dx5e+9CX84he/wO987WsTNTvE9yFJEur1OoIgwNb6OqxaDc1WC1mWwTRNNBqNqtXXI4zKB/0Yg1KKjY0NrK2twXddGIqCZr2ORr0Og/uVR325wgIl3MIjhLCULceBputjxYRGgZQIi1KKlFcblklHQFYUyNxKFnnTZT3nsePEno9WBDjDMAS4laiqKn75i1+AgnXpliUJSZpi99e3Ib11F//f8i7+1299A/I8yxMOebsrWZZRL1XkFQHCOEav18Nup8PIVJJgWxZajcZIq3O4wjHHhHQ7jjhJimtPwcraCbeyy9du4Ppxwv7wxg30ez189fXXBwpeJh0z53nvfhAgpxT1RgPNdhsGJ2nLsiaOt8LDQUXQjym2uZ81cF3oioKFdhvNZrPQxhDSnQJlsgOwz2Ww2+0CAJrTahSXyJ1SysT5o4hZgBxKyTpWFaVY5h/k0y4H/4rXwIg1CEMAgK5pME0TSZriP/7jP9BsNPAbX/hCsU337dvY/v6vUHcofvpV4PX/kjD/f38XsqUBPJvD9TxWQl2vs4yLsiuCUvS63cIX3XccpJTC1HW0m82Rk1hZUyTjhDvu/MrEW5wzv6Z0xGfLhJ1Rird/9Susrq7i3LlzUDVtb5UkApXY74IRPvIgDBHFMXRVhWXbsOp1tObm0Gw2q/zpRwzVt/GYIU1TfPTRR9hYX4cG4JmVFbSbTciyXBDyADkLYpaksXoQoiilPqkSbSi3V0hmRlHENJvBltOGaRZuizKJC+KbBmToWGmawvU85HkOXddhGAYUWYbruvjZm2/i9OnTeOGFF/YsbULQ+9FlyDlQ2N9pBu8HH6Dxv38DAKBqGuqSxHRH+n3U6vVCpB+EsMAkt/Yb9TpazSb6jgPHdXF/cxOKoqDdbA5cs/LkR0tujmGFvVHXoSBz4bcurRxUVS0KZgRhv/Tii3j77bexvLwMEgQDlZDlsfCNAPAAJ2Xl8OAWtSRJSOIYuzs7WFxawuqpU5Ug0yOEiqAfI/R6PVy7ehWh62K+1cKp1dWCmMttnWjJeiMH+JJFiyqZCwIBjBQkYKSVW67qYx8hRaqeLMt7LawEyU7jyy4R2MAkAG41BwEr367XixVC33Hw05/+FC+++CLOlkqhCSGIbm4jdkPoGZCDcquUInznDur/67MgKnOtCPJ1PA+O46DOSVqMQZblouOLLMtot1poNptweDB2a2cHu50Omo0GGkNBWOG6EOdUUDKlE3OrxbYCklh1EMLSBMEI++TqKj786CP0u10srqwgjmNEUQRZlqHreqGhwndYkLQky6BpCtM0QcGEpCzThKoouHf3Lpx+H2cvXKjKxh8RVAT9GCDPc9y5cwd3P/4YUp7jzMmTmJ+bA7BHyMJKy3mO7bSI4hg57583TsAny3PEUVR8FsCAxTZARtxaH4VxFnRRLAJeRUiZPofrOMjyvPCLi8q9MAjws5/+FC+9/DLOnD69r3Fs999+DdAcMpP64HoeAA1TuD+9AfvrF4sAnyTLqNVqjHQdB416nU16YOSYlRrTikmnUa+jZtsIggDdfh+dbhedXg+Neh3Nep1dE2DfdgAfi3BlDKUbjoP4jMSvjyDbS88/j3ffew/Pnj3L3D1xjCiOWVESL+Qp9FNK362kKECWwTJNUErhBwFsy4JtWXB6PXzw7rt49vx5LK+sHDi2Cg8WFUE/4uj3+/j41i30d3dhGQaeWV2Fwf2fQnyI8HS0nNKZUuMopfB9H0SSoKnqPhdGzB944S9VFaWwloeJpby8l2V5f6l32R+OwUkg5+8L8gnDED6vBqzZdrHkFm6Vn735Js6dO4czp08PnhAhSG5uI7y9DaiANMJQ9X9yHfbr5wBNKUhLliTUbZu5MBwH9UaDXUdJAuWNbgEMSKMSQmDyLJAgDFl6Y7+Pbr+Peq221xhgyLWRZdmAQJLwOU/7rZX998vLy1AUBetra1g9dQq6rkPXdaZ+xyfUOI4hyTJ0PqEKhcCc55Dbtg3XdeEFAWxCionn+uXL6HW7OP/cc1WWx0NERdCPKPI8x/r6OjbW1pCGIRbbbSwuLu75IrnVLHHfcjkT4CAIazvmKW8213YW/s0wipBwYpIkCaZhQOeqcdOAgKWTpSUyKvzi5TS1gY1Y6pzn+6wcW1VRs+2BY+aU4q233sL8/DwuXrw46sTg/9sV5BIK/zMdPpKfwH/zFuyvPz/wssjo6DsOXNctsjvKCnXiGpXPE0BRIh/FMfr9fpGPbpgm2s1mYcEW16MY7tCEOmO8XiIEL166hA+uXMHJU6fYLsCuvWJZME0TcZIg5vneQRBAFVa1oiDjx6/zFYTn+6jZNhOZiiLcX1uD0+vh0osvwq7XZxpbheNBVU70CMJ1XVy9cgVba2tQKMXK0hKWl5agquqACpw0VAByEDkLgiS8zDgIAtbMVZLg+z66vR4c10WapjB0vQiOmcK9UMp1HtjviGOJ8uu89P+kzI0kjtHt9ZAkCSzb3ufTBaX471/+Epqq4vOf+9z+fVGK5NYOwg83kMqANKGg0fvJNeRhss/loigKaraNLMvgum4h2DRM0ii5dMrQNQ2LCws4dfIkWs0m4jjG2r17uLexAd/3ixWP+CnLqxZ++DH7HocTJ04w3ZH799n4+I8Izuqahnq9jiZPEcyyDK7noec4CIOArcC45azIMvzS929bFjzXxa/feQeb6+tTd4mpcHyoLOhHCHme4/79+9i6dw9SnqNhWVAUBc1GgxVxYHS+q6hQm1jkMZTFEccx4iRhGQ9cd0Ll+srCrwxgn8UrHv4yxtGuEBMazhMeGhw830ccx5AliRXJjFhSv//BB/CDAP/j9ddH+rgpIfD/7Qoof0ueFIfzEwT/cQvWkBUNMN+6TSk8z9sL5g1lYYgUwHHnpSoK5ufm0Gg00On10Ot2seb7g66P8tix5z/fuyy0aLElLPdR7itCCC5dvIhr168P+IzLPRLB3U4W115J0hRxFCFOEoRxzDJjdB0122aWtOfB5u21cl4QdPvWLfQ6HZx69lmYtj3h4lY4TlQW9COCMAxx7epVbKytoa7rmOeavjXbhqqqxRc1UhSekNHkXLKYxecAIEtTbO/uwvU8AGyJ3m61UK/XoWoaa0XFreVC9Y3ur5obh0IVjtKiZ98oehadtuM4hmEYY6vaPvroI9y7dw9fee21kXm6lFvP0YebyARBH2DseT+5BhonI9/TdR0Gz7EuB0ZHHHiswJHwKzfqdayeOIG6bcP1PKzdvw/P9ycPDhjIvBATsBBkEtdX4OTJk4iiCNvb2/vHR/YKkthuWfCwVqsVAc0wDNF3HCRJgpptg/AVFaWs9F3TtOIzN65exca9ewePv8KxoCLoRwBhGOKj69eRui5WFxbQaDSQJEnh2xyoNhux/XBBSvHfkKWWcU3o7Z0dhGGIRqOBdqsFUwQdaampK9lrzzQzMQ9tQ4BC2EhY4EEQwOGWe71eh2WaIyeZ9fV1XLt+Hf/j9dehjyltJoQgvsJII+P8LuUHjNpPkH7SHWvZi9ZZURSxqsUxxx2eHClYs4I0ywr3jqwoWFxYwMrSElRJws7ODu5vbiIeKlaZBKF+lwMDCnoZDxJfvHgR165dG71xiajLV0XmBkCdiyf5XJdEVRTWrIGnUlqmydwfvo80y7C5vo6Prl4t4hQVHhwqgn7I8H0fN65dA6IIJ0+cgK7r8DwPmqrCLqW+TSryKJbIJf9yeUmec59qt99HlCQgsowaL10WPs+BNDlMT8rDGDmBlN4jhMDzPIRBwDq1NBqsynAEdnZ28PavfoXXv/pVlgY4at/CwtfYPnIJUKaUWya6vNcQYARqtg1FUeAFASvNHrcfoOjknaYp6yQz4vsyDQMrvLAoTRLcu3cPnV5vJt9uUWFZ/n7zHKdOnsTOzk5RaTkSworGnqtK4vng9VoNtm1DdGqJk4SpA3LhJZtb1p7nsewfz8PNa9cQBsHUY68wOyqCfohwXRe3PvwQJI5xYmUFqqYh8P1C4GZY52IUxHsj205xYu70+4iiiBEiz/PVDGPQr3pIYqbAoCj9BOR5jn6/jzTLWC4xF2UadWaO4+Ctt97Cl159Fa1Wa+J+CSEwXn0W8mINmTQ5QCigfeYklFPtiRoWkiSx/Gs+qYwS2heBvizL9n0Po66HJElotlo4sbKCmmXB6fexdv8+/BmJThC1OIYky1hZWcG9tbWBICQw2gUDlPzU/HOaqqJRr8M0TaiqCj8IsL2zg5xLmFqGgSzPEcUxAKa7ffPaNbh8JVTh+FEFCR8S+v0+7nz0EZBlOLm6CkVRCl1k07L2OpKIysCh7UUQqbCoShCSklEUATySb5omZFlGwnWJNSH6wwtDZkV5i4O2F+l7ruuCUop6rTbQ669sJeSUIgpDvPmzn+Gzn/kMlpeXpxqP3DDQ/D+/hezaGowIyH55B8nHuwOfMb50Buqzc1CWGlBOz+1VW46xokV3FFvXkfDxN/jEWaQNlqzS4jchRdB2nI9aVVUsLi7C9n10ul1sbW/DNAzMzdpPkOyp4q2uruL27dt49uxZAHurC/AxiEBxOe+6KCwq+agNXYeuaZAJQZdXTDZqNRiGAVVR2GTPc+GzLMPtGzewevo05hYWph93halQWdAPAd1uF3du3ADJMpw8cQIqb1rqBwHA844FxgagRmhriBSqbq/HxHB0Ha1mcyAzIopjUErZMXEwuU7CtBZ3zJubAkCj0djXiLXwj3Ky+fnPf46zZ8/i9Jkzk1POhizWTJGgnp1H7dWzkBf2lyqr5xdhvnoW6rPzINKg33hslSN/z+bpd51ulzV/FalxY7aRhgKz42BZFk6srKDVbCKKY6xtbKA3o9uDHYZgZWUFuzs7+4SYBIo0v6HmtSIATIZWVM1mE+1mE3meww8C9ByHkTJvACCyWCiluPvxx7h39+5MY65wMCqC/pTR7XaxfvMmJIC5NTg5J0mCNEkGgmVljQ0Ae3rLQylwWZ7vETO3boaJWewvSRIovBvJrBjwVU+5TRhF6DsOJEKKMupJuHrlClRVxaVLl/aOUwp8ljNLhv3HWZqyvO4ZK9+KXHLsBUqFsH5GKRLhh7UspkM9hTtCEEMnQPUAACAASURBVN40D5gkSWi3WlhdWYGlaej1+1i/f3+yP3kEVFXFwsIC7vOc6LFj4+l3QjelyAwaTvMDik4zMm/bJQSyHM8bTD+kFNv37+POrVszjbnCZFQE/Smi0+lg7cYNEEqxeuIENF0vyDYIQxBJ2usiDe5bRikzY6hsWJBFr9dDGIbQNQ1N3ntumKSEmyHLsolC76NwGGIGAC8I4LouVEVBo9GAdABxbm1t4eatW/jiK68MWp4lX2s5SFYQNf9JkqSQDRXuB5rnrMVUnhXVl0JOtPjJc2SUlWFn4vNl1wX/W9U06IYxoOA3CaPcT5OgqiqWl5exuLAASZKwubWFrQkW8SicPHWKEfS0x+XXI+MTkhi3mMDlUuszXdNQs20Yus5ahnU6haUvMo06u7vYrNLwjg0VQX9K6HQ6uHvzJmRCcHJ1FSovPAE4eSZJ4dcTrxU6DUMNRgFmNfccBx4v3xUW87D/UpC7sNIpMJOcZDkAOEu6nWhYaxgGaiVR/HGIowi/+MUv8MUvfhH6FK2YhscjSKY8CVDGNPw6kgHrG+UfjH8QRE64gGmakBUFruft6504egdjctQnwLZtrK6soNloIAxDrM8QRFxZWcHm5ubeymtCZSIF9lVJFr0US3nvQqnQD0PIslxUl4bcdSUmEHGPbqyvo7u7u+94FWZHRdCfAnZ3d3Hn5k2ohGCVBwTLEJZLkW5GmZobHfFwC3nQXr+PPMuKggN5BDELiD2Iar1p3Rui2GQWeskpRb/fRxjHsCwL9pj85qHB4r//+79x6tSpqYOCwz5jUfV3FGGfUeMczvIQZdHgmR1TDvbAUvdhSJKEuXYbK0tL0BQFW9vb6PR6B25nGAYa9Tq2t7YKwpRGnIcY1/gh06LpLQFQE+6dMCzcPYamgVIKx/MGGjWAENz5+GP4016fCmNREfQDRr/fx51bt6DLMk6NIGeA9ewDmBaEKHQYZbGmWVZYzZqisMaf3Ooe8FuXfIPi9SzLkGbZVNZzueBkFqR5jn6vhzRNUa/VYBrGVLoSH928Cd/38dJLL011nFEBPaHbrByFoEe9NsIClWUZtmkiS9OxRSyj9nmYNEZd17GyssLKsPt93N/YONDlsbq6ivX19dKByWBFKce0gUhxP+m6jihJkPGO5JIksUpXRUEQBEVTBeFaun3jBqIZ/egVBlER9ANEmqa4c+sWVAAnT5wY64NN0hSE974D3V9WPcpqFm2aBMRfoyrGAGY9A8yPOgmH8TUD7Fydfh8ZpUxYXxznAKux1+vhyuXL+PJrr82kYz2MjMubHmUfozCsYCcgpD2DKDqQMAcsc/79zNJpTpIkLC4sYK7dRpKmWN/YmDgxrK6uYv3+/X0WcpE7zSedkbIBE6BrGghl+tHiOmdZhpptF+3HhMuDgH0nd27fPrBBQYXxqAj6AeLjW7eQJwlWlpfHEgcFs6BVRSnKecukNs5qHtiHqCKcQIZxHIMQAmUCgR2WnCPesw9gPQ0H0ugmkECWpvj5W2/hs5/9LKuaPAKyLNu7fkfAvu0JKQJpwxBNBFzfn0x2I8YkTfANj0Oj0cDy4iIUWcb9ra1C5GoYdq0GQ9ex2+mM3de0zQLKkLhueJIkhZssSVOm2aHrRfsvx/OKCSTwPNy+cWOmQGeFPVQE/YCwce8eol4Pc63WQGaGQPFwiiAVD0bl3NqYxmou9iOqAMc8cJRSJGk61noeKMWe6SxZGp3rOJBleazY0Ti8+957aLfbeGZYeP8QyPL8SO6NMoZ9zvzFfZ8jfIkPyhofjMPIa0oII7kZrVjDMHBiaQm2aaLX62Fza2ukq2JpaWm/eBJHufhp1hWHrusAYV3gC0ucZ8fIkoRGvQ5NURCEYeHy8BwHt65dq0j6EKgI+gHA6/fRvX8fmqah3WwOvFdu5grsVXIVrxMyldUM7Ld4CTBSinOSf/bwZSqs6MXzPKiKgvqwfvMBWFtbw9bmJj7/+c/PdMxRlqzIWz6Ozh/7CjYmHBdgcQPDNFl+MHcj7dvnBEu1XMU3LWRFwfLSEtrNJsIowtr9+4ULS6DVaqE3Jqg44HKYMYApyzIUWUbEGw2L6yUCigArvrFKLo8sy5jmzNWrFUnPiIqgjxlxGGLjzh3keY7lpaXi9eFHsFw9JxqD5iKv+SCrWaTOYb91JmFE6Td/KMYR2GGcAnGawvM8Jola0g0Zxqilv+95ePtXv8Krr74KZaiqcBIGlPpKOI4MjjLKZyKW8pMoVGho+75fTIZlHES/BzX2HYdmq4WlhQVIAO7dv19UawJAq9lEt9vdt80of7C4j6Z1eQhVwYT7mgF+nXiaXp7n0DRtwOURxzF818WHV65UJD0DKoI+RuRJgu07dxAGARYXFvY6bgP7AzZDgaM0Saa3mkcEAYf3XX4/HSLowxaeCCRpytwaklS0hhqLofOmeY6f/+IXeP7iRbTa7ZmPPepIghQLN1Geg4IyaU6J5/sSIKd5oaExMUhXDuKV89LHfpwU7blc1z3UqmTWwKGAZVlYXVmBaRjodDrY4uJG9XodQRAUkzOAAQGlfcfH9CQt0kET7uYo70NcL2Fd12u1wuURRhF818X1y5f3WfwVRqMSSzom5EmC7v37cPp9pm9sWcV74sYVBSPDD0GSJHA9DzXbRq1WG0nMwPSkSgCmBc07Uqe8BJrMsI9xSNMUDi/drtfrk62/cikwx5WrV6EqCp67cKF4TRBH8Zv74gcqBYF9xCoKTnzfLyr7xDm6SBCbAM3YNfAMChIHiLvdQR0KkY5Y0jYpcob50j0IAsiSBLXUdJWUfheiSpbFCnTCEFap2Gbaay0a/84avJMVBUtLS+j2eug5DuI4xuLiIprNJrq9Hubn5wvL9iAIkh63WgF/X1NV9Pl3Nrw9hMuOf19CqCsIw6IP5o0rV3DhhRdmKpp6GlER9DEgi2OE3S52dnYgK0phGQ5EyindR86UsnZPEe9g3eAdLoZRFtCfFmWSTtMUiqYdnZyzDI7rghCCeqMxkZyL8mGunpcD6He7uHHjBr761a+i7zhFmXV5m4GxCRIsuRnKriHw/2XeZNYQpfOEIM1lSDFAMwLQHHoE6LICg+dml1c15apN8ZuCiwvx/PEojke6L/gginGmeQ6/20Veq0FR1SKzhGKKgBzfz6T2ZeMgClt0TcNup4P7GxswbRu9Xg/tubnZ+wlOCI4CbDVGgJESrMU2pQwYVVVZBSZvTksBXL98Gc+/+GJF0hNQEfQRkcUxUtfF1tYW0izDqZMnC7+lsEQKSccSKKVwHAdxkqBWqyFKEiRZtr9Um+3oUKRKwIpeQCkU/kAdFlmew3EcUGCgoSsVnT2yjJFZniNP06I9U8aXuhTAu7/+Nc6cOcOqHgkpRJtIiYglSRqZLjfKTSQgtK5FZxgAiCAhTwHKeUlNAU1SpyojZ4fiGhWcgGxekJHzcxYaH4XWB/9bkWUEWYZutwurtqeol5fcMLKiFK3AJC5CVF5pEEmaukP7MGzbhqZp2NrehiLLWL93D6cPkSVTxDf4hDG8EkqzDKqqjtTBFtsX+jEiU4kw4X/HceD7PgiA6x98gAsvvFDofVQYREXQR0AWRcg8D51OB0EYYmFhgVUDliyzcbKgjuMgzTJYlgVdVZH2eojjGGZZLIn/PhKxpimIJM2mMTyENMvQ6/WK8YZhyISF+MNZhugSrqoqiCwDlEKSJNy9exegFC+//PLhcpXHkHM5xes4MawVLUhIBgBZZj9jYJgmPNeFrutQVRV5niPhS/s8y5AkCRJBeiKbR5aZYhx3l0h88jpM4Y2qqlheWoLnuli/dw87nQ7mD+HvF5B4U4XyfZ0kCWzLKlYXo1JJi2+55F+XJAmmacL3fdabkVJ8eOUKnrt0CUZpgq3AUBH0ISHIOYwi9Ho9WLy320HknKZpsbyv1+vQ+AOs6zr8IGCCP6I094hjpGDl1yCkKB6hByx1KRipp/wn4RWCaZ7DtizEUcTyZ2WZLVu5vGdhCQ5fpzxHEsd4//338dprrx2KnMtZK8NIjzmDo4yBas4ZtjM0DbGqFtKvCr9OZVCwVmQZd6NkeY4sTZEIN085U4cQyKoKhae4DeuuDENcr9OnT+Odd95hbaryHHPt9pEqLcWKUIhumYaBIAwRRdFIgh7eVggwybIM07Lg+z6TLQX2SLoUu6lQEfShIMgZYPrOOaVYnJ8HsOfPHFduLXy4rUaj6KICMMUwPwgQxTFrFHvEMQpCyZIEctn3XQrgAChkJtM0Rcp1FsQkQwhBGAQgsoyFVguGYTDf44wk+8Hly1heXsbc3NzhToaM7/oiCnsOkjI9DAaOOGOGhWVZ6DsOwjCEZVn7OqsIopJlGRhKNRQ5xcL/naYp4ihCzC1uiRDIigJFUdjv0ndSDgbKsowaT9MMoqiwpA9D0sU3LkmIeSWhoijFfZtm2YGFQgNxA1mGxUladDm/zgOHVkXSBSqCnhF5kiDzPFAw32cQhmg1mwM3/ajgWcgrqxRZZrnNPAVPQJFlKIqCKAj2gl2HROGvJQRJlhUWl/CppmmKJEkQx/GAni+RJGiaVozF8zyouo75oRZVs4yj2+3i7t27+MY3vnHo85lEjqJf3mEaEByEURk300KRZaabHIbQePbHtCQv/NNQFOhA4V4QbqU0TZm1LRrZ8nEqfCWjcCEjgBWsZGmK9twcuv0+Nre3We70IS3pLEmQpWnRMk2k3KVpejBBYy/QC0oZSZsmvBJJ37x+HZdefvlILrknCdVVmAF5niPlEWgCFK2JmqVqwVGPs8u1CTRVRY23uB8GBZN07PEASu2Q2hQFBRDWLy6OYyiKUjRrRUknWFWU4oFWFGXA3+p6XhHAPAw5i/28/fbbeOmllx5YpF5ocDwoFMR/iBxlwzBYgYbvH0lrRNxTwuIW15LyDJ2YW9gFYfNxK4qCWq2Gzu4uzpw5A0IIur0eNra2sLy4OPN1E1lHkiTB4iXfIuaQJgkwRSMIUV4u8tFlRUHNtuF6Hly+Kv3k5k2ce/75mcb2pKIi6BmQ+T4oX1KHUQQ/CAas5+FlLKUUjusi5kEU27YH0+xKvwl42bBhIAwCaJoGbUZiFH7NOEmQxDH8MITnebAsCxIh0FUVCl8aDzycpVxjAPB9H1Ecw7Ys6Ecg1o9v3wYoxZkzZw69j4OQ5fmhJ5CpMEUl4ThIhMDkudFRkkA/wjiHC1kKN5Qsw+DWepHaWLKwdV3H2toa+o4DRVFQt230XRf3NzexsrQ0E0kHYYg8z4sGDOK+VRUFIe91Oc2Ko+wGpDyIbFsWPO6TppSi3mhgcWVl1sv0xKGqJJwSWRCA8uonQsg+67kcsQaYZdfr9xHHMWxegDJKfH84+CX6v3meN7UcZJqmrKlnr4dOrwfP91kalKLAsizMtdtoNBqwLGtvuV1GKdXN830EUQTbNI+U+hTHMX79/vv4/Be+cDR3zYRrIIpbHqQFXehBH8KCBgBdVVkn7DCcWd5z1FjYUHjfxKG8ceHmEMZAs9nE/Nxc0aghiWMQSYKuaQh8H5+srU1d0ZemaZHOKNwaIg1PdAeauoSbB8HLOiCKorCej5TC9X18fPMm/FLp+tOKiqCnQJ4kSIOg8J+FYbhnPQ8HAynr/dfjLgUhXL9vn3RPUawMApbLmuc5gjEKaRRAnCTwPA+dbhfdXg++74NSCssw0Gw00OZBPYXn3E6DmPulTcOAYZqHKj0WeP/993Hq1Cm0Wq1D7+MgHLcGxzgcRhq0DMuyAEqnajY7DuVKylmKTkzTLAKV9UYDlmmiXq+j0WggjiLcunMHu90ugjAcXXTCjys0oIfvZQIwPRVCxm4/Yod848F6AZlXY1JK0XMcfFiJK1UujoMg/M5lK7DX64ECaDab+6zDOEn2ZWoMg1Iuyj/GslSFqyMMIckyTMNATimSOGYkmiTFTa4qCgxdh6br+wJl+dCDMAlZlrEGr7KMmmWxbWS5qKibBZ1OB/fu3cPXf+d3ZtpuGAeRoji/486BHsZRNaYVWYbJg2Fpms4UAMsBgJNyuSw9HzG5jzx2yboV7i1FUWAaBmzbxsbmJrZ3d9Gq14tSdlVRoPLPAYDn+4Uw/6hrIRECVZaPRKZiv4KkPd/H9s4Obl6/judffPHQ+33cURH0Acg8DzTLihtIWM+NWm0fMURxzHx9pUyNYQg/3UHLZsuykOc5er0eXNfd83PzJarK/cmj0vmKY025/Kd5Dtd1AUJg12qDVW38mKC0IIuD8Pbbb+Mzn/0sNN6z7tA4YFshBPQgXRzA/tjCYaAbBoIoghcEaNTrE8lV3BvDDV3L45F4teFBIIQUk32tVNkIMHfa6soKtnZ3EcYxDMMAkSSEUYSI57snaQoQgka9PtHXrygKkjBEjimW5WO+V3GvlEn67t27qDebOHHy5IHn+iSicnFMQOr7yJNkv/VMKdpDlVlxmjILVFXHCteXgyiTHi6hnyusZUGeDe66sG2bVephcpVhLopeDoCwkOpjMkwAFDoR5a4vo8j3oxs3oCgKnnnmmSOT2kHIeQXhUS3cAzEhD3vqXQCwDAM0zxGXG6xyCP0PoU9ykL9a+H+ngSDoUdB1HUvz81B4hoesKGg2GjBNE1GawuOBwSiKEHIN6FEQfumME/okjNxDKQ4CoEjBy/McN65dg8s79jxtqAh6DLIkQc47GAsEvg/f99FqtQaITyi8ybI8oFNRxrAQ0PDjJ/Kqe/0+ur0ewjBkJbuLi5ibny9822JfmOAiEcjz/ECt4SAMWamuaU699BYa1rLoo8hXBFEU4fLVq/j8F74gTnqq/Y3CJDU1gQedYidAANAjTgKEEKh85eNHEYtBgJFVLrRMJsiBjhvXNCQt/NDjoGkaFpeWoMgydra3EXLVOUVRsDQ/j0ajAQqwQLTjwCupBwqIJrJpkkzu7oPJgd9y4FNRFNaoNo5x5f33n0p/dEXQI5BlGasUHLrJ+o4DIkloNhoDn+0LhbcR4vpA6YYsReEF0iyD5/vodLtFiyDTNNFqNpmWLu/1pqoqfN9HEART6/bmvOpsHJI0ReD70FR1ZCBzGhAwH6RMCD64fBlnzpzZK3k/BqtzEkR36U8LRzobfj1M0wTyvPiuKZeEPcwqoCikOeA66xMsaAFVUbDIc6Pv3rsHx/NgGQYMw4DOxffFfRjHMTzXRa/fR8gtbJFBUg4UjtK4PugaEkkakEjQeeFUr9fDjatXD9j6yUNF0COQcxGXMsIwRBAEaDQaBenllKLPFd6aJXLeZykPVaTRPGcaHv0+er0ewiAo2ka1Wi2YpjlQukwIQY3LV/pBAIdreUw8Bx7xH2dB53kO13FYDuoRG7YCzE2yvr6OFy5d2qvsE/7xI2ZBjII4vwdR4j0KB7mTRqGsZ12MlxDouo40TWeXAB03rqGq1GFMcnGUIREC27KgEIJwKDAO7LkdGo0GEzYiBEEYouc4rMiEi0GVu7YIoSWBac65vNokhMA0TRBCsL62hvW1tQO3f5JQEfQQUt8HHbGU8nl5t7Cec0rR7/eRU8oChuP6/ZVutjzL4HoetjudQsDGsiy02+2pKvbqtg3LNBGnKXq93kDl2DAKPYZRBE0pPE7yo/KzD4MrV67g/PnzRZUbKZGzsLKHFeKOAkECn4aLYyBndwSKhgL8b+FHLl4b+rzBtVamIc2phofJ18EwDEQj/N5lRFFUBKNXV1dh6jq2dnZGuhUIIUVLq1qtxjp9pykiXjXp8WITAZGmeJB7o3QAoBRbkCSJ+aMpxY2rV+E8Rf7oiqBLyNMU+agADs8DNQyjuNlEM8xarVYESASKpR1/qPMsK3KWA17y3Wg00OS5ygf5icviRaZhoFmvA4Sg77rwg2DkTU/zfCyp+EGAKE1Rs+1jcRE4joN79+8PdEkZhzJJ7xPfZ28U/tlJEEHW4+rkPQ0GcpH5T1ayjgf85sPXvfS/RAgMXUfCxamOA5OyeQzDQDiGoEX5dhCGrNKQ5+3Pz8+DUIpt3kJrHGSeQtio12HXaqCSBI+v8qIoGpAZncXlVWzHr5uiKNA1DXGS4Nrly0fLDnqMUBF0CdkIi4YAiMIQaZrC5ipbrusiTRLUbHts+a5ECGieM2Lu9Rgx6zrarRZzV0wZkCvIufSawiPtmqoiCEP0XXdft4+MUlCyX084jmMEYQjTMI5NH+PKlSu4cOHCkUquRWZIYW1jsBS+qD7jSLnfs9yxpmyljXp8Keieb7z0U1h2dO/9UWQsxjKsSjd1eXMJumGwoqcDLNtZMG6iH+fiSHnmUZokRV60OBdd1zHXbiPNMux0Ogcfm7A2WHXbLsS+/DBEXxA1X1FMTdKle0DiKxhd1yHLMrqdDu49Ja6OiqA5siQBLbsMhGuCEARBgJxS2LYNz/dZtZ1lFd2Nh5Fzi7sgZlVFq9lkjUVnWN6PImcBiRDUazUmms5dHkHJmhYWdPl4ohhF4b7E44DjONjc3MSF8+f3v3lYV8bQeRPxWunhznkGR0GO/IEWhEnI3vaMsCmEjUmHflAiXwy9BgyR8CHPaXgrYUWncXxsVjTASHp4MjAMg7VV48jzHH4QFOJEtVpt5L1sWRbajQaiMERnRIfwUZB5o4GabcM2TRBK4YchCyhG0WzuLbL3fYnejxb3R9+4fv1Yr9ujiqpQhSMbKsMlJYvN932W7hNFCMMQhmEMNAUVyPO86F5M8xy6psHQ9QMF1sdiivxbQ9ehKAp834fPj23y/FFgz6oqF6PUhopRjoIPLl/Gc889d2zykNOk1wHTF+EAR298ULbmJYzJ4z0EdMNAGMcIw/BYArUAimYK5Tx7XdOQpCky3s0liuPCIj1I2rZer7Mu7p5XuEAmQZIk1haMUlaRWK8zWQLfR+D7iCQJOpcgOIisB+4DbjCJcnM/CHDj+nVcfOGFA6/J44zKggbrK4jybFwixTAMkaQpNE6CmqYVrg6BnFJ4QcA0DYIAqqqi1WqhXq8znYISpvWciXLwaaDw/OtGrQYiSfB8f09elEOUGddt+9gCa71eD9vb2zh37tz+8R9yn9NaWNkDFkk6dow4rwfhiwZGu11URcFup4MwioqMIZO7WQ5Cu9WCqevo8hjKJIjvRBgIItOmXqsVq7bQ95mcLVfAm+6kSGGwqKoKXdOw9skn6Pf7023/mOIxusMfHAasZ5Gaxm/cwPcRJQlyMFGYcrksBSv06HQ6RT5xs9VCfSirY+ARmOKG3NfdekqoqopWo8HElihF4PtwXBee57FOLZa1b8I4Cq5cvoznn39+pPV8WKt1mgdW+IcfCkEfc9WiruuQZPlIQkpjQQjr4sPz9yVJQs22mfzsDNeOEIK5uTnomoadnZ2JCnj7CBrY041RVRaENE0I8SjXdfcVvQwfe+gAANh1I5KEG9evP9EFLE89QadRtCdij/03hOt5yLOMBUBqtYJ4hJyo5/uQZZkRc72+L6ugcJUM+TnH4TgKPAxNQ6NWg8HdMpvb24iTBOoxZjx0Oh3sdDo4d/bsse0TwFTnLtpcPWiRpLE4DEmPOS+JEJi6XrS2Og6IvoGe6xadSiTuvz2sK0qWZczPz0ORpLHpd8DedyLSDIeD1wAj6katBpuXvvueNz4bacQxRMqmZZro7OxgY2Pjic3qeKoJmlIKWlqyDZfOBr6Pfq/HpBrr9SLFzg8CdLtdZFnGdHcbjYnpXtO2Tiqn0x0ZhEDTdchcXElTVfRF9Vcp/emwuHz5Mi5dvHislXzT+p+H/esPHEPfx3EfVXxPB7kPDkKe5wiCAH3elYfywHadyw8ctTBGVZQD0+8kXgUomuFOupNVTWMiTIqCJIrgOs7E3H4BCgz4o+/fvQuPBzyfNDzVBJ3F8XjRIkrR6XSQ5jmWFhdZW580ZdrLQQBV09BqNGBo2lQWVdltMvpw4zM2DgVKEUcRsjzHwvw85rjIEgELegoN6cP4Pnd3d9Hr94+9U8q0E9PEIpxPA8fs5pAIU5zLDmlFJ1wbvN/vI4oiKLIMu1ZjFX+6XlR2HrVhAMDT7+bmJqbfEcJ6YU5zNMKrF4UOtM/1bgbIf9T15qtSVVXh9vvYOSBf+3HFU5vFkec5cmGx0L3ODgIhbxclUpC8IGA6GISgbtt7OcQzPKzjPnns5AyWJxzGMdrNZpGfrGsadE1DmqaFpKQIGhmGwQpupjifDz74AJcuXZpoPR+GCqbdRjyIj3uQsAxd0xBxOYF6vX7g7vI8ZxkZXGGOSBJ0XWc+7REdc4pu7scAyzTRbjTQ6fXQ6XbRLjVlEMfIZ5z4Vd6bMIpjxHGMNE1hmia7d8eMW6QU6tyKbvPOQU8SnlqCpiXf8/BSOcsyVimY52jYNrq9HrI0ha7rMwdYBo4JjLZkpkinmxUBX/KNamGvKApqioLcNAuSdlyX9ZdTVWhcdW2URbu9vQ3P83Dm9OljHS+Aopgh4alnIe/yIfQdxLI5CAKkaYo1VWUNFbIMVCjC8c9FShfZy0DCi1PefRlQ71+D9uYdSLz5KuENT2XeDVuW5b3/S69HUcT6Q1JapDWWU++mOrcDvl9CCHTDgM+V4oarU4E9Uo55Z22A62NY1tjvC2ATvzyUendUjEy/o6xLkEQI0lnvZ15UZfCWWkEYwvf9wniQhgyoYjOwc/N8H9tbW7CPqTr2UcFTSdB5niOPon39AAEwnQrXRRRFLHCTZZB5WlJhNVN6pEBRmaQPm7ExCUEYIskydmNPmEwkSYJpmjANg/Wc4y2vYi4ZqagqNE7Y4uH/4MoVXOKCSJMwnLmSpikjXZ5LHkcRkzotveb5PiJu0etcSU207JJKP2maQlYU1uGa+28lTq6SJEFWFASffIj01iZIBvzyJeDMbcA8twzl7ALSPGf3ACd+IfeZpili8X+eg3KyFxZdkiSstyD2ViNinIZpwtB19r+uMxU4XvkmrsdBlFW2olVuRYvc5XIqniTLbMWjqlOTZHuGFQAAIABJREFU0XG5OMpot1rI0hTdbhcK7zYusmsO2y+SEFII9sdxjChJkHoeTH6+IzYoJs776+uYX1go+oQ+CXgqCZryINkohTJhnYmqvH1pSYcl5yFIhCCbsm3RLMh4lZgsy8w/Pg0IgaKqUFS1qEwU/Qk9XmSgKgp6/T4C38fpEdazqFJ0HAf9fh99x4HneQiDgAUlgT3iKpFYu92GYZqsi7mmDZDaOHR7PaiKMrG4o0fvIHQAyo3GhgM0zSaMEyemuyYl9B0Hckn1T0w2YkKJwhBBGGLHdRHFMZt0+MQjJhtN15kSXL3ORIZ4E99ypaewovuOA8dxCpID9jQvVFU91ApuoOrymCDS79KtLWxub2N5cXGgY/ysBF3uNEQIU/1TFAVBEDBrWlULZbsyJEIAWUbgedjc3IRt28dWOPWw8WScxQwQ1jOwPyiVJAn8IECaJEjTFC2um3FsGLJgimakeX5sgSfPdZlK3hFKuUXfOss0kWVZYVVfvXYNq6ur+PiTTxByn7zn+3AcB2EQwLJtNOp11Go1rCwv71mX3BKeBKF7cRAoX0Y/zGWsoiio1WqwLGuiVUwpLdw1QRjC4cR7f2MDTr+PiOu51Gs1WFyp0OD9J8MwRLPRgM5jA0f1twttmOPI5hjYryxjrt3G/c1N7Ha7WFpY2CPoQ1jsBGD+8tLEZNs2wjhGEsfIuQJk+XqIlbCuadhYX8fCwsK+jkePK546gi70NoYsYZrn6Pf7CIKgEBKyyyQnbrYjEGlxu3Iho0IQRpYHcrEPi4gTqWVZA0pih0FYIpRev4/O7i66u7vod7uwOTmZpon5+XmcOXOGyU5qGiN37t+dJUNk2rGKvNoH3uaqhLEjK+W3j36bpTpquo5Go4GFhQXmM09TpFmGJIqYIqHrwvV99LpdVhLNq1EbzSarEG00UK/XUT+gL+BEkD1N7ln95+NAwYKBiqqi2Wyi2+2i7zisXoBPCIcaKh+v6K5CeK64JElF8N6y7X1ZPIqiwA8C9Hu9qeR7Hwc8fQTNdQiGH/BurwfPdZmvWddB+n2owy6CYyKF4fZJpPzaIUk1pxSu5zHXhmEwvYWpB0TR6/exu7OD7Z0d7OzsIElTNBoNNGo11Op1uI6D555/Hi+/9FJx7TLuo0/TtFj2CwgLR+Y+ZOEnHkWswnqeqktMybL6VDEqQEVG92UE2IQvgpoZ93EnSbKXww12bRYXFiAvLw9oU2Rpio3NTQRBgCiKsLGxgRs3bsB1XdRqNczNzWFhYQHz8/Mjl/yjIEsSy0vmGR3TdgUfB1GIIq5LvVZDGARwXBe6po3UwZ4FhBBIGJy4dVWFRAgCrjk9UHjDA+26pqHX6aDeaGBubu4II3g08FQRdM4DP8MPW7/Xg9Prwa7V0G610HMcZPzLLnBEch4WfhneX9FMlg105uN5vs+aB4iO0ROIPs0ydHZ3sb29jd3dXezu7hb5rQuLi7h06RIT8uefj+IYly9fxhe/+MUBMpB55oO4TiKjIk1TZDzoOFB4QPZ6GQ5kSszgH/3Ui1QOQJ5lTI50KNMkG1LDkwhrCSVrWhHgHHfOsqKgxbXCG43G3r1BKbrdLnZ2dnD37l289957IIQUZD03N4dmsznSHVLuukIIYYR9CAuXYi/bZhhlV8c4pceZUV6lEMJcb7bNSNr3YYlUPP6+RAiLe4Qhoig6vnE8JDxVBC2sZ5SsVYe3nTJMk824hCBJEkYkinIsro29Aey5NsaBEDKzyyPm+bCWYYysaAyCADvcMt7Z2YHjOGg2m5ibm8PZs2fxyiuvwJhwI9++fRsnVlcPvNklSYImSSwlDYCZZaCUMuIqk1eWMf2FsjQqr0CTeE+6cgfx8ms5n2AfZJGK0IAGD9IlUYSMEyoVGSB83MM9+GSeRaKJrBI+AUGMfUromsYCjnFcfDeEELTbbbTbbVzgzRE8zyu+15s3b8L3fczNz2OeW9ntdrvoAL/P2j/ARbPvugDF9R8FWVHQbjax0+nA9zyYRyTH8sQE7LlmZFmGZdusqCUIYOQ5dF1nnyMEWZoWGiQVQT9GoEnClkL8YXFdly3JdB3zCwvFDZEkyWAe6jGQ84AbY5bPHvAAUUpZqyLCercBzH+8tr6O3e1t9Pp9pGmK+bk5tOfn8dnPfhatdhvKlASXU4obN27gK1/5ylSfHxgb2EMmgo7D4xbLf9GfT7SKytJ0rCZJEATISu6Q4dZaouDIJyliHYU2aKgDahoh463LBoT59wbFSHnouAGvzpNFQ1NCoEgSiKJAA5tUBBmPvRYzuq5kfs3iEkGPgm3bsG27yKxJkqQg7CtXrqDb7aJWq8HljY0XeaaFcCFMFcijdG9FcMA9bNk2giDA1u4um1wO2YxYoBw0LI9U9NIMeJZQzuV9xXtxGCLWtEIe+HHFU0PQeZaxXoOcnEWnB5W3nypbZEmSMP/zMaXUAZjZtzzg8gDGuj083kxAIgTXr1/HvXv30O/30Wy1MDc3h5c/85kBd8WsWF9fh2VZaJWqxaY+h0nv8RWKDIxd7os0M/E7pxRJlkGhTGt4IOgqyJZ/PkOOTNlbiOQykNF8L7WRlFpu8f8FyUuEFEQs0uBGycwWY3xAQj06lyJNkmTqgJeqqlhZWcHKygoA5hJ655130O12sbu7i//nBz/A4uIiVk+cwMrKClRNGxvMm+TOmIRWq4Vur4duv496rXbkDJRxQU1CCCzLQhCGLFc9ywoJVaffR2tuDv1+nynffYpB5ePEU0PQNI4LgnNdF1maQiqVxwqkXNi8dpx5lFOKAI1CQdTDbg9Ksbm9jVu3bmFndxd5nuPE8jIuXryIxcVFOK4LUHqgwPpBuHHjBs5P0Wtw5NgxhXofb101cnvury4j5L3zDhS4pxpCby8P2vKBumrCmKKMehjlhrejxnhU9cFxULmvOuSGxKzI8xxvv/02HMfBXLuNF158EY1mE/fv3cP6+jrefe89NBsNLC8vY/XkyYEJqMjBPgSxyYqCRqOBHs8Aah9ich+GCMiOCiabhoGIZ3iEUcQKr+KYWdJxjCAIRlbUPg54egg6SUAIges4SNOULVN5xVIZSZKAUgpF149dFOcoIGDL0c3NTaytrWH93j0QScLC/Dy++MorTGWsNF5JkqZSBpuETq8Hz/Nw4hDFHcB0UXw6A8EVOdCPSIDwQYMQAkPT4AUBsiybKXMlSRK89dZb0DQNv/mbv4k3fvITKIoCTdNw+swZnD5zBlmWYWtrC2t37+KNN96ArutYWVnBiZUVNFutI1mdmq7DSlP4vg/DMGAe1dXBxyJh9H2la1rhe5Z5HMTp9VBrNFjGR0XQjy7yNAXNc0RhiDhNoSgKkjSFZZr7ll9JkiDnpaP/P3vv2d7GlW0Jr4rIYAIIBlEMonJ2S7KltoLdt/v+gPkwv6p/zXyYd27fnrbatnKWlXMiAWbEynXeD3VOsQBWAVUAKIker+fxYwpA5VP77LP32mv3BT16V4ZhoFgsYvHTJ5RKJWQGBjAxNoZvv/vO8ZC9Jege9GNJ9/LlS8zOznZtEEPxbSPcHxZK+NwMjk5n2C9esR8kWQavKE4fzJDFR41GA1euXEFhbAxHjxwB4KwMW5s1CILghkNM08Tq6io+LSzg+o0bzopsfBwTExPIeYpPwoKDQ72r1mpY39iAlMv1p7qvzYQuU8kCRVXB8zzWV1cxOjaGcrkcKUz0NeH/CQNNDAMG7WYdkySYpgnJQw/zQqehkL7wbFuoVlG2W1pawuvXr1FaWsJoPo+x8XEcPX4ccSpyvr6x4bAFqP5Bq0H2zdpHgKbrWFhYwN/++teu99FvsFjpV6diF2YV0OWz4HkecizmJrs6Tbzr6+u4du0a9u/f39SKzND1LQJMrv42zbUMDQ1haHgYRw4fRq1axafFRfz2+DEatRqmdu3C7NxcJLU4juMwPDSE5eVllCsVjPTIS2b5AivoXhKCZDKJeqOBuqI4IQ7aqJYV/+w0/D9hoA2qMSvwPERRhKbrgSXcQUpivSLM66lrGt68eYO3b99CEEXMUQpcq+ejqCpsQpChRQpufA5wi3B69aDfvHmD8fHxbaUpRSlQAb6gzGgHQat2BSueH3VtpP0od35YXFzE3bt38c0337hJQgavB+1KgnpizIzOaFNjnc5msT+bxf79+6HU63jz9i1+/vlnZNJpzM7NYXJioi1rhe1XlmWkMxlHm6XR8E20RgFHE7itiU1X+IxzOq3U63WHgri8jKFcDoqi7Egp0t+9gTZUFXVKMUqn06hWqxBF0V9nlhCYug75c3InCcEKTfYtFouYmJjAqdOnMTw05BsDt20bqqoiRsuqGZh30VTO20NV4qtXr7qi1jUhhFGKMpGwEAffh/BNFHgr5r4EwlDuXr58iRcvXuDcuXNbGDdsImSKdoQZZr9iKZ/EYCKVwqHDh3Hw4EEsLi7izZs3eHD/PqZ278bc3Jyvs+MKHwHIptNQVRUb5fKWcRsVBABHCGw0r0q9Y52pNDZUFR/fv0euUICmadB13Tcc+DXjd22gCSGorqw43mYm40g22jYyfgwAQpwqONtGoteHGMIwGrqOd+/e4c3btwAhmJ2dxfHjx7eWl7dAUVXYth0Yj3STKYLgGumo3nQv1LomdOJwR9wd8/i+thBHqLvbYy6iHeXu/v37WFlZwaVLl3zHhWEY4HjeoYS3o45yHHhBCKww5HgeE5OTmJicRL1ex5s3b/DTTz9hcHAQs7OzGB8fb1Z99Gw3MjSE0tISVtfXUcjnu7kFTfvlPV40AbaUrouiiLgsQ9U0fHz/HiP5PBRF+cNAf00or67CNAyk02kIPI86pWg1zeBswHKcUxVGCOReQhxt4mMgThut169fY2FhAWNjYzhx4gRyIyOhPDTLtqEqCuLxeMcYuRv6QIuXGsJQ9EKtazmJ9seLaLTsNpS87ULYbjcdE4U90vEkKkLlpdxZloUbN2/CtixcvHixaVyzcBchxGkYHHJMh727qVQKR44cwaGDB7GwsICXL1/i3v37mJ2exszMzJbfu4JK5TKq1WqorjHBJ8ltFnO1eT6yLMO2bRQXFpChJfPe0vmdgN+tgdZ1HUa97gqbs/58Td6zX3EE+sOA8MImBG/fvsWLFy9gmiZmZ2bw17/9LXJ8V6EdmsNQlphxbm0IQDoY6/WNDdTrdUx0Sa2LAjduGPb3XQjA9wr3DnUYEx3j0D160BzHIeah3BmGgatXr2JgYAAnT55sKotuPQ/DMBzZgnAHiiRJygsCdk1NYdfUFGqVCl6/eYP/+69/ITswgKmpqSa+ejqddpra1mpI9NBhnE12YZoQxGIxNOp1LC4sYGp6Grqu76jy79+tga6tr4MHnDJPQtwCh3aDoueWQC2DhRCC9x8+4PHjx0ilUjh69Cjy+XxX8UzTNKFpmtMlJQTDxE0UtpxTJ2P98tUrzM3N9cUQtlV765B484Nl219MiL3juW5jwQoDo9ytrq7i7t27mJ6exoEDB5zKyTbqdGYEDxqA28gi6tWks1kcO34ch48cwcuXL/H0yRN8ePcOhw4fdpXlBgYGoC0vo1qrdV/A4g2fUO2NILAmCOWNDQwNDyOVSv1hoL80NE2DRcWDOI7z9559wHQZejVOBMCnhQU8/u03yLGYU0iSy7laxt2Aec9hdQW2lIr7/cbzN+E46IaBjx8/4j//8z+7PMvw6MaUsUTX54Q7wYQ4bjfx/ijgeR6VWg13bt/GsWPHsGtqqkm+NAgm1WwOjQCmRFgIgoDJiQlMTk5iZXkZN27cwMDAAA4ePIjBwUGkEgnUFAWpdLqrcOKWib/D5Mjapq2trSGTzWJgYGDHhDl+lwa6sr4OAU41E/OeJUna6n15EybepWE3D4/S3EqlEh49egQC4OjRoyiMjfVcyGDSRqGJCA1rW5XAOv4ewKePHzE2Pr6FKbAdhoeLWP5u27azrP3cOtAhxwQHWkATtGLo+vCbW759+xaPHj3CsWPHMFoohF6BRPWggYi8fR/YhEDkeUxPT2PX1BTevH6NX69cQS6Xw/59+8BTvYxuuNHee2KHDHXE43E0KPVOVdXQRT9fGr87A60oCixdRzqRADjO8aZt21+7oeWlYw++Gy9teXUVj3/7Daqm4dChQ5icnOxbv8FGo+GU/UZYmrHwRhQhn/fv3mF+3z7/fWGT4kSYwFCnc2jzXWQGxxei2DGEvd7A64pQzs4cB68hevLkCT58+IAL58/DhsOZ9yu08kOkGDRDxFj0FngmdYHnMT8/j9mZGbx8/Rq//PorcrkccrkcUqlU5Kpdly5INhUJO3nRgiAAqor1tTUMDg7+YaC/BAghqJbLiPG8q9LFvOctA7SVbsRttuiJ4i2ub2zg0W+/oVqt4uDBg5iamvI1IpzfMUPA0HWnLD2ZjHReQTHoINQbDZSrVRQKheB9OjveYqy8QvAtJxG4r6gJwi9VpBKWxcF+E3S3fT/3rCLcij7Pd4Bz3Xfu3EG9XselS5cgUwnNumnCCqlLYnZZfNXKrQ8LpoDXOh4EUcT+ffswNzuLZ8+e4emTJyguLeEbWiEbFkyrm8Xd2bjslKSNx+PY2NjAxsYGRkZGvjq6ph9+Vwa60WjA1jQkqLymSptMpjspn1GwarwwD65SqeDx48dYW1vD3n378N3ZsxA6GdAuvL8GLVmNmtiIGuL48OGDUx3WxTm2vojM+AZVCpIu2i3ZXUyenxuBE2IrsyJkeEfXdVy/dg2xeBzff/+9S62UZRmKqjqecYhxoRtG18lVnucj505YAjhIM0WSJBw5cgQTExN4+vw5/vGPf2BmZgb79+8PxVPmOQ6m3xhq45AQQpzGD7aN5eVlFAqFHVFZ+PVPISFBCEGtUkFcECCLIogn9uy7vAt40TsZNNu28fjxY/z73//G8NAQ/va3v2F+bq6zce4CGvWew/ad84KVxIZZohIA79+/d0XfewU7U7+Sc1e32YcO1vYcv7QH3eH+syth+tXsP5t2YPF+Fuaq6/U6Ll++jKHhYZw5c6aJ985TyQI9ZN9JpZeYa8hwlhc2wq2QBoeGMDczgyPHj0NVVfzjv/8bnxYWOu/fZ+xwaB/+Ys8vmUhgfWUFKysrHY/zNeB340FrmgZCE2kA3C4Lvt5zUKjBo0vgh3K5jJs3byKZSODHv/zF4SNHMDKRlouEQGk0IHbhPTPwHBfKQJfLZRimiZGRka6OEwS/u+gWz9B/N7UzaqH9ufeLXgcT0f9caJpMEDx5uysGbPWit1xXCKytreH6tWs4cPAgZmdnfX8Tk2UYVLu8U9GS0mhgvEWbIwoie9F0Quo0mfIch8zAAIz1dew/eBCzc3O4fesWPn38iOPHj/uO+04Te9uJgcbVBY5DqVjE9PT0528+HBG/Gw9a0zQIhECUJBA4wu4ybdC5BQEvDCsXbZ2JbdvGkydP8PPPP2N+fh7fnT3bnb5thBdV1XVYluVOON2AF4RQL9b79+8xtWtX18eJjBYeK2tTxeKJHP0c3GbHE1ZF6PW+vdVyjCLZZFRtAtu2qMdlg9g+v6N/214P15NcDROD9n7nO4FEmMQXFhZw7do1fPOnPwUaZwBun0E9hOZ3gzZX7RocFyn0ZTOOe4htUokEYpKEarWKwcFB/PiXvyAWi+Gf//wnFhcXt/y+3UQJoH1Mnm4nyTIa9ToalLr6NeN3Y6B1VYUkiuDgKNLZtu0fz+qQSGjtMF2pVPDTTz9hZXUVP/74I6anpze9pO0qTKDesyAIPWkHCG1oXww2LabpV3gjDLrmQNPGsq2tqjivcWd/cwDHbzae5cCxwPjmPfH83WpKuvXTfbcLadxevniB+/fv49y5c22Ttc4uOciSFNpA9zLRs+OFBWveGnYbFguu1moQBAFHjx3D6dOn8eDBA9y+fdttPMEaNqCNEe5Ybg9AliQoVOHya8fvwkDbtg1L112NAp22u4mauW7iQROCZ8+e4fK//42Z6Wn8+dy5nqk5YYc4C8/02gWCyUe2o9qtrK5CjsV600aIgKjsDQZ7m4tAAhEyBu0iiMHT4Rj37t3Du/fvcenSpdAiVbIsg4PD0giCTjsJRSpU8UMELzoqXTUeiyERi6HeaLjXMpLL4ccffwTH8/jvf/4Ti6XSZriuzaqwXXKSbScIAizLQrVSCXV+XxK/ixi0pmkAIZAEAQRwJENFsW2c2Q8shlitVnHr1i3wPI8fL11CsjWO3a3nHIb2RggURYEoCD0LjDOP07btwAKPd+/eYfd2hjdar7nLexcmprkd6KZ4qXUSanfFlmXhxvXrIMAWwaNOYCvGdiwNpdHoW7unsLTNbioQs9kslOVlVOt1DA0MAHBoeSdOnMDy8jJu3riB0bExHDt61F8q2HuewBY5UnoBLj9bFASsrq1h7gvou0TB13tmEaBpGkTO6RJtmCYsQiD5JdY6DC5d1/GR9mfbPTWF8+fPOwUu2xXK8DsHKoka6wOR3jXQAedv2jYWPn3Crqmpno8VhH74vG4V4RfwoKM+eTd+HgKqouDfly8jnkjg7Nmz0alwHAeZypAGxWX7Ed7wHi/MlXVTki9JElKJBBRFgeFZERAAwyMj+Mt//AcIIfjnP/+JpaWljvsLNLr0c1mWUatUHOfuK8bvwkDrqgqJ6h/ruu7OkFvQZtBYloU7t2/j04cPbsNMVVFcXYKmuGWXCDNkNUUBT+OLvULgeYcBYVm+3xcXFzEwONhzQ88o6KaJgJcDHXZr4mSTQIhj3EGdOrewIWi7lv9HDnF02D9DpVLBT5cvY3LXriY1uqhgK0UjIMzRUJS+Pt8w/SCjVK96kc1mwcO5NwAAQpyxSwhEUcQ3J0/ixPHjuHnrFp49e9ZxLLX7VhJFNBoNKIrS1bl+Luz4EIdlWbB1HVI8vhnekOVIS1Jd03DlyhVkBwYwNz+PeCyGUqmEx48fIxaPozA2hsLoqFN9tI1enGlZ0LvkPfuBvUxBL8z79+8xtY3esx/c5b8P1bHVKDp/OlxiL4UtZNE0ZWlQ5gdH2Rkhz5H930b7SYXR67xhjU7So0tLS7h165YjeNRjeIkJARmG4TupN+r13hgcLWATXLtnQAjpqrGvIAhOe6xKpUn32ovRQgE/XLqEX3/9FYqi4Njx44GVu15Rf79jWaaJjY0NV2nva8SON9C6roOHM1ANwwABIsVuG40Gfvn5Z0xMTmLXrl1YWV3FxMQEpqam3OasxWIRjx49QrlcRqFQwNjYGAqFQt89T7bc6pccottnzseD1gwDpaUlfPOnP/XlWEFwS5ip0XJfmJDxTK+x+yKxQk9y0u9sid/fLdflpeq9efsWTx4/xrffftsf3jldbbE+la3GSlFVFEZHez+O53idJqBe8gWZdBr1Wg0b5TLyAfcnkUjg/IULuHbtGm5cv47Tp0/78pkDY9FwDLQgCFhfW4M9M/PVxqF3vIFmgikcz0NXVXA8H1oYZmN9HVeuXMH+AwewZ24OtVoN4Bx9WUEQwPE8hoeHMTw8jEOHDkFRFBRLJZSKRTx8+BDJZNIx1mNjGB4aCuddBxTJENuGRrnb/RwsQUUGCx8/olAo9LVBrut5eoya622x59TFyiBsNd92oBslP9JiwNj1//b4MT59+oTzFy4gk8k0Fbj0EjqTJAmqpsEwjC0CSn2NQVME9S4EnHFMCAmlEeIHnnOavpZrNegBqwIQAkmS8Odz53D7zh388ssvOHv2rC8lNciL5igrpVardRV2+1zY8QYatg2eemamYUCOxZpnzIAsfKlUws2bN/HNyZOYmJgA4MyqPMf5F3cQgngshpnpaczs3g2bEKytrqJYKuHevXtQGw2MUu96dHTUV6GrHXlf03UQQiKJxoSBIAi+NKz379/31NaKFXr4Ga8gg9bta/BFdTi6MNDMw2Tb2ZaFm7duQWk0XMEjZhSavG6a1N38KNwdY2EOXdd9DXQ/QxwA3Io8v9AZe3e6cTIInJBlMpVyu4DLlNHR+jvAKcQ6feoUfnv4EJcvX8a5P/95S9fwdnkLQRC+ei70zjfQdJCw8IbvjNvygr1/9w4PHj7E2bNnm/RoWaNVMyCp5u6H48ADyOXzyOVyOHL4MBqqilKxiIVPn3Dv3j1kMhk3HDI0NNQxPqmqKgRB6HvHEM7nRWooCjbKZYx2KIZwK/XgYxzDajS0lG93A9u2wUcofOgnutXCZttomoZfr1xBIpHA9+fPB3uWQfF1z4qrXWhBZu2wPAp3TI8mvg3SmkGUOxZOi6Lb7VZ00mpRQRCcrtyKAjuTaW/sOQ5Hjh1D/OVLXL58GX8+exYDXh45u38+58rzPOqKAtu2v9qS7x1voDmPgeaoiIxJPO2UWgzE02fP8PbtW1yky0wvRMor9TPQWx6vx1iDECTjcczOzGB2ZgYWIVhdXUVxcRG3b92CbhgoFAooFArIj45uMcKGrsO0rNCqe1HAXlbvi/vh40dMTExsMRbeeLH3Onsxi96EEgl4UTqBtJ7TZ0S3Xj/HcahVq/j1yhUUCgUcOXy4u2vwbOPlZHMtnzGFO9OjcKeoKmKxWFcJuzDn5ZcsZKudsCEOgk35UC+SqRQaioKGomx5L/yeyfz8PBLxOH755RecPnMGo564e9DExvM8bNNEvV7vvYP9NmHHG2jQDL9uGJuE/NZZk/597949rK6t4eKFC75VgYyWtqXHWSej0mJ4BI7DaC6H0VwOOHoUtXodpaUlvP/wAbdv30Y2m0VhbAxjY2MYyGahqqpDrduGlvBMYIiVyBIAC58+Yd++fZtNZVsM8nahmz6EAO2a8YWSON160Gtra7h69SoOHDiA6d27+3tffTxtpnBneJqiKo3GtgrT8xwHq+XdMC0r9P0iQKCYVzwWc6hwPgY6CJO7diEWj+PmjRs4euwYdlOGUtNE4n1P6Zgqb2z8YaC3DTT2LDCZUcDX4Dx58gQb5TIunD/fluWNG5rbAAAgAElEQVQhiiLsFgPdawohnUohPTuLPbOzME0TpeVlFItFXL92DaZpIjMwgMmJCaTT6Z6rB1vB08nDJAQ8HErh+vo6crkcgM8X122trou0rW1H7wjSR0Q9708fP+LO3bv40zffoDA2BisoZNZnSKKIhmG4S3ZFUba3cwjHbWldFjZc4BWkCkIqlcJGuQzNJ7YehFwuh++//x6//PILEvE48vl8Mw3S40xxPA/wPGrVaqh9fwnseAPN2bbDAZVliNRAb37pvFoLnz7h3bt3uHTpUkcDKPA8TO+szpZfnQwZ+77DoBNFEYXRUUcM5/hxLC8v4+OnT/j08SMePnyIoaEhN3adyWR6Yj0QON48AZxVgSRhaWkJuVzuixq8qOiWV/u5j00IwYsXL/D61SucP3/+s+mbMIiiCI7jYFoWeJ5HuVxGOp12v+/EX44Mrrm5bBgGB1u1hUmAJhIJVKpVNOr1TQMdIkyWyWZx6tQp3LhxA5d++AEp2suT0IpUL3iO2yyM+Qqxc95SHzAhdMuy/BvCAqhUq7hz9y7+fO5cKIaEIAjQPAphBIi2PA0TZ/UYc0EQML9nD9LpNEzTxDL1rq/8+isAuDS+fD7fNoHoxmlbBz/PQ+B514tbLBYxNj4e/nr6APZSdgNWpPKlehGGDXEQ28bde/ewsb6Oi5cuIZFIwDLNyFrQvUAUBHC0qlCWJJQrFUzu2uWOR/cJsPhxH2L73qIjl8Hh40EzL9aOEAIRBAGJeNwVUWI5ojAjKT86ir379uHa1au4ePEihAC6HsdxUL5iJseONtAwTZimGVicYhgGrly5gmNHj2JoaCjULgVR3Czs6JYf2cGbZkkLtYVaJ4oixsfHMT4+DkIIqtUqisUiXr58iZs3b2JkeNjxrsfHkU6nm6laAbxUdk0GPVaxWMSBAwe6u64u4Oo5d7n9l+RAu8fvcGzDMHDzxg0AwPkLF9yx6PUuPwto0YqmaUAigUqlgsN+bZ08YYmmZGOXSUyO552QBWNw+CSfu6VKplIp1BsNNBQF2Ygrkvk9e1De2MDtO3dw5vTprSJWdGxpmuZOAF8bvr4zigLLcgX2W5MNBMD1GzcwMTERSetYoLQ0RvnpCQEUM+YFqIoCgSZ3tm7KIZvNIpvNYt++fTAMA0tLSygWi3j27BlEQcAoTTTm8/m2STRREKARgvW1Nciy7N/hfDvBChu6wBetImRoMw4URcHVK1cwNDyME8ePN4VDvsSkIooiVE2DpmlQFAUpT4jDD6RlXHYzmbJkodXC4IgSzgiCLMuIUYZKOpWKRofjOJw8eRKXf/4Zz58/x779+5smTMOy3JVZvVZrpud9JdjRBprYNkzbhiTLjqg3S4gQgocPHwIAjhw5EmmfbHlm+oVNegUNQXAcB5N2TGkl1vuBEKdTzPjEBMbHx4ETJ1CuVFAsFvH06VPcuH4duXzejV23yksKdOm7sLCAsR5aH/WCbpOEruf1BaVGg867vLGBq1evYm7PHuzdu9fXIH/uKjVJksBxHNbW1yPnMLzdaHjK+AkFukqyaPiC7cPuh5MDx4teW1+HpuuRi254QcB3336Ln376CQPZrEO/ow6dbVmuTnatWv3DQPcdlgXbthGTZViWBYtqEbx/9w6Li4v44YcfIscumTGz+r3k8fKmbRuqpoEDILfT3WAvTGv4guMwMDCAgYEB7N+/H4auo7S0hFKphCdPnkCWZYxR73pkZMT1OhZKJRw7erR/1xQBXTM4vmSIo82xi8Uibt+6hRMnTjhxXh8wj/RzmmiO4yCKIiobG8h02bXayxtu6g7f5hlwVFJAEIS+V37G43EIgoB6l7TBRCKBb8+cwdWrV3GB1j+YpgnQohjbNNGo1/tyrv3GjjXQbAa0LQvxWAyqpsE0DNTqddx/+BAXLlzoSrJToLxhw7LQH8mirSCAW+EV5HU1xZU7DHRJlrFr1y5HGY0QrK+vo1gq4dGjR6hWq8jlckgkk6hXq02VkzsBUbtzbMexW4/8+vVrPH36FGfPnsVwB8GjL6HyIIkiqrUash3CG2EQdgVAbBu2afZV24WB53kkEwlUajWHUtvFMYZHRnDo8GFcu3oVl374AaZlgRACieehAY4Oz1eIHWugYdtuzEuUZfCGAU3TcOPaNXzzzTcY6NJ7kGgbIV3XgW2K1eq6Dk4QEIvFXM+E8ywvXXSZtBkaHsbQ8DAOHjwITdNQKhbx7PlzmKaJf/3rX26RzPDw8Fer4sXAmrnahLhxbLcEnU1kLXFOQghUzoIuAxb9WJMBzTIAVXUTl/D8n/3tLcm3KEvI60U+evQICwsLuHjhQsf4Lrjw+tX9hCiKqNXrHUv5I8PPq4bzjEzLcoqitmk8JZNJVGs1VOt1DProc4TB7Ows1tfXcf/+fezbv79phdyo17suStpO7FwDbVkudYy1h3r9+jWSqRQmqfhRNxBoL0Nd1/t1plug0w4wblMBZoC8lY99QiwWw+7pabz/8AH7Dx7E2OgoiqUS7t+/D6XRwCjlZBfGxvou1OTCxwtzdZ5b/t/6Wb3RcGObUaDDgibDzXgZMgfNNkFUNfQ+LNNEQ1FgWRYEQcCTx4+h6Tq+PXMGgihC1zRwPA+eo81pfYzT5w5xAJsGuu8iSRRMQZKFFEGprhzHda1i1wmSJCGRSDiyqp30OdrgyOHD+D//9V+Y2LULw0NDbrGMbdto1OudJ93PjB1roIltw7IsR+CIUn1ev3mD7779tud9y7HYti15iG1DpzxV4jHKzJPbjpeZ2DZWVlYwPTODoeFhjORyOHz4MFRFQbFYxGKxiAcPHiDNBJ4KBQwODfXkXTPalWlZMAwDhmE4DWyp4Q1aOrOO3TzPQ6Dl74QQ19i4MqYc1/R36/YckSDXNskj6RpBRowjTldW3nNgHF1WlMT+Nmj7MZ7jcO/uXcTicZw8eRKAE6LyA0/HIjPahm1D5DjwgvDZViuapoEnBLwohiuyCgt6b1jyj3GpXX4ztpdtk6L6HKqqdt1nMRaLYXZ2Fm9ev8bot982dQz/w0D3E4S4us0A8OH9ewwMDLj84G6XKgQOtceiL2i/S69VXYdNiJMc9DFSPfNSfbC2vo5EMol4PO4YHPoSxRMJzMzOYmZ2FrZlYXVtDaViEXfu3oWqqhijnvXo6GhgEwGvIbZoXsCkyVsGpm3CPCxmgJnXybPPuK2KdTaNw0dtYuAn8cQmcuf7EPugVWb37t7F5OQkDh0+3LS8J7btUjJt7990RWTqOgzLgsqSZnBWaLwoOtoZPL8thrtcqSCdyYCH03fSt/1bFHjDSdia/OMAGKYJgVYy+mmF9AOJeBwizzsSqt1qXHMcpqam8ObNG1Qqlab9BOmCfEnsaANtM4qdaeLZ8+f406lT0HQdkixD6Na4EYKYLIPnOGgBbXe62y0lxes6ODhhmXYDwvsS9DrYi4uLGKf0Ots0AZ8kCy8IyOfzyOfzOHL0KBqNBorFIj59/Ii7d+8im8kgXyhgNJ9HKpWCbdtbDDFARXsEAbwsOxxvQXDjyN3AJgTiF4qTr66t4fadOzh06BDm5uaavuM4DpwgtG3qSeC0YDNMEzZd8Vm2DZP+290X+mu4K+Wyw+DgOJiG0ZOBDmO0bMty9FIoxY85Af2mGBJCkEgkUK3XHQnaLu6PQd+/udlZPH70CKdOn3b2DXw2zZQo2LEG2jJNhx/M83j54gXGCgWM5nKoVqvQelgCAU6Ig+c4qLqOXhc87jKaelW6riNOeyZ2ah3E4HrVmzuN5F0vFIs4ceKEq9MQxheNx+OYmprC2Pg4dE3DyuoqVldW8O7dO1imiVwuh3w+73rXoiC44aYt10+NUzf4UlKjHz9+xL27d3Ho8GHMzsx0vR+mMtcKJlHQznDznNOpXqTtmURBCHUvKpUKBgcH3TZwoXML3pBPm8rUVjB5XlaKza6PEEfKoJscgu/p2TZisRhq9TpUTYscYyeEOA4Sx2F+717847//21ldJhKuw/e1YUcbaMAZHC9fvsQPP/wAQRAQi8fRaDQgU6PRDZj0p95Dx1+vYWZg8S6X+8yF0O3wwB3i3lh1BwOmKAoajQaGBgdRrdUCmxHY1ECYpgnDNJsMqigImBgfx9SuXRCpSlqxVHIb6w4ODrrhkGw26/8yRrzWzcvb2mdvO0EIwfNnz/DmzRt8++23DqunFw8+4NwZX9nv+F7DbZomFDpuOMA12CL9v9/+y+UypqamIEuSU+Jv28HX4DXKXTKILMopZu8b8545VuHLcf0pe6ehLo6ubqMaaN0wYFkWErEYeFHEgf378fTJE5w4ebKt9OmXxI410IZpguM4vHz5EpOTk275cjwWg6IoUBsNpCPW7nvNRywWw7qqth/cQfsIWNLrLLxBX8x27Xg6IayxLpVKKBQKm3rBNLnFXn72n7fNlyiKiMfjkETRVUjzIp3JYD6Twfz8PCzTxPLKCoqLi7h69SoIIW5F4+joqLsM7YbN8LlbXRHLcgSPNjZw6dIlELri6X6HZIvEZSf4GW5CyOZzMk2opgnQBsNeYy1QD7ZcqSCTzTrxfp53xJO8cp10nPRahs1gUpYLQ6tONAe4SnKcIHRlqL1txGK07iEKbNt2kqf0PSAApqen8fLFC2ysryOVTP5hoPsJi3p6b9++xX/85S/u5xznNJ2sNxrBTSeD4BlUTN5QN81QWrR+HnPT94C/rm0flvC+xppicXHRFV+yLAuKojTrL1DPR47F3Bc9ikEURNGtWiSEoFaroVgs4vWrV7h16xYGBwYwSrvJJJPJyKXH7By3G4Zh4Mb16+B4HhcuXoQoimjU6305dq9UO47jIEmSmw8hNEFumiZMy2oyVixvwtMqOZ7nnV6dbFts0uT6AdtTzes5Yf9EPce5xjlseI/B+9tYLAZF06DreugmFxpdScRp6JNx3vft349Xr15hYmLiDwPdT9iWhaVSCRMTE1t6rsViMaiKAqXRgBS05G5Fy2CRYzEIcOhUnQy06zW3+Q3zxFoHFNfnZIr3Sk3LQrFUwvz8PNbX12FSr5mDU/4qiqJb2t6XY3McMpkMMpkM9u7dC8MwUKI0vucvXoADXO86n893FL5xDfQ2JwmVRgNXrlzByMgIjnsEj3rWofZMMH19xhwHUZJcHQkwD9uysLKygnQ6jTqdXJgjE4vHt2WiYw2JvV4/o9u1u2ZvCCSUnKtnX4l4HOVyGZqmhTLQlmXB0HWINAkLwJWBnZiYwJOnT1GrVv9IEvYLpmk6XbXX1zEzPb31BxyHRDKJWr0OTdNCJUlah5IsSRBE0ZFubLddyGUiM9Bb4o5dxmaDYBMC3TBg6DrW1tYgSxJ4QYAsSUhJktN5RpLcWN52QmICT9Q72djYQLFYxPPnz3Hjxg2MjIy43refwh4rItjOGPQGFTya37MH8y2CRwToaXXz2YSSPAa7Vq0iNzKCeDwOwzBg0lUTOA5xWYYoy5FXSe3AchqtBSp+7bBawVqgdZrAWlcgrLmypmmhmiKoqgpCCOKx2KYDw1a8to2hoSGsrK19vucVATvSQFuWBRCCtdVVnDp1yvc3kixD0jSoquqyMqJCluXAgoR2sWa/37LwxnYYRcYOMSili8B5QRqNBkZyOQwODLjHVUXR9XrYC8KauW7HuTFPieeaBZ50Kp9aoop8kixjjHrXTOCJbHMMupPgUU98ejo2vAU12wXGUeYArKyu4uiRI25IhMkJcHCSZLphgIMzeYqS5JtjiALLMPxFxYLCHD6/szvR8nycmHgsFopuxxLecsu7xyYGmxAMDw1hZXn5jxBHv0AIQZWSzOM+BQwcHKOVTCZRqVTQqNWQSqcjD8Q4pfS0JgpdGlJI6DQL78ep7jZRyIyyrutu0wKB5xGLxxGjL96LFy8wms83XbckiqgzVgCrxGPX1GeD3aRj0fKdLEnYNTmJXZOTIIQ43jVlhVSrVeTyeYwMDyOTzXatq9IOr1+9wtNnz3Du7FkMBQgeEdK+fVMnuPev33xgbD4r91hw4uiVcrmpOYUgCJAprz+eSDihEFrZyYy1SI15VGNtWxZswFcgKUyYw/0t16yeF2abWDzekW5n2zZUysSSKUfb+yzYsYaGhvD06VPXcfmasGMN9Nr6OkbaKImxQoJEMolGowFOUUJpL3sh05b1qqYhkUhE8pq9MGiYJKjoJUqM0jRNqDRBwoxyPB6HTF8wL1ZXV7F3796mz0RRBM9xME2z6XxavQsv7apbo910Te2WsByHoaEhDA0N4eCBA9A0DUtLS/j06ROePnuGZCLhtP4qFDA8MtKT0SSE4LfffkNxcbGj4FHfxHPCepPNB3e3A7BFT9tvT2vr6xgcHNziUYpUW8abbIwTR+CIFdIYhgGO0ktZWKwT/OLPXnA8DxIxrst0TzqNHbYaDaLbEULQaDRAbBuJANVIwDHi8VgM8VgMq6urkc71c2BnGmjbxsb6Oubn5+kHwUyIWCzmzKSq6hqzLfsLOE7MkyiMx+NdlbASAJphIMZmcD90iEMTGldWaWseDs7kEW/D9VZV1TdGx16mVgO99ZS2lvOiZSLx0w0O3B/PAyFf1lgshqmpKQyPjEDTNBBCUCoW8fDhQ9QbDYzm8yhQg52IIPBkEYIb169D0zSngXCn5G+fimQ4OCGnjmOHbJZUb/H2QhxndWUFQz5ysqyjjnclyHEcJFGEJIqusTZoJxZN0yCJosvsCYKrqRwwYXJdrBy8HGoWJrJ9Jrd2dDtmnC3LQoJqSdONttxTlgjO5XIoLixEPt/txo400KZhYKNcRi6Xcz7weYm8iYVEIuGoVSmKmzBrQsBAYu2oWJKhGzCRoHbGICjMYVHupqZpsOlyO5VIhIqpr62tYXh4eMvA5nkegiAEFqx0gt+LAni8ZW5TRMduXYZHZTPQax4YGMDI8DAOHToEVVWdIhlqsFPJpMsMGWoj8GRIwPXSM2QKw/j+++87eog9U/xatiOEgHjuDfvMj4rW7ZSwurqK2dnZLZ8LguCsmiwLkp/insdY25YFzTBgaBoM0wQvCIhJklOw03KunXQ+WPy9m3eHbcPzfGBsOIhup6qqUzHbOsG0nAcrTpFEEbl8HovFYuTz3G7sSAO9WCwilUy2F9BpmS2TySSIbaNeq4FLpze9x3aeK5xYV7lSgU26q2jTdR08gsMbfudrUG1r3TAc8SZRRIyGMcJidW0tUExeEkUoEYn+neBnuL3GyOsRhdkecOLsrTS3eDyOmelpzExPw7JtrK+toVgs4t69e1AUBaNUjS+Vab5X948CUwNDOHLqVCTaZcfftoYgPNfZxDnmeYB2KG93zd3Ctm2srq35Js0FWnFoWVbHccgLAhKCgHgsBkPXoRkGFFWFqqqQYjHEaPjDovobYodVSBg2RycEGXk/uh17b2RR7OyIsUQuzyOfz+PBw4dda3xsF3akgf7w/j0GI/YP4zgOqVQK1UoF9Xod6UwGoiAELjvZy5VIJlGuVtFoNJDuQsBf13W3T1zb8wOgUG/ZpNKNsXjc8QK6GDCrKyvYH9C9W5QkcJrmqAFuYydjL02NMUuCXlZ3Gev53qZSn17v3NmZ81uB5zEyMuLIpx45AqXRQKlUwsLCApatJcSPA3LV2WS6Esehb7/ZrEhj+/MwILznzcT6WfGPd7Jh5+CGIrzX6zHY8B5nmxkClUoFiUTClxfMcU7RSpQkGMdxkGMxyLEYTNOErmnuf16vtOP46UOimZX7s7Jx99iUbqeqKjKZDHTq2Ii0GUbTfrA1TMT2y9PYfDKRwMLCgtOZ6CvBjjTQ5XIZo5OTHY1e6xKS43mkMxlUq1XUqlVkstlAr5h5QCzOW6/XIxtoy7IcNbY2g5gQAk3TmoThU8lkT5Q8izhtr7zZfC+8cejtNNCtuQHS5no49nv2W/pvzhs/hIdp4jWsdLt4IoHpmRnsnp6Gbdt4dPMeXn54Ddu08HrCQuPeHUdUa2zMMWSel989pnvqHg62xxt2n0mnUESLQe53sUorVlZWMNymnZkoCDAMo6vEp0hL/m3Lcqh6uo4GrUhNJJNtk7a9mGfv/WITeOsdZHQ7XdedPp8c58vs4lsmf8BxAIiHBpkdGMDa2tpXZaC/Hl8+AkinlwObPMdW8IKAdCYDmxDUazW3GMLdN6j3xPbD80gmk1BVdctvO4F5LEF92nRNQ7lcRqPRgMjzyKTTGMxmHUJ9D55HeWMDKW8YpwVu38VtpBX5Jdhcdoj3dy1/e79nsUdmHL2MBhKwDTvOi+fPsbC+hL/89a/geB4//PADhoaH8e7DB/x///t/4/Lly3j29CnK5fKmlrPnP29jgaZj05BF6/GaPHCfUM72MqGd+HM7VhOblHvh+vKCgHg8jnQq5RrteqOBWr3eNqfRbchgizKiz2exeNwtggJxGjuEfXdYjsSrF/O5dF/CYkd60N4EYDsGR5DXIggC0qkU6tUq6rUakqkUBNpm3vbZXzKZRKWLMAcz0K1eqmEYbpZZ4Hmk02mncwhbVveItdVV32y+F7IkQdvGtl7udbD7SZrlHIOMNFo+jxr3t20b9+7eRblcxqUffnCXuslUCnNzc5ibm4NlWVhdWUGxWMT1a9dg2TYKhQLGCwXkCwXHmLWJQbt0y4DzbwqNeMIyfaPt+RxvZWUFBw4eDPwNSxR6m1x0C5M2h00mk04iW1VRq9fdXMl2tb0CmlcxjKdu6DoIcQpOAu+vz3tFbHuLUf7DQPcbXd5QSZaRzGRQr9VQrVSQSqedmdRnf92GOYyWKivLNFFXFJiGAY7nkUomHa41O2YEKlo7rKyudmwYKooiVF13wyrdwhvP9Xq4rLsI/VE3O3b+H+H5GoaB69evQxAEnL9wwVEtC5igRwsFjBYKOHbsGGr1OkrFIt68fYtbt287bcFGRjCQzWIgoiKic8pcs8cNZ9Xnhm38PMPIR9lEo9GATYhvuTwD62BjWhbCyQsFQ6ecaVEUIQJuD09N16HXaojJstP0IkL3Gj8EOSvMSOuGAUVRIFBmUpCnHnR/WdjEa/D/MNB9QJRb2O6mS5KETDaLaqWCSrnshAX8kiw0zFGJwOawCYFp24jLMmyqh6DpOsBxSCQSiPuI13Bwepz2OkRWVldxsI03BWyKq7dKRbaDy091/rEZm2X/9oAjWznjrUnATscCwt+LRr2OK1euIJ/P49ixY+FFjjgO6XQa6fl57KHyqUvLy1j49Alv3rzBg4cPXb2QfC7Xdcze66ltuQMeCp77EcJf+9raGkZGRjr+XhTFnldNrBeoNxnJ0/oCSZahqapjqHUdsVgslBJk5HMgBIqiOAwpmldS2mi3+8WfAfgKNf1hoPsAjuMQJpIWJqYk0Jh0o15HrVZDPJFwih9awxyJBCrVKpRGo62nwmCaJohtO5xtOnhisZgTI2tjPJpYC11AURRYptnxHBn1ymwjp+om5LAZVw07gIOugGvzXeuxgXAvzMb6Oq5eu4a9e/difs+enpgDgihifHwcg4ODmN+7FzzHYbFYxIsXL3CTCjwV2gg8tUXQBOVnuFsTrAg22J0ShAysQi+qxrkXBqV+ij75DYE6MrJlQVVVt+I1HotBCFjNRAUhBHUa85Y9WiOKosA0zbYJeb99tUo4/GGg+4Sww6tT9pz1T0tnMk7HYI+B8z68eDwOURBQC2mgFUVBtVZDJp2GHIshGY+H8r56zfYz/nNHWh/n6ECbVJejFaz5ab/jc2ENtB3SQC8uLuLO7ds4efIkJiYnez4/BkK9q0w2i0w2i3379sEwDCwvLaFYLOLZs2cQmRZ2oYBcLucWvwRyvRHu2p0fNzMWuFaD7Xk2K6urODk11XGXgiC4qya/gpUw0EwTPMe1LVARaY7HME1oqoqGqjpaIPF46ISh3z20LAv1RgO2ZSGeSLg8Z1EUQaiz4Wugg6idtg3Jcx1/hDi+IhDidKP2PpBkIgFBEKA0GqhWq0in0+5LFzbMQeDEBMvlMkRBwMDAQKRZvVfe6OrqKkZCeFOAEzvUDMO9D74hiS4RaIhowUbnHXQ20K9fvcKzZ89w9ty5UB5kFNg+x5YkCROTk85EQAjKlYqrxlcul5HL51GgzQkSEdsxdcIWiiI12IZhoFatYmBgoOM+BEEAx/OhClb8YFsWLNMM3WFdEkVI6bRLy6vVao5uTBdhD8MwXGpfKpVqCst5J55WBK08mPZzU0XpHwa6P2i6iW1YHJs/8bnxAU0xY7IMkedRrdVQqVaRSibduHSnMIdpmqjV627iLZvJRDPOnuvr1oteW1nBwcOHg3/giQ2zFkmGYXTUpYiMNl5kuM2Dk4TEth3Bo1IJFzoIHnWLjmEAblM+dd/+/TB0HSUqn/rbo0eIx2JuCfrIyAh4Sm3sGxeaso5KpRJy+by7f6CNB089X8M0EV7BZBMG1YGJatxlWYYgCKjV61BUFaZpRvKmVVWFquvgOafYrNU5kiTJyd/4TPxB8We30W0Lz/4PA90HSLHYZrKj01IePnzKlpLbVgiiiGw2i3qthnqthgQtK28X5lBU1dH6oElAgugDefOkwyfTvLBsGxuVytYCFS8lzLNfiSrbGabZdwMdGDONmCRsfRkt08TNmzdhmCYuXbzY/4nFc/wo3BZJlrFr1y5M7tqFk5aFddqc4NGjR6hWqxgdHUV+dBT5XA6JHjrOt6JYLGKsUNgaEgkw1gJdNXWznNcp+6gbGh2jtqqa5oh+0feqtUbAe75uMtA0IQoCEm26wgi0ECcsLMtydGl4Hhal2+mGEXp18LmwIw301NQUXj9+jBMhB1kr7YkArnxmEHieRyabRb1eR6PRgK5pSKZSW8Iclm07RH3TdLqWpFLQqQJbN96ze75dbFcul5GkRQStAz0IkiT11hjVBy71rsd9AM2Tq6qquHb1KtLpNM6cORNKErOX43eTSOPgjC1XPvXgQWiahlKphOLiIh7cv82l3/8AACAASURBVI8ElU8dGxtzBK265Q0TgsViEfv37285ic3x08rFZt1UbNuORK+0LQu2ZW12pO8CHM+7AkaNRgONRgOyJDUxmpg4kkEpdDZxOqF0CotIkrSpL+N9t/34z4RsUXM0DAP1RgOTfcxj9AM70kDv2rULVy9fhmEYkeJZjI0QBalUCpIsQ6nXUa1U3DJjRVHcSipCCFKe5gEGTaT0YkC6aVNfqVSQoVWSYT1ViRasmJbVNvHTN4RcHbiVnPTFrVYquHLlCnbv3u1QCLdxKepWAvbpGLFYDLt378bU7t0wDQNrVODp/v37aDQaGB0ddfWuYxHkUzc2NiDLMpJtktatWiECXTXZEfnvrFNP16tCbK6oBEFAOp2GqqrQaVsulv8xTRONRgMm9XBT9PNOEEURRFGciYeGf9wx1PJb1sHe60AtLS1hdm6ua6dqu/B1nU1IyLKMZDaL0tISpkLWzZNWoxXBUMuSBGlgwFmeUW+6uLiIweFhN2PtHUSGYfQ0kIHoXrRNCMrlMtLpdKRrY0tM0zA+j4EOCW8Menl5GTdv3MDhI0cw7deDsv8HB9BdL8R2d54V9Izkcs0CT0tLWFxcxP0HD5BJp91E49DQUFvverFYxOjoaOhz8xpr07YhezntHaAbhlMQ0qcqQY6GAkVRdBlPPOco7nGU8RFFvVEURZc2ylMdGw7wjz+zRgOMAMBxWF5dxalvv+3HpfUVO9JAC4KA0bExFIvFUAaaDcte0jMcxyFBY9Cl5WWsrK8jlU4jS/vnMViUntbzTNzhpXHLiT2/q1arkYVeeKp5rRtGqOa6odDh3HmO66hrwmhuH96/x4MHD3DmzBnkIxijXtBTs9oO19W6x0QyiZmZGczMzMC2LNe7vnPnDjRNcxsTjI6ObomPlorFjgVJW45PV3YsD9OUDA2io9HwRhTvPujYrZAkCYQ4Lc9YDHhwYCCyfofEEt6m6cgmtAl/svizt3BobW0Ne/bsiXpJ244da6B37dqF+9ev49SpUx3jnVu8hC4z6bZtQ1EUJwnHcdB1HZVKBfF4HMlk0qH6dGgDFBpcgNh5m+q9SrUaqstxK2RJcihMPRQwNJ1ipx+ECHPYhODNmzcoFYu4cOECMtvQlzAI7RgkITZu/32bffKCgFw+j1w+jyNHj6JRr6NUKuHjhw+4d/custmsEwoZG0MiHkelUmkrkBQEQRDcvEPT86ZeZ2ujBaZLHiT6FQXeMc3eJ4NS9xKJBAzThKqqbdtU+V4TWwl6qXbER0qWkC2VkLVaDbwobjYA+YqwYw304OAgqpRbmQlDs/IahS5YEpZto1Z1xIVzw8MgtEOLLElQVBW6riOZTDoGmpCeBWlaz9Md1AjQFbBt1Ov1rihnrd7HdqPTa2fbNn57+BC1eh0XL13qn2cfEr10U+kUuw6zemBIplKYnZvD7NwcLNPEyuoqSsUibt64AVXTIEoSisUi8vl8JDYL01b28zK9SUWW7DUMo63WRRSwBKWm69BopyLW6JjA0U9XVBVEUSIp0/EcB5HnYVEHydX9buHdb6HXwYk/Hzh48Kuj2AE72EDzPI/c6CiWikVkWG9CH7DEoHfQRfWfLctCrVYDAKTTaQiCgEwmg4aqAjyPAUrJq9VqUDUNsR7lQhk4+jI30acCflur1ZDsoM0bBNbNuV8GupdQkmEYuH7tGgiAU6dOfXbjDMBNznYV4ui0TZcUSkEU3dg0AFy9cgUcz+Ptu3e4dfs2BgcHMU6ZIelMpu34EyiTg9j2pt52AGzLgmXbfXsOpmmiXq/DoiyShJcPTYgz/jgOiqKg3mggmUyGfg6iJMFoYSSxZ8n2wApUvA7U+toavjlzprcL2ybsSAMNODd4cmoKn4pF7GljoH0R4QWxaPEJAKQzGdcAJpNJxCQJ1Y0NpCcnMTAwAFVVsV6pwLJtiKKIRDzefbLQo30RhnlSpQyObtFXul2n8w34ngkejY6OYnpmpj+rkC7QyiAJv2GfilA6Hca2sbq6ih9++AGJZBKWZTkl6KUSrly9CmLbjl5IoYD86OiWcBtPK+8s227LNOI4DiodE7Eekt6EEKeNG2UL2bTTthsyoZMFg0wLTxRFQaNeR9KnOMUPoiBAsW1HBInnXaPs9aJNKrfKnq1FCFY3NjA3N9f19W0ndrSBnpiYwD/v3YOmqr4JjFZaXdRKLsMwUK/XHa0OJkfq2Vcmk8HK6qrb9VuSZWSph20YhsPmEARHNyAKHdDLOOE8LZraoNpl/JmB6UNHFZzxQzthHwBOrLNlZdAkeDQ/j3K53J0H2wew1kqR4/EhvON+rKzW1tYQj8fdghdBEDA2Po6x8XEQQlCrVlEsFvHq1SvcvHULI8PDjvc9NuasADkOoFQ7tDG8xLZh6LpjnNl5U/pnmKsgZLMbvU23YcUmW6qBW8DaxDUaDdRrNaeCsMPzkOh5Wi1aI8z4s0YMXnEwFiKKLHz1mbCjDXQsFsPsnj14/PQpTp44seU3fsY4rJHWDQONet3lbPq9WKl0GuVyGRvlMsbicVfTIp1MOnrLmuZSiASeRyIeb9Z/bj5ZRzO4RR+EgyMM1emMK9Uqcvl8x+sKAiuXbdWwjopuilQWFxZw584dfPPNNxifmNjczxcy0ISQrloNfR7/2TEqhQC9b6/A0959+2AaBpaXl1GkinyCIKBQKCCbyWBwZKQtM0PTdadpsZc9wiQ6SbC6oW3b0KnkqEULupIej9m07Saj7Cf7CTiht1Qq5XZtSXcw0qzRguGjNcJxnCsMxsa3RQgePnyI//E//2fgPr80drSBtiwLp06fxj/+1//C/Px8U7Kwl5fFNc6iiHQqFVxeSj3rtY0NmIbhNEQlxFk2Ui5nPBaDZhhQGw1U63UIioJ4IoG4LDfRmwjz2nyOxdNy1HaoVKuY7WGZxnEcBFGEYZroSeYnpFFlE+Wrly/x/PlznDt3bksXmC9poLtis3ymEEepVMKRo0dD/VaUJIxPTGB8YgKEEFQrFRRLJbx7/x53HzxAPpdDgRbKJL3vDyEwdB28X3KQJVFb6HmWbTuNZXUdNpyQQ0qWt4ZYgCa54E7x8lQyGcpIc2zV4/OuEGq4OY5zt3/79i0SySQORaQqfk7saAMNAHI8jn179+K3337D2e++c79vJxjDIdiAW5blGucw7JBsJoNKtYqNSgVJqmDWtDTnOLfDBCtfbdTrUBoNl4zPtJnbod05sxevlxAH4MQZa41Gb63nI2htPLh/H6WlJVy8eLG5Gq4XmlsfwGKYkfEZDLRKk2dhFQu94DgO2YEBZAcGMDU1hWq1CkVRHEW+Z88gy7Ij8FQoIJPNwrZtd0z7ghlmy4KmadANAzaccFlSloMT1p5QUJD37AXT8ahR2YVUG6fJqzvTClbezhLiT588wffnz2+bnks/sOMNtEUI5ubn8eq//qtj40yGoDAHEwPnOA6pkII2gigiRXsWSqIY2DYLcMIIkiQ55ayKgnq9jjrndCFmQkyB59ym9FtpNCDKcs88VZGWAZs9sDnCmCiTCh7puo5Lly5tWY5uZ/frMIgqlORu1/cz2YpSqYR8Pt8zX50XBIiShImhIUzu2uUWi5SKRTx+8gTlSgWDg4OYmpx05FN93geT6j0bluXQ5WQZsqfVVSC8IbywNDoaImwoChRV9Z042HGDtKQt23bH9Yvnz5EfHQ0MFX0t2PEG2rZtyKKIQ4cO4eHDh7h46VKo7f080gb1HlsTgp2QyWZRo/Kk2RBeLE87eFuJBBRVhUK7T0iiCJkO8i3eRxujVa1Ww3HBO4DR7fSIGidetPP0AUDTNFy5cgWZbBZ/OnXKl6kRpKHwuWB3E+IIOakwLZduwzeLTL2uRwiU5WDZNkRaVccEnub37sX6xgaqGxtYWV3Fb48fIxGPozA2htF8Hul02mVjcIBrmKNcUzeTsCRJiFmW01JLFLeUgnM8v6mj0gLdMBypVFmGoqp49eYNfrh06av2noHfiYEGx2H37t14+fIlFj59chNNgWADyfMgNU2DYRhOOXdETzQmy0gkElhaWWlvoFllEz0+W7ol4nHohgFNVV31PEkUIcdikCXJLUvlAd8ih14ZHF7IsgyVFhD0OwZcqVRw5epVzExPY//+/cEFGz0UivQKxqCJfOwI/OZur8syTSwtLeH48eNdbe+FQMeUbVlAy3jXdR0xUcTIzAxm5+ZgWhZWlpdRpHohCg2xFMbHMTE+7i/R2YbtwWFTtS4qYrEYLMuC6mkW27Rvn+dgU5qfLEngeB5PnjzB7t27kUylvjp50VbsWAPNcU5XYV3XkZBlENvG0aNHce/ePRQKhUB+p7cZKXuMlmlCURRItG18N8hkMigtLUHVNF9j2Vo+64UgCEhQ0r5lmk6VlaZBp/xr5qHIouhLYStXKn0rhZZl2Z2suvGigzyj5eVlXL9xA8eOHsXu3bsBbHqTQfv4Iga6yyKVzxHeWFxcxPDwcF+MCkcNdGvymVHrRFGEbpowKHc5nkhgbs8eHDh4EJZtY4k2J3j06BHS6TQKo6MoMPlUALDtwP6aHPzF9UOdN8chkUyiVqs58eh0GjxNrvOAbwya6URLkoRKpYJPCwv463/8B3iO61lfZLuxYw004MymjUYDiMUAjkN+dBSJZBKv37zBfKfiFaY7QPWcOY5rK9sY5lxkWUa9Xke+paY/TCKEQRBFJEXRLRtnxlrTdXAc58SxRdHliQJOkcpkRJGkIEiiCI7newpztOLd+/f47eFDfPftt016B0HhkK4LRfoAtxfiNoU4gOh8fIaPHz9iVx/1ihkTioHYtmv4YrEYOMNwjJgsQ6IrOYbp3bsxvXs3bEKwtrqKYqmEe3fvQlFVjNGKx0Kh4FYGtt6fTqGwdmC0vUajAVVRkPTEx1vvLWOjCIIAQRDw8OFD7N271xVU+sOD3kbEYjHU63UYlgWRzpxHjhzBz//+Nwqjox29Sg5AvV4HIQSZDuWxnWDbNlLJJBRFgaIoTk+6lpBGVIiiCFEUkUwkHGOtac5/qgqOvTixGCph9UhCIibLULoUT/K+dIQQPH36FO/ev8f58+eRbXkefstRuiH7QcQz7x2uBx31urc5sWnoOpaWlnDy5Mm+7VPgeei6DkPXYRgGdMNAvVYDT4X1wyT8eI5DLpdDLpfDkcOHHVZIqYRPCwu4d/8+MpkMxgoFjI2PY2BgwJVc7bbknUEURcRiMbdDS4zFwFv2a1kWbEKQkCS8e/8elUoFZ86cccfWHwZ6G8E0L9ziCtvGwMAAjhw9il9+/RU//vhj2weg6ToM03TFwnuBbdtIJpNO26mNjb7pcQDY9JxpxxbmUSuahkqt5oieU2/bZZL0AFmSoKpqT9octm3jzp07qNVq+OHSpUgvwpdkcXhDYBE2inSMbjzohYUF5CKKIgXBsiyYlgVV01CtVmHScAQAxOJxZNLprouVEokEZmYc+VSLlqSXikWXtcNofLl8vud3jsWjdTruWfNYb/BENwxwHIeNjQ08fPAA58+fh8Dzbvgl1ufmvv3GjjbQHMc5MVNdR4IyEIhtY2Z6GrVaDVevXMH5Cxf8BwIhUFUVsiT1ZRa1aLIym81iZXUVSsvSq1/gOA6xWMyhpiWTWF5ZQTKRcLQOaKZa4HlIkgSRhkOiThQiNfKqpkU30IRA13Vcv34dkiw7L0S7F9FH/e1Lsji6DnFsMz58/IhpGruPCtu2YZomTNN0OqPQVYJl2xAkyanykyTUajVIdNXWDwg8j9F8HqP5PI4ePYp6o4FisYh379/j5q1brnzq2NhY1yvYeDyOWr0OTdcd9buA675+4wZOnz6NTDbrsD0823/N2NEGGnBm0QpdjoPj3CTa4cOHcf3aNdy5fRunTp/efPh0CaTpuhOWSKV6iocxEMsCz3FIp9OoVCpYW1+P1Lk4CrzXYts2kqkUhoaGml5CVdNAaChE4HlIlCcthjTYMVlGQ1Ujhznq9TquXL2Kwugojh492vFYfp1jvmiSkDI4Ih074nI96lVpqoq11VV8G7Ljh9cwmabpSIvCqeATJQlCLAZREJzEdbXqVKpS2lx8G5f86VQKe+bmMDc3B9M0USwWsbS0hGvXrsGyrE2Bp3w+tMiYSOl2mq7DovFuNgHphgHDNHH75k0cPHDAbfhgEwKOEMix2La8n/3E78JAA7TNlMfb4wCcPn0al//9bzx9+nSz8wSlUamq6sZ4t7TD6gKGaTqGjOMwNDiIpZUVVGs1DGyT0DwrXFE1zX2p2PXEsSlMbpgmTF13WtdTb1WkRQos4egHmfJFo3Q6Xl9fxy+//IL9Bw5gT9iycz/j9oVZHFGPu90hmY8fP2JsfDxwJUK8HrJlgViWoxtOn7VMy623MJtogpDYNgyqo7ydeuDe8JEgCBgfH8fY2JjjXdfrKBaLePPmDW7dvo3hoSFX4CkToIXDxI/kWAy6rkPT9aZiFU3X8dvDhxgtFLbIILDV99eOHW+gJUmCIEkwLQsymr0TQRBw7uxZ/Otf/0I6ncbU1BQAuN4zC0G44i9dnoNNjSGbIJKpFOLVKtY3NpBOJt1uD/0Eo6hpquprQBkNURRFIB4HIQSmZcEwjE2DraoAAEkQINCSc4G2wGJZb03XQxnohYUF3Ll7FydPnsT4+Hj46/CJx35pFse2hzciXteHDx/czt3Etp22arbtxJJN0wmv0XsoiiIEWpXaadyxlYJpWTApT3jb0DIRs+fOcxxsODrr8/PzmJ+fh2marsDTq19/BcdxTux6bAx5T+yate7iPaFOizbDZaXckiji6JEjTafC03P52hOEwO/AQAOOF62Xy275p5crHI/HcfbcOfzyyy9IJpMYHhpyvWfvMqpb6pNNCAgtdfVW/w0PD2NxcRHr5TJyXbQl6gTWW45JnYb5vSSKjsecSDj0I9OESWVRDVVtum8Cz8MwTYduJ0mBGX1CCF69eoUXL17g3NmzGBgYiHYdfh92y+JojWcTAtBnw4x9Oz66swmJtOxlXly/JxNCCGzaKKJG5TYrlcoW/rAgCIhRDzmMposXbCJSVdVlbmwbfGh2LLzV+u6Joojx8XGMU/nUarWKYqmEFy9e4MbNm8iNjLg0vjRlLzEv2qb9Bp8/f45qrYYL5883Tbhe5pD8lcefgd+RgVax2QyydTAMDgzgT3/6E65euYJz584BHLc1gUd50VGMNIvtMbK/98WWZdmJR1eryGaz2+OdcBw0Vd1CXwu3KecYXnpeLCRiUc/MsixwlgVVVZ1lJDXQzMPmBQECx+HR48dYWVnBxYsXEU8kAvVCoqDtHogjy8p5/+2t/Gt9frQgw4+d0VotycHxUHkWp/ca/IAVFjM0vYDFf9l9Z38TAG/fvMHwyIiT0KNOBeso1E5sPzQoT7hXmmk7BDo/HmMZ9BuOJt6z2Sz27d0LwzCcIplSCc+eP4coig6Nj2pdm5aF1Y0NvP/wAefOnt2S8HRbYQFfrQa0F78bAw3O0ZAISnKMj41h//79uH79Ok6fOeObhGAUnTDD1NuKKqg8eHBgAI16HaurqxgfG4t0TWHAAVBDhiA67ouFRFo+53kepmkimUo5BsQwnEpD08Tjx49hWRZOnDgBy7ahNBrOREcTkxylM7Xel8AycnZPmZEPmCy5Vm+sS8PSup1NiONhe41F0Dk4O3DGC/1NUD9CQvdLaMd3ljuwabiCHYsl8gRBgCTLEAQBy0tLOHb8+LY1zdUMA/Y2L/c7rVoYwpR/S5KEyclJTFA5h3K57KjxPX2KjXIZ8XgciqLg+IkTvhW97tgjBEPbsLLtN77uFGZI8DwPIRZzEx1BL+yuqSnk8nncuHkT1Upl6w84LlSJr038BVlaIYgiBgYHoWmaU/G4DdBDhji6RSIeB3geoiAgmUggk80iHo/jtwcPkEwkcPa77xBPJGBbFhpUS6RWr6NcqWBjYwNrGxtY39hAuVJBtVp1tEYUBQrlcuum2ZSk5QDXSH5uRCnzJqArKBoH1mlLJ0VVXaXCarXqNnSoVCqo1Gru9bM8CGuNlkomkc1kkM1mkaL6LKqiwDCMbes2bVLKnehpAdV3eFc7rV+1/DuK/guLnw8ODmL/gQO4cOECjh09ClVRkM5mMTQ4uGVf3n9H1eH4+9//Do7j8Pe//933+2fPniEWi+HChQuh9xkGvwsPGgBiiQQ0RYFNEw9+SybTMLB3fh65XA4/Xb6MM2fObJEb7ES5I2gTBvEZXNlMBrVabdtod6qmOVWL2wRJksDDqWQTEglUq1X8euUKZmdmsH/fvqZrZktzmxAnkUX/JjSpZVgWCDUK7lbsOdHkHM9xDkWQEJfD7aUVcu5mnFs55lanoTnk4H0hvZOAt3Gwq35G/n/23ixIjvO8Ej25L7X3DjQaQGMHsXABQYqLCFKirh1he/xw7Tt+GkfYYSvk8DLhF9mvCsXo2p479txrP3ge5RjJYc14JuyJe2lRlilRBBcT3CSCWEiisbH37tpy3+5D/v/fWdVZVVnVBZAE6kR0oFFdlfVXVuaXX57vfOeLYhWE58EjE6bZ85KvI5wz/QES2mmAcaocx8WZsCCwz8XzPDO+8n2/J1986+ZNzM7O3rGOStuy4mnYd6CIzdAlkUk7R3vx+alF5SjCpcuXsXDtGg4dORLv4y7nWQSgXKlkWz/B008/DQB47bXXUv/+e7/3ewiCAH/5l3/Z13Z74d4J0IoCkxz4siSxkyv5Vfu+D0mSsG/fPuRyObz++us4fvw4Dh48uPUkrrNrXIR4yvG2xopusjCOQ7lUwsraGuqNBsp9FtG6ISCqjDspFxKIJM/xPDSaTbzxr/+K06dOMUUMAw1m5C6E5/ltLmlbT00EOhLAA6LXDUmgDMMQjutubbcDfZCKBLdJ73aq1WoczBPf6zZTHd9nQSvN15sFXp6HIIqQSRCgUzp4Lvscw+RFh1082gqcN2/dwtmzZ7N95j7he148rVtR4CX8OO4m0hIdnjSRdJI7pgX0CxcusILgJ0tLcbG0nQZL1KY49B+gH3nkEWiahtdff33b3773ve/hxRdfxO///u/j9OnTfW23F+6ZAC3LMiJBYAG63eeBFl1EErwnJiZw7tw5nD9/Ho1GAw+ePt3z5KLNMNseR/esm8ruqrUaCrnc0GR3LuGfkwf1nYAiSbhx/To+/ugjPPb447EZVFrRLGOBlQa65N1EmFITyCf9RRK0Er34JnniZLbLvo/Ea1RVbc20E5k5R7Jwx3XBc1zsGUEy3V633DtxZWN3DmS9lFqJogjrm5sAgHK5PND2e8G2bXCI1Q+eafZFL2TBoKoogNwFEW/n9seTjzi2jVdffx2qquKLX/wiTMNAhLjdPGi76CRfy3EcSn0GaEmScPbsWfz4xz/GJ598wjhwwzDwh3/4h5iamsI3vvGNvraZBfcEBw3EO13VNLiO05L90t8oPy0mpEj5fB7PPvssGo0Gzp8/D4+MmEfKiRmmBaSUNXTC2NgYeACbtVo/H6srnEQr9p1ibMMwxNWrV3FtYQGPPvYYJiYmOl6QojvJG5PslCPqBUEQmM5blCRI1JJVUaAoCptSQ/l5VVWhqCoU8neZOLRJkhRL1AidIhD9MKUiumGY7Sk0oNGgdP36dczNzTHN7jDhETmaSi7uHAa/0HRCR6/vBHodLd32f71ex7+89BImJybw2Nmz8aBaz4u/U1mOC77kM7VfLIql0kBU41NPPQWgleb4xje+gVu3buFP/uRP+paYZsE9E6ABIF8sIuQ4OI4DYCszAmJ6g56AyQNelmU8+eST0HQdL/3oRzCIBzOHrQOoK+8MtNw6dQKV3TWbTba+ncK27RbVyrAyIPp56WiqldVVPPHEE5AlqfuJt4NA0rL2IQekrOh3FuGO9naX78rzfdy6dQvz8/OM0+a5Lb/jHSGKu2g54tfCEx5/mN2QyfOu61L6uDtJZsBLS0v48Y9/jAceeADHH3gAAFjTlZDob6BZdPu79EtvUNAATWmOS5cu4c///M/xxBNP4Nd//dcH2mYv3FMBWiI+Aw4pMiXh+37HYgjP83j44Yexf/9+/Mu//AvW19dZFs145y7IenCXSyWIgoANcvu6U9i23WI4vpMATYMy7Yp0HAcv/+QnCMIwtgolkiV2lzFsJAt6bf+/W6CdbXcD3d7l5s2bmJqcbFHnsJoKCdRc/GDf7+sS9YhK3BY5kkEPM0BnyZ6B3hc4WgdIUlpXr17FhQsX8MQTT2BPW2ewTAratLjs01b2tvUMGqCffPJJcBzHMujf/d3fRRAE+Ku/+qs7poK5pwI0AOSKxdhbgExR4LjYUCiKIhagO+3MQ4cO4cyZMzh//jyuLSywQtawgoUgiiiVSnAcB02Sqe8EjuNsk9j1kwHSA5+pEsgttmWaeOlHP0KlUsFjjz3G6ARBFIeW/bejZQ9n1M0OG2GfAbp9Gkk/6BTCoijCxx99tM07Iu21fDJYZ3rTCI7jgCfZM+hryTkyLGRdT5YwzgHMzOmdt9/GwsICzp07hwqZah4GARzbhkSVNwCzKWCNa4nvVJZl5AccD1epVHD8+HG8+eab+M53voN//ud/xle/+tWhenS3454L0Ho+D14QWgIJvZJmmXo9MzODZ555Bh9evYqf/OQncfNFD/STexQLBaiKgvWNDQSEFx8UdooPR7IQ1gksWyaBObn+jY0NvPSjH+HgwYPb3OhURWFOaZ22OzC6qCvuFqIguGsUR6fXbmxsIAhDTE5O9txGshbA5IVdsleaaWqJizo/zAy6z0Qma9a5vLyMF3/wA7i+j3PnzrVMPrLJea4qStzmTYrPgiAgJJ2xSZRJYB8UTz/9NEzTxFe/+lVMTEzgm9/85o621wv3XIAGADWXY+5eQHyV5YDMrbHFYhHPPfssxicm8MMf/hBXr1zprZAgXF5PcBzGx8fBAVhZW8u0nk5IC9AAus76S8rb2tf756kl1wAAIABJREFUye3bePXVV/HII4/gQEoGRyc3252y6J2c5G0c9N3OoOndxN2yn+z0+T76+GPMz88PtlGixEijP6IwhGvb7G6oZS0pionB3r7PbfR4vuM4+Nc33sCFCxfw0IMP4uzZsxATah+qW1dUFbwgxIMHyPcnkGJyOz250wBNeehms4lvfetbGNvh9nrh3gzQxJ7QIoWDZJaRFZwg4MiRI3juueewsrqKH/7wh9jc2Eh/cp8BRZZlVMpluK6LWlpHY0akURwAGLe4tbyI8cup+m7C7b373nt46qmnMNOhLZ0OC/B9P51n3CEVRDOqT4ODTlb87wbSCmSO42BpcRH79u3b8fYpV02DoOO6CKMo9Xjhh0RxDGvPRVGE6wsLePEHP4CsKHj+K1/BFPFyTjxpy+SJKJnCIGBJWJrMj3Ye7gT04nn27Fn85m/+5o62lQX3jA46CYFIqWzbjk1/gL5PeJox53I5PPXkk7h58yZeeeUV7Jmbw8kTJ1qu5J08GLqhWCzCtixsbmxAJevtF77vd9VU0yDaLbOJwhDvvvce1tfX8ey5c9B6TIGhc+DctIvDDrOwFq3qjrbUP+g+yppB7zTjbPcTAYCF69exe3Y2s1l9L9CiYhRFW9lzyl1k2tCEvjCgFDDtO240Gnjr7bfhex6efPLJloDKYeuYdom1qK7r7NwLggBKlzpTLp/fcVPXn/3Zn4Hn+TtaGEzinsygeZ6HkssBHBd3oyXQ3sCQhrQr7969e/G//dzPwfd9fP/FF7F4+3brQTnAATo+Pg5JkrCyujpQBkO9cNsRJhsguqzL9328+tprMAwD5555pmdwBoiRjyhu26/A8LjjTzODzuTD0eFOpB+0Z9BhFOHatWuD0xtdYFkWwMUOjh1XvZPPM+Brk/sgCAJcvHgR//LSS5iZmcGzzz67LdtlCUcYwnGcFsvgiAgBaJt32nFf2SEd8Z3vfAf/+I//iK997Wt3rMOzHfdkBg0AImlGcBwnzk7bOqW6Ba5OwVKRZTx65gzW1tbw1ttvY+HGDTz04IMABrs1FkQRY5UKVtbXsbm5ifE+3bWCqNW7OGq/8HTJbGzbxvnz51Eul/HwQw/1VRxTFAWeYcD1fciJDH7HIZWu99PgoCnFkWE/cG0t44Og/fOtrKzE1NeAErBO8MgINFlRWmswyWP8U5A0AmDHJj2fcrkcvvTcc8jlcunWrmSdNmlG0xN3cLRTmA6OTbyI/TrZ5ruTBTdu3MB3vvMdfPTRR/j2t7+NEydO4E//9E/73s6guGcDNE9oA5fcjgPZbkuzZEYTExP48pe+hCtXruAHP/gBDh482NcUkST0XA4F20a90YCm62zoQBYkrRND+v/E3zkAAschaPtM9Xod58+fx/z8PI4cOdL3xYU2ODi2DZm0Yw9deXG3M+g+KY5h49pOioMdEIEYIgHbbXhpg8pOfDh22OXoui7effddLC0t4cEHH8Su3bt70i10er1C7FjZ48S7g42wo0sk/46Pjw80xPmFF17AH//xH6NcLuOXf/mX8Rd/8Rd3ZBh0J9yTFAcQn2iSrkMURbiel3mMUq8gTqvkvCDg2PHjOPfss1haXsb5117DzRs3BjpgK5UKFFnG6tpaX9K7kDw36JZ1thUMV1ZW8PLLL+PEiRM4evToQJk/LRYGdNzSMPEpZXP9dhHuGInPaZgm1tfXsWfPnqG+hW3bcWEwwdO2vz/H83EQGEQiN2Bwdl0XH1y6hH/6p38Cz3F4/vnnsXt2tie9FEURLMKlt9dsAt8HwhAcCdrtK9s94ET03/7t30YURdjc3MTf/d3fMQ+Ou4V7NoMGAEHToKgqDNOER4I01Yt2PBSyNKaQW9wIQKFQwOOPPYZPFhfx8ccf4/0PPsCxI0ewd9++zNkYz/MYHxvD0soK1jY2MN1esU5BFEUsOPb0NEB8wC4sLODi++/j8ccf37HHsKIosGw7HnevqkNrz2af5VPgoIW7VCAkG2G/Lly7hrm5uY5DYQdBEATwHId5jXQEyaSpdWvW7zGrCX8Stm3j6ocf4trCAmamp1s0zVkK7bZlIQwC6Lnctoup67rgeB4ifTzxOQrF4h3xybgbuKcDNM/zkHUdQq3GevUZEq2zFGna4E6gGUSEOJseq1RwYH4e6+vruHT5Mi5+8AGOHD6M+fn5TO51iqqiVCyiWq2i0WikToNIrpN6LGe6CEQRLl68iFs3b+KZc+daXeIGBM/zkEQRruNAU9WhGSWljaa6GwjDsEWZ0+u5w6rgh1GEhevX8fQXvziU7VFYloWI47INc+jXi6NPDt4wTVy9cgU3bt7Enj178KXnnoOu69sMjbrBdRw2YT5NieK6LqS0uZkch12zs5nX+lnDPR2gAUAkWbRpmrBtm3G8PM/vuBJPVRL00AqjCOMTE3hqYgLVahWXL1/GpUuXcOjwYRw8eLCnfKpcKsG2bawTc//25zP1QEI+1+u23A8CvPXWWzAMA88+99xQvaNVRYkN7j3vzpq+32HQ4mrWDHoYwZlu45Pbt1EoFFAYwkWTwnXd2OtZVbMVPQFWRKfNOp38Z/qxEW00m7hy+TJuLy5i3969eP7551svGBm3E/g+LNuGKAjs9ck1+OTzaoljm57buqZhaoDi4GcF9ywHTcGLInLFIkRBQKPR2MaZJg+Rvm9dCb/LEwvT5OvL5TIef/xxPHPuHJrNJl544QW8//77cNoz+bbtTYyPQ+Q4LLdJ75gvSOI9aGtrJziOg1d+8hNEYYgvPv00VFUdqikOnZvX9TMNgoxuaMPC3W5SAbaOtQ8/+ggHhlgcjEgDh8Dz/V2MKSdNjmNGebQ9J0tSU61W8fobb+Cll16Cqmn4ua98BadOnUrN5nsdj1EYwrQs8DzfUpxLflcu8d2RE7x04PvgeR6z7YMlPmf4/KY9fUDWdWi6Dtu2YVkW8oT3onIpNgNvQLG9QA6WMAy38YiFQgFnzpyBaRi4cvUqvv/972Nu714cPXIkVXcsShIqY2NYW19HrVZDpVKJKY2USS4hOsvCms0mzr/6KnbNzODkyZPsgBYEYajGOIqqwjQM+OSEGAbuOr1BFRwZOOBhXuDW1tZg2zZ2DbHwZFkWwjDsb2J1mnIicZFMDkbo9t2sra/j8pUrqG5s4OChQ3j44Ye73llR98Bue5R+nnwb78yamrjYXpjjeSb5pBPqNV3H9IDqqs8K7osALRAjd8914bouXFmGnKAPkmbpA2VR1HCmS+DTczk89NBDOH7sGK5++CF+8M//jN27d+PgwYPxGKzE++bzediWhWq9zgzm07jxTo0qa+vr8TivY8dSPTV2Ko9KQpFlWJYV00d3UX40TNDb+Z5NKuQuZlgUx6XLlweSOXYC1TxTb4rMawE6Hw8c17UVPAhDrKys4MqVK7BME4ePHMHjZ89me/8edIlj2/B8H5qqbqvjMEc/xJPtk3cLQRAg4jjsnp0dauH108B9EaABQCkW444qAKZpQiwW4wOP/H0nI38EMn0jS3alqCpOnjyJI0eO4NrHH+PVV1+FKIrYt28f5ubm2ADYytgYLNvGyvIyZnbtSuWv06xQb966hXffeQdnHn0Uu1I8NTjEB/WwcmiOFKIMkkUPi4u+m452Wdu8s4zAyorNzU3U63U88YUvDGV7TPPMcds1z1le3+VzRSCGSiRIR4jXf+PGDdy6dQu5XA4H5uexZ8+evmYydhohB8R6Z5uoUOSUz0PPV+r9riQCtE+ov313oCvzbuO+CdB6oYD66iqzIbQsCzmS8VGvjk6DKnuBmhOxAl6GbciyjKPHjuHo0aNY39jA9Rs38IMXX0SxVMK+vXuxa/duTE5OYnl5Gcurq9g1Pb0tG0gWtqIowpWrV/HxRx/hqaefRqWLKQw10tlpkZRClWVYpgnLtndc7OrXE2MYCMj3fjdHXF2+cgWHDx0amvbatm2EYRjL1vo9hjkOXIcMmfpfcABMy8LCwgJu3rwJhCFm5+bwzDPP9K0KYslMh3VGYQjLNMHzfIs1ahI84cOp5QDLoKN4EtDE1NRA/jafNdw3AZrjOIi6jtCyIMsyXMeBnNCIUn30oBAIbdC3dSMX24+Oj4/jodOnsbS0hGsLC3jrnXcwMz3NnOVWVlYwMzOz5fiWkAmGYYh3330X6xsbOPfss9m6EYdIc3A8H+vNDQNBEHzubiujjHLFYQXoer2O9bW1oU2ADoIglpn10jwPANdxcOv2bVy/cQONRgOzs7M4c+YMKpXKwOdLt8w5iiKYZIhtTtdTL2A0uNMMWiAdhEB8MQmDAHuH4Aj4WcB9E6ABQMnl0Gw2Ies6PN+HaVkoFApbwXknQYtWv+nvA0xi4Xke0zMzmJmZgeN5+OTWLSwsLKBeq6FULsOwLByan2fVdIHn4Xke3njjDURRhHPPPJPZCY0j7zesgqGqKEzK2FeBqgPupqIia5NKGIZDKWBevnwZBw8eHMp09whxZkuppoGR7AcIQywuLuLm9etYWVvD9NQUjhw5gqmpKQg7nCBPqYlOSYzjOPCDALqmpe4faohE6wGu57VQOoHvo1QuD93T5NPCfRWgNU1DU5LgE42oaZpw2ub6DQqe59mAAC5+oK9Mmsro6GmiSBLm5+cxPz8PwzRx5coVXLx4EZc++AAH5uexm4jvf/TjH2OsUsGDDz2UWcdLQS9Mw1AmUO7TIrfaO6Yo7nKAztKkMowVGYaB5eVlPPTgg0PJyB3bRhgE0DRtYLqEFglXV1dx6+ZN3Lp9G8ViEfv27sXDZ860FNTZ8yknnfF7ooG524XX8zw2qV7qIBEUEser53mIwnDruYTemOtQs/k84r4K0JIkQVBV2JaFQj4PSZJg2zZESdoKbokOwX5OSF4QECYsOFkmnSX4kc7ATu+X03U8/NBDmJ2dxcraGhqNBn78ox/BDwLIsoy5HWg9exVr+gH1ih6aomOINEwn0DsI4S5dEC5fvoz5AwcgShK8HY48830fDimkdQpo3eC5LlZXV/HJ4iKWFhfBCwLm5ubw5S9/uSP3S8EB4OjEkl7cPfXI6OYgSepCQqIZZdt7tp1PFjFBUxSFJTi5QgGTGawSPi+4rwI0AJTKZWwQuZ2qqmi4LkzDaB0kSVtZ+2n9RqyMSAZ2piPt9sIou7fwxMQEgiBATtdx7NgxvPhP/4RSqYT33nsPjUYDE5OTmJqawuTkJMqlUiaagBo/BUGwY1qBFwQosgzbdaEOIYtmWtd+EG1ZriZ9m+nna8/i+rEZ3Sksy8Inn3yC57/ylR1vK4qiuIGD45jypxfCIMDG+jqWV1awsrqKRr2OsUoFlfFxnDx9Grt37Yp1yVkvilEUJyZd6I6IPKd9my0NYmEIg8z+1DWt43HY7tbo2jZ4UYw9oIn2+cD+/V1tEj5vuO8CtKqqkHUdtmFAlmVoug7TMOLJwMmqb6IYlynQJbTQLSc7Efx3OuijROt2L/Ach8mpKSwtLaFarYLjeRw/dgziyZNwPQ+rq6tYWVnBRx99BM/zMDU1henpaUxNTnblhTnEUsFhqDpUVYXjurAdpy/r1E7rYtPGk5PHyb90WjstmKZdUOlQ3Gajkfoevu/Dtm1EiG+ZeZ4HTztEiXySJ7zrTnH16lXs3bu3RRI2KEzDQNRLtRGGqNZq8XGxvIy19XUUSyVMTkzg5AMPYGx8HDzPw7IsWLbdX3AmoMqnTq/jO1F99CIahmgmPks3/XTyU4ZhCM/zoOo6C87Tu3ahXC5/apaxdwL3XYAG4nFTa8SJTVUUuK4L0zRREMXWA6SPlmNKkYRR1NI/n3z9tsOUdjH2sXaR5zFF5HecIMAihU5ZkjC7ezdmSVeaaZpYISfmz376U4iShOmpKUxOTWFqcnL7NPAeF5JeiAgdwQsCG5SgqmqmCSXAVveX63mwHadlXFPS95o+Tqc30yBKv6tkizLNwDnE9YfkZ6NBPUI8OEEQBARhCJ+0DScRkm0IggBeECDyfJy59aGLdhwH169fx/Nf/vLWgwNSOLSQprY3cEQRDMPAKsmQV5aXoSgKJicnsf/AAZx97LFUbjbC1lzCfu+iqH9HWiLTLXDTQmPTNFlwTlOgRGEYn5Nt27EsCwHALnaqrmNiamooRmCfJdyXAVqWZai6Dsc0IYchdF1HzfNQbzZRKhS2ZcBZTiL6mjAIgE5z39oDxICqAFmSMD4xAVkUsbSyglw+vy0Q6rqO/fv2Yf++fYiiCPVGAyvLy1i4fh0XLlxAIZfDJMmuy+VybKyD4UjJVFWFS7nolCyaBmPf9xEEAfsBtiRjsijGxVsShGlmywJyRtB93k0TywEoJW6LQ5KtR4ks3fd9+GEI33XhYovSEjiOTcoWRLFjofbDDz/E7J49UHd4V0EbOERJgizLMJpNbFarWFlejken+T4myZ3TyZMnM9EflAoalOKiiqAWo/we2XhIaI2I2Id2kgcKKfQIEFsZiKIIVVEQcRxmZmeRJ8Oi7yXclwEaiLPoFduGGwRQJQm5XA71eh3NZhP5QqHvL1ogQcQPAnS6gWUts0NQTuiqygLh+vo6Jrv4O3Mch1KxiFKxiMOHDyOMImxubGB5ZQWXLl9GrVYDz/Mol8soFYsoFIsol8so5PMDcbOCIEAirfUhyaKDIIDneXGgaxugIAgCFFVlXr68ICCv65BkeajeF2lIToKmoBcEigiAnOS1w5ANKwjCED5psQbiYCWKIvvhiRTy42vX8Nyzzw68Tt/3Ua1WGXdsmCbqtRpkSUK5XMbk1BQOHjoUf2d9Hrv9eGF3Aoc4SQl7UB70/ahmvltw5pF+R2dbFrwwRF7XEUURJqanoWna59ZqoBvu2wAtiiJ0XYdlGFCiCLIsI5fLoWkYMAwjNlSiBzrNorsUDTmOg8DzPSei0IN4GOoETddj/bFlYbNWQyWjKTmfaI4B4pPAsm3UajXUazUsLi7igw8+gGWayBeLKBeLKJXLKJVKKBWLmWSJKs3uNjdj7SztEOQ4SLIMiQSw9guA377/7rCSI4sksD0zFARhWzNOGATwfD++ACUCNs9xWFhYwPTUVOYAYjSbqNfrqJLvo0r8zPO5HPRcDmNjY5jfvx/FcnmbBK4vkON5UE3z9s0lttelS5AFZ12H1G0qPdqUVCTBaZomOMQFxVyhgFK5HPcz3GPZM3AfB2ggdpqzLAtWGEInY3Q8Il0SOA5asrCWoWgoSRJMy+oq0dsJz9sOqhfN6TrqtRpEQRio1ZrjOOiaBl3TsGtmhvGzvu+j0WiwQHH79m3U6/WtbLtUQqlUQrlcjotVURRrWT0PnuvC830Eto0yCSRiO8fffVF9f45BEIbhUDSzvCBASYxiohSOaZq4fuMGzjz8MBqNRiyJI/vC9zx2UazWaux3kWTFhUIBs7OzOP7AA2ySuqKqQykyAgkaYgf0Rsv2yDbDbsHZsraCc4/93h6cI3K3YjsONF2HKEmYnJmBJEmZlSyfN9zXAVoQhDhrbjYh8zwEjoymjyKYts1amLlEJt3tMKa3akEX0yAWmpOdhwNCkWV4rovxuTkEYYiNjQ1EUYTiDmVGtGAoiiIqlUpLV1YURbAsC7V6HbVqFZ/cvo2LFy+iQThBWVGgKgr0XA6aqsacMWJ54yCdc8PixdNAee9hS+woDeI4Di5fvoxisYjNahW3b9+GRSxvLceBY9sxnUTuUPbMzqJYKm3zcfZ9H0azCUEUhxac6TqBeKZl2pSSfpAs6HZ6LxqcVU3rfH5E0fbCMrfl3dE0TXAch5yqYpL40xSLxR2t/bOM+zpAA3EW7boumo6Dgiiyin9IjcIFAZIktQRpAKnGSiJ5fSdXt//zT/4E7777Ln7/D/4AZx99tEUn/df/5b/g5Zdfxi/94i/i1/7tv820dkmSmDRsanISK6ur2KxWAWDHQRpIL/Rw5CKmqioq5TLrHPQTRT/PcWDZNmzbRrPZxI0bN+ARdYYoitA1DZqqQtV1aOR3TdOgaVqcVaW8553goqmssBv/2v6u1BDftm1YpLXdsiyYlsVsVy3LAqIIMqGfdu/ahTAIUK5UMEMm5Qg8HzsKchwEjoOsKK3HGV1jGMI0TYDnU/3DB0HyLo7e7WVV26RvcCuAsiy6bdiEaZpx5tyj4zFtHexCEgSwTBOKLCNXKiFXKKBQKNwTpkidcN8HaI7jMDY2htXVVTQ9DzlS2Mnncmg0GjBI0VAQhPjgoRIu0uqaPKE4joMoCNt5VIJf+7Vfw0/few//7Xvfw6NnzrDXfue//le8/PLLeO7ZZzMHZyAO0NRClQbpVRKkozDc8aDMtG7IIAjgOA4c12UDCnK6Dr5t3D1FFIaoNRoQOA75XC7WSBPdLQ1oa+vrsIkbnkWyLKaMEITYzpX8n+c49jjP80wiJ9DfeZ5xxPQ5AHDz5s1YLRKGTDXiOg4cz4s5cnKRCYIgvuBQhQlRb4RBEP/d96EoClRyUVEVBZquY3JyMv6/qkInGeKrr72G/fv34+jRo6n713VduJ4Hl1zQHNuGrKqQE4HasqxYhpai1OkX1MciagueO+H4qcwuSUm1q5VM04z9NVQVkijC7+Kct23Nid9N04ynlGsaJiYnoarqPdWUkob7PkADcXAbGxvD2toaTNeFJsvgeB65fB5NEqQLhQLCthH1LeOBCARJgktaUNsxNzeHp55+Gi+//DJ+8vLL+OIzz+Af/uEf8MILL+Dxxx7Db/zGb/S1blmW4SV0uzzPY3JyEqtra6jW6wiBzIXDXqDcn+e6CKMIkiTFFXg65j4MkTbFjuN5qIoC27Lg+z5UQoF0MkP1gwDVWg2qooDneRZMfaqa8P1YRUGVFImg6jkOrEQADsMwXm8Y4tYnn0AUBAgcB54W+XgeMlHw0IAu0sCeCPAtFwB6oe6BtbU1VKtVnD17tuNzOI6LBzLIMqt9ODRQEyrDJwb8O6UgmElRe3CMtg9PzgoWnFMe54hyx7KsreAsyx3pqm18c3vnYRjCNAxmKJbP5+8ZQ6RuGAVoAkmSUKlUsL66CsuyoOt6nB3m82g2m2gaBvL5PAKShdDskhrN0KAtCAJCovNN82/+1V/9Vbz22mv4+//xP2A7Dr73ve/h9KlT+J3f+Z2+MySJnNhJ8DyPyYkJrK+vo16vA2G4owOZFnboVHRFluOJHSnTkztlYqqiwHEcGLaNkij2DAZ0nl5SoUCbIfpefxTh7773PTyeEihpZteNDhroPQG899Of4sSJEx2tV1v8kDmOFQ+pv4ZlWTBNE6qmobBT3jklc6Zg8xj74OFpY0u3PUOpGT8IoJHgDPRwwaPNSGnSOtuGFwQolUqYnJ7G2NjYPanaaMe90xM5BKiqilKlAo/wjAAYZ0or8jRrDuhBxHFA4uBmhcK2qciU76xUKvj5n/95rK2t4dvf/jYOHz6MP/j3/z5+Xb8BWhThJgyaKHiex/j4OAr5POrNJjY2N/vaLrAlvavWanAdB5qqolQsQtP1/ltpOS423yH2kJ8VBEHQ9bMMeuN/8+ZNcMBAJlaiKLLiqky46maz2XKn1A9apG9pfyf/Zg12rMOzy3NocA5IcE4WPdOCL+WtWct+ChrNJnzfx/4DBzA2Nva58xwfFKMMug35fD7OYFZXwZPijUzcspg5ja6DAzHgobQHAERRx4aV5IGZ5M1+67d+q7Vqn2xp7rHWdoojCZ7nMUF0zo1mE2EUYWJsLNM+cD0vPsEIx6xrWnxCRNHAo7JkkkVbtt3CsXbCnW1PiRFGEeQOAXrQoqQfBHj//fdx9tFHB3o9u5XnOExMTCCMIjatxnFd6JqW+QLJhrJ2+SyslT7L9tA7kAe+H3cIRhF0Xd9WLGcXBPoA2V43HxjXcWCaJsYnJrBnbq6/aeWfc4wy6BSMjY1BKhRgEt4UiGcJUjtNh3DM1B+CZdM8H1fleX6bpwM9SV599VV897vfZQW8F154YfsCCIfXK0RIRGbXDRPj4yjm8zAMA2vr612fG4YhGo1GHNBJC3whn9/KVridzeTTdB2IItgdOPr4Lcj225UcGG7QZq32HYLdoNK7D69eRaVSwXiXzs4ui4JhmgiiiBkHiaKIQqEATVVj74pmMzZ36nEBiaJs033o33t+rxm+e8d10Ww2AQD5XG5bIGXvldhmN2kexWa1igDAidOn78luwW4YBegUcByH8elp8IIAg9xaAbH8TpYkZvTPng8wdzUOMZ8dJG7X6AH47rvv4q//+q8xOzuLb33rW9i9axdeeuklLC4upq8D3YOSLMtMTdEN4+PjKBeLzEApLVvxPC+mM0ghr1gspnapcUjP7LOEbVEUIckyHNveuqh1QGrxKcN7ZAXzgR5iBm07Dq5++CFOnjjR/4KiCE2qdmjPPEkxsUhMsVzPg0Euop3AAUCGDkFmt9ot+GbIwi3Lgm2aEEUR+Xwegihuo1XoXWH7edENzWYTjWYTu2dmsJsYgd1PGAXoDhBFEeO7doEjHKDrOLEGmGQGJinitB9kQRQxOoC2fUcchytXruD//s//GWNjY/j617+OQqGAX/mVX0EYhvjbv/3b9EX0yKRFnkdO05iXbjdUKhWUSyXYto3VtbWWIG3ZNhok8ynk87FxUo9sqf3v3aZCJ6GpKsBxsIk8MGXDZIMpXOUQi0I0uHWkCwYI0B9cvIh9e/ciN0A3p2XbCHw/Lqh16LDjeB56LoecpiEE0DSMbRRXvxcWmlR03LccB3RxuQsJJeM6DmTSoET3KddubEXX1oVrTsIyDKytrUGWZTz+5JP3RVGwHaMA3QVqLodypQJBEGAQz2iO45DL5ZgywTSMVq8GEAeuREHs+sIC/q//+B+h6Tr+6I/+CGUycfvsY4/hwPw83nrrLVy+fLnjOrodmIViEY16PdPnKZfLKJfLsG0bKysrCIIAjUYDpmVBILfSWYovHBcPNGhZVcbAwNOWes+DH2wX5nU7BbsVkfoFLeKmBehg/FobAAAgAElEQVSsF5sk6o0Gbi8u4uixY5men/wcjuPAdd1YIZOh6UKS5Zh64jimJY83umXLmhV+ilkUA91Wh4tY4PtokjtM2nSUZjkKbE3hbtdMpyGKYtvUar0OjuPwwIkTQ5lz+XnEKED3gEq6lSi1QbNmTdehk+GzjUYjthkl4IhMzLFt3F5cxLf+w38AOA5f//rXMdU2juf/II0p3/3ud7svJNEkk0SxVEK9gxl9GsqlEsbKZTiOg48WFmCRyTL5ROaTCT3a3rtBJVm0mSHzT6If/+VeCInPcNr2uAGy55/+9Kc4duRI5gIWfVfPdWHbNiRR7MuKVBAEdly6nhcX5oC+gnMEsGaj9sfbO2fb4boumoYBAMjl851b0MlFI8hoyETNlFzHged5KJXLOD4IZXSPYKTi6AFBUSAqCnIAONOE4zjMYFxRFPAcB8M00Wg2Y+6NHOyyLMP1PEyMj+P/+au/ireVEgBPnDiBv/mbv8m+oLYMqVgoYGlpqa/PlMvn0Wg2Y313s4n8oIUXbsvkn2VuGQIox/PQNA2WacL1vBauu9erh1Us7Cax63f7S8vLMAwD8wcOZH4N9Zg2LQsCzw9W/CKUm0B004ZhIJfLZb5wRsTrumU/JFREndZNG2oE4gjZcT8mrHWzUC9hEMQXmjBkntcnT53q6NtxP2CUQWeAUizGByPxnHVdl2XNkiwz2Vyz0WDqDUmWwXMcPNeNjeZJFhFmPFi7IpFNF4tFNPrIoIMgQLPZhKqqmJubg8jzWFlZycRjpy4Fg/k4KLIMnudhWla6xOoOeG8kEXTzQO6HIvB9vPPOOzh9+nRfdyAB4W4pZTawex8pIOqahpBQA1lXTykmmlTQi2xXvpkUyCViz9vim032GzvGuS0HyF7j1HxClwBbTUn75ucxt29fxk9zb2IUoDOA53kopRKjLvL5fCxJazZZxyA1t28aBhxSUFQUBS4ZDQ9s3TbSA3ZHgZqcAPl8Ho1GI9O2giCI1+z7yOfzyOfzmJmZgSTLWF9fZ0ZLg6BXZ9k2kOwPRAGw9TDZR51eNvAKt0D9uNO4137555/97GeYmJjA9PR0X+9vNJuIiD/JQJK+Nr5ZVhToqsqKdlm+CzrjkSPy0G78cBAEaBoGfM+DShKV5PGc3Ga/n8ZzXRiGwYYOG4aBYqmER86c6XNL9x5GATojBFGMgzTHbcuaPdcFT4K0KAgwTRO2ZUEmBR9aLKQSNeqJwEYqDbIgcnLIshwf1D0y4OQFJZfPs9tGURQxMz2NnK6j0WhgaXl5WxdkVgh9BjeRjLVyPW97w02XC85Og3S3AmEWaRrF2toaPllcxKlTpzK/hhbAoiiKef9BOuI6aJxlRYGmaQjaLnqdEAZBJl7fpfrmKIr5ZnJcJ42WkgMZWlYVRR35Z+oMaFoWJFGMfc3rdYiShCeefvqeGv46KEZ7oA9IigKFBGZBENgMNDqFJSIHsCzLzG5TEIRU86SWW0M6A2/AdRVLpZ40h2EY8H0fuZQRQxzpWquUy/A8D4tLS6wZpy8MUMTTVBUCz7Pus6zvsxNQid1ODIj8IMBbb7+NBx98MHNhkAZn2gQ0SLtymsNgEtRpj3p6dFwLuhdKgfhCZhgGLNNk3un02IkS22nfbrf/J7dN7zYVQpdYlgUvCPDQmTP33PDXQTEK0H1C1nVIqoqI6J0LxSI0VYXneWg0GnBdFzliVu+6bmxXSdzY2sG1BTQWqBOZSRaUSiU0G42OJy6VcWmq2rXgUiwWMTU5CQ7AMil89QN6h9AXJ02pDsRaYLqdbp9+pxk0nZu3LTD1se4PPvgA5XI5c/MEDc4BmcY9yBSXrL7YqqJAlCQ4jpPazEKpDC/F0Iuu1XGcLQmdqsaOfyRrbzk+e7SJt78/9XhpNpuIggD5fB66rsP3fdTrdeybn8e++5x3TmIUoAeAXChAJFkTx3Gx41ihAJ7QG81GI55xSHg66kzWCe3aVcpRs2DdA8lCIcdxLTyqTyrjdDBrL6iqipmZGciKEvPSm5s9OxU7fqaMEEUx5utdN76QZXjtTryROyk4smbwG5ubuH7jBk6fPp3p+XRIqk+Cs0K8XfoBC84ZP3eOeHYw+V1iOxwSHYRt+yHwfRiGAduyIJK7RErVpa64R+0h+TlpIdB1HMiShFKpxGYSblarqExM4MTJk5k+3/2CUYAeADzPQykWWw5uSnnomgY/CFBvNBAhNkaSJAnVWi2185CiU6EoimLrUibyT3l9sVjc0kJTfTI5kWkjjd6H0J/x0mRowcrqajZeOhE8+s2kNTJpo0m40zs5zZuaQCWRVQoWhCEuXLiAB0+fztRUEoYhDNOE7/vQNW2Lv8262DaONyuolJFmw/Qxmj0HQcDMvej26QScIAhinX8XbTyz2e269C0nPSoDBIBcLhfLAcnx0Ww2ISkKHjh5MtbIj8AwCtADQhBFaOVya1DiOCiqimKhwIqFlm2jUqlAkiQ0m03UG42OE1foNtLGTIGY+wQpgaRQKMTdhG2PO44D1/Ogpvk39wDlpccqlZiXXl7uyUunhePMQZrjkNP12JLUde9YgKYmSe37g6Me3z1w+fJl5PN57Nmzp+dzwzBE0zAQ+D6zCOgLHZqTskIintqO42xTDVEFB8/zbDiw7TiQiEqpIwVDKI0sHYEh+S6bzSZc14WsKKy5hsKyLNiOgwOHDm1r4hphFKB3BEGStgVpIM6w84UCdF1HGASwbRuyKLLbuUajkZpN04yim+yKNoaECb6aTolur9w7jgMxMWl6EBQoLx1FWF5ZYd1j/SBrkBYlKW7w8f2uFzGKQboKgzbtL0WWC0K1VsPHH3+Mhx56qOdzaXCOwhC5XG678VSWC9AA1FI7dF0Hx/PbHASpssK2bTQNAyGAHGnX7noxzyinjMidA52nmMvnkWtrBXccB03DwPzhwzjQR5PP/YRRgN4hRFmGWiy2nnAk41VpxkBG/ZiWxfwWHMdBvdFI9XNOyvF6gVIghVIJG5ubLND4JMgpqrrjohrjpYleem19vW8pHp/RI0LTNAggs/j6zKJpg0NEfyc/tDMu4jjmMrjtItjjvcIowoULF3DixImet+FBEMQ65yBALpdLzUa7fbZebdY9kWw24TjIkgTf81izSIR4/1qWxVQUxYT0ckeIIriOg1q9Ds91oagq8poGmWybfiJ6/O87eBCHDh26r7sFu2EUoIcASVWhlMutxTSSafCCAF3XmUHS5uZmzPER34VmsxkPw2zPlmg2TbfV44SemZrC0tJSnF2T6cdRFLGsvZ+gnwbKS5eIbeni0tI27XWvbfM83zMQcjwPLZdDEKX7RtOgS2/Z6e/J/1M+eZu5UhQhJEVIgfCxEc0ISbMGfY92XLlyBYosY//+/V3XT+VjIZFcpgUe2gLdCTumd9o00rIkARzHirD1eh2GYUCSJOSzuBdmWQ8JzNR8CwAzFePb9oHneajV69i7Px6oez8Z8PeLUYAeEmRVhVYqpSoeeI6DqiiYmJiIddGeB8uymPOd4zhodBprRIp+fA+OdHpmBsvLy4z+cF0XkqJsBS9sZZjxZvsP1BzHoVKpYHpqCjzHYW19HatZC4gEWYI0pWxsx4Hn+ywIB+RugbbM92ofToMfhhATwTgpFyMfsnXaB8ehVq/jww8/xMOPPNJ124HvxxQQaULpmBW27/uofxe69M2S7ZJjkF6kBDIHstFooEG0x7Iso1gspq+xfR09gjfNhi3Lii1RdR2FQoFNYU++2vM8bNRqmN27F0eOHRsF5x4YBeghQtZ1qMXiNnkcvaXWVBUqmdCs6zoibHGiVIJkpGXTFF0aQQr5PHiOizsbfR9hFEGR5ZZ2XNa5mJZd9gFVVbF7926Ui0XYjoPbi4t9cdNZCpaqJCGKIqbFbfd3oOg32wyCoDWjS9OcJ4pzvu/jX998EydOnEBO1zu+HwvOADOs74QWe1ryXv1I6No2Fv8DkplHrTYCEclsPdeF7bqxLFRRIMly9gtIh/elgdm2LPCEZ86TCelpCIIAm5ub2D07i2PHj48UGxkwCtBDhpLLQSkUUjXMlO6gfysWCmy0EYc4GJiG0TmbTiDNd3dmZgaLS0sIfJ9l3Z1eR5sNksG6n2DHcRzK5TKmp6YgSxI2NjawvLLScwQXRSonTRQWURDERatcLjYA6tW2nHHdVMHRYpLUTSkRRXjn7bdRLpUwv38/wHGprdG+76NJ6J5uAarlPakEbZCsOcmj020k7pKoEsihlINtx8OPFQWKLMNPUF/JbWZ9b8e2twdmYnOQnG+Y3E9BEGB9fR1TJDjfb6OrBsUoQN8BqPk8lFwOQVuQ5jgyhFaWmfRJkWUUC4W4RVxRYoc3w0C1WmXt2e1gag+0ngS7du3C8vIy/CDomsGlgpzgAVGHJBtlugURRVEwMz2NcqkE3/OwtLSU2Z+aXUDCsIW6oByqKIpQVRVBj7blrJknnXDTEkC7fLaPr11DrV7Hww8/vPUebfveJ40dAFrsZruBrbbf4Jy88yG1hvbvJiRWnY16HZZtgxcE5HM5FItFSJIUX0CDoCV7TurmO751GG4FZtuGkAzMtM5Bue/2u5wwxPrGBiZmZnD8+PFRG3cfGJVO7xC0Uim+vTRN1lbMkQxM13XUajXYts26DRWiWfU8j/l4VGs1SKIITdOgadr2W1IaLEiha3x8HJubm3Acpy/zd7a5xDbbvXx5kmkmTz0u8f6lUgm6rmN1dRXVzU0YhoGJ8fGuLc20oBkCqduNoigO0ESqKJAhqh021jPItNtrIvF527G5uYlLH3yAZ86dSw+6HAfbtuE4DnhBQK6LL/L2pXZYK308QVu0/Bnbu04paN3BdRyEAMuYWwIxz8O2bfA8v/V4FHV18IvCEI7rxtr0MIy7PttmJtLjhtJ1tJWevn59YwNjExM4dvw4isVir90zQgKjAH0HoZfLiKIIHvE8FsiMNkEQoGkaTNOEQrlAUiiSZRmSJEFTVSbir9VqzMO5UxMBh9jZbnx8HBsbG9i7d+9Aa2anKu0wIydbUq7GQG9nSeAWRRFT09NoNBqoVqtYXFpCqVBAoVjc5hsc0WwZW7dx28IOCVi6pqFB6J9CoZCuE8+QRbebA3XytnBdF6+//joefuSR1Gwv6ashyzIb9UQ5/l4FWJoF08ktEcfFhb0uhUIWmFMyZtd140ESAKSUwEwhCgJc140tTrtJ+aIInufB9Tzmby5KUmpgpscGK9gmLuIhCc6lSgVHjx9HpVLpul9G2I5RgL7D0IhFqUuLfxwHnuehqioc14VpmnHQSWSNNFDLsgzd8+ASv1z6o6oqCoVCagPKrpkZfLK4iP3797NtDYJkoKbNMWmhoz1w08YMVVGwsbGBaq2GhmlicnwciizHuu0uDRhpa+Z4Pm47J0XUfIrBfRYjoSAItvjnLkXHN954A3v27MGuXbtSt0FlkVqidZuuQeD5eGI5uXhF3NbUGbqfwsTvdC2dLjAcx7HnJxGGITPBigDIxLq1K8XCcalt7hS+78PzPHikk5PneSiqClmSWm1RI+Ih3fa9I4rY3ZDnedisVlEeG8PR48cxMTHReV0jdMQoQN9h8DwPvVyGKMuwarU4QJEgpGsac8CjJ3p7cJIkCZIksUkuTWL/aJDsu0A6Funrpmdm8P7FiwijCGJC1ztos0o79dArCNLnCKKIyakpmIaBzc1NLC0uQqNVfioZ5Fp9Q5KcOs1GaUCl45VM04Rt29soHOaw1qXgF4Thli48xU8ZAC5evIgoDHEyZQ6e67owbBt8FLEGFBbkE+9Pp+eA49jU7JaldNl/EbY6Lym9lHw95Zi9jIGZmiOFAAu8yTuwMAhYthwGAcBxkCQJMpE6pl0I2/n4gFjlcuROwDRNGLaN3XNzOHjoEOsBGKF/jAL0XYKs6xBkGebmJgLPA0gRTJKkuBU8IYljSAQcOqFFURQE5TKbJ7i2vg6hWkWB2Dbm83lIooh6rcayFtqkshOVbQstQJeX1nDRdpuu53JQVRXrGxto1Gpo1OvIFwookoIazcBB10czzyiCHwQtdIZE2uVNoreVZXnbPqIBLZmd0m5LEIqDBWbCv3IkE1xcXMT169fx3HPPta4rig3wPc+DQNr4+WSAT9zeUwiCkBqc6X5r/65pgGPZdht83485ZkI5yJIERVE68uPJrdMLtOt5TN3jEV6ZFqEFUuuQJKmj1UDa1By6Vp4UTKu1GgRRxKGjR3HgwIGRznmHGAXouwhBFJEbH4ddr8M1TfCIVRDNZhOmZcVmQUmQwmLYlkUJPI9SsYhioQDLsmITpnodjWYTiiyjXC5jaWmp5bYy7cQaBv0BtAbq1C3yPCqVCnL5fMyn1+swmk0UiAqgPcgkLwYta0bcCu77PkzTjItdgtASSNs/K5We0YYXGljZ5yfB2TAMvPXWW/jCF77Qos+lc/ja+eYs4Hk+XRPfnpWyP7Z+SwHNbl2XHQOyJMXdeV0y5jTqhmbeYRiiXq93pzDS1ob0CzzVXDuOg2qthvLYGA4cOoRdu3aNJqIMAaMAfZfRTnnIxJvDItOd28X77BY3WUgi4IgihA2ybTZhWRZUVcWtW7cwOzsLRVUhiSJE0k2WfC0wJPqDa222SAb/CLG8jeNiT4jJiQm45GSmF5VCPo9iovjHtxcok5+b4+Kp5MRwqkCm2rTsr5QAGiT4//a/B0GA1157DceOHsX4+Dh73Pf9uJ09irbxzVnB83x8J7Bt5xHqIYVbppQDVUWIoghVFCFKUnrQ66CuCcigCN/3YVsWLNOESCizro0qSBQAO9FGHBdTImQGIqU0Dh0+jFKp1HO/jJANowD9KSFJeeiEb22SYZ+qonSlO1K3J8sYHxuD53mIogi3bt3CyvJy3HJL+ERJlhlNQHXSrKkA2CZ3y4qWtZIgSLPGIAi2fRZZUTA1NRUH6mp1K1AT6oOpAJK8cuLz86Ro2DQMGJaFfOLOo9v4JqqiSV6UoijC2++8g0KhgAMHD7LnO44D27bBkQvCTsx8REFAEASsGYgGPrqOiKgmPM+DRykH0nkqdQrKtFDX8lAUF/p8PzZHSgwr9sMQgiiiUipB69IkwicvtPGLW59AvouQaNc3azUIgjCiNO4QRgH6U0SS8qBNIqZpgue4OFvi+p/xJ0kSxsfGsH9+Hitra9i1ezdc12WcI9XACoIQZ9YkeFOvj51w1UlqgkOsO24vciUhKwqmpqdjKSEJ1M1mE8V8nnUVgqwJ1GyeBH7axEKHjuo9dN9BEEChU3ASj1+8eBG1ahXnzp1jgdO0LPieF2uJ+9A3dwNHuO4AW8U/3/fhue4W/ULqDLIkdS36kV/iz0UDcsKilQMZckyy5AiAQ0aedboLSNI9nTJmWgiNALiOg81qFaVKZURp3EGMAvSnDEp5CKTgVavX0TQMFPJ5QBCYKqCfQC1JEmZ378a1a9fAcRzGxsbiAE2ytCAIGL8pEH8Gnufj298UOiRLE0gSNBtnDS5sM+mhX1UUqIlAXa3VYDkOyqVSfDeRMFhKUh6qogCEW+U4Dlo3b4co2hb0rly+jNu3b+PcuXMQRZFx21EUseGrg/L0ZLFM68zzfEw5eB5s12X2nxzi70vuQDkkVS7AFgVCAzIr0hHfb4kE9+S6m80mPN9nJlQt205uv0dgpmjU6zAtC7v27BlRGncYowD9GYGi6xAlCRAEVDc24iBdKIAHudXvI1ALggBJkrBv715cvXoVjzzyCBRVhaKqWx1nrtti+k+VDi7ZviAIceeeIICnP/0Eq24NF0hXgNBAbVkWFj/5JPYU9jwUi0XkifE8vbWngUnVNISkSEWNgNqVJMn9QimGa9eu4eNr1/DMM89AkqR4LJXnxZRGBw/nTKB8MM02aaYcBHBsG47rxlI2UYRKKKc0XxWAtN2Tiyn9SdIWyQtqp+w1CAK4nhfflRHZHA907R4EEndSif1oWhaqm5tQVBUHR5TGXcEoQH+GIEgSKtPTAIDq+jqajQYKxSI74ZOBGujMt/I8D0mWsWv3brxy/jxOPPAAGxhLm2RoC7VLGhOSJz7dKlUQJLcr8DwEwmFTTjdNlZBmBdpSpEx2FpLPR6FpGqamp2HZNjzPQ7VaRa1WQ07X4+kkiYG9URRB1zREAOOMlZSgQTs4AeDWzZu49MEH+OIzz0AURTSaTWAIWTMHoisOgniaO5noTv/G8zx0TdtW7Es6DXq+z4Jy8o6D5/l48C/JtLN6rTiOg4DIA2VZZs0z3T4DVb5Q2LaNWq0Gy7YxNT2N4ydPYmxsbERp3AWMAvRnDLwgoDIzA47nsbGywlQOSSlWSPS7PFoDahKKLEORZezZvRsffvwxTj7wwDZuWRAEaIIALRmsiYkTggA8x7W0RgNxVufZdst2aMAQSBDs1ATSCcnbeKaFJoF2cmIinpRuGPFPswmJTEzXdT0OujyPnKahSYaT0k7MpD6ZBuelpSW8+957eOqppwDEk0V4nodO/Zv7WDcAFkxpMKbKC47jIJJ9S/cPvYiEYQjf9xGEIQLP29ZZSe+A6F0Mz/MDBcMoiphEj2ruO1FVrGMxAdu22WSUCMDJU6dw+NixUWC+ixgF6M8geJ7H2MwMwHFYW1qCaRjIkcIZBRclnM24LTMmevqJoghZlrFnzx68/sYbOHbkSItyo2uw9v3UoEOfx+brESohiGILSmBLtuf5PjNYopwopUk4nu9Il9BgzQtCzLECTEoYBgFr967WaqjW67E/SS4HTdOQ03U0DQOmacbcriiyoCOKItbW1vDmm2/i7NmzABeb+6iqClmWt4JOl3VFiCmDZHZM7zwohSBJEruzoK6AruchdBx4QQCXeGZQGZsgCFBoMOb5bRfErIhAPE3ohY7QPpRSUdLuDBJUULKY6xD/F9d1wXOxEdaDZ86gMjbW97pG2BlGAfozjLHp6ThILy4ChhG3dKc9kd4iAy2BWtN1eJ6HiYkJLCws4NChQ+wlNODQ6n1SYkcpDJlU/CmPSoOTlyhO0efLisKmZ4QAItuOjfZJMZK+Z5h4f45QJlx7EE98Ji4hJxNEEaVyGcViER6ZFm1aFtaoL3EuB13TYNs2k9/RRopGo4HXX38dp06diocmiCJ0TevYoEH5efpDi6pJ6oFecKi22vN9gIzUQhs9QX06VNKWTSmLnSAZlGkxMhlwbceB7/tQiVwvfmqiXb8tY3ZcF7VqFa7rgiPNUOWxMRw5fhx6LrejtY4wGEYB+jOOsakpgOextriIoF5HLp9vNZxPgHLVURQhJFy1oiiYm5vDT3/2Mxw4dKjFAJwVs7CV0cUPRS1aYY7jmCcIRRiG8EmWHZDMEInnc0hk20kdM3m/MCJ+xojleJ7ntXDR1KENII0rZJvJC5BKCp8macLYWF/HBuJBvhziTJAW4V577TUcPnKEyeY4jkPTNJmnMi3ABWEYDw1I7Etg62JCJYp0TQJdjyBAIkGY3iHQQQx0v7pBEDd3DAha4Exq15HYZ0m4rguHGPUzt70Oz3VcF7VajQ1bKBWLKBSLUDUNh48ehTyafPKpYRSgPwcYm5iArChYuXkTjXodei63RTMgvRuQUiCyoqBUKkGWJFxfWMD8/v2p79EerJOPJ/0qKHieh8zzLetgt/9BwHwePBrs2t8vQXWIoritc422SQtkrl28PFIoJdQBLa4JJHv2fR+WZcFsNuGHIZv9GAGY3rULmqrCTRQ+GdWQyOQlUWSZMZUbsuyerpn+9ElFRGFnF780MEoiITHMgjCK0DQM2J6HYmI2YvLVjuvCtizY5E4HiMemFYjPSHl8HHvn50fTtj9ljPb+5wT5QgHK4cNYuX0bZq0GT5ZbKQ9uq9GgPcDmczkcPXoUb164gPGJiRY/4E6nfMs2UgI3pUeS3XC0qCUjplcc1wVH6BOaqVJZH+Vn6TSVqM2zIggCeL4P13E66oNbnNVAmjMUBaVyGUazieXlZSwvLoID2IglmlFqxGiIBt8d6Z0zgE6oaVGy9HpRHwVL9n2Q4GwYBlRZbukadBwHlm3DIt4iiCJIZKJPntyZibKMuf37UR7xzZ8JcNFAQ9FG+LQQRRGqGxvYWF4GgmAb5dHJW8NxHFy8eBEra2t4lnbNAS2TUoYRoljA5ritTDXtEEtrfqGBm1AN1VqNeWAks+iWzDUZ8Mh7OraN1bU1XLp0Cfv370e5XGZZIl0JB0CSZSY5lGWZ6cyTVED7yunFCIkLXMs+T/LPZL9GwFanXxs/PSiS9YPkeh3XxeraGjiOY5/bIpkyddeTycVd0/XYbIq8vjIxgT3794+y5s8QRgH6cwrbtrFy+zYcUjyUUxor2oO1YZp45ZVXMDU5iQdS/I4BtGSTOw3YVMEwKGrETErr0Mad5MypYiEMAty6dQu3bt7EmUcfhSRJyOVycfu27zM6xXYcOI4Dn3DfHKFrVEWBqmkx1TEkOVkURbGaYqfbQZsCp+3UDcIQS8vLaBpGrMYhfDrl6zVdh5biHS0pCub270dp5Nv8mcMoQH+OEQQBVldX0dzYgMhxnVUe2DqpV9fW8PLLL+MLjz+OycnJ7m+QaIoB+g/YEWK5Xdgn90rRaDSYOoOuh0tkoHRenuM4jIu+fOUK6vU6nvjCFxitQOkNOkJMFEXkibbc8304ZAakQ1QPNDuVFQUqbQxJaJP7RUj0yIOAURdt+zCkHYqeFxdZXRdr6+swmk3o+Tw0RWGzLLtZpI5PTWH33Nwoa/6MYhSgP+egErKNlRX4tg1FkpjkLQ1hFOHDDz/EpcuX8cUvfjH2oE4UozpRJBRcMkh2aJJJwiMcc+bb+kT23mw2EYUhCm2DRqMwjANqYqoILwh48803IUoSHjt7FoIoolatstFhAJjJj0msXfPUqjTx+X0yoJYG7KSsLgIgAOBEESIZYCsKAjOcEgmn3bJWgCldOiG5z5l6hDzmE/+OpCGS5/sIk+oivXMAAA0sSURBVJRNFMEwTdiOg2KhgMnJyZ4dkYqqYs/8/GiI62ccowB9j8Ah1p1WvQ7fcSATA540SV4E4NXz5xFEEU4TXXDqydxWeOzktZxmsE9/C6LYlc5PBKh2y09wW5NQkrAsC47joEyG7wZEHeLS5gtJgqqqME0T5199FTMzMzh18iTAcfCDAEajAT2f32qNx1ZWbxoGACCXy21vm24rVrKGHRIgaQEzJNI8qiGPogg8aTihrfBBECAgmXz7tmlwbR/IkHzf5IQYDnGRk/1IEkRBgGXbqDca0DWt52BWRdMwMzuLsYTv9QifXYwC9D0G13XRaDRQX1+HT3TAqqpuC9Se7+PFF1/E/Pw8pqanWyc9d8A2DhTp2TbrbgS2dNkkUHfq1EuDbdtoNBrQNA0BoR6AeAoNnSqyurqKN15/HQ888ADmDxyI18RxME0TjuOgWCymUixBEKDZbCKMIuR0HRL170gWLzOcGklTfD8RwKnHCXgePhlY0A6u7cKRfAZzF0wYIrW7DAZhiAbx0pYkCWNjY6nvQ7sxp3fvRmUUmD9XGAXoexS+76PRaKC2tgbXslp8ISjW19fxyvnzOP3gg8jn83E2eQd8FgIyjDQCmMyunduOEtyyTyaK2JYF0zTjKeGkcEeNhsIwxIcffoirV67g7GOPYWpqCsBWlt+o19k08E70QhRFaDab8IlXtKZp2y4g7UU5drokFBrJOwxgqwuR/r0bvTEoPM+LBwhbFnhBQLFYZANx2XIxCsyfd4wC9D2OMAzRaDSwubYG1zAg8DwURYkLXzyPm7du4e2338YDx4+jWC6z7HSYuuAwEdjYbX0iqw2jKOZZyQ9tYRZEEbbjoFQoMDc+ANjc3MRbb78NSRRx5pFHYp8StKo6apubUIlEj5oRJaVpFBEIlUKc8HRqNdp2WjDfky6gz4kSATlo03fvFGEUMeqHjrDK5XLbjPhVXcfMKDB/7jEK0PcJaLa4uboKxzAQkYnZoiCgVq/jwptv4vCRI7Gyg+OQo05xQ3pvaloUkRZvyuNS83k6NICa19P3plI7nfiKXLx4Ebdu3cLJU6ewd24u9ULiuC4sw0ChWGTZdtuC4n8Tr6Vm/UEQxD4duVymTsEo8W/YVgylbezDutS5ngfDMJg3NC8IyBEfcVq8LRSLGJ+cHDWa3CMYBej7DNT4yGg0YNTrsMktvtFs4p133sHM9DR2z84CHAdd02Lp3gDZdBhFCIjELgxDuL7P/p9YDONak0E5iWajgQix5O7dd9/F5PQ0Tp08mer5zF7TbCIMQxSLRda1uA0pDSNUT23bNqIoHhQrK0rXAMsCc1IJk2geabcSHQRhFMEwDKbZDkhHYiGXg0BUO5XxcYxPTo4M9O8xjAL0fY4wDGE3m2hWq6hubuJf33gDmq5j37598MiEETpKiU3dBvHnoBtJNLdE1HAoiloCYNJAiNpqCmSkV/zC9CLi+sYG3v/Zz2BZFh555JGO2m3K94ZhiHqtBlXToKpq5wBN1p1WCAzIpGrf91mWmnbxSFI3aWCFTaqG4TiA7JvkRY8NkkVrwZA60tmWBfA8RFJwBIBCqYSx8XFUJidRKBQ6rmGEzzdGAXoEhsD3Ud/YwA9ffBFBEOD0qVPM9ChCrJ6g7nBRSnCigUYgXXgCsdSkgT1IZpppSGzPDwJ8/NFHuHTpEmZnZ3Hy5MlM2SHlZgvFIhtx1bVRJq3lnMD1vHhGYRhCVhQoqsqmXvc6bboWB8l7Mqe8tvdP6rzDMIRMLo62bUPP57F/fh7l8fFRc8l9gFGAHmEbwjDE//e//hduLCzg+NGj2LtnD2uU4LnY/J3ZiPaz3QyBrdloYGFhAdcXFlAslXD69GkEvg+9rRD29//9v+Pv/+f/xJ//p//UklU3Gg0gilhzS68AfenyZXzzm9/Er/+7f4evfOUr2/4ekGBpWxbCKIJEDJko79sJgxQHOwXmMAyh5/OY2r0b09PTd9zYaYTPDkaX4BG2ged5/MK/+TdYXFzE+Z/8BD994QUcPXwY+/fvR0RUBLZpQtG0mAvOGDB4jos52bbnh76P2598goVr11BvNDA3N4dnzp1jt+7VahVBELSoNCiSwSoMQ7z73nv4+KOPcP36ddy4cQOGYeDJJ5/E1772tdQ1HT1yBPl8HhfeegvPP/98i3SODaYlFySHNMkYpgk6kktK4c7pRSGzPWgQbHmJhCHTPQOAXihgcmYGxWKxoyfJCPcuRgF6hI7YtWsX/vdf/VVsbGzg/Cuv4P/9/vdxaN8+HDhwIJbAEZc0URCYdK9XsOYFgWW09WoV1xYWcOPmTYxVKjhw8CB2zcxsm3IiiiICwr0CWzajYRi2KDI8z8NLL72Eq5cvQ5JlVCoVGIaxxYe38b6UO3/o4Yfx8ssvo0mMpzqtWyO8tu/7cTGR/Ajk89OZf1mCc0T8ql3HYV2WdIo6eB7FSgUTU1MoFovbJHQj3D8YBegRemJsbAy/+Eu/BONLX8Krr76KF196CbunplAoFKAqCkRZhq4oMU9L/k1mlb7nodlssp96vY5arQbHdbFv71586bnntgyRUiBKEixiCkTtMSOiAGEyN0IP/OIv/ML/39799DSxhXEc/3Xa6bQz7UWEK8JdwPX6Z2E1kVwjLkyMceGOvSsTfQO+AxO3vgYT3wEkLi4LEpNr4kYJxcXFDSHREExQEgQ6U9rpXfTMQPkXSFSO8P0k3RAgAyE/Tp9zzvPo7MOH6uvr0+zsrJ4+fbo5pXp7ycGctvh7eFj/vnqlmZkZjYyM7Pu72DpdJjbNmupRpPX19c3+JObIYLohaqasSO06f830+pC5Jp7NZtNLOL91d+vM2bMqlUodE2xwMhHQOLAgCHT37l3dunVLHz580NLSkpaXl7X86ZNWVlYUNxryfV8l35ebyykMQ62bsVKlUkmBua34+5kzGhwaUs/p02lw7cdzXYWZjDbqdeX2eJtfN+WBy5cvHzrYKleuKF8oaGpqSiM3bx64sZPjOCoWCip4Xvuat7kB2YxjNTY2JDNRO5nN2IxjyZz1LprfhR8E8gqF9k1J15Xv+2z+IcVfAg7N8zxdvXp1x8ejKNKXL1+0uLiob9++tZsZua5yjiNH7ZWwl8/LyWY35/4dQMbMAqzX6yrsMh+v1Wq1Sy1mqvahf558XpVKRdVqVXGjoWwud6gNvmRV7WSzcj1PsenFEdXrch1HQbmsfLEoPwgUmFfSWyOZjwjshoDGd+N5ngYGBjQwMCCpvWkXmcb4a2trCldXtR6GihuNdK5fdst56I6Y2jY0IO+6WjVXwbeHcLJ63qt+fBDDw8OaevdO/83OqlKpbM5HTGyvYZtni+N4sy+zmZiSLxRU7u7WQFeXfN9vl33yeYIYh0ZA44dxHCdtGJ+MX4qiKB3sWo8iNaJItShKV67JRlkyHTvZzMuaSSi1Wi1d4cbNphrNpmphqKxZPW+99NGS0lmHO3ouG0kQX7t2Ta1WS2/fvtWVSqWjQVIcx8okrUPNZO5kOK6bzyuXzyvo6lIxCFQql9MRWt/rqjxOLgIaP03ytj4IArV6etr9OMyqeHlpSbW1NTUbjbSOm1ybdpJNN8dRzZxHbqn9D6C2vq6C58kPgvR0SNqYKSmjbL1+vU3yueVSSRcvXtRMtaowitKue0nD/qRWnjH/ODzfV19Pj347dSrdNCSQ8b0R0DgSmUwmDexisZhO9tga2smKNYoibSTjqHK59jXsVkune3sVRpHkOFqv1TqGC2TULn0EQSAnm9Xq6urmqKwto7zSK9aOo7UwlHI5uWajznXd9vE5cyoleV7XtDwFfjQCGlZJatK7bQbGZnzWysqKJiYn9e79e/1x7pwGBwfT69fJJZE4jjX/+bNm5+f156VL6h8aSr/31gkwyevjx4/6Z3JSjx8/1l8XLnR8HnBUCGj8MpIyR4/pcbywsKCuri6d2mMadblc1sLCgsJ6Xf39/ft+7+fPn6tWq2l0dJRjbrAG79MASePj4+rv79f169eP+lGAFEsFHCtjY2MaGxuTJC0uLkqS3rx5owcPHkiSent79ezZs46v+fr1q16/fq1Hjx5R1oBVCGgcK9PT03rx4kXHx+bm5jQ3NydJGhwc3BHQL1++VLPZ1Ojo6E97TuAgKHHgWHny5EnHhuH21/z8/I6vGR8fV6lU0p07d37+AwP7IKBxooVhqImJCd27d4+ucbAOAY0TrVqt6vz587p///5RPwqwAzVonGg3btzQ9PT0UT8GsCsCGr+k27dvS9KeZ6CB44CZhABgKWrQAGApAhoALEVAA4ClCGgAsBQBDQCWIqABwFIENABYioAGAEsR0ABgKQIaACxFQAOApQhoALAUAQ0AliKgAcBSBDQAWIqABgBLEdAAYCkCGgAsRUADgKUIaACwFAENAJYioAHAUgQ0AFiKgAYASxHQAGApAhoALEVAA4ClCGgAsBQBDQCWIqABwFIENABYioAGAEsR0ABgKQIaACxFQAOApf4HB+TCT8EoaqIAAAAASUVORK5CYII=",
        "encoding": "base64",
        "path": [
         "value"
        ]
       }
      ],
      "model_module": "@jupyter-widgets/controls",
      "model_module_version": "1.5.0",
      "model_name": "ImageModel",
      "state": {
       "_dom_classes": [],
       "_model_module": "@jupyter-widgets/controls",
       "_model_module_version": "1.5.0",
       "_model_name": "ImageModel",
       "_view_count": null,
       "_view_module": "@jupyter-widgets/controls",
       "_view_module_version": "1.5.0",
       "_view_name": "ImageView",
       "format": "png",
       "height": "",
       "layout": "IPY_MODEL_25d7f7674b4d4515ba34b966ce5168cf",
       "value": {},
       "width": ""
      }
     },
     "77946d3dfad2419d86f0e82f0c12b817": {
      "model_module": "@jupyter-widgets/controls",
      "model_module_version": "1.5.0",
      "model_name": "DescriptionStyleModel",
      "state": {
       "_model_module": "@jupyter-widgets/controls",
       "_model_module_version": "1.5.0",
       "_model_name": "DescriptionStyleModel",
       "_view_count": null,
       "_view_module": "@jupyter-widgets/base",
       "_view_module_version": "1.2.0",
       "_view_name": "StyleView",
       "description_width": ""
      }
     },
     "77dd298926e844099916866686b66c51": {
      "model_module": "@jupyter-widgets/base",
      "model_module_version": "1.2.0",
      "model_name": "LayoutModel",
      "state": {
       "_model_module": "@jupyter-widgets/base",
       "_model_module_version": "1.2.0",
       "_model_name": "LayoutModel",
       "_view_count": null,
       "_view_module": "@jupyter-widgets/base",
       "_view_module_version": "1.2.0",
       "_view_name": "LayoutView",
       "align_content": null,
       "align_items": null,
       "align_self": null,
       "border": null,
       "bottom": null,
       "display": null,
       "flex": null,
       "flex_flow": null,
       "grid_area": null,
       "grid_auto_columns": null,
       "grid_auto_flow": null,
       "grid_auto_rows": null,
       "grid_column": null,
       "grid_gap": null,
       "grid_row": null,
       "grid_template_areas": null,
       "grid_template_columns": null,
       "grid_template_rows": null,
       "height": null,
       "justify_content": null,
       "justify_items": null,
       "left": null,
       "margin": null,
       "max_height": null,
       "max_width": null,
       "min_height": null,
       "min_width": null,
       "object_fit": null,
       "object_position": null,
       "order": null,
       "overflow": null,
       "overflow_x": null,
       "overflow_y": null,
       "padding": null,
       "right": null,
       "top": null,
       "visibility": null,
       "width": null
      }
     },
     "77f01475566b41aca1a483bc229ad414": {
      "model_module": "@jupyter-widgets/base",
      "model_module_version": "1.2.0",
      "model_name": "LayoutModel",
      "state": {
       "_model_module": "@jupyter-widgets/base",
       "_model_module_version": "1.2.0",
       "_model_name": "LayoutModel",
       "_view_count": null,
       "_view_module": "@jupyter-widgets/base",
       "_view_module_version": "1.2.0",
       "_view_name": "LayoutView",
       "align_content": null,
       "align_items": null,
       "align_self": null,
       "border": null,
       "bottom": null,
       "display": null,
       "flex": null,
       "flex_flow": null,
       "grid_area": null,
       "grid_auto_columns": null,
       "grid_auto_flow": null,
       "grid_auto_rows": null,
       "grid_column": null,
       "grid_gap": null,
       "grid_row": null,
       "grid_template_areas": null,
       "grid_template_columns": null,
       "grid_template_rows": null,
       "height": null,
       "justify_content": null,
       "justify_items": null,
       "left": null,
       "margin": null,
       "max_height": null,
       "max_width": null,
       "min_height": null,
       "min_width": null,
       "object_fit": null,
       "object_position": null,
       "order": null,
       "overflow": null,
       "overflow_x": null,
       "overflow_y": null,
       "padding": null,
       "right": null,
       "top": null,
       "visibility": null,
       "width": null
      }
     },
     "7e0e0c61b3ac4f3c85b91a4f4a3ada1b": {
      "model_module": "@jupyter-widgets/controls",
      "model_module_version": "1.5.0",
      "model_name": "HTMLModel",
      "state": {
       "_dom_classes": [],
       "_model_module": "@jupyter-widgets/controls",
       "_model_module_version": "1.5.0",
       "_model_name": "HTMLModel",
       "_view_count": null,
       "_view_module": "@jupyter-widgets/controls",
       "_view_module_version": "1.5.0",
       "_view_name": "HTMLView",
       "description": "",
       "description_tooltip": null,
       "layout": "IPY_MODEL_77f01475566b41aca1a483bc229ad414",
       "placeholder": "​",
       "style": "IPY_MODEL_be1374cdda6f4671822692e47ee461c1",
       "value": "<pre></pre>"
      }
     },
     "83077d4ebabb4a59acd9a951b1ce8822": {
      "model_module": "@jupyter-widgets/controls",
      "model_module_version": "1.5.0",
      "model_name": "ButtonModel",
      "state": {
       "_dom_classes": [],
       "_model_module": "@jupyter-widgets/controls",
       "_model_module_version": "1.5.0",
       "_model_name": "ButtonModel",
       "_view_count": null,
       "_view_module": "@jupyter-widgets/controls",
       "_view_module_version": "1.5.0",
       "_view_name": "ButtonView",
       "button_style": "",
       "description": "Check",
       "disabled": false,
       "icon": "",
       "layout": "IPY_MODEL_3191b70d554e4e8aa6a9b97916ad30ab",
       "style": "IPY_MODEL_ce7d181d669a432a97a1e520c2fdb331",
       "tooltip": ""
      }
     },
     "89f27c8215f148e7a762cd2f91617f11": {
      "model_module": "@jupyter-widgets/controls",
      "model_module_version": "1.5.0",
      "model_name": "ButtonModel",
      "state": {
       "_dom_classes": [],
       "_model_module": "@jupyter-widgets/controls",
       "_model_module_version": "1.5.0",
       "_model_name": "ButtonModel",
       "_view_count": null,
       "_view_module": "@jupyter-widgets/controls",
       "_view_module_version": "1.5.0",
       "_view_name": "ButtonView",
       "button_style": "",
       "description": "Plot",
       "disabled": false,
       "icon": "",
       "layout": "IPY_MODEL_1ed8efc7b1bc4ba4813bad7b9efc278d",
       "style": "IPY_MODEL_ac418da874324794b5859619196d0301",
       "tooltip": ""
      }
     },
     "8b5da1fa459c48d1a89a0a4acdc5f8dc": {
      "model_module": "@jupyter-widgets/base",
      "model_module_version": "1.2.0",
      "model_name": "LayoutModel",
      "state": {
       "_model_module": "@jupyter-widgets/base",
       "_model_module_version": "1.2.0",
       "_model_name": "LayoutModel",
       "_view_count": null,
       "_view_module": "@jupyter-widgets/base",
       "_view_module_version": "1.2.0",
       "_view_name": "LayoutView",
       "align_content": null,
       "align_items": null,
       "align_self": null,
       "border": null,
       "bottom": null,
       "display": null,
       "flex": null,
       "flex_flow": null,
       "grid_area": null,
       "grid_auto_columns": null,
       "grid_auto_flow": null,
       "grid_auto_rows": null,
       "grid_column": null,
       "grid_gap": null,
       "grid_row": null,
       "grid_template_areas": null,
       "grid_template_columns": null,
       "grid_template_rows": null,
       "height": null,
       "justify_content": null,
       "justify_items": null,
       "left": null,
       "margin": null,
       "max_height": null,
       "max_width": null,
       "min_height": null,
       "min_width": null,
       "object_fit": null,
       "object_position": null,
       "order": null,
       "overflow": null,
       "overflow_x": null,
       "overflow_y": null,
       "padding": null,
       "right": null,
       "top": null,
       "visibility": null,
       "width": null
      }
     },
     "9aa70658809c44c48e1c519adefd6e86": {
      "model_module": "@jupyter-widgets/base",
      "model_module_version": "1.2.0",
      "model_name": "LayoutModel",
      "state": {
       "_model_module": "@jupyter-widgets/base",
       "_model_module_version": "1.2.0",
       "_model_name": "LayoutModel",
       "_view_count": null,
       "_view_module": "@jupyter-widgets/base",
       "_view_module_version": "1.2.0",
       "_view_name": "LayoutView",
       "align_content": null,
       "align_items": null,
       "align_self": null,
       "border": null,
       "bottom": null,
       "display": null,
       "flex": null,
       "flex_flow": null,
       "grid_area": null,
       "grid_auto_columns": null,
       "grid_auto_flow": null,
       "grid_auto_rows": null,
       "grid_column": null,
       "grid_gap": null,
       "grid_row": null,
       "grid_template_areas": null,
       "grid_template_columns": null,
       "grid_template_rows": null,
       "height": null,
       "justify_content": null,
       "justify_items": null,
       "left": null,
       "margin": null,
       "max_height": null,
       "max_width": null,
       "min_height": null,
       "min_width": null,
       "object_fit": null,
       "object_position": null,
       "order": null,
       "overflow": null,
       "overflow_x": null,
       "overflow_y": null,
       "padding": null,
       "right": null,
       "top": null,
       "visibility": null,
       "width": null
      }
     },
     "9c7f09dd65d24fc69e0156d3d90fcc42": {
      "model_module": "@jupyter-widgets/base",
      "model_module_version": "1.2.0",
      "model_name": "LayoutModel",
      "state": {
       "_model_module": "@jupyter-widgets/base",
       "_model_module_version": "1.2.0",
       "_model_name": "LayoutModel",
       "_view_count": null,
       "_view_module": "@jupyter-widgets/base",
       "_view_module_version": "1.2.0",
       "_view_name": "LayoutView",
       "align_content": null,
       "align_items": null,
       "align_self": null,
       "border": null,
       "bottom": null,
       "display": null,
       "flex": null,
       "flex_flow": null,
       "grid_area": null,
       "grid_auto_columns": null,
       "grid_auto_flow": null,
       "grid_auto_rows": null,
       "grid_column": null,
       "grid_gap": null,
       "grid_row": null,
       "grid_template_areas": null,
       "grid_template_columns": null,
       "grid_template_rows": null,
       "height": null,
       "justify_content": null,
       "justify_items": null,
       "left": null,
       "margin": null,
       "max_height": null,
       "max_width": null,
       "min_height": null,
       "min_width": null,
       "object_fit": null,
       "object_position": null,
       "order": null,
       "overflow": null,
       "overflow_x": null,
       "overflow_y": null,
       "padding": null,
       "right": null,
       "top": null,
       "visibility": null,
       "width": null
      }
     },
     "a74bbee6862d404897e5f264a1e6edc8": {
      "model_module": "@jupyter-widgets/output",
      "model_module_version": "1.0.0",
      "model_name": "OutputModel",
      "state": {
       "_dom_classes": [],
       "_model_module": "@jupyter-widgets/output",
       "_model_module_version": "1.0.0",
       "_model_name": "OutputModel",
       "_view_count": null,
       "_view_module": "@jupyter-widgets/output",
       "_view_module_version": "1.0.0",
       "_view_name": "OutputView",
       "layout": "IPY_MODEL_77dd298926e844099916866686b66c51",
       "msg_id": "",
       "outputs": []
      }
     },
     "aa13028426bb45f888ac52222470b9fd": {
      "model_module": "@jupyter-widgets/controls",
      "model_module_version": "1.5.0",
      "model_name": "VBoxModel",
      "state": {
       "_dom_classes": [],
       "_model_module": "@jupyter-widgets/controls",
       "_model_module_version": "1.5.0",
       "_model_name": "VBoxModel",
       "_view_count": null,
       "_view_module": "@jupyter-widgets/controls",
       "_view_module_version": "1.5.0",
       "_view_name": "VBoxView",
       "box_style": "",
       "children": [
        "IPY_MODEL_487dd0b56c35463ea6f673b344a07406",
        "IPY_MODEL_d4000af0c7e54705943af08767f66d60",
        "IPY_MODEL_c464f275191645d1bc0854f8368755bc"
       ],
       "layout": "IPY_MODEL_18a5fa494c7e47f4a626804eab4d5d60"
      }
     },
     "aa98b1360c18435aaaeacd35a64d651b": {
      "model_module": "@jupyter-widgets/base",
      "model_module_version": "1.2.0",
      "model_name": "LayoutModel",
      "state": {
       "_model_module": "@jupyter-widgets/base",
       "_model_module_version": "1.2.0",
       "_model_name": "LayoutModel",
       "_view_count": null,
       "_view_module": "@jupyter-widgets/base",
       "_view_module_version": "1.2.0",
       "_view_name": "LayoutView",
       "align_content": null,
       "align_items": null,
       "align_self": null,
       "border": null,
       "bottom": null,
       "display": null,
       "flex": null,
       "flex_flow": null,
       "grid_area": null,
       "grid_auto_columns": null,
       "grid_auto_flow": null,
       "grid_auto_rows": null,
       "grid_column": null,
       "grid_gap": null,
       "grid_row": null,
       "grid_template_areas": null,
       "grid_template_columns": null,
       "grid_template_rows": null,
       "height": null,
       "justify_content": null,
       "justify_items": null,
       "left": null,
       "margin": null,
       "max_height": null,
       "max_width": null,
       "min_height": null,
       "min_width": null,
       "object_fit": null,
       "object_position": null,
       "order": null,
       "overflow": null,
       "overflow_x": null,
       "overflow_y": null,
       "padding": null,
       "right": null,
       "top": null,
       "visibility": null,
       "width": null
      }
     },
     "ac418da874324794b5859619196d0301": {
      "model_module": "@jupyter-widgets/controls",
      "model_module_version": "1.5.0",
      "model_name": "ButtonStyleModel",
      "state": {
       "_model_module": "@jupyter-widgets/controls",
       "_model_module_version": "1.5.0",
       "_model_name": "ButtonStyleModel",
       "_view_count": null,
       "_view_module": "@jupyter-widgets/base",
       "_view_module_version": "1.2.0",
       "_view_name": "StyleView",
       "button_color": null,
       "font_weight": ""
      }
     },
     "b75b9fab8c95454787407840352d1a7a": {
      "model_module": "@jupyter-widgets/controls",
      "model_module_version": "1.5.0",
      "model_name": "TextModel",
      "state": {
       "_dom_classes": [],
       "_model_module": "@jupyter-widgets/controls",
       "_model_module_version": "1.5.0",
       "_model_name": "TextModel",
       "_view_count": null,
       "_view_module": "@jupyter-widgets/controls",
       "_view_module_version": "1.5.0",
       "_view_name": "TextView",
       "continuous_update": true,
       "description": "",
       "description_tooltip": null,
       "disabled": false,
       "layout": "IPY_MODEL_0e3a9250b3134696b859f0cc876d05fd",
       "placeholder": "Phi",
       "style": "IPY_MODEL_be5507940a5142c4849eb527759d0fb4",
       "value": ""
      }
     },
     "be1374cdda6f4671822692e47ee461c1": {
      "model_module": "@jupyter-widgets/controls",
      "model_module_version": "1.5.0",
      "model_name": "DescriptionStyleModel",
      "state": {
       "_model_module": "@jupyter-widgets/controls",
       "_model_module_version": "1.5.0",
       "_model_name": "DescriptionStyleModel",
       "_view_count": null,
       "_view_module": "@jupyter-widgets/base",
       "_view_module_version": "1.2.0",
       "_view_name": "StyleView",
       "description_width": ""
      }
     },
     "be5507940a5142c4849eb527759d0fb4": {
      "model_module": "@jupyter-widgets/controls",
      "model_module_version": "1.5.0",
      "model_name": "DescriptionStyleModel",
      "state": {
       "_model_module": "@jupyter-widgets/controls",
       "_model_module_version": "1.5.0",
       "_model_name": "DescriptionStyleModel",
       "_view_count": null,
       "_view_module": "@jupyter-widgets/base",
       "_view_module_version": "1.2.0",
       "_view_name": "StyleView",
       "description_width": ""
      }
     },
     "c464f275191645d1bc0854f8368755bc": {
      "model_module": "@jupyter-widgets/controls",
      "model_module_version": "1.5.0",
      "model_name": "HBoxModel",
      "state": {
       "_dom_classes": [],
       "_model_module": "@jupyter-widgets/controls",
       "_model_module_version": "1.5.0",
       "_model_name": "HBoxModel",
       "_view_count": null,
       "_view_module": "@jupyter-widgets/controls",
       "_view_module_version": "1.5.0",
       "_view_name": "HBoxView",
       "box_style": "",
       "children": [
        "IPY_MODEL_b75b9fab8c95454787407840352d1a7a",
        "IPY_MODEL_89f27c8215f148e7a762cd2f91617f11"
       ],
       "layout": "IPY_MODEL_5017adfdba004a4f8c140edfffda1e2b"
      }
     },
     "ce7d181d669a432a97a1e520c2fdb331": {
      "model_module": "@jupyter-widgets/controls",
      "model_module_version": "1.5.0",
      "model_name": "ButtonStyleModel",
      "state": {
       "_model_module": "@jupyter-widgets/controls",
       "_model_module_version": "1.5.0",
       "_model_name": "ButtonStyleModel",
       "_view_count": null,
       "_view_module": "@jupyter-widgets/base",
       "_view_module_version": "1.2.0",
       "_view_name": "StyleView",
       "button_color": null,
       "font_weight": ""
      }
     },
     "d4000af0c7e54705943af08767f66d60": {
      "model_module": "@jupyter-widgets/controls",
      "model_module_version": "1.5.0",
      "model_name": "TextModel",
      "state": {
       "_dom_classes": [],
       "_model_module": "@jupyter-widgets/controls",
       "_model_module_version": "1.5.0",
       "_model_name": "TextModel",
       "_view_count": null,
       "_view_module": "@jupyter-widgets/controls",
       "_view_module_version": "1.5.0",
       "_view_name": "TextView",
       "continuous_update": true,
       "description": "",
       "description_tooltip": null,
       "disabled": false,
       "layout": "IPY_MODEL_f0a97ff9eba245c08d02316dbfe58b43",
       "placeholder": "Theta",
       "style": "IPY_MODEL_69d46725a9e34490a72d75461a2b1116",
       "value": ""
      }
     },
     "f05cb3fe8b754d66b697feca50af0cac": {
      "model_module": "@jupyter-widgets/controls",
      "model_module_version": "1.5.0",
      "model_name": "DescriptionStyleModel",
      "state": {
       "_model_module": "@jupyter-widgets/controls",
       "_model_module_version": "1.5.0",
       "_model_name": "DescriptionStyleModel",
       "_view_count": null,
       "_view_module": "@jupyter-widgets/base",
       "_view_module_version": "1.2.0",
       "_view_name": "StyleView",
       "description_width": ""
      }
     },
     "f0a97ff9eba245c08d02316dbfe58b43": {
      "model_module": "@jupyter-widgets/base",
      "model_module_version": "1.2.0",
      "model_name": "LayoutModel",
      "state": {
       "_model_module": "@jupyter-widgets/base",
       "_model_module_version": "1.2.0",
       "_model_name": "LayoutModel",
       "_view_count": null,
       "_view_module": "@jupyter-widgets/base",
       "_view_module_version": "1.2.0",
       "_view_name": "LayoutView",
       "align_content": null,
       "align_items": null,
       "align_self": null,
       "border": null,
       "bottom": null,
       "display": null,
       "flex": null,
       "flex_flow": null,
       "grid_area": null,
       "grid_auto_columns": null,
       "grid_auto_flow": null,
       "grid_auto_rows": null,
       "grid_column": null,
       "grid_gap": null,
       "grid_row": null,
       "grid_template_areas": null,
       "grid_template_columns": null,
       "grid_template_rows": null,
       "height": null,
       "justify_content": null,
       "justify_items": null,
       "left": null,
       "margin": null,
       "max_height": null,
       "max_width": null,
       "min_height": null,
       "min_width": null,
       "object_fit": null,
       "object_position": null,
       "order": null,
       "overflow": null,
       "overflow_x": null,
       "overflow_y": null,
       "padding": null,
       "right": null,
       "top": null,
       "visibility": null,
       "width": null
      }
     }
    },
    "version_major": 2,
    "version_minor": 0
   }
  }
 },
 "nbformat": 4,
 "nbformat_minor": 2
}
